{
  "nbformat": 4,
  "nbformat_minor": 0,
  "metadata": {
    "colab": {
      "provenance": [],
      "gpuType": "T4"
    },
    "kernelspec": {
      "name": "python3",
      "display_name": "Python 3"
    },
    "language_info": {
      "name": "python"
    },
    "accelerator": "GPU"
  },
  "cells": [
    {
      "cell_type": "code",
      "source": [
        "import torch\n",
        "import torch.nn as nn\n",
        "import torch.nn.functional as F\n",
        "\n",
        "class Block(nn.Module):\n",
        "    def __init__(self, in_channels, out_channels, down=True, act=\"relu\", use_dropout=False):\n",
        "        super(Block, self).__init__()\n",
        "        self.conv = nn.Sequential(\n",
        "            nn.Conv2d(in_channels, out_channels, 4, 2, 1, bias=False, padding_mode=\"reflect\")\n",
        "            if down\n",
        "            else nn.ConvTranspose2d(in_channels, out_channels, 4, 2, 1, bias=False),\n",
        "            nn.BatchNorm2d(out_channels),\n",
        "            nn.ReLU() if act == \"relu\" else nn.LeakyReLU(0.2),\n",
        "        )\n",
        "        self.use_dropout = use_dropout\n",
        "        self.dropout = nn.Dropout(0.5)\n",
        "\n",
        "    def forward(self, x):\n",
        "        x = self.conv(x)\n",
        "        return self.dropout(x) if self.use_dropout else x\n",
        "\n",
        "class BahdanauAttentionNet(nn.Module):\n",
        "    def __init__(self, in_channels):\n",
        "        super(BahdanauAttentionNet, self).__init__()\n",
        "        self.fc = nn.Sequential(\n",
        "            nn.Conv2d(in_channels, in_channels // 8, kernel_size=1),\n",
        "            nn.ReLU(),\n",
        "            nn.Conv2d(in_channels // 8, 1, kernel_size=1)  # Output scalar score for attention\n",
        "        )\n",
        "\n",
        "    def forward(self, x):\n",
        "        return self.fc(x)\n",
        "\n",
        "class InnerUNet(nn.Module):\n",
        "    def __init__(self, in_channels=128, features=64):\n",
        "        super(InnerUNet, self).__init__()\n",
        "        self.down1 = Block(128, 64, down=True, act=\"leaky\", use_dropout=False)\n",
        "        self.down2 = Block(64, 128, down=True, act=\"leaky\", use_dropout=False)\n",
        "        self.down3 = Block(128, 256, down=True, act=\"leaky\", use_dropout=False)\n",
        "        self.down4 = Block(256, 512, down=True, act=\"leaky\", use_dropout=False)\n",
        "\n",
        "        self.bottleneck = nn.Sequential(\n",
        "            nn.Conv2d(512, 512, 4, 2, 1), nn.ReLU()\n",
        "        )\n",
        "\n",
        "        self.up1 = Block(512, 256, down=False, act=\"relu\", use_dropout=False)\n",
        "        self.up2 = Block(256 + 256, 128, down=False, act=\"relu\", use_dropout=False)\n",
        "        self.up3 = Block(128 + 128, 64, down=False, act=\"relu\", use_dropout=False)\n",
        "        self.up4 = Block(64 + 64, 256, down=False, act=\"relu\", use_dropout=False)\n",
        "\n",
        "    def forward(self, x):\n",
        "        d1 = self.down1(x)\n",
        "        d2 = self.down2(d1)\n",
        "        d3 = self.down3(d2)\n",
        "        d4 = self.down4(d3)\n",
        "        bottleneck = self.bottleneck(d4)\n",
        "        up1 = self.up1(d4)\n",
        "        up2 = self.up2(torch.cat([up1, d3], dim=1))\n",
        "        up3 = self.up3(torch.cat([up2, d2], dim=1))\n",
        "        up4 = self.up4(torch.cat([up3, d1], dim=1))\n",
        "\n",
        "        return bottleneck, up2, up4, d4\n",
        "\n",
        "class OuterUNet(nn.Module):\n",
        "    def __init__(self, in_channels, features=64):  # Assuming [bs, 3,512,512] input and features == 64\n",
        "        super(OuterUNet, self).__init__()\n",
        "        self.down1 = nn.Sequential(\n",
        "            nn.Conv2d(in_channels, 64, 4, 2, 1, padding_mode=\"reflect\"),\n",
        "            nn.LeakyReLU(0.2),\n",
        "        )\n",
        "        self.down2 = Block(64 , 128, down=True, act=\"leaky\", use_dropout=False)\n",
        "        self.down3 = Block(128, 256, down=True, act=\"leaky\", use_dropout=False)\n",
        "        self.down4 = Block(256, 512, down=True, act=\"leaky\", use_dropout=False)\n",
        "        self.down5 = Block(512, 512, down=True, act=\"leaky\", use_dropout=False)\n",
        "        self.down6 = Block(512, 512, down=True, act=\"leaky\", use_dropout=False)\n",
        "        self.down7 = nn.Sequential(\n",
        "            nn.Conv2d(512, 512, 4, 2, 1), nn.ReLU()\n",
        "        )\n",
        "        self.inner_unet = InnerUNet(128, 64)\n",
        "\n",
        "        self.up1 = Block(512 + 512 , 512, down=False, act=\"relu\", use_dropout=True)\n",
        "        self.up2 = Block(512 + 512, 512, down=False, act=\"relu\", use_dropout=True)\n",
        "        self.up3 = Block(512 + 512, 512, down=False, act=\"relu\", use_dropout=True)\n",
        "        self.up4 = Block(512 + 128, 512, down=False, act=\"relu\", use_dropout=False)  # Adjusted input channels to match\n",
        "        self.up5 = Block(512 + 256, 256, down=False, act=\"relu\", use_dropout=False)\n",
        "        self.up6 = Block(256 + 256, 128, down=False, act=\"relu\", use_dropout=False)\n",
        "        self.up7 = Block(128 + 64, 3, down=False, act=\"relu\", use_dropout=False)\n",
        "\n",
        "        # Bahdanau attention network for h1 and h2\n",
        "        self.attention_net = BahdanauAttentionNet(in_channels=640)\n",
        "\n",
        "    def forward(self, x):\n",
        "        device = x.device  # Ensure we get the device from input tensor\n",
        "\n",
        "        d1 = self.down1(x)\n",
        "        d2 = self.down2(d1)\n",
        "        d3 = self.down3(d2)\n",
        "        d4 = self.down4(d3)\n",
        "        d5 = self.down5(d4)\n",
        "        d6 = self.down6(d5)\n",
        "        d7 = self.down7(d6)\n",
        "\n",
        "        bottleneck_inner, up2_inner, up4_inner, d4_inner = self.inner_unet(d2)\n",
        "\n",
        "        up1 = self.up1(torch.cat([d7, bottleneck_inner], dim=1))\n",
        "        up2 = self.up2(torch.cat([d4_inner, up1], dim=1))\n",
        "        up3 = self.up3(torch.cat([up2, d5], dim=1))\n",
        "\n",
        "        # Move the convolution to the same device as input `d4`\n",
        "        conv = nn.Conv2d(512, 128, kernel_size=1).to(device)  # Ensure conv is on the same device as d4\n",
        "\n",
        "        d4_reduced = conv(d4)\n",
        "\n",
        "        h1 = torch.cat([up3, d4_reduced], dim=1)  #640\n",
        "        h2 = torch.cat([up3, up2_inner], dim=1)  #640\n",
        "\n",
        "        e1 = self.attention_net(h1)\n",
        "        e2 = self.attention_net(h2)\n",
        "\n",
        "        attention_weights = torch.softmax(torch.cat([e1, e2], dim=1), dim=1)\n",
        "        a1, a2 = torch.split(attention_weights, 1, dim=1)\n",
        "\n",
        "        def compute_entropy(attention_map):\n",
        "            device = attention_map.device\n",
        "\n",
        "            # Flatten the attention map for the entire batch\n",
        "            batch_size = attention_map.size(0)  # Get the batch size\n",
        "            flattened_attention_map = attention_map.view(batch_size, -1)  # Flatten each sample in the batch\n",
        "\n",
        "            # Apply softmax across the flattened tensor for each sample in the batch\n",
        "            probs = torch.softmax(flattened_attention_map, dim=1)\n",
        "\n",
        "            # Compute entropy for each sample in the batch simultaneously\n",
        "            entropy = -torch.sum(probs * torch.log(probs + 1e-10), dim=1)  # Compute entropy for each sample\n",
        "\n",
        "            # Aggregate the entropy values (mean or sum)\n",
        "            aggregated_entropy = torch.mean(entropy)  # Aggregating by mean\n",
        "\n",
        "            return aggregated_entropy\n",
        "\n",
        "        entropy_a1 = compute_entropy(a1)\n",
        "        entropy_a2 = compute_entropy(a2)\n",
        "\n",
        "        # Compute weighted sum: a1 * d4 + a2 * up2_inner\n",
        "        weighted_sum = a1 * d4_reduced +  a2 * up2_inner\n",
        "\n",
        "        # Pass weighted sum to up4\n",
        "        up4 = self.up4(torch.cat([weighted_sum, up3], dim=1))\n",
        "        up5 = self.up5(torch.cat([up4, d3], dim=1))\n",
        "        up6 = self.up6(torch.cat([up4_inner, up5], dim=1))\n",
        "        up7 = self.up7(torch.cat([up6, d1], dim=1))\n",
        "\n",
        "        return up7, entropy_a1.item(), entropy_a2.item()\n",
        "\n",
        "\n",
        "def test_model():\n",
        "    device = torch.device(\"cuda\" if torch.cuda.is_available() else \"cpu\")\n",
        "    x = torch.randn((32, 3, 512, 512)).to(device)\n",
        "    model = OuterUNet(3, 64).to(device)\n",
        "\n",
        "    with torch.no_grad():\n",
        "        preds, e_1, e_2 = model(x)\n",
        "    print(preds.shape)\n",
        "    print(e_1)\n",
        "    print(e_2)\n",
        "\n",
        "test_model()\n"
      ],
      "metadata": {
        "colab": {
          "base_uri": "https://localhost:8080/"
        },
        "id": "TMPGk-gZ9qky",
        "outputId": "03e755f2-a152-4b2e-f689-ab74e7a7655b"
      },
      "execution_count": 1,
      "outputs": [
        {
          "output_type": "stream",
          "name": "stdout",
          "text": [
            "torch.Size([32, 3, 512, 512])\n",
            "6.931302070617676\n",
            "6.931302547454834\n"
          ]
        }
      ]
    },
    {
      "cell_type": "code",
      "execution_count": 13,
      "metadata": {
        "id": "RUw9hayMMmBU"
      },
      "outputs": [],
      "source": [
        "import torch\n",
        "import torch.nn as nn\n",
        "import torch.optim as optim\n",
        "from torch.utils.data import DataLoader, Dataset, random_split\n",
        "from torchvision import transforms\n",
        "from torchvision.datasets import ImageFolder\n",
        "import os\n",
        "from PIL import Image\n",
        "from tqdm import tqdm\n",
        "from torchvision.utils import save_image\n",
        "# local module imports\n",
        "import config\n",
        "from utils import save_checkpoint, load_checkpoint\n",
        "from UvU_Net_Generator import OuterUNet as generator\n",
        "from UvU_Discriminator import Discriminator\n",
        "\n",
        "torch.backends.cudnn.benchmark = True"
      ]
    },
    {
      "cell_type": "code",
      "source": [
        "def train_fn(\n",
        "    disc, gen, loader, opt_disc, opt_gen, l1_loss, bce, g_scaler, d_scaler,\n",
        "):\n",
        "    loop = tqdm(loader, leave=True)\n",
        "    entropy_a1_epoch = 0  # To store accumulated entropy for the epoch\n",
        "    entropy_a2_epoch = 0\n",
        "\n",
        "    for idx, (x, y) in enumerate(loop):\n",
        "        x = x.to(config.DEVICE)\n",
        "        y = y.to(config.DEVICE)\n",
        "\n",
        "        # Train Discriminator\n",
        "        with torch.cuda.amp.autocast():\n",
        "            print(\"Shape of X: \", x.shape)\n",
        "            y_fake, entropy_a1, entropy_a2 = gen(x)  # Generate y_fake with entropy outputs\n",
        "            print(y_fake.shape, f\"Entropy A1: {entropy_a1}, Entropy A2: {entropy_a2}\")\n",
        "            D_real = disc(x, y)\n",
        "            D_real_loss = bce(D_real, torch.ones_like(D_real))\n",
        "            D_fake = disc(x, y_fake.detach())\n",
        "            D_fake_loss = bce(D_fake, torch.zeros_like(D_fake))\n",
        "            D_loss = (D_real_loss + D_fake_loss) / 2\n",
        "\n",
        "        disc.zero_grad()\n",
        "        d_scaler.scale(D_loss).backward()\n",
        "        d_scaler.step(opt_disc)\n",
        "        d_scaler.update()\n",
        "\n",
        "        # Train Generator\n",
        "        with torch.cuda.amp.autocast():\n",
        "            D_fake = disc(x, y_fake)\n",
        "            G_fake_loss = bce(D_fake, torch.ones_like(D_fake))\n",
        "            L1 = l1_loss(y_fake, y) * config.L1_LAMBDA\n",
        "            G_loss = G_fake_loss + L1\n",
        "\n",
        "        opt_gen.zero_grad()\n",
        "        g_scaler.scale(G_loss).backward()\n",
        "        g_scaler.step(opt_gen)\n",
        "        g_scaler.update()\n",
        "\n",
        "        # Accumulate entropy for average calculation\n",
        "        entropy_a1_epoch += entropy_a1\n",
        "        entropy_a2_epoch += entropy_a2\n",
        "\n",
        "        # Print every 10 steps\n",
        "        if idx % 10 == 0:\n",
        "            loop.set_postfix(\n",
        "                D_real=torch.sigmoid(D_real).mean().item(),\n",
        "                D_fake=torch.sigmoid(D_fake).mean().item(),\n",
        "            )\n",
        "\n",
        "    # Calculate and return the average entropy for the epoch\n",
        "    avg_entropy_a1 = entropy_a1_epoch / len(loader)\n",
        "    avg_entropy_a2 = entropy_a2_epoch / len(loader)\n",
        "\n",
        "    return avg_entropy_a1, avg_entropy_a2\n"
      ],
      "metadata": {
        "id": "MdeUMoFhmXDe"
      },
      "execution_count": 4,
      "outputs": []
    },
    {
      "cell_type": "code",
      "source": [
        "!unzip -q Sample_dataset.zip"
      ],
      "metadata": {
        "id": "_m33-oG-xdu0"
      },
      "execution_count": 5,
      "outputs": []
    },
    {
      "cell_type": "code",
      "source": [
        "class PairedImageDataset(Dataset):\n",
        "    def __init__(self, input_dir, target_dir, transform=None):\n",
        "        self.input_dir = input_dir\n",
        "        self.target_dir = target_dir\n",
        "        self.input_images = sorted(os.listdir(input_dir))\n",
        "        self.target_images = sorted(os.listdir(target_dir))\n",
        "        self.transform = transform\n",
        "\n",
        "        assert len(self.input_images) == len(self.target_images), \"Mismatch between input and target images!\"\n",
        "\n",
        "    def __len__(self):\n",
        "        return len(self.input_images)\n",
        "\n",
        "    def __getitem__(self, idx):\n",
        "        input_image_path = os.path.join(self.input_dir, self.input_images[idx])\n",
        "        target_image_path = os.path.join(self.target_dir, self.target_images[idx])\n",
        "\n",
        "        input_image = Image.open(input_image_path).convert(\"RGB\")\n",
        "        target_image = Image.open(target_image_path).convert(\"RGB\")\n",
        "\n",
        "        if self.transform:\n",
        "            input_image = self.transform(input_image)\n",
        "            target_image = self.transform(target_image)\n",
        "\n",
        "        return input_image, target_image\n",
        "\n",
        "\n",
        "input_dir = '/content/Sample_dataset/sobel_images'\n",
        "target_dir = '/content/Sample_dataset/input_images'\n",
        "\n",
        "transform = transforms.Compose([\n",
        "    transforms.Resize((256, 256)),\n",
        "    transforms.ToTensor()\n",
        "])\n",
        "\n",
        "dataset = PairedImageDataset(input_dir=input_dir, target_dir=target_dir, transform=transform)\n",
        "\n",
        "# Split dataset into training and validation (80-20 split)\n",
        "train_size = int(0.8 * len(dataset))\n",
        "val_size = len(dataset) - train_size\n",
        "train_dataset, val_dataset = random_split(dataset, [train_size, val_size])\n",
        "\n",
        "# Create DataLoader for training and validation\n",
        "batch_size = 16\n",
        "\n",
        "train_loader = DataLoader(train_dataset, batch_size=batch_size, shuffle=True)\n",
        "val_loader = DataLoader(val_dataset, batch_size=batch_size, shuffle=True)\n",
        "\n",
        "# Example to iterate over the data loader\n",
        "for batch_idx, (input_images, target_images) in enumerate(train_loader):\n",
        "    print(f\"Batch {batch_idx + 1}\")\n",
        "    print(f\"Input batch size: {input_images.shape}\")\n",
        "    print(f\"Target batch size: {target_images.shape}\")\n"
      ],
      "metadata": {
        "colab": {
          "base_uri": "https://localhost:8080/"
        },
        "id": "CA2OrLxVQGma",
        "outputId": "f56aa719-f2c0-4cff-ed7c-5581bf0b72bd"
      },
      "execution_count": 6,
      "outputs": [
        {
          "output_type": "stream",
          "name": "stdout",
          "text": [
            "Batch 1\n",
            "Input batch size: torch.Size([16, 3, 256, 256])\n",
            "Target batch size: torch.Size([16, 3, 256, 256])\n",
            "Batch 2\n",
            "Input batch size: torch.Size([4, 3, 256, 256])\n",
            "Target batch size: torch.Size([4, 3, 256, 256])\n"
          ]
        }
      ]
    },
    {
      "cell_type": "code",
      "source": [],
      "metadata": {
        "id": "41zAIlMTqsRc"
      },
      "execution_count": null,
      "outputs": []
    },
    {
      "cell_type": "code",
      "source": [
        "from google.colab import drive\n",
        "drive.mount('/content/drive')"
      ],
      "metadata": {
        "colab": {
          "base_uri": "https://localhost:8080/"
        },
        "id": "a148rpavqstc",
        "outputId": "276d17a7-165e-4c13-c0cc-baa1b2ea2bff"
      },
      "execution_count": 9,
      "outputs": [
        {
          "output_type": "stream",
          "name": "stdout",
          "text": [
            "Mounted at /content/drive\n"
          ]
        }
      ]
    },
    {
      "cell_type": "code",
      "source": [
        "# Assuming the directory to save checkpoints\n",
        "save_dir = '/content/drive/MyDrive/model_checkpoints/'  # Change this to your desired directory\n",
        "def save_some_examples(gen, val_loader, epoch, folder):\n",
        "    x, y = next(iter(val_loader))\n",
        "    x, y = x.to(config.DEVICE), y.to(config.DEVICE)\n",
        "    gen.eval()\n",
        "    with torch.no_grad():\n",
        "        print(\"Shape of x at save: \", x.shape)\n",
        "        y_fake, e1, e2 = gen(x)\n",
        "        y_fake = y_fake * 0.5 + 0.5  # remove normalization#\n",
        "        save_image(y_fake, folder + f\"/y_gen_{epoch}.png\")\n",
        "        save_image(x * 0.5 + 0.5, folder + f\"/input_{epoch}.png\")\n",
        "        if epoch == 1:\n",
        "            save_image(y * 0.5 + 0.5, folder + f\"/label_{epoch}.png\")\n",
        "    gen.train()\n",
        "\n",
        "def main():\n",
        "    disc = Discriminator(in_channels=3).to(config.DEVICE)\n",
        "    gen = generator(in_channels=3, features=64).to(config.DEVICE)\n",
        "    opt_disc = optim.Adam(disc.parameters(), lr=config.LEARNING_RATE, betas=(0.5, 0.999))\n",
        "    opt_gen = optim.Adam(gen.parameters(), lr=config.LEARNING_RATE, betas=(0.5, 0.999))\n",
        "    BCE = nn.BCEWithLogitsLoss()\n",
        "    L1_LOSS = nn.L1Loss()\n",
        "\n",
        "    if config.LOAD_MODEL:\n",
        "        load_checkpoint(\n",
        "            config.CHECKPOINT_GEN, gen, opt_gen, config.LEARNING_RATE,\n",
        "        )\n",
        "        load_checkpoint(\n",
        "            config.CHECKPOINT_DISC, disc, opt_disc, config.LEARNING_RATE,\n",
        "        )\n",
        "\n",
        "    g_scaler = torch.cuda.amp.GradScaler()\n",
        "    d_scaler = torch.cuda.amp.GradScaler()\n",
        "    for epoch in range(config.NUM_EPOCHS):\n",
        "        entropy_a1, entropy_a2 = train_fn(\n",
        "            disc, gen, train_loader, opt_disc, opt_gen, L1_LOSS, BCE, g_scaler, d_scaler,\n",
        "        )\n",
        "\n",
        "        # Print entropy values\n",
        "        print(f\"Epoch [{epoch + 1}/{config.NUM_EPOCHS}], Avg Entropy A1: {entropy_a1}, Avg Entropy A2: {entropy_a2}\")\n",
        "        # Save models every 50 epochs to Google Drive\n",
        "        if epoch % 50 == 49:\n",
        "            print(f\"Saving model at epoch {epoch}\")\n",
        "            torch.save({\n",
        "                'epoch': epoch,\n",
        "                'generator_state_dict': gen.state_dict(),\n",
        "                'optimizer_gen_state_dict': opt_gen.state_dict(),\n",
        "            }, f\"{save_dir}generator_epoch_{epoch}.pth\")\n",
        "\n",
        "            torch.save({\n",
        "                'epoch': epoch,\n",
        "                'discriminator_state_dict': disc.state_dict(),\n",
        "                'optimizer_disc_state_dict': opt_disc.state_dict(),\n",
        "            }, f\"{save_dir}discriminator_epoch_{epoch}.pth\")\n",
        "\n",
        "            save_some_examples(gen, val_loader, epoch, folder=\"evaluation\")\n",
        "\n",
        "\n",
        "if __name__ == \"__main__\":\n",
        "    main()\n"
      ],
      "metadata": {
        "colab": {
          "base_uri": "https://localhost:8080/"
        },
        "id": "BwVP9LCMrXuk",
        "outputId": "3a3e32b9-e6c1-4f38-bb5b-b2d876f13c37"
      },
      "execution_count": 14,
      "outputs": [
        {
          "output_type": "stream",
          "name": "stderr",
          "text": [
            "<ipython-input-14-d6a184c76145>:33: FutureWarning: `torch.cuda.amp.GradScaler(args...)` is deprecated. Please use `torch.amp.GradScaler('cuda', args...)` instead.\n",
            "  g_scaler = torch.cuda.amp.GradScaler()\n",
            "<ipython-input-14-d6a184c76145>:34: FutureWarning: `torch.cuda.amp.GradScaler(args...)` is deprecated. Please use `torch.amp.GradScaler('cuda', args...)` instead.\n",
            "  d_scaler = torch.cuda.amp.GradScaler()\n",
            "  0%|          | 0/2 [00:00<?, ?it/s]<ipython-input-4-591140532064>:13: FutureWarning: `torch.cuda.amp.autocast(args...)` is deprecated. Please use `torch.amp.autocast('cuda', args...)` instead.\n",
            "  with torch.cuda.amp.autocast():\n",
            "<ipython-input-4-591140532064>:29: FutureWarning: `torch.cuda.amp.autocast(args...)` is deprecated. Please use `torch.amp.autocast('cuda', args...)` instead.\n",
            "  with torch.cuda.amp.autocast():\n"
          ]
        },
        {
          "output_type": "stream",
          "name": "stdout",
          "text": [
            "Shape of X:  torch.Size([16, 3, 256, 256])\n",
            "torch.Size([16, 3, 256, 256]) Entropy A1: 5.544980525970459, Entropy A2: 5.544981956481934\n"
          ]
        },
        {
          "output_type": "stream",
          "name": "stderr",
          "text": [
            "100%|██████████| 2/2 [00:00<00:00,  4.15it/s, D_fake=0.422, D_real=0.536]\n"
          ]
        },
        {
          "output_type": "stream",
          "name": "stdout",
          "text": [
            "Shape of X:  torch.Size([4, 3, 256, 256])\n",
            "torch.Size([4, 3, 256, 256]) Entropy A1: 5.5449934005737305, Entropy A2: 5.544992446899414\n",
            "Epoch [1/500], Avg Entropy A1: 5.544986963272095, Avg Entropy A2: 5.544987201690674\n"
          ]
        },
        {
          "output_type": "stream",
          "name": "stderr",
          "text": [
            "\r  0%|          | 0/2 [00:00<?, ?it/s]"
          ]
        },
        {
          "output_type": "stream",
          "name": "stdout",
          "text": [
            "Shape of X:  torch.Size([16, 3, 256, 256])\n",
            "torch.Size([16, 3, 256, 256]) Entropy A1: 5.544995307922363, Entropy A2: 5.5449934005737305\n"
          ]
        },
        {
          "output_type": "stream",
          "name": "stderr",
          "text": [
            "100%|██████████| 2/2 [00:00<00:00,  4.73it/s, D_fake=0.48, D_real=0.503]\n"
          ]
        },
        {
          "output_type": "stream",
          "name": "stdout",
          "text": [
            "Shape of X:  torch.Size([4, 3, 256, 256])\n",
            "torch.Size([4, 3, 256, 256]) Entropy A1: 5.544968605041504, Entropy A2: 5.544966220855713\n",
            "Epoch [2/500], Avg Entropy A1: 5.544981956481934, Avg Entropy A2: 5.544979810714722\n"
          ]
        },
        {
          "output_type": "stream",
          "name": "stderr",
          "text": [
            "\r  0%|          | 0/2 [00:00<?, ?it/s]"
          ]
        },
        {
          "output_type": "stream",
          "name": "stdout",
          "text": [
            "Shape of X:  torch.Size([16, 3, 256, 256])\n",
            "torch.Size([16, 3, 256, 256]) Entropy A1: 5.545011043548584, Entropy A2: 5.545009613037109\n"
          ]
        },
        {
          "output_type": "stream",
          "name": "stderr",
          "text": [
            "100%|██████████| 2/2 [00:00<00:00,  5.24it/s, D_fake=0.488, D_real=0.53]\n"
          ]
        },
        {
          "output_type": "stream",
          "name": "stdout",
          "text": [
            "Shape of X:  torch.Size([4, 3, 256, 256])\n",
            "torch.Size([4, 3, 256, 256]) Entropy A1: 5.545022010803223, Entropy A2: 5.545021057128906\n",
            "Epoch [3/500], Avg Entropy A1: 5.545016527175903, Avg Entropy A2: 5.545015335083008\n"
          ]
        },
        {
          "output_type": "stream",
          "name": "stderr",
          "text": [
            "\r  0%|          | 0/2 [00:00<?, ?it/s]"
          ]
        },
        {
          "output_type": "stream",
          "name": "stdout",
          "text": [
            "Shape of X:  torch.Size([16, 3, 256, 256])\n",
            "torch.Size([16, 3, 256, 256]) Entropy A1: 5.5449724197387695, Entropy A2: 5.54496431350708\n"
          ]
        },
        {
          "output_type": "stream",
          "name": "stderr",
          "text": [
            "100%|██████████| 2/2 [00:00<00:00,  5.19it/s, D_fake=0.455, D_real=0.527]\n"
          ]
        },
        {
          "output_type": "stream",
          "name": "stdout",
          "text": [
            "Shape of X:  torch.Size([4, 3, 256, 256])\n",
            "torch.Size([4, 3, 256, 256]) Entropy A1: 5.544977188110352, Entropy A2: 5.544973373413086\n",
            "Epoch [4/500], Avg Entropy A1: 5.5449748039245605, Avg Entropy A2: 5.544968843460083\n"
          ]
        },
        {
          "output_type": "stream",
          "name": "stderr",
          "text": [
            "\r  0%|          | 0/2 [00:00<?, ?it/s]"
          ]
        },
        {
          "output_type": "stream",
          "name": "stdout",
          "text": [
            "Shape of X:  torch.Size([16, 3, 256, 256])\n",
            "torch.Size([16, 3, 256, 256]) Entropy A1: 5.545014381408691, Entropy A2: 5.545013427734375\n"
          ]
        },
        {
          "output_type": "stream",
          "name": "stderr",
          "text": [
            "100%|██████████| 2/2 [00:00<00:00,  5.15it/s, D_fake=0.438, D_real=0.551]\n"
          ]
        },
        {
          "output_type": "stream",
          "name": "stdout",
          "text": [
            "Shape of X:  torch.Size([4, 3, 256, 256])\n",
            "torch.Size([4, 3, 256, 256]) Entropy A1: 5.545019626617432, Entropy A2: 5.545018196105957\n",
            "Epoch [5/500], Avg Entropy A1: 5.5450170040130615, Avg Entropy A2: 5.545015811920166\n"
          ]
        },
        {
          "output_type": "stream",
          "name": "stderr",
          "text": [
            "\r  0%|          | 0/2 [00:00<?, ?it/s]"
          ]
        },
        {
          "output_type": "stream",
          "name": "stdout",
          "text": [
            "Shape of X:  torch.Size([16, 3, 256, 256])\n",
            "torch.Size([16, 3, 256, 256]) Entropy A1: 5.5450053215026855, Entropy A2: 5.5450029373168945\n"
          ]
        },
        {
          "output_type": "stream",
          "name": "stderr",
          "text": [
            "100%|██████████| 2/2 [00:00<00:00,  5.13it/s, D_fake=0.43, D_real=0.575]\n"
          ]
        },
        {
          "output_type": "stream",
          "name": "stdout",
          "text": [
            "Shape of X:  torch.Size([4, 3, 256, 256])\n",
            "torch.Size([4, 3, 256, 256]) Entropy A1: 5.545005798339844, Entropy A2: 5.545003890991211\n",
            "Epoch [6/500], Avg Entropy A1: 5.545005559921265, Avg Entropy A2: 5.545003414154053\n"
          ]
        },
        {
          "output_type": "stream",
          "name": "stderr",
          "text": [
            "\r  0%|          | 0/2 [00:00<?, ?it/s]"
          ]
        },
        {
          "output_type": "stream",
          "name": "stdout",
          "text": [
            "Shape of X:  torch.Size([16, 3, 256, 256])\n",
            "torch.Size([16, 3, 256, 256]) Entropy A1: 5.544990062713623, Entropy A2: 5.544988632202148\n"
          ]
        },
        {
          "output_type": "stream",
          "name": "stderr",
          "text": [
            "100%|██████████| 2/2 [00:00<00:00,  4.88it/s, D_fake=0.404, D_real=0.576]\n"
          ]
        },
        {
          "output_type": "stream",
          "name": "stdout",
          "text": [
            "Shape of X:  torch.Size([4, 3, 256, 256])\n",
            "torch.Size([4, 3, 256, 256]) Entropy A1: 5.544988632202148, Entropy A2: 5.544986724853516\n",
            "Epoch [7/500], Avg Entropy A1: 5.544989347457886, Avg Entropy A2: 5.544987678527832\n"
          ]
        },
        {
          "output_type": "stream",
          "name": "stderr",
          "text": [
            "\r  0%|          | 0/2 [00:00<?, ?it/s]"
          ]
        },
        {
          "output_type": "stream",
          "name": "stdout",
          "text": [
            "Shape of X:  torch.Size([16, 3, 256, 256])\n",
            "torch.Size([16, 3, 256, 256]) Entropy A1: 5.544980049133301, Entropy A2: 5.544975757598877\n"
          ]
        },
        {
          "output_type": "stream",
          "name": "stderr",
          "text": [
            "100%|██████████| 2/2 [00:00<00:00,  4.92it/s, D_fake=0.389, D_real=0.588]\n"
          ]
        },
        {
          "output_type": "stream",
          "name": "stdout",
          "text": [
            "Shape of X:  torch.Size([4, 3, 256, 256])\n",
            "torch.Size([4, 3, 256, 256]) Entropy A1: 5.5449724197387695, Entropy A2: 5.544971942901611\n",
            "Epoch [8/500], Avg Entropy A1: 5.544976234436035, Avg Entropy A2: 5.544973850250244\n"
          ]
        },
        {
          "output_type": "stream",
          "name": "stderr",
          "text": [
            "\r  0%|          | 0/2 [00:00<?, ?it/s]"
          ]
        },
        {
          "output_type": "stream",
          "name": "stdout",
          "text": [
            "Shape of X:  torch.Size([16, 3, 256, 256])\n",
            "torch.Size([16, 3, 256, 256]) Entropy A1: 5.544965744018555, Entropy A2: 5.544961929321289\n"
          ]
        },
        {
          "output_type": "stream",
          "name": "stderr",
          "text": [
            "100%|██████████| 2/2 [00:00<00:00,  5.20it/s, D_fake=0.378, D_real=0.578]\n"
          ]
        },
        {
          "output_type": "stream",
          "name": "stdout",
          "text": [
            "Shape of X:  torch.Size([4, 3, 256, 256])\n",
            "torch.Size([4, 3, 256, 256]) Entropy A1: 5.544879913330078, Entropy A2: 5.544869422912598\n",
            "Epoch [9/500], Avg Entropy A1: 5.544922828674316, Avg Entropy A2: 5.544915676116943\n"
          ]
        },
        {
          "output_type": "stream",
          "name": "stderr",
          "text": [
            "\r  0%|          | 0/2 [00:00<?, ?it/s]"
          ]
        },
        {
          "output_type": "stream",
          "name": "stdout",
          "text": [
            "Shape of X:  torch.Size([16, 3, 256, 256])\n",
            "torch.Size([16, 3, 256, 256]) Entropy A1: 5.544896602630615, Entropy A2: 5.544889450073242\n"
          ]
        },
        {
          "output_type": "stream",
          "name": "stderr",
          "text": [
            "100%|██████████| 2/2 [00:00<00:00,  4.91it/s, D_fake=0.364, D_real=0.62]\n"
          ]
        },
        {
          "output_type": "stream",
          "name": "stdout",
          "text": [
            "Shape of X:  torch.Size([4, 3, 256, 256])\n",
            "torch.Size([4, 3, 256, 256]) Entropy A1: 5.544897079467773, Entropy A2: 5.544888019561768\n",
            "Epoch [10/500], Avg Entropy A1: 5.544896841049194, Avg Entropy A2: 5.544888734817505\n"
          ]
        },
        {
          "output_type": "stream",
          "name": "stderr",
          "text": [
            "\r  0%|          | 0/2 [00:00<?, ?it/s]"
          ]
        },
        {
          "output_type": "stream",
          "name": "stdout",
          "text": [
            "Shape of X:  torch.Size([16, 3, 256, 256])\n",
            "torch.Size([16, 3, 256, 256]) Entropy A1: 5.544908046722412, Entropy A2: 5.5449018478393555\n"
          ]
        },
        {
          "output_type": "stream",
          "name": "stderr",
          "text": [
            "100%|██████████| 2/2 [00:00<00:00,  5.00it/s, D_fake=0.345, D_real=0.586]\n"
          ]
        },
        {
          "output_type": "stream",
          "name": "stdout",
          "text": [
            "Shape of X:  torch.Size([4, 3, 256, 256])\n",
            "torch.Size([4, 3, 256, 256]) Entropy A1: 5.544953346252441, Entropy A2: 5.544950485229492\n",
            "Epoch [11/500], Avg Entropy A1: 5.544930696487427, Avg Entropy A2: 5.544926166534424\n"
          ]
        },
        {
          "output_type": "stream",
          "name": "stderr",
          "text": [
            "\r  0%|          | 0/2 [00:00<?, ?it/s]"
          ]
        },
        {
          "output_type": "stream",
          "name": "stdout",
          "text": [
            "Shape of X:  torch.Size([16, 3, 256, 256])\n",
            "torch.Size([16, 3, 256, 256]) Entropy A1: 5.544910430908203, Entropy A2: 5.544903755187988\n"
          ]
        },
        {
          "output_type": "stream",
          "name": "stderr",
          "text": [
            "100%|██████████| 2/2 [00:00<00:00,  5.17it/s, D_fake=0.452, D_real=0.634]\n"
          ]
        },
        {
          "output_type": "stream",
          "name": "stdout",
          "text": [
            "Shape of X:  torch.Size([4, 3, 256, 256])\n",
            "torch.Size([4, 3, 256, 256]) Entropy A1: 5.544895172119141, Entropy A2: 5.544889450073242\n",
            "Epoch [12/500], Avg Entropy A1: 5.544902801513672, Avg Entropy A2: 5.544896602630615\n"
          ]
        },
        {
          "output_type": "stream",
          "name": "stderr",
          "text": [
            "\r  0%|          | 0/2 [00:00<?, ?it/s]"
          ]
        },
        {
          "output_type": "stream",
          "name": "stdout",
          "text": [
            "Shape of X:  torch.Size([16, 3, 256, 256])\n",
            "torch.Size([16, 3, 256, 256]) Entropy A1: 5.544828414916992, Entropy A2: 5.544817924499512\n"
          ]
        },
        {
          "output_type": "stream",
          "name": "stderr",
          "text": [
            "100%|██████████| 2/2 [00:00<00:00,  4.92it/s, D_fake=0.338, D_real=0.565]\n"
          ]
        },
        {
          "output_type": "stream",
          "name": "stdout",
          "text": [
            "Shape of X:  torch.Size([4, 3, 256, 256])\n",
            "torch.Size([4, 3, 256, 256]) Entropy A1: 5.544883728027344, Entropy A2: 5.544877052307129\n",
            "Epoch [13/500], Avg Entropy A1: 5.544856071472168, Avg Entropy A2: 5.54484748840332\n"
          ]
        },
        {
          "output_type": "stream",
          "name": "stderr",
          "text": [
            "\r  0%|          | 0/2 [00:00<?, ?it/s]"
          ]
        },
        {
          "output_type": "stream",
          "name": "stdout",
          "text": [
            "Shape of X:  torch.Size([16, 3, 256, 256])\n",
            "torch.Size([16, 3, 256, 256]) Entropy A1: 5.544858932495117, Entropy A2: 5.544851303100586\n"
          ]
        },
        {
          "output_type": "stream",
          "name": "stderr",
          "text": [
            "100%|██████████| 2/2 [00:00<00:00,  5.16it/s, D_fake=0.365, D_real=0.608]\n"
          ]
        },
        {
          "output_type": "stream",
          "name": "stdout",
          "text": [
            "Shape of X:  torch.Size([4, 3, 256, 256])\n",
            "torch.Size([4, 3, 256, 256]) Entropy A1: 5.544732093811035, Entropy A2: 5.544715881347656\n",
            "Epoch [14/500], Avg Entropy A1: 5.544795513153076, Avg Entropy A2: 5.544783592224121\n"
          ]
        },
        {
          "output_type": "stream",
          "name": "stderr",
          "text": [
            "\r  0%|          | 0/2 [00:00<?, ?it/s]"
          ]
        },
        {
          "output_type": "stream",
          "name": "stdout",
          "text": [
            "Shape of X:  torch.Size([16, 3, 256, 256])\n",
            "torch.Size([16, 3, 256, 256]) Entropy A1: 5.544681549072266, Entropy A2: 5.544661998748779\n"
          ]
        },
        {
          "output_type": "stream",
          "name": "stderr",
          "text": [
            "100%|██████████| 2/2 [00:00<00:00,  4.90it/s, D_fake=0.326, D_real=0.631]\n"
          ]
        },
        {
          "output_type": "stream",
          "name": "stdout",
          "text": [
            "Shape of X:  torch.Size([4, 3, 256, 256])\n",
            "torch.Size([4, 3, 256, 256]) Entropy A1: 5.544713973999023, Entropy A2: 5.544695854187012\n",
            "Epoch [15/500], Avg Entropy A1: 5.5446977615356445, Avg Entropy A2: 5.5446789264678955\n"
          ]
        },
        {
          "output_type": "stream",
          "name": "stderr",
          "text": [
            "\r  0%|          | 0/2 [00:00<?, ?it/s]"
          ]
        },
        {
          "output_type": "stream",
          "name": "stdout",
          "text": [
            "Shape of X:  torch.Size([16, 3, 256, 256])\n",
            "torch.Size([16, 3, 256, 256]) Entropy A1: 5.5447516441345215, Entropy A2: 5.544736385345459\n"
          ]
        },
        {
          "output_type": "stream",
          "name": "stderr",
          "text": [
            "100%|██████████| 2/2 [00:00<00:00,  4.87it/s, D_fake=0.341, D_real=0.674]\n"
          ]
        },
        {
          "output_type": "stream",
          "name": "stdout",
          "text": [
            "Shape of X:  torch.Size([4, 3, 256, 256])\n",
            "torch.Size([4, 3, 256, 256]) Entropy A1: 5.544695854187012, Entropy A2: 5.544675827026367\n",
            "Epoch [16/500], Avg Entropy A1: 5.544723749160767, Avg Entropy A2: 5.544706106185913\n"
          ]
        },
        {
          "output_type": "stream",
          "name": "stderr",
          "text": [
            "\r  0%|          | 0/2 [00:00<?, ?it/s]"
          ]
        },
        {
          "output_type": "stream",
          "name": "stdout",
          "text": [
            "Shape of X:  torch.Size([16, 3, 256, 256])\n",
            "torch.Size([16, 3, 256, 256]) Entropy A1: 5.544700622558594, Entropy A2: 5.544682502746582\n"
          ]
        },
        {
          "output_type": "stream",
          "name": "stderr",
          "text": [
            "100%|██████████| 2/2 [00:00<00:00,  4.45it/s, D_fake=0.283, D_real=0.674]\n"
          ]
        },
        {
          "output_type": "stream",
          "name": "stdout",
          "text": [
            "Shape of X:  torch.Size([4, 3, 256, 256])\n",
            "torch.Size([4, 3, 256, 256]) Entropy A1: 5.544602870941162, Entropy A2: 5.544582843780518\n",
            "Epoch [17/500], Avg Entropy A1: 5.544651746749878, Avg Entropy A2: 5.54463267326355\n"
          ]
        },
        {
          "output_type": "stream",
          "name": "stderr",
          "text": [
            "\r  0%|          | 0/2 [00:00<?, ?it/s]"
          ]
        },
        {
          "output_type": "stream",
          "name": "stdout",
          "text": [
            "Shape of X:  torch.Size([16, 3, 256, 256])\n",
            "torch.Size([16, 3, 256, 256]) Entropy A1: 5.544678688049316, Entropy A2: 5.544660568237305\n"
          ]
        },
        {
          "output_type": "stream",
          "name": "stderr",
          "text": [
            "100%|██████████| 2/2 [00:00<00:00,  5.07it/s, D_fake=0.268, D_real=0.689]\n"
          ]
        },
        {
          "output_type": "stream",
          "name": "stdout",
          "text": [
            "Shape of X:  torch.Size([4, 3, 256, 256])\n",
            "torch.Size([4, 3, 256, 256]) Entropy A1: 5.544736862182617, Entropy A2: 5.5447235107421875\n",
            "Epoch [18/500], Avg Entropy A1: 5.544707775115967, Avg Entropy A2: 5.544692039489746\n"
          ]
        },
        {
          "output_type": "stream",
          "name": "stderr",
          "text": [
            "\r  0%|          | 0/2 [00:00<?, ?it/s]"
          ]
        },
        {
          "output_type": "stream",
          "name": "stdout",
          "text": [
            "Shape of X:  torch.Size([16, 3, 256, 256])\n",
            "torch.Size([16, 3, 256, 256]) Entropy A1: 5.544742584228516, Entropy A2: 5.544727325439453\n"
          ]
        },
        {
          "output_type": "stream",
          "name": "stderr",
          "text": [
            "100%|██████████| 2/2 [00:00<00:00,  4.80it/s, D_fake=0.234, D_real=0.73]\n"
          ]
        },
        {
          "output_type": "stream",
          "name": "stdout",
          "text": [
            "Shape of X:  torch.Size([4, 3, 256, 256])\n",
            "torch.Size([4, 3, 256, 256]) Entropy A1: 5.544706344604492, Entropy A2: 5.544690132141113\n",
            "Epoch [19/500], Avg Entropy A1: 5.544724464416504, Avg Entropy A2: 5.544708728790283\n"
          ]
        },
        {
          "output_type": "stream",
          "name": "stderr",
          "text": [
            "\r  0%|          | 0/2 [00:00<?, ?it/s]"
          ]
        },
        {
          "output_type": "stream",
          "name": "stdout",
          "text": [
            "Shape of X:  torch.Size([16, 3, 256, 256])\n",
            "torch.Size([16, 3, 256, 256]) Entropy A1: 5.544552803039551, Entropy A2: 5.544528007507324\n"
          ]
        },
        {
          "output_type": "stream",
          "name": "stderr",
          "text": [
            "100%|██████████| 2/2 [00:00<00:00,  4.50it/s, D_fake=0.263, D_real=0.762]\n"
          ]
        },
        {
          "output_type": "stream",
          "name": "stdout",
          "text": [
            "Shape of X:  torch.Size([4, 3, 256, 256])\n",
            "torch.Size([4, 3, 256, 256]) Entropy A1: 5.544605731964111, Entropy A2: 5.544583320617676\n",
            "Epoch [20/500], Avg Entropy A1: 5.544579267501831, Avg Entropy A2: 5.5445556640625\n"
          ]
        },
        {
          "output_type": "stream",
          "name": "stderr",
          "text": [
            "\r  0%|          | 0/2 [00:00<?, ?it/s]"
          ]
        },
        {
          "output_type": "stream",
          "name": "stdout",
          "text": [
            "Shape of X:  torch.Size([16, 3, 256, 256])\n",
            "torch.Size([16, 3, 256, 256]) Entropy A1: 5.544637680053711, Entropy A2: 5.544613361358643\n"
          ]
        },
        {
          "output_type": "stream",
          "name": "stderr",
          "text": [
            "100%|██████████| 2/2 [00:00<00:00,  4.33it/s, D_fake=0.27, D_real=0.753]\n"
          ]
        },
        {
          "output_type": "stream",
          "name": "stdout",
          "text": [
            "Shape of X:  torch.Size([4, 3, 256, 256])\n",
            "torch.Size([4, 3, 256, 256]) Entropy A1: 5.544516086578369, Entropy A2: 5.5444793701171875\n",
            "Epoch [21/500], Avg Entropy A1: 5.54457688331604, Avg Entropy A2: 5.544546365737915\n"
          ]
        },
        {
          "output_type": "stream",
          "name": "stderr",
          "text": [
            "\r  0%|          | 0/2 [00:00<?, ?it/s]"
          ]
        },
        {
          "output_type": "stream",
          "name": "stdout",
          "text": [
            "Shape of X:  torch.Size([16, 3, 256, 256])\n",
            "torch.Size([16, 3, 256, 256]) Entropy A1: 5.544567584991455, Entropy A2: 5.54453706741333\n"
          ]
        },
        {
          "output_type": "stream",
          "name": "stderr",
          "text": [
            "100%|██████████| 2/2 [00:00<00:00,  4.48it/s, D_fake=0.199, D_real=0.747]\n"
          ]
        },
        {
          "output_type": "stream",
          "name": "stdout",
          "text": [
            "Shape of X:  torch.Size([4, 3, 256, 256])\n",
            "torch.Size([4, 3, 256, 256]) Entropy A1: 5.544495582580566, Entropy A2: 5.544463157653809\n",
            "Epoch [22/500], Avg Entropy A1: 5.544531583786011, Avg Entropy A2: 5.544500112533569\n"
          ]
        },
        {
          "output_type": "stream",
          "name": "stderr",
          "text": [
            "\r  0%|          | 0/2 [00:00<?, ?it/s]"
          ]
        },
        {
          "output_type": "stream",
          "name": "stdout",
          "text": [
            "Shape of X:  torch.Size([16, 3, 256, 256])\n",
            "torch.Size([16, 3, 256, 256]) Entropy A1: 5.544588088989258, Entropy A2: 5.5445637702941895\n"
          ]
        },
        {
          "output_type": "stream",
          "name": "stderr",
          "text": [
            "100%|██████████| 2/2 [00:00<00:00,  4.40it/s, D_fake=0.188, D_real=0.804]\n"
          ]
        },
        {
          "output_type": "stream",
          "name": "stdout",
          "text": [
            "Shape of X:  torch.Size([4, 3, 256, 256])\n",
            "torch.Size([4, 3, 256, 256]) Entropy A1: 5.544442653656006, Entropy A2: 5.544397830963135\n",
            "Epoch [23/500], Avg Entropy A1: 5.544515371322632, Avg Entropy A2: 5.544480800628662\n"
          ]
        },
        {
          "output_type": "stream",
          "name": "stderr",
          "text": [
            "\r  0%|          | 0/2 [00:00<?, ?it/s]"
          ]
        },
        {
          "output_type": "stream",
          "name": "stdout",
          "text": [
            "Shape of X:  torch.Size([16, 3, 256, 256])\n",
            "torch.Size([16, 3, 256, 256]) Entropy A1: 5.544486999511719, Entropy A2: 5.54445219039917\n"
          ]
        },
        {
          "output_type": "stream",
          "name": "stderr",
          "text": [
            "100%|██████████| 2/2 [00:00<00:00,  3.81it/s, D_fake=0.165, D_real=0.805]\n"
          ]
        },
        {
          "output_type": "stream",
          "name": "stdout",
          "text": [
            "Shape of X:  torch.Size([4, 3, 256, 256])\n",
            "torch.Size([4, 3, 256, 256]) Entropy A1: 5.54450798034668, Entropy A2: 5.544480323791504\n",
            "Epoch [24/500], Avg Entropy A1: 5.544497489929199, Avg Entropy A2: 5.544466257095337\n"
          ]
        },
        {
          "output_type": "stream",
          "name": "stderr",
          "text": [
            "\r  0%|          | 0/2 [00:00<?, ?it/s]"
          ]
        },
        {
          "output_type": "stream",
          "name": "stdout",
          "text": [
            "Shape of X:  torch.Size([16, 3, 256, 256])\n",
            "torch.Size([16, 3, 256, 256]) Entropy A1: 5.544545650482178, Entropy A2: 5.544517517089844\n"
          ]
        },
        {
          "output_type": "stream",
          "name": "stderr",
          "text": [
            "100%|██████████| 2/2 [00:00<00:00,  4.47it/s, D_fake=0.194, D_real=0.807]\n"
          ]
        },
        {
          "output_type": "stream",
          "name": "stdout",
          "text": [
            "Shape of X:  torch.Size([4, 3, 256, 256])\n",
            "torch.Size([4, 3, 256, 256]) Entropy A1: 5.544537544250488, Entropy A2: 5.544510841369629\n",
            "Epoch [25/500], Avg Entropy A1: 5.544541597366333, Avg Entropy A2: 5.544514179229736\n"
          ]
        },
        {
          "output_type": "stream",
          "name": "stderr",
          "text": [
            "\r  0%|          | 0/2 [00:00<?, ?it/s]"
          ]
        },
        {
          "output_type": "stream",
          "name": "stdout",
          "text": [
            "Shape of X:  torch.Size([16, 3, 256, 256])\n",
            "torch.Size([16, 3, 256, 256]) Entropy A1: 5.5444769859313965, Entropy A2: 5.544445514678955\n"
          ]
        },
        {
          "output_type": "stream",
          "name": "stderr",
          "text": [
            "100%|██████████| 2/2 [00:00<00:00,  4.33it/s, D_fake=0.224, D_real=0.81]\n"
          ]
        },
        {
          "output_type": "stream",
          "name": "stdout",
          "text": [
            "Shape of X:  torch.Size([4, 3, 256, 256])\n",
            "torch.Size([4, 3, 256, 256]) Entropy A1: 5.544398784637451, Entropy A2: 5.544344902038574\n",
            "Epoch [26/500], Avg Entropy A1: 5.544437885284424, Avg Entropy A2: 5.544395208358765\n"
          ]
        },
        {
          "output_type": "stream",
          "name": "stderr",
          "text": [
            "\r  0%|          | 0/2 [00:00<?, ?it/s]"
          ]
        },
        {
          "output_type": "stream",
          "name": "stdout",
          "text": [
            "Shape of X:  torch.Size([16, 3, 256, 256])\n",
            "torch.Size([16, 3, 256, 256]) Entropy A1: 5.544288158416748, Entropy A2: 5.544233322143555\n"
          ]
        },
        {
          "output_type": "stream",
          "name": "stderr",
          "text": [
            "100%|██████████| 2/2 [00:00<00:00,  4.27it/s, D_fake=0.153, D_real=0.752]\n"
          ]
        },
        {
          "output_type": "stream",
          "name": "stdout",
          "text": [
            "Shape of X:  torch.Size([4, 3, 256, 256])\n",
            "torch.Size([4, 3, 256, 256]) Entropy A1: 5.544402122497559, Entropy A2: 5.544373512268066\n",
            "Epoch [27/500], Avg Entropy A1: 5.544345140457153, Avg Entropy A2: 5.5443034172058105\n"
          ]
        },
        {
          "output_type": "stream",
          "name": "stderr",
          "text": [
            "\r  0%|          | 0/2 [00:00<?, ?it/s]"
          ]
        },
        {
          "output_type": "stream",
          "name": "stdout",
          "text": [
            "Shape of X:  torch.Size([16, 3, 256, 256])\n",
            "torch.Size([16, 3, 256, 256]) Entropy A1: 5.54428243637085, Entropy A2: 5.544239521026611\n"
          ]
        },
        {
          "output_type": "stream",
          "name": "stderr",
          "text": [
            "100%|██████████| 2/2 [00:00<00:00,  4.40it/s, D_fake=0.118, D_real=0.784]\n"
          ]
        },
        {
          "output_type": "stream",
          "name": "stdout",
          "text": [
            "Shape of X:  torch.Size([4, 3, 256, 256])\n",
            "torch.Size([4, 3, 256, 256]) Entropy A1: 5.544089317321777, Entropy A2: 5.54401159286499\n",
            "Epoch [28/500], Avg Entropy A1: 5.5441858768463135, Avg Entropy A2: 5.544125556945801\n"
          ]
        },
        {
          "output_type": "stream",
          "name": "stderr",
          "text": [
            "\r  0%|          | 0/2 [00:00<?, ?it/s]"
          ]
        },
        {
          "output_type": "stream",
          "name": "stdout",
          "text": [
            "Shape of X:  torch.Size([16, 3, 256, 256])\n",
            "torch.Size([16, 3, 256, 256]) Entropy A1: 5.544152736663818, Entropy A2: 5.54409122467041\n"
          ]
        },
        {
          "output_type": "stream",
          "name": "stderr",
          "text": [
            "100%|██████████| 2/2 [00:00<00:00,  4.42it/s, D_fake=0.203, D_real=0.77]\n"
          ]
        },
        {
          "output_type": "stream",
          "name": "stdout",
          "text": [
            "Shape of X:  torch.Size([4, 3, 256, 256])\n",
            "torch.Size([4, 3, 256, 256]) Entropy A1: 5.544163703918457, Entropy A2: 5.544116020202637\n",
            "Epoch [29/500], Avg Entropy A1: 5.544158220291138, Avg Entropy A2: 5.544103622436523\n"
          ]
        },
        {
          "output_type": "stream",
          "name": "stderr",
          "text": [
            "\r  0%|          | 0/2 [00:00<?, ?it/s]"
          ]
        },
        {
          "output_type": "stream",
          "name": "stdout",
          "text": [
            "Shape of X:  torch.Size([16, 3, 256, 256])\n",
            "torch.Size([16, 3, 256, 256]) Entropy A1: 5.544140338897705, Entropy A2: 5.54408073425293\n"
          ]
        },
        {
          "output_type": "stream",
          "name": "stderr",
          "text": [
            "100%|██████████| 2/2 [00:00<00:00,  4.38it/s, D_fake=0.153, D_real=0.798]\n"
          ]
        },
        {
          "output_type": "stream",
          "name": "stdout",
          "text": [
            "Shape of X:  torch.Size([4, 3, 256, 256])\n",
            "torch.Size([4, 3, 256, 256]) Entropy A1: 5.544209957122803, Entropy A2: 5.544177055358887\n",
            "Epoch [30/500], Avg Entropy A1: 5.544175148010254, Avg Entropy A2: 5.544128894805908\n"
          ]
        },
        {
          "output_type": "stream",
          "name": "stderr",
          "text": [
            "\r  0%|          | 0/2 [00:00<?, ?it/s]"
          ]
        },
        {
          "output_type": "stream",
          "name": "stdout",
          "text": [
            "Shape of X:  torch.Size([16, 3, 256, 256])\n",
            "torch.Size([16, 3, 256, 256]) Entropy A1: 5.544156074523926, Entropy A2: 5.544107437133789\n"
          ]
        },
        {
          "output_type": "stream",
          "name": "stderr",
          "text": [
            "100%|██████████| 2/2 [00:00<00:00,  4.30it/s, D_fake=0.128, D_real=0.834]\n"
          ]
        },
        {
          "output_type": "stream",
          "name": "stdout",
          "text": [
            "Shape of X:  torch.Size([4, 3, 256, 256])\n",
            "torch.Size([4, 3, 256, 256]) Entropy A1: 5.544124126434326, Entropy A2: 5.544050216674805\n",
            "Epoch [31/500], Avg Entropy A1: 5.544140100479126, Avg Entropy A2: 5.544078826904297\n"
          ]
        },
        {
          "output_type": "stream",
          "name": "stderr",
          "text": [
            "\r  0%|          | 0/2 [00:00<?, ?it/s]"
          ]
        },
        {
          "output_type": "stream",
          "name": "stdout",
          "text": [
            "Shape of X:  torch.Size([16, 3, 256, 256])\n",
            "torch.Size([16, 3, 256, 256]) Entropy A1: 5.544053077697754, Entropy A2: 5.544003009796143\n"
          ]
        },
        {
          "output_type": "stream",
          "name": "stderr",
          "text": [
            "100%|██████████| 2/2 [00:00<00:00,  5.16it/s, D_fake=0.105, D_real=0.864]\n"
          ]
        },
        {
          "output_type": "stream",
          "name": "stdout",
          "text": [
            "Shape of X:  torch.Size([4, 3, 256, 256])\n",
            "torch.Size([4, 3, 256, 256]) Entropy A1: 5.544121742248535, Entropy A2: 5.544071197509766\n",
            "Epoch [32/500], Avg Entropy A1: 5.5440874099731445, Avg Entropy A2: 5.544037103652954\n"
          ]
        },
        {
          "output_type": "stream",
          "name": "stderr",
          "text": [
            "\r  0%|          | 0/2 [00:00<?, ?it/s]"
          ]
        },
        {
          "output_type": "stream",
          "name": "stdout",
          "text": [
            "Shape of X:  torch.Size([16, 3, 256, 256])\n",
            "torch.Size([16, 3, 256, 256]) Entropy A1: 5.543989181518555, Entropy A2: 5.54392671585083\n"
          ]
        },
        {
          "output_type": "stream",
          "name": "stderr",
          "text": [
            "100%|██████████| 2/2 [00:00<00:00,  5.21it/s, D_fake=0.101, D_real=0.882]\n"
          ]
        },
        {
          "output_type": "stream",
          "name": "stdout",
          "text": [
            "Shape of X:  torch.Size([4, 3, 256, 256])\n",
            "torch.Size([4, 3, 256, 256]) Entropy A1: 5.544068813323975, Entropy A2: 5.544013023376465\n",
            "Epoch [33/500], Avg Entropy A1: 5.544028997421265, Avg Entropy A2: 5.5439698696136475\n"
          ]
        },
        {
          "output_type": "stream",
          "name": "stderr",
          "text": [
            "\r  0%|          | 0/2 [00:00<?, ?it/s]"
          ]
        },
        {
          "output_type": "stream",
          "name": "stdout",
          "text": [
            "Shape of X:  torch.Size([16, 3, 256, 256])\n",
            "torch.Size([16, 3, 256, 256]) Entropy A1: 5.544081211090088, Entropy A2: 5.544033050537109\n"
          ]
        },
        {
          "output_type": "stream",
          "name": "stderr",
          "text": [
            "100%|██████████| 2/2 [00:00<00:00,  5.00it/s, D_fake=0.101, D_real=0.895]\n"
          ]
        },
        {
          "output_type": "stream",
          "name": "stdout",
          "text": [
            "Shape of X:  torch.Size([4, 3, 256, 256])\n",
            "torch.Size([4, 3, 256, 256]) Entropy A1: 5.544070720672607, Entropy A2: 5.544010162353516\n",
            "Epoch [34/500], Avg Entropy A1: 5.544075965881348, Avg Entropy A2: 5.5440216064453125\n"
          ]
        },
        {
          "output_type": "stream",
          "name": "stderr",
          "text": [
            "\r  0%|          | 0/2 [00:00<?, ?it/s]"
          ]
        },
        {
          "output_type": "stream",
          "name": "stdout",
          "text": [
            "Shape of X:  torch.Size([16, 3, 256, 256])\n",
            "torch.Size([16, 3, 256, 256]) Entropy A1: 5.5440568923950195, Entropy A2: 5.544003009796143\n"
          ]
        },
        {
          "output_type": "stream",
          "name": "stderr",
          "text": [
            "100%|██████████| 2/2 [00:00<00:00,  4.80it/s, D_fake=0.083, D_real=0.894]\n"
          ]
        },
        {
          "output_type": "stream",
          "name": "stdout",
          "text": [
            "Shape of X:  torch.Size([4, 3, 256, 256])\n",
            "torch.Size([4, 3, 256, 256]) Entropy A1: 5.543949127197266, Entropy A2: 5.543889045715332\n",
            "Epoch [35/500], Avg Entropy A1: 5.544003009796143, Avg Entropy A2: 5.543946027755737\n"
          ]
        },
        {
          "output_type": "stream",
          "name": "stderr",
          "text": [
            "\r  0%|          | 0/2 [00:00<?, ?it/s]"
          ]
        },
        {
          "output_type": "stream",
          "name": "stdout",
          "text": [
            "Shape of X:  torch.Size([16, 3, 256, 256])\n",
            "torch.Size([16, 3, 256, 256]) Entropy A1: 5.54401159286499, Entropy A2: 5.543963432312012\n"
          ]
        },
        {
          "output_type": "stream",
          "name": "stderr",
          "text": [
            "100%|██████████| 2/2 [00:00<00:00,  4.98it/s, D_fake=0.0843, D_real=0.898]\n"
          ]
        },
        {
          "output_type": "stream",
          "name": "stdout",
          "text": [
            "Shape of X:  torch.Size([4, 3, 256, 256])\n",
            "torch.Size([4, 3, 256, 256]) Entropy A1: 5.544172286987305, Entropy A2: 5.544135093688965\n",
            "Epoch [36/500], Avg Entropy A1: 5.5440919399261475, Avg Entropy A2: 5.544049263000488\n"
          ]
        },
        {
          "output_type": "stream",
          "name": "stderr",
          "text": [
            "\r  0%|          | 0/2 [00:00<?, ?it/s]"
          ]
        },
        {
          "output_type": "stream",
          "name": "stdout",
          "text": [
            "Shape of X:  torch.Size([16, 3, 256, 256])\n",
            "torch.Size([16, 3, 256, 256]) Entropy A1: 5.54398250579834, Entropy A2: 5.543937683105469\n"
          ]
        },
        {
          "output_type": "stream",
          "name": "stderr",
          "text": [
            "100%|██████████| 2/2 [00:00<00:00,  4.69it/s, D_fake=0.133, D_real=0.899]\n"
          ]
        },
        {
          "output_type": "stream",
          "name": "stdout",
          "text": [
            "Shape of X:  torch.Size([4, 3, 256, 256])\n",
            "torch.Size([4, 3, 256, 256]) Entropy A1: 5.544007301330566, Entropy A2: 5.543939590454102\n",
            "Epoch [37/500], Avg Entropy A1: 5.543994903564453, Avg Entropy A2: 5.543938636779785\n"
          ]
        },
        {
          "output_type": "stream",
          "name": "stderr",
          "text": [
            "\r  0%|          | 0/2 [00:00<?, ?it/s]"
          ]
        },
        {
          "output_type": "stream",
          "name": "stdout",
          "text": [
            "Shape of X:  torch.Size([16, 3, 256, 256])\n",
            "torch.Size([16, 3, 256, 256]) Entropy A1: 5.544090270996094, Entropy A2: 5.544048309326172\n"
          ]
        },
        {
          "output_type": "stream",
          "name": "stderr",
          "text": [
            "100%|██████████| 2/2 [00:00<00:00,  5.13it/s, D_fake=0.0682, D_real=0.857]\n"
          ]
        },
        {
          "output_type": "stream",
          "name": "stdout",
          "text": [
            "Shape of X:  torch.Size([4, 3, 256, 256])\n",
            "torch.Size([4, 3, 256, 256]) Entropy A1: 5.544040679931641, Entropy A2: 5.543993949890137\n",
            "Epoch [38/500], Avg Entropy A1: 5.544065475463867, Avg Entropy A2: 5.544021129608154\n"
          ]
        },
        {
          "output_type": "stream",
          "name": "stderr",
          "text": [
            "\r  0%|          | 0/2 [00:00<?, ?it/s]"
          ]
        },
        {
          "output_type": "stream",
          "name": "stdout",
          "text": [
            "Shape of X:  torch.Size([16, 3, 256, 256])\n",
            "torch.Size([16, 3, 256, 256]) Entropy A1: 5.544156074523926, Entropy A2: 5.544125556945801\n"
          ]
        },
        {
          "output_type": "stream",
          "name": "stderr",
          "text": [
            "100%|██████████| 2/2 [00:00<00:00,  4.77it/s, D_fake=0.0659, D_real=0.879]\n"
          ]
        },
        {
          "output_type": "stream",
          "name": "stdout",
          "text": [
            "Shape of X:  torch.Size([4, 3, 256, 256])\n",
            "torch.Size([4, 3, 256, 256]) Entropy A1: 5.543949604034424, Entropy A2: 5.543915271759033\n",
            "Epoch [39/500], Avg Entropy A1: 5.544052839279175, Avg Entropy A2: 5.544020414352417\n"
          ]
        },
        {
          "output_type": "stream",
          "name": "stderr",
          "text": [
            "\r  0%|          | 0/2 [00:00<?, ?it/s]"
          ]
        },
        {
          "output_type": "stream",
          "name": "stdout",
          "text": [
            "Shape of X:  torch.Size([16, 3, 256, 256])\n",
            "torch.Size([16, 3, 256, 256]) Entropy A1: 5.544050216674805, Entropy A2: 5.544013023376465\n"
          ]
        },
        {
          "output_type": "stream",
          "name": "stderr",
          "text": [
            " 50%|█████     | 1/2 [00:00<00:00,  3.38it/s, D_fake=0.102, D_real=0.902]"
          ]
        },
        {
          "output_type": "stream",
          "name": "stdout",
          "text": [
            "Shape of X:  torch.Size([4, 3, 256, 256])\n"
          ]
        },
        {
          "output_type": "stream",
          "name": "stderr",
          "text": [
            "\r100%|██████████| 2/2 [00:00<00:00,  5.09it/s, D_fake=0.102, D_real=0.902]\n"
          ]
        },
        {
          "output_type": "stream",
          "name": "stdout",
          "text": [
            "torch.Size([4, 3, 256, 256]) Entropy A1: 5.544033527374268, Entropy A2: 5.543975830078125\n",
            "Epoch [40/500], Avg Entropy A1: 5.544041872024536, Avg Entropy A2: 5.543994426727295\n"
          ]
        },
        {
          "output_type": "stream",
          "name": "stderr",
          "text": [
            "\r  0%|          | 0/2 [00:00<?, ?it/s]"
          ]
        },
        {
          "output_type": "stream",
          "name": "stdout",
          "text": [
            "Shape of X:  torch.Size([16, 3, 256, 256])\n",
            "torch.Size([16, 3, 256, 256]) Entropy A1: 5.543869972229004, Entropy A2: 5.543825149536133\n"
          ]
        },
        {
          "output_type": "stream",
          "name": "stderr",
          "text": [
            "100%|██████████| 2/2 [00:00<00:00,  4.84it/s, D_fake=0.104, D_real=0.888]\n"
          ]
        },
        {
          "output_type": "stream",
          "name": "stdout",
          "text": [
            "Shape of X:  torch.Size([4, 3, 256, 256])\n",
            "torch.Size([4, 3, 256, 256]) Entropy A1: 5.54404354095459, Entropy A2: 5.544003486633301\n",
            "Epoch [41/500], Avg Entropy A1: 5.543956756591797, Avg Entropy A2: 5.543914318084717\n"
          ]
        },
        {
          "output_type": "stream",
          "name": "stderr",
          "text": [
            "\r  0%|          | 0/2 [00:00<?, ?it/s]"
          ]
        },
        {
          "output_type": "stream",
          "name": "stdout",
          "text": [
            "Shape of X:  torch.Size([16, 3, 256, 256])\n",
            "torch.Size([16, 3, 256, 256]) Entropy A1: 5.543884754180908, Entropy A2: 5.543821334838867\n"
          ]
        },
        {
          "output_type": "stream",
          "name": "stderr",
          "text": [
            "100%|██████████| 2/2 [00:00<00:00,  4.77it/s, D_fake=0.0742, D_real=0.886]\n"
          ]
        },
        {
          "output_type": "stream",
          "name": "stdout",
          "text": [
            "Shape of X:  torch.Size([4, 3, 256, 256])\n",
            "torch.Size([4, 3, 256, 256]) Entropy A1: 5.54388427734375, Entropy A2: 5.5438618659973145\n",
            "Epoch [42/500], Avg Entropy A1: 5.543884515762329, Avg Entropy A2: 5.543841600418091\n"
          ]
        },
        {
          "output_type": "stream",
          "name": "stderr",
          "text": [
            "\r  0%|          | 0/2 [00:00<?, ?it/s]"
          ]
        },
        {
          "output_type": "stream",
          "name": "stdout",
          "text": [
            "Shape of X:  torch.Size([16, 3, 256, 256])\n",
            "torch.Size([16, 3, 256, 256]) Entropy A1: 5.543767929077148, Entropy A2: 5.543713569641113\n"
          ]
        },
        {
          "output_type": "stream",
          "name": "stderr",
          "text": [
            "100%|██████████| 2/2 [00:00<00:00,  5.16it/s, D_fake=0.0846, D_real=0.913]\n"
          ]
        },
        {
          "output_type": "stream",
          "name": "stdout",
          "text": [
            "Shape of X:  torch.Size([4, 3, 256, 256])\n",
            "torch.Size([4, 3, 256, 256]) Entropy A1: 5.5435566902160645, Entropy A2: 5.543492317199707\n",
            "Epoch [43/500], Avg Entropy A1: 5.5436623096466064, Avg Entropy A2: 5.54360294342041\n"
          ]
        },
        {
          "output_type": "stream",
          "name": "stderr",
          "text": [
            "\r  0%|          | 0/2 [00:00<?, ?it/s]"
          ]
        },
        {
          "output_type": "stream",
          "name": "stdout",
          "text": [
            "Shape of X:  torch.Size([16, 3, 256, 256])\n",
            "torch.Size([16, 3, 256, 256]) Entropy A1: 5.543787956237793, Entropy A2: 5.543736934661865\n"
          ]
        },
        {
          "output_type": "stream",
          "name": "stderr",
          "text": [
            "100%|██████████| 2/2 [00:00<00:00,  5.19it/s, D_fake=0.0814, D_real=0.897]\n"
          ]
        },
        {
          "output_type": "stream",
          "name": "stdout",
          "text": [
            "Shape of X:  torch.Size([4, 3, 256, 256])\n",
            "torch.Size([4, 3, 256, 256]) Entropy A1: 5.543766975402832, Entropy A2: 5.543703556060791\n",
            "Epoch [44/500], Avg Entropy A1: 5.5437774658203125, Avg Entropy A2: 5.543720245361328\n"
          ]
        },
        {
          "output_type": "stream",
          "name": "stderr",
          "text": [
            "\r  0%|          | 0/2 [00:00<?, ?it/s]"
          ]
        },
        {
          "output_type": "stream",
          "name": "stdout",
          "text": [
            "Shape of X:  torch.Size([16, 3, 256, 256])\n",
            "torch.Size([16, 3, 256, 256]) Entropy A1: 5.543679237365723, Entropy A2: 5.543607711791992\n"
          ]
        },
        {
          "output_type": "stream",
          "name": "stderr",
          "text": [
            "100%|██████████| 2/2 [00:00<00:00,  5.23it/s, D_fake=0.151, D_real=0.892]\n"
          ]
        },
        {
          "output_type": "stream",
          "name": "stdout",
          "text": [
            "Shape of X:  torch.Size([4, 3, 256, 256])\n",
            "torch.Size([4, 3, 256, 256]) Entropy A1: 5.543839931488037, Entropy A2: 5.543800354003906\n",
            "Epoch [45/500], Avg Entropy A1: 5.54375958442688, Avg Entropy A2: 5.543704032897949\n"
          ]
        },
        {
          "output_type": "stream",
          "name": "stderr",
          "text": [
            "\r  0%|          | 0/2 [00:00<?, ?it/s]"
          ]
        },
        {
          "output_type": "stream",
          "name": "stdout",
          "text": [
            "Shape of X:  torch.Size([16, 3, 256, 256])\n",
            "torch.Size([16, 3, 256, 256]) Entropy A1: 5.543780326843262, Entropy A2: 5.543728828430176\n"
          ]
        },
        {
          "output_type": "stream",
          "name": "stderr",
          "text": [
            "100%|██████████| 2/2 [00:00<00:00,  5.15it/s, D_fake=0.0561, D_real=0.851]\n"
          ]
        },
        {
          "output_type": "stream",
          "name": "stdout",
          "text": [
            "Shape of X:  torch.Size([4, 3, 256, 256])\n",
            "torch.Size([4, 3, 256, 256]) Entropy A1: 5.5435590744018555, Entropy A2: 5.543483734130859\n",
            "Epoch [46/500], Avg Entropy A1: 5.543669700622559, Avg Entropy A2: 5.543606281280518\n"
          ]
        },
        {
          "output_type": "stream",
          "name": "stderr",
          "text": [
            "\r  0%|          | 0/2 [00:00<?, ?it/s]"
          ]
        },
        {
          "output_type": "stream",
          "name": "stdout",
          "text": [
            "Shape of X:  torch.Size([16, 3, 256, 256])\n",
            "torch.Size([16, 3, 256, 256]) Entropy A1: 5.543801784515381, Entropy A2: 5.543758869171143\n"
          ]
        },
        {
          "output_type": "stream",
          "name": "stderr",
          "text": [
            "100%|██████████| 2/2 [00:00<00:00,  4.59it/s, D_fake=0.0989, D_real=0.894]\n"
          ]
        },
        {
          "output_type": "stream",
          "name": "stdout",
          "text": [
            "Shape of X:  torch.Size([4, 3, 256, 256])\n",
            "torch.Size([4, 3, 256, 256]) Entropy A1: 5.543308734893799, Entropy A2: 5.543242454528809\n",
            "Epoch [47/500], Avg Entropy A1: 5.54355525970459, Avg Entropy A2: 5.543500661849976\n"
          ]
        },
        {
          "output_type": "stream",
          "name": "stderr",
          "text": [
            "\r  0%|          | 0/2 [00:00<?, ?it/s]"
          ]
        },
        {
          "output_type": "stream",
          "name": "stdout",
          "text": [
            "Shape of X:  torch.Size([16, 3, 256, 256])\n",
            "torch.Size([16, 3, 256, 256]) Entropy A1: 5.543707847595215, Entropy A2: 5.543661117553711\n"
          ]
        },
        {
          "output_type": "stream",
          "name": "stderr",
          "text": [
            "100%|██████████| 2/2 [00:00<00:00,  4.85it/s, D_fake=0.0705, D_real=0.92]\n"
          ]
        },
        {
          "output_type": "stream",
          "name": "stdout",
          "text": [
            "Shape of X:  torch.Size([4, 3, 256, 256])\n",
            "torch.Size([4, 3, 256, 256]) Entropy A1: 5.543342113494873, Entropy A2: 5.5432448387146\n",
            "Epoch [48/500], Avg Entropy A1: 5.543524980545044, Avg Entropy A2: 5.543452978134155\n"
          ]
        },
        {
          "output_type": "stream",
          "name": "stderr",
          "text": [
            "\r  0%|          | 0/2 [00:00<?, ?it/s]"
          ]
        },
        {
          "output_type": "stream",
          "name": "stdout",
          "text": [
            "Shape of X:  torch.Size([16, 3, 256, 256])\n",
            "torch.Size([16, 3, 256, 256]) Entropy A1: 5.543536186218262, Entropy A2: 5.5434794425964355\n"
          ]
        },
        {
          "output_type": "stream",
          "name": "stderr",
          "text": [
            "100%|██████████| 2/2 [00:00<00:00,  4.90it/s, D_fake=0.0598, D_real=0.923]\n"
          ]
        },
        {
          "output_type": "stream",
          "name": "stdout",
          "text": [
            "Shape of X:  torch.Size([4, 3, 256, 256])\n",
            "torch.Size([4, 3, 256, 256]) Entropy A1: 5.5436692237854, Entropy A2: 5.543622016906738\n",
            "Epoch [49/500], Avg Entropy A1: 5.543602705001831, Avg Entropy A2: 5.543550729751587\n"
          ]
        },
        {
          "output_type": "stream",
          "name": "stderr",
          "text": [
            "\r  0%|          | 0/2 [00:00<?, ?it/s]"
          ]
        },
        {
          "output_type": "stream",
          "name": "stdout",
          "text": [
            "Shape of X:  torch.Size([16, 3, 256, 256])\n",
            "torch.Size([16, 3, 256, 256]) Entropy A1: 5.543624401092529, Entropy A2: 5.54358434677124\n"
          ]
        },
        {
          "output_type": "stream",
          "name": "stderr",
          "text": [
            "100%|██████████| 2/2 [00:00<00:00,  5.14it/s, D_fake=0.0472, D_real=0.93]\n"
          ]
        },
        {
          "output_type": "stream",
          "name": "stdout",
          "text": [
            "Shape of X:  torch.Size([4, 3, 256, 256])\n",
            "torch.Size([4, 3, 256, 256]) Entropy A1: 5.543743133544922, Entropy A2: 5.543709754943848\n",
            "Epoch [50/500], Avg Entropy A1: 5.543683767318726, Avg Entropy A2: 5.543647050857544\n",
            "Saving model at epoch 49\n",
            "Shape of x at save:  torch.Size([5, 3, 256, 256])\n"
          ]
        },
        {
          "output_type": "stream",
          "name": "stderr",
          "text": [
            "\r  0%|          | 0/2 [00:00<?, ?it/s]"
          ]
        },
        {
          "output_type": "stream",
          "name": "stdout",
          "text": [
            "Shape of X:  torch.Size([16, 3, 256, 256])\n",
            "torch.Size([16, 3, 256, 256]) Entropy A1: 5.54367733001709, Entropy A2: 5.543632507324219\n"
          ]
        },
        {
          "output_type": "stream",
          "name": "stderr",
          "text": [
            "100%|██████████| 2/2 [00:00<00:00,  4.07it/s, D_fake=0.0604, D_real=0.924]\n"
          ]
        },
        {
          "output_type": "stream",
          "name": "stdout",
          "text": [
            "Shape of X:  torch.Size([4, 3, 256, 256])\n",
            "torch.Size([4, 3, 256, 256]) Entropy A1: 5.543622016906738, Entropy A2: 5.543601036071777\n",
            "Epoch [51/500], Avg Entropy A1: 5.543649673461914, Avg Entropy A2: 5.543616771697998\n"
          ]
        },
        {
          "output_type": "stream",
          "name": "stderr",
          "text": [
            "\r  0%|          | 0/2 [00:00<?, ?it/s]"
          ]
        },
        {
          "output_type": "stream",
          "name": "stdout",
          "text": [
            "Shape of X:  torch.Size([16, 3, 256, 256])\n",
            "torch.Size([16, 3, 256, 256]) Entropy A1: 5.5434770584106445, Entropy A2: 5.543414115905762\n"
          ]
        },
        {
          "output_type": "stream",
          "name": "stderr",
          "text": [
            "100%|██████████| 2/2 [00:00<00:00,  4.27it/s, D_fake=0.0758, D_real=0.938]\n"
          ]
        },
        {
          "output_type": "stream",
          "name": "stdout",
          "text": [
            "Shape of X:  torch.Size([4, 3, 256, 256])\n",
            "torch.Size([4, 3, 256, 256]) Entropy A1: 5.54351806640625, Entropy A2: 5.5435028076171875\n",
            "Epoch [52/500], Avg Entropy A1: 5.543497562408447, Avg Entropy A2: 5.543458461761475\n"
          ]
        },
        {
          "output_type": "stream",
          "name": "stderr",
          "text": [
            "\r  0%|          | 0/2 [00:00<?, ?it/s]"
          ]
        },
        {
          "output_type": "stream",
          "name": "stdout",
          "text": [
            "Shape of X:  torch.Size([16, 3, 256, 256])\n",
            "torch.Size([16, 3, 256, 256]) Entropy A1: 5.543492317199707, Entropy A2: 5.543449401855469\n"
          ]
        },
        {
          "output_type": "stream",
          "name": "stderr",
          "text": [
            "100%|██████████| 2/2 [00:00<00:00,  4.41it/s, D_fake=0.0535, D_real=0.923]\n"
          ]
        },
        {
          "output_type": "stream",
          "name": "stdout",
          "text": [
            "Shape of X:  torch.Size([4, 3, 256, 256])\n",
            "torch.Size([4, 3, 256, 256]) Entropy A1: 5.543145179748535, Entropy A2: 5.543100357055664\n",
            "Epoch [53/500], Avg Entropy A1: 5.543318748474121, Avg Entropy A2: 5.543274879455566\n"
          ]
        },
        {
          "output_type": "stream",
          "name": "stderr",
          "text": [
            "\r  0%|          | 0/2 [00:00<?, ?it/s]"
          ]
        },
        {
          "output_type": "stream",
          "name": "stdout",
          "text": [
            "Shape of X:  torch.Size([16, 3, 256, 256])\n",
            "torch.Size([16, 3, 256, 256]) Entropy A1: 5.543346881866455, Entropy A2: 5.5432915687561035\n"
          ]
        },
        {
          "output_type": "stream",
          "name": "stderr",
          "text": [
            "100%|██████████| 2/2 [00:00<00:00,  4.42it/s, D_fake=0.0494, D_real=0.939]\n"
          ]
        },
        {
          "output_type": "stream",
          "name": "stdout",
          "text": [
            "Shape of X:  torch.Size([4, 3, 256, 256])\n",
            "torch.Size([4, 3, 256, 256]) Entropy A1: 5.543636322021484, Entropy A2: 5.543591499328613\n",
            "Epoch [54/500], Avg Entropy A1: 5.54349160194397, Avg Entropy A2: 5.543441534042358\n"
          ]
        },
        {
          "output_type": "stream",
          "name": "stderr",
          "text": [
            "\r  0%|          | 0/2 [00:00<?, ?it/s]"
          ]
        },
        {
          "output_type": "stream",
          "name": "stdout",
          "text": [
            "Shape of X:  torch.Size([16, 3, 256, 256])\n",
            "torch.Size([16, 3, 256, 256]) Entropy A1: 5.543564796447754, Entropy A2: 5.543507099151611\n"
          ]
        },
        {
          "output_type": "stream",
          "name": "stderr",
          "text": [
            "100%|██████████| 2/2 [00:00<00:00,  4.16it/s, D_fake=0.0475, D_real=0.941]\n"
          ]
        },
        {
          "output_type": "stream",
          "name": "stdout",
          "text": [
            "Shape of X:  torch.Size([4, 3, 256, 256])\n",
            "torch.Size([4, 3, 256, 256]) Entropy A1: 5.543213844299316, Entropy A2: 5.543160438537598\n",
            "Epoch [55/500], Avg Entropy A1: 5.543389320373535, Avg Entropy A2: 5.5433337688446045\n"
          ]
        },
        {
          "output_type": "stream",
          "name": "stderr",
          "text": [
            "\r  0%|          | 0/2 [00:00<?, ?it/s]"
          ]
        },
        {
          "output_type": "stream",
          "name": "stdout",
          "text": [
            "Shape of X:  torch.Size([16, 3, 256, 256])\n",
            "torch.Size([16, 3, 256, 256]) Entropy A1: 5.54345178604126, Entropy A2: 5.543415069580078\n"
          ]
        },
        {
          "output_type": "stream",
          "name": "stderr",
          "text": [
            "100%|██████████| 2/2 [00:00<00:00,  4.17it/s, D_fake=0.0869, D_real=0.938]\n"
          ]
        },
        {
          "output_type": "stream",
          "name": "stdout",
          "text": [
            "Shape of X:  torch.Size([4, 3, 256, 256])\n",
            "torch.Size([4, 3, 256, 256]) Entropy A1: 5.5431928634643555, Entropy A2: 5.543115139007568\n",
            "Epoch [56/500], Avg Entropy A1: 5.543322324752808, Avg Entropy A2: 5.543265104293823\n"
          ]
        },
        {
          "output_type": "stream",
          "name": "stderr",
          "text": [
            "\r  0%|          | 0/2 [00:00<?, ?it/s]"
          ]
        },
        {
          "output_type": "stream",
          "name": "stdout",
          "text": [
            "Shape of X:  torch.Size([16, 3, 256, 256])\n",
            "torch.Size([16, 3, 256, 256]) Entropy A1: 5.543267250061035, Entropy A2: 5.543210983276367\n"
          ]
        },
        {
          "output_type": "stream",
          "name": "stderr",
          "text": [
            "100%|██████████| 2/2 [00:00<00:00,  4.46it/s, D_fake=0.0574, D_real=0.943]\n"
          ]
        },
        {
          "output_type": "stream",
          "name": "stdout",
          "text": [
            "Shape of X:  torch.Size([4, 3, 256, 256])\n",
            "torch.Size([4, 3, 256, 256]) Entropy A1: 5.543388366699219, Entropy A2: 5.543349266052246\n",
            "Epoch [57/500], Avg Entropy A1: 5.543327808380127, Avg Entropy A2: 5.543280124664307\n"
          ]
        },
        {
          "output_type": "stream",
          "name": "stderr",
          "text": [
            "\r  0%|          | 0/2 [00:00<?, ?it/s]"
          ]
        },
        {
          "output_type": "stream",
          "name": "stdout",
          "text": [
            "Shape of X:  torch.Size([16, 3, 256, 256])\n",
            "torch.Size([16, 3, 256, 256]) Entropy A1: 5.543424606323242, Entropy A2: 5.543386459350586\n"
          ]
        },
        {
          "output_type": "stream",
          "name": "stderr",
          "text": [
            "100%|██████████| 2/2 [00:00<00:00,  4.95it/s, D_fake=0.0612, D_real=0.911]\n"
          ]
        },
        {
          "output_type": "stream",
          "name": "stdout",
          "text": [
            "Shape of X:  torch.Size([4, 3, 256, 256])\n",
            "torch.Size([4, 3, 256, 256]) Entropy A1: 5.543515205383301, Entropy A2: 5.54344367980957\n",
            "Epoch [58/500], Avg Entropy A1: 5.5434699058532715, Avg Entropy A2: 5.543415069580078\n"
          ]
        },
        {
          "output_type": "stream",
          "name": "stderr",
          "text": [
            "\r  0%|          | 0/2 [00:00<?, ?it/s]"
          ]
        },
        {
          "output_type": "stream",
          "name": "stdout",
          "text": [
            "Shape of X:  torch.Size([16, 3, 256, 256])\n",
            "torch.Size([16, 3, 256, 256]) Entropy A1: 5.543467998504639, Entropy A2: 5.543412685394287\n"
          ]
        },
        {
          "output_type": "stream",
          "name": "stderr",
          "text": [
            "100%|██████████| 2/2 [00:00<00:00,  3.48it/s, D_fake=0.0667, D_real=0.91]\n"
          ]
        },
        {
          "output_type": "stream",
          "name": "stdout",
          "text": [
            "Shape of X:  torch.Size([4, 3, 256, 256])\n",
            "torch.Size([4, 3, 256, 256]) Entropy A1: 5.5432257652282715, Entropy A2: 5.54313325881958\n",
            "Epoch [59/500], Avg Entropy A1: 5.543346881866455, Avg Entropy A2: 5.543272972106934\n"
          ]
        },
        {
          "output_type": "stream",
          "name": "stderr",
          "text": [
            "\r  0%|          | 0/2 [00:00<?, ?it/s]"
          ]
        },
        {
          "output_type": "stream",
          "name": "stdout",
          "text": [
            "Shape of X:  torch.Size([16, 3, 256, 256])\n",
            "torch.Size([16, 3, 256, 256]) Entropy A1: 5.543394088745117, Entropy A2: 5.543327331542969\n"
          ]
        },
        {
          "output_type": "stream",
          "name": "stderr",
          "text": [
            "100%|██████████| 2/2 [00:00<00:00,  4.81it/s, D_fake=0.146, D_real=0.906]\n"
          ]
        },
        {
          "output_type": "stream",
          "name": "stdout",
          "text": [
            "Shape of X:  torch.Size([4, 3, 256, 256])\n",
            "torch.Size([4, 3, 256, 256]) Entropy A1: 5.54326868057251, Entropy A2: 5.543221473693848\n",
            "Epoch [60/500], Avg Entropy A1: 5.5433313846588135, Avg Entropy A2: 5.543274402618408\n"
          ]
        },
        {
          "output_type": "stream",
          "name": "stderr",
          "text": [
            "\r  0%|          | 0/2 [00:00<?, ?it/s]"
          ]
        },
        {
          "output_type": "stream",
          "name": "stdout",
          "text": [
            "Shape of X:  torch.Size([16, 3, 256, 256])\n",
            "torch.Size([16, 3, 256, 256]) Entropy A1: 5.54314661026001, Entropy A2: 5.543084144592285\n"
          ]
        },
        {
          "output_type": "stream",
          "name": "stderr",
          "text": [
            "100%|██████████| 2/2 [00:00<00:00,  5.24it/s, D_fake=0.0768, D_real=0.839]\n"
          ]
        },
        {
          "output_type": "stream",
          "name": "stdout",
          "text": [
            "Shape of X:  torch.Size([4, 3, 256, 256])\n",
            "torch.Size([4, 3, 256, 256]) Entropy A1: 5.543458938598633, Entropy A2: 5.5433855056762695\n",
            "Epoch [61/500], Avg Entropy A1: 5.543302774429321, Avg Entropy A2: 5.543234825134277\n"
          ]
        },
        {
          "output_type": "stream",
          "name": "stderr",
          "text": [
            "\r  0%|          | 0/2 [00:00<?, ?it/s]"
          ]
        },
        {
          "output_type": "stream",
          "name": "stdout",
          "text": [
            "Shape of X:  torch.Size([16, 3, 256, 256])\n",
            "torch.Size([16, 3, 256, 256]) Entropy A1: 5.543471336364746, Entropy A2: 5.54341983795166\n"
          ]
        },
        {
          "output_type": "stream",
          "name": "stderr",
          "text": [
            "100%|██████████| 2/2 [00:00<00:00,  5.20it/s, D_fake=0.0795, D_real=0.854]\n"
          ]
        },
        {
          "output_type": "stream",
          "name": "stdout",
          "text": [
            "Shape of X:  torch.Size([4, 3, 256, 256])\n",
            "torch.Size([4, 3, 256, 256]) Entropy A1: 5.5430145263671875, Entropy A2: 5.542941570281982\n",
            "Epoch [62/500], Avg Entropy A1: 5.543242931365967, Avg Entropy A2: 5.543180704116821\n"
          ]
        },
        {
          "output_type": "stream",
          "name": "stderr",
          "text": [
            "\r  0%|          | 0/2 [00:00<?, ?it/s]"
          ]
        },
        {
          "output_type": "stream",
          "name": "stdout",
          "text": [
            "Shape of X:  torch.Size([16, 3, 256, 256])\n",
            "torch.Size([16, 3, 256, 256]) Entropy A1: 5.543165683746338, Entropy A2: 5.543087959289551\n"
          ]
        },
        {
          "output_type": "stream",
          "name": "stderr",
          "text": [
            "100%|██████████| 2/2 [00:00<00:00,  5.05it/s, D_fake=0.0757, D_real=0.939]\n"
          ]
        },
        {
          "output_type": "stream",
          "name": "stdout",
          "text": [
            "Shape of X:  torch.Size([4, 3, 256, 256])\n",
            "torch.Size([4, 3, 256, 256]) Entropy A1: 5.543266296386719, Entropy A2: 5.543221950531006\n",
            "Epoch [63/500], Avg Entropy A1: 5.543215990066528, Avg Entropy A2: 5.543154954910278\n"
          ]
        },
        {
          "output_type": "stream",
          "name": "stderr",
          "text": [
            "\r  0%|          | 0/2 [00:00<?, ?it/s]"
          ]
        },
        {
          "output_type": "stream",
          "name": "stdout",
          "text": [
            "Shape of X:  torch.Size([16, 3, 256, 256])\n",
            "torch.Size([16, 3, 256, 256]) Entropy A1: 5.543281555175781, Entropy A2: 5.543240547180176\n"
          ]
        },
        {
          "output_type": "stream",
          "name": "stderr",
          "text": [
            "100%|██████████| 2/2 [00:00<00:00,  5.12it/s, D_fake=0.0754, D_real=0.946]\n"
          ]
        },
        {
          "output_type": "stream",
          "name": "stdout",
          "text": [
            "Shape of X:  torch.Size([4, 3, 256, 256])\n",
            "torch.Size([4, 3, 256, 256]) Entropy A1: 5.542995452880859, Entropy A2: 5.542898178100586\n",
            "Epoch [64/500], Avg Entropy A1: 5.54313850402832, Avg Entropy A2: 5.543069362640381\n"
          ]
        },
        {
          "output_type": "stream",
          "name": "stderr",
          "text": [
            "\r  0%|          | 0/2 [00:00<?, ?it/s]"
          ]
        },
        {
          "output_type": "stream",
          "name": "stdout",
          "text": [
            "Shape of X:  torch.Size([16, 3, 256, 256])\n",
            "torch.Size([16, 3, 256, 256]) Entropy A1: 5.543057441711426, Entropy A2: 5.542990207672119\n"
          ]
        },
        {
          "output_type": "stream",
          "name": "stderr",
          "text": [
            "100%|██████████| 2/2 [00:00<00:00,  3.43it/s, D_fake=0.0503, D_real=0.943]\n"
          ]
        },
        {
          "output_type": "stream",
          "name": "stdout",
          "text": [
            "Shape of X:  torch.Size([4, 3, 256, 256])\n",
            "torch.Size([4, 3, 256, 256]) Entropy A1: 5.543478488922119, Entropy A2: 5.543469429016113\n",
            "Epoch [65/500], Avg Entropy A1: 5.5432679653167725, Avg Entropy A2: 5.543229818344116\n"
          ]
        },
        {
          "output_type": "stream",
          "name": "stderr",
          "text": [
            "\r  0%|          | 0/2 [00:00<?, ?it/s]"
          ]
        },
        {
          "output_type": "stream",
          "name": "stdout",
          "text": [
            "Shape of X:  torch.Size([16, 3, 256, 256])\n",
            "torch.Size([16, 3, 256, 256]) Entropy A1: 5.54343318939209, Entropy A2: 5.543400764465332\n"
          ]
        },
        {
          "output_type": "stream",
          "name": "stderr",
          "text": [
            "100%|██████████| 2/2 [00:00<00:00,  3.91it/s, D_fake=0.043, D_real=0.936]\n"
          ]
        },
        {
          "output_type": "stream",
          "name": "stdout",
          "text": [
            "Shape of X:  torch.Size([4, 3, 256, 256])\n",
            "torch.Size([4, 3, 256, 256]) Entropy A1: 5.543298721313477, Entropy A2: 5.543264389038086\n",
            "Epoch [66/500], Avg Entropy A1: 5.543365955352783, Avg Entropy A2: 5.543332576751709\n"
          ]
        },
        {
          "output_type": "stream",
          "name": "stderr",
          "text": [
            "\r  0%|          | 0/2 [00:00<?, ?it/s]"
          ]
        },
        {
          "output_type": "stream",
          "name": "stdout",
          "text": [
            "Shape of X:  torch.Size([16, 3, 256, 256])\n",
            "torch.Size([16, 3, 256, 256]) Entropy A1: 5.543188095092773, Entropy A2: 5.543142318725586\n"
          ]
        },
        {
          "output_type": "stream",
          "name": "stderr",
          "text": [
            "100%|██████████| 2/2 [00:00<00:00,  3.40it/s, D_fake=0.0459, D_real=0.942]\n"
          ]
        },
        {
          "output_type": "stream",
          "name": "stdout",
          "text": [
            "Shape of X:  torch.Size([4, 3, 256, 256])\n",
            "torch.Size([4, 3, 256, 256]) Entropy A1: 5.543173313140869, Entropy A2: 5.543130874633789\n",
            "Epoch [67/500], Avg Entropy A1: 5.543180704116821, Avg Entropy A2: 5.5431365966796875\n"
          ]
        },
        {
          "output_type": "stream",
          "name": "stderr",
          "text": [
            "\r  0%|          | 0/2 [00:00<?, ?it/s]"
          ]
        },
        {
          "output_type": "stream",
          "name": "stdout",
          "text": [
            "Shape of X:  torch.Size([16, 3, 256, 256])\n",
            "torch.Size([16, 3, 256, 256]) Entropy A1: 5.5428466796875, Entropy A2: 5.542830467224121\n"
          ]
        },
        {
          "output_type": "stream",
          "name": "stderr",
          "text": [
            "100%|██████████| 2/2 [00:00<00:00,  3.95it/s, D_fake=0.0403, D_real=0.947]\n"
          ]
        },
        {
          "output_type": "stream",
          "name": "stdout",
          "text": [
            "Shape of X:  torch.Size([4, 3, 256, 256])\n",
            "torch.Size([4, 3, 256, 256]) Entropy A1: 5.543224334716797, Entropy A2: 5.543159008026123\n",
            "Epoch [68/500], Avg Entropy A1: 5.543035507202148, Avg Entropy A2: 5.542994737625122\n"
          ]
        },
        {
          "output_type": "stream",
          "name": "stderr",
          "text": [
            "\r  0%|          | 0/2 [00:00<?, ?it/s]"
          ]
        },
        {
          "output_type": "stream",
          "name": "stdout",
          "text": [
            "Shape of X:  torch.Size([16, 3, 256, 256])\n",
            "torch.Size([16, 3, 256, 256]) Entropy A1: 5.543257713317871, Entropy A2: 5.54319953918457\n"
          ]
        },
        {
          "output_type": "stream",
          "name": "stderr",
          "text": [
            "100%|██████████| 2/2 [00:00<00:00,  3.59it/s, D_fake=0.0433, D_real=0.943]\n"
          ]
        },
        {
          "output_type": "stream",
          "name": "stdout",
          "text": [
            "Shape of X:  torch.Size([4, 3, 256, 256])\n",
            "torch.Size([4, 3, 256, 256]) Entropy A1: 5.543481349945068, Entropy A2: 5.543476104736328\n",
            "Epoch [69/500], Avg Entropy A1: 5.54336953163147, Avg Entropy A2: 5.543337821960449\n"
          ]
        },
        {
          "output_type": "stream",
          "name": "stderr",
          "text": [
            "\r  0%|          | 0/2 [00:00<?, ?it/s]"
          ]
        },
        {
          "output_type": "stream",
          "name": "stdout",
          "text": [
            "Shape of X:  torch.Size([16, 3, 256, 256])\n",
            "torch.Size([16, 3, 256, 256]) Entropy A1: 5.543229579925537, Entropy A2: 5.543178558349609\n"
          ]
        },
        {
          "output_type": "stream",
          "name": "stderr",
          "text": [
            "100%|██████████| 2/2 [00:00<00:00,  3.86it/s, D_fake=0.0479, D_real=0.951]\n"
          ]
        },
        {
          "output_type": "stream",
          "name": "stdout",
          "text": [
            "Shape of X:  torch.Size([4, 3, 256, 256])\n",
            "torch.Size([4, 3, 256, 256]) Entropy A1: 5.542914390563965, Entropy A2: 5.542874336242676\n",
            "Epoch [70/500], Avg Entropy A1: 5.543071985244751, Avg Entropy A2: 5.543026447296143\n"
          ]
        },
        {
          "output_type": "stream",
          "name": "stderr",
          "text": [
            "\r  0%|          | 0/2 [00:00<?, ?it/s]"
          ]
        },
        {
          "output_type": "stream",
          "name": "stdout",
          "text": [
            "Shape of X:  torch.Size([16, 3, 256, 256])\n",
            "torch.Size([16, 3, 256, 256]) Entropy A1: 5.543254852294922, Entropy A2: 5.543201446533203\n"
          ]
        },
        {
          "output_type": "stream",
          "name": "stderr",
          "text": [
            "100%|██████████| 2/2 [00:00<00:00,  4.10it/s, D_fake=0.0496, D_real=0.953]\n"
          ]
        },
        {
          "output_type": "stream",
          "name": "stdout",
          "text": [
            "Shape of X:  torch.Size([4, 3, 256, 256])\n",
            "torch.Size([4, 3, 256, 256]) Entropy A1: 5.543338775634766, Entropy A2: 5.543294429779053\n",
            "Epoch [71/500], Avg Entropy A1: 5.543296813964844, Avg Entropy A2: 5.543247938156128\n"
          ]
        },
        {
          "output_type": "stream",
          "name": "stderr",
          "text": [
            "\r  0%|          | 0/2 [00:00<?, ?it/s]"
          ]
        },
        {
          "output_type": "stream",
          "name": "stdout",
          "text": [
            "Shape of X:  torch.Size([16, 3, 256, 256])\n",
            "torch.Size([16, 3, 256, 256]) Entropy A1: 5.543099880218506, Entropy A2: 5.543049335479736\n"
          ]
        },
        {
          "output_type": "stream",
          "name": "stderr",
          "text": [
            "100%|██████████| 2/2 [00:00<00:00,  3.31it/s, D_fake=0.044, D_real=0.952]\n"
          ]
        },
        {
          "output_type": "stream",
          "name": "stdout",
          "text": [
            "Shape of X:  torch.Size([4, 3, 256, 256])\n",
            "torch.Size([4, 3, 256, 256]) Entropy A1: 5.543093681335449, Entropy A2: 5.54306173324585\n",
            "Epoch [72/500], Avg Entropy A1: 5.5430967807769775, Avg Entropy A2: 5.543055534362793\n"
          ]
        },
        {
          "output_type": "stream",
          "name": "stderr",
          "text": [
            "\r  0%|          | 0/2 [00:00<?, ?it/s]"
          ]
        },
        {
          "output_type": "stream",
          "name": "stdout",
          "text": [
            "Shape of X:  torch.Size([16, 3, 256, 256])\n",
            "torch.Size([16, 3, 256, 256]) Entropy A1: 5.54313325881958, Entropy A2: 5.543089866638184\n"
          ]
        },
        {
          "output_type": "stream",
          "name": "stderr",
          "text": [
            "100%|██████████| 2/2 [00:00<00:00,  4.10it/s, D_fake=0.0405, D_real=0.952]\n"
          ]
        },
        {
          "output_type": "stream",
          "name": "stdout",
          "text": [
            "Shape of X:  torch.Size([4, 3, 256, 256])\n",
            "torch.Size([4, 3, 256, 256]) Entropy A1: 5.543180465698242, Entropy A2: 5.543154716491699\n",
            "Epoch [73/500], Avg Entropy A1: 5.543156862258911, Avg Entropy A2: 5.543122291564941\n"
          ]
        },
        {
          "output_type": "stream",
          "name": "stderr",
          "text": [
            "\r  0%|          | 0/2 [00:00<?, ?it/s]"
          ]
        },
        {
          "output_type": "stream",
          "name": "stdout",
          "text": [
            "Shape of X:  torch.Size([16, 3, 256, 256])\n",
            "torch.Size([16, 3, 256, 256]) Entropy A1: 5.543152809143066, Entropy A2: 5.543120384216309\n"
          ]
        },
        {
          "output_type": "stream",
          "name": "stderr",
          "text": [
            "100%|██████████| 2/2 [00:00<00:00,  3.76it/s, D_fake=0.0414, D_real=0.955]\n"
          ]
        },
        {
          "output_type": "stream",
          "name": "stdout",
          "text": [
            "Shape of X:  torch.Size([4, 3, 256, 256])\n",
            "torch.Size([4, 3, 256, 256]) Entropy A1: 5.5429463386535645, Entropy A2: 5.54288387298584\n",
            "Epoch [74/500], Avg Entropy A1: 5.543049573898315, Avg Entropy A2: 5.543002128601074\n"
          ]
        },
        {
          "output_type": "stream",
          "name": "stderr",
          "text": [
            "\r  0%|          | 0/2 [00:00<?, ?it/s]"
          ]
        },
        {
          "output_type": "stream",
          "name": "stdout",
          "text": [
            "Shape of X:  torch.Size([16, 3, 256, 256])\n",
            "torch.Size([16, 3, 256, 256]) Entropy A1: 5.543215751647949, Entropy A2: 5.543193817138672\n"
          ]
        },
        {
          "output_type": "stream",
          "name": "stderr",
          "text": [
            "100%|██████████| 2/2 [00:00<00:00,  3.49it/s, D_fake=0.0764, D_real=0.933]\n"
          ]
        },
        {
          "output_type": "stream",
          "name": "stdout",
          "text": [
            "Shape of X:  torch.Size([4, 3, 256, 256])\n",
            "torch.Size([4, 3, 256, 256]) Entropy A1: 5.542941570281982, Entropy A2: 5.542852401733398\n",
            "Epoch [75/500], Avg Entropy A1: 5.543078660964966, Avg Entropy A2: 5.543023109436035\n"
          ]
        },
        {
          "output_type": "stream",
          "name": "stderr",
          "text": [
            "\r  0%|          | 0/2 [00:00<?, ?it/s]"
          ]
        },
        {
          "output_type": "stream",
          "name": "stdout",
          "text": [
            "Shape of X:  torch.Size([16, 3, 256, 256])\n",
            "torch.Size([16, 3, 256, 256]) Entropy A1: 5.5429487228393555, Entropy A2: 5.542901039123535\n"
          ]
        },
        {
          "output_type": "stream",
          "name": "stderr",
          "text": [
            "100%|██████████| 2/2 [00:00<00:00,  3.74it/s, D_fake=0.358, D_real=0.698]\n"
          ]
        },
        {
          "output_type": "stream",
          "name": "stdout",
          "text": [
            "Shape of X:  torch.Size([4, 3, 256, 256])\n",
            "torch.Size([4, 3, 256, 256]) Entropy A1: 5.542774200439453, Entropy A2: 5.542718410491943\n",
            "Epoch [76/500], Avg Entropy A1: 5.542861461639404, Avg Entropy A2: 5.542809724807739\n"
          ]
        },
        {
          "output_type": "stream",
          "name": "stderr",
          "text": [
            "\r  0%|          | 0/2 [00:00<?, ?it/s]"
          ]
        },
        {
          "output_type": "stream",
          "name": "stdout",
          "text": [
            "Shape of X:  torch.Size([16, 3, 256, 256])\n",
            "torch.Size([16, 3, 256, 256]) Entropy A1: 5.543540954589844, Entropy A2: 5.543524742126465\n"
          ]
        },
        {
          "output_type": "stream",
          "name": "stderr",
          "text": [
            "100%|██████████| 2/2 [00:00<00:00,  3.46it/s, D_fake=0.255, D_real=0.763]\n"
          ]
        },
        {
          "output_type": "stream",
          "name": "stdout",
          "text": [
            "Shape of X:  torch.Size([4, 3, 256, 256])\n",
            "torch.Size([4, 3, 256, 256]) Entropy A1: 5.542952537536621, Entropy A2: 5.542891979217529\n",
            "Epoch [77/500], Avg Entropy A1: 5.543246746063232, Avg Entropy A2: 5.543208360671997\n"
          ]
        },
        {
          "output_type": "stream",
          "name": "stderr",
          "text": [
            "\r  0%|          | 0/2 [00:00<?, ?it/s]"
          ]
        },
        {
          "output_type": "stream",
          "name": "stdout",
          "text": [
            "Shape of X:  torch.Size([16, 3, 256, 256])\n",
            "torch.Size([16, 3, 256, 256]) Entropy A1: 5.542898178100586, Entropy A2: 5.542849063873291\n"
          ]
        },
        {
          "output_type": "stream",
          "name": "stderr",
          "text": [
            "100%|██████████| 2/2 [00:00<00:00,  3.70it/s, D_fake=0.0858, D_real=0.807]\n"
          ]
        },
        {
          "output_type": "stream",
          "name": "stdout",
          "text": [
            "Shape of X:  torch.Size([4, 3, 256, 256])\n",
            "torch.Size([4, 3, 256, 256]) Entropy A1: 5.543121814727783, Entropy A2: 5.5431294441223145\n",
            "Epoch [78/500], Avg Entropy A1: 5.543009996414185, Avg Entropy A2: 5.542989253997803\n"
          ]
        },
        {
          "output_type": "stream",
          "name": "stderr",
          "text": [
            "\r  0%|          | 0/2 [00:00<?, ?it/s]"
          ]
        },
        {
          "output_type": "stream",
          "name": "stdout",
          "text": [
            "Shape of X:  torch.Size([16, 3, 256, 256])\n",
            "torch.Size([16, 3, 256, 256]) Entropy A1: 5.543272018432617, Entropy A2: 5.543260097503662\n"
          ]
        },
        {
          "output_type": "stream",
          "name": "stderr",
          "text": [
            "100%|██████████| 2/2 [00:00<00:00,  4.54it/s, D_fake=0.0843, D_real=0.827]\n"
          ]
        },
        {
          "output_type": "stream",
          "name": "stdout",
          "text": [
            "Shape of X:  torch.Size([4, 3, 256, 256])\n",
            "torch.Size([4, 3, 256, 256]) Entropy A1: 5.543548107147217, Entropy A2: 5.543545246124268\n",
            "Epoch [79/500], Avg Entropy A1: 5.543410062789917, Avg Entropy A2: 5.543402671813965\n"
          ]
        },
        {
          "output_type": "stream",
          "name": "stderr",
          "text": [
            "\r  0%|          | 0/2 [00:00<?, ?it/s]"
          ]
        },
        {
          "output_type": "stream",
          "name": "stdout",
          "text": [
            "Shape of X:  torch.Size([16, 3, 256, 256])\n",
            "torch.Size([16, 3, 256, 256]) Entropy A1: 5.543222427368164, Entropy A2: 5.543200492858887\n"
          ]
        },
        {
          "output_type": "stream",
          "name": "stderr",
          "text": [
            "100%|██████████| 2/2 [00:00<00:00,  4.42it/s, D_fake=0.165, D_real=0.896]\n"
          ]
        },
        {
          "output_type": "stream",
          "name": "stdout",
          "text": [
            "Shape of X:  torch.Size([4, 3, 256, 256])\n",
            "torch.Size([4, 3, 256, 256]) Entropy A1: 5.543368816375732, Entropy A2: 5.543383598327637\n",
            "Epoch [80/500], Avg Entropy A1: 5.543295621871948, Avg Entropy A2: 5.543292045593262\n"
          ]
        },
        {
          "output_type": "stream",
          "name": "stderr",
          "text": [
            "\r  0%|          | 0/2 [00:00<?, ?it/s]"
          ]
        },
        {
          "output_type": "stream",
          "name": "stdout",
          "text": [
            "Shape of X:  torch.Size([16, 3, 256, 256])\n",
            "torch.Size([16, 3, 256, 256]) Entropy A1: 5.543242931365967, Entropy A2: 5.5432257652282715\n"
          ]
        },
        {
          "output_type": "stream",
          "name": "stderr",
          "text": [
            "100%|██████████| 2/2 [00:00<00:00,  3.45it/s, D_fake=0.0649, D_real=0.906]\n"
          ]
        },
        {
          "output_type": "stream",
          "name": "stdout",
          "text": [
            "Shape of X:  torch.Size([4, 3, 256, 256])\n",
            "torch.Size([4, 3, 256, 256]) Entropy A1: 5.5433807373046875, Entropy A2: 5.54335880279541\n",
            "Epoch [81/500], Avg Entropy A1: 5.543311834335327, Avg Entropy A2: 5.543292284011841\n"
          ]
        },
        {
          "output_type": "stream",
          "name": "stderr",
          "text": [
            "\r  0%|          | 0/2 [00:00<?, ?it/s]"
          ]
        },
        {
          "output_type": "stream",
          "name": "stdout",
          "text": [
            "Shape of X:  torch.Size([16, 3, 256, 256])\n",
            "torch.Size([16, 3, 256, 256]) Entropy A1: 5.543447494506836, Entropy A2: 5.543429374694824\n"
          ]
        },
        {
          "output_type": "stream",
          "name": "stderr",
          "text": [
            "100%|██████████| 2/2 [00:00<00:00,  3.00it/s, D_fake=0.0449, D_real=0.912]\n"
          ]
        },
        {
          "output_type": "stream",
          "name": "stdout",
          "text": [
            "Shape of X:  torch.Size([4, 3, 256, 256])\n",
            "torch.Size([4, 3, 256, 256]) Entropy A1: 5.543079376220703, Entropy A2: 5.5430755615234375\n",
            "Epoch [82/500], Avg Entropy A1: 5.5432634353637695, Avg Entropy A2: 5.543252468109131\n"
          ]
        },
        {
          "output_type": "stream",
          "name": "stderr",
          "text": [
            "\r  0%|          | 0/2 [00:00<?, ?it/s]"
          ]
        },
        {
          "output_type": "stream",
          "name": "stdout",
          "text": [
            "Shape of X:  torch.Size([16, 3, 256, 256])\n",
            "torch.Size([16, 3, 256, 256]) Entropy A1: 5.543190002441406, Entropy A2: 5.543164253234863\n"
          ]
        },
        {
          "output_type": "stream",
          "name": "stderr",
          "text": [
            "100%|██████████| 2/2 [00:00<00:00,  4.10it/s, D_fake=0.0616, D_real=0.928]\n"
          ]
        },
        {
          "output_type": "stream",
          "name": "stdout",
          "text": [
            "Shape of X:  torch.Size([4, 3, 256, 256])\n",
            "torch.Size([4, 3, 256, 256]) Entropy A1: 5.5433573722839355, Entropy A2: 5.543364524841309\n",
            "Epoch [83/500], Avg Entropy A1: 5.543273687362671, Avg Entropy A2: 5.543264389038086\n"
          ]
        },
        {
          "output_type": "stream",
          "name": "stderr",
          "text": [
            "\r  0%|          | 0/2 [00:00<?, ?it/s]"
          ]
        },
        {
          "output_type": "stream",
          "name": "stdout",
          "text": [
            "Shape of X:  torch.Size([16, 3, 256, 256])\n",
            "torch.Size([16, 3, 256, 256]) Entropy A1: 5.543423652648926, Entropy A2: 5.543432235717773\n"
          ]
        },
        {
          "output_type": "stream",
          "name": "stderr",
          "text": [
            "100%|██████████| 2/2 [00:00<00:00,  4.39it/s, D_fake=0.188, D_real=0.889]\n"
          ]
        },
        {
          "output_type": "stream",
          "name": "stdout",
          "text": [
            "Shape of X:  torch.Size([4, 3, 256, 256])\n",
            "torch.Size([4, 3, 256, 256]) Entropy A1: 5.542778968811035, Entropy A2: 5.542751789093018\n",
            "Epoch [84/500], Avg Entropy A1: 5.5431013107299805, Avg Entropy A2: 5.5430920124053955\n"
          ]
        },
        {
          "output_type": "stream",
          "name": "stderr",
          "text": [
            "\r  0%|          | 0/2 [00:00<?, ?it/s]"
          ]
        },
        {
          "output_type": "stream",
          "name": "stdout",
          "text": [
            "Shape of X:  torch.Size([16, 3, 256, 256])\n",
            "torch.Size([16, 3, 256, 256]) Entropy A1: 5.543243885040283, Entropy A2: 5.54326057434082\n"
          ]
        },
        {
          "output_type": "stream",
          "name": "stderr",
          "text": [
            "100%|██████████| 2/2 [00:00<00:00,  4.34it/s, D_fake=0.0384, D_real=0.844]\n"
          ]
        },
        {
          "output_type": "stream",
          "name": "stdout",
          "text": [
            "Shape of X:  torch.Size([4, 3, 256, 256])\n",
            "torch.Size([4, 3, 256, 256]) Entropy A1: 5.542690277099609, Entropy A2: 5.542697906494141\n",
            "Epoch [85/500], Avg Entropy A1: 5.542967081069946, Avg Entropy A2: 5.5429792404174805\n"
          ]
        },
        {
          "output_type": "stream",
          "name": "stderr",
          "text": [
            "\r  0%|          | 0/2 [00:00<?, ?it/s]"
          ]
        },
        {
          "output_type": "stream",
          "name": "stdout",
          "text": [
            "Shape of X:  torch.Size([16, 3, 256, 256])\n",
            "torch.Size([16, 3, 256, 256]) Entropy A1: 5.543087005615234, Entropy A2: 5.543072700500488\n"
          ]
        },
        {
          "output_type": "stream",
          "name": "stderr",
          "text": [
            "100%|██████████| 2/2 [00:00<00:00,  4.53it/s, D_fake=0.0539, D_real=0.866]\n"
          ]
        },
        {
          "output_type": "stream",
          "name": "stdout",
          "text": [
            "Shape of X:  torch.Size([4, 3, 256, 256])\n",
            "torch.Size([4, 3, 256, 256]) Entropy A1: 5.542918682098389, Entropy A2: 5.542919158935547\n",
            "Epoch [86/500], Avg Entropy A1: 5.5430028438568115, Avg Entropy A2: 5.542995929718018\n"
          ]
        },
        {
          "output_type": "stream",
          "name": "stderr",
          "text": [
            "\r  0%|          | 0/2 [00:00<?, ?it/s]"
          ]
        },
        {
          "output_type": "stream",
          "name": "stdout",
          "text": [
            "Shape of X:  torch.Size([16, 3, 256, 256])\n",
            "torch.Size([16, 3, 256, 256]) Entropy A1: 5.543362617492676, Entropy A2: 5.543346881866455\n"
          ]
        },
        {
          "output_type": "stream",
          "name": "stderr",
          "text": [
            "100%|██████████| 2/2 [00:00<00:00,  4.26it/s, D_fake=0.0708, D_real=0.93]\n"
          ]
        },
        {
          "output_type": "stream",
          "name": "stdout",
          "text": [
            "Shape of X:  torch.Size([4, 3, 256, 256])\n",
            "torch.Size([4, 3, 256, 256]) Entropy A1: 5.542886257171631, Entropy A2: 5.542915344238281\n",
            "Epoch [87/500], Avg Entropy A1: 5.543124437332153, Avg Entropy A2: 5.543131113052368\n"
          ]
        },
        {
          "output_type": "stream",
          "name": "stderr",
          "text": [
            "\r  0%|          | 0/2 [00:00<?, ?it/s]"
          ]
        },
        {
          "output_type": "stream",
          "name": "stdout",
          "text": [
            "Shape of X:  torch.Size([16, 3, 256, 256])\n",
            "torch.Size([16, 3, 256, 256]) Entropy A1: 5.543309688568115, Entropy A2: 5.5433149337768555\n"
          ]
        },
        {
          "output_type": "stream",
          "name": "stderr",
          "text": [
            "100%|██████████| 2/2 [00:00<00:00,  4.28it/s, D_fake=0.0748, D_real=0.942]\n"
          ]
        },
        {
          "output_type": "stream",
          "name": "stdout",
          "text": [
            "Shape of X:  torch.Size([4, 3, 256, 256])\n",
            "torch.Size([4, 3, 256, 256]) Entropy A1: 5.543059349060059, Entropy A2: 5.543048858642578\n",
            "Epoch [88/500], Avg Entropy A1: 5.543184518814087, Avg Entropy A2: 5.543181896209717\n"
          ]
        },
        {
          "output_type": "stream",
          "name": "stderr",
          "text": [
            "\r  0%|          | 0/2 [00:00<?, ?it/s]"
          ]
        },
        {
          "output_type": "stream",
          "name": "stdout",
          "text": [
            "Shape of X:  torch.Size([16, 3, 256, 256])\n",
            "torch.Size([16, 3, 256, 256]) Entropy A1: 5.543342590332031, Entropy A2: 5.543348789215088\n"
          ]
        },
        {
          "output_type": "stream",
          "name": "stderr",
          "text": [
            "100%|██████████| 2/2 [00:00<00:00,  4.34it/s, D_fake=0.0432, D_real=0.915]\n"
          ]
        },
        {
          "output_type": "stream",
          "name": "stdout",
          "text": [
            "Shape of X:  torch.Size([4, 3, 256, 256])\n",
            "torch.Size([4, 3, 256, 256]) Entropy A1: 5.542985916137695, Entropy A2: 5.542941093444824\n",
            "Epoch [89/500], Avg Entropy A1: 5.543164253234863, Avg Entropy A2: 5.543144941329956\n"
          ]
        },
        {
          "output_type": "stream",
          "name": "stderr",
          "text": [
            "\r  0%|          | 0/2 [00:00<?, ?it/s]"
          ]
        },
        {
          "output_type": "stream",
          "name": "stdout",
          "text": [
            "Shape of X:  torch.Size([16, 3, 256, 256])\n",
            "torch.Size([16, 3, 256, 256]) Entropy A1: 5.542847156524658, Entropy A2: 5.542852401733398\n"
          ]
        },
        {
          "output_type": "stream",
          "name": "stderr",
          "text": [
            "100%|██████████| 2/2 [00:00<00:00,  5.01it/s, D_fake=0.103, D_real=0.85]\n"
          ]
        },
        {
          "output_type": "stream",
          "name": "stdout",
          "text": [
            "Shape of X:  torch.Size([4, 3, 256, 256])\n",
            "torch.Size([4, 3, 256, 256]) Entropy A1: 5.5430450439453125, Entropy A2: 5.543000221252441\n",
            "Epoch [90/500], Avg Entropy A1: 5.542946100234985, Avg Entropy A2: 5.54292631149292\n"
          ]
        },
        {
          "output_type": "stream",
          "name": "stderr",
          "text": [
            "\r  0%|          | 0/2 [00:00<?, ?it/s]"
          ]
        },
        {
          "output_type": "stream",
          "name": "stdout",
          "text": [
            "Shape of X:  torch.Size([16, 3, 256, 256])\n",
            "torch.Size([16, 3, 256, 256]) Entropy A1: 5.543041229248047, Entropy A2: 5.543034076690674\n"
          ]
        },
        {
          "output_type": "stream",
          "name": "stderr",
          "text": [
            "100%|██████████| 2/2 [00:00<00:00,  5.18it/s, D_fake=0.0602, D_real=0.877]\n"
          ]
        },
        {
          "output_type": "stream",
          "name": "stdout",
          "text": [
            "Shape of X:  torch.Size([4, 3, 256, 256])\n",
            "torch.Size([4, 3, 256, 256]) Entropy A1: 5.54329252243042, Entropy A2: 5.543299674987793\n",
            "Epoch [91/500], Avg Entropy A1: 5.543166875839233, Avg Entropy A2: 5.543166875839233\n"
          ]
        },
        {
          "output_type": "stream",
          "name": "stderr",
          "text": [
            "\r  0%|          | 0/2 [00:00<?, ?it/s]"
          ]
        },
        {
          "output_type": "stream",
          "name": "stdout",
          "text": [
            "Shape of X:  torch.Size([16, 3, 256, 256])\n",
            "torch.Size([16, 3, 256, 256]) Entropy A1: 5.543295860290527, Entropy A2: 5.543292045593262\n"
          ]
        },
        {
          "output_type": "stream",
          "name": "stderr",
          "text": [
            "100%|██████████| 2/2 [00:00<00:00,  5.02it/s, D_fake=0.0555, D_real=0.925]\n"
          ]
        },
        {
          "output_type": "stream",
          "name": "stdout",
          "text": [
            "Shape of X:  torch.Size([4, 3, 256, 256])\n",
            "torch.Size([4, 3, 256, 256]) Entropy A1: 5.543410301208496, Entropy A2: 5.5434112548828125\n",
            "Epoch [92/500], Avg Entropy A1: 5.543353080749512, Avg Entropy A2: 5.543351650238037\n"
          ]
        },
        {
          "output_type": "stream",
          "name": "stderr",
          "text": [
            "\r  0%|          | 0/2 [00:00<?, ?it/s]"
          ]
        },
        {
          "output_type": "stream",
          "name": "stdout",
          "text": [
            "Shape of X:  torch.Size([16, 3, 256, 256])\n",
            "torch.Size([16, 3, 256, 256]) Entropy A1: 5.542979717254639, Entropy A2: 5.5429887771606445\n"
          ]
        },
        {
          "output_type": "stream",
          "name": "stderr",
          "text": [
            "100%|██████████| 2/2 [00:00<00:00,  3.74it/s, D_fake=0.105, D_real=0.931]\n"
          ]
        },
        {
          "output_type": "stream",
          "name": "stdout",
          "text": [
            "Shape of X:  torch.Size([4, 3, 256, 256])\n",
            "torch.Size([4, 3, 256, 256]) Entropy A1: 5.543036460876465, Entropy A2: 5.543017387390137\n",
            "Epoch [93/500], Avg Entropy A1: 5.543008089065552, Avg Entropy A2: 5.543003082275391\n"
          ]
        },
        {
          "output_type": "stream",
          "name": "stderr",
          "text": [
            "\r  0%|          | 0/2 [00:00<?, ?it/s]"
          ]
        },
        {
          "output_type": "stream",
          "name": "stdout",
          "text": [
            "Shape of X:  torch.Size([16, 3, 256, 256])\n",
            "torch.Size([16, 3, 256, 256]) Entropy A1: 5.543150901794434, Entropy A2: 5.543146133422852\n"
          ]
        },
        {
          "output_type": "stream",
          "name": "stderr",
          "text": [
            "100%|██████████| 2/2 [00:00<00:00,  4.87it/s, D_fake=0.044, D_real=0.937]\n"
          ]
        },
        {
          "output_type": "stream",
          "name": "stdout",
          "text": [
            "Shape of X:  torch.Size([4, 3, 256, 256])\n",
            "torch.Size([4, 3, 256, 256]) Entropy A1: 5.542975902557373, Entropy A2: 5.54301643371582\n",
            "Epoch [94/500], Avg Entropy A1: 5.543063402175903, Avg Entropy A2: 5.543081283569336\n"
          ]
        },
        {
          "output_type": "stream",
          "name": "stderr",
          "text": [
            "\r  0%|          | 0/2 [00:00<?, ?it/s]"
          ]
        },
        {
          "output_type": "stream",
          "name": "stdout",
          "text": [
            "Shape of X:  torch.Size([16, 3, 256, 256])\n",
            "torch.Size([16, 3, 256, 256]) Entropy A1: 5.54268217086792, Entropy A2: 5.54268741607666\n"
          ]
        },
        {
          "output_type": "stream",
          "name": "stderr",
          "text": [
            "100%|██████████| 2/2 [00:00<00:00,  3.20it/s, D_fake=0.0675, D_real=0.927]\n"
          ]
        },
        {
          "output_type": "stream",
          "name": "stdout",
          "text": [
            "Shape of X:  torch.Size([4, 3, 256, 256])\n",
            "torch.Size([4, 3, 256, 256]) Entropy A1: 5.543197154998779, Entropy A2: 5.543225288391113\n",
            "Epoch [95/500], Avg Entropy A1: 5.54293966293335, Avg Entropy A2: 5.542956352233887\n"
          ]
        },
        {
          "output_type": "stream",
          "name": "stderr",
          "text": [
            "\r  0%|          | 0/2 [00:00<?, ?it/s]"
          ]
        },
        {
          "output_type": "stream",
          "name": "stdout",
          "text": [
            "Shape of X:  torch.Size([16, 3, 256, 256])\n",
            "torch.Size([16, 3, 256, 256]) Entropy A1: 5.543328285217285, Entropy A2: 5.543323516845703\n"
          ]
        },
        {
          "output_type": "stream",
          "name": "stderr",
          "text": [
            "100%|██████████| 2/2 [00:00<00:00,  4.60it/s, D_fake=0.0609, D_real=0.934]\n"
          ]
        },
        {
          "output_type": "stream",
          "name": "stdout",
          "text": [
            "Shape of X:  torch.Size([4, 3, 256, 256])\n",
            "torch.Size([4, 3, 256, 256]) Entropy A1: 5.542812347412109, Entropy A2: 5.54281759262085\n",
            "Epoch [96/500], Avg Entropy A1: 5.543070316314697, Avg Entropy A2: 5.543070554733276\n"
          ]
        },
        {
          "output_type": "stream",
          "name": "stderr",
          "text": [
            "\r  0%|          | 0/2 [00:00<?, ?it/s]"
          ]
        },
        {
          "output_type": "stream",
          "name": "stdout",
          "text": [
            "Shape of X:  torch.Size([16, 3, 256, 256])\n",
            "torch.Size([16, 3, 256, 256]) Entropy A1: 5.542683124542236, Entropy A2: 5.542680740356445\n"
          ]
        },
        {
          "output_type": "stream",
          "name": "stderr",
          "text": [
            "100%|██████████| 2/2 [00:00<00:00,  5.01it/s, D_fake=0.0602, D_real=0.939]\n"
          ]
        },
        {
          "output_type": "stream",
          "name": "stdout",
          "text": [
            "Shape of X:  torch.Size([4, 3, 256, 256])\n",
            "torch.Size([4, 3, 256, 256]) Entropy A1: 5.542962551116943, Entropy A2: 5.54296875\n",
            "Epoch [97/500], Avg Entropy A1: 5.54282283782959, Avg Entropy A2: 5.542824745178223\n"
          ]
        },
        {
          "output_type": "stream",
          "name": "stderr",
          "text": [
            "\r  0%|          | 0/2 [00:00<?, ?it/s]"
          ]
        },
        {
          "output_type": "stream",
          "name": "stdout",
          "text": [
            "Shape of X:  torch.Size([16, 3, 256, 256])\n",
            "torch.Size([16, 3, 256, 256]) Entropy A1: 5.54290771484375, Entropy A2: 5.542896270751953\n"
          ]
        },
        {
          "output_type": "stream",
          "name": "stderr",
          "text": [
            "100%|██████████| 2/2 [00:00<00:00,  4.68it/s, D_fake=0.055, D_real=0.938]\n"
          ]
        },
        {
          "output_type": "stream",
          "name": "stdout",
          "text": [
            "Shape of X:  torch.Size([4, 3, 256, 256])\n",
            "torch.Size([4, 3, 256, 256]) Entropy A1: 5.543628692626953, Entropy A2: 5.543630123138428\n",
            "Epoch [98/500], Avg Entropy A1: 5.543268203735352, Avg Entropy A2: 5.54326319694519\n"
          ]
        },
        {
          "output_type": "stream",
          "name": "stderr",
          "text": [
            "\r  0%|          | 0/2 [00:00<?, ?it/s]"
          ]
        },
        {
          "output_type": "stream",
          "name": "stdout",
          "text": [
            "Shape of X:  torch.Size([16, 3, 256, 256])\n",
            "torch.Size([16, 3, 256, 256]) Entropy A1: 5.542966365814209, Entropy A2: 5.542971611022949\n"
          ]
        },
        {
          "output_type": "stream",
          "name": "stderr",
          "text": [
            "100%|██████████| 2/2 [00:00<00:00,  4.61it/s, D_fake=0.0576, D_real=0.93]\n"
          ]
        },
        {
          "output_type": "stream",
          "name": "stdout",
          "text": [
            "Shape of X:  torch.Size([4, 3, 256, 256])\n",
            "torch.Size([4, 3, 256, 256]) Entropy A1: 5.542598247528076, Entropy A2: 5.542535781860352\n",
            "Epoch [99/500], Avg Entropy A1: 5.542782306671143, Avg Entropy A2: 5.54275369644165\n"
          ]
        },
        {
          "output_type": "stream",
          "name": "stderr",
          "text": [
            "\r  0%|          | 0/2 [00:00<?, ?it/s]"
          ]
        },
        {
          "output_type": "stream",
          "name": "stdout",
          "text": [
            "Shape of X:  torch.Size([16, 3, 256, 256])\n",
            "torch.Size([16, 3, 256, 256]) Entropy A1: 5.542965888977051, Entropy A2: 5.542973518371582\n"
          ]
        },
        {
          "output_type": "stream",
          "name": "stderr",
          "text": [
            "100%|██████████| 2/2 [00:00<00:00,  4.41it/s, D_fake=0.0581, D_real=0.94]\n"
          ]
        },
        {
          "output_type": "stream",
          "name": "stdout",
          "text": [
            "Shape of X:  torch.Size([4, 3, 256, 256])\n",
            "torch.Size([4, 3, 256, 256]) Entropy A1: 5.543140411376953, Entropy A2: 5.543148040771484\n",
            "Epoch [100/500], Avg Entropy A1: 5.543053150177002, Avg Entropy A2: 5.543060779571533\n",
            "Saving model at epoch 99\n",
            "Shape of x at save:  torch.Size([5, 3, 256, 256])\n"
          ]
        },
        {
          "output_type": "stream",
          "name": "stderr",
          "text": [
            "\r  0%|          | 0/2 [00:00<?, ?it/s]"
          ]
        },
        {
          "output_type": "stream",
          "name": "stdout",
          "text": [
            "Shape of X:  torch.Size([16, 3, 256, 256])\n",
            "torch.Size([16, 3, 256, 256]) Entropy A1: 5.543359756469727, Entropy A2: 5.543364524841309\n"
          ]
        },
        {
          "output_type": "stream",
          "name": "stderr",
          "text": [
            "100%|██████████| 2/2 [00:00<00:00,  4.51it/s, D_fake=0.0567, D_real=0.918]\n"
          ]
        },
        {
          "output_type": "stream",
          "name": "stdout",
          "text": [
            "Shape of X:  torch.Size([4, 3, 256, 256])\n",
            "torch.Size([4, 3, 256, 256]) Entropy A1: 5.543025970458984, Entropy A2: 5.543023109436035\n",
            "Epoch [101/500], Avg Entropy A1: 5.5431928634643555, Avg Entropy A2: 5.543193817138672\n"
          ]
        },
        {
          "output_type": "stream",
          "name": "stderr",
          "text": [
            "\r  0%|          | 0/2 [00:00<?, ?it/s]"
          ]
        },
        {
          "output_type": "stream",
          "name": "stdout",
          "text": [
            "Shape of X:  torch.Size([16, 3, 256, 256])\n",
            "torch.Size([16, 3, 256, 256]) Entropy A1: 5.542980194091797, Entropy A2: 5.542989253997803\n"
          ]
        },
        {
          "output_type": "stream",
          "name": "stderr",
          "text": [
            "100%|██████████| 2/2 [00:00<00:00,  4.61it/s, D_fake=0.0635, D_real=0.932]\n"
          ]
        },
        {
          "output_type": "stream",
          "name": "stdout",
          "text": [
            "Shape of X:  torch.Size([4, 3, 256, 256])\n",
            "torch.Size([4, 3, 256, 256]) Entropy A1: 5.542819976806641, Entropy A2: 5.54287576675415\n",
            "Epoch [102/500], Avg Entropy A1: 5.542900085449219, Avg Entropy A2: 5.542932510375977\n"
          ]
        },
        {
          "output_type": "stream",
          "name": "stderr",
          "text": [
            "\r  0%|          | 0/2 [00:00<?, ?it/s]"
          ]
        },
        {
          "output_type": "stream",
          "name": "stdout",
          "text": [
            "Shape of X:  torch.Size([16, 3, 256, 256])\n",
            "torch.Size([16, 3, 256, 256]) Entropy A1: 5.543177127838135, Entropy A2: 5.543188095092773\n"
          ]
        },
        {
          "output_type": "stream",
          "name": "stderr",
          "text": [
            "100%|██████████| 2/2 [00:00<00:00,  4.25it/s, D_fake=0.0358, D_real=0.947]\n"
          ]
        },
        {
          "output_type": "stream",
          "name": "stdout",
          "text": [
            "Shape of X:  torch.Size([4, 3, 256, 256])\n",
            "torch.Size([4, 3, 256, 256]) Entropy A1: 5.543087959289551, Entropy A2: 5.543065071105957\n",
            "Epoch [103/500], Avg Entropy A1: 5.543132543563843, Avg Entropy A2: 5.543126583099365\n"
          ]
        },
        {
          "output_type": "stream",
          "name": "stderr",
          "text": [
            "\r  0%|          | 0/2 [00:00<?, ?it/s]"
          ]
        },
        {
          "output_type": "stream",
          "name": "stdout",
          "text": [
            "Shape of X:  torch.Size([16, 3, 256, 256])\n",
            "torch.Size([16, 3, 256, 256]) Entropy A1: 5.542888641357422, Entropy A2: 5.542896270751953\n"
          ]
        },
        {
          "output_type": "stream",
          "name": "stderr",
          "text": [
            "100%|██████████| 2/2 [00:00<00:00,  4.17it/s, D_fake=0.0665, D_real=0.908]\n"
          ]
        },
        {
          "output_type": "stream",
          "name": "stdout",
          "text": [
            "Shape of X:  torch.Size([4, 3, 256, 256])\n",
            "torch.Size([4, 3, 256, 256]) Entropy A1: 5.543149471282959, Entropy A2: 5.543149948120117\n",
            "Epoch [104/500], Avg Entropy A1: 5.54301905632019, Avg Entropy A2: 5.543023109436035\n"
          ]
        },
        {
          "output_type": "stream",
          "name": "stderr",
          "text": [
            "\r  0%|          | 0/2 [00:00<?, ?it/s]"
          ]
        },
        {
          "output_type": "stream",
          "name": "stdout",
          "text": [
            "Shape of X:  torch.Size([16, 3, 256, 256])\n",
            "torch.Size([16, 3, 256, 256]) Entropy A1: 5.542786121368408, Entropy A2: 5.542792797088623\n"
          ]
        },
        {
          "output_type": "stream",
          "name": "stderr",
          "text": [
            "100%|██████████| 2/2 [00:00<00:00,  3.99it/s, D_fake=0.0783, D_real=0.934]\n"
          ]
        },
        {
          "output_type": "stream",
          "name": "stdout",
          "text": [
            "Shape of X:  torch.Size([4, 3, 256, 256])\n",
            "torch.Size([4, 3, 256, 256]) Entropy A1: 5.542846202850342, Entropy A2: 5.542859077453613\n",
            "Epoch [105/500], Avg Entropy A1: 5.542816162109375, Avg Entropy A2: 5.542825937271118\n"
          ]
        },
        {
          "output_type": "stream",
          "name": "stderr",
          "text": [
            "\r  0%|          | 0/2 [00:00<?, ?it/s]"
          ]
        },
        {
          "output_type": "stream",
          "name": "stdout",
          "text": [
            "Shape of X:  torch.Size([16, 3, 256, 256])\n",
            "torch.Size([16, 3, 256, 256]) Entropy A1: 5.543072700500488, Entropy A2: 5.543071746826172\n"
          ]
        },
        {
          "output_type": "stream",
          "name": "stderr",
          "text": [
            "100%|██████████| 2/2 [00:00<00:00,  4.18it/s, D_fake=0.0415, D_real=0.915]\n"
          ]
        },
        {
          "output_type": "stream",
          "name": "stdout",
          "text": [
            "Shape of X:  torch.Size([4, 3, 256, 256])\n",
            "torch.Size([4, 3, 256, 256]) Entropy A1: 5.543060302734375, Entropy A2: 5.5431108474731445\n",
            "Epoch [106/500], Avg Entropy A1: 5.543066501617432, Avg Entropy A2: 5.543091297149658\n"
          ]
        },
        {
          "output_type": "stream",
          "name": "stderr",
          "text": [
            "\r  0%|          | 0/2 [00:00<?, ?it/s]"
          ]
        },
        {
          "output_type": "stream",
          "name": "stdout",
          "text": [
            "Shape of X:  torch.Size([16, 3, 256, 256])\n",
            "torch.Size([16, 3, 256, 256]) Entropy A1: 5.543252944946289, Entropy A2: 5.543264389038086\n"
          ]
        },
        {
          "output_type": "stream",
          "name": "stderr",
          "text": [
            "100%|██████████| 2/2 [00:00<00:00,  4.38it/s, D_fake=0.0911, D_real=0.909]\n"
          ]
        },
        {
          "output_type": "stream",
          "name": "stdout",
          "text": [
            "Shape of X:  torch.Size([4, 3, 256, 256])\n",
            "torch.Size([4, 3, 256, 256]) Entropy A1: 5.543002128601074, Entropy A2: 5.543010711669922\n",
            "Epoch [107/500], Avg Entropy A1: 5.543127536773682, Avg Entropy A2: 5.543137550354004\n"
          ]
        },
        {
          "output_type": "stream",
          "name": "stderr",
          "text": [
            "\r  0%|          | 0/2 [00:00<?, ?it/s]"
          ]
        },
        {
          "output_type": "stream",
          "name": "stdout",
          "text": [
            "Shape of X:  torch.Size([16, 3, 256, 256])\n",
            "torch.Size([16, 3, 256, 256]) Entropy A1: 5.5431599617004395, Entropy A2: 5.543180465698242\n"
          ]
        },
        {
          "output_type": "stream",
          "name": "stderr",
          "text": [
            "100%|██████████| 2/2 [00:00<00:00,  4.42it/s, D_fake=0.0374, D_real=0.926]\n"
          ]
        },
        {
          "output_type": "stream",
          "name": "stdout",
          "text": [
            "Shape of X:  torch.Size([4, 3, 256, 256])\n",
            "torch.Size([4, 3, 256, 256]) Entropy A1: 5.54331111907959, Entropy A2: 5.5433125495910645\n",
            "Epoch [108/500], Avg Entropy A1: 5.543235540390015, Avg Entropy A2: 5.543246507644653\n"
          ]
        },
        {
          "output_type": "stream",
          "name": "stderr",
          "text": [
            "\r  0%|          | 0/2 [00:00<?, ?it/s]"
          ]
        },
        {
          "output_type": "stream",
          "name": "stdout",
          "text": [
            "Shape of X:  torch.Size([16, 3, 256, 256])\n",
            "torch.Size([16, 3, 256, 256]) Entropy A1: 5.5428619384765625, Entropy A2: 5.542880058288574\n"
          ]
        },
        {
          "output_type": "stream",
          "name": "stderr",
          "text": [
            "100%|██████████| 2/2 [00:00<00:00,  4.02it/s, D_fake=0.0469, D_real=0.923]\n"
          ]
        },
        {
          "output_type": "stream",
          "name": "stdout",
          "text": [
            "Shape of X:  torch.Size([4, 3, 256, 256])\n",
            "torch.Size([4, 3, 256, 256]) Entropy A1: 5.543471336364746, Entropy A2: 5.543492317199707\n",
            "Epoch [109/500], Avg Entropy A1: 5.543166637420654, Avg Entropy A2: 5.543186187744141\n"
          ]
        },
        {
          "output_type": "stream",
          "name": "stderr",
          "text": [
            "\r  0%|          | 0/2 [00:00<?, ?it/s]"
          ]
        },
        {
          "output_type": "stream",
          "name": "stdout",
          "text": [
            "Shape of X:  torch.Size([16, 3, 256, 256])\n",
            "torch.Size([16, 3, 256, 256]) Entropy A1: 5.543435096740723, Entropy A2: 5.543457984924316\n"
          ]
        },
        {
          "output_type": "stream",
          "name": "stderr",
          "text": [
            "100%|██████████| 2/2 [00:00<00:00,  4.24it/s, D_fake=0.143, D_real=0.813]\n"
          ]
        },
        {
          "output_type": "stream",
          "name": "stdout",
          "text": [
            "Shape of X:  torch.Size([4, 3, 256, 256])\n",
            "torch.Size([4, 3, 256, 256]) Entropy A1: 5.542947769165039, Entropy A2: 5.542966842651367\n",
            "Epoch [110/500], Avg Entropy A1: 5.543191432952881, Avg Entropy A2: 5.543212413787842\n"
          ]
        },
        {
          "output_type": "stream",
          "name": "stderr",
          "text": [
            "\r  0%|          | 0/2 [00:00<?, ?it/s]"
          ]
        },
        {
          "output_type": "stream",
          "name": "stdout",
          "text": [
            "Shape of X:  torch.Size([16, 3, 256, 256])\n",
            "torch.Size([16, 3, 256, 256]) Entropy A1: 5.54328727722168, Entropy A2: 5.543306350708008\n"
          ]
        },
        {
          "output_type": "stream",
          "name": "stderr",
          "text": [
            "100%|██████████| 2/2 [00:00<00:00,  4.17it/s, D_fake=0.134, D_real=0.85]\n"
          ]
        },
        {
          "output_type": "stream",
          "name": "stdout",
          "text": [
            "Shape of X:  torch.Size([4, 3, 256, 256])\n",
            "torch.Size([4, 3, 256, 256]) Entropy A1: 5.543599605560303, Entropy A2: 5.5436320304870605\n",
            "Epoch [111/500], Avg Entropy A1: 5.543443441390991, Avg Entropy A2: 5.543469190597534\n"
          ]
        },
        {
          "output_type": "stream",
          "name": "stderr",
          "text": [
            "\r  0%|          | 0/2 [00:00<?, ?it/s]"
          ]
        },
        {
          "output_type": "stream",
          "name": "stdout",
          "text": [
            "Shape of X:  torch.Size([16, 3, 256, 256])\n",
            "torch.Size([16, 3, 256, 256]) Entropy A1: 5.5431437492370605, Entropy A2: 5.543181896209717\n"
          ]
        },
        {
          "output_type": "stream",
          "name": "stderr",
          "text": [
            "100%|██████████| 2/2 [00:00<00:00,  4.66it/s, D_fake=0.11, D_real=0.725]\n"
          ]
        },
        {
          "output_type": "stream",
          "name": "stdout",
          "text": [
            "Shape of X:  torch.Size([4, 3, 256, 256])\n",
            "torch.Size([4, 3, 256, 256]) Entropy A1: 5.543105125427246, Entropy A2: 5.54315185546875\n",
            "Epoch [112/500], Avg Entropy A1: 5.543124437332153, Avg Entropy A2: 5.543166875839233\n"
          ]
        },
        {
          "output_type": "stream",
          "name": "stderr",
          "text": [
            "\r  0%|          | 0/2 [00:00<?, ?it/s]"
          ]
        },
        {
          "output_type": "stream",
          "name": "stdout",
          "text": [
            "Shape of X:  torch.Size([16, 3, 256, 256])\n",
            "torch.Size([16, 3, 256, 256]) Entropy A1: 5.542913436889648, Entropy A2: 5.5429277420043945\n"
          ]
        },
        {
          "output_type": "stream",
          "name": "stderr",
          "text": [
            "100%|██████████| 2/2 [00:00<00:00,  3.27it/s, D_fake=0.067, D_real=0.799]\n"
          ]
        },
        {
          "output_type": "stream",
          "name": "stdout",
          "text": [
            "Shape of X:  torch.Size([4, 3, 256, 256])\n",
            "torch.Size([4, 3, 256, 256]) Entropy A1: 5.543304920196533, Entropy A2: 5.543321132659912\n",
            "Epoch [113/500], Avg Entropy A1: 5.543109178543091, Avg Entropy A2: 5.543124437332153\n"
          ]
        },
        {
          "output_type": "stream",
          "name": "stderr",
          "text": [
            "\r  0%|          | 0/2 [00:00<?, ?it/s]"
          ]
        },
        {
          "output_type": "stream",
          "name": "stdout",
          "text": [
            "Shape of X:  torch.Size([16, 3, 256, 256])\n",
            "torch.Size([16, 3, 256, 256]) Entropy A1: 5.542736053466797, Entropy A2: 5.542762279510498\n"
          ]
        },
        {
          "output_type": "stream",
          "name": "stderr",
          "text": [
            "100%|██████████| 2/2 [00:00<00:00,  2.79it/s, D_fake=0.0826, D_real=0.936]\n"
          ]
        },
        {
          "output_type": "stream",
          "name": "stdout",
          "text": [
            "Shape of X:  torch.Size([4, 3, 256, 256])\n",
            "torch.Size([4, 3, 256, 256]) Entropy A1: 5.543052673339844, Entropy A2: 5.5431013107299805\n",
            "Epoch [114/500], Avg Entropy A1: 5.54289436340332, Avg Entropy A2: 5.542931795120239\n"
          ]
        },
        {
          "output_type": "stream",
          "name": "stderr",
          "text": [
            "\r  0%|          | 0/2 [00:00<?, ?it/s]"
          ]
        },
        {
          "output_type": "stream",
          "name": "stdout",
          "text": [
            "Shape of X:  torch.Size([16, 3, 256, 256])\n",
            "torch.Size([16, 3, 256, 256]) Entropy A1: 5.543355941772461, Entropy A2: 5.543387413024902\n"
          ]
        },
        {
          "output_type": "stream",
          "name": "stderr",
          "text": [
            "100%|██████████| 2/2 [00:00<00:00,  4.14it/s, D_fake=0.0814, D_real=0.941]\n"
          ]
        },
        {
          "output_type": "stream",
          "name": "stdout",
          "text": [
            "Shape of X:  torch.Size([4, 3, 256, 256])\n",
            "torch.Size([4, 3, 256, 256]) Entropy A1: 5.543403148651123, Entropy A2: 5.543440818786621\n",
            "Epoch [115/500], Avg Entropy A1: 5.543379545211792, Avg Entropy A2: 5.543414115905762\n"
          ]
        },
        {
          "output_type": "stream",
          "name": "stderr",
          "text": [
            "\r  0%|          | 0/2 [00:00<?, ?it/s]"
          ]
        },
        {
          "output_type": "stream",
          "name": "stdout",
          "text": [
            "Shape of X:  torch.Size([16, 3, 256, 256])\n",
            "torch.Size([16, 3, 256, 256]) Entropy A1: 5.542922496795654, Entropy A2: 5.542963027954102\n"
          ]
        },
        {
          "output_type": "stream",
          "name": "stderr",
          "text": [
            "100%|██████████| 2/2 [00:00<00:00,  4.12it/s, D_fake=0.0578, D_real=0.943]\n"
          ]
        },
        {
          "output_type": "stream",
          "name": "stdout",
          "text": [
            "Shape of X:  torch.Size([4, 3, 256, 256])\n",
            "torch.Size([4, 3, 256, 256]) Entropy A1: 5.543041229248047, Entropy A2: 5.543029308319092\n",
            "Epoch [116/500], Avg Entropy A1: 5.542981863021851, Avg Entropy A2: 5.542996168136597\n"
          ]
        },
        {
          "output_type": "stream",
          "name": "stderr",
          "text": [
            "\r  0%|          | 0/2 [00:00<?, ?it/s]"
          ]
        },
        {
          "output_type": "stream",
          "name": "stdout",
          "text": [
            "Shape of X:  torch.Size([16, 3, 256, 256])\n",
            "torch.Size([16, 3, 256, 256]) Entropy A1: 5.543036460876465, Entropy A2: 5.543066501617432\n"
          ]
        },
        {
          "output_type": "stream",
          "name": "stderr",
          "text": [
            "100%|██████████| 2/2 [00:00<00:00,  3.07it/s, D_fake=0.0453, D_real=0.937]\n"
          ]
        },
        {
          "output_type": "stream",
          "name": "stdout",
          "text": [
            "Shape of X:  torch.Size([4, 3, 256, 256])\n",
            "torch.Size([4, 3, 256, 256]) Entropy A1: 5.542876243591309, Entropy A2: 5.542924404144287\n",
            "Epoch [117/500], Avg Entropy A1: 5.542956352233887, Avg Entropy A2: 5.542995452880859\n"
          ]
        },
        {
          "output_type": "stream",
          "name": "stderr",
          "text": [
            "\r  0%|          | 0/2 [00:00<?, ?it/s]"
          ]
        },
        {
          "output_type": "stream",
          "name": "stdout",
          "text": [
            "Shape of X:  torch.Size([16, 3, 256, 256])\n",
            "torch.Size([16, 3, 256, 256]) Entropy A1: 5.543217658996582, Entropy A2: 5.543243408203125\n"
          ]
        },
        {
          "output_type": "stream",
          "name": "stderr",
          "text": [
            "100%|██████████| 2/2 [00:00<00:00,  3.89it/s, D_fake=0.0538, D_real=0.942]\n"
          ]
        },
        {
          "output_type": "stream",
          "name": "stdout",
          "text": [
            "Shape of X:  torch.Size([4, 3, 256, 256])\n",
            "torch.Size([4, 3, 256, 256]) Entropy A1: 5.543107986450195, Entropy A2: 5.543169021606445\n",
            "Epoch [118/500], Avg Entropy A1: 5.543162822723389, Avg Entropy A2: 5.543206214904785\n"
          ]
        },
        {
          "output_type": "stream",
          "name": "stderr",
          "text": [
            "\r  0%|          | 0/2 [00:00<?, ?it/s]"
          ]
        },
        {
          "output_type": "stream",
          "name": "stdout",
          "text": [
            "Shape of X:  torch.Size([16, 3, 256, 256])\n",
            "torch.Size([16, 3, 256, 256]) Entropy A1: 5.543158531188965, Entropy A2: 5.543187141418457\n"
          ]
        },
        {
          "output_type": "stream",
          "name": "stderr",
          "text": [
            "100%|██████████| 2/2 [00:00<00:00,  3.58it/s, D_fake=0.05, D_real=0.95]\n"
          ]
        },
        {
          "output_type": "stream",
          "name": "stdout",
          "text": [
            "Shape of X:  torch.Size([4, 3, 256, 256])\n",
            "torch.Size([4, 3, 256, 256]) Entropy A1: 5.543340682983398, Entropy A2: 5.543348789215088\n",
            "Epoch [119/500], Avg Entropy A1: 5.543249607086182, Avg Entropy A2: 5.5432679653167725\n"
          ]
        },
        {
          "output_type": "stream",
          "name": "stderr",
          "text": [
            "\r  0%|          | 0/2 [00:00<?, ?it/s]"
          ]
        },
        {
          "output_type": "stream",
          "name": "stdout",
          "text": [
            "Shape of X:  torch.Size([16, 3, 256, 256])\n",
            "torch.Size([16, 3, 256, 256]) Entropy A1: 5.543034076690674, Entropy A2: 5.5430707931518555\n"
          ]
        },
        {
          "output_type": "stream",
          "name": "stderr",
          "text": [
            "100%|██████████| 2/2 [00:00<00:00,  3.85it/s, D_fake=0.0422, D_real=0.957]\n"
          ]
        },
        {
          "output_type": "stream",
          "name": "stdout",
          "text": [
            "Shape of X:  torch.Size([4, 3, 256, 256])\n",
            "torch.Size([4, 3, 256, 256]) Entropy A1: 5.54282283782959, Entropy A2: 5.542864799499512\n",
            "Epoch [120/500], Avg Entropy A1: 5.542928457260132, Avg Entropy A2: 5.542967796325684\n"
          ]
        },
        {
          "output_type": "stream",
          "name": "stderr",
          "text": [
            "\r  0%|          | 0/2 [00:00<?, ?it/s]"
          ]
        },
        {
          "output_type": "stream",
          "name": "stdout",
          "text": [
            "Shape of X:  torch.Size([16, 3, 256, 256])\n",
            "torch.Size([16, 3, 256, 256]) Entropy A1: 5.543190956115723, Entropy A2: 5.543219089508057\n"
          ]
        },
        {
          "output_type": "stream",
          "name": "stderr",
          "text": [
            "100%|██████████| 2/2 [00:00<00:00,  4.03it/s, D_fake=0.0474, D_real=0.947]\n"
          ]
        },
        {
          "output_type": "stream",
          "name": "stdout",
          "text": [
            "Shape of X:  torch.Size([4, 3, 256, 256])\n",
            "torch.Size([4, 3, 256, 256]) Entropy A1: 5.543124198913574, Entropy A2: 5.543139457702637\n",
            "Epoch [121/500], Avg Entropy A1: 5.543157577514648, Avg Entropy A2: 5.543179273605347\n"
          ]
        },
        {
          "output_type": "stream",
          "name": "stderr",
          "text": [
            "\r  0%|          | 0/2 [00:00<?, ?it/s]"
          ]
        },
        {
          "output_type": "stream",
          "name": "stdout",
          "text": [
            "Shape of X:  torch.Size([16, 3, 256, 256])\n",
            "torch.Size([16, 3, 256, 256]) Entropy A1: 5.543357849121094, Entropy A2: 5.543384075164795\n"
          ]
        },
        {
          "output_type": "stream",
          "name": "stderr",
          "text": [
            "100%|██████████| 2/2 [00:00<00:00,  3.79it/s, D_fake=0.0533, D_real=0.958]\n"
          ]
        },
        {
          "output_type": "stream",
          "name": "stdout",
          "text": [
            "Shape of X:  torch.Size([4, 3, 256, 256])\n",
            "torch.Size([4, 3, 256, 256]) Entropy A1: 5.542823314666748, Entropy A2: 5.542867660522461\n",
            "Epoch [122/500], Avg Entropy A1: 5.543090581893921, Avg Entropy A2: 5.543125867843628\n"
          ]
        },
        {
          "output_type": "stream",
          "name": "stderr",
          "text": [
            "\r  0%|          | 0/2 [00:00<?, ?it/s]"
          ]
        },
        {
          "output_type": "stream",
          "name": "stdout",
          "text": [
            "Shape of X:  torch.Size([16, 3, 256, 256])\n",
            "torch.Size([16, 3, 256, 256]) Entropy A1: 5.543247222900391, Entropy A2: 5.543280124664307\n"
          ]
        },
        {
          "output_type": "stream",
          "name": "stderr",
          "text": [
            "100%|██████████| 2/2 [00:00<00:00,  3.01it/s, D_fake=0.0278, D_real=0.959]\n"
          ]
        },
        {
          "output_type": "stream",
          "name": "stdout",
          "text": [
            "Shape of X:  torch.Size([4, 3, 256, 256])\n",
            "torch.Size([4, 3, 256, 256]) Entropy A1: 5.5437421798706055, Entropy A2: 5.543755531311035\n",
            "Epoch [123/500], Avg Entropy A1: 5.543494701385498, Avg Entropy A2: 5.543517827987671\n"
          ]
        },
        {
          "output_type": "stream",
          "name": "stderr",
          "text": [
            "\r  0%|          | 0/2 [00:00<?, ?it/s]"
          ]
        },
        {
          "output_type": "stream",
          "name": "stdout",
          "text": [
            "Shape of X:  torch.Size([16, 3, 256, 256])\n",
            "torch.Size([16, 3, 256, 256]) Entropy A1: 5.543185710906982, Entropy A2: 5.543231964111328\n"
          ]
        },
        {
          "output_type": "stream",
          "name": "stderr",
          "text": [
            "100%|██████████| 2/2 [00:00<00:00,  3.20it/s, D_fake=0.0367, D_real=0.955]\n"
          ]
        },
        {
          "output_type": "stream",
          "name": "stdout",
          "text": [
            "Shape of X:  torch.Size([4, 3, 256, 256])\n",
            "torch.Size([4, 3, 256, 256]) Entropy A1: 5.543428421020508, Entropy A2: 5.543449401855469\n",
            "Epoch [124/500], Avg Entropy A1: 5.543307065963745, Avg Entropy A2: 5.543340682983398\n"
          ]
        },
        {
          "output_type": "stream",
          "name": "stderr",
          "text": [
            "\r  0%|          | 0/2 [00:00<?, ?it/s]"
          ]
        },
        {
          "output_type": "stream",
          "name": "stdout",
          "text": [
            "Shape of X:  torch.Size([16, 3, 256, 256])\n",
            "torch.Size([16, 3, 256, 256]) Entropy A1: 5.543181896209717, Entropy A2: 5.543210983276367\n"
          ]
        },
        {
          "output_type": "stream",
          "name": "stderr",
          "text": [
            "100%|██████████| 2/2 [00:00<00:00,  3.76it/s, D_fake=0.0369, D_real=0.967]\n"
          ]
        },
        {
          "output_type": "stream",
          "name": "stdout",
          "text": [
            "Shape of X:  torch.Size([4, 3, 256, 256])\n",
            "torch.Size([4, 3, 256, 256]) Entropy A1: 5.543036460876465, Entropy A2: 5.543056488037109\n",
            "Epoch [125/500], Avg Entropy A1: 5.543109178543091, Avg Entropy A2: 5.543133735656738\n"
          ]
        },
        {
          "output_type": "stream",
          "name": "stderr",
          "text": [
            "\r  0%|          | 0/2 [00:00<?, ?it/s]"
          ]
        },
        {
          "output_type": "stream",
          "name": "stdout",
          "text": [
            "Shape of X:  torch.Size([16, 3, 256, 256])\n",
            "torch.Size([16, 3, 256, 256]) Entropy A1: 5.543564796447754, Entropy A2: 5.5435967445373535\n"
          ]
        },
        {
          "output_type": "stream",
          "name": "stderr",
          "text": [
            "100%|██████████| 2/2 [00:00<00:00,  3.28it/s, D_fake=0.0432, D_real=0.966]\n"
          ]
        },
        {
          "output_type": "stream",
          "name": "stdout",
          "text": [
            "Shape of X:  torch.Size([4, 3, 256, 256])\n",
            "torch.Size([4, 3, 256, 256]) Entropy A1: 5.5435051918029785, Entropy A2: 5.543548107147217\n",
            "Epoch [126/500], Avg Entropy A1: 5.543534994125366, Avg Entropy A2: 5.543572425842285\n"
          ]
        },
        {
          "output_type": "stream",
          "name": "stderr",
          "text": [
            "\r  0%|          | 0/2 [00:00<?, ?it/s]"
          ]
        },
        {
          "output_type": "stream",
          "name": "stdout",
          "text": [
            "Shape of X:  torch.Size([16, 3, 256, 256])\n",
            "torch.Size([16, 3, 256, 256]) Entropy A1: 5.543288230895996, Entropy A2: 5.543321132659912\n"
          ]
        },
        {
          "output_type": "stream",
          "name": "stderr",
          "text": [
            "100%|██████████| 2/2 [00:00<00:00,  4.35it/s, D_fake=0.0283, D_real=0.967]\n"
          ]
        },
        {
          "output_type": "stream",
          "name": "stdout",
          "text": [
            "Shape of X:  torch.Size([4, 3, 256, 256])\n",
            "torch.Size([4, 3, 256, 256]) Entropy A1: 5.543659687042236, Entropy A2: 5.54368782043457\n",
            "Epoch [127/500], Avg Entropy A1: 5.543473958969116, Avg Entropy A2: 5.543504476547241\n"
          ]
        },
        {
          "output_type": "stream",
          "name": "stderr",
          "text": [
            "\r  0%|          | 0/2 [00:00<?, ?it/s]"
          ]
        },
        {
          "output_type": "stream",
          "name": "stdout",
          "text": [
            "Shape of X:  torch.Size([16, 3, 256, 256])\n",
            "torch.Size([16, 3, 256, 256]) Entropy A1: 5.543355941772461, Entropy A2: 5.54339599609375\n"
          ]
        },
        {
          "output_type": "stream",
          "name": "stderr",
          "text": [
            "100%|██████████| 2/2 [00:00<00:00,  4.95it/s, D_fake=0.0406, D_real=0.962]\n"
          ]
        },
        {
          "output_type": "stream",
          "name": "stdout",
          "text": [
            "Shape of X:  torch.Size([4, 3, 256, 256])\n",
            "torch.Size([4, 3, 256, 256]) Entropy A1: 5.543427467346191, Entropy A2: 5.543469429016113\n",
            "Epoch [128/500], Avg Entropy A1: 5.543391704559326, Avg Entropy A2: 5.543432712554932\n"
          ]
        },
        {
          "output_type": "stream",
          "name": "stderr",
          "text": [
            "\r  0%|          | 0/2 [00:00<?, ?it/s]"
          ]
        },
        {
          "output_type": "stream",
          "name": "stdout",
          "text": [
            "Shape of X:  torch.Size([16, 3, 256, 256])\n",
            "torch.Size([16, 3, 256, 256]) Entropy A1: 5.543170928955078, Entropy A2: 5.543224334716797\n"
          ]
        },
        {
          "output_type": "stream",
          "name": "stderr",
          "text": [
            "100%|██████████| 2/2 [00:00<00:00,  5.09it/s, D_fake=0.0298, D_real=0.971]\n"
          ]
        },
        {
          "output_type": "stream",
          "name": "stdout",
          "text": [
            "Shape of X:  torch.Size([4, 3, 256, 256])\n",
            "torch.Size([4, 3, 256, 256]) Entropy A1: 5.543394088745117, Entropy A2: 5.543442726135254\n",
            "Epoch [129/500], Avg Entropy A1: 5.543282508850098, Avg Entropy A2: 5.543333530426025\n"
          ]
        },
        {
          "output_type": "stream",
          "name": "stderr",
          "text": [
            "\r  0%|          | 0/2 [00:00<?, ?it/s]"
          ]
        },
        {
          "output_type": "stream",
          "name": "stdout",
          "text": [
            "Shape of X:  torch.Size([16, 3, 256, 256])\n",
            "torch.Size([16, 3, 256, 256]) Entropy A1: 5.543379783630371, Entropy A2: 5.543428421020508\n"
          ]
        },
        {
          "output_type": "stream",
          "name": "stderr",
          "text": [
            "100%|██████████| 2/2 [00:00<00:00,  4.65it/s, D_fake=0.0311, D_real=0.972]\n"
          ]
        },
        {
          "output_type": "stream",
          "name": "stdout",
          "text": [
            "Shape of X:  torch.Size([4, 3, 256, 256])\n",
            "torch.Size([4, 3, 256, 256]) Entropy A1: 5.543268203735352, Entropy A2: 5.543275833129883\n",
            "Epoch [130/500], Avg Entropy A1: 5.543323993682861, Avg Entropy A2: 5.543352127075195\n"
          ]
        },
        {
          "output_type": "stream",
          "name": "stderr",
          "text": [
            "\r  0%|          | 0/2 [00:00<?, ?it/s]"
          ]
        },
        {
          "output_type": "stream",
          "name": "stdout",
          "text": [
            "Shape of X:  torch.Size([16, 3, 256, 256])\n",
            "torch.Size([16, 3, 256, 256]) Entropy A1: 5.543142795562744, Entropy A2: 5.543172359466553\n"
          ]
        },
        {
          "output_type": "stream",
          "name": "stderr",
          "text": [
            "100%|██████████| 2/2 [00:00<00:00,  4.87it/s, D_fake=0.0302, D_real=0.969]\n"
          ]
        },
        {
          "output_type": "stream",
          "name": "stdout",
          "text": [
            "Shape of X:  torch.Size([4, 3, 256, 256])\n",
            "torch.Size([4, 3, 256, 256]) Entropy A1: 5.543191909790039, Entropy A2: 5.543248653411865\n",
            "Epoch [131/500], Avg Entropy A1: 5.543167352676392, Avg Entropy A2: 5.543210506439209\n"
          ]
        },
        {
          "output_type": "stream",
          "name": "stderr",
          "text": [
            "\r  0%|          | 0/2 [00:00<?, ?it/s]"
          ]
        },
        {
          "output_type": "stream",
          "name": "stdout",
          "text": [
            "Shape of X:  torch.Size([16, 3, 256, 256])\n",
            "torch.Size([16, 3, 256, 256]) Entropy A1: 5.543515205383301, Entropy A2: 5.543548107147217\n"
          ]
        },
        {
          "output_type": "stream",
          "name": "stderr",
          "text": [
            "100%|██████████| 2/2 [00:00<00:00,  4.92it/s, D_fake=0.0251, D_real=0.962]\n"
          ]
        },
        {
          "output_type": "stream",
          "name": "stdout",
          "text": [
            "Shape of X:  torch.Size([4, 3, 256, 256])\n",
            "torch.Size([4, 3, 256, 256]) Entropy A1: 5.543169975280762, Entropy A2: 5.543222427368164\n",
            "Epoch [132/500], Avg Entropy A1: 5.543342590332031, Avg Entropy A2: 5.54338526725769\n"
          ]
        },
        {
          "output_type": "stream",
          "name": "stderr",
          "text": [
            "\r  0%|          | 0/2 [00:00<?, ?it/s]"
          ]
        },
        {
          "output_type": "stream",
          "name": "stdout",
          "text": [
            "Shape of X:  torch.Size([16, 3, 256, 256])\n",
            "torch.Size([16, 3, 256, 256]) Entropy A1: 5.543338298797607, Entropy A2: 5.543380260467529\n"
          ]
        },
        {
          "output_type": "stream",
          "name": "stderr",
          "text": [
            "100%|██████████| 2/2 [00:00<00:00,  4.28it/s, D_fake=0.0342, D_real=0.956]\n"
          ]
        },
        {
          "output_type": "stream",
          "name": "stdout",
          "text": [
            "Shape of X:  torch.Size([4, 3, 256, 256])\n",
            "torch.Size([4, 3, 256, 256]) Entropy A1: 5.543386936187744, Entropy A2: 5.5434064865112305\n",
            "Epoch [133/500], Avg Entropy A1: 5.543362617492676, Avg Entropy A2: 5.54339337348938\n"
          ]
        },
        {
          "output_type": "stream",
          "name": "stderr",
          "text": [
            "\r  0%|          | 0/2 [00:00<?, ?it/s]"
          ]
        },
        {
          "output_type": "stream",
          "name": "stdout",
          "text": [
            "Shape of X:  torch.Size([16, 3, 256, 256])\n",
            "torch.Size([16, 3, 256, 256]) Entropy A1: 5.543355941772461, Entropy A2: 5.543387413024902\n"
          ]
        },
        {
          "output_type": "stream",
          "name": "stderr",
          "text": [
            "100%|██████████| 2/2 [00:00<00:00,  4.32it/s, D_fake=0.0273, D_real=0.971]\n"
          ]
        },
        {
          "output_type": "stream",
          "name": "stdout",
          "text": [
            "Shape of X:  torch.Size([4, 3, 256, 256])\n",
            "torch.Size([4, 3, 256, 256]) Entropy A1: 5.543084621429443, Entropy A2: 5.543104648590088\n",
            "Epoch [134/500], Avg Entropy A1: 5.543220281600952, Avg Entropy A2: 5.543246030807495\n"
          ]
        },
        {
          "output_type": "stream",
          "name": "stderr",
          "text": [
            "\r  0%|          | 0/2 [00:00<?, ?it/s]"
          ]
        },
        {
          "output_type": "stream",
          "name": "stdout",
          "text": [
            "Shape of X:  torch.Size([16, 3, 256, 256])\n",
            "torch.Size([16, 3, 256, 256]) Entropy A1: 5.543034553527832, Entropy A2: 5.543066501617432\n"
          ]
        },
        {
          "output_type": "stream",
          "name": "stderr",
          "text": [
            "100%|██████████| 2/2 [00:00<00:00,  4.17it/s, D_fake=0.0343, D_real=0.977]\n"
          ]
        },
        {
          "output_type": "stream",
          "name": "stdout",
          "text": [
            "Shape of X:  torch.Size([4, 3, 256, 256])\n",
            "torch.Size([4, 3, 256, 256]) Entropy A1: 5.543252468109131, Entropy A2: 5.543303489685059\n",
            "Epoch [135/500], Avg Entropy A1: 5.5431435108184814, Avg Entropy A2: 5.543184995651245\n"
          ]
        },
        {
          "output_type": "stream",
          "name": "stderr",
          "text": [
            "\r  0%|          | 0/2 [00:00<?, ?it/s]"
          ]
        },
        {
          "output_type": "stream",
          "name": "stdout",
          "text": [
            "Shape of X:  torch.Size([16, 3, 256, 256])\n",
            "torch.Size([16, 3, 256, 256]) Entropy A1: 5.543586254119873, Entropy A2: 5.543629169464111\n"
          ]
        },
        {
          "output_type": "stream",
          "name": "stderr",
          "text": [
            "100%|██████████| 2/2 [00:00<00:00,  4.36it/s, D_fake=0.0344, D_real=0.942]\n"
          ]
        },
        {
          "output_type": "stream",
          "name": "stdout",
          "text": [
            "Shape of X:  torch.Size([4, 3, 256, 256])\n",
            "torch.Size([4, 3, 256, 256]) Entropy A1: 5.543552398681641, Entropy A2: 5.543575286865234\n",
            "Epoch [136/500], Avg Entropy A1: 5.543569326400757, Avg Entropy A2: 5.543602228164673\n"
          ]
        },
        {
          "output_type": "stream",
          "name": "stderr",
          "text": [
            "\r  0%|          | 0/2 [00:00<?, ?it/s]"
          ]
        },
        {
          "output_type": "stream",
          "name": "stdout",
          "text": [
            "Shape of X:  torch.Size([16, 3, 256, 256])\n",
            "torch.Size([16, 3, 256, 256]) Entropy A1: 5.543333053588867, Entropy A2: 5.543368816375732\n"
          ]
        },
        {
          "output_type": "stream",
          "name": "stderr",
          "text": [
            "100%|██████████| 2/2 [00:00<00:00,  4.23it/s, D_fake=0.204, D_real=0.947]\n"
          ]
        },
        {
          "output_type": "stream",
          "name": "stdout",
          "text": [
            "Shape of X:  torch.Size([4, 3, 256, 256])\n",
            "torch.Size([4, 3, 256, 256]) Entropy A1: 5.5431623458862305, Entropy A2: 5.5432257652282715\n",
            "Epoch [137/500], Avg Entropy A1: 5.543247699737549, Avg Entropy A2: 5.543297290802002\n"
          ]
        },
        {
          "output_type": "stream",
          "name": "stderr",
          "text": [
            "\r  0%|          | 0/2 [00:00<?, ?it/s]"
          ]
        },
        {
          "output_type": "stream",
          "name": "stdout",
          "text": [
            "Shape of X:  torch.Size([16, 3, 256, 256])\n",
            "torch.Size([16, 3, 256, 256]) Entropy A1: 5.542834281921387, Entropy A2: 5.542896270751953\n"
          ]
        },
        {
          "output_type": "stream",
          "name": "stderr",
          "text": [
            "100%|██████████| 2/2 [00:00<00:00,  4.25it/s, D_fake=0.0621, D_real=0.965]\n"
          ]
        },
        {
          "output_type": "stream",
          "name": "stdout",
          "text": [
            "Shape of X:  torch.Size([4, 3, 256, 256])\n",
            "torch.Size([4, 3, 256, 256]) Entropy A1: 5.543450355529785, Entropy A2: 5.543469429016113\n",
            "Epoch [138/500], Avg Entropy A1: 5.543142318725586, Avg Entropy A2: 5.543182849884033\n"
          ]
        },
        {
          "output_type": "stream",
          "name": "stderr",
          "text": [
            "\r  0%|          | 0/2 [00:00<?, ?it/s]"
          ]
        },
        {
          "output_type": "stream",
          "name": "stdout",
          "text": [
            "Shape of X:  torch.Size([16, 3, 256, 256])\n",
            "torch.Size([16, 3, 256, 256]) Entropy A1: 5.543533802032471, Entropy A2: 5.543564319610596\n"
          ]
        },
        {
          "output_type": "stream",
          "name": "stderr",
          "text": [
            "100%|██████████| 2/2 [00:00<00:00,  4.34it/s, D_fake=0.0518, D_real=0.803]\n"
          ]
        },
        {
          "output_type": "stream",
          "name": "stdout",
          "text": [
            "Shape of X:  torch.Size([4, 3, 256, 256])\n",
            "torch.Size([4, 3, 256, 256]) Entropy A1: 5.54358434677124, Entropy A2: 5.543623447418213\n",
            "Epoch [139/500], Avg Entropy A1: 5.5435590744018555, Avg Entropy A2: 5.543593883514404\n"
          ]
        },
        {
          "output_type": "stream",
          "name": "stderr",
          "text": [
            "\r  0%|          | 0/2 [00:00<?, ?it/s]"
          ]
        },
        {
          "output_type": "stream",
          "name": "stdout",
          "text": [
            "Shape of X:  torch.Size([16, 3, 256, 256])\n",
            "torch.Size([16, 3, 256, 256]) Entropy A1: 5.543632984161377, Entropy A2: 5.543671607971191\n"
          ]
        },
        {
          "output_type": "stream",
          "name": "stderr",
          "text": [
            "100%|██████████| 2/2 [00:00<00:00,  4.08it/s, D_fake=0.0605, D_real=0.877]\n"
          ]
        },
        {
          "output_type": "stream",
          "name": "stdout",
          "text": [
            "Shape of X:  torch.Size([4, 3, 256, 256])\n",
            "torch.Size([4, 3, 256, 256]) Entropy A1: 5.543465614318848, Entropy A2: 5.543516635894775\n",
            "Epoch [140/500], Avg Entropy A1: 5.543549299240112, Avg Entropy A2: 5.543594121932983\n"
          ]
        },
        {
          "output_type": "stream",
          "name": "stderr",
          "text": [
            "\r  0%|          | 0/2 [00:00<?, ?it/s]"
          ]
        },
        {
          "output_type": "stream",
          "name": "stdout",
          "text": [
            "Shape of X:  torch.Size([16, 3, 256, 256])\n",
            "torch.Size([16, 3, 256, 256]) Entropy A1: 5.543580055236816, Entropy A2: 5.543627738952637\n"
          ]
        },
        {
          "output_type": "stream",
          "name": "stderr",
          "text": [
            "100%|██████████| 2/2 [00:00<00:00,  4.24it/s, D_fake=0.0491, D_real=0.955]\n"
          ]
        },
        {
          "output_type": "stream",
          "name": "stdout",
          "text": [
            "Shape of X:  torch.Size([4, 3, 256, 256])\n",
            "torch.Size([4, 3, 256, 256]) Entropy A1: 5.543606758117676, Entropy A2: 5.543658256530762\n",
            "Epoch [141/500], Avg Entropy A1: 5.543593406677246, Avg Entropy A2: 5.543642997741699\n"
          ]
        },
        {
          "output_type": "stream",
          "name": "stderr",
          "text": [
            "\r  0%|          | 0/2 [00:00<?, ?it/s]"
          ]
        },
        {
          "output_type": "stream",
          "name": "stdout",
          "text": [
            "Shape of X:  torch.Size([16, 3, 256, 256])\n",
            "torch.Size([16, 3, 256, 256]) Entropy A1: 5.543476104736328, Entropy A2: 5.54351806640625\n"
          ]
        },
        {
          "output_type": "stream",
          "name": "stderr",
          "text": [
            "100%|██████████| 2/2 [00:00<00:00,  4.21it/s, D_fake=0.0354, D_real=0.969]\n"
          ]
        },
        {
          "output_type": "stream",
          "name": "stdout",
          "text": [
            "Shape of X:  torch.Size([4, 3, 256, 256])\n",
            "torch.Size([4, 3, 256, 256]) Entropy A1: 5.543353080749512, Entropy A2: 5.543384552001953\n",
            "Epoch [142/500], Avg Entropy A1: 5.54341459274292, Avg Entropy A2: 5.543451309204102\n"
          ]
        },
        {
          "output_type": "stream",
          "name": "stderr",
          "text": [
            "\r  0%|          | 0/2 [00:00<?, ?it/s]"
          ]
        },
        {
          "output_type": "stream",
          "name": "stdout",
          "text": [
            "Shape of X:  torch.Size([16, 3, 256, 256])\n",
            "torch.Size([16, 3, 256, 256]) Entropy A1: 5.543796539306641, Entropy A2: 5.543834686279297\n"
          ]
        },
        {
          "output_type": "stream",
          "name": "stderr",
          "text": [
            "100%|██████████| 2/2 [00:00<00:00,  3.88it/s, D_fake=0.0287, D_real=0.977]\n"
          ]
        },
        {
          "output_type": "stream",
          "name": "stdout",
          "text": [
            "Shape of X:  torch.Size([4, 3, 256, 256])\n",
            "torch.Size([4, 3, 256, 256]) Entropy A1: 5.543426990509033, Entropy A2: 5.543468952178955\n",
            "Epoch [143/500], Avg Entropy A1: 5.543611764907837, Avg Entropy A2: 5.543651819229126\n"
          ]
        },
        {
          "output_type": "stream",
          "name": "stderr",
          "text": [
            "\r  0%|          | 0/2 [00:00<?, ?it/s]"
          ]
        },
        {
          "output_type": "stream",
          "name": "stdout",
          "text": [
            "Shape of X:  torch.Size([16, 3, 256, 256])\n",
            "torch.Size([16, 3, 256, 256]) Entropy A1: 5.54366397857666, Entropy A2: 5.543705940246582\n"
          ]
        },
        {
          "output_type": "stream",
          "name": "stderr",
          "text": [
            "100%|██████████| 2/2 [00:00<00:00,  4.89it/s, D_fake=0.0412, D_real=0.973]\n"
          ]
        },
        {
          "output_type": "stream",
          "name": "stdout",
          "text": [
            "Shape of X:  torch.Size([4, 3, 256, 256])\n",
            "torch.Size([4, 3, 256, 256]) Entropy A1: 5.543249607086182, Entropy A2: 5.543294906616211\n",
            "Epoch [144/500], Avg Entropy A1: 5.543456792831421, Avg Entropy A2: 5.5435004234313965\n"
          ]
        },
        {
          "output_type": "stream",
          "name": "stderr",
          "text": [
            "\r  0%|          | 0/2 [00:00<?, ?it/s]"
          ]
        },
        {
          "output_type": "stream",
          "name": "stdout",
          "text": [
            "Shape of X:  torch.Size([16, 3, 256, 256])\n",
            "torch.Size([16, 3, 256, 256]) Entropy A1: 5.5432891845703125, Entropy A2: 5.543337821960449\n"
          ]
        },
        {
          "output_type": "stream",
          "name": "stderr",
          "text": [
            "100%|██████████| 2/2 [00:00<00:00,  4.91it/s, D_fake=0.0353, D_real=0.977]\n"
          ]
        },
        {
          "output_type": "stream",
          "name": "stdout",
          "text": [
            "Shape of X:  torch.Size([4, 3, 256, 256])\n",
            "torch.Size([4, 3, 256, 256]) Entropy A1: 5.543174743652344, Entropy A2: 5.543218612670898\n",
            "Epoch [145/500], Avg Entropy A1: 5.543231964111328, Avg Entropy A2: 5.543278217315674\n"
          ]
        },
        {
          "output_type": "stream",
          "name": "stderr",
          "text": [
            "\r  0%|          | 0/2 [00:00<?, ?it/s]"
          ]
        },
        {
          "output_type": "stream",
          "name": "stdout",
          "text": [
            "Shape of X:  torch.Size([16, 3, 256, 256])\n",
            "torch.Size([16, 3, 256, 256]) Entropy A1: 5.5429205894470215, Entropy A2: 5.542990207672119\n"
          ]
        },
        {
          "output_type": "stream",
          "name": "stderr",
          "text": [
            "100%|██████████| 2/2 [00:00<00:00,  4.76it/s, D_fake=0.0338, D_real=0.973]\n"
          ]
        },
        {
          "output_type": "stream",
          "name": "stdout",
          "text": [
            "Shape of X:  torch.Size([4, 3, 256, 256])\n",
            "torch.Size([4, 3, 256, 256]) Entropy A1: 5.54373025894165, Entropy A2: 5.543759346008301\n",
            "Epoch [146/500], Avg Entropy A1: 5.543325424194336, Avg Entropy A2: 5.54337477684021\n"
          ]
        },
        {
          "output_type": "stream",
          "name": "stderr",
          "text": [
            "\r  0%|          | 0/2 [00:00<?, ?it/s]"
          ]
        },
        {
          "output_type": "stream",
          "name": "stdout",
          "text": [
            "Shape of X:  torch.Size([16, 3, 256, 256])\n",
            "torch.Size([16, 3, 256, 256]) Entropy A1: 5.543511390686035, Entropy A2: 5.543562412261963\n"
          ]
        },
        {
          "output_type": "stream",
          "name": "stderr",
          "text": [
            "100%|██████████| 2/2 [00:00<00:00,  4.72it/s, D_fake=0.0285, D_real=0.969]\n"
          ]
        },
        {
          "output_type": "stream",
          "name": "stdout",
          "text": [
            "Shape of X:  torch.Size([4, 3, 256, 256])\n",
            "torch.Size([4, 3, 256, 256]) Entropy A1: 5.542940139770508, Entropy A2: 5.543001174926758\n",
            "Epoch [147/500], Avg Entropy A1: 5.5432257652282715, Avg Entropy A2: 5.54328179359436\n"
          ]
        },
        {
          "output_type": "stream",
          "name": "stderr",
          "text": [
            "\r  0%|          | 0/2 [00:00<?, ?it/s]"
          ]
        },
        {
          "output_type": "stream",
          "name": "stdout",
          "text": [
            "Shape of X:  torch.Size([16, 3, 256, 256])\n",
            "torch.Size([16, 3, 256, 256]) Entropy A1: 5.543371200561523, Entropy A2: 5.543421745300293\n"
          ]
        },
        {
          "output_type": "stream",
          "name": "stderr",
          "text": [
            "100%|██████████| 2/2 [00:00<00:00,  4.71it/s, D_fake=0.0258, D_real=0.973]\n"
          ]
        },
        {
          "output_type": "stream",
          "name": "stdout",
          "text": [
            "Shape of X:  torch.Size([4, 3, 256, 256])\n",
            "torch.Size([4, 3, 256, 256]) Entropy A1: 5.543608665466309, Entropy A2: 5.543652057647705\n",
            "Epoch [148/500], Avg Entropy A1: 5.543489933013916, Avg Entropy A2: 5.543536901473999\n"
          ]
        },
        {
          "output_type": "stream",
          "name": "stderr",
          "text": [
            "\r  0%|          | 0/2 [00:00<?, ?it/s]"
          ]
        },
        {
          "output_type": "stream",
          "name": "stdout",
          "text": [
            "Shape of X:  torch.Size([16, 3, 256, 256])\n",
            "torch.Size([16, 3, 256, 256]) Entropy A1: 5.543545722961426, Entropy A2: 5.543596267700195\n"
          ]
        },
        {
          "output_type": "stream",
          "name": "stderr",
          "text": [
            "100%|██████████| 2/2 [00:00<00:00,  4.91it/s, D_fake=0.0194, D_real=0.977]\n"
          ]
        },
        {
          "output_type": "stream",
          "name": "stdout",
          "text": [
            "Shape of X:  torch.Size([4, 3, 256, 256])\n",
            "torch.Size([4, 3, 256, 256]) Entropy A1: 5.543615818023682, Entropy A2: 5.543670654296875\n",
            "Epoch [149/500], Avg Entropy A1: 5.543580770492554, Avg Entropy A2: 5.543633460998535\n"
          ]
        },
        {
          "output_type": "stream",
          "name": "stderr",
          "text": [
            "\r  0%|          | 0/2 [00:00<?, ?it/s]"
          ]
        },
        {
          "output_type": "stream",
          "name": "stdout",
          "text": [
            "Shape of X:  torch.Size([16, 3, 256, 256])\n",
            "torch.Size([16, 3, 256, 256]) Entropy A1: 5.543512344360352, Entropy A2: 5.543557167053223\n"
          ]
        },
        {
          "output_type": "stream",
          "name": "stderr",
          "text": [
            "100%|██████████| 2/2 [00:00<00:00,  4.88it/s, D_fake=0.031, D_real=0.968]\n"
          ]
        },
        {
          "output_type": "stream",
          "name": "stdout",
          "text": [
            "Shape of X:  torch.Size([4, 3, 256, 256])\n",
            "torch.Size([4, 3, 256, 256]) Entropy A1: 5.543610572814941, Entropy A2: 5.5436506271362305\n",
            "Epoch [150/500], Avg Entropy A1: 5.5435614585876465, Avg Entropy A2: 5.543603897094727\n",
            "Saving model at epoch 149\n",
            "Shape of x at save:  torch.Size([5, 3, 256, 256])\n"
          ]
        },
        {
          "output_type": "stream",
          "name": "stderr",
          "text": [
            "\r  0%|          | 0/2 [00:00<?, ?it/s]"
          ]
        },
        {
          "output_type": "stream",
          "name": "stdout",
          "text": [
            "Shape of X:  torch.Size([16, 3, 256, 256])\n",
            "torch.Size([16, 3, 256, 256]) Entropy A1: 5.543795585632324, Entropy A2: 5.543842315673828\n"
          ]
        },
        {
          "output_type": "stream",
          "name": "stderr",
          "text": [
            "100%|██████████| 2/2 [00:00<00:00,  4.26it/s, D_fake=0.0338, D_real=0.974]\n"
          ]
        },
        {
          "output_type": "stream",
          "name": "stdout",
          "text": [
            "Shape of X:  torch.Size([4, 3, 256, 256])\n",
            "torch.Size([4, 3, 256, 256]) Entropy A1: 5.542835712432861, Entropy A2: 5.542936325073242\n",
            "Epoch [151/500], Avg Entropy A1: 5.543315649032593, Avg Entropy A2: 5.543389320373535\n"
          ]
        },
        {
          "output_type": "stream",
          "name": "stderr",
          "text": [
            "\r  0%|          | 0/2 [00:00<?, ?it/s]"
          ]
        },
        {
          "output_type": "stream",
          "name": "stdout",
          "text": [
            "Shape of X:  torch.Size([16, 3, 256, 256])\n",
            "torch.Size([16, 3, 256, 256]) Entropy A1: 5.543534755706787, Entropy A2: 5.543590068817139\n"
          ]
        },
        {
          "output_type": "stream",
          "name": "stderr",
          "text": [
            "100%|██████████| 2/2 [00:00<00:00,  5.12it/s, D_fake=0.0228, D_real=0.983]\n"
          ]
        },
        {
          "output_type": "stream",
          "name": "stdout",
          "text": [
            "Shape of X:  torch.Size([4, 3, 256, 256])\n",
            "torch.Size([4, 3, 256, 256]) Entropy A1: 5.543796539306641, Entropy A2: 5.543823719024658\n",
            "Epoch [152/500], Avg Entropy A1: 5.543665647506714, Avg Entropy A2: 5.543706893920898\n"
          ]
        },
        {
          "output_type": "stream",
          "name": "stderr",
          "text": [
            "\r  0%|          | 0/2 [00:00<?, ?it/s]"
          ]
        },
        {
          "output_type": "stream",
          "name": "stdout",
          "text": [
            "Shape of X:  torch.Size([16, 3, 256, 256])\n",
            "torch.Size([16, 3, 256, 256]) Entropy A1: 5.543750286102295, Entropy A2: 5.5438079833984375\n"
          ]
        },
        {
          "output_type": "stream",
          "name": "stderr",
          "text": [
            "100%|██████████| 2/2 [00:00<00:00,  5.20it/s, D_fake=0.0221, D_real=0.985]\n"
          ]
        },
        {
          "output_type": "stream",
          "name": "stdout",
          "text": [
            "Shape of X:  torch.Size([4, 3, 256, 256])\n",
            "torch.Size([4, 3, 256, 256]) Entropy A1: 5.543485641479492, Entropy A2: 5.543518543243408\n",
            "Epoch [153/500], Avg Entropy A1: 5.5436179637908936, Avg Entropy A2: 5.543663263320923\n"
          ]
        },
        {
          "output_type": "stream",
          "name": "stderr",
          "text": [
            "\r  0%|          | 0/2 [00:00<?, ?it/s]"
          ]
        },
        {
          "output_type": "stream",
          "name": "stdout",
          "text": [
            "Shape of X:  torch.Size([16, 3, 256, 256])\n",
            "torch.Size([16, 3, 256, 256]) Entropy A1: 5.543455123901367, Entropy A2: 5.543502330780029\n"
          ]
        },
        {
          "output_type": "stream",
          "name": "stderr",
          "text": [
            "100%|██████████| 2/2 [00:00<00:00,  5.12it/s, D_fake=0.0362, D_real=0.983]\n"
          ]
        },
        {
          "output_type": "stream",
          "name": "stdout",
          "text": [
            "Shape of X:  torch.Size([4, 3, 256, 256])\n",
            "torch.Size([4, 3, 256, 256]) Entropy A1: 5.543994426727295, Entropy A2: 5.54403018951416\n",
            "Epoch [154/500], Avg Entropy A1: 5.543724775314331, Avg Entropy A2: 5.543766260147095\n"
          ]
        },
        {
          "output_type": "stream",
          "name": "stderr",
          "text": [
            "\r  0%|          | 0/2 [00:00<?, ?it/s]"
          ]
        },
        {
          "output_type": "stream",
          "name": "stdout",
          "text": [
            "Shape of X:  torch.Size([16, 3, 256, 256])\n",
            "torch.Size([16, 3, 256, 256]) Entropy A1: 5.543790817260742, Entropy A2: 5.543839454650879\n"
          ]
        },
        {
          "output_type": "stream",
          "name": "stderr",
          "text": [
            "100%|██████████| 2/2 [00:00<00:00,  5.13it/s, D_fake=0.0223, D_real=0.98]\n"
          ]
        },
        {
          "output_type": "stream",
          "name": "stdout",
          "text": [
            "Shape of X:  torch.Size([4, 3, 256, 256])\n",
            "torch.Size([4, 3, 256, 256]) Entropy A1: 5.543209075927734, Entropy A2: 5.543278694152832\n",
            "Epoch [155/500], Avg Entropy A1: 5.543499946594238, Avg Entropy A2: 5.5435590744018555\n"
          ]
        },
        {
          "output_type": "stream",
          "name": "stderr",
          "text": [
            "\r  0%|          | 0/2 [00:00<?, ?it/s]"
          ]
        },
        {
          "output_type": "stream",
          "name": "stdout",
          "text": [
            "Shape of X:  torch.Size([16, 3, 256, 256])\n",
            "torch.Size([16, 3, 256, 256]) Entropy A1: 5.5432515144348145, Entropy A2: 5.543310165405273\n"
          ]
        },
        {
          "output_type": "stream",
          "name": "stderr",
          "text": [
            "100%|██████████| 2/2 [00:00<00:00,  5.16it/s, D_fake=0.0178, D_real=0.983]\n"
          ]
        },
        {
          "output_type": "stream",
          "name": "stdout",
          "text": [
            "Shape of X:  torch.Size([4, 3, 256, 256])\n",
            "torch.Size([4, 3, 256, 256]) Entropy A1: 5.543664455413818, Entropy A2: 5.543732643127441\n",
            "Epoch [156/500], Avg Entropy A1: 5.543457984924316, Avg Entropy A2: 5.543521404266357\n"
          ]
        },
        {
          "output_type": "stream",
          "name": "stderr",
          "text": [
            "\r  0%|          | 0/2 [00:00<?, ?it/s]"
          ]
        },
        {
          "output_type": "stream",
          "name": "stdout",
          "text": [
            "Shape of X:  torch.Size([16, 3, 256, 256])\n",
            "torch.Size([16, 3, 256, 256]) Entropy A1: 5.543689250946045, Entropy A2: 5.543732166290283\n"
          ]
        },
        {
          "output_type": "stream",
          "name": "stderr",
          "text": [
            "100%|██████████| 2/2 [00:00<00:00,  5.17it/s, D_fake=0.0209, D_real=0.984]\n"
          ]
        },
        {
          "output_type": "stream",
          "name": "stdout",
          "text": [
            "Shape of X:  torch.Size([4, 3, 256, 256])\n",
            "torch.Size([4, 3, 256, 256]) Entropy A1: 5.542971611022949, Entropy A2: 5.543033599853516\n",
            "Epoch [157/500], Avg Entropy A1: 5.543330430984497, Avg Entropy A2: 5.543382883071899\n"
          ]
        },
        {
          "output_type": "stream",
          "name": "stderr",
          "text": [
            "\r  0%|          | 0/2 [00:00<?, ?it/s]"
          ]
        },
        {
          "output_type": "stream",
          "name": "stdout",
          "text": [
            "Shape of X:  torch.Size([16, 3, 256, 256])\n",
            "torch.Size([16, 3, 256, 256]) Entropy A1: 5.5435285568237305, Entropy A2: 5.5435686111450195\n"
          ]
        },
        {
          "output_type": "stream",
          "name": "stderr",
          "text": [
            "100%|██████████| 2/2 [00:00<00:00,  4.94it/s, D_fake=0.0297, D_real=0.985]\n"
          ]
        },
        {
          "output_type": "stream",
          "name": "stdout",
          "text": [
            "Shape of X:  torch.Size([4, 3, 256, 256])\n",
            "torch.Size([4, 3, 256, 256]) Entropy A1: 5.543506622314453, Entropy A2: 5.543557167053223\n",
            "Epoch [158/500], Avg Entropy A1: 5.543517589569092, Avg Entropy A2: 5.543562889099121\n"
          ]
        },
        {
          "output_type": "stream",
          "name": "stderr",
          "text": [
            "\r  0%|          | 0/2 [00:00<?, ?it/s]"
          ]
        },
        {
          "output_type": "stream",
          "name": "stdout",
          "text": [
            "Shape of X:  torch.Size([16, 3, 256, 256])\n",
            "torch.Size([16, 3, 256, 256]) Entropy A1: 5.543654441833496, Entropy A2: 5.543697834014893\n"
          ]
        },
        {
          "output_type": "stream",
          "name": "stderr",
          "text": [
            "100%|██████████| 2/2 [00:00<00:00,  4.95it/s, D_fake=0.0316, D_real=0.985]\n"
          ]
        },
        {
          "output_type": "stream",
          "name": "stdout",
          "text": [
            "Shape of X:  torch.Size([4, 3, 256, 256])\n",
            "torch.Size([4, 3, 256, 256]) Entropy A1: 5.54349422454834, Entropy A2: 5.5435614585876465\n",
            "Epoch [159/500], Avg Entropy A1: 5.543574333190918, Avg Entropy A2: 5.5436296463012695\n"
          ]
        },
        {
          "output_type": "stream",
          "name": "stderr",
          "text": [
            "\r  0%|          | 0/2 [00:00<?, ?it/s]"
          ]
        },
        {
          "output_type": "stream",
          "name": "stdout",
          "text": [
            "Shape of X:  torch.Size([16, 3, 256, 256])\n",
            "torch.Size([16, 3, 256, 256]) Entropy A1: 5.543776035308838, Entropy A2: 5.543826103210449\n"
          ]
        },
        {
          "output_type": "stream",
          "name": "stderr",
          "text": [
            "100%|██████████| 2/2 [00:00<00:00,  5.01it/s, D_fake=0.026, D_real=0.978]\n"
          ]
        },
        {
          "output_type": "stream",
          "name": "stdout",
          "text": [
            "Shape of X:  torch.Size([4, 3, 256, 256])\n",
            "torch.Size([4, 3, 256, 256]) Entropy A1: 5.543412685394287, Entropy A2: 5.543447494506836\n",
            "Epoch [160/500], Avg Entropy A1: 5.5435943603515625, Avg Entropy A2: 5.543636798858643\n"
          ]
        },
        {
          "output_type": "stream",
          "name": "stderr",
          "text": [
            "\r  0%|          | 0/2 [00:00<?, ?it/s]"
          ]
        },
        {
          "output_type": "stream",
          "name": "stdout",
          "text": [
            "Shape of X:  torch.Size([16, 3, 256, 256])\n",
            "torch.Size([16, 3, 256, 256]) Entropy A1: 5.543896675109863, Entropy A2: 5.543940544128418\n"
          ]
        },
        {
          "output_type": "stream",
          "name": "stderr",
          "text": [
            "100%|██████████| 2/2 [00:00<00:00,  4.92it/s, D_fake=0.0228, D_real=0.981]\n"
          ]
        },
        {
          "output_type": "stream",
          "name": "stdout",
          "text": [
            "Shape of X:  torch.Size([4, 3, 256, 256])\n",
            "torch.Size([4, 3, 256, 256]) Entropy A1: 5.543879508972168, Entropy A2: 5.5439252853393555\n",
            "Epoch [161/500], Avg Entropy A1: 5.543888092041016, Avg Entropy A2: 5.543932914733887\n"
          ]
        },
        {
          "output_type": "stream",
          "name": "stderr",
          "text": [
            "\r  0%|          | 0/2 [00:00<?, ?it/s]"
          ]
        },
        {
          "output_type": "stream",
          "name": "stdout",
          "text": [
            "Shape of X:  torch.Size([16, 3, 256, 256])\n",
            "torch.Size([16, 3, 256, 256]) Entropy A1: 5.543495178222656, Entropy A2: 5.543563365936279\n"
          ]
        },
        {
          "output_type": "stream",
          "name": "stderr",
          "text": [
            "100%|██████████| 2/2 [00:00<00:00,  5.00it/s, D_fake=0.0223, D_real=0.976]\n"
          ]
        },
        {
          "output_type": "stream",
          "name": "stdout",
          "text": [
            "Shape of X:  torch.Size([4, 3, 256, 256])\n",
            "torch.Size([4, 3, 256, 256]) Entropy A1: 5.543455600738525, Entropy A2: 5.54351282119751\n",
            "Epoch [162/500], Avg Entropy A1: 5.543475389480591, Avg Entropy A2: 5.5435380935668945\n"
          ]
        },
        {
          "output_type": "stream",
          "name": "stderr",
          "text": [
            "\r  0%|          | 0/2 [00:00<?, ?it/s]"
          ]
        },
        {
          "output_type": "stream",
          "name": "stdout",
          "text": [
            "Shape of X:  torch.Size([16, 3, 256, 256])\n",
            "torch.Size([16, 3, 256, 256]) Entropy A1: 5.543225288391113, Entropy A2: 5.543307304382324\n"
          ]
        },
        {
          "output_type": "stream",
          "name": "stderr",
          "text": [
            "100%|██████████| 2/2 [00:00<00:00,  5.03it/s, D_fake=0.0267, D_real=0.98]\n"
          ]
        },
        {
          "output_type": "stream",
          "name": "stdout",
          "text": [
            "Shape of X:  torch.Size([4, 3, 256, 256])\n",
            "torch.Size([4, 3, 256, 256]) Entropy A1: 5.543438911437988, Entropy A2: 5.543486595153809\n",
            "Epoch [163/500], Avg Entropy A1: 5.543332099914551, Avg Entropy A2: 5.543396949768066\n"
          ]
        },
        {
          "output_type": "stream",
          "name": "stderr",
          "text": [
            "\r  0%|          | 0/2 [00:00<?, ?it/s]"
          ]
        },
        {
          "output_type": "stream",
          "name": "stdout",
          "text": [
            "Shape of X:  torch.Size([16, 3, 256, 256])\n",
            "torch.Size([16, 3, 256, 256]) Entropy A1: 5.543206214904785, Entropy A2: 5.543301582336426\n"
          ]
        },
        {
          "output_type": "stream",
          "name": "stderr",
          "text": [
            "100%|██████████| 2/2 [00:00<00:00,  5.00it/s, D_fake=0.0387, D_real=0.971]\n"
          ]
        },
        {
          "output_type": "stream",
          "name": "stdout",
          "text": [
            "Shape of X:  torch.Size([4, 3, 256, 256])\n",
            "torch.Size([4, 3, 256, 256]) Entropy A1: 5.543763160705566, Entropy A2: 5.543811321258545\n",
            "Epoch [164/500], Avg Entropy A1: 5.543484687805176, Avg Entropy A2: 5.543556451797485\n"
          ]
        },
        {
          "output_type": "stream",
          "name": "stderr",
          "text": [
            "\r  0%|          | 0/2 [00:00<?, ?it/s]"
          ]
        },
        {
          "output_type": "stream",
          "name": "stdout",
          "text": [
            "Shape of X:  torch.Size([16, 3, 256, 256])\n",
            "torch.Size([16, 3, 256, 256]) Entropy A1: 5.543448448181152, Entropy A2: 5.543498992919922\n"
          ]
        },
        {
          "output_type": "stream",
          "name": "stderr",
          "text": [
            "100%|██████████| 2/2 [00:00<00:00,  4.31it/s, D_fake=0.034, D_real=0.976]\n"
          ]
        },
        {
          "output_type": "stream",
          "name": "stdout",
          "text": [
            "Shape of X:  torch.Size([4, 3, 256, 256])\n",
            "torch.Size([4, 3, 256, 256]) Entropy A1: 5.543325424194336, Entropy A2: 5.543373107910156\n",
            "Epoch [165/500], Avg Entropy A1: 5.543386936187744, Avg Entropy A2: 5.543436050415039\n"
          ]
        },
        {
          "output_type": "stream",
          "name": "stderr",
          "text": [
            "\r  0%|          | 0/2 [00:00<?, ?it/s]"
          ]
        },
        {
          "output_type": "stream",
          "name": "stdout",
          "text": [
            "Shape of X:  torch.Size([16, 3, 256, 256])\n",
            "torch.Size([16, 3, 256, 256]) Entropy A1: 5.543786525726318, Entropy A2: 5.543833255767822\n"
          ]
        },
        {
          "output_type": "stream",
          "name": "stderr",
          "text": [
            "100%|██████████| 2/2 [00:00<00:00,  2.79it/s, D_fake=0.0217, D_real=0.977]\n"
          ]
        },
        {
          "output_type": "stream",
          "name": "stdout",
          "text": [
            "Shape of X:  torch.Size([4, 3, 256, 256])\n",
            "torch.Size([4, 3, 256, 256]) Entropy A1: 5.54354190826416, Entropy A2: 5.543593883514404\n",
            "Epoch [166/500], Avg Entropy A1: 5.543664216995239, Avg Entropy A2: 5.543713569641113\n"
          ]
        },
        {
          "output_type": "stream",
          "name": "stderr",
          "text": [
            "\r  0%|          | 0/2 [00:00<?, ?it/s]"
          ]
        },
        {
          "output_type": "stream",
          "name": "stdout",
          "text": [
            "Shape of X:  torch.Size([16, 3, 256, 256])\n",
            "torch.Size([16, 3, 256, 256]) Entropy A1: 5.543941497802734, Entropy A2: 5.543988227844238\n"
          ]
        },
        {
          "output_type": "stream",
          "name": "stderr",
          "text": [
            "100%|██████████| 2/2 [00:00<00:00,  3.19it/s, D_fake=0.0268, D_real=0.967]\n"
          ]
        },
        {
          "output_type": "stream",
          "name": "stdout",
          "text": [
            "Shape of X:  torch.Size([4, 3, 256, 256])\n",
            "torch.Size([4, 3, 256, 256]) Entropy A1: 5.543933868408203, Entropy A2: 5.543973922729492\n",
            "Epoch [167/500], Avg Entropy A1: 5.543937683105469, Avg Entropy A2: 5.543981075286865\n"
          ]
        },
        {
          "output_type": "stream",
          "name": "stderr",
          "text": [
            "\r  0%|          | 0/2 [00:00<?, ?it/s]"
          ]
        },
        {
          "output_type": "stream",
          "name": "stdout",
          "text": [
            "Shape of X:  torch.Size([16, 3, 256, 256])\n",
            "torch.Size([16, 3, 256, 256]) Entropy A1: 5.54379415512085, Entropy A2: 5.543851852416992\n"
          ]
        },
        {
          "output_type": "stream",
          "name": "stderr",
          "text": [
            "100%|██████████| 2/2 [00:00<00:00,  3.40it/s, D_fake=0.0255, D_real=0.957]\n"
          ]
        },
        {
          "output_type": "stream",
          "name": "stdout",
          "text": [
            "Shape of X:  torch.Size([4, 3, 256, 256])\n",
            "torch.Size([4, 3, 256, 256]) Entropy A1: 5.543389320373535, Entropy A2: 5.5434417724609375\n",
            "Epoch [168/500], Avg Entropy A1: 5.543591737747192, Avg Entropy A2: 5.543646812438965\n"
          ]
        },
        {
          "output_type": "stream",
          "name": "stderr",
          "text": [
            "\r  0%|          | 0/2 [00:00<?, ?it/s]"
          ]
        },
        {
          "output_type": "stream",
          "name": "stdout",
          "text": [
            "Shape of X:  torch.Size([16, 3, 256, 256])\n",
            "torch.Size([16, 3, 256, 256]) Entropy A1: 5.543510437011719, Entropy A2: 5.543582439422607\n"
          ]
        },
        {
          "output_type": "stream",
          "name": "stderr",
          "text": [
            "100%|██████████| 2/2 [00:00<00:00,  4.80it/s, D_fake=0.0441, D_real=0.965]\n"
          ]
        },
        {
          "output_type": "stream",
          "name": "stdout",
          "text": [
            "Shape of X:  torch.Size([4, 3, 256, 256])\n",
            "torch.Size([4, 3, 256, 256]) Entropy A1: 5.543595314025879, Entropy A2: 5.543675899505615\n",
            "Epoch [169/500], Avg Entropy A1: 5.543552875518799, Avg Entropy A2: 5.543629169464111\n"
          ]
        },
        {
          "output_type": "stream",
          "name": "stderr",
          "text": [
            "\r  0%|          | 0/2 [00:00<?, ?it/s]"
          ]
        },
        {
          "output_type": "stream",
          "name": "stdout",
          "text": [
            "Shape of X:  torch.Size([16, 3, 256, 256])\n",
            "torch.Size([16, 3, 256, 256]) Entropy A1: 5.543651580810547, Entropy A2: 5.543708801269531\n"
          ]
        },
        {
          "output_type": "stream",
          "name": "stderr",
          "text": [
            "100%|██████████| 2/2 [00:00<00:00,  4.77it/s, D_fake=0.0788, D_real=0.973]\n"
          ]
        },
        {
          "output_type": "stream",
          "name": "stdout",
          "text": [
            "Shape of X:  torch.Size([4, 3, 256, 256])\n",
            "torch.Size([4, 3, 256, 256]) Entropy A1: 5.544007778167725, Entropy A2: 5.544042587280273\n",
            "Epoch [170/500], Avg Entropy A1: 5.543829679489136, Avg Entropy A2: 5.543875694274902\n"
          ]
        },
        {
          "output_type": "stream",
          "name": "stderr",
          "text": [
            "\r  0%|          | 0/2 [00:00<?, ?it/s]"
          ]
        },
        {
          "output_type": "stream",
          "name": "stdout",
          "text": [
            "Shape of X:  torch.Size([16, 3, 256, 256])\n",
            "torch.Size([16, 3, 256, 256]) Entropy A1: 5.543931007385254, Entropy A2: 5.543975830078125\n"
          ]
        },
        {
          "output_type": "stream",
          "name": "stderr",
          "text": [
            "100%|██████████| 2/2 [00:00<00:00,  4.79it/s, D_fake=0.108, D_real=0.938]\n"
          ]
        },
        {
          "output_type": "stream",
          "name": "stdout",
          "text": [
            "Shape of X:  torch.Size([4, 3, 256, 256])\n",
            "torch.Size([4, 3, 256, 256]) Entropy A1: 5.544047832489014, Entropy A2: 5.544090747833252\n",
            "Epoch [171/500], Avg Entropy A1: 5.543989419937134, Avg Entropy A2: 5.5440332889556885\n"
          ]
        },
        {
          "output_type": "stream",
          "name": "stderr",
          "text": [
            "\r  0%|          | 0/2 [00:00<?, ?it/s]"
          ]
        },
        {
          "output_type": "stream",
          "name": "stdout",
          "text": [
            "Shape of X:  torch.Size([16, 3, 256, 256])\n",
            "torch.Size([16, 3, 256, 256]) Entropy A1: 5.543607234954834, Entropy A2: 5.543669700622559\n"
          ]
        },
        {
          "output_type": "stream",
          "name": "stderr",
          "text": [
            "100%|██████████| 2/2 [00:00<00:00,  4.28it/s, D_fake=0.0238, D_real=0.731]\n"
          ]
        },
        {
          "output_type": "stream",
          "name": "stdout",
          "text": [
            "Shape of X:  torch.Size([4, 3, 256, 256])\n",
            "torch.Size([4, 3, 256, 256]) Entropy A1: 5.54396915435791, Entropy A2: 5.544020652770996\n",
            "Epoch [172/500], Avg Entropy A1: 5.543788194656372, Avg Entropy A2: 5.543845176696777\n"
          ]
        },
        {
          "output_type": "stream",
          "name": "stderr",
          "text": [
            "\r  0%|          | 0/2 [00:00<?, ?it/s]"
          ]
        },
        {
          "output_type": "stream",
          "name": "stdout",
          "text": [
            "Shape of X:  torch.Size([16, 3, 256, 256])\n",
            "torch.Size([16, 3, 256, 256]) Entropy A1: 5.544083118438721, Entropy A2: 5.54412317276001\n"
          ]
        },
        {
          "output_type": "stream",
          "name": "stderr",
          "text": [
            "100%|██████████| 2/2 [00:00<00:00,  4.67it/s, D_fake=0.135, D_real=0.775]\n"
          ]
        },
        {
          "output_type": "stream",
          "name": "stdout",
          "text": [
            "Shape of X:  torch.Size([4, 3, 256, 256])\n",
            "torch.Size([4, 3, 256, 256]) Entropy A1: 5.54398250579834, Entropy A2: 5.544029235839844\n",
            "Epoch [173/500], Avg Entropy A1: 5.54403281211853, Avg Entropy A2: 5.544076204299927\n"
          ]
        },
        {
          "output_type": "stream",
          "name": "stderr",
          "text": [
            "\r  0%|          | 0/2 [00:00<?, ?it/s]"
          ]
        },
        {
          "output_type": "stream",
          "name": "stdout",
          "text": [
            "Shape of X:  torch.Size([16, 3, 256, 256])\n",
            "torch.Size([16, 3, 256, 256]) Entropy A1: 5.543610572814941, Entropy A2: 5.543673515319824\n"
          ]
        },
        {
          "output_type": "stream",
          "name": "stderr",
          "text": [
            "100%|██████████| 2/2 [00:00<00:00,  5.04it/s, D_fake=0.313, D_real=0.61]\n"
          ]
        },
        {
          "output_type": "stream",
          "name": "stdout",
          "text": [
            "Shape of X:  torch.Size([4, 3, 256, 256])\n",
            "torch.Size([4, 3, 256, 256]) Entropy A1: 5.543606758117676, Entropy A2: 5.5436577796936035\n",
            "Epoch [174/500], Avg Entropy A1: 5.543608665466309, Avg Entropy A2: 5.543665647506714\n"
          ]
        },
        {
          "output_type": "stream",
          "name": "stderr",
          "text": [
            "\r  0%|          | 0/2 [00:00<?, ?it/s]"
          ]
        },
        {
          "output_type": "stream",
          "name": "stdout",
          "text": [
            "Shape of X:  torch.Size([16, 3, 256, 256])\n",
            "torch.Size([16, 3, 256, 256]) Entropy A1: 5.544182777404785, Entropy A2: 5.544220924377441\n"
          ]
        },
        {
          "output_type": "stream",
          "name": "stderr",
          "text": [
            "100%|██████████| 2/2 [00:00<00:00,  4.23it/s, D_fake=0.0876, D_real=0.871]\n"
          ]
        },
        {
          "output_type": "stream",
          "name": "stdout",
          "text": [
            "Shape of X:  torch.Size([4, 3, 256, 256])\n",
            "torch.Size([4, 3, 256, 256]) Entropy A1: 5.5435991287231445, Entropy A2: 5.543668746948242\n",
            "Epoch [175/500], Avg Entropy A1: 5.543890953063965, Avg Entropy A2: 5.543944835662842\n"
          ]
        },
        {
          "output_type": "stream",
          "name": "stderr",
          "text": [
            "\r  0%|          | 0/2 [00:00<?, ?it/s]"
          ]
        },
        {
          "output_type": "stream",
          "name": "stdout",
          "text": [
            "Shape of X:  torch.Size([16, 3, 256, 256])\n",
            "torch.Size([16, 3, 256, 256]) Entropy A1: 5.543712615966797, Entropy A2: 5.543765068054199\n"
          ]
        },
        {
          "output_type": "stream",
          "name": "stderr",
          "text": [
            "100%|██████████| 2/2 [00:00<00:00,  4.49it/s, D_fake=0.0298, D_real=0.871]\n"
          ]
        },
        {
          "output_type": "stream",
          "name": "stdout",
          "text": [
            "Shape of X:  torch.Size([4, 3, 256, 256])\n",
            "torch.Size([4, 3, 256, 256]) Entropy A1: 5.543949127197266, Entropy A2: 5.544002056121826\n",
            "Epoch [176/500], Avg Entropy A1: 5.543830871582031, Avg Entropy A2: 5.543883562088013\n"
          ]
        },
        {
          "output_type": "stream",
          "name": "stderr",
          "text": [
            "\r  0%|          | 0/2 [00:00<?, ?it/s]"
          ]
        },
        {
          "output_type": "stream",
          "name": "stdout",
          "text": [
            "Shape of X:  torch.Size([16, 3, 256, 256])\n",
            "torch.Size([16, 3, 256, 256]) Entropy A1: 5.544000625610352, Entropy A2: 5.544063568115234\n"
          ]
        },
        {
          "output_type": "stream",
          "name": "stderr",
          "text": [
            "100%|██████████| 2/2 [00:00<00:00,  4.11it/s, D_fake=0.0569, D_real=0.908]\n"
          ]
        },
        {
          "output_type": "stream",
          "name": "stdout",
          "text": [
            "Shape of X:  torch.Size([4, 3, 256, 256])\n",
            "torch.Size([4, 3, 256, 256]) Entropy A1: 5.544477462768555, Entropy A2: 5.544496059417725\n",
            "Epoch [177/500], Avg Entropy A1: 5.544239044189453, Avg Entropy A2: 5.5442798137664795\n"
          ]
        },
        {
          "output_type": "stream",
          "name": "stderr",
          "text": [
            "\r  0%|          | 0/2 [00:00<?, ?it/s]"
          ]
        },
        {
          "output_type": "stream",
          "name": "stdout",
          "text": [
            "Shape of X:  torch.Size([16, 3, 256, 256])\n",
            "torch.Size([16, 3, 256, 256]) Entropy A1: 5.543656349182129, Entropy A2: 5.543729782104492\n"
          ]
        },
        {
          "output_type": "stream",
          "name": "stderr",
          "text": [
            "100%|██████████| 2/2 [00:00<00:00,  4.32it/s, D_fake=0.0379, D_real=0.921]\n"
          ]
        },
        {
          "output_type": "stream",
          "name": "stdout",
          "text": [
            "Shape of X:  torch.Size([4, 3, 256, 256])\n",
            "torch.Size([4, 3, 256, 256]) Entropy A1: 5.543975830078125, Entropy A2: 5.544017791748047\n",
            "Epoch [178/500], Avg Entropy A1: 5.543816089630127, Avg Entropy A2: 5.5438737869262695\n"
          ]
        },
        {
          "output_type": "stream",
          "name": "stderr",
          "text": [
            "\r  0%|          | 0/2 [00:00<?, ?it/s]"
          ]
        },
        {
          "output_type": "stream",
          "name": "stdout",
          "text": [
            "Shape of X:  torch.Size([16, 3, 256, 256])\n",
            "torch.Size([16, 3, 256, 256]) Entropy A1: 5.543887138366699, Entropy A2: 5.5439453125\n"
          ]
        },
        {
          "output_type": "stream",
          "name": "stderr",
          "text": [
            "100%|██████████| 2/2 [00:00<00:00,  3.59it/s, D_fake=0.0361, D_real=0.953]\n"
          ]
        },
        {
          "output_type": "stream",
          "name": "stdout",
          "text": [
            "Shape of X:  torch.Size([4, 3, 256, 256])\n",
            "torch.Size([4, 3, 256, 256]) Entropy A1: 5.543510437011719, Entropy A2: 5.5435791015625\n",
            "Epoch [179/500], Avg Entropy A1: 5.543698787689209, Avg Entropy A2: 5.54376220703125\n"
          ]
        },
        {
          "output_type": "stream",
          "name": "stderr",
          "text": [
            "\r  0%|          | 0/2 [00:00<?, ?it/s]"
          ]
        },
        {
          "output_type": "stream",
          "name": "stdout",
          "text": [
            "Shape of X:  torch.Size([16, 3, 256, 256])\n",
            "torch.Size([16, 3, 256, 256]) Entropy A1: 5.543593883514404, Entropy A2: 5.543670654296875\n"
          ]
        },
        {
          "output_type": "stream",
          "name": "stderr",
          "text": [
            "100%|██████████| 2/2 [00:00<00:00,  4.32it/s, D_fake=0.0309, D_real=0.964]\n"
          ]
        },
        {
          "output_type": "stream",
          "name": "stdout",
          "text": [
            "Shape of X:  torch.Size([4, 3, 256, 256])\n",
            "torch.Size([4, 3, 256, 256]) Entropy A1: 5.5442633628845215, Entropy A2: 5.544299602508545\n",
            "Epoch [180/500], Avg Entropy A1: 5.543928623199463, Avg Entropy A2: 5.54398512840271\n"
          ]
        },
        {
          "output_type": "stream",
          "name": "stderr",
          "text": [
            "\r  0%|          | 0/2 [00:00<?, ?it/s]"
          ]
        },
        {
          "output_type": "stream",
          "name": "stdout",
          "text": [
            "Shape of X:  torch.Size([16, 3, 256, 256])\n",
            "torch.Size([16, 3, 256, 256]) Entropy A1: 5.5441412925720215, Entropy A2: 5.544184684753418\n"
          ]
        },
        {
          "output_type": "stream",
          "name": "stderr",
          "text": [
            "100%|██████████| 2/2 [00:00<00:00,  4.73it/s, D_fake=0.0361, D_real=0.96]\n"
          ]
        },
        {
          "output_type": "stream",
          "name": "stdout",
          "text": [
            "Shape of X:  torch.Size([4, 3, 256, 256])\n",
            "torch.Size([4, 3, 256, 256]) Entropy A1: 5.544038772583008, Entropy A2: 5.544098854064941\n",
            "Epoch [181/500], Avg Entropy A1: 5.544090032577515, Avg Entropy A2: 5.54414176940918\n"
          ]
        },
        {
          "output_type": "stream",
          "name": "stderr",
          "text": [
            "\r  0%|          | 0/2 [00:00<?, ?it/s]"
          ]
        },
        {
          "output_type": "stream",
          "name": "stdout",
          "text": [
            "Shape of X:  torch.Size([16, 3, 256, 256])\n",
            "torch.Size([16, 3, 256, 256]) Entropy A1: 5.543943405151367, Entropy A2: 5.543986797332764\n"
          ]
        },
        {
          "output_type": "stream",
          "name": "stderr",
          "text": [
            "100%|██████████| 2/2 [00:00<00:00,  4.99it/s, D_fake=0.0348, D_real=0.973]\n"
          ]
        },
        {
          "output_type": "stream",
          "name": "stdout",
          "text": [
            "Shape of X:  torch.Size([4, 3, 256, 256])\n",
            "torch.Size([4, 3, 256, 256]) Entropy A1: 5.544089317321777, Entropy A2: 5.544125556945801\n",
            "Epoch [182/500], Avg Entropy A1: 5.544016361236572, Avg Entropy A2: 5.544056177139282\n"
          ]
        },
        {
          "output_type": "stream",
          "name": "stderr",
          "text": [
            "\r  0%|          | 0/2 [00:00<?, ?it/s]"
          ]
        },
        {
          "output_type": "stream",
          "name": "stdout",
          "text": [
            "Shape of X:  torch.Size([16, 3, 256, 256])\n",
            "torch.Size([16, 3, 256, 256]) Entropy A1: 5.544094085693359, Entropy A2: 5.544139862060547\n"
          ]
        },
        {
          "output_type": "stream",
          "name": "stderr",
          "text": [
            "100%|██████████| 2/2 [00:00<00:00,  5.31it/s, D_fake=0.0409, D_real=0.972]\n"
          ]
        },
        {
          "output_type": "stream",
          "name": "stdout",
          "text": [
            "Shape of X:  torch.Size([4, 3, 256, 256])\n",
            "torch.Size([4, 3, 256, 256]) Entropy A1: 5.543918609619141, Entropy A2: 5.543966293334961\n",
            "Epoch [183/500], Avg Entropy A1: 5.54400634765625, Avg Entropy A2: 5.544053077697754\n"
          ]
        },
        {
          "output_type": "stream",
          "name": "stderr",
          "text": [
            "\r  0%|          | 0/2 [00:00<?, ?it/s]"
          ]
        },
        {
          "output_type": "stream",
          "name": "stdout",
          "text": [
            "Shape of X:  torch.Size([16, 3, 256, 256])\n",
            "torch.Size([16, 3, 256, 256]) Entropy A1: 5.543939113616943, Entropy A2: 5.543985843658447\n"
          ]
        },
        {
          "output_type": "stream",
          "name": "stderr",
          "text": [
            "100%|██████████| 2/2 [00:00<00:00,  5.25it/s, D_fake=0.0289, D_real=0.974]\n"
          ]
        },
        {
          "output_type": "stream",
          "name": "stdout",
          "text": [
            "Shape of X:  torch.Size([4, 3, 256, 256])\n",
            "torch.Size([4, 3, 256, 256]) Entropy A1: 5.543701171875, Entropy A2: 5.543792724609375\n",
            "Epoch [184/500], Avg Entropy A1: 5.543820142745972, Avg Entropy A2: 5.543889284133911\n"
          ]
        },
        {
          "output_type": "stream",
          "name": "stderr",
          "text": [
            "\r  0%|          | 0/2 [00:00<?, ?it/s]"
          ]
        },
        {
          "output_type": "stream",
          "name": "stdout",
          "text": [
            "Shape of X:  torch.Size([16, 3, 256, 256])\n",
            "torch.Size([16, 3, 256, 256]) Entropy A1: 5.543527126312256, Entropy A2: 5.543598175048828\n"
          ]
        },
        {
          "output_type": "stream",
          "name": "stderr",
          "text": [
            "100%|██████████| 2/2 [00:00<00:00,  5.01it/s, D_fake=0.0422, D_real=0.967]\n"
          ]
        },
        {
          "output_type": "stream",
          "name": "stdout",
          "text": [
            "Shape of X:  torch.Size([4, 3, 256, 256])\n",
            "torch.Size([4, 3, 256, 256]) Entropy A1: 5.543922424316406, Entropy A2: 5.543968677520752\n",
            "Epoch [185/500], Avg Entropy A1: 5.543724775314331, Avg Entropy A2: 5.54378342628479\n"
          ]
        },
        {
          "output_type": "stream",
          "name": "stderr",
          "text": [
            "\r  0%|          | 0/2 [00:00<?, ?it/s]"
          ]
        },
        {
          "output_type": "stream",
          "name": "stdout",
          "text": [
            "Shape of X:  torch.Size([16, 3, 256, 256])\n",
            "torch.Size([16, 3, 256, 256]) Entropy A1: 5.544193267822266, Entropy A2: 5.544238090515137\n"
          ]
        },
        {
          "output_type": "stream",
          "name": "stderr",
          "text": [
            "100%|██████████| 2/2 [00:00<00:00,  4.75it/s, D_fake=0.0236, D_real=0.97]\n"
          ]
        },
        {
          "output_type": "stream",
          "name": "stdout",
          "text": [
            "Shape of X:  torch.Size([4, 3, 256, 256])\n",
            "torch.Size([4, 3, 256, 256]) Entropy A1: 5.544058799743652, Entropy A2: 5.5440993309021\n",
            "Epoch [186/500], Avg Entropy A1: 5.544126033782959, Avg Entropy A2: 5.544168710708618\n"
          ]
        },
        {
          "output_type": "stream",
          "name": "stderr",
          "text": [
            "\r  0%|          | 0/2 [00:00<?, ?it/s]"
          ]
        },
        {
          "output_type": "stream",
          "name": "stdout",
          "text": [
            "Shape of X:  torch.Size([16, 3, 256, 256])\n",
            "torch.Size([16, 3, 256, 256]) Entropy A1: 5.543736457824707, Entropy A2: 5.543798446655273\n"
          ]
        },
        {
          "output_type": "stream",
          "name": "stderr",
          "text": [
            "100%|██████████| 2/2 [00:00<00:00,  4.35it/s, D_fake=0.0223, D_real=0.975]\n"
          ]
        },
        {
          "output_type": "stream",
          "name": "stdout",
          "text": [
            "Shape of X:  torch.Size([4, 3, 256, 256])\n",
            "torch.Size([4, 3, 256, 256]) Entropy A1: 5.543781280517578, Entropy A2: 5.543856143951416\n",
            "Epoch [187/500], Avg Entropy A1: 5.543758869171143, Avg Entropy A2: 5.543827295303345\n"
          ]
        },
        {
          "output_type": "stream",
          "name": "stderr",
          "text": [
            "\r  0%|          | 0/2 [00:00<?, ?it/s]"
          ]
        },
        {
          "output_type": "stream",
          "name": "stdout",
          "text": [
            "Shape of X:  torch.Size([16, 3, 256, 256])\n",
            "torch.Size([16, 3, 256, 256]) Entropy A1: 5.543643951416016, Entropy A2: 5.543717384338379\n"
          ]
        },
        {
          "output_type": "stream",
          "name": "stderr",
          "text": [
            "100%|██████████| 2/2 [00:00<00:00,  4.47it/s, D_fake=0.0235, D_real=0.98]\n"
          ]
        },
        {
          "output_type": "stream",
          "name": "stdout",
          "text": [
            "Shape of X:  torch.Size([4, 3, 256, 256])\n",
            "torch.Size([4, 3, 256, 256]) Entropy A1: 5.543631553649902, Entropy A2: 5.543718338012695\n",
            "Epoch [188/500], Avg Entropy A1: 5.543637752532959, Avg Entropy A2: 5.543717861175537\n"
          ]
        },
        {
          "output_type": "stream",
          "name": "stderr",
          "text": [
            "\r  0%|          | 0/2 [00:00<?, ?it/s]"
          ]
        },
        {
          "output_type": "stream",
          "name": "stdout",
          "text": [
            "Shape of X:  torch.Size([16, 3, 256, 256])\n",
            "torch.Size([16, 3, 256, 256]) Entropy A1: 5.5441365242004395, Entropy A2: 5.544187545776367\n"
          ]
        },
        {
          "output_type": "stream",
          "name": "stderr",
          "text": [
            "100%|██████████| 2/2 [00:00<00:00,  4.23it/s, D_fake=0.0326, D_real=0.969]\n"
          ]
        },
        {
          "output_type": "stream",
          "name": "stdout",
          "text": [
            "Shape of X:  torch.Size([4, 3, 256, 256])\n",
            "torch.Size([4, 3, 256, 256]) Entropy A1: 5.5436787605285645, Entropy A2: 5.543739318847656\n",
            "Epoch [189/500], Avg Entropy A1: 5.543907642364502, Avg Entropy A2: 5.543963432312012\n"
          ]
        },
        {
          "output_type": "stream",
          "name": "stderr",
          "text": [
            "\r  0%|          | 0/2 [00:00<?, ?it/s]"
          ]
        },
        {
          "output_type": "stream",
          "name": "stdout",
          "text": [
            "Shape of X:  torch.Size([16, 3, 256, 256])\n",
            "torch.Size([16, 3, 256, 256]) Entropy A1: 5.54391622543335, Entropy A2: 5.543964385986328\n"
          ]
        },
        {
          "output_type": "stream",
          "name": "stderr",
          "text": [
            "100%|██████████| 2/2 [00:00<00:00,  4.70it/s, D_fake=0.0264, D_real=0.975]\n"
          ]
        },
        {
          "output_type": "stream",
          "name": "stdout",
          "text": [
            "Shape of X:  torch.Size([4, 3, 256, 256])\n",
            "torch.Size([4, 3, 256, 256]) Entropy A1: 5.543891429901123, Entropy A2: 5.54395866394043\n",
            "Epoch [190/500], Avg Entropy A1: 5.543903827667236, Avg Entropy A2: 5.543961524963379\n"
          ]
        },
        {
          "output_type": "stream",
          "name": "stderr",
          "text": [
            "\r  0%|          | 0/2 [00:00<?, ?it/s]"
          ]
        },
        {
          "output_type": "stream",
          "name": "stdout",
          "text": [
            "Shape of X:  torch.Size([16, 3, 256, 256])\n",
            "torch.Size([16, 3, 256, 256]) Entropy A1: 5.5442681312561035, Entropy A2: 5.544300079345703\n"
          ]
        },
        {
          "output_type": "stream",
          "name": "stderr",
          "text": [
            "100%|██████████| 2/2 [00:00<00:00,  3.88it/s, D_fake=0.0194, D_real=0.979]\n"
          ]
        },
        {
          "output_type": "stream",
          "name": "stdout",
          "text": [
            "Shape of X:  torch.Size([4, 3, 256, 256])\n",
            "torch.Size([4, 3, 256, 256]) Entropy A1: 5.54387092590332, Entropy A2: 5.543933868408203\n",
            "Epoch [191/500], Avg Entropy A1: 5.544069528579712, Avg Entropy A2: 5.544116973876953\n"
          ]
        },
        {
          "output_type": "stream",
          "name": "stderr",
          "text": [
            "\r  0%|          | 0/2 [00:00<?, ?it/s]"
          ]
        },
        {
          "output_type": "stream",
          "name": "stdout",
          "text": [
            "Shape of X:  torch.Size([16, 3, 256, 256])\n",
            "torch.Size([16, 3, 256, 256]) Entropy A1: 5.5443315505981445, Entropy A2: 5.544363498687744\n"
          ]
        },
        {
          "output_type": "stream",
          "name": "stderr",
          "text": [
            "100%|██████████| 2/2 [00:00<00:00,  4.07it/s, D_fake=0.0291, D_real=0.973]\n"
          ]
        },
        {
          "output_type": "stream",
          "name": "stdout",
          "text": [
            "Shape of X:  torch.Size([4, 3, 256, 256])\n",
            "torch.Size([4, 3, 256, 256]) Entropy A1: 5.543344497680664, Entropy A2: 5.543452262878418\n",
            "Epoch [192/500], Avg Entropy A1: 5.543838024139404, Avg Entropy A2: 5.543907880783081\n"
          ]
        },
        {
          "output_type": "stream",
          "name": "stderr",
          "text": [
            "\r  0%|          | 0/2 [00:00<?, ?it/s]"
          ]
        },
        {
          "output_type": "stream",
          "name": "stdout",
          "text": [
            "Shape of X:  torch.Size([16, 3, 256, 256])\n",
            "torch.Size([16, 3, 256, 256]) Entropy A1: 5.5439958572387695, Entropy A2: 5.544046878814697\n"
          ]
        },
        {
          "output_type": "stream",
          "name": "stderr",
          "text": [
            "100%|██████████| 2/2 [00:00<00:00,  4.36it/s, D_fake=0.0172, D_real=0.981]\n"
          ]
        },
        {
          "output_type": "stream",
          "name": "stdout",
          "text": [
            "Shape of X:  torch.Size([4, 3, 256, 256])\n",
            "torch.Size([4, 3, 256, 256]) Entropy A1: 5.543846607208252, Entropy A2: 5.5438971519470215\n",
            "Epoch [193/500], Avg Entropy A1: 5.543921232223511, Avg Entropy A2: 5.543972015380859\n"
          ]
        },
        {
          "output_type": "stream",
          "name": "stderr",
          "text": [
            "\r  0%|          | 0/2 [00:00<?, ?it/s]"
          ]
        },
        {
          "output_type": "stream",
          "name": "stdout",
          "text": [
            "Shape of X:  torch.Size([16, 3, 256, 256])\n",
            "torch.Size([16, 3, 256, 256]) Entropy A1: 5.543957233428955, Entropy A2: 5.544013500213623\n"
          ]
        },
        {
          "output_type": "stream",
          "name": "stderr",
          "text": [
            "100%|██████████| 2/2 [00:00<00:00,  3.81it/s, D_fake=0.0184, D_real=0.979]\n"
          ]
        },
        {
          "output_type": "stream",
          "name": "stdout",
          "text": [
            "Shape of X:  torch.Size([4, 3, 256, 256])\n",
            "torch.Size([4, 3, 256, 256]) Entropy A1: 5.543588638305664, Entropy A2: 5.543649196624756\n",
            "Epoch [194/500], Avg Entropy A1: 5.54377293586731, Avg Entropy A2: 5.5438313484191895\n"
          ]
        },
        {
          "output_type": "stream",
          "name": "stderr",
          "text": [
            "\r  0%|          | 0/2 [00:00<?, ?it/s]"
          ]
        },
        {
          "output_type": "stream",
          "name": "stdout",
          "text": [
            "Shape of X:  torch.Size([16, 3, 256, 256])\n",
            "torch.Size([16, 3, 256, 256]) Entropy A1: 5.544314384460449, Entropy A2: 5.544353485107422\n"
          ]
        },
        {
          "output_type": "stream",
          "name": "stderr",
          "text": [
            "100%|██████████| 2/2 [00:00<00:00,  3.41it/s, D_fake=0.0202, D_real=0.979]\n"
          ]
        },
        {
          "output_type": "stream",
          "name": "stdout",
          "text": [
            "Shape of X:  torch.Size([4, 3, 256, 256])\n",
            "torch.Size([4, 3, 256, 256]) Entropy A1: 5.543670177459717, Entropy A2: 5.543741703033447\n",
            "Epoch [195/500], Avg Entropy A1: 5.543992280960083, Avg Entropy A2: 5.544047594070435\n"
          ]
        },
        {
          "output_type": "stream",
          "name": "stderr",
          "text": [
            "\r  0%|          | 0/2 [00:00<?, ?it/s]"
          ]
        },
        {
          "output_type": "stream",
          "name": "stdout",
          "text": [
            "Shape of X:  torch.Size([16, 3, 256, 256])\n",
            "torch.Size([16, 3, 256, 256]) Entropy A1: 5.5439863204956055, Entropy A2: 5.544034957885742\n"
          ]
        },
        {
          "output_type": "stream",
          "name": "stderr",
          "text": [
            "100%|██████████| 2/2 [00:00<00:00,  4.75it/s, D_fake=0.0193, D_real=0.979]\n"
          ]
        },
        {
          "output_type": "stream",
          "name": "stdout",
          "text": [
            "Shape of X:  torch.Size([4, 3, 256, 256])\n",
            "torch.Size([4, 3, 256, 256]) Entropy A1: 5.543967247009277, Entropy A2: 5.54401969909668\n",
            "Epoch [196/500], Avg Entropy A1: 5.543976783752441, Avg Entropy A2: 5.544027328491211\n"
          ]
        },
        {
          "output_type": "stream",
          "name": "stderr",
          "text": [
            "\r  0%|          | 0/2 [00:00<?, ?it/s]"
          ]
        },
        {
          "output_type": "stream",
          "name": "stdout",
          "text": [
            "Shape of X:  torch.Size([16, 3, 256, 256])\n",
            "torch.Size([16, 3, 256, 256]) Entropy A1: 5.543725967407227, Entropy A2: 5.543791770935059\n"
          ]
        },
        {
          "output_type": "stream",
          "name": "stderr",
          "text": [
            "100%|██████████| 2/2 [00:00<00:00,  4.74it/s, D_fake=0.0161, D_real=0.986]\n"
          ]
        },
        {
          "output_type": "stream",
          "name": "stdout",
          "text": [
            "Shape of X:  torch.Size([4, 3, 256, 256])\n",
            "torch.Size([4, 3, 256, 256]) Entropy A1: 5.544282913208008, Entropy A2: 5.544320106506348\n",
            "Epoch [197/500], Avg Entropy A1: 5.544004440307617, Avg Entropy A2: 5.544055938720703\n"
          ]
        },
        {
          "output_type": "stream",
          "name": "stderr",
          "text": [
            "\r  0%|          | 0/2 [00:00<?, ?it/s]"
          ]
        },
        {
          "output_type": "stream",
          "name": "stdout",
          "text": [
            "Shape of X:  torch.Size([16, 3, 256, 256])\n",
            "torch.Size([16, 3, 256, 256]) Entropy A1: 5.544277667999268, Entropy A2: 5.544317245483398\n"
          ]
        },
        {
          "output_type": "stream",
          "name": "stderr",
          "text": [
            "100%|██████████| 2/2 [00:00<00:00,  4.72it/s, D_fake=0.0237, D_real=0.98]\n"
          ]
        },
        {
          "output_type": "stream",
          "name": "stdout",
          "text": [
            "Shape of X:  torch.Size([4, 3, 256, 256])\n",
            "torch.Size([4, 3, 256, 256]) Entropy A1: 5.54429292678833, Entropy A2: 5.544328212738037\n",
            "Epoch [198/500], Avg Entropy A1: 5.544285297393799, Avg Entropy A2: 5.544322729110718\n"
          ]
        },
        {
          "output_type": "stream",
          "name": "stderr",
          "text": [
            "\r  0%|          | 0/2 [00:00<?, ?it/s]"
          ]
        },
        {
          "output_type": "stream",
          "name": "stdout",
          "text": [
            "Shape of X:  torch.Size([16, 3, 256, 256])\n",
            "torch.Size([16, 3, 256, 256]) Entropy A1: 5.543832778930664, Entropy A2: 5.543889045715332\n"
          ]
        },
        {
          "output_type": "stream",
          "name": "stderr",
          "text": [
            "100%|██████████| 2/2 [00:00<00:00,  5.03it/s, D_fake=0.0149, D_real=0.984]\n"
          ]
        },
        {
          "output_type": "stream",
          "name": "stdout",
          "text": [
            "Shape of X:  torch.Size([4, 3, 256, 256])\n",
            "torch.Size([4, 3, 256, 256]) Entropy A1: 5.543929100036621, Entropy A2: 5.544002056121826\n",
            "Epoch [199/500], Avg Entropy A1: 5.543880939483643, Avg Entropy A2: 5.543945550918579\n"
          ]
        },
        {
          "output_type": "stream",
          "name": "stderr",
          "text": [
            "\r  0%|          | 0/2 [00:00<?, ?it/s]"
          ]
        },
        {
          "output_type": "stream",
          "name": "stdout",
          "text": [
            "Shape of X:  torch.Size([16, 3, 256, 256])\n",
            "torch.Size([16, 3, 256, 256]) Entropy A1: 5.544276237487793, Entropy A2: 5.544316291809082\n"
          ]
        },
        {
          "output_type": "stream",
          "name": "stderr",
          "text": [
            "100%|██████████| 2/2 [00:00<00:00,  5.02it/s, D_fake=0.021, D_real=0.981]\n"
          ]
        },
        {
          "output_type": "stream",
          "name": "stdout",
          "text": [
            "Shape of X:  torch.Size([4, 3, 256, 256])\n",
            "torch.Size([4, 3, 256, 256]) Entropy A1: 5.543698310852051, Entropy A2: 5.543766021728516\n",
            "Epoch [200/500], Avg Entropy A1: 5.543987274169922, Avg Entropy A2: 5.544041156768799\n",
            "Saving model at epoch 199\n",
            "Shape of x at save:  torch.Size([5, 3, 256, 256])\n"
          ]
        },
        {
          "output_type": "stream",
          "name": "stderr",
          "text": [
            "\r  0%|          | 0/2 [00:00<?, ?it/s]"
          ]
        },
        {
          "output_type": "stream",
          "name": "stdout",
          "text": [
            "Shape of X:  torch.Size([16, 3, 256, 256])\n",
            "torch.Size([16, 3, 256, 256]) Entropy A1: 5.544034004211426, Entropy A2: 5.5440874099731445\n"
          ]
        },
        {
          "output_type": "stream",
          "name": "stderr",
          "text": [
            "100%|██████████| 2/2 [00:00<00:00,  4.58it/s, D_fake=0.0133, D_real=0.986]\n"
          ]
        },
        {
          "output_type": "stream",
          "name": "stdout",
          "text": [
            "Shape of X:  torch.Size([4, 3, 256, 256])\n",
            "torch.Size([4, 3, 256, 256]) Entropy A1: 5.544320106506348, Entropy A2: 5.544351100921631\n",
            "Epoch [201/500], Avg Entropy A1: 5.544177055358887, Avg Entropy A2: 5.544219255447388\n"
          ]
        },
        {
          "output_type": "stream",
          "name": "stderr",
          "text": [
            "\r  0%|          | 0/2 [00:00<?, ?it/s]"
          ]
        },
        {
          "output_type": "stream",
          "name": "stdout",
          "text": [
            "Shape of X:  torch.Size([16, 3, 256, 256])\n",
            "torch.Size([16, 3, 256, 256]) Entropy A1: 5.5442633628845215, Entropy A2: 5.544304847717285\n"
          ]
        },
        {
          "output_type": "stream",
          "name": "stderr",
          "text": [
            "100%|██████████| 2/2 [00:00<00:00,  5.39it/s, D_fake=0.0275, D_real=0.98]\n"
          ]
        },
        {
          "output_type": "stream",
          "name": "stdout",
          "text": [
            "Shape of X:  torch.Size([4, 3, 256, 256])\n",
            "torch.Size([4, 3, 256, 256]) Entropy A1: 5.544018745422363, Entropy A2: 5.544075965881348\n",
            "Epoch [202/500], Avg Entropy A1: 5.544141054153442, Avg Entropy A2: 5.544190406799316\n"
          ]
        },
        {
          "output_type": "stream",
          "name": "stderr",
          "text": [
            "\r  0%|          | 0/2 [00:00<?, ?it/s]"
          ]
        },
        {
          "output_type": "stream",
          "name": "stdout",
          "text": [
            "Shape of X:  torch.Size([16, 3, 256, 256])\n",
            "torch.Size([16, 3, 256, 256]) Entropy A1: 5.544262886047363, Entropy A2: 5.544302940368652\n"
          ]
        },
        {
          "output_type": "stream",
          "name": "stderr",
          "text": [
            "100%|██████████| 2/2 [00:00<00:00,  5.39it/s, D_fake=0.0214, D_real=0.959]\n"
          ]
        },
        {
          "output_type": "stream",
          "name": "stdout",
          "text": [
            "Shape of X:  torch.Size([4, 3, 256, 256])\n",
            "torch.Size([4, 3, 256, 256]) Entropy A1: 5.543996810913086, Entropy A2: 5.544041633605957\n",
            "Epoch [203/500], Avg Entropy A1: 5.544129848480225, Avg Entropy A2: 5.544172286987305\n"
          ]
        },
        {
          "output_type": "stream",
          "name": "stderr",
          "text": [
            "\r  0%|          | 0/2 [00:00<?, ?it/s]"
          ]
        },
        {
          "output_type": "stream",
          "name": "stdout",
          "text": [
            "Shape of X:  torch.Size([16, 3, 256, 256])\n",
            "torch.Size([16, 3, 256, 256]) Entropy A1: 5.54395866394043, Entropy A2: 5.544008255004883\n"
          ]
        },
        {
          "output_type": "stream",
          "name": "stderr",
          "text": [
            "100%|██████████| 2/2 [00:00<00:00,  5.54it/s, D_fake=0.0193, D_real=0.973]\n"
          ]
        },
        {
          "output_type": "stream",
          "name": "stdout",
          "text": [
            "Shape of X:  torch.Size([4, 3, 256, 256])\n",
            "torch.Size([4, 3, 256, 256]) Entropy A1: 5.54422664642334, Entropy A2: 5.54426383972168\n",
            "Epoch [204/500], Avg Entropy A1: 5.544092655181885, Avg Entropy A2: 5.544136047363281\n"
          ]
        },
        {
          "output_type": "stream",
          "name": "stderr",
          "text": [
            "\r  0%|          | 0/2 [00:00<?, ?it/s]"
          ]
        },
        {
          "output_type": "stream",
          "name": "stdout",
          "text": [
            "Shape of X:  torch.Size([16, 3, 256, 256])\n",
            "torch.Size([16, 3, 256, 256]) Entropy A1: 5.544435501098633, Entropy A2: 5.544469833374023\n"
          ]
        },
        {
          "output_type": "stream",
          "name": "stderr",
          "text": [
            "100%|██████████| 2/2 [00:00<00:00,  5.40it/s, D_fake=0.0128, D_real=0.988]\n"
          ]
        },
        {
          "output_type": "stream",
          "name": "stdout",
          "text": [
            "Shape of X:  torch.Size([4, 3, 256, 256])\n",
            "torch.Size([4, 3, 256, 256]) Entropy A1: 5.543920516967773, Entropy A2: 5.543984413146973\n",
            "Epoch [205/500], Avg Entropy A1: 5.544178009033203, Avg Entropy A2: 5.544227123260498\n"
          ]
        },
        {
          "output_type": "stream",
          "name": "stderr",
          "text": [
            "\r  0%|          | 0/2 [00:00<?, ?it/s]"
          ]
        },
        {
          "output_type": "stream",
          "name": "stdout",
          "text": [
            "Shape of X:  torch.Size([16, 3, 256, 256])\n",
            "torch.Size([16, 3, 256, 256]) Entropy A1: 5.544171333312988, Entropy A2: 5.544219017028809\n"
          ]
        },
        {
          "output_type": "stream",
          "name": "stderr",
          "text": [
            "100%|██████████| 2/2 [00:00<00:00,  5.49it/s, D_fake=0.0375, D_real=0.982]\n"
          ]
        },
        {
          "output_type": "stream",
          "name": "stdout",
          "text": [
            "Shape of X:  torch.Size([4, 3, 256, 256])\n",
            "torch.Size([4, 3, 256, 256]) Entropy A1: 5.543761253356934, Entropy A2: 5.543851852416992\n",
            "Epoch [206/500], Avg Entropy A1: 5.543966293334961, Avg Entropy A2: 5.5440354347229\n"
          ]
        },
        {
          "output_type": "stream",
          "name": "stderr",
          "text": [
            "\r  0%|          | 0/2 [00:00<?, ?it/s]"
          ]
        },
        {
          "output_type": "stream",
          "name": "stdout",
          "text": [
            "Shape of X:  torch.Size([16, 3, 256, 256])\n",
            "torch.Size([16, 3, 256, 256]) Entropy A1: 5.544355392456055, Entropy A2: 5.54439115524292\n"
          ]
        },
        {
          "output_type": "stream",
          "name": "stderr",
          "text": [
            "100%|██████████| 2/2 [00:00<00:00,  5.51it/s, D_fake=0.0229, D_real=0.981]\n"
          ]
        },
        {
          "output_type": "stream",
          "name": "stdout",
          "text": [
            "Shape of X:  torch.Size([4, 3, 256, 256])\n",
            "torch.Size([4, 3, 256, 256]) Entropy A1: 5.543952465057373, Entropy A2: 5.54401969909668\n",
            "Epoch [207/500], Avg Entropy A1: 5.544153928756714, Avg Entropy A2: 5.5442054271698\n"
          ]
        },
        {
          "output_type": "stream",
          "name": "stderr",
          "text": [
            "\r  0%|          | 0/2 [00:00<?, ?it/s]"
          ]
        },
        {
          "output_type": "stream",
          "name": "stdout",
          "text": [
            "Shape of X:  torch.Size([16, 3, 256, 256])\n",
            "torch.Size([16, 3, 256, 256]) Entropy A1: 5.544190883636475, Entropy A2: 5.544233322143555\n"
          ]
        },
        {
          "output_type": "stream",
          "name": "stderr",
          "text": [
            "100%|██████████| 2/2 [00:00<00:00,  5.54it/s, D_fake=0.0129, D_real=0.989]\n"
          ]
        },
        {
          "output_type": "stream",
          "name": "stdout",
          "text": [
            "Shape of X:  torch.Size([4, 3, 256, 256])\n",
            "torch.Size([4, 3, 256, 256]) Entropy A1: 5.543907642364502, Entropy A2: 5.543981552124023\n",
            "Epoch [208/500], Avg Entropy A1: 5.544049263000488, Avg Entropy A2: 5.544107437133789\n"
          ]
        },
        {
          "output_type": "stream",
          "name": "stderr",
          "text": [
            "\r  0%|          | 0/2 [00:00<?, ?it/s]"
          ]
        },
        {
          "output_type": "stream",
          "name": "stdout",
          "text": [
            "Shape of X:  torch.Size([16, 3, 256, 256])\n",
            "torch.Size([16, 3, 256, 256]) Entropy A1: 5.543822288513184, Entropy A2: 5.543901443481445\n"
          ]
        },
        {
          "output_type": "stream",
          "name": "stderr",
          "text": [
            "100%|██████████| 2/2 [00:00<00:00,  5.51it/s, D_fake=0.0225, D_real=0.978]\n"
          ]
        },
        {
          "output_type": "stream",
          "name": "stdout",
          "text": [
            "Shape of X:  torch.Size([4, 3, 256, 256])\n",
            "torch.Size([4, 3, 256, 256]) Entropy A1: 5.544332504272461, Entropy A2: 5.544368267059326\n",
            "Epoch [209/500], Avg Entropy A1: 5.544077396392822, Avg Entropy A2: 5.544134855270386\n"
          ]
        },
        {
          "output_type": "stream",
          "name": "stderr",
          "text": [
            "\r  0%|          | 0/2 [00:00<?, ?it/s]"
          ]
        },
        {
          "output_type": "stream",
          "name": "stdout",
          "text": [
            "Shape of X:  torch.Size([16, 3, 256, 256])\n",
            "torch.Size([16, 3, 256, 256]) Entropy A1: 5.5441999435424805, Entropy A2: 5.54424524307251\n"
          ]
        },
        {
          "output_type": "stream",
          "name": "stderr",
          "text": [
            "100%|██████████| 2/2 [00:00<00:00,  5.27it/s, D_fake=0.0151, D_real=0.983]\n"
          ]
        },
        {
          "output_type": "stream",
          "name": "stdout",
          "text": [
            "Shape of X:  torch.Size([4, 3, 256, 256])\n",
            "torch.Size([4, 3, 256, 256]) Entropy A1: 5.544302940368652, Entropy A2: 5.544344425201416\n",
            "Epoch [210/500], Avg Entropy A1: 5.544251441955566, Avg Entropy A2: 5.544294834136963\n"
          ]
        },
        {
          "output_type": "stream",
          "name": "stderr",
          "text": [
            "\r  0%|          | 0/2 [00:00<?, ?it/s]"
          ]
        },
        {
          "output_type": "stream",
          "name": "stdout",
          "text": [
            "Shape of X:  torch.Size([16, 3, 256, 256])\n",
            "torch.Size([16, 3, 256, 256]) Entropy A1: 5.544165134429932, Entropy A2: 5.544215679168701\n"
          ]
        },
        {
          "output_type": "stream",
          "name": "stderr",
          "text": [
            "100%|██████████| 2/2 [00:00<00:00,  5.48it/s, D_fake=0.0139, D_real=0.986]\n"
          ]
        },
        {
          "output_type": "stream",
          "name": "stdout",
          "text": [
            "Shape of X:  torch.Size([4, 3, 256, 256])\n",
            "torch.Size([4, 3, 256, 256]) Entropy A1: 5.544334411621094, Entropy A2: 5.544365882873535\n",
            "Epoch [211/500], Avg Entropy A1: 5.544249773025513, Avg Entropy A2: 5.544290781021118\n"
          ]
        },
        {
          "output_type": "stream",
          "name": "stderr",
          "text": [
            "\r  0%|          | 0/2 [00:00<?, ?it/s]"
          ]
        },
        {
          "output_type": "stream",
          "name": "stdout",
          "text": [
            "Shape of X:  torch.Size([16, 3, 256, 256])\n",
            "torch.Size([16, 3, 256, 256]) Entropy A1: 5.543818950653076, Entropy A2: 5.54388952255249\n"
          ]
        },
        {
          "output_type": "stream",
          "name": "stderr",
          "text": [
            "100%|██████████| 2/2 [00:00<00:00,  5.43it/s, D_fake=0.0246, D_real=0.983]\n"
          ]
        },
        {
          "output_type": "stream",
          "name": "stdout",
          "text": [
            "Shape of X:  torch.Size([4, 3, 256, 256])\n",
            "torch.Size([4, 3, 256, 256]) Entropy A1: 5.54384183883667, Entropy A2: 5.5438995361328125\n",
            "Epoch [212/500], Avg Entropy A1: 5.543830394744873, Avg Entropy A2: 5.543894529342651\n"
          ]
        },
        {
          "output_type": "stream",
          "name": "stderr",
          "text": [
            "\r  0%|          | 0/2 [00:00<?, ?it/s]"
          ]
        },
        {
          "output_type": "stream",
          "name": "stdout",
          "text": [
            "Shape of X:  torch.Size([16, 3, 256, 256])\n",
            "torch.Size([16, 3, 256, 256]) Entropy A1: 5.544347763061523, Entropy A2: 5.5443830490112305\n"
          ]
        },
        {
          "output_type": "stream",
          "name": "stderr",
          "text": [
            "100%|██████████| 2/2 [00:00<00:00,  5.40it/s, D_fake=0.0131, D_real=0.984]\n"
          ]
        },
        {
          "output_type": "stream",
          "name": "stdout",
          "text": [
            "Shape of X:  torch.Size([4, 3, 256, 256])\n",
            "torch.Size([4, 3, 256, 256]) Entropy A1: 5.544121742248535, Entropy A2: 5.544173240661621\n",
            "Epoch [213/500], Avg Entropy A1: 5.544234752655029, Avg Entropy A2: 5.544278144836426\n"
          ]
        },
        {
          "output_type": "stream",
          "name": "stderr",
          "text": [
            "\r  0%|          | 0/2 [00:00<?, ?it/s]"
          ]
        },
        {
          "output_type": "stream",
          "name": "stdout",
          "text": [
            "Shape of X:  torch.Size([16, 3, 256, 256])\n",
            "torch.Size([16, 3, 256, 256]) Entropy A1: 5.543885231018066, Entropy A2: 5.543951034545898\n"
          ]
        },
        {
          "output_type": "stream",
          "name": "stderr",
          "text": [
            "100%|██████████| 2/2 [00:00<00:00,  5.49it/s, D_fake=0.0122, D_real=0.983]\n"
          ]
        },
        {
          "output_type": "stream",
          "name": "stdout",
          "text": [
            "Shape of X:  torch.Size([4, 3, 256, 256])\n",
            "torch.Size([4, 3, 256, 256]) Entropy A1: 5.544185638427734, Entropy A2: 5.544236660003662\n",
            "Epoch [214/500], Avg Entropy A1: 5.5440354347229, Avg Entropy A2: 5.54409384727478\n"
          ]
        },
        {
          "output_type": "stream",
          "name": "stderr",
          "text": [
            "\r  0%|          | 0/2 [00:00<?, ?it/s]"
          ]
        },
        {
          "output_type": "stream",
          "name": "stdout",
          "text": [
            "Shape of X:  torch.Size([16, 3, 256, 256])\n",
            "torch.Size([16, 3, 256, 256]) Entropy A1: 5.544294357299805, Entropy A2: 5.544334411621094\n"
          ]
        },
        {
          "output_type": "stream",
          "name": "stderr",
          "text": [
            "100%|██████████| 2/2 [00:00<00:00,  5.43it/s, D_fake=0.0147, D_real=0.987]\n"
          ]
        },
        {
          "output_type": "stream",
          "name": "stdout",
          "text": [
            "Shape of X:  torch.Size([4, 3, 256, 256])\n",
            "torch.Size([4, 3, 256, 256]) Entropy A1: 5.5442047119140625, Entropy A2: 5.5442376136779785\n",
            "Epoch [215/500], Avg Entropy A1: 5.544249534606934, Avg Entropy A2: 5.544286012649536\n"
          ]
        },
        {
          "output_type": "stream",
          "name": "stderr",
          "text": [
            "\r  0%|          | 0/2 [00:00<?, ?it/s]"
          ]
        },
        {
          "output_type": "stream",
          "name": "stdout",
          "text": [
            "Shape of X:  torch.Size([16, 3, 256, 256])\n",
            "torch.Size([16, 3, 256, 256]) Entropy A1: 5.544125080108643, Entropy A2: 5.544171333312988\n"
          ]
        },
        {
          "output_type": "stream",
          "name": "stderr",
          "text": [
            "100%|██████████| 2/2 [00:00<00:00,  5.38it/s, D_fake=0.0254, D_real=0.982]\n"
          ]
        },
        {
          "output_type": "stream",
          "name": "stdout",
          "text": [
            "Shape of X:  torch.Size([4, 3, 256, 256])\n",
            "torch.Size([4, 3, 256, 256]) Entropy A1: 5.544033050537109, Entropy A2: 5.54409122467041\n",
            "Epoch [216/500], Avg Entropy A1: 5.544079065322876, Avg Entropy A2: 5.544131278991699\n"
          ]
        },
        {
          "output_type": "stream",
          "name": "stderr",
          "text": [
            "\r  0%|          | 0/2 [00:00<?, ?it/s]"
          ]
        },
        {
          "output_type": "stream",
          "name": "stdout",
          "text": [
            "Shape of X:  torch.Size([16, 3, 256, 256])\n",
            "torch.Size([16, 3, 256, 256]) Entropy A1: 5.544384956359863, Entropy A2: 5.5444231033325195\n"
          ]
        },
        {
          "output_type": "stream",
          "name": "stderr",
          "text": [
            "100%|██████████| 2/2 [00:00<00:00,  5.44it/s, D_fake=0.0187, D_real=0.976]\n"
          ]
        },
        {
          "output_type": "stream",
          "name": "stdout",
          "text": [
            "Shape of X:  torch.Size([4, 3, 256, 256])\n",
            "torch.Size([4, 3, 256, 256]) Entropy A1: 5.544136047363281, Entropy A2: 5.544188022613525\n",
            "Epoch [217/500], Avg Entropy A1: 5.544260501861572, Avg Entropy A2: 5.5443055629730225\n"
          ]
        },
        {
          "output_type": "stream",
          "name": "stderr",
          "text": [
            "\r  0%|          | 0/2 [00:00<?, ?it/s]"
          ]
        },
        {
          "output_type": "stream",
          "name": "stdout",
          "text": [
            "Shape of X:  torch.Size([16, 3, 256, 256])\n",
            "torch.Size([16, 3, 256, 256]) Entropy A1: 5.54456901550293, Entropy A2: 5.544593811035156\n"
          ]
        },
        {
          "output_type": "stream",
          "name": "stderr",
          "text": [
            "100%|██████████| 2/2 [00:00<00:00,  5.30it/s, D_fake=0.0245, D_real=0.98]\n"
          ]
        },
        {
          "output_type": "stream",
          "name": "stdout",
          "text": [
            "Shape of X:  torch.Size([4, 3, 256, 256])\n",
            "torch.Size([4, 3, 256, 256]) Entropy A1: 5.544534683227539, Entropy A2: 5.544564247131348\n",
            "Epoch [218/500], Avg Entropy A1: 5.544551849365234, Avg Entropy A2: 5.544579029083252\n"
          ]
        },
        {
          "output_type": "stream",
          "name": "stderr",
          "text": [
            "\r  0%|          | 0/2 [00:00<?, ?it/s]"
          ]
        },
        {
          "output_type": "stream",
          "name": "stdout",
          "text": [
            "Shape of X:  torch.Size([16, 3, 256, 256])\n",
            "torch.Size([16, 3, 256, 256]) Entropy A1: 5.544000625610352, Entropy A2: 5.544060707092285\n"
          ]
        },
        {
          "output_type": "stream",
          "name": "stderr",
          "text": [
            "100%|██████████| 2/2 [00:00<00:00,  4.34it/s, D_fake=0.0214, D_real=0.984]\n"
          ]
        },
        {
          "output_type": "stream",
          "name": "stdout",
          "text": [
            "Shape of X:  torch.Size([4, 3, 256, 256])\n",
            "torch.Size([4, 3, 256, 256]) Entropy A1: 5.544027805328369, Entropy A2: 5.544084548950195\n",
            "Epoch [219/500], Avg Entropy A1: 5.54401421546936, Avg Entropy A2: 5.54407262802124\n"
          ]
        },
        {
          "output_type": "stream",
          "name": "stderr",
          "text": [
            "\r  0%|          | 0/2 [00:00<?, ?it/s]"
          ]
        },
        {
          "output_type": "stream",
          "name": "stdout",
          "text": [
            "Shape of X:  torch.Size([16, 3, 256, 256])\n",
            "torch.Size([16, 3, 256, 256]) Entropy A1: 5.544076442718506, Entropy A2: 5.544129371643066\n"
          ]
        },
        {
          "output_type": "stream",
          "name": "stderr",
          "text": [
            "100%|██████████| 2/2 [00:00<00:00,  2.76it/s, D_fake=0.0222, D_real=0.987]"
          ]
        },
        {
          "output_type": "stream",
          "name": "stdout",
          "text": [
            "Shape of X:  torch.Size([4, 3, 256, 256])\n",
            "torch.Size([4, 3, 256, 256]) Entropy A1: 5.5442352294921875, Entropy A2: 5.54427433013916\n"
          ]
        },
        {
          "output_type": "stream",
          "name": "stderr",
          "text": [
            "\n"
          ]
        },
        {
          "output_type": "stream",
          "name": "stdout",
          "text": [
            "Epoch [220/500], Avg Entropy A1: 5.544155836105347, Avg Entropy A2: 5.544201850891113\n"
          ]
        },
        {
          "output_type": "stream",
          "name": "stderr",
          "text": [
            "\r  0%|          | 0/2 [00:00<?, ?it/s]"
          ]
        },
        {
          "output_type": "stream",
          "name": "stdout",
          "text": [
            "Shape of X:  torch.Size([16, 3, 256, 256])\n",
            "torch.Size([16, 3, 256, 256]) Entropy A1: 5.5435791015625, Entropy A2: 5.5436692237854\n"
          ]
        },
        {
          "output_type": "stream",
          "name": "stderr",
          "text": [
            "100%|██████████| 2/2 [00:00<00:00,  3.02it/s, D_fake=0.0238, D_real=0.982]\n"
          ]
        },
        {
          "output_type": "stream",
          "name": "stdout",
          "text": [
            "Shape of X:  torch.Size([4, 3, 256, 256])\n",
            "torch.Size([4, 3, 256, 256]) Entropy A1: 5.543758869171143, Entropy A2: 5.5438313484191895\n",
            "Epoch [221/500], Avg Entropy A1: 5.543668985366821, Avg Entropy A2: 5.543750286102295\n"
          ]
        },
        {
          "output_type": "stream",
          "name": "stderr",
          "text": [
            "\r  0%|          | 0/2 [00:00<?, ?it/s]"
          ]
        },
        {
          "output_type": "stream",
          "name": "stdout",
          "text": [
            "Shape of X:  torch.Size([16, 3, 256, 256])\n",
            "torch.Size([16, 3, 256, 256]) Entropy A1: 5.544158935546875, Entropy A2: 5.544206142425537\n"
          ]
        },
        {
          "output_type": "stream",
          "name": "stderr",
          "text": [
            "100%|██████████| 2/2 [00:00<00:00,  3.48it/s, D_fake=0.0232, D_real=0.983]\n"
          ]
        },
        {
          "output_type": "stream",
          "name": "stdout",
          "text": [
            "Shape of X:  torch.Size([4, 3, 256, 256])\n",
            "torch.Size([4, 3, 256, 256]) Entropy A1: 5.544188499450684, Entropy A2: 5.544236183166504\n",
            "Epoch [222/500], Avg Entropy A1: 5.544173717498779, Avg Entropy A2: 5.5442211627960205\n"
          ]
        },
        {
          "output_type": "stream",
          "name": "stderr",
          "text": [
            "\r  0%|          | 0/2 [00:00<?, ?it/s]"
          ]
        },
        {
          "output_type": "stream",
          "name": "stdout",
          "text": [
            "Shape of X:  torch.Size([16, 3, 256, 256])\n",
            "torch.Size([16, 3, 256, 256]) Entropy A1: 5.544164657592773, Entropy A2: 5.544208526611328\n"
          ]
        },
        {
          "output_type": "stream",
          "name": "stderr",
          "text": [
            "100%|██████████| 2/2 [00:00<00:00,  2.61it/s, D_fake=0.0393, D_real=0.981]\n"
          ]
        },
        {
          "output_type": "stream",
          "name": "stdout",
          "text": [
            "Shape of X:  torch.Size([4, 3, 256, 256])\n",
            "torch.Size([4, 3, 256, 256]) Entropy A1: 5.544073104858398, Entropy A2: 5.544130325317383\n",
            "Epoch [223/500], Avg Entropy A1: 5.544118881225586, Avg Entropy A2: 5.5441694259643555\n"
          ]
        },
        {
          "output_type": "stream",
          "name": "stderr",
          "text": [
            "\r  0%|          | 0/2 [00:00<?, ?it/s]"
          ]
        },
        {
          "output_type": "stream",
          "name": "stdout",
          "text": [
            "Shape of X:  torch.Size([16, 3, 256, 256])\n",
            "torch.Size([16, 3, 256, 256]) Entropy A1: 5.544126510620117, Entropy A2: 5.544178009033203\n"
          ]
        },
        {
          "output_type": "stream",
          "name": "stderr",
          "text": [
            "100%|██████████| 2/2 [00:00<00:00,  3.13it/s, D_fake=0.02, D_real=0.983]\n"
          ]
        },
        {
          "output_type": "stream",
          "name": "stdout",
          "text": [
            "Shape of X:  torch.Size([4, 3, 256, 256])\n",
            "torch.Size([4, 3, 256, 256]) Entropy A1: 5.54404354095459, Entropy A2: 5.544090747833252\n",
            "Epoch [224/500], Avg Entropy A1: 5.5440850257873535, Avg Entropy A2: 5.5441343784332275\n"
          ]
        },
        {
          "output_type": "stream",
          "name": "stderr",
          "text": [
            "\r  0%|          | 0/2 [00:00<?, ?it/s]"
          ]
        },
        {
          "output_type": "stream",
          "name": "stdout",
          "text": [
            "Shape of X:  torch.Size([16, 3, 256, 256])\n",
            "torch.Size([16, 3, 256, 256]) Entropy A1: 5.543859481811523, Entropy A2: 5.5439372062683105\n"
          ]
        },
        {
          "output_type": "stream",
          "name": "stderr",
          "text": [
            "100%|██████████| 2/2 [00:00<00:00,  3.82it/s, D_fake=0.0178, D_real=0.983]\n"
          ]
        },
        {
          "output_type": "stream",
          "name": "stdout",
          "text": [
            "Shape of X:  torch.Size([4, 3, 256, 256])\n",
            "torch.Size([4, 3, 256, 256]) Entropy A1: 5.544271469116211, Entropy A2: 5.544312477111816\n",
            "Epoch [225/500], Avg Entropy A1: 5.544065475463867, Avg Entropy A2: 5.5441248416900635\n"
          ]
        },
        {
          "output_type": "stream",
          "name": "stderr",
          "text": [
            "\r  0%|          | 0/2 [00:00<?, ?it/s]"
          ]
        },
        {
          "output_type": "stream",
          "name": "stdout",
          "text": [
            "Shape of X:  torch.Size([16, 3, 256, 256])\n",
            "torch.Size([16, 3, 256, 256]) Entropy A1: 5.544203281402588, Entropy A2: 5.544241428375244\n"
          ]
        },
        {
          "output_type": "stream",
          "name": "stderr",
          "text": [
            "100%|██████████| 2/2 [00:00<00:00,  3.27it/s, D_fake=0.0313, D_real=0.952]\n"
          ]
        },
        {
          "output_type": "stream",
          "name": "stdout",
          "text": [
            "Shape of X:  torch.Size([4, 3, 256, 256])\n",
            "torch.Size([4, 3, 256, 256]) Entropy A1: 5.544151306152344, Entropy A2: 5.54420280456543\n",
            "Epoch [226/500], Avg Entropy A1: 5.544177293777466, Avg Entropy A2: 5.544222116470337\n"
          ]
        },
        {
          "output_type": "stream",
          "name": "stderr",
          "text": [
            "\r  0%|          | 0/2 [00:00<?, ?it/s]"
          ]
        },
        {
          "output_type": "stream",
          "name": "stdout",
          "text": [
            "Shape of X:  torch.Size([16, 3, 256, 256])\n",
            "torch.Size([16, 3, 256, 256]) Entropy A1: 5.543783664703369, Entropy A2: 5.543848991394043\n"
          ]
        },
        {
          "output_type": "stream",
          "name": "stderr",
          "text": [
            "100%|██████████| 2/2 [00:00<00:00,  3.12it/s, D_fake=0.0177, D_real=0.97]\n"
          ]
        },
        {
          "output_type": "stream",
          "name": "stdout",
          "text": [
            "Shape of X:  torch.Size([4, 3, 256, 256])\n",
            "torch.Size([4, 3, 256, 256]) Entropy A1: 5.543847560882568, Entropy A2: 5.5439252853393555\n",
            "Epoch [227/500], Avg Entropy A1: 5.543815612792969, Avg Entropy A2: 5.543887138366699\n"
          ]
        },
        {
          "output_type": "stream",
          "name": "stderr",
          "text": [
            "\r  0%|          | 0/2 [00:00<?, ?it/s]"
          ]
        },
        {
          "output_type": "stream",
          "name": "stdout",
          "text": [
            "Shape of X:  torch.Size([16, 3, 256, 256])\n",
            "torch.Size([16, 3, 256, 256]) Entropy A1: 5.544492721557617, Entropy A2: 5.5445237159729\n"
          ]
        },
        {
          "output_type": "stream",
          "name": "stderr",
          "text": [
            "100%|██████████| 2/2 [00:00<00:00,  3.26it/s, D_fake=0.0214, D_real=0.976]\n"
          ]
        },
        {
          "output_type": "stream",
          "name": "stdout",
          "text": [
            "Shape of X:  torch.Size([4, 3, 256, 256])\n",
            "torch.Size([4, 3, 256, 256]) Entropy A1: 5.543632507324219, Entropy A2: 5.5437164306640625\n",
            "Epoch [228/500], Avg Entropy A1: 5.544062614440918, Avg Entropy A2: 5.5441200733184814\n"
          ]
        },
        {
          "output_type": "stream",
          "name": "stderr",
          "text": [
            "\r  0%|          | 0/2 [00:00<?, ?it/s]"
          ]
        },
        {
          "output_type": "stream",
          "name": "stdout",
          "text": [
            "Shape of X:  torch.Size([16, 3, 256, 256])\n",
            "torch.Size([16, 3, 256, 256]) Entropy A1: 5.544310092926025, Entropy A2: 5.544351577758789\n"
          ]
        },
        {
          "output_type": "stream",
          "name": "stderr",
          "text": [
            "100%|██████████| 2/2 [00:00<00:00,  3.71it/s, D_fake=0.0135, D_real=0.981]\n"
          ]
        },
        {
          "output_type": "stream",
          "name": "stdout",
          "text": [
            "Shape of X:  torch.Size([4, 3, 256, 256])\n",
            "torch.Size([4, 3, 256, 256]) Entropy A1: 5.544200897216797, Entropy A2: 5.544256210327148\n",
            "Epoch [229/500], Avg Entropy A1: 5.544255495071411, Avg Entropy A2: 5.544303894042969\n"
          ]
        },
        {
          "output_type": "stream",
          "name": "stderr",
          "text": [
            "\r  0%|          | 0/2 [00:00<?, ?it/s]"
          ]
        },
        {
          "output_type": "stream",
          "name": "stdout",
          "text": [
            "Shape of X:  torch.Size([16, 3, 256, 256])\n",
            "torch.Size([16, 3, 256, 256]) Entropy A1: 5.544404983520508, Entropy A2: 5.544437408447266\n"
          ]
        },
        {
          "output_type": "stream",
          "name": "stderr",
          "text": [
            "100%|██████████| 2/2 [00:00<00:00,  4.37it/s, D_fake=0.0148, D_real=0.986]\n"
          ]
        },
        {
          "output_type": "stream",
          "name": "stdout",
          "text": [
            "Shape of X:  torch.Size([4, 3, 256, 256])\n",
            "torch.Size([4, 3, 256, 256]) Entropy A1: 5.5442681312561035, Entropy A2: 5.544309616088867\n",
            "Epoch [230/500], Avg Entropy A1: 5.544336557388306, Avg Entropy A2: 5.544373512268066\n"
          ]
        },
        {
          "output_type": "stream",
          "name": "stderr",
          "text": [
            "\r  0%|          | 0/2 [00:00<?, ?it/s]"
          ]
        },
        {
          "output_type": "stream",
          "name": "stdout",
          "text": [
            "Shape of X:  torch.Size([16, 3, 256, 256])\n",
            "torch.Size([16, 3, 256, 256]) Entropy A1: 5.544297218322754, Entropy A2: 5.544344425201416\n"
          ]
        },
        {
          "output_type": "stream",
          "name": "stderr",
          "text": [
            "100%|██████████| 2/2 [00:00<00:00,  3.74it/s, D_fake=0.0139, D_real=0.988]\n"
          ]
        },
        {
          "output_type": "stream",
          "name": "stdout",
          "text": [
            "Shape of X:  torch.Size([4, 3, 256, 256])\n",
            "torch.Size([4, 3, 256, 256]) Entropy A1: 5.544428825378418, Entropy A2: 5.544455528259277\n",
            "Epoch [231/500], Avg Entropy A1: 5.544363021850586, Avg Entropy A2: 5.544399976730347\n"
          ]
        },
        {
          "output_type": "stream",
          "name": "stderr",
          "text": [
            "\r  0%|          | 0/2 [00:00<?, ?it/s]"
          ]
        },
        {
          "output_type": "stream",
          "name": "stdout",
          "text": [
            "Shape of X:  torch.Size([16, 3, 256, 256])\n",
            "torch.Size([16, 3, 256, 256]) Entropy A1: 5.5440216064453125, Entropy A2: 5.544083595275879\n"
          ]
        },
        {
          "output_type": "stream",
          "name": "stderr",
          "text": [
            "100%|██████████| 2/2 [00:00<00:00,  5.01it/s, D_fake=0.0173, D_real=0.984]\n"
          ]
        },
        {
          "output_type": "stream",
          "name": "stdout",
          "text": [
            "Shape of X:  torch.Size([4, 3, 256, 256])\n",
            "torch.Size([4, 3, 256, 256]) Entropy A1: 5.54387092590332, Entropy A2: 5.543935298919678\n",
            "Epoch [232/500], Avg Entropy A1: 5.543946266174316, Avg Entropy A2: 5.544009447097778\n"
          ]
        },
        {
          "output_type": "stream",
          "name": "stderr",
          "text": [
            "\r  0%|          | 0/2 [00:00<?, ?it/s]"
          ]
        },
        {
          "output_type": "stream",
          "name": "stdout",
          "text": [
            "Shape of X:  torch.Size([16, 3, 256, 256])\n",
            "torch.Size([16, 3, 256, 256]) Entropy A1: 5.544489860534668, Entropy A2: 5.544521331787109\n"
          ]
        },
        {
          "output_type": "stream",
          "name": "stderr",
          "text": [
            "100%|██████████| 2/2 [00:00<00:00,  5.41it/s, D_fake=0.0109, D_real=0.987]\n"
          ]
        },
        {
          "output_type": "stream",
          "name": "stdout",
          "text": [
            "Shape of X:  torch.Size([4, 3, 256, 256])\n",
            "torch.Size([4, 3, 256, 256]) Entropy A1: 5.54421329498291, Entropy A2: 5.544264793395996\n",
            "Epoch [233/500], Avg Entropy A1: 5.544351577758789, Avg Entropy A2: 5.544393062591553\n"
          ]
        },
        {
          "output_type": "stream",
          "name": "stderr",
          "text": [
            "\r  0%|          | 0/2 [00:00<?, ?it/s]"
          ]
        },
        {
          "output_type": "stream",
          "name": "stdout",
          "text": [
            "Shape of X:  torch.Size([16, 3, 256, 256])\n",
            "torch.Size([16, 3, 256, 256]) Entropy A1: 5.5442914962768555, Entropy A2: 5.544339179992676\n"
          ]
        },
        {
          "output_type": "stream",
          "name": "stderr",
          "text": [
            "100%|██████████| 2/2 [00:00<00:00,  5.48it/s, D_fake=0.0141, D_real=0.98]\n"
          ]
        },
        {
          "output_type": "stream",
          "name": "stdout",
          "text": [
            "Shape of X:  torch.Size([4, 3, 256, 256])\n",
            "torch.Size([4, 3, 256, 256]) Entropy A1: 5.544317245483398, Entropy A2: 5.544349670410156\n",
            "Epoch [234/500], Avg Entropy A1: 5.544304370880127, Avg Entropy A2: 5.544344425201416\n"
          ]
        },
        {
          "output_type": "stream",
          "name": "stderr",
          "text": [
            "\r  0%|          | 0/2 [00:00<?, ?it/s]"
          ]
        },
        {
          "output_type": "stream",
          "name": "stdout",
          "text": [
            "Shape of X:  torch.Size([16, 3, 256, 256])\n",
            "torch.Size([16, 3, 256, 256]) Entropy A1: 5.544354438781738, Entropy A2: 5.544394493103027\n"
          ]
        },
        {
          "output_type": "stream",
          "name": "stderr",
          "text": [
            "100%|██████████| 2/2 [00:00<00:00,  5.42it/s, D_fake=0.0123, D_real=0.985]\n"
          ]
        },
        {
          "output_type": "stream",
          "name": "stdout",
          "text": [
            "Shape of X:  torch.Size([4, 3, 256, 256])\n",
            "torch.Size([4, 3, 256, 256]) Entropy A1: 5.544572830200195, Entropy A2: 5.544600486755371\n",
            "Epoch [235/500], Avg Entropy A1: 5.544463634490967, Avg Entropy A2: 5.544497489929199\n"
          ]
        },
        {
          "output_type": "stream",
          "name": "stderr",
          "text": [
            "\r  0%|          | 0/2 [00:00<?, ?it/s]"
          ]
        },
        {
          "output_type": "stream",
          "name": "stdout",
          "text": [
            "Shape of X:  torch.Size([16, 3, 256, 256])\n",
            "torch.Size([16, 3, 256, 256]) Entropy A1: 5.5445098876953125, Entropy A2: 5.544536590576172\n"
          ]
        },
        {
          "output_type": "stream",
          "name": "stderr",
          "text": [
            "100%|██████████| 2/2 [00:00<00:00,  5.16it/s, D_fake=0.0143, D_real=0.983]\n"
          ]
        },
        {
          "output_type": "stream",
          "name": "stdout",
          "text": [
            "Shape of X:  torch.Size([4, 3, 256, 256])\n",
            "torch.Size([4, 3, 256, 256]) Entropy A1: 5.544188976287842, Entropy A2: 5.544236183166504\n",
            "Epoch [236/500], Avg Entropy A1: 5.544349431991577, Avg Entropy A2: 5.544386386871338\n"
          ]
        },
        {
          "output_type": "stream",
          "name": "stderr",
          "text": [
            "\r  0%|          | 0/2 [00:00<?, ?it/s]"
          ]
        },
        {
          "output_type": "stream",
          "name": "stdout",
          "text": [
            "Shape of X:  torch.Size([16, 3, 256, 256])\n",
            "torch.Size([16, 3, 256, 256]) Entropy A1: 5.544285774230957, Entropy A2: 5.54432487487793\n"
          ]
        },
        {
          "output_type": "stream",
          "name": "stderr",
          "text": [
            "100%|██████████| 2/2 [00:00<00:00,  5.20it/s, D_fake=0.0121, D_real=0.987]\n"
          ]
        },
        {
          "output_type": "stream",
          "name": "stdout",
          "text": [
            "Shape of X:  torch.Size([4, 3, 256, 256])\n",
            "torch.Size([4, 3, 256, 256]) Entropy A1: 5.5442399978637695, Entropy A2: 5.544299125671387\n",
            "Epoch [237/500], Avg Entropy A1: 5.544262886047363, Avg Entropy A2: 5.544312000274658\n"
          ]
        },
        {
          "output_type": "stream",
          "name": "stderr",
          "text": [
            "\r  0%|          | 0/2 [00:00<?, ?it/s]"
          ]
        },
        {
          "output_type": "stream",
          "name": "stdout",
          "text": [
            "Shape of X:  torch.Size([16, 3, 256, 256])\n",
            "torch.Size([16, 3, 256, 256]) Entropy A1: 5.544097900390625, Entropy A2: 5.544156551361084\n"
          ]
        },
        {
          "output_type": "stream",
          "name": "stderr",
          "text": [
            "100%|██████████| 2/2 [00:00<00:00,  5.38it/s, D_fake=0.015, D_real=0.98]\n"
          ]
        },
        {
          "output_type": "stream",
          "name": "stdout",
          "text": [
            "Shape of X:  torch.Size([4, 3, 256, 256])\n",
            "torch.Size([4, 3, 256, 256]) Entropy A1: 5.544000148773193, Entropy A2: 5.544072151184082\n",
            "Epoch [238/500], Avg Entropy A1: 5.544049024581909, Avg Entropy A2: 5.544114351272583\n"
          ]
        },
        {
          "output_type": "stream",
          "name": "stderr",
          "text": [
            "\r  0%|          | 0/2 [00:00<?, ?it/s]"
          ]
        },
        {
          "output_type": "stream",
          "name": "stdout",
          "text": [
            "Shape of X:  torch.Size([16, 3, 256, 256])\n",
            "torch.Size([16, 3, 256, 256]) Entropy A1: 5.543881893157959, Entropy A2: 5.543959140777588\n"
          ]
        },
        {
          "output_type": "stream",
          "name": "stderr",
          "text": [
            "100%|██████████| 2/2 [00:00<00:00,  5.33it/s, D_fake=0.0126, D_real=0.991]\n"
          ]
        },
        {
          "output_type": "stream",
          "name": "stdout",
          "text": [
            "Shape of X:  torch.Size([4, 3, 256, 256])\n",
            "torch.Size([4, 3, 256, 256]) Entropy A1: 5.544320106506348, Entropy A2: 5.5443596839904785\n",
            "Epoch [239/500], Avg Entropy A1: 5.544100999832153, Avg Entropy A2: 5.544159412384033\n"
          ]
        },
        {
          "output_type": "stream",
          "name": "stderr",
          "text": [
            "\r  0%|          | 0/2 [00:00<?, ?it/s]"
          ]
        },
        {
          "output_type": "stream",
          "name": "stdout",
          "text": [
            "Shape of X:  torch.Size([16, 3, 256, 256])\n",
            "torch.Size([16, 3, 256, 256]) Entropy A1: 5.544546127319336, Entropy A2: 5.544577598571777\n"
          ]
        },
        {
          "output_type": "stream",
          "name": "stderr",
          "text": [
            "100%|██████████| 2/2 [00:00<00:00,  5.41it/s, D_fake=0.0381, D_real=0.973]\n"
          ]
        },
        {
          "output_type": "stream",
          "name": "stdout",
          "text": [
            "Shape of X:  torch.Size([4, 3, 256, 256])\n",
            "torch.Size([4, 3, 256, 256]) Entropy A1: 5.544154167175293, Entropy A2: 5.544195175170898\n",
            "Epoch [240/500], Avg Entropy A1: 5.5443501472473145, Avg Entropy A2: 5.544386386871338\n"
          ]
        },
        {
          "output_type": "stream",
          "name": "stderr",
          "text": [
            "\r  0%|          | 0/2 [00:00<?, ?it/s]"
          ]
        },
        {
          "output_type": "stream",
          "name": "stdout",
          "text": [
            "Shape of X:  torch.Size([16, 3, 256, 256])\n",
            "torch.Size([16, 3, 256, 256]) Entropy A1: 5.544447898864746, Entropy A2: 5.5444841384887695\n"
          ]
        },
        {
          "output_type": "stream",
          "name": "stderr",
          "text": [
            "100%|██████████| 2/2 [00:00<00:00,  5.28it/s, D_fake=0.0142, D_real=0.984]\n"
          ]
        },
        {
          "output_type": "stream",
          "name": "stdout",
          "text": [
            "Shape of X:  torch.Size([4, 3, 256, 256])\n",
            "torch.Size([4, 3, 256, 256]) Entropy A1: 5.544460296630859, Entropy A2: 5.544491767883301\n",
            "Epoch [241/500], Avg Entropy A1: 5.544454097747803, Avg Entropy A2: 5.544487953186035\n"
          ]
        },
        {
          "output_type": "stream",
          "name": "stderr",
          "text": [
            "\r  0%|          | 0/2 [00:00<?, ?it/s]"
          ]
        },
        {
          "output_type": "stream",
          "name": "stdout",
          "text": [
            "Shape of X:  torch.Size([16, 3, 256, 256])\n",
            "torch.Size([16, 3, 256, 256]) Entropy A1: 5.5439677238464355, Entropy A2: 5.54403018951416\n"
          ]
        },
        {
          "output_type": "stream",
          "name": "stderr",
          "text": [
            "100%|██████████| 2/2 [00:00<00:00,  5.20it/s, D_fake=0.0216, D_real=0.985]\n"
          ]
        },
        {
          "output_type": "stream",
          "name": "stdout",
          "text": [
            "Shape of X:  torch.Size([4, 3, 256, 256])\n",
            "torch.Size([4, 3, 256, 256]) Entropy A1: 5.544187545776367, Entropy A2: 5.544241428375244\n",
            "Epoch [242/500], Avg Entropy A1: 5.544077634811401, Avg Entropy A2: 5.544135808944702\n"
          ]
        },
        {
          "output_type": "stream",
          "name": "stderr",
          "text": [
            "\r  0%|          | 0/2 [00:00<?, ?it/s]"
          ]
        },
        {
          "output_type": "stream",
          "name": "stdout",
          "text": [
            "Shape of X:  torch.Size([16, 3, 256, 256])\n",
            "torch.Size([16, 3, 256, 256]) Entropy A1: 5.544557571411133, Entropy A2: 5.544584274291992\n"
          ]
        },
        {
          "output_type": "stream",
          "name": "stderr",
          "text": [
            "100%|██████████| 2/2 [00:00<00:00,  4.81it/s, D_fake=0.0127, D_real=0.979]\n"
          ]
        },
        {
          "output_type": "stream",
          "name": "stdout",
          "text": [
            "Shape of X:  torch.Size([4, 3, 256, 256])\n",
            "torch.Size([4, 3, 256, 256]) Entropy A1: 5.544511318206787, Entropy A2: 5.544547080993652\n",
            "Epoch [243/500], Avg Entropy A1: 5.54453444480896, Avg Entropy A2: 5.544565677642822\n"
          ]
        },
        {
          "output_type": "stream",
          "name": "stderr",
          "text": [
            "\r  0%|          | 0/2 [00:00<?, ?it/s]"
          ]
        },
        {
          "output_type": "stream",
          "name": "stdout",
          "text": [
            "Shape of X:  torch.Size([16, 3, 256, 256])\n",
            "torch.Size([16, 3, 256, 256]) Entropy A1: 5.544407844543457, Entropy A2: 5.544450283050537\n"
          ]
        },
        {
          "output_type": "stream",
          "name": "stderr",
          "text": [
            "100%|██████████| 2/2 [00:00<00:00,  4.35it/s, D_fake=0.0213, D_real=0.979]\n"
          ]
        },
        {
          "output_type": "stream",
          "name": "stdout",
          "text": [
            "Shape of X:  torch.Size([4, 3, 256, 256])\n",
            "torch.Size([4, 3, 256, 256]) Entropy A1: 5.544065475463867, Entropy A2: 5.544122695922852\n",
            "Epoch [244/500], Avg Entropy A1: 5.544236660003662, Avg Entropy A2: 5.544286489486694\n"
          ]
        },
        {
          "output_type": "stream",
          "name": "stderr",
          "text": [
            "\r  0%|          | 0/2 [00:00<?, ?it/s]"
          ]
        },
        {
          "output_type": "stream",
          "name": "stdout",
          "text": [
            "Shape of X:  torch.Size([16, 3, 256, 256])\n",
            "torch.Size([16, 3, 256, 256]) Entropy A1: 5.544694423675537, Entropy A2: 5.544716835021973\n"
          ]
        },
        {
          "output_type": "stream",
          "name": "stderr",
          "text": [
            "100%|██████████| 2/2 [00:00<00:00,  4.38it/s, D_fake=0.0147, D_real=0.983]\n"
          ]
        },
        {
          "output_type": "stream",
          "name": "stdout",
          "text": [
            "Shape of X:  torch.Size([4, 3, 256, 256])\n",
            "torch.Size([4, 3, 256, 256]) Entropy A1: 5.543879508972168, Entropy A2: 5.543961524963379\n",
            "Epoch [245/500], Avg Entropy A1: 5.5442869663238525, Avg Entropy A2: 5.544339179992676\n"
          ]
        },
        {
          "output_type": "stream",
          "name": "stderr",
          "text": [
            "\r  0%|          | 0/2 [00:00<?, ?it/s]"
          ]
        },
        {
          "output_type": "stream",
          "name": "stdout",
          "text": [
            "Shape of X:  torch.Size([16, 3, 256, 256])\n",
            "torch.Size([16, 3, 256, 256]) Entropy A1: 5.544233798980713, Entropy A2: 5.544282913208008\n"
          ]
        },
        {
          "output_type": "stream",
          "name": "stderr",
          "text": [
            "100%|██████████| 2/2 [00:00<00:00,  4.29it/s, D_fake=0.0167, D_real=0.985]\n"
          ]
        },
        {
          "output_type": "stream",
          "name": "stdout",
          "text": [
            "Shape of X:  torch.Size([4, 3, 256, 256])\n",
            "torch.Size([4, 3, 256, 256]) Entropy A1: 5.54437255859375, Entropy A2: 5.544414520263672\n",
            "Epoch [246/500], Avg Entropy A1: 5.5443031787872314, Avg Entropy A2: 5.54434871673584\n"
          ]
        },
        {
          "output_type": "stream",
          "name": "stderr",
          "text": [
            "\r  0%|          | 0/2 [00:00<?, ?it/s]"
          ]
        },
        {
          "output_type": "stream",
          "name": "stdout",
          "text": [
            "Shape of X:  torch.Size([16, 3, 256, 256])\n",
            "torch.Size([16, 3, 256, 256]) Entropy A1: 5.54434061050415, Entropy A2: 5.544381618499756\n"
          ]
        },
        {
          "output_type": "stream",
          "name": "stderr",
          "text": [
            "100%|██████████| 2/2 [00:00<00:00,  4.50it/s, D_fake=0.0144, D_real=0.983]\n"
          ]
        },
        {
          "output_type": "stream",
          "name": "stdout",
          "text": [
            "Shape of X:  torch.Size([4, 3, 256, 256])\n",
            "torch.Size([4, 3, 256, 256]) Entropy A1: 5.544370651245117, Entropy A2: 5.544401168823242\n",
            "Epoch [247/500], Avg Entropy A1: 5.544355630874634, Avg Entropy A2: 5.544391393661499\n"
          ]
        },
        {
          "output_type": "stream",
          "name": "stderr",
          "text": [
            "\r  0%|          | 0/2 [00:00<?, ?it/s]"
          ]
        },
        {
          "output_type": "stream",
          "name": "stdout",
          "text": [
            "Shape of X:  torch.Size([16, 3, 256, 256])\n",
            "torch.Size([16, 3, 256, 256]) Entropy A1: 5.5445027351379395, Entropy A2: 5.544532775878906\n"
          ]
        },
        {
          "output_type": "stream",
          "name": "stderr",
          "text": [
            "100%|██████████| 2/2 [00:00<00:00,  4.49it/s, D_fake=0.0121, D_real=0.985]\n"
          ]
        },
        {
          "output_type": "stream",
          "name": "stdout",
          "text": [
            "Shape of X:  torch.Size([4, 3, 256, 256])\n",
            "torch.Size([4, 3, 256, 256]) Entropy A1: 5.544473648071289, Entropy A2: 5.544507026672363\n",
            "Epoch [248/500], Avg Entropy A1: 5.544488191604614, Avg Entropy A2: 5.544519901275635\n"
          ]
        },
        {
          "output_type": "stream",
          "name": "stderr",
          "text": [
            "\r  0%|          | 0/2 [00:00<?, ?it/s]"
          ]
        },
        {
          "output_type": "stream",
          "name": "stdout",
          "text": [
            "Shape of X:  torch.Size([16, 3, 256, 256])\n",
            "torch.Size([16, 3, 256, 256]) Entropy A1: 5.544129848480225, Entropy A2: 5.544185638427734\n"
          ]
        },
        {
          "output_type": "stream",
          "name": "stderr",
          "text": [
            "100%|██████████| 2/2 [00:00<00:00,  4.71it/s, D_fake=0.0121, D_real=0.989]\n"
          ]
        },
        {
          "output_type": "stream",
          "name": "stdout",
          "text": [
            "Shape of X:  torch.Size([4, 3, 256, 256])\n",
            "torch.Size([4, 3, 256, 256]) Entropy A1: 5.544414043426514, Entropy A2: 5.544450283050537\n",
            "Epoch [249/500], Avg Entropy A1: 5.544271945953369, Avg Entropy A2: 5.544317960739136\n"
          ]
        },
        {
          "output_type": "stream",
          "name": "stderr",
          "text": [
            "\r  0%|          | 0/2 [00:00<?, ?it/s]"
          ]
        },
        {
          "output_type": "stream",
          "name": "stdout",
          "text": [
            "Shape of X:  torch.Size([16, 3, 256, 256])\n",
            "torch.Size([16, 3, 256, 256]) Entropy A1: 5.544729232788086, Entropy A2: 5.544747352600098\n"
          ]
        },
        {
          "output_type": "stream",
          "name": "stderr",
          "text": [
            "100%|██████████| 2/2 [00:00<00:00,  4.52it/s, D_fake=0.0168, D_real=0.986]\n"
          ]
        },
        {
          "output_type": "stream",
          "name": "stdout",
          "text": [
            "Shape of X:  torch.Size([4, 3, 256, 256])\n",
            "torch.Size([4, 3, 256, 256]) Entropy A1: 5.544355392456055, Entropy A2: 5.544400215148926\n",
            "Epoch [250/500], Avg Entropy A1: 5.54454231262207, Avg Entropy A2: 5.544573783874512\n",
            "Saving model at epoch 249\n",
            "Shape of x at save:  torch.Size([5, 3, 256, 256])\n"
          ]
        },
        {
          "output_type": "stream",
          "name": "stderr",
          "text": [
            "\r  0%|          | 0/2 [00:00<?, ?it/s]"
          ]
        },
        {
          "output_type": "stream",
          "name": "stdout",
          "text": [
            "Shape of X:  torch.Size([16, 3, 256, 256])\n",
            "torch.Size([16, 3, 256, 256]) Entropy A1: 5.544378757476807, Entropy A2: 5.544418811798096\n"
          ]
        },
        {
          "output_type": "stream",
          "name": "stderr",
          "text": [
            "100%|██████████| 2/2 [00:00<00:00,  4.32it/s, D_fake=0.01, D_real=0.99]\n"
          ]
        },
        {
          "output_type": "stream",
          "name": "stdout",
          "text": [
            "Shape of X:  torch.Size([4, 3, 256, 256])\n",
            "torch.Size([4, 3, 256, 256]) Entropy A1: 5.5442657470703125, Entropy A2: 5.54431676864624\n",
            "Epoch [251/500], Avg Entropy A1: 5.54432225227356, Avg Entropy A2: 5.544367790222168\n"
          ]
        },
        {
          "output_type": "stream",
          "name": "stderr",
          "text": [
            "\r  0%|          | 0/2 [00:00<?, ?it/s]"
          ]
        },
        {
          "output_type": "stream",
          "name": "stdout",
          "text": [
            "Shape of X:  torch.Size([16, 3, 256, 256])\n",
            "torch.Size([16, 3, 256, 256]) Entropy A1: 5.544422626495361, Entropy A2: 5.544459819793701\n"
          ]
        },
        {
          "output_type": "stream",
          "name": "stderr",
          "text": [
            "100%|██████████| 2/2 [00:00<00:00,  4.66it/s, D_fake=0.0193, D_real=0.99]\n"
          ]
        },
        {
          "output_type": "stream",
          "name": "stdout",
          "text": [
            "Shape of X:  torch.Size([4, 3, 256, 256])\n",
            "torch.Size([4, 3, 256, 256]) Entropy A1: 5.544281005859375, Entropy A2: 5.544333457946777\n",
            "Epoch [252/500], Avg Entropy A1: 5.544351816177368, Avg Entropy A2: 5.544396638870239\n"
          ]
        },
        {
          "output_type": "stream",
          "name": "stderr",
          "text": [
            "\r  0%|          | 0/2 [00:00<?, ?it/s]"
          ]
        },
        {
          "output_type": "stream",
          "name": "stdout",
          "text": [
            "Shape of X:  torch.Size([16, 3, 256, 256])\n",
            "torch.Size([16, 3, 256, 256]) Entropy A1: 5.544389724731445, Entropy A2: 5.544430732727051\n"
          ]
        },
        {
          "output_type": "stream",
          "name": "stderr",
          "text": [
            "100%|██████████| 2/2 [00:00<00:00,  4.52it/s, D_fake=0.0155, D_real=0.985]\n"
          ]
        },
        {
          "output_type": "stream",
          "name": "stdout",
          "text": [
            "Shape of X:  torch.Size([4, 3, 256, 256])\n",
            "torch.Size([4, 3, 256, 256]) Entropy A1: 5.544391632080078, Entropy A2: 5.54442834854126\n",
            "Epoch [253/500], Avg Entropy A1: 5.544390678405762, Avg Entropy A2: 5.544429540634155\n"
          ]
        },
        {
          "output_type": "stream",
          "name": "stderr",
          "text": [
            "\r  0%|          | 0/2 [00:00<?, ?it/s]"
          ]
        },
        {
          "output_type": "stream",
          "name": "stdout",
          "text": [
            "Shape of X:  torch.Size([16, 3, 256, 256])\n",
            "torch.Size([16, 3, 256, 256]) Entropy A1: 5.5436625480651855, Entropy A2: 5.543764591217041\n"
          ]
        },
        {
          "output_type": "stream",
          "name": "stderr",
          "text": [
            "100%|██████████| 2/2 [00:00<00:00,  4.66it/s, D_fake=0.01, D_real=0.987]\n"
          ]
        },
        {
          "output_type": "stream",
          "name": "stdout",
          "text": [
            "Shape of X:  torch.Size([4, 3, 256, 256])\n",
            "torch.Size([4, 3, 256, 256]) Entropy A1: 5.544313430786133, Entropy A2: 5.544376850128174\n",
            "Epoch [254/500], Avg Entropy A1: 5.543987989425659, Avg Entropy A2: 5.544070720672607\n"
          ]
        },
        {
          "output_type": "stream",
          "name": "stderr",
          "text": [
            "\r  0%|          | 0/2 [00:00<?, ?it/s]"
          ]
        },
        {
          "output_type": "stream",
          "name": "stdout",
          "text": [
            "Shape of X:  torch.Size([16, 3, 256, 256])\n",
            "torch.Size([16, 3, 256, 256]) Entropy A1: 5.544327259063721, Entropy A2: 5.544373512268066\n"
          ]
        },
        {
          "output_type": "stream",
          "name": "stderr",
          "text": [
            "100%|██████████| 2/2 [00:00<00:00,  4.27it/s, D_fake=0.0131, D_real=0.987]\n"
          ]
        },
        {
          "output_type": "stream",
          "name": "stdout",
          "text": [
            "Shape of X:  torch.Size([4, 3, 256, 256])\n",
            "torch.Size([4, 3, 256, 256]) Entropy A1: 5.544318199157715, Entropy A2: 5.544369697570801\n",
            "Epoch [255/500], Avg Entropy A1: 5.544322729110718, Avg Entropy A2: 5.544371604919434\n"
          ]
        },
        {
          "output_type": "stream",
          "name": "stderr",
          "text": [
            "\r  0%|          | 0/2 [00:00<?, ?it/s]"
          ]
        },
        {
          "output_type": "stream",
          "name": "stdout",
          "text": [
            "Shape of X:  torch.Size([16, 3, 256, 256])\n",
            "torch.Size([16, 3, 256, 256]) Entropy A1: 5.544323444366455, Entropy A2: 5.544365882873535\n"
          ]
        },
        {
          "output_type": "stream",
          "name": "stderr",
          "text": [
            "100%|██████████| 2/2 [00:00<00:00,  4.69it/s, D_fake=0.0141, D_real=0.992]\n"
          ]
        },
        {
          "output_type": "stream",
          "name": "stdout",
          "text": [
            "Shape of X:  torch.Size([4, 3, 256, 256])\n",
            "torch.Size([4, 3, 256, 256]) Entropy A1: 5.544363975524902, Entropy A2: 5.544408321380615\n",
            "Epoch [256/500], Avg Entropy A1: 5.544343709945679, Avg Entropy A2: 5.544387102127075\n"
          ]
        },
        {
          "output_type": "stream",
          "name": "stderr",
          "text": [
            "\r  0%|          | 0/2 [00:00<?, ?it/s]"
          ]
        },
        {
          "output_type": "stream",
          "name": "stdout",
          "text": [
            "Shape of X:  torch.Size([16, 3, 256, 256])\n",
            "torch.Size([16, 3, 256, 256]) Entropy A1: 5.544466018676758, Entropy A2: 5.544501304626465\n"
          ]
        },
        {
          "output_type": "stream",
          "name": "stderr",
          "text": [
            "100%|██████████| 2/2 [00:00<00:00,  4.34it/s, D_fake=0.0177, D_real=0.988]\n"
          ]
        },
        {
          "output_type": "stream",
          "name": "stdout",
          "text": [
            "Shape of X:  torch.Size([4, 3, 256, 256])\n",
            "torch.Size([4, 3, 256, 256]) Entropy A1: 5.544326305389404, Entropy A2: 5.544381141662598\n",
            "Epoch [257/500], Avg Entropy A1: 5.544396162033081, Avg Entropy A2: 5.544441223144531\n"
          ]
        },
        {
          "output_type": "stream",
          "name": "stderr",
          "text": [
            "\r  0%|          | 0/2 [00:00<?, ?it/s]"
          ]
        },
        {
          "output_type": "stream",
          "name": "stdout",
          "text": [
            "Shape of X:  torch.Size([16, 3, 256, 256])\n",
            "torch.Size([16, 3, 256, 256]) Entropy A1: 5.544462203979492, Entropy A2: 5.544498443603516\n"
          ]
        },
        {
          "output_type": "stream",
          "name": "stderr",
          "text": [
            "100%|██████████| 2/2 [00:00<00:00,  4.71it/s, D_fake=0.0245, D_real=0.982]\n"
          ]
        },
        {
          "output_type": "stream",
          "name": "stdout",
          "text": [
            "Shape of X:  torch.Size([4, 3, 256, 256])\n",
            "torch.Size([4, 3, 256, 256]) Entropy A1: 5.544010162353516, Entropy A2: 5.544081687927246\n",
            "Epoch [258/500], Avg Entropy A1: 5.544236183166504, Avg Entropy A2: 5.544290065765381\n"
          ]
        },
        {
          "output_type": "stream",
          "name": "stderr",
          "text": [
            "\r  0%|          | 0/2 [00:00<?, ?it/s]"
          ]
        },
        {
          "output_type": "stream",
          "name": "stdout",
          "text": [
            "Shape of X:  torch.Size([16, 3, 256, 256])\n",
            "torch.Size([16, 3, 256, 256]) Entropy A1: 5.544502258300781, Entropy A2: 5.5445404052734375\n"
          ]
        },
        {
          "output_type": "stream",
          "name": "stderr",
          "text": [
            "100%|██████████| 2/2 [00:00<00:00,  4.63it/s, D_fake=0.0114, D_real=0.984]\n"
          ]
        },
        {
          "output_type": "stream",
          "name": "stdout",
          "text": [
            "Shape of X:  torch.Size([4, 3, 256, 256])\n",
            "torch.Size([4, 3, 256, 256]) Entropy A1: 5.5442891120910645, Entropy A2: 5.5443267822265625\n",
            "Epoch [259/500], Avg Entropy A1: 5.544395685195923, Avg Entropy A2: 5.54443359375\n"
          ]
        },
        {
          "output_type": "stream",
          "name": "stderr",
          "text": [
            "\r  0%|          | 0/2 [00:00<?, ?it/s]"
          ]
        },
        {
          "output_type": "stream",
          "name": "stdout",
          "text": [
            "Shape of X:  torch.Size([16, 3, 256, 256])\n",
            "torch.Size([16, 3, 256, 256]) Entropy A1: 5.544493675231934, Entropy A2: 5.544527053833008\n"
          ]
        },
        {
          "output_type": "stream",
          "name": "stderr",
          "text": [
            "100%|██████████| 2/2 [00:00<00:00,  4.06it/s, D_fake=0.0107, D_real=0.984]\n"
          ]
        },
        {
          "output_type": "stream",
          "name": "stdout",
          "text": [
            "Shape of X:  torch.Size([4, 3, 256, 256])\n",
            "torch.Size([4, 3, 256, 256]) Entropy A1: 5.544293403625488, Entropy A2: 5.544347763061523\n",
            "Epoch [260/500], Avg Entropy A1: 5.544393539428711, Avg Entropy A2: 5.544437408447266\n"
          ]
        },
        {
          "output_type": "stream",
          "name": "stderr",
          "text": [
            "\r  0%|          | 0/2 [00:00<?, ?it/s]"
          ]
        },
        {
          "output_type": "stream",
          "name": "stdout",
          "text": [
            "Shape of X:  torch.Size([16, 3, 256, 256])\n",
            "torch.Size([16, 3, 256, 256]) Entropy A1: 5.544342517852783, Entropy A2: 5.544382095336914\n"
          ]
        },
        {
          "output_type": "stream",
          "name": "stderr",
          "text": [
            "100%|██████████| 2/2 [00:00<00:00,  4.28it/s, D_fake=0.0149, D_real=0.984]\n"
          ]
        },
        {
          "output_type": "stream",
          "name": "stdout",
          "text": [
            "Shape of X:  torch.Size([4, 3, 256, 256])\n",
            "torch.Size([4, 3, 256, 256]) Entropy A1: 5.544411659240723, Entropy A2: 5.544445514678955\n",
            "Epoch [261/500], Avg Entropy A1: 5.544377088546753, Avg Entropy A2: 5.544413805007935\n"
          ]
        },
        {
          "output_type": "stream",
          "name": "stderr",
          "text": [
            "\r  0%|          | 0/2 [00:00<?, ?it/s]"
          ]
        },
        {
          "output_type": "stream",
          "name": "stdout",
          "text": [
            "Shape of X:  torch.Size([16, 3, 256, 256])\n",
            "torch.Size([16, 3, 256, 256]) Entropy A1: 5.544201850891113, Entropy A2: 5.544253826141357\n"
          ]
        },
        {
          "output_type": "stream",
          "name": "stderr",
          "text": [
            "100%|██████████| 2/2 [00:00<00:00,  4.35it/s, D_fake=0.0122, D_real=0.988]\n"
          ]
        },
        {
          "output_type": "stream",
          "name": "stdout",
          "text": [
            "Shape of X:  torch.Size([4, 3, 256, 256])\n",
            "torch.Size([4, 3, 256, 256]) Entropy A1: 5.544118881225586, Entropy A2: 5.5441765785217285\n",
            "Epoch [262/500], Avg Entropy A1: 5.54416036605835, Avg Entropy A2: 5.544215202331543\n"
          ]
        },
        {
          "output_type": "stream",
          "name": "stderr",
          "text": [
            "\r  0%|          | 0/2 [00:00<?, ?it/s]"
          ]
        },
        {
          "output_type": "stream",
          "name": "stdout",
          "text": [
            "Shape of X:  torch.Size([16, 3, 256, 256])\n",
            "torch.Size([16, 3, 256, 256]) Entropy A1: 5.544515609741211, Entropy A2: 5.544548034667969\n"
          ]
        },
        {
          "output_type": "stream",
          "name": "stderr",
          "text": [
            "100%|██████████| 2/2 [00:00<00:00,  4.81it/s, D_fake=0.0187, D_real=0.985]\n"
          ]
        },
        {
          "output_type": "stream",
          "name": "stdout",
          "text": [
            "Shape of X:  torch.Size([4, 3, 256, 256])\n",
            "torch.Size([4, 3, 256, 256]) Entropy A1: 5.544504642486572, Entropy A2: 5.544541358947754\n",
            "Epoch [263/500], Avg Entropy A1: 5.544510126113892, Avg Entropy A2: 5.544544696807861\n"
          ]
        },
        {
          "output_type": "stream",
          "name": "stderr",
          "text": [
            "\r  0%|          | 0/2 [00:00<?, ?it/s]"
          ]
        },
        {
          "output_type": "stream",
          "name": "stdout",
          "text": [
            "Shape of X:  torch.Size([16, 3, 256, 256])\n",
            "torch.Size([16, 3, 256, 256]) Entropy A1: 5.544697284698486, Entropy A2: 5.544715881347656\n"
          ]
        },
        {
          "output_type": "stream",
          "name": "stderr",
          "text": [
            "100%|██████████| 2/2 [00:00<00:00,  4.53it/s, D_fake=0.0171, D_real=0.986]\n"
          ]
        },
        {
          "output_type": "stream",
          "name": "stdout",
          "text": [
            "Shape of X:  torch.Size([4, 3, 256, 256])\n",
            "torch.Size([4, 3, 256, 256]) Entropy A1: 5.544647693634033, Entropy A2: 5.544673919677734\n",
            "Epoch [264/500], Avg Entropy A1: 5.54467248916626, Avg Entropy A2: 5.544694900512695\n"
          ]
        },
        {
          "output_type": "stream",
          "name": "stderr",
          "text": [
            "\r  0%|          | 0/2 [00:00<?, ?it/s]"
          ]
        },
        {
          "output_type": "stream",
          "name": "stdout",
          "text": [
            "Shape of X:  torch.Size([16, 3, 256, 256])\n",
            "torch.Size([16, 3, 256, 256]) Entropy A1: 5.544685363769531, Entropy A2: 5.5447096824646\n"
          ]
        },
        {
          "output_type": "stream",
          "name": "stderr",
          "text": [
            "100%|██████████| 2/2 [00:00<00:00,  4.71it/s, D_fake=0.0114, D_real=0.969]\n"
          ]
        },
        {
          "output_type": "stream",
          "name": "stdout",
          "text": [
            "Shape of X:  torch.Size([4, 3, 256, 256])\n",
            "torch.Size([4, 3, 256, 256]) Entropy A1: 5.544290065765381, Entropy A2: 5.5443315505981445\n",
            "Epoch [265/500], Avg Entropy A1: 5.544487714767456, Avg Entropy A2: 5.544520616531372\n"
          ]
        },
        {
          "output_type": "stream",
          "name": "stderr",
          "text": [
            "\r  0%|          | 0/2 [00:00<?, ?it/s]"
          ]
        },
        {
          "output_type": "stream",
          "name": "stdout",
          "text": [
            "Shape of X:  torch.Size([16, 3, 256, 256])\n",
            "torch.Size([16, 3, 256, 256]) Entropy A1: 5.5442705154418945, Entropy A2: 5.544328689575195\n"
          ]
        },
        {
          "output_type": "stream",
          "name": "stderr",
          "text": [
            "100%|██████████| 2/2 [00:00<00:00,  4.56it/s, D_fake=0.0295, D_real=0.979]\n"
          ]
        },
        {
          "output_type": "stream",
          "name": "stdout",
          "text": [
            "Shape of X:  torch.Size([4, 3, 256, 256])\n",
            "torch.Size([4, 3, 256, 256]) Entropy A1: 5.544651985168457, Entropy A2: 5.544673919677734\n",
            "Epoch [266/500], Avg Entropy A1: 5.544461250305176, Avg Entropy A2: 5.544501304626465\n"
          ]
        },
        {
          "output_type": "stream",
          "name": "stderr",
          "text": [
            "\r  0%|          | 0/2 [00:00<?, ?it/s]"
          ]
        },
        {
          "output_type": "stream",
          "name": "stdout",
          "text": [
            "Shape of X:  torch.Size([16, 3, 256, 256])\n",
            "torch.Size([16, 3, 256, 256]) Entropy A1: 5.544560432434082, Entropy A2: 5.544587135314941\n"
          ]
        },
        {
          "output_type": "stream",
          "name": "stderr",
          "text": [
            "100%|██████████| 2/2 [00:00<00:00,  3.79it/s, D_fake=0.0134, D_real=0.982]\n"
          ]
        },
        {
          "output_type": "stream",
          "name": "stdout",
          "text": [
            "Shape of X:  torch.Size([4, 3, 256, 256])\n",
            "torch.Size([4, 3, 256, 256]) Entropy A1: 5.544623374938965, Entropy A2: 5.544647216796875\n",
            "Epoch [267/500], Avg Entropy A1: 5.544591903686523, Avg Entropy A2: 5.544617176055908\n"
          ]
        },
        {
          "output_type": "stream",
          "name": "stderr",
          "text": [
            "\r  0%|          | 0/2 [00:00<?, ?it/s]"
          ]
        },
        {
          "output_type": "stream",
          "name": "stdout",
          "text": [
            "Shape of X:  torch.Size([16, 3, 256, 256])\n",
            "torch.Size([16, 3, 256, 256]) Entropy A1: 5.544626235961914, Entropy A2: 5.544651031494141\n"
          ]
        },
        {
          "output_type": "stream",
          "name": "stderr",
          "text": [
            " 50%|█████     | 1/2 [00:00<00:00,  2.75it/s, D_fake=0.0579, D_real=0.979]"
          ]
        },
        {
          "output_type": "stream",
          "name": "stdout",
          "text": [
            "Shape of X:  torch.Size([4, 3, 256, 256])\n",
            "torch.Size([4, 3, 256, 256]) Entropy A1: 5.544376373291016, Entropy A2: 5.544419288635254\n"
          ]
        },
        {
          "output_type": "stream",
          "name": "stderr",
          "text": [
            "100%|██████████| 2/2 [00:00<00:00,  2.56it/s, D_fake=0.0579, D_real=0.979]\n"
          ]
        },
        {
          "output_type": "stream",
          "name": "stdout",
          "text": [
            "Epoch [268/500], Avg Entropy A1: 5.544501304626465, Avg Entropy A2: 5.544535160064697\n"
          ]
        },
        {
          "output_type": "stream",
          "name": "stderr",
          "text": [
            "\r  0%|          | 0/2 [00:00<?, ?it/s]"
          ]
        },
        {
          "output_type": "stream",
          "name": "stdout",
          "text": [
            "Shape of X:  torch.Size([16, 3, 256, 256])\n",
            "torch.Size([16, 3, 256, 256]) Entropy A1: 5.544621467590332, Entropy A2: 5.544646263122559\n"
          ]
        },
        {
          "output_type": "stream",
          "name": "stderr",
          "text": [
            "100%|██████████| 2/2 [00:00<00:00,  2.27it/s, D_fake=0.0247, D_real=0.98]\n"
          ]
        },
        {
          "output_type": "stream",
          "name": "stdout",
          "text": [
            "Shape of X:  torch.Size([4, 3, 256, 256])\n",
            "torch.Size([4, 3, 256, 256]) Entropy A1: 5.5442914962768555, Entropy A2: 5.544342994689941\n",
            "Epoch [269/500], Avg Entropy A1: 5.544456481933594, Avg Entropy A2: 5.54449462890625\n"
          ]
        },
        {
          "output_type": "stream",
          "name": "stderr",
          "text": [
            "\r  0%|          | 0/2 [00:00<?, ?it/s]"
          ]
        },
        {
          "output_type": "stream",
          "name": "stdout",
          "text": [
            "Shape of X:  torch.Size([16, 3, 256, 256])\n",
            "torch.Size([16, 3, 256, 256]) Entropy A1: 5.544614315032959, Entropy A2: 5.544644355773926\n"
          ]
        },
        {
          "output_type": "stream",
          "name": "stderr",
          "text": [
            " 50%|█████     | 1/2 [00:00<00:00,  1.68it/s, D_fake=0.0516, D_real=0.964]"
          ]
        },
        {
          "output_type": "stream",
          "name": "stdout",
          "text": [
            "Shape of X:  torch.Size([4, 3, 256, 256])\n",
            "torch.Size([4, 3, 256, 256]) Entropy A1: 5.544365406036377, Entropy A2: 5.544406890869141\n"
          ]
        },
        {
          "output_type": "stream",
          "name": "stderr",
          "text": [
            "100%|██████████| 2/2 [00:00<00:00,  2.14it/s, D_fake=0.0516, D_real=0.964]\n"
          ]
        },
        {
          "output_type": "stream",
          "name": "stdout",
          "text": [
            "Epoch [270/500], Avg Entropy A1: 5.544489860534668, Avg Entropy A2: 5.544525623321533\n"
          ]
        },
        {
          "output_type": "stream",
          "name": "stderr",
          "text": [
            "\r  0%|          | 0/2 [00:00<?, ?it/s]"
          ]
        },
        {
          "output_type": "stream",
          "name": "stdout",
          "text": [
            "Shape of X:  torch.Size([16, 3, 256, 256])\n",
            "torch.Size([16, 3, 256, 256]) Entropy A1: 5.544450283050537, Entropy A2: 5.544488906860352\n"
          ]
        },
        {
          "output_type": "stream",
          "name": "stderr",
          "text": [
            "100%|██████████| 2/2 [00:01<00:00,  1.99it/s, D_fake=0.0219, D_real=0.954]\n"
          ]
        },
        {
          "output_type": "stream",
          "name": "stdout",
          "text": [
            "Shape of X:  torch.Size([4, 3, 256, 256])\n",
            "torch.Size([4, 3, 256, 256]) Entropy A1: 5.544600963592529, Entropy A2: 5.544633865356445\n",
            "Epoch [271/500], Avg Entropy A1: 5.544525623321533, Avg Entropy A2: 5.544561386108398\n"
          ]
        },
        {
          "output_type": "stream",
          "name": "stderr",
          "text": [
            "\r  0%|          | 0/2 [00:00<?, ?it/s]"
          ]
        },
        {
          "output_type": "stream",
          "name": "stdout",
          "text": [
            "Shape of X:  torch.Size([16, 3, 256, 256])\n",
            "torch.Size([16, 3, 256, 256]) Entropy A1: 5.544516563415527, Entropy A2: 5.544554233551025\n"
          ]
        },
        {
          "output_type": "stream",
          "name": "stderr",
          "text": [
            "100%|██████████| 2/2 [00:00<00:00,  2.32it/s, D_fake=0.0255, D_real=0.889]"
          ]
        },
        {
          "output_type": "stream",
          "name": "stdout",
          "text": [
            "Shape of X:  torch.Size([4, 3, 256, 256])\n",
            "torch.Size([4, 3, 256, 256]) Entropy A1: 5.544856548309326, Entropy A2: 5.544868469238281\n"
          ]
        },
        {
          "output_type": "stream",
          "name": "stderr",
          "text": [
            "\r100%|██████████| 2/2 [00:00<00:00,  2.09it/s, D_fake=0.0255, D_real=0.889]\n"
          ]
        },
        {
          "output_type": "stream",
          "name": "stdout",
          "text": [
            "Epoch [272/500], Avg Entropy A1: 5.544686555862427, Avg Entropy A2: 5.544711351394653\n"
          ]
        },
        {
          "output_type": "stream",
          "name": "stderr",
          "text": [
            "\r  0%|          | 0/2 [00:00<?, ?it/s]"
          ]
        },
        {
          "output_type": "stream",
          "name": "stdout",
          "text": [
            "Shape of X:  torch.Size([16, 3, 256, 256])\n",
            "torch.Size([16, 3, 256, 256]) Entropy A1: 5.544619560241699, Entropy A2: 5.544650077819824\n"
          ]
        },
        {
          "output_type": "stream",
          "name": "stderr",
          "text": [
            " 50%|█████     | 1/2 [00:00<00:00,  1.67it/s, D_fake=0.144, D_real=0.691]"
          ]
        },
        {
          "output_type": "stream",
          "name": "stdout",
          "text": [
            "Shape of X:  torch.Size([4, 3, 256, 256])\n",
            "torch.Size([4, 3, 256, 256]) Entropy A1: 5.544672966003418, Entropy A2: 5.54469633102417\n"
          ]
        },
        {
          "output_type": "stream",
          "name": "stderr",
          "text": [
            "100%|██████████| 2/2 [00:00<00:00,  2.12it/s, D_fake=0.144, D_real=0.691]\n"
          ]
        },
        {
          "output_type": "stream",
          "name": "stdout",
          "text": [
            "Epoch [273/500], Avg Entropy A1: 5.544646263122559, Avg Entropy A2: 5.544673204421997\n"
          ]
        },
        {
          "output_type": "stream",
          "name": "stderr",
          "text": [
            "\r  0%|          | 0/2 [00:00<?, ?it/s]"
          ]
        },
        {
          "output_type": "stream",
          "name": "stdout",
          "text": [
            "Shape of X:  torch.Size([16, 3, 256, 256])\n",
            "torch.Size([16, 3, 256, 256]) Entropy A1: 5.54448127746582, Entropy A2: 5.5445170402526855\n"
          ]
        },
        {
          "output_type": "stream",
          "name": "stderr",
          "text": [
            " 50%|█████     | 1/2 [00:00<00:00,  2.02it/s, D_fake=0.333, D_real=0.862]"
          ]
        },
        {
          "output_type": "stream",
          "name": "stdout",
          "text": [
            "Shape of X:  torch.Size([4, 3, 256, 256])\n",
            "torch.Size([4, 3, 256, 256]) Entropy A1: 5.54461669921875, Entropy A2: 5.544647693634033\n"
          ]
        },
        {
          "output_type": "stream",
          "name": "stderr",
          "text": [
            "100%|██████████| 2/2 [00:00<00:00,  2.28it/s, D_fake=0.333, D_real=0.862]\n"
          ]
        },
        {
          "output_type": "stream",
          "name": "stdout",
          "text": [
            "Epoch [274/500], Avg Entropy A1: 5.544548988342285, Avg Entropy A2: 5.544582366943359\n"
          ]
        },
        {
          "output_type": "stream",
          "name": "stderr",
          "text": [
            "\r  0%|          | 0/2 [00:00<?, ?it/s]"
          ]
        },
        {
          "output_type": "stream",
          "name": "stdout",
          "text": [
            "Shape of X:  torch.Size([16, 3, 256, 256])\n",
            "torch.Size([16, 3, 256, 256]) Entropy A1: 5.544510364532471, Entropy A2: 5.544551372528076\n"
          ]
        },
        {
          "output_type": "stream",
          "name": "stderr",
          "text": [
            " 50%|█████     | 1/2 [00:00<00:00,  1.55it/s, D_fake=0.224, D_real=0.511]"
          ]
        },
        {
          "output_type": "stream",
          "name": "stdout",
          "text": [
            "Shape of X:  torch.Size([4, 3, 256, 256])\n",
            "torch.Size([4, 3, 256, 256]) Entropy A1: 5.544264316558838, Entropy A2: 5.544308662414551\n"
          ]
        },
        {
          "output_type": "stream",
          "name": "stderr",
          "text": [
            "100%|██████████| 2/2 [00:00<00:00,  2.08it/s, D_fake=0.224, D_real=0.511]\n"
          ]
        },
        {
          "output_type": "stream",
          "name": "stdout",
          "text": [
            "Epoch [275/500], Avg Entropy A1: 5.544387340545654, Avg Entropy A2: 5.5444300174713135\n"
          ]
        },
        {
          "output_type": "stream",
          "name": "stderr",
          "text": [
            "\r  0%|          | 0/2 [00:00<?, ?it/s]"
          ]
        },
        {
          "output_type": "stream",
          "name": "stdout",
          "text": [
            "Shape of X:  torch.Size([16, 3, 256, 256])\n",
            "torch.Size([16, 3, 256, 256]) Entropy A1: 5.544447898864746, Entropy A2: 5.544487953186035\n"
          ]
        },
        {
          "output_type": "stream",
          "name": "stderr",
          "text": [
            " 50%|█████     | 1/2 [00:00<00:00,  1.88it/s, D_fake=0.276, D_real=0.624]"
          ]
        },
        {
          "output_type": "stream",
          "name": "stdout",
          "text": [
            "Shape of X:  torch.Size([4, 3, 256, 256])\n",
            "torch.Size([4, 3, 256, 256]) Entropy A1: 5.544686317443848, Entropy A2: 5.544710159301758\n"
          ]
        },
        {
          "output_type": "stream",
          "name": "stderr",
          "text": [
            "100%|██████████| 2/2 [00:00<00:00,  2.30it/s, D_fake=0.276, D_real=0.624]\n"
          ]
        },
        {
          "output_type": "stream",
          "name": "stdout",
          "text": [
            "Epoch [276/500], Avg Entropy A1: 5.544567108154297, Avg Entropy A2: 5.5445990562438965\n"
          ]
        },
        {
          "output_type": "stream",
          "name": "stderr",
          "text": [
            "\r  0%|          | 0/2 [00:00<?, ?it/s]"
          ]
        },
        {
          "output_type": "stream",
          "name": "stdout",
          "text": [
            "Shape of X:  torch.Size([16, 3, 256, 256])\n",
            "torch.Size([16, 3, 256, 256]) Entropy A1: 5.544744491577148, Entropy A2: 5.544763088226318\n"
          ]
        },
        {
          "output_type": "stream",
          "name": "stderr",
          "text": [
            "100%|██████████| 2/2 [00:00<00:00,  2.54it/s, D_fake=0.0884, D_real=0.685]\n"
          ]
        },
        {
          "output_type": "stream",
          "name": "stdout",
          "text": [
            "Shape of X:  torch.Size([4, 3, 256, 256])\n",
            "torch.Size([4, 3, 256, 256]) Entropy A1: 5.544669151306152, Entropy A2: 5.544695854187012\n",
            "Epoch [277/500], Avg Entropy A1: 5.54470682144165, Avg Entropy A2: 5.544729471206665\n"
          ]
        },
        {
          "output_type": "stream",
          "name": "stderr",
          "text": [
            "\r  0%|          | 0/2 [00:00<?, ?it/s]"
          ]
        },
        {
          "output_type": "stream",
          "name": "stdout",
          "text": [
            "Shape of X:  torch.Size([16, 3, 256, 256])\n",
            "torch.Size([16, 3, 256, 256]) Entropy A1: 5.544538497924805, Entropy A2: 5.544570446014404\n"
          ]
        },
        {
          "output_type": "stream",
          "name": "stderr",
          "text": [
            "100%|██████████| 2/2 [00:00<00:00,  2.82it/s, D_fake=0.0873, D_real=0.748]\n"
          ]
        },
        {
          "output_type": "stream",
          "name": "stdout",
          "text": [
            "Shape of X:  torch.Size([4, 3, 256, 256])\n",
            "torch.Size([4, 3, 256, 256]) Entropy A1: 5.5447187423706055, Entropy A2: 5.544735431671143\n",
            "Epoch [278/500], Avg Entropy A1: 5.544628620147705, Avg Entropy A2: 5.544652938842773\n"
          ]
        },
        {
          "output_type": "stream",
          "name": "stderr",
          "text": [
            "\r  0%|          | 0/2 [00:00<?, ?it/s]"
          ]
        },
        {
          "output_type": "stream",
          "name": "stdout",
          "text": [
            "Shape of X:  torch.Size([16, 3, 256, 256])\n",
            "torch.Size([16, 3, 256, 256]) Entropy A1: 5.544516563415527, Entropy A2: 5.5445556640625\n"
          ]
        },
        {
          "output_type": "stream",
          "name": "stderr",
          "text": [
            "100%|██████████| 2/2 [00:00<00:00,  2.74it/s, D_fake=0.0901, D_real=0.854]\n"
          ]
        },
        {
          "output_type": "stream",
          "name": "stdout",
          "text": [
            "Shape of X:  torch.Size([4, 3, 256, 256])\n",
            "torch.Size([4, 3, 256, 256]) Entropy A1: 5.544874668121338, Entropy A2: 5.544887065887451\n",
            "Epoch [279/500], Avg Entropy A1: 5.544695615768433, Avg Entropy A2: 5.544721364974976\n"
          ]
        },
        {
          "output_type": "stream",
          "name": "stderr",
          "text": [
            "\r  0%|          | 0/2 [00:00<?, ?it/s]"
          ]
        },
        {
          "output_type": "stream",
          "name": "stdout",
          "text": [
            "Shape of X:  torch.Size([16, 3, 256, 256])\n",
            "torch.Size([16, 3, 256, 256]) Entropy A1: 5.544394493103027, Entropy A2: 5.544439792633057\n"
          ]
        },
        {
          "output_type": "stream",
          "name": "stderr",
          "text": [
            "100%|██████████| 2/2 [00:00<00:00,  4.37it/s, D_fake=0.0703, D_real=0.9]\n"
          ]
        },
        {
          "output_type": "stream",
          "name": "stdout",
          "text": [
            "Shape of X:  torch.Size([4, 3, 256, 256])\n",
            "torch.Size([4, 3, 256, 256]) Entropy A1: 5.54466438293457, Entropy A2: 5.544689178466797\n",
            "Epoch [280/500], Avg Entropy A1: 5.544529438018799, Avg Entropy A2: 5.544564485549927\n"
          ]
        },
        {
          "output_type": "stream",
          "name": "stderr",
          "text": [
            "\r  0%|          | 0/2 [00:00<?, ?it/s]"
          ]
        },
        {
          "output_type": "stream",
          "name": "stdout",
          "text": [
            "Shape of X:  torch.Size([16, 3, 256, 256])\n",
            "torch.Size([16, 3, 256, 256]) Entropy A1: 5.544355392456055, Entropy A2: 5.544406414031982\n"
          ]
        },
        {
          "output_type": "stream",
          "name": "stderr",
          "text": [
            "100%|██████████| 2/2 [00:00<00:00,  4.46it/s, D_fake=0.061, D_real=0.934]\n"
          ]
        },
        {
          "output_type": "stream",
          "name": "stdout",
          "text": [
            "Shape of X:  torch.Size([4, 3, 256, 256])\n",
            "torch.Size([4, 3, 256, 256]) Entropy A1: 5.54470157623291, Entropy A2: 5.5447258949279785\n",
            "Epoch [281/500], Avg Entropy A1: 5.544528484344482, Avg Entropy A2: 5.5445661544799805\n"
          ]
        },
        {
          "output_type": "stream",
          "name": "stderr",
          "text": [
            "\r  0%|          | 0/2 [00:00<?, ?it/s]"
          ]
        },
        {
          "output_type": "stream",
          "name": "stdout",
          "text": [
            "Shape of X:  torch.Size([16, 3, 256, 256])\n",
            "torch.Size([16, 3, 256, 256]) Entropy A1: 5.54474401473999, Entropy A2: 5.54476261138916\n"
          ]
        },
        {
          "output_type": "stream",
          "name": "stderr",
          "text": [
            "100%|██████████| 2/2 [00:00<00:00,  4.73it/s, D_fake=0.0545, D_real=0.935]\n"
          ]
        },
        {
          "output_type": "stream",
          "name": "stdout",
          "text": [
            "Shape of X:  torch.Size([4, 3, 256, 256])\n",
            "torch.Size([4, 3, 256, 256]) Entropy A1: 5.54468297958374, Entropy A2: 5.544705390930176\n",
            "Epoch [282/500], Avg Entropy A1: 5.544713497161865, Avg Entropy A2: 5.544734001159668\n"
          ]
        },
        {
          "output_type": "stream",
          "name": "stderr",
          "text": [
            "\r  0%|          | 0/2 [00:00<?, ?it/s]"
          ]
        },
        {
          "output_type": "stream",
          "name": "stdout",
          "text": [
            "Shape of X:  torch.Size([16, 3, 256, 256])\n",
            "torch.Size([16, 3, 256, 256]) Entropy A1: 5.544456481933594, Entropy A2: 5.544498920440674\n"
          ]
        },
        {
          "output_type": "stream",
          "name": "stderr",
          "text": [
            "100%|██████████| 2/2 [00:00<00:00,  4.44it/s, D_fake=0.0484, D_real=0.922]\n"
          ]
        },
        {
          "output_type": "stream",
          "name": "stdout",
          "text": [
            "Shape of X:  torch.Size([4, 3, 256, 256])\n",
            "torch.Size([4, 3, 256, 256]) Entropy A1: 5.544677734375, Entropy A2: 5.5446977615356445\n",
            "Epoch [283/500], Avg Entropy A1: 5.544567108154297, Avg Entropy A2: 5.544598340988159\n"
          ]
        },
        {
          "output_type": "stream",
          "name": "stderr",
          "text": [
            "\r  0%|          | 0/2 [00:00<?, ?it/s]"
          ]
        },
        {
          "output_type": "stream",
          "name": "stdout",
          "text": [
            "Shape of X:  torch.Size([16, 3, 256, 256])\n",
            "torch.Size([16, 3, 256, 256]) Entropy A1: 5.544480323791504, Entropy A2: 5.544517517089844\n"
          ]
        },
        {
          "output_type": "stream",
          "name": "stderr",
          "text": [
            "100%|██████████| 2/2 [00:00<00:00,  4.50it/s, D_fake=0.0275, D_real=0.917]\n"
          ]
        },
        {
          "output_type": "stream",
          "name": "stdout",
          "text": [
            "Shape of X:  torch.Size([4, 3, 256, 256])\n",
            "torch.Size([4, 3, 256, 256]) Entropy A1: 5.54461669921875, Entropy A2: 5.544647216796875\n",
            "Epoch [284/500], Avg Entropy A1: 5.544548511505127, Avg Entropy A2: 5.544582366943359\n"
          ]
        },
        {
          "output_type": "stream",
          "name": "stderr",
          "text": [
            "\r  0%|          | 0/2 [00:00<?, ?it/s]"
          ]
        },
        {
          "output_type": "stream",
          "name": "stdout",
          "text": [
            "Shape of X:  torch.Size([16, 3, 256, 256])\n",
            "torch.Size([16, 3, 256, 256]) Entropy A1: 5.544624328613281, Entropy A2: 5.544650554656982\n"
          ]
        },
        {
          "output_type": "stream",
          "name": "stderr",
          "text": [
            "100%|██████████| 2/2 [00:00<00:00,  4.63it/s, D_fake=0.0427, D_real=0.937]\n"
          ]
        },
        {
          "output_type": "stream",
          "name": "stdout",
          "text": [
            "Shape of X:  torch.Size([4, 3, 256, 256])\n",
            "torch.Size([4, 3, 256, 256]) Entropy A1: 5.544454574584961, Entropy A2: 5.544508934020996\n",
            "Epoch [285/500], Avg Entropy A1: 5.544539451599121, Avg Entropy A2: 5.544579744338989\n"
          ]
        },
        {
          "output_type": "stream",
          "name": "stderr",
          "text": [
            "\r  0%|          | 0/2 [00:00<?, ?it/s]"
          ]
        },
        {
          "output_type": "stream",
          "name": "stdout",
          "text": [
            "Shape of X:  torch.Size([16, 3, 256, 256])\n",
            "torch.Size([16, 3, 256, 256]) Entropy A1: 5.544594764709473, Entropy A2: 5.544620513916016\n"
          ]
        },
        {
          "output_type": "stream",
          "name": "stderr",
          "text": [
            "100%|██████████| 2/2 [00:00<00:00,  4.66it/s, D_fake=0.0848, D_real=0.941]\n"
          ]
        },
        {
          "output_type": "stream",
          "name": "stdout",
          "text": [
            "Shape of X:  torch.Size([4, 3, 256, 256])\n",
            "torch.Size([4, 3, 256, 256]) Entropy A1: 5.544495105743408, Entropy A2: 5.544532775878906\n",
            "Epoch [286/500], Avg Entropy A1: 5.54454493522644, Avg Entropy A2: 5.544576644897461\n"
          ]
        },
        {
          "output_type": "stream",
          "name": "stderr",
          "text": [
            "\r  0%|          | 0/2 [00:00<?, ?it/s]"
          ]
        },
        {
          "output_type": "stream",
          "name": "stdout",
          "text": [
            "Shape of X:  torch.Size([16, 3, 256, 256])\n",
            "torch.Size([16, 3, 256, 256]) Entropy A1: 5.544488906860352, Entropy A2: 5.544528007507324\n"
          ]
        },
        {
          "output_type": "stream",
          "name": "stderr",
          "text": [
            "100%|██████████| 2/2 [00:00<00:00,  4.41it/s, D_fake=0.0377, D_real=0.961]\n"
          ]
        },
        {
          "output_type": "stream",
          "name": "stdout",
          "text": [
            "Shape of X:  torch.Size([4, 3, 256, 256])\n",
            "torch.Size([4, 3, 256, 256]) Entropy A1: 5.544609546661377, Entropy A2: 5.544638156890869\n",
            "Epoch [287/500], Avg Entropy A1: 5.544549226760864, Avg Entropy A2: 5.544583082199097\n"
          ]
        },
        {
          "output_type": "stream",
          "name": "stderr",
          "text": [
            "\r  0%|          | 0/2 [00:00<?, ?it/s]"
          ]
        },
        {
          "output_type": "stream",
          "name": "stdout",
          "text": [
            "Shape of X:  torch.Size([16, 3, 256, 256])\n",
            "torch.Size([16, 3, 256, 256]) Entropy A1: 5.544402122497559, Entropy A2: 5.544455528259277\n"
          ]
        },
        {
          "output_type": "stream",
          "name": "stderr",
          "text": [
            "100%|██████████| 2/2 [00:00<00:00,  4.34it/s, D_fake=0.0353, D_real=0.957]\n"
          ]
        },
        {
          "output_type": "stream",
          "name": "stdout",
          "text": [
            "Shape of X:  torch.Size([4, 3, 256, 256])\n",
            "torch.Size([4, 3, 256, 256]) Entropy A1: 5.544466972351074, Entropy A2: 5.544506072998047\n",
            "Epoch [288/500], Avg Entropy A1: 5.544434547424316, Avg Entropy A2: 5.544480800628662\n"
          ]
        },
        {
          "output_type": "stream",
          "name": "stderr",
          "text": [
            "\r  0%|          | 0/2 [00:00<?, ?it/s]"
          ]
        },
        {
          "output_type": "stream",
          "name": "stdout",
          "text": [
            "Shape of X:  torch.Size([16, 3, 256, 256])\n",
            "torch.Size([16, 3, 256, 256]) Entropy A1: 5.54471492767334, Entropy A2: 5.544737339019775\n"
          ]
        },
        {
          "output_type": "stream",
          "name": "stderr",
          "text": [
            "100%|██████████| 2/2 [00:00<00:00,  4.36it/s, D_fake=0.0246, D_real=0.964]\n"
          ]
        },
        {
          "output_type": "stream",
          "name": "stdout",
          "text": [
            "Shape of X:  torch.Size([4, 3, 256, 256])\n",
            "torch.Size([4, 3, 256, 256]) Entropy A1: 5.544055938720703, Entropy A2: 5.544125556945801\n",
            "Epoch [289/500], Avg Entropy A1: 5.5443854331970215, Avg Entropy A2: 5.544431447982788\n"
          ]
        },
        {
          "output_type": "stream",
          "name": "stderr",
          "text": [
            "\r  0%|          | 0/2 [00:00<?, ?it/s]"
          ]
        },
        {
          "output_type": "stream",
          "name": "stdout",
          "text": [
            "Shape of X:  torch.Size([16, 3, 256, 256])\n",
            "torch.Size([16, 3, 256, 256]) Entropy A1: 5.5446367263793945, Entropy A2: 5.544661998748779\n"
          ]
        },
        {
          "output_type": "stream",
          "name": "stderr",
          "text": [
            "100%|██████████| 2/2 [00:00<00:00,  4.51it/s, D_fake=0.0362, D_real=0.949]\n"
          ]
        },
        {
          "output_type": "stream",
          "name": "stdout",
          "text": [
            "Shape of X:  torch.Size([4, 3, 256, 256])\n",
            "torch.Size([4, 3, 256, 256]) Entropy A1: 5.544398307800293, Entropy A2: 5.544455528259277\n",
            "Epoch [290/500], Avg Entropy A1: 5.544517517089844, Avg Entropy A2: 5.544558763504028\n"
          ]
        },
        {
          "output_type": "stream",
          "name": "stderr",
          "text": [
            "\r  0%|          | 0/2 [00:00<?, ?it/s]"
          ]
        },
        {
          "output_type": "stream",
          "name": "stdout",
          "text": [
            "Shape of X:  torch.Size([16, 3, 256, 256])\n",
            "torch.Size([16, 3, 256, 256]) Entropy A1: 5.544610023498535, Entropy A2: 5.544644355773926\n"
          ]
        },
        {
          "output_type": "stream",
          "name": "stderr",
          "text": [
            "100%|██████████| 2/2 [00:00<00:00,  4.28it/s, D_fake=0.0416, D_real=0.954]\n"
          ]
        },
        {
          "output_type": "stream",
          "name": "stdout",
          "text": [
            "Shape of X:  torch.Size([4, 3, 256, 256])\n",
            "torch.Size([4, 3, 256, 256]) Entropy A1: 5.5445451736450195, Entropy A2: 5.544572830200195\n",
            "Epoch [291/500], Avg Entropy A1: 5.544577598571777, Avg Entropy A2: 5.5446085929870605\n"
          ]
        },
        {
          "output_type": "stream",
          "name": "stderr",
          "text": [
            "\r  0%|          | 0/2 [00:00<?, ?it/s]"
          ]
        },
        {
          "output_type": "stream",
          "name": "stdout",
          "text": [
            "Shape of X:  torch.Size([16, 3, 256, 256])\n",
            "torch.Size([16, 3, 256, 256]) Entropy A1: 5.544673919677734, Entropy A2: 5.54470157623291\n"
          ]
        },
        {
          "output_type": "stream",
          "name": "stderr",
          "text": [
            "100%|██████████| 2/2 [00:00<00:00,  4.57it/s, D_fake=0.0294, D_real=0.965]\n"
          ]
        },
        {
          "output_type": "stream",
          "name": "stdout",
          "text": [
            "Shape of X:  torch.Size([4, 3, 256, 256])\n",
            "torch.Size([4, 3, 256, 256]) Entropy A1: 5.54470157623291, Entropy A2: 5.544723033905029\n",
            "Epoch [292/500], Avg Entropy A1: 5.544687747955322, Avg Entropy A2: 5.54471230506897\n"
          ]
        },
        {
          "output_type": "stream",
          "name": "stderr",
          "text": [
            "\r  0%|          | 0/2 [00:00<?, ?it/s]"
          ]
        },
        {
          "output_type": "stream",
          "name": "stdout",
          "text": [
            "Shape of X:  torch.Size([16, 3, 256, 256])\n",
            "torch.Size([16, 3, 256, 256]) Entropy A1: 5.544539451599121, Entropy A2: 5.544569969177246\n"
          ]
        },
        {
          "output_type": "stream",
          "name": "stderr",
          "text": [
            "100%|██████████| 2/2 [00:00<00:00,  4.40it/s, D_fake=0.0248, D_real=0.97]\n"
          ]
        },
        {
          "output_type": "stream",
          "name": "stdout",
          "text": [
            "Shape of X:  torch.Size([4, 3, 256, 256])\n",
            "torch.Size([4, 3, 256, 256]) Entropy A1: 5.544654846191406, Entropy A2: 5.544678688049316\n",
            "Epoch [293/500], Avg Entropy A1: 5.544597148895264, Avg Entropy A2: 5.544624328613281\n"
          ]
        },
        {
          "output_type": "stream",
          "name": "stderr",
          "text": [
            "\r  0%|          | 0/2 [00:00<?, ?it/s]"
          ]
        },
        {
          "output_type": "stream",
          "name": "stdout",
          "text": [
            "Shape of X:  torch.Size([16, 3, 256, 256])\n",
            "torch.Size([16, 3, 256, 256]) Entropy A1: 5.544547080993652, Entropy A2: 5.544578552246094\n"
          ]
        },
        {
          "output_type": "stream",
          "name": "stderr",
          "text": [
            "100%|██████████| 2/2 [00:00<00:00,  4.42it/s, D_fake=0.0503, D_real=0.851]\n"
          ]
        },
        {
          "output_type": "stream",
          "name": "stdout",
          "text": [
            "Shape of X:  torch.Size([4, 3, 256, 256])\n",
            "torch.Size([4, 3, 256, 256]) Entropy A1: 5.544443130493164, Entropy A2: 5.544480323791504\n",
            "Epoch [294/500], Avg Entropy A1: 5.544495105743408, Avg Entropy A2: 5.544529438018799\n"
          ]
        },
        {
          "output_type": "stream",
          "name": "stderr",
          "text": [
            "\r  0%|          | 0/2 [00:00<?, ?it/s]"
          ]
        },
        {
          "output_type": "stream",
          "name": "stdout",
          "text": [
            "Shape of X:  torch.Size([16, 3, 256, 256])\n",
            "torch.Size([16, 3, 256, 256]) Entropy A1: 5.544668197631836, Entropy A2: 5.544690132141113\n"
          ]
        },
        {
          "output_type": "stream",
          "name": "stderr",
          "text": [
            "100%|██████████| 2/2 [00:00<00:00,  4.38it/s, D_fake=0.0412, D_real=0.962]\n"
          ]
        },
        {
          "output_type": "stream",
          "name": "stdout",
          "text": [
            "Shape of X:  torch.Size([4, 3, 256, 256])\n",
            "torch.Size([4, 3, 256, 256]) Entropy A1: 5.544698715209961, Entropy A2: 5.544720649719238\n",
            "Epoch [295/500], Avg Entropy A1: 5.544683456420898, Avg Entropy A2: 5.544705390930176\n"
          ]
        },
        {
          "output_type": "stream",
          "name": "stderr",
          "text": [
            "\r  0%|          | 0/2 [00:00<?, ?it/s]"
          ]
        },
        {
          "output_type": "stream",
          "name": "stdout",
          "text": [
            "Shape of X:  torch.Size([16, 3, 256, 256])\n",
            "torch.Size([16, 3, 256, 256]) Entropy A1: 5.5443878173828125, Entropy A2: 5.54443359375\n"
          ]
        },
        {
          "output_type": "stream",
          "name": "stderr",
          "text": [
            "100%|██████████| 2/2 [00:00<00:00,  4.15it/s, D_fake=0.0472, D_real=0.973]\n"
          ]
        },
        {
          "output_type": "stream",
          "name": "stdout",
          "text": [
            "Shape of X:  torch.Size([4, 3, 256, 256])\n",
            "torch.Size([4, 3, 256, 256]) Entropy A1: 5.544412136077881, Entropy A2: 5.544449806213379\n",
            "Epoch [296/500], Avg Entropy A1: 5.544399976730347, Avg Entropy A2: 5.5444416999816895\n"
          ]
        },
        {
          "output_type": "stream",
          "name": "stderr",
          "text": [
            "\r  0%|          | 0/2 [00:00<?, ?it/s]"
          ]
        },
        {
          "output_type": "stream",
          "name": "stdout",
          "text": [
            "Shape of X:  torch.Size([16, 3, 256, 256])\n",
            "torch.Size([16, 3, 256, 256]) Entropy A1: 5.544443130493164, Entropy A2: 5.5444817543029785\n"
          ]
        },
        {
          "output_type": "stream",
          "name": "stderr",
          "text": [
            "100%|██████████| 2/2 [00:00<00:00,  4.11it/s, D_fake=0.0259, D_real=0.964]\n"
          ]
        },
        {
          "output_type": "stream",
          "name": "stdout",
          "text": [
            "Shape of X:  torch.Size([4, 3, 256, 256])\n",
            "torch.Size([4, 3, 256, 256]) Entropy A1: 5.5443010330200195, Entropy A2: 5.544353485107422\n",
            "Epoch [297/500], Avg Entropy A1: 5.544372081756592, Avg Entropy A2: 5.5444176197052\n"
          ]
        },
        {
          "output_type": "stream",
          "name": "stderr",
          "text": [
            "\r  0%|          | 0/2 [00:00<?, ?it/s]"
          ]
        },
        {
          "output_type": "stream",
          "name": "stdout",
          "text": [
            "Shape of X:  torch.Size([16, 3, 256, 256])\n",
            "torch.Size([16, 3, 256, 256]) Entropy A1: 5.544692039489746, Entropy A2: 5.544711589813232\n"
          ]
        },
        {
          "output_type": "stream",
          "name": "stderr",
          "text": [
            "100%|██████████| 2/2 [00:00<00:00,  4.30it/s, D_fake=0.0179, D_real=0.975]\n"
          ]
        },
        {
          "output_type": "stream",
          "name": "stdout",
          "text": [
            "Shape of X:  torch.Size([4, 3, 256, 256])\n",
            "torch.Size([4, 3, 256, 256]) Entropy A1: 5.544576644897461, Entropy A2: 5.5446038246154785\n",
            "Epoch [298/500], Avg Entropy A1: 5.5446343421936035, Avg Entropy A2: 5.5446577072143555\n"
          ]
        },
        {
          "output_type": "stream",
          "name": "stderr",
          "text": [
            "\r  0%|          | 0/2 [00:00<?, ?it/s]"
          ]
        },
        {
          "output_type": "stream",
          "name": "stdout",
          "text": [
            "Shape of X:  torch.Size([16, 3, 256, 256])\n",
            "torch.Size([16, 3, 256, 256]) Entropy A1: 5.54473876953125, Entropy A2: 5.544755935668945\n"
          ]
        },
        {
          "output_type": "stream",
          "name": "stderr",
          "text": [
            "100%|██████████| 2/2 [00:00<00:00,  4.00it/s, D_fake=0.0207, D_real=0.977]\n"
          ]
        },
        {
          "output_type": "stream",
          "name": "stdout",
          "text": [
            "Shape of X:  torch.Size([4, 3, 256, 256])\n",
            "torch.Size([4, 3, 256, 256]) Entropy A1: 5.544513702392578, Entropy A2: 5.544546604156494\n",
            "Epoch [299/500], Avg Entropy A1: 5.544626235961914, Avg Entropy A2: 5.54465126991272\n"
          ]
        },
        {
          "output_type": "stream",
          "name": "stderr",
          "text": [
            "\r  0%|          | 0/2 [00:00<?, ?it/s]"
          ]
        },
        {
          "output_type": "stream",
          "name": "stdout",
          "text": [
            "Shape of X:  torch.Size([16, 3, 256, 256])\n",
            "torch.Size([16, 3, 256, 256]) Entropy A1: 5.544560432434082, Entropy A2: 5.544593811035156\n"
          ]
        },
        {
          "output_type": "stream",
          "name": "stderr",
          "text": [
            "100%|██████████| 2/2 [00:00<00:00,  4.07it/s, D_fake=0.0193, D_real=0.979]\n"
          ]
        },
        {
          "output_type": "stream",
          "name": "stdout",
          "text": [
            "Shape of X:  torch.Size([4, 3, 256, 256])\n",
            "torch.Size([4, 3, 256, 256]) Entropy A1: 5.544546127319336, Entropy A2: 5.544576168060303\n",
            "Epoch [300/500], Avg Entropy A1: 5.544553279876709, Avg Entropy A2: 5.5445849895477295\n",
            "Saving model at epoch 299\n",
            "Shape of x at save:  torch.Size([5, 3, 256, 256])\n"
          ]
        },
        {
          "output_type": "stream",
          "name": "stderr",
          "text": [
            "\r  0%|          | 0/2 [00:00<?, ?it/s]"
          ]
        },
        {
          "output_type": "stream",
          "name": "stdout",
          "text": [
            "Shape of X:  torch.Size([16, 3, 256, 256])\n",
            "torch.Size([16, 3, 256, 256]) Entropy A1: 5.5444841384887695, Entropy A2: 5.544522285461426\n"
          ]
        },
        {
          "output_type": "stream",
          "name": "stderr",
          "text": [
            "100%|██████████| 2/2 [00:00<00:00,  4.38it/s, D_fake=0.0209, D_real=0.978]\n"
          ]
        },
        {
          "output_type": "stream",
          "name": "stdout",
          "text": [
            "Shape of X:  torch.Size([4, 3, 256, 256])\n",
            "torch.Size([4, 3, 256, 256]) Entropy A1: 5.544646263122559, Entropy A2: 5.544671058654785\n",
            "Epoch [301/500], Avg Entropy A1: 5.544565200805664, Avg Entropy A2: 5.5445966720581055\n"
          ]
        },
        {
          "output_type": "stream",
          "name": "stderr",
          "text": [
            "\r  0%|          | 0/2 [00:00<?, ?it/s]"
          ]
        },
        {
          "output_type": "stream",
          "name": "stdout",
          "text": [
            "Shape of X:  torch.Size([16, 3, 256, 256])\n",
            "torch.Size([16, 3, 256, 256]) Entropy A1: 5.544756889343262, Entropy A2: 5.544774055480957\n"
          ]
        },
        {
          "output_type": "stream",
          "name": "stderr",
          "text": [
            "100%|██████████| 2/2 [00:00<00:00,  4.52it/s, D_fake=0.0237, D_real=0.98]\n"
          ]
        },
        {
          "output_type": "stream",
          "name": "stdout",
          "text": [
            "Shape of X:  torch.Size([4, 3, 256, 256])\n",
            "torch.Size([4, 3, 256, 256]) Entropy A1: 5.544581413269043, Entropy A2: 5.544608116149902\n",
            "Epoch [302/500], Avg Entropy A1: 5.544669151306152, Avg Entropy A2: 5.54469108581543\n"
          ]
        },
        {
          "output_type": "stream",
          "name": "stderr",
          "text": [
            "\r  0%|          | 0/2 [00:00<?, ?it/s]"
          ]
        },
        {
          "output_type": "stream",
          "name": "stdout",
          "text": [
            "Shape of X:  torch.Size([16, 3, 256, 256])\n",
            "torch.Size([16, 3, 256, 256]) Entropy A1: 5.544400215148926, Entropy A2: 5.544444561004639\n"
          ]
        },
        {
          "output_type": "stream",
          "name": "stderr",
          "text": [
            "100%|██████████| 2/2 [00:00<00:00,  4.68it/s, D_fake=0.0214, D_real=0.983]\n"
          ]
        },
        {
          "output_type": "stream",
          "name": "stdout",
          "text": [
            "Shape of X:  torch.Size([4, 3, 256, 256])\n",
            "torch.Size([4, 3, 256, 256]) Entropy A1: 5.54478120803833, Entropy A2: 5.544794082641602\n",
            "Epoch [303/500], Avg Entropy A1: 5.544590711593628, Avg Entropy A2: 5.54461932182312\n"
          ]
        },
        {
          "output_type": "stream",
          "name": "stderr",
          "text": [
            "\r  0%|          | 0/2 [00:00<?, ?it/s]"
          ]
        },
        {
          "output_type": "stream",
          "name": "stdout",
          "text": [
            "Shape of X:  torch.Size([16, 3, 256, 256])\n",
            "torch.Size([16, 3, 256, 256]) Entropy A1: 5.544784069061279, Entropy A2: 5.544799327850342\n"
          ]
        },
        {
          "output_type": "stream",
          "name": "stderr",
          "text": [
            "100%|██████████| 2/2 [00:00<00:00,  4.51it/s, D_fake=0.0148, D_real=0.973]\n"
          ]
        },
        {
          "output_type": "stream",
          "name": "stdout",
          "text": [
            "Shape of X:  torch.Size([4, 3, 256, 256])\n",
            "torch.Size([4, 3, 256, 256]) Entropy A1: 5.544650554656982, Entropy A2: 5.544671058654785\n",
            "Epoch [304/500], Avg Entropy A1: 5.544717311859131, Avg Entropy A2: 5.5447351932525635\n"
          ]
        },
        {
          "output_type": "stream",
          "name": "stderr",
          "text": [
            "\r  0%|          | 0/2 [00:00<?, ?it/s]"
          ]
        },
        {
          "output_type": "stream",
          "name": "stdout",
          "text": [
            "Shape of X:  torch.Size([16, 3, 256, 256])\n",
            "torch.Size([16, 3, 256, 256]) Entropy A1: 5.544623374938965, Entropy A2: 5.544650077819824\n"
          ]
        },
        {
          "output_type": "stream",
          "name": "stderr",
          "text": [
            "100%|██████████| 2/2 [00:00<00:00,  4.53it/s, D_fake=0.0149, D_real=0.982]\n"
          ]
        },
        {
          "output_type": "stream",
          "name": "stdout",
          "text": [
            "Shape of X:  torch.Size([4, 3, 256, 256])\n",
            "torch.Size([4, 3, 256, 256]) Entropy A1: 5.544737339019775, Entropy A2: 5.544760227203369\n",
            "Epoch [305/500], Avg Entropy A1: 5.54468035697937, Avg Entropy A2: 5.544705152511597\n"
          ]
        },
        {
          "output_type": "stream",
          "name": "stderr",
          "text": [
            "\r  0%|          | 0/2 [00:00<?, ?it/s]"
          ]
        },
        {
          "output_type": "stream",
          "name": "stdout",
          "text": [
            "Shape of X:  torch.Size([16, 3, 256, 256])\n",
            "torch.Size([16, 3, 256, 256]) Entropy A1: 5.54464054107666, Entropy A2: 5.544668197631836\n"
          ]
        },
        {
          "output_type": "stream",
          "name": "stderr",
          "text": [
            "100%|██████████| 2/2 [00:00<00:00,  4.58it/s, D_fake=0.0225, D_real=0.975]\n"
          ]
        },
        {
          "output_type": "stream",
          "name": "stdout",
          "text": [
            "Shape of X:  torch.Size([4, 3, 256, 256])\n",
            "torch.Size([4, 3, 256, 256]) Entropy A1: 5.544552803039551, Entropy A2: 5.544581413269043\n",
            "Epoch [306/500], Avg Entropy A1: 5.5445966720581055, Avg Entropy A2: 5.5446248054504395\n"
          ]
        },
        {
          "output_type": "stream",
          "name": "stderr",
          "text": [
            "\r  0%|          | 0/2 [00:00<?, ?it/s]"
          ]
        },
        {
          "output_type": "stream",
          "name": "stdout",
          "text": [
            "Shape of X:  torch.Size([16, 3, 256, 256])\n",
            "torch.Size([16, 3, 256, 256]) Entropy A1: 5.5445637702941895, Entropy A2: 5.544597625732422\n"
          ]
        },
        {
          "output_type": "stream",
          "name": "stderr",
          "text": [
            "100%|██████████| 2/2 [00:00<00:00,  4.61it/s, D_fake=0.0211, D_real=0.979]\n"
          ]
        },
        {
          "output_type": "stream",
          "name": "stdout",
          "text": [
            "Shape of X:  torch.Size([4, 3, 256, 256])\n",
            "torch.Size([4, 3, 256, 256]) Entropy A1: 5.5446014404296875, Entropy A2: 5.5446248054504395\n",
            "Epoch [307/500], Avg Entropy A1: 5.5445826053619385, Avg Entropy A2: 5.544611215591431\n"
          ]
        },
        {
          "output_type": "stream",
          "name": "stderr",
          "text": [
            "\r  0%|          | 0/2 [00:00<?, ?it/s]"
          ]
        },
        {
          "output_type": "stream",
          "name": "stdout",
          "text": [
            "Shape of X:  torch.Size([16, 3, 256, 256])\n",
            "torch.Size([16, 3, 256, 256]) Entropy A1: 5.54471492767334, Entropy A2: 5.544734477996826\n"
          ]
        },
        {
          "output_type": "stream",
          "name": "stderr",
          "text": [
            "100%|██████████| 2/2 [00:00<00:00,  4.81it/s, D_fake=0.0206, D_real=0.984]\n"
          ]
        },
        {
          "output_type": "stream",
          "name": "stdout",
          "text": [
            "Shape of X:  torch.Size([4, 3, 256, 256])\n",
            "torch.Size([4, 3, 256, 256]) Entropy A1: 5.544748306274414, Entropy A2: 5.5447678565979\n",
            "Epoch [308/500], Avg Entropy A1: 5.544731616973877, Avg Entropy A2: 5.544751167297363\n"
          ]
        },
        {
          "output_type": "stream",
          "name": "stderr",
          "text": [
            "\r  0%|          | 0/2 [00:00<?, ?it/s]"
          ]
        },
        {
          "output_type": "stream",
          "name": "stdout",
          "text": [
            "Shape of X:  torch.Size([16, 3, 256, 256])\n",
            "torch.Size([16, 3, 256, 256]) Entropy A1: 5.54447078704834, Entropy A2: 5.544508934020996\n"
          ]
        },
        {
          "output_type": "stream",
          "name": "stderr",
          "text": [
            "100%|██████████| 2/2 [00:00<00:00,  4.55it/s, D_fake=0.0151, D_real=0.985]\n"
          ]
        },
        {
          "output_type": "stream",
          "name": "stdout",
          "text": [
            "Shape of X:  torch.Size([4, 3, 256, 256])\n",
            "torch.Size([4, 3, 256, 256]) Entropy A1: 5.544724464416504, Entropy A2: 5.544743061065674\n",
            "Epoch [309/500], Avg Entropy A1: 5.544597625732422, Avg Entropy A2: 5.544625997543335\n"
          ]
        },
        {
          "output_type": "stream",
          "name": "stderr",
          "text": [
            "\r  0%|          | 0/2 [00:00<?, ?it/s]"
          ]
        },
        {
          "output_type": "stream",
          "name": "stdout",
          "text": [
            "Shape of X:  torch.Size([16, 3, 256, 256])\n",
            "torch.Size([16, 3, 256, 256]) Entropy A1: 5.544765472412109, Entropy A2: 5.5447845458984375\n"
          ]
        },
        {
          "output_type": "stream",
          "name": "stderr",
          "text": [
            "100%|██████████| 2/2 [00:00<00:00,  4.53it/s, D_fake=0.0166, D_real=0.988]\n"
          ]
        },
        {
          "output_type": "stream",
          "name": "stdout",
          "text": [
            "Shape of X:  torch.Size([4, 3, 256, 256])\n",
            "torch.Size([4, 3, 256, 256]) Entropy A1: 5.544705390930176, Entropy A2: 5.544729232788086\n",
            "Epoch [310/500], Avg Entropy A1: 5.544735431671143, Avg Entropy A2: 5.544756889343262\n"
          ]
        },
        {
          "output_type": "stream",
          "name": "stderr",
          "text": [
            "\r  0%|          | 0/2 [00:00<?, ?it/s]"
          ]
        },
        {
          "output_type": "stream",
          "name": "stdout",
          "text": [
            "Shape of X:  torch.Size([16, 3, 256, 256])\n",
            "torch.Size([16, 3, 256, 256]) Entropy A1: 5.544683933258057, Entropy A2: 5.544708251953125\n"
          ]
        },
        {
          "output_type": "stream",
          "name": "stderr",
          "text": [
            "100%|██████████| 2/2 [00:00<00:00,  4.46it/s, D_fake=0.0145, D_real=0.986]\n"
          ]
        },
        {
          "output_type": "stream",
          "name": "stdout",
          "text": [
            "Shape of X:  torch.Size([4, 3, 256, 256])\n",
            "torch.Size([4, 3, 256, 256]) Entropy A1: 5.544844627380371, Entropy A2: 5.544856071472168\n",
            "Epoch [311/500], Avg Entropy A1: 5.544764280319214, Avg Entropy A2: 5.5447821617126465\n"
          ]
        },
        {
          "output_type": "stream",
          "name": "stderr",
          "text": [
            "\r  0%|          | 0/2 [00:00<?, ?it/s]"
          ]
        },
        {
          "output_type": "stream",
          "name": "stdout",
          "text": [
            "Shape of X:  torch.Size([16, 3, 256, 256])\n",
            "torch.Size([16, 3, 256, 256]) Entropy A1: 5.544423580169678, Entropy A2: 5.544466495513916\n"
          ]
        },
        {
          "output_type": "stream",
          "name": "stderr",
          "text": [
            "100%|██████████| 2/2 [00:00<00:00,  4.02it/s, D_fake=0.0172, D_real=0.987]\n"
          ]
        },
        {
          "output_type": "stream",
          "name": "stdout",
          "text": [
            "Shape of X:  torch.Size([4, 3, 256, 256])\n",
            "torch.Size([4, 3, 256, 256]) Entropy A1: 5.544643878936768, Entropy A2: 5.544673919677734\n",
            "Epoch [312/500], Avg Entropy A1: 5.544533729553223, Avg Entropy A2: 5.544570207595825\n"
          ]
        },
        {
          "output_type": "stream",
          "name": "stderr",
          "text": [
            "\r  0%|          | 0/2 [00:00<?, ?it/s]"
          ]
        },
        {
          "output_type": "stream",
          "name": "stdout",
          "text": [
            "Shape of X:  torch.Size([16, 3, 256, 256])\n",
            "torch.Size([16, 3, 256, 256]) Entropy A1: 5.5447492599487305, Entropy A2: 5.544767379760742\n"
          ]
        },
        {
          "output_type": "stream",
          "name": "stderr",
          "text": [
            "100%|██████████| 2/2 [00:00<00:00,  3.30it/s, D_fake=0.0157, D_real=0.988]\n"
          ]
        },
        {
          "output_type": "stream",
          "name": "stdout",
          "text": [
            "Shape of X:  torch.Size([4, 3, 256, 256])\n",
            "torch.Size([4, 3, 256, 256]) Entropy A1: 5.544513702392578, Entropy A2: 5.544549942016602\n",
            "Epoch [313/500], Avg Entropy A1: 5.544631481170654, Avg Entropy A2: 5.544658660888672\n"
          ]
        },
        {
          "output_type": "stream",
          "name": "stderr",
          "text": [
            "\r  0%|          | 0/2 [00:00<?, ?it/s]"
          ]
        },
        {
          "output_type": "stream",
          "name": "stdout",
          "text": [
            "Shape of X:  torch.Size([16, 3, 256, 256])\n",
            "torch.Size([16, 3, 256, 256]) Entropy A1: 5.544788360595703, Entropy A2: 5.544804096221924\n"
          ]
        },
        {
          "output_type": "stream",
          "name": "stderr",
          "text": [
            "100%|██████████| 2/2 [00:00<00:00,  2.27it/s, D_fake=0.0184, D_real=0.985]\n"
          ]
        },
        {
          "output_type": "stream",
          "name": "stdout",
          "text": [
            "Shape of X:  torch.Size([4, 3, 256, 256])\n",
            "torch.Size([4, 3, 256, 256]) Entropy A1: 5.544646263122559, Entropy A2: 5.544672966003418\n",
            "Epoch [314/500], Avg Entropy A1: 5.544717311859131, Avg Entropy A2: 5.544738531112671\n"
          ]
        },
        {
          "output_type": "stream",
          "name": "stderr",
          "text": [
            "\r  0%|          | 0/2 [00:00<?, ?it/s]"
          ]
        },
        {
          "output_type": "stream",
          "name": "stdout",
          "text": [
            "Shape of X:  torch.Size([16, 3, 256, 256])\n",
            "torch.Size([16, 3, 256, 256]) Entropy A1: 5.5446319580078125, Entropy A2: 5.5446553230285645\n"
          ]
        },
        {
          "output_type": "stream",
          "name": "stderr",
          "text": [
            "100%|██████████| 2/2 [00:01<00:00,  1.88it/s, D_fake=0.0133, D_real=0.99]"
          ]
        },
        {
          "output_type": "stream",
          "name": "stdout",
          "text": [
            "Shape of X:  torch.Size([4, 3, 256, 256])\n",
            "torch.Size([4, 3, 256, 256]) Entropy A1: 5.544833183288574, Entropy A2: 5.54484748840332\n"
          ]
        },
        {
          "output_type": "stream",
          "name": "stderr",
          "text": [
            "\n"
          ]
        },
        {
          "output_type": "stream",
          "name": "stdout",
          "text": [
            "Epoch [315/500], Avg Entropy A1: 5.544732570648193, Avg Entropy A2: 5.544751405715942\n"
          ]
        },
        {
          "output_type": "stream",
          "name": "stderr",
          "text": [
            "\r  0%|          | 0/2 [00:00<?, ?it/s]"
          ]
        },
        {
          "output_type": "stream",
          "name": "stdout",
          "text": [
            "Shape of X:  torch.Size([16, 3, 256, 256])\n",
            "torch.Size([16, 3, 256, 256]) Entropy A1: 5.544685363769531, Entropy A2: 5.544709205627441\n"
          ]
        },
        {
          "output_type": "stream",
          "name": "stderr",
          "text": [
            " 50%|█████     | 1/2 [00:00<00:00,  1.71it/s, D_fake=0.0212, D_real=0.988]"
          ]
        },
        {
          "output_type": "stream",
          "name": "stdout",
          "text": [
            "Shape of X:  torch.Size([4, 3, 256, 256])\n",
            "torch.Size([4, 3, 256, 256]) Entropy A1: 5.544684410095215, Entropy A2: 5.544709205627441\n"
          ]
        },
        {
          "output_type": "stream",
          "name": "stderr",
          "text": [
            "100%|██████████| 2/2 [00:00<00:00,  2.06it/s, D_fake=0.0212, D_real=0.988]\n"
          ]
        },
        {
          "output_type": "stream",
          "name": "stdout",
          "text": [
            "Epoch [316/500], Avg Entropy A1: 5.544684886932373, Avg Entropy A2: 5.544709205627441\n"
          ]
        },
        {
          "output_type": "stream",
          "name": "stderr",
          "text": [
            "\r  0%|          | 0/2 [00:00<?, ?it/s]"
          ]
        },
        {
          "output_type": "stream",
          "name": "stdout",
          "text": [
            "Shape of X:  torch.Size([16, 3, 256, 256])\n",
            "torch.Size([16, 3, 256, 256]) Entropy A1: 5.544527053833008, Entropy A2: 5.544567108154297\n"
          ]
        },
        {
          "output_type": "stream",
          "name": "stderr",
          "text": [
            " 50%|█████     | 1/2 [00:00<00:00,  1.30it/s, D_fake=0.0157, D_real=0.989]"
          ]
        },
        {
          "output_type": "stream",
          "name": "stdout",
          "text": [
            "Shape of X:  torch.Size([4, 3, 256, 256])\n",
            "torch.Size([4, 3, 256, 256]) Entropy A1: 5.544716835021973, Entropy A2: 5.544741153717041\n"
          ]
        },
        {
          "output_type": "stream",
          "name": "stderr",
          "text": [
            "100%|██████████| 2/2 [00:01<00:00,  1.80it/s, D_fake=0.0157, D_real=0.989]\n"
          ]
        },
        {
          "output_type": "stream",
          "name": "stdout",
          "text": [
            "Epoch [317/500], Avg Entropy A1: 5.54462194442749, Avg Entropy A2: 5.544654130935669\n"
          ]
        },
        {
          "output_type": "stream",
          "name": "stderr",
          "text": [
            "\r  0%|          | 0/2 [00:00<?, ?it/s]"
          ]
        },
        {
          "output_type": "stream",
          "name": "stdout",
          "text": [
            "Shape of X:  torch.Size([16, 3, 256, 256])\n",
            "torch.Size([16, 3, 256, 256]) Entropy A1: 5.544730186462402, Entropy A2: 5.544750690460205\n"
          ]
        },
        {
          "output_type": "stream",
          "name": "stderr",
          "text": [
            " 50%|█████     | 1/2 [00:00<00:00,  1.52it/s, D_fake=0.0134, D_real=0.984]"
          ]
        },
        {
          "output_type": "stream",
          "name": "stdout",
          "text": [
            "Shape of X:  torch.Size([4, 3, 256, 256])\n",
            "torch.Size([4, 3, 256, 256]) Entropy A1: 5.544524192810059, Entropy A2: 5.544561386108398\n"
          ]
        },
        {
          "output_type": "stream",
          "name": "stderr",
          "text": [
            "100%|██████████| 2/2 [00:01<00:00,  1.95it/s, D_fake=0.0134, D_real=0.984]\n"
          ]
        },
        {
          "output_type": "stream",
          "name": "stdout",
          "text": [
            "Epoch [318/500], Avg Entropy A1: 5.5446271896362305, Avg Entropy A2: 5.544656038284302\n"
          ]
        },
        {
          "output_type": "stream",
          "name": "stderr",
          "text": [
            "\r  0%|          | 0/2 [00:00<?, ?it/s]"
          ]
        },
        {
          "output_type": "stream",
          "name": "stdout",
          "text": [
            "Shape of X:  torch.Size([16, 3, 256, 256])\n",
            "torch.Size([16, 3, 256, 256]) Entropy A1: 5.544780731201172, Entropy A2: 5.544796466827393\n"
          ]
        },
        {
          "output_type": "stream",
          "name": "stderr",
          "text": [
            " 50%|█████     | 1/2 [00:00<00:00,  1.38it/s, D_fake=0.0099, D_real=0.987]"
          ]
        },
        {
          "output_type": "stream",
          "name": "stdout",
          "text": [
            "Shape of X:  torch.Size([4, 3, 256, 256])\n",
            "torch.Size([4, 3, 256, 256]) Entropy A1: 5.544589042663574, Entropy A2: 5.54461669921875\n"
          ]
        },
        {
          "output_type": "stream",
          "name": "stderr",
          "text": [
            "100%|██████████| 2/2 [00:01<00:00,  1.90it/s, D_fake=0.0099, D_real=0.987]\n"
          ]
        },
        {
          "output_type": "stream",
          "name": "stdout",
          "text": [
            "Epoch [319/500], Avg Entropy A1: 5.544684886932373, Avg Entropy A2: 5.544706583023071\n"
          ]
        },
        {
          "output_type": "stream",
          "name": "stderr",
          "text": [
            "\r  0%|          | 0/2 [00:00<?, ?it/s]"
          ]
        },
        {
          "output_type": "stream",
          "name": "stdout",
          "text": [
            "Shape of X:  torch.Size([16, 3, 256, 256])\n",
            "torch.Size([16, 3, 256, 256]) Entropy A1: 5.5445990562438965, Entropy A2: 5.544626235961914\n"
          ]
        },
        {
          "output_type": "stream",
          "name": "stderr",
          "text": [
            "100%|██████████| 2/2 [00:00<00:00,  2.52it/s, D_fake=0.0108, D_real=0.987]"
          ]
        },
        {
          "output_type": "stream",
          "name": "stdout",
          "text": [
            "Shape of X:  torch.Size([4, 3, 256, 256])\n",
            "torch.Size([4, 3, 256, 256]) Entropy A1: 5.544611930847168, Entropy A2: 5.544643402099609\n"
          ]
        },
        {
          "output_type": "stream",
          "name": "stderr",
          "text": [
            "\n"
          ]
        },
        {
          "output_type": "stream",
          "name": "stdout",
          "text": [
            "Epoch [320/500], Avg Entropy A1: 5.544605493545532, Avg Entropy A2: 5.544634819030762\n"
          ]
        },
        {
          "output_type": "stream",
          "name": "stderr",
          "text": [
            "\r  0%|          | 0/2 [00:00<?, ?it/s]"
          ]
        },
        {
          "output_type": "stream",
          "name": "stdout",
          "text": [
            "Shape of X:  torch.Size([16, 3, 256, 256])\n",
            "torch.Size([16, 3, 256, 256]) Entropy A1: 5.54477596282959, Entropy A2: 5.544792175292969\n"
          ]
        },
        {
          "output_type": "stream",
          "name": "stderr",
          "text": [
            "100%|██████████| 2/2 [00:00<00:00,  3.43it/s, D_fake=0.0137, D_real=0.982]\n"
          ]
        },
        {
          "output_type": "stream",
          "name": "stdout",
          "text": [
            "Shape of X:  torch.Size([4, 3, 256, 256])\n",
            "torch.Size([4, 3, 256, 256]) Entropy A1: 5.5448689460754395, Entropy A2: 5.5448808670043945\n",
            "Epoch [321/500], Avg Entropy A1: 5.544822454452515, Avg Entropy A2: 5.544836521148682\n"
          ]
        },
        {
          "output_type": "stream",
          "name": "stderr",
          "text": [
            "\r  0%|          | 0/2 [00:00<?, ?it/s]"
          ]
        },
        {
          "output_type": "stream",
          "name": "stdout",
          "text": [
            "Shape of X:  torch.Size([16, 3, 256, 256])\n",
            "torch.Size([16, 3, 256, 256]) Entropy A1: 5.544651985168457, Entropy A2: 5.544677734375\n"
          ]
        },
        {
          "output_type": "stream",
          "name": "stderr",
          "text": [
            "100%|██████████| 2/2 [00:00<00:00,  3.20it/s, D_fake=0.013, D_real=0.984]\n"
          ]
        },
        {
          "output_type": "stream",
          "name": "stdout",
          "text": [
            "Shape of X:  torch.Size([4, 3, 256, 256])\n",
            "torch.Size([4, 3, 256, 256]) Entropy A1: 5.544582366943359, Entropy A2: 5.544613838195801\n",
            "Epoch [322/500], Avg Entropy A1: 5.544617176055908, Avg Entropy A2: 5.5446457862854\n"
          ]
        },
        {
          "output_type": "stream",
          "name": "stderr",
          "text": [
            "\r  0%|          | 0/2 [00:00<?, ?it/s]"
          ]
        },
        {
          "output_type": "stream",
          "name": "stdout",
          "text": [
            "Shape of X:  torch.Size([16, 3, 256, 256])\n",
            "torch.Size([16, 3, 256, 256]) Entropy A1: 5.544862747192383, Entropy A2: 5.544874668121338\n"
          ]
        },
        {
          "output_type": "stream",
          "name": "stderr",
          "text": [
            "100%|██████████| 2/2 [00:00<00:00,  3.25it/s, D_fake=0.0197, D_real=0.984]\n"
          ]
        },
        {
          "output_type": "stream",
          "name": "stdout",
          "text": [
            "Shape of X:  torch.Size([4, 3, 256, 256])\n",
            "torch.Size([4, 3, 256, 256]) Entropy A1: 5.5446577072143555, Entropy A2: 5.544682025909424\n",
            "Epoch [323/500], Avg Entropy A1: 5.544760227203369, Avg Entropy A2: 5.544778347015381\n"
          ]
        },
        {
          "output_type": "stream",
          "name": "stderr",
          "text": [
            "\r  0%|          | 0/2 [00:00<?, ?it/s]"
          ]
        },
        {
          "output_type": "stream",
          "name": "stdout",
          "text": [
            "Shape of X:  torch.Size([16, 3, 256, 256])\n",
            "torch.Size([16, 3, 256, 256]) Entropy A1: 5.544560432434082, Entropy A2: 5.544592380523682\n"
          ]
        },
        {
          "output_type": "stream",
          "name": "stderr",
          "text": [
            "100%|██████████| 2/2 [00:00<00:00,  2.87it/s, D_fake=0.0193, D_real=0.987]\n"
          ]
        },
        {
          "output_type": "stream",
          "name": "stdout",
          "text": [
            "Shape of X:  torch.Size([4, 3, 256, 256])\n",
            "torch.Size([4, 3, 256, 256]) Entropy A1: 5.544508934020996, Entropy A2: 5.544557571411133\n",
            "Epoch [324/500], Avg Entropy A1: 5.544534683227539, Avg Entropy A2: 5.544574975967407\n"
          ]
        },
        {
          "output_type": "stream",
          "name": "stderr",
          "text": [
            "\r  0%|          | 0/2 [00:00<?, ?it/s]"
          ]
        },
        {
          "output_type": "stream",
          "name": "stdout",
          "text": [
            "Shape of X:  torch.Size([16, 3, 256, 256])\n",
            "torch.Size([16, 3, 256, 256]) Entropy A1: 5.54459285736084, Entropy A2: 5.544622421264648\n"
          ]
        },
        {
          "output_type": "stream",
          "name": "stderr",
          "text": [
            "100%|██████████| 2/2 [00:00<00:00,  3.03it/s, D_fake=0.00949, D_real=0.988]\n"
          ]
        },
        {
          "output_type": "stream",
          "name": "stdout",
          "text": [
            "Shape of X:  torch.Size([4, 3, 256, 256])\n",
            "torch.Size([4, 3, 256, 256]) Entropy A1: 5.544769287109375, Entropy A2: 5.544793128967285\n",
            "Epoch [325/500], Avg Entropy A1: 5.544681072235107, Avg Entropy A2: 5.544707775115967\n"
          ]
        },
        {
          "output_type": "stream",
          "name": "stderr",
          "text": [
            "\r  0%|          | 0/2 [00:00<?, ?it/s]"
          ]
        },
        {
          "output_type": "stream",
          "name": "stdout",
          "text": [
            "Shape of X:  torch.Size([16, 3, 256, 256])\n",
            "torch.Size([16, 3, 256, 256]) Entropy A1: 5.544565677642822, Entropy A2: 5.544602394104004\n"
          ]
        },
        {
          "output_type": "stream",
          "name": "stderr",
          "text": [
            "100%|██████████| 2/2 [00:00<00:00,  4.38it/s, D_fake=0.0162, D_real=0.985]\n"
          ]
        },
        {
          "output_type": "stream",
          "name": "stdout",
          "text": [
            "Shape of X:  torch.Size([4, 3, 256, 256])\n",
            "torch.Size([4, 3, 256, 256]) Entropy A1: 5.5449066162109375, Entropy A2: 5.544916152954102\n",
            "Epoch [326/500], Avg Entropy A1: 5.54473614692688, Avg Entropy A2: 5.544759273529053\n"
          ]
        },
        {
          "output_type": "stream",
          "name": "stderr",
          "text": [
            "\r  0%|          | 0/2 [00:00<?, ?it/s]"
          ]
        },
        {
          "output_type": "stream",
          "name": "stdout",
          "text": [
            "Shape of X:  torch.Size([16, 3, 256, 256])\n",
            "torch.Size([16, 3, 256, 256]) Entropy A1: 5.544765472412109, Entropy A2: 5.5447845458984375\n"
          ]
        },
        {
          "output_type": "stream",
          "name": "stderr",
          "text": [
            "100%|██████████| 2/2 [00:00<00:00,  4.53it/s, D_fake=0.00719, D_real=0.993]\n"
          ]
        },
        {
          "output_type": "stream",
          "name": "stdout",
          "text": [
            "Shape of X:  torch.Size([4, 3, 256, 256])\n",
            "torch.Size([4, 3, 256, 256]) Entropy A1: 5.544804096221924, Entropy A2: 5.544824123382568\n",
            "Epoch [327/500], Avg Entropy A1: 5.544784784317017, Avg Entropy A2: 5.544804334640503\n"
          ]
        },
        {
          "output_type": "stream",
          "name": "stderr",
          "text": [
            "\r  0%|          | 0/2 [00:00<?, ?it/s]"
          ]
        },
        {
          "output_type": "stream",
          "name": "stdout",
          "text": [
            "Shape of X:  torch.Size([16, 3, 256, 256])\n",
            "torch.Size([16, 3, 256, 256]) Entropy A1: 5.5445146560668945, Entropy A2: 5.544552326202393\n"
          ]
        },
        {
          "output_type": "stream",
          "name": "stderr",
          "text": [
            "100%|██████████| 2/2 [00:00<00:00,  4.66it/s, D_fake=0.0183, D_real=0.96]\n"
          ]
        },
        {
          "output_type": "stream",
          "name": "stdout",
          "text": [
            "Shape of X:  torch.Size([4, 3, 256, 256])\n",
            "torch.Size([4, 3, 256, 256]) Entropy A1: 5.5446672439575195, Entropy A2: 5.544694900512695\n",
            "Epoch [328/500], Avg Entropy A1: 5.544590950012207, Avg Entropy A2: 5.544623613357544\n"
          ]
        },
        {
          "output_type": "stream",
          "name": "stderr",
          "text": [
            "\r  0%|          | 0/2 [00:00<?, ?it/s]"
          ]
        },
        {
          "output_type": "stream",
          "name": "stdout",
          "text": [
            "Shape of X:  torch.Size([16, 3, 256, 256])\n",
            "torch.Size([16, 3, 256, 256]) Entropy A1: 5.544463157653809, Entropy A2: 5.544506549835205\n"
          ]
        },
        {
          "output_type": "stream",
          "name": "stderr",
          "text": [
            "100%|██████████| 2/2 [00:00<00:00,  4.63it/s, D_fake=0.0111, D_real=0.99]\n"
          ]
        },
        {
          "output_type": "stream",
          "name": "stdout",
          "text": [
            "Shape of X:  torch.Size([4, 3, 256, 256])\n",
            "torch.Size([4, 3, 256, 256]) Entropy A1: 5.544859886169434, Entropy A2: 5.544873237609863\n",
            "Epoch [329/500], Avg Entropy A1: 5.544661521911621, Avg Entropy A2: 5.544689893722534\n"
          ]
        },
        {
          "output_type": "stream",
          "name": "stderr",
          "text": [
            "\r  0%|          | 0/2 [00:00<?, ?it/s]"
          ]
        },
        {
          "output_type": "stream",
          "name": "stdout",
          "text": [
            "Shape of X:  torch.Size([16, 3, 256, 256])\n",
            "torch.Size([16, 3, 256, 256]) Entropy A1: 5.5446882247924805, Entropy A2: 5.544712066650391\n"
          ]
        },
        {
          "output_type": "stream",
          "name": "stderr",
          "text": [
            "100%|██████████| 2/2 [00:00<00:00,  4.57it/s, D_fake=0.0195, D_real=0.989]\n"
          ]
        },
        {
          "output_type": "stream",
          "name": "stdout",
          "text": [
            "Shape of X:  torch.Size([4, 3, 256, 256])\n",
            "torch.Size([4, 3, 256, 256]) Entropy A1: 5.544915199279785, Entropy A2: 5.544924736022949\n",
            "Epoch [330/500], Avg Entropy A1: 5.544801712036133, Avg Entropy A2: 5.54481840133667\n"
          ]
        },
        {
          "output_type": "stream",
          "name": "stderr",
          "text": [
            "\r  0%|          | 0/2 [00:00<?, ?it/s]"
          ]
        },
        {
          "output_type": "stream",
          "name": "stdout",
          "text": [
            "Shape of X:  torch.Size([16, 3, 256, 256])\n",
            "torch.Size([16, 3, 256, 256]) Entropy A1: 5.544559955596924, Entropy A2: 5.54459285736084\n"
          ]
        },
        {
          "output_type": "stream",
          "name": "stderr",
          "text": [
            "100%|██████████| 2/2 [00:00<00:00,  4.67it/s, D_fake=0.0113, D_real=0.992]\n"
          ]
        },
        {
          "output_type": "stream",
          "name": "stdout",
          "text": [
            "Shape of X:  torch.Size([4, 3, 256, 256])\n",
            "torch.Size([4, 3, 256, 256]) Entropy A1: 5.544675827026367, Entropy A2: 5.544696807861328\n",
            "Epoch [331/500], Avg Entropy A1: 5.5446178913116455, Avg Entropy A2: 5.544644832611084\n"
          ]
        },
        {
          "output_type": "stream",
          "name": "stderr",
          "text": [
            "\r  0%|          | 0/2 [00:00<?, ?it/s]"
          ]
        },
        {
          "output_type": "stream",
          "name": "stdout",
          "text": [
            "Shape of X:  torch.Size([16, 3, 256, 256])\n",
            "torch.Size([16, 3, 256, 256]) Entropy A1: 5.544621467590332, Entropy A2: 5.544650554656982\n"
          ]
        },
        {
          "output_type": "stream",
          "name": "stderr",
          "text": [
            "100%|██████████| 2/2 [00:00<00:00,  4.61it/s, D_fake=0.0157, D_real=0.991]\n"
          ]
        },
        {
          "output_type": "stream",
          "name": "stdout",
          "text": [
            "Shape of X:  torch.Size([4, 3, 256, 256])\n",
            "torch.Size([4, 3, 256, 256]) Entropy A1: 5.544868469238281, Entropy A2: 5.544882774353027\n",
            "Epoch [332/500], Avg Entropy A1: 5.544744968414307, Avg Entropy A2: 5.544766664505005\n"
          ]
        },
        {
          "output_type": "stream",
          "name": "stderr",
          "text": [
            "\r  0%|          | 0/2 [00:00<?, ?it/s]"
          ]
        },
        {
          "output_type": "stream",
          "name": "stdout",
          "text": [
            "Shape of X:  torch.Size([16, 3, 256, 256])\n",
            "torch.Size([16, 3, 256, 256]) Entropy A1: 5.54456901550293, Entropy A2: 5.544607162475586\n"
          ]
        },
        {
          "output_type": "stream",
          "name": "stderr",
          "text": [
            "100%|██████████| 2/2 [00:00<00:00,  4.62it/s, D_fake=0.0156, D_real=0.989]\n"
          ]
        },
        {
          "output_type": "stream",
          "name": "stdout",
          "text": [
            "Shape of X:  torch.Size([4, 3, 256, 256])\n",
            "torch.Size([4, 3, 256, 256]) Entropy A1: 5.544613838195801, Entropy A2: 5.544644355773926\n",
            "Epoch [333/500], Avg Entropy A1: 5.544591426849365, Avg Entropy A2: 5.544625759124756\n"
          ]
        },
        {
          "output_type": "stream",
          "name": "stderr",
          "text": [
            "\r  0%|          | 0/2 [00:00<?, ?it/s]"
          ]
        },
        {
          "output_type": "stream",
          "name": "stdout",
          "text": [
            "Shape of X:  torch.Size([16, 3, 256, 256])\n",
            "torch.Size([16, 3, 256, 256]) Entropy A1: 5.544789791107178, Entropy A2: 5.544807434082031\n"
          ]
        },
        {
          "output_type": "stream",
          "name": "stderr",
          "text": [
            "100%|██████████| 2/2 [00:00<00:00,  4.73it/s, D_fake=0.0104, D_real=0.993]\n"
          ]
        },
        {
          "output_type": "stream",
          "name": "stdout",
          "text": [
            "Shape of X:  torch.Size([4, 3, 256, 256])\n",
            "torch.Size([4, 3, 256, 256]) Entropy A1: 5.544740200042725, Entropy A2: 5.544757843017578\n",
            "Epoch [334/500], Avg Entropy A1: 5.544764995574951, Avg Entropy A2: 5.544782638549805\n"
          ]
        },
        {
          "output_type": "stream",
          "name": "stderr",
          "text": [
            "\r  0%|          | 0/2 [00:00<?, ?it/s]"
          ]
        },
        {
          "output_type": "stream",
          "name": "stdout",
          "text": [
            "Shape of X:  torch.Size([16, 3, 256, 256])\n",
            "torch.Size([16, 3, 256, 256]) Entropy A1: 5.544758319854736, Entropy A2: 5.544779300689697\n"
          ]
        },
        {
          "output_type": "stream",
          "name": "stderr",
          "text": [
            "100%|██████████| 2/2 [00:00<00:00,  4.81it/s, D_fake=0.0131, D_real=0.991]\n"
          ]
        },
        {
          "output_type": "stream",
          "name": "stdout",
          "text": [
            "Shape of X:  torch.Size([4, 3, 256, 256])\n",
            "torch.Size([4, 3, 256, 256]) Entropy A1: 5.544315338134766, Entropy A2: 5.544376373291016\n",
            "Epoch [335/500], Avg Entropy A1: 5.544536828994751, Avg Entropy A2: 5.5445778369903564\n"
          ]
        },
        {
          "output_type": "stream",
          "name": "stderr",
          "text": [
            "\r  0%|          | 0/2 [00:00<?, ?it/s]"
          ]
        },
        {
          "output_type": "stream",
          "name": "stdout",
          "text": [
            "Shape of X:  torch.Size([16, 3, 256, 256])\n",
            "torch.Size([16, 3, 256, 256]) Entropy A1: 5.544687271118164, Entropy A2: 5.544711589813232\n"
          ]
        },
        {
          "output_type": "stream",
          "name": "stderr",
          "text": [
            "100%|██████████| 2/2 [00:00<00:00,  4.89it/s, D_fake=0.00851, D_real=0.995]\n"
          ]
        },
        {
          "output_type": "stream",
          "name": "stdout",
          "text": [
            "Shape of X:  torch.Size([4, 3, 256, 256])\n",
            "torch.Size([4, 3, 256, 256]) Entropy A1: 5.544851303100586, Entropy A2: 5.544863700866699\n",
            "Epoch [336/500], Avg Entropy A1: 5.544769287109375, Avg Entropy A2: 5.544787645339966\n"
          ]
        },
        {
          "output_type": "stream",
          "name": "stderr",
          "text": [
            "\r  0%|          | 0/2 [00:00<?, ?it/s]"
          ]
        },
        {
          "output_type": "stream",
          "name": "stdout",
          "text": [
            "Shape of X:  torch.Size([16, 3, 256, 256])\n",
            "torch.Size([16, 3, 256, 256]) Entropy A1: 5.544804573059082, Entropy A2: 5.54482364654541\n"
          ]
        },
        {
          "output_type": "stream",
          "name": "stderr",
          "text": [
            "100%|██████████| 2/2 [00:00<00:00,  4.75it/s, D_fake=0.0135, D_real=0.988]\n"
          ]
        },
        {
          "output_type": "stream",
          "name": "stdout",
          "text": [
            "Shape of X:  torch.Size([4, 3, 256, 256])\n",
            "torch.Size([4, 3, 256, 256]) Entropy A1: 5.544871807098389, Entropy A2: 5.544884204864502\n",
            "Epoch [337/500], Avg Entropy A1: 5.544838190078735, Avg Entropy A2: 5.544853925704956\n"
          ]
        },
        {
          "output_type": "stream",
          "name": "stderr",
          "text": [
            "\r  0%|          | 0/2 [00:00<?, ?it/s]"
          ]
        },
        {
          "output_type": "stream",
          "name": "stdout",
          "text": [
            "Shape of X:  torch.Size([16, 3, 256, 256])\n",
            "torch.Size([16, 3, 256, 256]) Entropy A1: 5.544249057769775, Entropy A2: 5.544316291809082\n"
          ]
        },
        {
          "output_type": "stream",
          "name": "stderr",
          "text": [
            "100%|██████████| 2/2 [00:00<00:00,  4.85it/s, D_fake=0.0115, D_real=0.985]\n"
          ]
        },
        {
          "output_type": "stream",
          "name": "stdout",
          "text": [
            "Shape of X:  torch.Size([4, 3, 256, 256])\n",
            "torch.Size([4, 3, 256, 256]) Entropy A1: 5.5445876121521, Entropy A2: 5.544619560241699\n",
            "Epoch [338/500], Avg Entropy A1: 5.5444183349609375, Avg Entropy A2: 5.544467926025391\n"
          ]
        },
        {
          "output_type": "stream",
          "name": "stderr",
          "text": [
            "\r  0%|          | 0/2 [00:00<?, ?it/s]"
          ]
        },
        {
          "output_type": "stream",
          "name": "stdout",
          "text": [
            "Shape of X:  torch.Size([16, 3, 256, 256])\n",
            "torch.Size([16, 3, 256, 256]) Entropy A1: 5.54456090927124, Entropy A2: 5.544595718383789\n"
          ]
        },
        {
          "output_type": "stream",
          "name": "stderr",
          "text": [
            "100%|██████████| 2/2 [00:00<00:00,  4.39it/s, D_fake=0.0162, D_real=0.987]\n"
          ]
        },
        {
          "output_type": "stream",
          "name": "stdout",
          "text": [
            "Shape of X:  torch.Size([4, 3, 256, 256])\n",
            "torch.Size([4, 3, 256, 256]) Entropy A1: 5.54444694519043, Entropy A2: 5.5444793701171875\n",
            "Epoch [339/500], Avg Entropy A1: 5.544503927230835, Avg Entropy A2: 5.544537544250488\n"
          ]
        },
        {
          "output_type": "stream",
          "name": "stderr",
          "text": [
            "\r  0%|          | 0/2 [00:00<?, ?it/s]"
          ]
        },
        {
          "output_type": "stream",
          "name": "stdout",
          "text": [
            "Shape of X:  torch.Size([16, 3, 256, 256])\n",
            "torch.Size([16, 3, 256, 256]) Entropy A1: 5.544753551483154, Entropy A2: 5.544772624969482\n"
          ]
        },
        {
          "output_type": "stream",
          "name": "stderr",
          "text": [
            "100%|██████████| 2/2 [00:00<00:00,  4.54it/s, D_fake=0.00763, D_real=0.991]\n"
          ]
        },
        {
          "output_type": "stream",
          "name": "stdout",
          "text": [
            "Shape of X:  torch.Size([4, 3, 256, 256])\n",
            "torch.Size([4, 3, 256, 256]) Entropy A1: 5.544612407684326, Entropy A2: 5.5446457862854\n",
            "Epoch [340/500], Avg Entropy A1: 5.54468297958374, Avg Entropy A2: 5.544709205627441\n"
          ]
        },
        {
          "output_type": "stream",
          "name": "stderr",
          "text": [
            "\r  0%|          | 0/2 [00:00<?, ?it/s]"
          ]
        },
        {
          "output_type": "stream",
          "name": "stdout",
          "text": [
            "Shape of X:  torch.Size([16, 3, 256, 256])\n",
            "torch.Size([16, 3, 256, 256]) Entropy A1: 5.544600486755371, Entropy A2: 5.5446295738220215\n"
          ]
        },
        {
          "output_type": "stream",
          "name": "stderr",
          "text": [
            "100%|██████████| 2/2 [00:00<00:00,  4.02it/s, D_fake=0.0137, D_real=0.991]\n"
          ]
        },
        {
          "output_type": "stream",
          "name": "stdout",
          "text": [
            "Shape of X:  torch.Size([4, 3, 256, 256])\n",
            "torch.Size([4, 3, 256, 256]) Entropy A1: 5.544759750366211, Entropy A2: 5.5447773933410645\n",
            "Epoch [341/500], Avg Entropy A1: 5.544680118560791, Avg Entropy A2: 5.544703483581543\n"
          ]
        },
        {
          "output_type": "stream",
          "name": "stderr",
          "text": [
            "\r  0%|          | 0/2 [00:00<?, ?it/s]"
          ]
        },
        {
          "output_type": "stream",
          "name": "stdout",
          "text": [
            "Shape of X:  torch.Size([16, 3, 256, 256])\n",
            "torch.Size([16, 3, 256, 256]) Entropy A1: 5.544796466827393, Entropy A2: 5.5448126792907715\n"
          ]
        },
        {
          "output_type": "stream",
          "name": "stderr",
          "text": [
            "100%|██████████| 2/2 [00:00<00:00,  4.29it/s, D_fake=0.0105, D_real=0.992]\n"
          ]
        },
        {
          "output_type": "stream",
          "name": "stdout",
          "text": [
            "Shape of X:  torch.Size([4, 3, 256, 256])\n",
            "torch.Size([4, 3, 256, 256]) Entropy A1: 5.544572830200195, Entropy A2: 5.544616222381592\n",
            "Epoch [342/500], Avg Entropy A1: 5.544684648513794, Avg Entropy A2: 5.544714450836182\n"
          ]
        },
        {
          "output_type": "stream",
          "name": "stderr",
          "text": [
            "\r  0%|          | 0/2 [00:00<?, ?it/s]"
          ]
        },
        {
          "output_type": "stream",
          "name": "stdout",
          "text": [
            "Shape of X:  torch.Size([16, 3, 256, 256])\n",
            "torch.Size([16, 3, 256, 256]) Entropy A1: 5.544805526733398, Entropy A2: 5.5448222160339355\n"
          ]
        },
        {
          "output_type": "stream",
          "name": "stderr",
          "text": [
            "100%|██████████| 2/2 [00:00<00:00,  4.22it/s, D_fake=0.0127, D_real=0.992]\n"
          ]
        },
        {
          "output_type": "stream",
          "name": "stdout",
          "text": [
            "Shape of X:  torch.Size([4, 3, 256, 256])\n",
            "torch.Size([4, 3, 256, 256]) Entropy A1: 5.54464054107666, Entropy A2: 5.544668197631836\n",
            "Epoch [343/500], Avg Entropy A1: 5.544723033905029, Avg Entropy A2: 5.544745206832886\n"
          ]
        },
        {
          "output_type": "stream",
          "name": "stderr",
          "text": [
            "\r  0%|          | 0/2 [00:00<?, ?it/s]"
          ]
        },
        {
          "output_type": "stream",
          "name": "stdout",
          "text": [
            "Shape of X:  torch.Size([16, 3, 256, 256])\n",
            "torch.Size([16, 3, 256, 256]) Entropy A1: 5.544872760772705, Entropy A2: 5.544885635375977\n"
          ]
        },
        {
          "output_type": "stream",
          "name": "stderr",
          "text": [
            "100%|██████████| 2/2 [00:00<00:00,  4.10it/s, D_fake=0.0121, D_real=0.993]\n"
          ]
        },
        {
          "output_type": "stream",
          "name": "stdout",
          "text": [
            "Shape of X:  torch.Size([4, 3, 256, 256])\n",
            "torch.Size([4, 3, 256, 256]) Entropy A1: 5.544661045074463, Entropy A2: 5.54469108581543\n",
            "Epoch [344/500], Avg Entropy A1: 5.544766902923584, Avg Entropy A2: 5.544788360595703\n"
          ]
        },
        {
          "output_type": "stream",
          "name": "stderr",
          "text": [
            "\r  0%|          | 0/2 [00:00<?, ?it/s]"
          ]
        },
        {
          "output_type": "stream",
          "name": "stdout",
          "text": [
            "Shape of X:  torch.Size([16, 3, 256, 256])\n",
            "torch.Size([16, 3, 256, 256]) Entropy A1: 5.544886589050293, Entropy A2: 5.544898509979248\n"
          ]
        },
        {
          "output_type": "stream",
          "name": "stderr",
          "text": [
            "100%|██████████| 2/2 [00:00<00:00,  4.47it/s, D_fake=0.00887, D_real=0.992]\n"
          ]
        },
        {
          "output_type": "stream",
          "name": "stdout",
          "text": [
            "Shape of X:  torch.Size([4, 3, 256, 256])\n",
            "torch.Size([4, 3, 256, 256]) Entropy A1: 5.544837474822998, Entropy A2: 5.544850826263428\n",
            "Epoch [345/500], Avg Entropy A1: 5.5448620319366455, Avg Entropy A2: 5.544874668121338\n"
          ]
        },
        {
          "output_type": "stream",
          "name": "stderr",
          "text": [
            "\r  0%|          | 0/2 [00:00<?, ?it/s]"
          ]
        },
        {
          "output_type": "stream",
          "name": "stdout",
          "text": [
            "Shape of X:  torch.Size([16, 3, 256, 256])\n",
            "torch.Size([16, 3, 256, 256]) Entropy A1: 5.54490327835083, Entropy A2: 5.544913291931152\n"
          ]
        },
        {
          "output_type": "stream",
          "name": "stderr",
          "text": [
            "100%|██████████| 2/2 [00:00<00:00,  4.47it/s, D_fake=0.00986, D_real=0.988]\n"
          ]
        },
        {
          "output_type": "stream",
          "name": "stdout",
          "text": [
            "Shape of X:  torch.Size([4, 3, 256, 256])\n",
            "torch.Size([4, 3, 256, 256]) Entropy A1: 5.544976711273193, Entropy A2: 5.544983863830566\n",
            "Epoch [346/500], Avg Entropy A1: 5.544939994812012, Avg Entropy A2: 5.544948577880859\n"
          ]
        },
        {
          "output_type": "stream",
          "name": "stderr",
          "text": [
            "\r  0%|          | 0/2 [00:00<?, ?it/s]"
          ]
        },
        {
          "output_type": "stream",
          "name": "stdout",
          "text": [
            "Shape of X:  torch.Size([16, 3, 256, 256])\n",
            "torch.Size([16, 3, 256, 256]) Entropy A1: 5.544700622558594, Entropy A2: 5.544721603393555\n"
          ]
        },
        {
          "output_type": "stream",
          "name": "stderr",
          "text": [
            "100%|██████████| 2/2 [00:00<00:00,  4.40it/s, D_fake=0.0112, D_real=0.99]\n"
          ]
        },
        {
          "output_type": "stream",
          "name": "stdout",
          "text": [
            "Shape of X:  torch.Size([4, 3, 256, 256])\n",
            "torch.Size([4, 3, 256, 256]) Entropy A1: 5.5446367263793945, Entropy A2: 5.5446600914001465\n",
            "Epoch [347/500], Avg Entropy A1: 5.544668674468994, Avg Entropy A2: 5.544690847396851\n"
          ]
        },
        {
          "output_type": "stream",
          "name": "stderr",
          "text": [
            "\r  0%|          | 0/2 [00:00<?, ?it/s]"
          ]
        },
        {
          "output_type": "stream",
          "name": "stdout",
          "text": [
            "Shape of X:  torch.Size([16, 3, 256, 256])\n",
            "torch.Size([16, 3, 256, 256]) Entropy A1: 5.544595718383789, Entropy A2: 5.544635772705078\n"
          ]
        },
        {
          "output_type": "stream",
          "name": "stderr",
          "text": [
            "100%|██████████| 2/2 [00:00<00:00,  4.41it/s, D_fake=0.0101, D_real=0.989]\n"
          ]
        },
        {
          "output_type": "stream",
          "name": "stdout",
          "text": [
            "Shape of X:  torch.Size([4, 3, 256, 256])\n",
            "torch.Size([4, 3, 256, 256]) Entropy A1: 5.544684410095215, Entropy A2: 5.544709205627441\n",
            "Epoch [348/500], Avg Entropy A1: 5.544640064239502, Avg Entropy A2: 5.54467248916626\n"
          ]
        },
        {
          "output_type": "stream",
          "name": "stderr",
          "text": [
            "\r  0%|          | 0/2 [00:00<?, ?it/s]"
          ]
        },
        {
          "output_type": "stream",
          "name": "stdout",
          "text": [
            "Shape of X:  torch.Size([16, 3, 256, 256])\n",
            "torch.Size([16, 3, 256, 256]) Entropy A1: 5.544775009155273, Entropy A2: 5.544792175292969\n"
          ]
        },
        {
          "output_type": "stream",
          "name": "stderr",
          "text": [
            "100%|██████████| 2/2 [00:00<00:00,  4.65it/s, D_fake=0.00995, D_real=0.992]\n"
          ]
        },
        {
          "output_type": "stream",
          "name": "stdout",
          "text": [
            "Shape of X:  torch.Size([4, 3, 256, 256])\n",
            "torch.Size([4, 3, 256, 256]) Entropy A1: 5.54452657699585, Entropy A2: 5.544563293457031\n",
            "Epoch [349/500], Avg Entropy A1: 5.5446507930755615, Avg Entropy A2: 5.544677734375\n"
          ]
        },
        {
          "output_type": "stream",
          "name": "stderr",
          "text": [
            "\r  0%|          | 0/2 [00:00<?, ?it/s]"
          ]
        },
        {
          "output_type": "stream",
          "name": "stdout",
          "text": [
            "Shape of X:  torch.Size([16, 3, 256, 256])\n",
            "torch.Size([16, 3, 256, 256]) Entropy A1: 5.54481315612793, Entropy A2: 5.54482889175415\n"
          ]
        },
        {
          "output_type": "stream",
          "name": "stderr",
          "text": [
            "100%|██████████| 2/2 [00:00<00:00,  3.97it/s, D_fake=0.0103, D_real=0.99]\n"
          ]
        },
        {
          "output_type": "stream",
          "name": "stdout",
          "text": [
            "Shape of X:  torch.Size([4, 3, 256, 256])\n",
            "torch.Size([4, 3, 256, 256]) Entropy A1: 5.544660568237305, Entropy A2: 5.544684410095215\n",
            "Epoch [350/500], Avg Entropy A1: 5.544736862182617, Avg Entropy A2: 5.544756650924683\n",
            "Saving model at epoch 349\n",
            "Shape of x at save:  torch.Size([5, 3, 256, 256])\n"
          ]
        },
        {
          "output_type": "stream",
          "name": "stderr",
          "text": [
            "\r  0%|          | 0/2 [00:00<?, ?it/s]"
          ]
        },
        {
          "output_type": "stream",
          "name": "stdout",
          "text": [
            "Shape of X:  torch.Size([16, 3, 256, 256])\n",
            "torch.Size([16, 3, 256, 256]) Entropy A1: 5.544768333435059, Entropy A2: 5.544787406921387\n"
          ]
        },
        {
          "output_type": "stream",
          "name": "stderr",
          "text": [
            "100%|██████████| 2/2 [00:00<00:00,  4.52it/s, D_fake=0.00747, D_real=0.992]\n"
          ]
        },
        {
          "output_type": "stream",
          "name": "stdout",
          "text": [
            "Shape of X:  torch.Size([4, 3, 256, 256])\n",
            "torch.Size([4, 3, 256, 256]) Entropy A1: 5.544524192810059, Entropy A2: 5.544563293457031\n",
            "Epoch [351/500], Avg Entropy A1: 5.544646263122559, Avg Entropy A2: 5.544675350189209\n"
          ]
        },
        {
          "output_type": "stream",
          "name": "stderr",
          "text": [
            "\r  0%|          | 0/2 [00:00<?, ?it/s]"
          ]
        },
        {
          "output_type": "stream",
          "name": "stdout",
          "text": [
            "Shape of X:  torch.Size([16, 3, 256, 256])\n",
            "torch.Size([16, 3, 256, 256]) Entropy A1: 5.544816017150879, Entropy A2: 5.544830322265625\n"
          ]
        },
        {
          "output_type": "stream",
          "name": "stderr",
          "text": [
            "100%|██████████| 2/2 [00:00<00:00,  5.20it/s, D_fake=0.0118, D_real=0.993]\n"
          ]
        },
        {
          "output_type": "stream",
          "name": "stdout",
          "text": [
            "Shape of X:  torch.Size([4, 3, 256, 256])\n",
            "torch.Size([4, 3, 256, 256]) Entropy A1: 5.544705390930176, Entropy A2: 5.544733047485352\n",
            "Epoch [352/500], Avg Entropy A1: 5.544760704040527, Avg Entropy A2: 5.544781684875488\n"
          ]
        },
        {
          "output_type": "stream",
          "name": "stderr",
          "text": [
            "\r  0%|          | 0/2 [00:00<?, ?it/s]"
          ]
        },
        {
          "output_type": "stream",
          "name": "stdout",
          "text": [
            "Shape of X:  torch.Size([16, 3, 256, 256])\n",
            "torch.Size([16, 3, 256, 256]) Entropy A1: 5.544794082641602, Entropy A2: 5.544811248779297\n"
          ]
        },
        {
          "output_type": "stream",
          "name": "stderr",
          "text": [
            "100%|██████████| 2/2 [00:00<00:00,  5.38it/s, D_fake=0.012, D_real=0.991]\n"
          ]
        },
        {
          "output_type": "stream",
          "name": "stdout",
          "text": [
            "Shape of X:  torch.Size([4, 3, 256, 256])\n",
            "torch.Size([4, 3, 256, 256]) Entropy A1: 5.544652938842773, Entropy A2: 5.544679641723633\n",
            "Epoch [353/500], Avg Entropy A1: 5.5447235107421875, Avg Entropy A2: 5.544745445251465\n"
          ]
        },
        {
          "output_type": "stream",
          "name": "stderr",
          "text": [
            "\r  0%|          | 0/2 [00:00<?, ?it/s]"
          ]
        },
        {
          "output_type": "stream",
          "name": "stdout",
          "text": [
            "Shape of X:  torch.Size([16, 3, 256, 256])\n",
            "torch.Size([16, 3, 256, 256]) Entropy A1: 5.544743061065674, Entropy A2: 5.544763565063477\n"
          ]
        },
        {
          "output_type": "stream",
          "name": "stderr",
          "text": [
            "100%|██████████| 2/2 [00:00<00:00,  5.32it/s, D_fake=0.00752, D_real=0.993]\n"
          ]
        },
        {
          "output_type": "stream",
          "name": "stdout",
          "text": [
            "Shape of X:  torch.Size([4, 3, 256, 256])\n",
            "torch.Size([4, 3, 256, 256]) Entropy A1: 5.544895172119141, Entropy A2: 5.544904708862305\n",
            "Epoch [354/500], Avg Entropy A1: 5.544819116592407, Avg Entropy A2: 5.544834136962891\n"
          ]
        },
        {
          "output_type": "stream",
          "name": "stderr",
          "text": [
            "\r  0%|          | 0/2 [00:00<?, ?it/s]"
          ]
        },
        {
          "output_type": "stream",
          "name": "stdout",
          "text": [
            "Shape of X:  torch.Size([16, 3, 256, 256])\n",
            "torch.Size([16, 3, 256, 256]) Entropy A1: 5.544607162475586, Entropy A2: 5.5446367263793945\n"
          ]
        },
        {
          "output_type": "stream",
          "name": "stderr",
          "text": [
            "100%|██████████| 2/2 [00:00<00:00,  5.45it/s, D_fake=0.0116, D_real=0.99]\n"
          ]
        },
        {
          "output_type": "stream",
          "name": "stdout",
          "text": [
            "Shape of X:  torch.Size([4, 3, 256, 256])\n",
            "torch.Size([4, 3, 256, 256]) Entropy A1: 5.54482364654541, Entropy A2: 5.5448431968688965\n",
            "Epoch [355/500], Avg Entropy A1: 5.544715404510498, Avg Entropy A2: 5.5447399616241455\n"
          ]
        },
        {
          "output_type": "stream",
          "name": "stderr",
          "text": [
            "\r  0%|          | 0/2 [00:00<?, ?it/s]"
          ]
        },
        {
          "output_type": "stream",
          "name": "stdout",
          "text": [
            "Shape of X:  torch.Size([16, 3, 256, 256])\n",
            "torch.Size([16, 3, 256, 256]) Entropy A1: 5.54473352432251, Entropy A2: 5.544755935668945\n"
          ]
        },
        {
          "output_type": "stream",
          "name": "stderr",
          "text": [
            "100%|██████████| 2/2 [00:00<00:00,  5.43it/s, D_fake=0.00926, D_real=0.989]\n"
          ]
        },
        {
          "output_type": "stream",
          "name": "stdout",
          "text": [
            "Shape of X:  torch.Size([4, 3, 256, 256])\n",
            "torch.Size([4, 3, 256, 256]) Entropy A1: 5.544801712036133, Entropy A2: 5.54481840133667\n",
            "Epoch [356/500], Avg Entropy A1: 5.544767618179321, Avg Entropy A2: 5.544787168502808\n"
          ]
        },
        {
          "output_type": "stream",
          "name": "stderr",
          "text": [
            "\r  0%|          | 0/2 [00:00<?, ?it/s]"
          ]
        },
        {
          "output_type": "stream",
          "name": "stdout",
          "text": [
            "Shape of X:  torch.Size([16, 3, 256, 256])\n",
            "torch.Size([16, 3, 256, 256]) Entropy A1: 5.544673919677734, Entropy A2: 5.5447001457214355\n"
          ]
        },
        {
          "output_type": "stream",
          "name": "stderr",
          "text": [
            "100%|██████████| 2/2 [00:00<00:00,  5.38it/s, D_fake=0.014, D_real=0.99]\n"
          ]
        },
        {
          "output_type": "stream",
          "name": "stdout",
          "text": [
            "Shape of X:  torch.Size([4, 3, 256, 256])\n",
            "torch.Size([4, 3, 256, 256]) Entropy A1: 5.544467926025391, Entropy A2: 5.544509410858154\n",
            "Epoch [357/500], Avg Entropy A1: 5.5445709228515625, Avg Entropy A2: 5.544604778289795\n"
          ]
        },
        {
          "output_type": "stream",
          "name": "stderr",
          "text": [
            "\r  0%|          | 0/2 [00:00<?, ?it/s]"
          ]
        },
        {
          "output_type": "stream",
          "name": "stdout",
          "text": [
            "Shape of X:  torch.Size([16, 3, 256, 256])\n",
            "torch.Size([16, 3, 256, 256]) Entropy A1: 5.544820785522461, Entropy A2: 5.544833660125732\n"
          ]
        },
        {
          "output_type": "stream",
          "name": "stderr",
          "text": [
            "100%|██████████| 2/2 [00:00<00:00,  5.40it/s, D_fake=0.00991, D_real=0.994]\n"
          ]
        },
        {
          "output_type": "stream",
          "name": "stdout",
          "text": [
            "Shape of X:  torch.Size([4, 3, 256, 256])\n",
            "torch.Size([4, 3, 256, 256]) Entropy A1: 5.544832706451416, Entropy A2: 5.544851303100586\n",
            "Epoch [358/500], Avg Entropy A1: 5.5448267459869385, Avg Entropy A2: 5.544842481613159\n"
          ]
        },
        {
          "output_type": "stream",
          "name": "stderr",
          "text": [
            "\r  0%|          | 0/2 [00:00<?, ?it/s]"
          ]
        },
        {
          "output_type": "stream",
          "name": "stdout",
          "text": [
            "Shape of X:  torch.Size([16, 3, 256, 256])\n",
            "torch.Size([16, 3, 256, 256]) Entropy A1: 5.544892311096191, Entropy A2: 5.544903755187988\n"
          ]
        },
        {
          "output_type": "stream",
          "name": "stderr",
          "text": [
            "100%|██████████| 2/2 [00:00<00:00,  5.42it/s, D_fake=0.0124, D_real=0.993]\n"
          ]
        },
        {
          "output_type": "stream",
          "name": "stdout",
          "text": [
            "Shape of X:  torch.Size([4, 3, 256, 256])\n",
            "torch.Size([4, 3, 256, 256]) Entropy A1: 5.544663429260254, Entropy A2: 5.5446882247924805\n",
            "Epoch [359/500], Avg Entropy A1: 5.544777870178223, Avg Entropy A2: 5.544795989990234\n"
          ]
        },
        {
          "output_type": "stream",
          "name": "stderr",
          "text": [
            "\r  0%|          | 0/2 [00:00<?, ?it/s]"
          ]
        },
        {
          "output_type": "stream",
          "name": "stdout",
          "text": [
            "Shape of X:  torch.Size([16, 3, 256, 256])\n",
            "torch.Size([16, 3, 256, 256]) Entropy A1: 5.544811725616455, Entropy A2: 5.544828414916992\n"
          ]
        },
        {
          "output_type": "stream",
          "name": "stderr",
          "text": [
            "100%|██████████| 2/2 [00:00<00:00,  5.30it/s, D_fake=0.00766, D_real=0.994]\n"
          ]
        },
        {
          "output_type": "stream",
          "name": "stdout",
          "text": [
            "Shape of X:  torch.Size([4, 3, 256, 256])\n",
            "torch.Size([4, 3, 256, 256]) Entropy A1: 5.5448689460754395, Entropy A2: 5.54488468170166\n",
            "Epoch [360/500], Avg Entropy A1: 5.544840335845947, Avg Entropy A2: 5.544856548309326\n"
          ]
        },
        {
          "output_type": "stream",
          "name": "stderr",
          "text": [
            "\r  0%|          | 0/2 [00:00<?, ?it/s]"
          ]
        },
        {
          "output_type": "stream",
          "name": "stdout",
          "text": [
            "Shape of X:  torch.Size([16, 3, 256, 256])\n",
            "torch.Size([16, 3, 256, 256]) Entropy A1: 5.544797897338867, Entropy A2: 5.5448150634765625\n"
          ]
        },
        {
          "output_type": "stream",
          "name": "stderr",
          "text": [
            "100%|██████████| 2/2 [00:00<00:00,  5.46it/s, D_fake=0.00957, D_real=0.996]\n"
          ]
        },
        {
          "output_type": "stream",
          "name": "stdout",
          "text": [
            "Shape of X:  torch.Size([4, 3, 256, 256])\n",
            "torch.Size([4, 3, 256, 256]) Entropy A1: 5.544826507568359, Entropy A2: 5.544843673706055\n",
            "Epoch [361/500], Avg Entropy A1: 5.544812202453613, Avg Entropy A2: 5.544829368591309\n"
          ]
        },
        {
          "output_type": "stream",
          "name": "stderr",
          "text": [
            "\r  0%|          | 0/2 [00:00<?, ?it/s]"
          ]
        },
        {
          "output_type": "stream",
          "name": "stdout",
          "text": [
            "Shape of X:  torch.Size([16, 3, 256, 256])\n",
            "torch.Size([16, 3, 256, 256]) Entropy A1: 5.544614791870117, Entropy A2: 5.544645309448242\n"
          ]
        },
        {
          "output_type": "stream",
          "name": "stderr",
          "text": [
            "100%|██████████| 2/2 [00:00<00:00,  5.20it/s, D_fake=0.0103, D_real=0.989]\n"
          ]
        },
        {
          "output_type": "stream",
          "name": "stdout",
          "text": [
            "Shape of X:  torch.Size([4, 3, 256, 256])\n",
            "torch.Size([4, 3, 256, 256]) Entropy A1: 5.544856071472168, Entropy A2: 5.544867038726807\n",
            "Epoch [362/500], Avg Entropy A1: 5.544735431671143, Avg Entropy A2: 5.544756174087524\n"
          ]
        },
        {
          "output_type": "stream",
          "name": "stderr",
          "text": [
            "\r  0%|          | 0/2 [00:00<?, ?it/s]"
          ]
        },
        {
          "output_type": "stream",
          "name": "stdout",
          "text": [
            "Shape of X:  torch.Size([16, 3, 256, 256])\n",
            "torch.Size([16, 3, 256, 256]) Entropy A1: 5.544904708862305, Entropy A2: 5.544916152954102\n"
          ]
        },
        {
          "output_type": "stream",
          "name": "stderr",
          "text": [
            "100%|██████████| 2/2 [00:00<00:00,  5.50it/s, D_fake=0.0115, D_real=0.99]\n"
          ]
        },
        {
          "output_type": "stream",
          "name": "stdout",
          "text": [
            "Shape of X:  torch.Size([4, 3, 256, 256])\n",
            "torch.Size([4, 3, 256, 256]) Entropy A1: 5.544703006744385, Entropy A2: 5.544724941253662\n",
            "Epoch [363/500], Avg Entropy A1: 5.544803857803345, Avg Entropy A2: 5.544820547103882\n"
          ]
        },
        {
          "output_type": "stream",
          "name": "stderr",
          "text": [
            "\r  0%|          | 0/2 [00:00<?, ?it/s]"
          ]
        },
        {
          "output_type": "stream",
          "name": "stdout",
          "text": [
            "Shape of X:  torch.Size([16, 3, 256, 256])\n",
            "torch.Size([16, 3, 256, 256]) Entropy A1: 5.544875621795654, Entropy A2: 5.544887542724609\n"
          ]
        },
        {
          "output_type": "stream",
          "name": "stderr",
          "text": [
            "100%|██████████| 2/2 [00:00<00:00,  5.42it/s, D_fake=0.0108, D_real=0.994]\n"
          ]
        },
        {
          "output_type": "stream",
          "name": "stdout",
          "text": [
            "Shape of X:  torch.Size([4, 3, 256, 256])\n",
            "torch.Size([4, 3, 256, 256]) Entropy A1: 5.544769287109375, Entropy A2: 5.544790744781494\n",
            "Epoch [364/500], Avg Entropy A1: 5.544822454452515, Avg Entropy A2: 5.544839143753052\n"
          ]
        },
        {
          "output_type": "stream",
          "name": "stderr",
          "text": [
            "\r  0%|          | 0/2 [00:00<?, ?it/s]"
          ]
        },
        {
          "output_type": "stream",
          "name": "stdout",
          "text": [
            "Shape of X:  torch.Size([16, 3, 256, 256])\n",
            "torch.Size([16, 3, 256, 256]) Entropy A1: 5.544788360595703, Entropy A2: 5.544806957244873\n"
          ]
        },
        {
          "output_type": "stream",
          "name": "stderr",
          "text": [
            "100%|██████████| 2/2 [00:00<00:00,  5.48it/s, D_fake=0.0142, D_real=0.991]\n"
          ]
        },
        {
          "output_type": "stream",
          "name": "stdout",
          "text": [
            "Shape of X:  torch.Size([4, 3, 256, 256])\n",
            "torch.Size([4, 3, 256, 256]) Entropy A1: 5.544915676116943, Entropy A2: 5.544925212860107\n",
            "Epoch [365/500], Avg Entropy A1: 5.544852018356323, Avg Entropy A2: 5.54486608505249\n"
          ]
        },
        {
          "output_type": "stream",
          "name": "stderr",
          "text": [
            "\r  0%|          | 0/2 [00:00<?, ?it/s]"
          ]
        },
        {
          "output_type": "stream",
          "name": "stdout",
          "text": [
            "Shape of X:  torch.Size([16, 3, 256, 256])\n",
            "torch.Size([16, 3, 256, 256]) Entropy A1: 5.544800758361816, Entropy A2: 5.544816970825195\n"
          ]
        },
        {
          "output_type": "stream",
          "name": "stderr",
          "text": [
            "100%|██████████| 2/2 [00:00<00:00,  5.42it/s, D_fake=0.00915, D_real=0.995]\n"
          ]
        },
        {
          "output_type": "stream",
          "name": "stdout",
          "text": [
            "Shape of X:  torch.Size([4, 3, 256, 256])\n",
            "torch.Size([4, 3, 256, 256]) Entropy A1: 5.544745922088623, Entropy A2: 5.544771194458008\n",
            "Epoch [366/500], Avg Entropy A1: 5.54477334022522, Avg Entropy A2: 5.544794082641602\n"
          ]
        },
        {
          "output_type": "stream",
          "name": "stderr",
          "text": [
            "\r  0%|          | 0/2 [00:00<?, ?it/s]"
          ]
        },
        {
          "output_type": "stream",
          "name": "stdout",
          "text": [
            "Shape of X:  torch.Size([16, 3, 256, 256])\n",
            "torch.Size([16, 3, 256, 256]) Entropy A1: 5.544898986816406, Entropy A2: 5.544910430908203\n"
          ]
        },
        {
          "output_type": "stream",
          "name": "stderr",
          "text": [
            "100%|██████████| 2/2 [00:00<00:00,  4.95it/s, D_fake=0.0146, D_real=0.992]\n"
          ]
        },
        {
          "output_type": "stream",
          "name": "stdout",
          "text": [
            "Shape of X:  torch.Size([4, 3, 256, 256])\n",
            "torch.Size([4, 3, 256, 256]) Entropy A1: 5.544672966003418, Entropy A2: 5.544699668884277\n",
            "Epoch [367/500], Avg Entropy A1: 5.544785976409912, Avg Entropy A2: 5.54480504989624\n"
          ]
        },
        {
          "output_type": "stream",
          "name": "stderr",
          "text": [
            "\r  0%|          | 0/2 [00:00<?, ?it/s]"
          ]
        },
        {
          "output_type": "stream",
          "name": "stdout",
          "text": [
            "Shape of X:  torch.Size([16, 3, 256, 256])\n",
            "torch.Size([16, 3, 256, 256]) Entropy A1: 5.544835090637207, Entropy A2: 5.544849872589111\n"
          ]
        },
        {
          "output_type": "stream",
          "name": "stderr",
          "text": [
            "100%|██████████| 2/2 [00:00<00:00,  4.63it/s, D_fake=0.0128, D_real=0.991]\n"
          ]
        },
        {
          "output_type": "stream",
          "name": "stdout",
          "text": [
            "Shape of X:  torch.Size([4, 3, 256, 256])\n",
            "torch.Size([4, 3, 256, 256]) Entropy A1: 5.544527053833008, Entropy A2: 5.54456090927124\n",
            "Epoch [368/500], Avg Entropy A1: 5.544681072235107, Avg Entropy A2: 5.544705390930176\n"
          ]
        },
        {
          "output_type": "stream",
          "name": "stderr",
          "text": [
            "\r  0%|          | 0/2 [00:00<?, ?it/s]"
          ]
        },
        {
          "output_type": "stream",
          "name": "stdout",
          "text": [
            "Shape of X:  torch.Size([16, 3, 256, 256])\n",
            "torch.Size([16, 3, 256, 256]) Entropy A1: 5.54461669921875, Entropy A2: 5.544643402099609\n"
          ]
        },
        {
          "output_type": "stream",
          "name": "stderr",
          "text": [
            "100%|██████████| 2/2 [00:00<00:00,  4.31it/s, D_fake=0.0186, D_real=0.994]\n"
          ]
        },
        {
          "output_type": "stream",
          "name": "stdout",
          "text": [
            "Shape of X:  torch.Size([4, 3, 256, 256])\n",
            "torch.Size([4, 3, 256, 256]) Entropy A1: 5.544437408447266, Entropy A2: 5.544487953186035\n",
            "Epoch [369/500], Avg Entropy A1: 5.544527053833008, Avg Entropy A2: 5.544565677642822\n"
          ]
        },
        {
          "output_type": "stream",
          "name": "stderr",
          "text": [
            "\r  0%|          | 0/2 [00:00<?, ?it/s]"
          ]
        },
        {
          "output_type": "stream",
          "name": "stdout",
          "text": [
            "Shape of X:  torch.Size([16, 3, 256, 256])\n",
            "torch.Size([16, 3, 256, 256]) Entropy A1: 5.544851303100586, Entropy A2: 5.544865608215332\n"
          ]
        },
        {
          "output_type": "stream",
          "name": "stderr",
          "text": [
            "100%|██████████| 2/2 [00:00<00:00,  4.10it/s, D_fake=0.0139, D_real=0.989]\n"
          ]
        },
        {
          "output_type": "stream",
          "name": "stdout",
          "text": [
            "Shape of X:  torch.Size([4, 3, 256, 256])\n",
            "torch.Size([4, 3, 256, 256]) Entropy A1: 5.544949054718018, Entropy A2: 5.544956207275391\n",
            "Epoch [370/500], Avg Entropy A1: 5.544900178909302, Avg Entropy A2: 5.544910907745361\n"
          ]
        },
        {
          "output_type": "stream",
          "name": "stderr",
          "text": [
            "\r  0%|          | 0/2 [00:00<?, ?it/s]"
          ]
        },
        {
          "output_type": "stream",
          "name": "stdout",
          "text": [
            "Shape of X:  torch.Size([16, 3, 256, 256])\n",
            "torch.Size([16, 3, 256, 256]) Entropy A1: 5.54486083984375, Entropy A2: 5.54487419128418\n"
          ]
        },
        {
          "output_type": "stream",
          "name": "stderr",
          "text": [
            "100%|██████████| 2/2 [00:00<00:00,  4.28it/s, D_fake=0.00896, D_real=0.992]\n"
          ]
        },
        {
          "output_type": "stream",
          "name": "stdout",
          "text": [
            "Shape of X:  torch.Size([4, 3, 256, 256])\n",
            "torch.Size([4, 3, 256, 256]) Entropy A1: 5.544862747192383, Entropy A2: 5.544876575469971\n",
            "Epoch [371/500], Avg Entropy A1: 5.544861793518066, Avg Entropy A2: 5.544875383377075\n"
          ]
        },
        {
          "output_type": "stream",
          "name": "stderr",
          "text": [
            "\r  0%|          | 0/2 [00:00<?, ?it/s]"
          ]
        },
        {
          "output_type": "stream",
          "name": "stdout",
          "text": [
            "Shape of X:  torch.Size([16, 3, 256, 256])\n",
            "torch.Size([16, 3, 256, 256]) Entropy A1: 5.544802665710449, Entropy A2: 5.544819355010986\n"
          ]
        },
        {
          "output_type": "stream",
          "name": "stderr",
          "text": [
            "100%|██████████| 2/2 [00:00<00:00,  4.00it/s, D_fake=0.00648, D_real=0.991]\n"
          ]
        },
        {
          "output_type": "stream",
          "name": "stdout",
          "text": [
            "Shape of X:  torch.Size([4, 3, 256, 256])\n",
            "torch.Size([4, 3, 256, 256]) Entropy A1: 5.544737815856934, Entropy A2: 5.54476261138916\n",
            "Epoch [372/500], Avg Entropy A1: 5.544770240783691, Avg Entropy A2: 5.544790983200073\n"
          ]
        },
        {
          "output_type": "stream",
          "name": "stderr",
          "text": [
            "\r  0%|          | 0/2 [00:00<?, ?it/s]"
          ]
        },
        {
          "output_type": "stream",
          "name": "stdout",
          "text": [
            "Shape of X:  torch.Size([16, 3, 256, 256])\n",
            "torch.Size([16, 3, 256, 256]) Entropy A1: 5.544761657714844, Entropy A2: 5.5447797775268555\n"
          ]
        },
        {
          "output_type": "stream",
          "name": "stderr",
          "text": [
            "100%|██████████| 2/2 [00:00<00:00,  3.41it/s, D_fake=0.0103, D_real=0.983]\n"
          ]
        },
        {
          "output_type": "stream",
          "name": "stdout",
          "text": [
            "Shape of X:  torch.Size([4, 3, 256, 256])\n",
            "torch.Size([4, 3, 256, 256]) Entropy A1: 5.544641017913818, Entropy A2: 5.544674873352051\n",
            "Epoch [373/500], Avg Entropy A1: 5.544701337814331, Avg Entropy A2: 5.544727325439453\n"
          ]
        },
        {
          "output_type": "stream",
          "name": "stderr",
          "text": [
            "\r  0%|          | 0/2 [00:00<?, ?it/s]"
          ]
        },
        {
          "output_type": "stream",
          "name": "stdout",
          "text": [
            "Shape of X:  torch.Size([16, 3, 256, 256])\n",
            "torch.Size([16, 3, 256, 256]) Entropy A1: 5.544777870178223, Entropy A2: 5.544798851013184\n"
          ]
        },
        {
          "output_type": "stream",
          "name": "stderr",
          "text": [
            "100%|██████████| 2/2 [00:00<00:00,  4.12it/s, D_fake=0.0102, D_real=0.984]\n"
          ]
        },
        {
          "output_type": "stream",
          "name": "stdout",
          "text": [
            "Shape of X:  torch.Size([4, 3, 256, 256])\n",
            "torch.Size([4, 3, 256, 256]) Entropy A1: 5.544745445251465, Entropy A2: 5.544770240783691\n",
            "Epoch [374/500], Avg Entropy A1: 5.544761657714844, Avg Entropy A2: 5.5447845458984375\n"
          ]
        },
        {
          "output_type": "stream",
          "name": "stderr",
          "text": [
            "\r  0%|          | 0/2 [00:00<?, ?it/s]"
          ]
        },
        {
          "output_type": "stream",
          "name": "stdout",
          "text": [
            "Shape of X:  torch.Size([16, 3, 256, 256])\n",
            "torch.Size([16, 3, 256, 256]) Entropy A1: 5.544830799102783, Entropy A2: 5.544846534729004\n"
          ]
        },
        {
          "output_type": "stream",
          "name": "stderr",
          "text": [
            "100%|██████████| 2/2 [00:00<00:00,  4.43it/s, D_fake=0.0103, D_real=0.988]\n"
          ]
        },
        {
          "output_type": "stream",
          "name": "stdout",
          "text": [
            "Shape of X:  torch.Size([4, 3, 256, 256])\n",
            "torch.Size([4, 3, 256, 256]) Entropy A1: 5.54469108581543, Entropy A2: 5.544715404510498\n",
            "Epoch [375/500], Avg Entropy A1: 5.5447609424591064, Avg Entropy A2: 5.544780969619751\n"
          ]
        },
        {
          "output_type": "stream",
          "name": "stderr",
          "text": [
            "\r  0%|          | 0/2 [00:00<?, ?it/s]"
          ]
        },
        {
          "output_type": "stream",
          "name": "stdout",
          "text": [
            "Shape of X:  torch.Size([16, 3, 256, 256])\n",
            "torch.Size([16, 3, 256, 256]) Entropy A1: 5.544765949249268, Entropy A2: 5.544785022735596\n"
          ]
        },
        {
          "output_type": "stream",
          "name": "stderr",
          "text": [
            "100%|██████████| 2/2 [00:00<00:00,  4.16it/s, D_fake=0.0101, D_real=0.994]\n"
          ]
        },
        {
          "output_type": "stream",
          "name": "stdout",
          "text": [
            "Shape of X:  torch.Size([4, 3, 256, 256])\n",
            "torch.Size([4, 3, 256, 256]) Entropy A1: 5.54483699798584, Entropy A2: 5.544853687286377\n",
            "Epoch [376/500], Avg Entropy A1: 5.544801473617554, Avg Entropy A2: 5.544819355010986\n"
          ]
        },
        {
          "output_type": "stream",
          "name": "stderr",
          "text": [
            "\r  0%|          | 0/2 [00:00<?, ?it/s]"
          ]
        },
        {
          "output_type": "stream",
          "name": "stdout",
          "text": [
            "Shape of X:  torch.Size([16, 3, 256, 256])\n",
            "torch.Size([16, 3, 256, 256]) Entropy A1: 5.544849395751953, Entropy A2: 5.544865608215332\n"
          ]
        },
        {
          "output_type": "stream",
          "name": "stderr",
          "text": [
            "100%|██████████| 2/2 [00:00<00:00,  4.16it/s, D_fake=0.00928, D_real=0.991]\n"
          ]
        },
        {
          "output_type": "stream",
          "name": "stdout",
          "text": [
            "Shape of X:  torch.Size([4, 3, 256, 256])\n",
            "torch.Size([4, 3, 256, 256]) Entropy A1: 5.544895172119141, Entropy A2: 5.54490852355957\n",
            "Epoch [377/500], Avg Entropy A1: 5.544872283935547, Avg Entropy A2: 5.544887065887451\n"
          ]
        },
        {
          "output_type": "stream",
          "name": "stderr",
          "text": [
            "\r  0%|          | 0/2 [00:00<?, ?it/s]"
          ]
        },
        {
          "output_type": "stream",
          "name": "stdout",
          "text": [
            "Shape of X:  torch.Size([16, 3, 256, 256])\n",
            "torch.Size([16, 3, 256, 256]) Entropy A1: 5.544872760772705, Entropy A2: 5.544886589050293\n"
          ]
        },
        {
          "output_type": "stream",
          "name": "stderr",
          "text": [
            "100%|██████████| 2/2 [00:00<00:00,  4.45it/s, D_fake=0.013, D_real=0.989]\n"
          ]
        },
        {
          "output_type": "stream",
          "name": "stdout",
          "text": [
            "Shape of X:  torch.Size([4, 3, 256, 256])\n",
            "torch.Size([4, 3, 256, 256]) Entropy A1: 5.544497489929199, Entropy A2: 5.54454231262207\n",
            "Epoch [378/500], Avg Entropy A1: 5.544685125350952, Avg Entropy A2: 5.544714450836182\n"
          ]
        },
        {
          "output_type": "stream",
          "name": "stderr",
          "text": [
            "\r  0%|          | 0/2 [00:00<?, ?it/s]"
          ]
        },
        {
          "output_type": "stream",
          "name": "stdout",
          "text": [
            "Shape of X:  torch.Size([16, 3, 256, 256])\n",
            "torch.Size([16, 3, 256, 256]) Entropy A1: 5.544748783111572, Entropy A2: 5.544771194458008\n"
          ]
        },
        {
          "output_type": "stream",
          "name": "stderr",
          "text": [
            "100%|██████████| 2/2 [00:00<00:00,  4.29it/s, D_fake=0.00653, D_real=0.991]\n"
          ]
        },
        {
          "output_type": "stream",
          "name": "stdout",
          "text": [
            "Shape of X:  torch.Size([4, 3, 256, 256])\n",
            "torch.Size([4, 3, 256, 256]) Entropy A1: 5.54482889175415, Entropy A2: 5.544845104217529\n",
            "Epoch [379/500], Avg Entropy A1: 5.544788837432861, Avg Entropy A2: 5.5448081493377686\n"
          ]
        },
        {
          "output_type": "stream",
          "name": "stderr",
          "text": [
            "\r  0%|          | 0/2 [00:00<?, ?it/s]"
          ]
        },
        {
          "output_type": "stream",
          "name": "stdout",
          "text": [
            "Shape of X:  torch.Size([16, 3, 256, 256])\n",
            "torch.Size([16, 3, 256, 256]) Entropy A1: 5.5447587966918945, Entropy A2: 5.5447845458984375\n"
          ]
        },
        {
          "output_type": "stream",
          "name": "stderr",
          "text": [
            "100%|██████████| 2/2 [00:00<00:00,  4.12it/s, D_fake=0.0124, D_real=0.994]\n"
          ]
        },
        {
          "output_type": "stream",
          "name": "stdout",
          "text": [
            "Shape of X:  torch.Size([4, 3, 256, 256])\n",
            "torch.Size([4, 3, 256, 256]) Entropy A1: 5.5447564125061035, Entropy A2: 5.5447821617126465\n",
            "Epoch [380/500], Avg Entropy A1: 5.544757604598999, Avg Entropy A2: 5.544783353805542\n"
          ]
        },
        {
          "output_type": "stream",
          "name": "stderr",
          "text": [
            "\r  0%|          | 0/2 [00:00<?, ?it/s]"
          ]
        },
        {
          "output_type": "stream",
          "name": "stdout",
          "text": [
            "Shape of X:  torch.Size([16, 3, 256, 256])\n",
            "torch.Size([16, 3, 256, 256]) Entropy A1: 5.544891357421875, Entropy A2: 5.5449018478393555\n"
          ]
        },
        {
          "output_type": "stream",
          "name": "stderr",
          "text": [
            "100%|██████████| 2/2 [00:00<00:00,  4.34it/s, D_fake=0.0103, D_real=0.992]\n"
          ]
        },
        {
          "output_type": "stream",
          "name": "stdout",
          "text": [
            "Shape of X:  torch.Size([4, 3, 256, 256])\n",
            "torch.Size([4, 3, 256, 256]) Entropy A1: 5.544947624206543, Entropy A2: 5.544956207275391\n",
            "Epoch [381/500], Avg Entropy A1: 5.544919490814209, Avg Entropy A2: 5.544929027557373\n"
          ]
        },
        {
          "output_type": "stream",
          "name": "stderr",
          "text": [
            "\r  0%|          | 0/2 [00:00<?, ?it/s]"
          ]
        },
        {
          "output_type": "stream",
          "name": "stdout",
          "text": [
            "Shape of X:  torch.Size([16, 3, 256, 256])\n",
            "torch.Size([16, 3, 256, 256]) Entropy A1: 5.544854164123535, Entropy A2: 5.544869422912598\n"
          ]
        },
        {
          "output_type": "stream",
          "name": "stderr",
          "text": [
            "100%|██████████| 2/2 [00:00<00:00,  4.61it/s, D_fake=0.0119, D_real=0.991]\n"
          ]
        },
        {
          "output_type": "stream",
          "name": "stdout",
          "text": [
            "Shape of X:  torch.Size([4, 3, 256, 256])\n",
            "torch.Size([4, 3, 256, 256]) Entropy A1: 5.544690132141113, Entropy A2: 5.544715881347656\n",
            "Epoch [382/500], Avg Entropy A1: 5.544772148132324, Avg Entropy A2: 5.544792652130127\n"
          ]
        },
        {
          "output_type": "stream",
          "name": "stderr",
          "text": [
            "\r  0%|          | 0/2 [00:00<?, ?it/s]"
          ]
        },
        {
          "output_type": "stream",
          "name": "stdout",
          "text": [
            "Shape of X:  torch.Size([16, 3, 256, 256])\n",
            "torch.Size([16, 3, 256, 256]) Entropy A1: 5.544688701629639, Entropy A2: 5.544715404510498\n"
          ]
        },
        {
          "output_type": "stream",
          "name": "stderr",
          "text": [
            "100%|██████████| 2/2 [00:00<00:00,  5.09it/s, D_fake=0.0132, D_real=0.992]\n"
          ]
        },
        {
          "output_type": "stream",
          "name": "stdout",
          "text": [
            "Shape of X:  torch.Size([4, 3, 256, 256])\n",
            "torch.Size([4, 3, 256, 256]) Entropy A1: 5.54475736618042, Entropy A2: 5.544778823852539\n",
            "Epoch [383/500], Avg Entropy A1: 5.544723033905029, Avg Entropy A2: 5.5447471141815186\n"
          ]
        },
        {
          "output_type": "stream",
          "name": "stderr",
          "text": [
            "\r  0%|          | 0/2 [00:00<?, ?it/s]"
          ]
        },
        {
          "output_type": "stream",
          "name": "stdout",
          "text": [
            "Shape of X:  torch.Size([16, 3, 256, 256])\n",
            "torch.Size([16, 3, 256, 256]) Entropy A1: 5.544801235198975, Entropy A2: 5.544817924499512\n"
          ]
        },
        {
          "output_type": "stream",
          "name": "stderr",
          "text": [
            "100%|██████████| 2/2 [00:00<00:00,  4.63it/s, D_fake=0.0116, D_real=0.992]\n"
          ]
        },
        {
          "output_type": "stream",
          "name": "stdout",
          "text": [
            "Shape of X:  torch.Size([4, 3, 256, 256])\n",
            "torch.Size([4, 3, 256, 256]) Entropy A1: 5.544702529907227, Entropy A2: 5.544726371765137\n",
            "Epoch [384/500], Avg Entropy A1: 5.544751882553101, Avg Entropy A2: 5.544772148132324\n"
          ]
        },
        {
          "output_type": "stream",
          "name": "stderr",
          "text": [
            "\r  0%|          | 0/2 [00:00<?, ?it/s]"
          ]
        },
        {
          "output_type": "stream",
          "name": "stdout",
          "text": [
            "Shape of X:  torch.Size([16, 3, 256, 256])\n",
            "torch.Size([16, 3, 256, 256]) Entropy A1: 5.544841766357422, Entropy A2: 5.544862747192383\n"
          ]
        },
        {
          "output_type": "stream",
          "name": "stderr",
          "text": [
            "100%|██████████| 2/2 [00:00<00:00,  4.58it/s, D_fake=0.0113, D_real=0.993]\n"
          ]
        },
        {
          "output_type": "stream",
          "name": "stdout",
          "text": [
            "Shape of X:  torch.Size([4, 3, 256, 256])\n",
            "torch.Size([4, 3, 256, 256]) Entropy A1: 5.544902801513672, Entropy A2: 5.544916152954102\n",
            "Epoch [385/500], Avg Entropy A1: 5.544872283935547, Avg Entropy A2: 5.544889450073242\n"
          ]
        },
        {
          "output_type": "stream",
          "name": "stderr",
          "text": [
            "\r  0%|          | 0/2 [00:00<?, ?it/s]"
          ]
        },
        {
          "output_type": "stream",
          "name": "stdout",
          "text": [
            "Shape of X:  torch.Size([16, 3, 256, 256])\n",
            "torch.Size([16, 3, 256, 256]) Entropy A1: 5.5448808670043945, Entropy A2: 5.544893264770508\n"
          ]
        },
        {
          "output_type": "stream",
          "name": "stderr",
          "text": [
            "100%|██████████| 2/2 [00:00<00:00,  4.91it/s, D_fake=0.0115, D_real=0.993]\n"
          ]
        },
        {
          "output_type": "stream",
          "name": "stdout",
          "text": [
            "Shape of X:  torch.Size([4, 3, 256, 256])\n",
            "torch.Size([4, 3, 256, 256]) Entropy A1: 5.544898986816406, Entropy A2: 5.544922828674316\n",
            "Epoch [386/500], Avg Entropy A1: 5.5448899269104, Avg Entropy A2: 5.544908046722412\n"
          ]
        },
        {
          "output_type": "stream",
          "name": "stderr",
          "text": [
            "\r  0%|          | 0/2 [00:00<?, ?it/s]"
          ]
        },
        {
          "output_type": "stream",
          "name": "stdout",
          "text": [
            "Shape of X:  torch.Size([16, 3, 256, 256])\n",
            "torch.Size([16, 3, 256, 256]) Entropy A1: 5.544986248016357, Entropy A2: 5.544992446899414\n"
          ]
        },
        {
          "output_type": "stream",
          "name": "stderr",
          "text": [
            "100%|██████████| 2/2 [00:00<00:00,  4.82it/s, D_fake=0.0112, D_real=0.979]\n"
          ]
        },
        {
          "output_type": "stream",
          "name": "stdout",
          "text": [
            "Shape of X:  torch.Size([4, 3, 256, 256])\n",
            "torch.Size([4, 3, 256, 256]) Entropy A1: 5.544801712036133, Entropy A2: 5.5448198318481445\n",
            "Epoch [387/500], Avg Entropy A1: 5.544893980026245, Avg Entropy A2: 5.544906139373779\n"
          ]
        },
        {
          "output_type": "stream",
          "name": "stderr",
          "text": [
            "\r  0%|          | 0/2 [00:00<?, ?it/s]"
          ]
        },
        {
          "output_type": "stream",
          "name": "stdout",
          "text": [
            "Shape of X:  torch.Size([16, 3, 256, 256])\n",
            "torch.Size([16, 3, 256, 256]) Entropy A1: 5.5447187423706055, Entropy A2: 5.544741630554199\n"
          ]
        },
        {
          "output_type": "stream",
          "name": "stderr",
          "text": [
            "100%|██████████| 2/2 [00:00<00:00,  5.15it/s, D_fake=0.0166, D_real=0.991]\n"
          ]
        },
        {
          "output_type": "stream",
          "name": "stdout",
          "text": [
            "Shape of X:  torch.Size([4, 3, 256, 256])\n",
            "torch.Size([4, 3, 256, 256]) Entropy A1: 5.544651985168457, Entropy A2: 5.544685363769531\n",
            "Epoch [388/500], Avg Entropy A1: 5.544685363769531, Avg Entropy A2: 5.544713497161865\n"
          ]
        },
        {
          "output_type": "stream",
          "name": "stderr",
          "text": [
            "\r  0%|          | 0/2 [00:00<?, ?it/s]"
          ]
        },
        {
          "output_type": "stream",
          "name": "stdout",
          "text": [
            "Shape of X:  torch.Size([16, 3, 256, 256])\n",
            "torch.Size([16, 3, 256, 256]) Entropy A1: 5.544744968414307, Entropy A2: 5.544771194458008\n"
          ]
        },
        {
          "output_type": "stream",
          "name": "stderr",
          "text": [
            "100%|██████████| 2/2 [00:00<00:00,  4.83it/s, D_fake=0.0111, D_real=0.983]\n"
          ]
        },
        {
          "output_type": "stream",
          "name": "stdout",
          "text": [
            "Shape of X:  torch.Size([4, 3, 256, 256])\n",
            "torch.Size([4, 3, 256, 256]) Entropy A1: 5.544614791870117, Entropy A2: 5.544650077819824\n",
            "Epoch [389/500], Avg Entropy A1: 5.544679880142212, Avg Entropy A2: 5.544710636138916\n"
          ]
        },
        {
          "output_type": "stream",
          "name": "stderr",
          "text": [
            "\r  0%|          | 0/2 [00:00<?, ?it/s]"
          ]
        },
        {
          "output_type": "stream",
          "name": "stdout",
          "text": [
            "Shape of X:  torch.Size([16, 3, 256, 256])\n",
            "torch.Size([16, 3, 256, 256]) Entropy A1: 5.544961929321289, Entropy A2: 5.544970512390137\n"
          ]
        },
        {
          "output_type": "stream",
          "name": "stderr",
          "text": [
            "100%|██████████| 2/2 [00:00<00:00,  4.75it/s, D_fake=0.324, D_real=0.959]\n"
          ]
        },
        {
          "output_type": "stream",
          "name": "stdout",
          "text": [
            "Shape of X:  torch.Size([4, 3, 256, 256])\n",
            "torch.Size([4, 3, 256, 256]) Entropy A1: 5.544482707977295, Entropy A2: 5.544522285461426\n",
            "Epoch [390/500], Avg Entropy A1: 5.544722318649292, Avg Entropy A2: 5.544746398925781\n"
          ]
        },
        {
          "output_type": "stream",
          "name": "stderr",
          "text": [
            "\r  0%|          | 0/2 [00:00<?, ?it/s]"
          ]
        },
        {
          "output_type": "stream",
          "name": "stdout",
          "text": [
            "Shape of X:  torch.Size([16, 3, 256, 256])\n",
            "torch.Size([16, 3, 256, 256]) Entropy A1: 5.544910430908203, Entropy A2: 5.544921398162842\n"
          ]
        },
        {
          "output_type": "stream",
          "name": "stderr",
          "text": [
            "100%|██████████| 2/2 [00:00<00:00,  5.01it/s, D_fake=0.156, D_real=0.909]\n"
          ]
        },
        {
          "output_type": "stream",
          "name": "stdout",
          "text": [
            "Shape of X:  torch.Size([4, 3, 256, 256])\n",
            "torch.Size([4, 3, 256, 256]) Entropy A1: 5.54473352432251, Entropy A2: 5.544754981994629\n",
            "Epoch [391/500], Avg Entropy A1: 5.5448219776153564, Avg Entropy A2: 5.544838190078735\n"
          ]
        },
        {
          "output_type": "stream",
          "name": "stderr",
          "text": [
            "\r  0%|          | 0/2 [00:00<?, ?it/s]"
          ]
        },
        {
          "output_type": "stream",
          "name": "stdout",
          "text": [
            "Shape of X:  torch.Size([16, 3, 256, 256])\n",
            "torch.Size([16, 3, 256, 256]) Entropy A1: 5.5448808670043945, Entropy A2: 5.544894695281982\n"
          ]
        },
        {
          "output_type": "stream",
          "name": "stderr",
          "text": [
            "100%|██████████| 2/2 [00:00<00:00,  5.33it/s, D_fake=0.0329, D_real=0.552]\n"
          ]
        },
        {
          "output_type": "stream",
          "name": "stdout",
          "text": [
            "Shape of X:  torch.Size([4, 3, 256, 256])\n",
            "torch.Size([4, 3, 256, 256]) Entropy A1: 5.544837474822998, Entropy A2: 5.544853210449219\n",
            "Epoch [392/500], Avg Entropy A1: 5.544859170913696, Avg Entropy A2: 5.544873952865601\n"
          ]
        },
        {
          "output_type": "stream",
          "name": "stderr",
          "text": [
            "\r  0%|          | 0/2 [00:00<?, ?it/s]"
          ]
        },
        {
          "output_type": "stream",
          "name": "stdout",
          "text": [
            "Shape of X:  torch.Size([16, 3, 256, 256])\n",
            "torch.Size([16, 3, 256, 256]) Entropy A1: 5.544707775115967, Entropy A2: 5.54473876953125\n"
          ]
        },
        {
          "output_type": "stream",
          "name": "stderr",
          "text": [
            "100%|██████████| 2/2 [00:00<00:00,  5.42it/s, D_fake=0.136, D_real=0.533]\n"
          ]
        },
        {
          "output_type": "stream",
          "name": "stdout",
          "text": [
            "Shape of X:  torch.Size([4, 3, 256, 256])\n",
            "torch.Size([4, 3, 256, 256]) Entropy A1: 5.544614315032959, Entropy A2: 5.54465389251709\n",
            "Epoch [393/500], Avg Entropy A1: 5.544661045074463, Avg Entropy A2: 5.54469633102417\n"
          ]
        },
        {
          "output_type": "stream",
          "name": "stderr",
          "text": [
            "\r  0%|          | 0/2 [00:00<?, ?it/s]"
          ]
        },
        {
          "output_type": "stream",
          "name": "stdout",
          "text": [
            "Shape of X:  torch.Size([16, 3, 256, 256])\n",
            "torch.Size([16, 3, 256, 256]) Entropy A1: 5.544897079467773, Entropy A2: 5.544909477233887\n"
          ]
        },
        {
          "output_type": "stream",
          "name": "stderr",
          "text": [
            "100%|██████████| 2/2 [00:00<00:00,  5.34it/s, D_fake=0.08, D_real=0.913]\n"
          ]
        },
        {
          "output_type": "stream",
          "name": "stdout",
          "text": [
            "Shape of X:  torch.Size([4, 3, 256, 256])\n",
            "torch.Size([4, 3, 256, 256]) Entropy A1: 5.544858932495117, Entropy A2: 5.5448760986328125\n",
            "Epoch [394/500], Avg Entropy A1: 5.544878005981445, Avg Entropy A2: 5.54489278793335\n"
          ]
        },
        {
          "output_type": "stream",
          "name": "stderr",
          "text": [
            "\r  0%|          | 0/2 [00:00<?, ?it/s]"
          ]
        },
        {
          "output_type": "stream",
          "name": "stdout",
          "text": [
            "Shape of X:  torch.Size([16, 3, 256, 256])\n",
            "torch.Size([16, 3, 256, 256]) Entropy A1: 5.54491662979126, Entropy A2: 5.544928073883057\n"
          ]
        },
        {
          "output_type": "stream",
          "name": "stderr",
          "text": [
            "100%|██████████| 2/2 [00:00<00:00,  5.35it/s, D_fake=0.058, D_real=0.907]\n"
          ]
        },
        {
          "output_type": "stream",
          "name": "stdout",
          "text": [
            "Shape of X:  torch.Size([4, 3, 256, 256])\n",
            "torch.Size([4, 3, 256, 256]) Entropy A1: 5.5447893142700195, Entropy A2: 5.544805526733398\n",
            "Epoch [395/500], Avg Entropy A1: 5.54485297203064, Avg Entropy A2: 5.5448668003082275\n"
          ]
        },
        {
          "output_type": "stream",
          "name": "stderr",
          "text": [
            "\r  0%|          | 0/2 [00:00<?, ?it/s]"
          ]
        },
        {
          "output_type": "stream",
          "name": "stdout",
          "text": [
            "Shape of X:  torch.Size([16, 3, 256, 256])\n",
            "torch.Size([16, 3, 256, 256]) Entropy A1: 5.544890403747559, Entropy A2: 5.544903755187988\n"
          ]
        },
        {
          "output_type": "stream",
          "name": "stderr",
          "text": [
            "100%|██████████| 2/2 [00:00<00:00,  5.39it/s, D_fake=0.0384, D_real=0.966]\n"
          ]
        },
        {
          "output_type": "stream",
          "name": "stdout",
          "text": [
            "Shape of X:  torch.Size([4, 3, 256, 256])\n",
            "torch.Size([4, 3, 256, 256]) Entropy A1: 5.544991970062256, Entropy A2: 5.544999599456787\n",
            "Epoch [396/500], Avg Entropy A1: 5.544941186904907, Avg Entropy A2: 5.544951677322388\n"
          ]
        },
        {
          "output_type": "stream",
          "name": "stderr",
          "text": [
            "\r  0%|          | 0/2 [00:00<?, ?it/s]"
          ]
        },
        {
          "output_type": "stream",
          "name": "stdout",
          "text": [
            "Shape of X:  torch.Size([16, 3, 256, 256])\n",
            "torch.Size([16, 3, 256, 256]) Entropy A1: 5.544927597045898, Entropy A2: 5.544938087463379\n"
          ]
        },
        {
          "output_type": "stream",
          "name": "stderr",
          "text": [
            "100%|██████████| 2/2 [00:00<00:00,  5.43it/s, D_fake=0.0273, D_real=0.973]\n"
          ]
        },
        {
          "output_type": "stream",
          "name": "stdout",
          "text": [
            "Shape of X:  torch.Size([4, 3, 256, 256])\n",
            "torch.Size([4, 3, 256, 256]) Entropy A1: 5.544915676116943, Entropy A2: 5.544925689697266\n",
            "Epoch [397/500], Avg Entropy A1: 5.544921636581421, Avg Entropy A2: 5.544931888580322\n"
          ]
        },
        {
          "output_type": "stream",
          "name": "stderr",
          "text": [
            "\r  0%|          | 0/2 [00:00<?, ?it/s]"
          ]
        },
        {
          "output_type": "stream",
          "name": "stdout",
          "text": [
            "Shape of X:  torch.Size([16, 3, 256, 256])\n",
            "torch.Size([16, 3, 256, 256]) Entropy A1: 5.544985771179199, Entropy A2: 5.5449934005737305\n"
          ]
        },
        {
          "output_type": "stream",
          "name": "stderr",
          "text": [
            "100%|██████████| 2/2 [00:00<00:00,  5.41it/s, D_fake=0.0317, D_real=0.968]\n"
          ]
        },
        {
          "output_type": "stream",
          "name": "stdout",
          "text": [
            "Shape of X:  torch.Size([4, 3, 256, 256])\n",
            "torch.Size([4, 3, 256, 256]) Entropy A1: 5.544795036315918, Entropy A2: 5.544812202453613\n",
            "Epoch [398/500], Avg Entropy A1: 5.544890403747559, Avg Entropy A2: 5.544902801513672\n"
          ]
        },
        {
          "output_type": "stream",
          "name": "stderr",
          "text": [
            "\r  0%|          | 0/2 [00:00<?, ?it/s]"
          ]
        },
        {
          "output_type": "stream",
          "name": "stdout",
          "text": [
            "Shape of X:  torch.Size([16, 3, 256, 256])\n",
            "torch.Size([16, 3, 256, 256]) Entropy A1: 5.5449981689453125, Entropy A2: 5.545004844665527\n"
          ]
        },
        {
          "output_type": "stream",
          "name": "stderr",
          "text": [
            "100%|██████████| 2/2 [00:00<00:00,  5.24it/s, D_fake=0.0299, D_real=0.971]\n"
          ]
        },
        {
          "output_type": "stream",
          "name": "stdout",
          "text": [
            "Shape of X:  torch.Size([4, 3, 256, 256])\n",
            "torch.Size([4, 3, 256, 256]) Entropy A1: 5.54477071762085, Entropy A2: 5.544793605804443\n",
            "Epoch [399/500], Avg Entropy A1: 5.544884443283081, Avg Entropy A2: 5.544899225234985\n"
          ]
        },
        {
          "output_type": "stream",
          "name": "stderr",
          "text": [
            "\r  0%|          | 0/2 [00:00<?, ?it/s]"
          ]
        },
        {
          "output_type": "stream",
          "name": "stdout",
          "text": [
            "Shape of X:  torch.Size([16, 3, 256, 256])\n",
            "torch.Size([16, 3, 256, 256]) Entropy A1: 5.544916152954102, Entropy A2: 5.544926643371582\n"
          ]
        },
        {
          "output_type": "stream",
          "name": "stderr",
          "text": [
            "100%|██████████| 2/2 [00:00<00:00,  5.30it/s, D_fake=0.0279, D_real=0.98]\n"
          ]
        },
        {
          "output_type": "stream",
          "name": "stdout",
          "text": [
            "Shape of X:  torch.Size([4, 3, 256, 256])\n",
            "torch.Size([4, 3, 256, 256]) Entropy A1: 5.544841289520264, Entropy A2: 5.54486083984375\n",
            "Epoch [400/500], Avg Entropy A1: 5.544878721237183, Avg Entropy A2: 5.544893741607666\n",
            "Saving model at epoch 399\n",
            "Shape of x at save:  torch.Size([5, 3, 256, 256])\n"
          ]
        },
        {
          "output_type": "stream",
          "name": "stderr",
          "text": [
            "\r  0%|          | 0/2 [00:00<?, ?it/s]"
          ]
        },
        {
          "output_type": "stream",
          "name": "stdout",
          "text": [
            "Shape of X:  torch.Size([16, 3, 256, 256])\n",
            "torch.Size([16, 3, 256, 256]) Entropy A1: 5.544837951660156, Entropy A2: 5.5448527336120605\n"
          ]
        },
        {
          "output_type": "stream",
          "name": "stderr",
          "text": [
            "100%|██████████| 2/2 [00:00<00:00,  4.54it/s, D_fake=0.0268, D_real=0.971]\n"
          ]
        },
        {
          "output_type": "stream",
          "name": "stdout",
          "text": [
            "Shape of X:  torch.Size([4, 3, 256, 256])\n",
            "torch.Size([4, 3, 256, 256]) Entropy A1: 5.544925689697266, Entropy A2: 5.544936180114746\n",
            "Epoch [401/500], Avg Entropy A1: 5.544881820678711, Avg Entropy A2: 5.544894456863403\n"
          ]
        },
        {
          "output_type": "stream",
          "name": "stderr",
          "text": [
            "\r  0%|          | 0/2 [00:00<?, ?it/s]"
          ]
        },
        {
          "output_type": "stream",
          "name": "stdout",
          "text": [
            "Shape of X:  torch.Size([16, 3, 256, 256])\n",
            "torch.Size([16, 3, 256, 256]) Entropy A1: 5.544911861419678, Entropy A2: 5.544924259185791\n"
          ]
        },
        {
          "output_type": "stream",
          "name": "stderr",
          "text": [
            "100%|██████████| 2/2 [00:00<00:00,  5.29it/s, D_fake=0.0218, D_real=0.978]\n"
          ]
        },
        {
          "output_type": "stream",
          "name": "stdout",
          "text": [
            "Shape of X:  torch.Size([4, 3, 256, 256])\n",
            "torch.Size([4, 3, 256, 256]) Entropy A1: 5.544731616973877, Entropy A2: 5.544755458831787\n",
            "Epoch [402/500], Avg Entropy A1: 5.544821739196777, Avg Entropy A2: 5.544839859008789\n"
          ]
        },
        {
          "output_type": "stream",
          "name": "stderr",
          "text": [
            "\r  0%|          | 0/2 [00:00<?, ?it/s]"
          ]
        },
        {
          "output_type": "stream",
          "name": "stdout",
          "text": [
            "Shape of X:  torch.Size([16, 3, 256, 256])\n",
            "torch.Size([16, 3, 256, 256]) Entropy A1: 5.544952869415283, Entropy A2: 5.544961929321289\n"
          ]
        },
        {
          "output_type": "stream",
          "name": "stderr",
          "text": [
            "100%|██████████| 2/2 [00:00<00:00,  4.86it/s, D_fake=0.0256, D_real=0.968]\n"
          ]
        },
        {
          "output_type": "stream",
          "name": "stdout",
          "text": [
            "Shape of X:  torch.Size([4, 3, 256, 256])\n",
            "torch.Size([4, 3, 256, 256]) Entropy A1: 5.544885635375977, Entropy A2: 5.54489803314209\n",
            "Epoch [403/500], Avg Entropy A1: 5.54491925239563, Avg Entropy A2: 5.5449299812316895\n"
          ]
        },
        {
          "output_type": "stream",
          "name": "stderr",
          "text": [
            "\r  0%|          | 0/2 [00:00<?, ?it/s]"
          ]
        },
        {
          "output_type": "stream",
          "name": "stdout",
          "text": [
            "Shape of X:  torch.Size([16, 3, 256, 256])\n",
            "torch.Size([16, 3, 256, 256]) Entropy A1: 5.544826984405518, Entropy A2: 5.544842720031738\n"
          ]
        },
        {
          "output_type": "stream",
          "name": "stderr",
          "text": [
            "100%|██████████| 2/2 [00:00<00:00,  5.08it/s, D_fake=0.0215, D_real=0.969]\n"
          ]
        },
        {
          "output_type": "stream",
          "name": "stdout",
          "text": [
            "Shape of X:  torch.Size([4, 3, 256, 256])\n",
            "torch.Size([4, 3, 256, 256]) Entropy A1: 5.545031547546387, Entropy A2: 5.545035362243652\n",
            "Epoch [404/500], Avg Entropy A1: 5.544929265975952, Avg Entropy A2: 5.544939041137695\n"
          ]
        },
        {
          "output_type": "stream",
          "name": "stderr",
          "text": [
            "\r  0%|          | 0/2 [00:00<?, ?it/s]"
          ]
        },
        {
          "output_type": "stream",
          "name": "stdout",
          "text": [
            "Shape of X:  torch.Size([16, 3, 256, 256])\n",
            "torch.Size([16, 3, 256, 256]) Entropy A1: 5.54500675201416, Entropy A2: 5.545013904571533\n"
          ]
        },
        {
          "output_type": "stream",
          "name": "stderr",
          "text": [
            "100%|██████████| 2/2 [00:00<00:00,  5.00it/s, D_fake=0.024, D_real=0.975]\n"
          ]
        },
        {
          "output_type": "stream",
          "name": "stdout",
          "text": [
            "Shape of X:  torch.Size([4, 3, 256, 256])\n",
            "torch.Size([4, 3, 256, 256]) Entropy A1: 5.544666290283203, Entropy A2: 5.544693946838379\n",
            "Epoch [405/500], Avg Entropy A1: 5.544836521148682, Avg Entropy A2: 5.544853925704956\n"
          ]
        },
        {
          "output_type": "stream",
          "name": "stderr",
          "text": [
            "\r  0%|          | 0/2 [00:00<?, ?it/s]"
          ]
        },
        {
          "output_type": "stream",
          "name": "stdout",
          "text": [
            "Shape of X:  torch.Size([16, 3, 256, 256])\n",
            "torch.Size([16, 3, 256, 256]) Entropy A1: 5.544924259185791, Entropy A2: 5.5449347496032715\n"
          ]
        },
        {
          "output_type": "stream",
          "name": "stderr",
          "text": [
            "100%|██████████| 2/2 [00:00<00:00,  5.26it/s, D_fake=0.0164, D_real=0.972]\n"
          ]
        },
        {
          "output_type": "stream",
          "name": "stdout",
          "text": [
            "Shape of X:  torch.Size([4, 3, 256, 256])\n",
            "torch.Size([4, 3, 256, 256]) Entropy A1: 5.544943809509277, Entropy A2: 5.544951915740967\n",
            "Epoch [406/500], Avg Entropy A1: 5.544934034347534, Avg Entropy A2: 5.544943332672119\n"
          ]
        },
        {
          "output_type": "stream",
          "name": "stderr",
          "text": [
            "\r  0%|          | 0/2 [00:00<?, ?it/s]"
          ]
        },
        {
          "output_type": "stream",
          "name": "stdout",
          "text": [
            "Shape of X:  torch.Size([16, 3, 256, 256])\n",
            "torch.Size([16, 3, 256, 256]) Entropy A1: 5.544892311096191, Entropy A2: 5.5449066162109375\n"
          ]
        },
        {
          "output_type": "stream",
          "name": "stderr",
          "text": [
            "100%|██████████| 2/2 [00:00<00:00,  4.93it/s, D_fake=0.0251, D_real=0.971]\n"
          ]
        },
        {
          "output_type": "stream",
          "name": "stdout",
          "text": [
            "Shape of X:  torch.Size([4, 3, 256, 256])\n",
            "torch.Size([4, 3, 256, 256]) Entropy A1: 5.544827461242676, Entropy A2: 5.544851303100586\n",
            "Epoch [407/500], Avg Entropy A1: 5.544859886169434, Avg Entropy A2: 5.544878959655762\n"
          ]
        },
        {
          "output_type": "stream",
          "name": "stderr",
          "text": [
            "\r  0%|          | 0/2 [00:00<?, ?it/s]"
          ]
        },
        {
          "output_type": "stream",
          "name": "stdout",
          "text": [
            "Shape of X:  torch.Size([16, 3, 256, 256])\n",
            "torch.Size([16, 3, 256, 256]) Entropy A1: 5.544811725616455, Entropy A2: 5.544827938079834\n"
          ]
        },
        {
          "output_type": "stream",
          "name": "stderr",
          "text": [
            "100%|██████████| 2/2 [00:00<00:00,  5.28it/s, D_fake=0.0127, D_real=0.982]\n"
          ]
        },
        {
          "output_type": "stream",
          "name": "stdout",
          "text": [
            "Shape of X:  torch.Size([4, 3, 256, 256])\n",
            "torch.Size([4, 3, 256, 256]) Entropy A1: 5.5449419021606445, Entropy A2: 5.544951438903809\n",
            "Epoch [408/500], Avg Entropy A1: 5.54487681388855, Avg Entropy A2: 5.544889688491821\n"
          ]
        },
        {
          "output_type": "stream",
          "name": "stderr",
          "text": [
            "\r  0%|          | 0/2 [00:00<?, ?it/s]"
          ]
        },
        {
          "output_type": "stream",
          "name": "stdout",
          "text": [
            "Shape of X:  torch.Size([16, 3, 256, 256])\n",
            "torch.Size([16, 3, 256, 256]) Entropy A1: 5.544832229614258, Entropy A2: 5.544849872589111\n"
          ]
        },
        {
          "output_type": "stream",
          "name": "stderr",
          "text": [
            "100%|██████████| 2/2 [00:00<00:00,  5.44it/s, D_fake=0.0175, D_real=0.982]\n"
          ]
        },
        {
          "output_type": "stream",
          "name": "stdout",
          "text": [
            "Shape of X:  torch.Size([4, 3, 256, 256])\n",
            "torch.Size([4, 3, 256, 256]) Entropy A1: 5.544743537902832, Entropy A2: 5.544772148132324\n",
            "Epoch [409/500], Avg Entropy A1: 5.544787883758545, Avg Entropy A2: 5.544811010360718\n"
          ]
        },
        {
          "output_type": "stream",
          "name": "stderr",
          "text": [
            "\r  0%|          | 0/2 [00:00<?, ?it/s]"
          ]
        },
        {
          "output_type": "stream",
          "name": "stdout",
          "text": [
            "Shape of X:  torch.Size([16, 3, 256, 256])\n",
            "torch.Size([16, 3, 256, 256]) Entropy A1: 5.54493522644043, Entropy A2: 5.544947624206543\n"
          ]
        },
        {
          "output_type": "stream",
          "name": "stderr",
          "text": [
            "100%|██████████| 2/2 [00:00<00:00,  5.39it/s, D_fake=0.018, D_real=0.982]\n"
          ]
        },
        {
          "output_type": "stream",
          "name": "stdout",
          "text": [
            "Shape of X:  torch.Size([4, 3, 256, 256])\n",
            "torch.Size([4, 3, 256, 256]) Entropy A1: 5.544708728790283, Entropy A2: 5.544746398925781\n",
            "Epoch [410/500], Avg Entropy A1: 5.5448219776153564, Avg Entropy A2: 5.544847011566162\n"
          ]
        },
        {
          "output_type": "stream",
          "name": "stderr",
          "text": [
            "\r  0%|          | 0/2 [00:00<?, ?it/s]"
          ]
        },
        {
          "output_type": "stream",
          "name": "stdout",
          "text": [
            "Shape of X:  torch.Size([16, 3, 256, 256])\n",
            "torch.Size([16, 3, 256, 256]) Entropy A1: 5.545021057128906, Entropy A2: 5.545025825500488\n"
          ]
        },
        {
          "output_type": "stream",
          "name": "stderr",
          "text": [
            "100%|██████████| 2/2 [00:00<00:00,  5.43it/s, D_fake=0.0152, D_real=0.987]\n"
          ]
        },
        {
          "output_type": "stream",
          "name": "stdout",
          "text": [
            "Shape of X:  torch.Size([4, 3, 256, 256])\n",
            "torch.Size([4, 3, 256, 256]) Entropy A1: 5.545037269592285, Entropy A2: 5.545042037963867\n",
            "Epoch [411/500], Avg Entropy A1: 5.545029163360596, Avg Entropy A2: 5.545033931732178\n"
          ]
        },
        {
          "output_type": "stream",
          "name": "stderr",
          "text": [
            "\r  0%|          | 0/2 [00:00<?, ?it/s]"
          ]
        },
        {
          "output_type": "stream",
          "name": "stdout",
          "text": [
            "Shape of X:  torch.Size([16, 3, 256, 256])\n",
            "torch.Size([16, 3, 256, 256]) Entropy A1: 5.544797420501709, Entropy A2: 5.544817924499512\n"
          ]
        },
        {
          "output_type": "stream",
          "name": "stderr",
          "text": [
            "100%|██████████| 2/2 [00:00<00:00,  5.40it/s, D_fake=0.0154, D_real=0.984]\n"
          ]
        },
        {
          "output_type": "stream",
          "name": "stdout",
          "text": [
            "Shape of X:  torch.Size([4, 3, 256, 256])\n",
            "torch.Size([4, 3, 256, 256]) Entropy A1: 5.5448784828186035, Entropy A2: 5.544890403747559\n",
            "Epoch [412/500], Avg Entropy A1: 5.544837951660156, Avg Entropy A2: 5.544854164123535\n"
          ]
        },
        {
          "output_type": "stream",
          "name": "stderr",
          "text": [
            "\r  0%|          | 0/2 [00:00<?, ?it/s]"
          ]
        },
        {
          "output_type": "stream",
          "name": "stdout",
          "text": [
            "Shape of X:  torch.Size([16, 3, 256, 256])\n",
            "torch.Size([16, 3, 256, 256]) Entropy A1: 5.544943809509277, Entropy A2: 5.544953346252441\n"
          ]
        },
        {
          "output_type": "stream",
          "name": "stderr",
          "text": [
            "100%|██████████| 2/2 [00:00<00:00,  5.40it/s, D_fake=0.0145, D_real=0.985]\n"
          ]
        },
        {
          "output_type": "stream",
          "name": "stdout",
          "text": [
            "Shape of X:  torch.Size([4, 3, 256, 256])\n",
            "torch.Size([4, 3, 256, 256]) Entropy A1: 5.5448760986328125, Entropy A2: 5.544892311096191\n",
            "Epoch [413/500], Avg Entropy A1: 5.544909954071045, Avg Entropy A2: 5.544922828674316\n"
          ]
        },
        {
          "output_type": "stream",
          "name": "stderr",
          "text": [
            "\r  0%|          | 0/2 [00:00<?, ?it/s]"
          ]
        },
        {
          "output_type": "stream",
          "name": "stdout",
          "text": [
            "Shape of X:  torch.Size([16, 3, 256, 256])\n",
            "torch.Size([16, 3, 256, 256]) Entropy A1: 5.544883728027344, Entropy A2: 5.544898986816406\n"
          ]
        },
        {
          "output_type": "stream",
          "name": "stderr",
          "text": [
            "100%|██████████| 2/2 [00:00<00:00,  5.31it/s, D_fake=0.0139, D_real=0.988]\n"
          ]
        },
        {
          "output_type": "stream",
          "name": "stdout",
          "text": [
            "Shape of X:  torch.Size([4, 3, 256, 256])\n",
            "torch.Size([4, 3, 256, 256]) Entropy A1: 5.544930458068848, Entropy A2: 5.544941425323486\n",
            "Epoch [414/500], Avg Entropy A1: 5.544907093048096, Avg Entropy A2: 5.544920206069946\n"
          ]
        },
        {
          "output_type": "stream",
          "name": "stderr",
          "text": [
            "\r  0%|          | 0/2 [00:00<?, ?it/s]"
          ]
        },
        {
          "output_type": "stream",
          "name": "stdout",
          "text": [
            "Shape of X:  torch.Size([16, 3, 256, 256])\n",
            "torch.Size([16, 3, 256, 256]) Entropy A1: 5.545003890991211, Entropy A2: 5.545010566711426\n"
          ]
        },
        {
          "output_type": "stream",
          "name": "stderr",
          "text": [
            "100%|██████████| 2/2 [00:00<00:00,  5.35it/s, D_fake=0.0128, D_real=0.98]\n"
          ]
        },
        {
          "output_type": "stream",
          "name": "stdout",
          "text": [
            "Shape of X:  torch.Size([4, 3, 256, 256])\n",
            "torch.Size([4, 3, 256, 256]) Entropy A1: 5.544886589050293, Entropy A2: 5.544899940490723\n",
            "Epoch [415/500], Avg Entropy A1: 5.544945240020752, Avg Entropy A2: 5.544955253601074\n"
          ]
        },
        {
          "output_type": "stream",
          "name": "stderr",
          "text": [
            "\r  0%|          | 0/2 [00:00<?, ?it/s]"
          ]
        },
        {
          "output_type": "stream",
          "name": "stdout",
          "text": [
            "Shape of X:  torch.Size([16, 3, 256, 256])\n",
            "torch.Size([16, 3, 256, 256]) Entropy A1: 5.544839859008789, Entropy A2: 5.544857978820801\n"
          ]
        },
        {
          "output_type": "stream",
          "name": "stderr",
          "text": [
            "100%|██████████| 2/2 [00:00<00:00,  5.44it/s, D_fake=0.0212, D_real=0.983]\n"
          ]
        },
        {
          "output_type": "stream",
          "name": "stdout",
          "text": [
            "Shape of X:  torch.Size([4, 3, 256, 256])\n",
            "torch.Size([4, 3, 256, 256]) Entropy A1: 5.5445556640625, Entropy A2: 5.544588088989258\n",
            "Epoch [416/500], Avg Entropy A1: 5.5446977615356445, Avg Entropy A2: 5.544723033905029\n"
          ]
        },
        {
          "output_type": "stream",
          "name": "stderr",
          "text": [
            "\r  0%|          | 0/2 [00:00<?, ?it/s]"
          ]
        },
        {
          "output_type": "stream",
          "name": "stdout",
          "text": [
            "Shape of X:  torch.Size([16, 3, 256, 256])\n",
            "torch.Size([16, 3, 256, 256]) Entropy A1: 5.54489803314209, Entropy A2: 5.544909477233887\n"
          ]
        },
        {
          "output_type": "stream",
          "name": "stderr",
          "text": [
            "100%|██████████| 2/2 [00:00<00:00,  5.42it/s, D_fake=0.0153, D_real=0.984]\n"
          ]
        },
        {
          "output_type": "stream",
          "name": "stdout",
          "text": [
            "Shape of X:  torch.Size([4, 3, 256, 256])\n",
            "torch.Size([4, 3, 256, 256]) Entropy A1: 5.54489803314209, Entropy A2: 5.544914245605469\n",
            "Epoch [417/500], Avg Entropy A1: 5.54489803314209, Avg Entropy A2: 5.544911861419678\n"
          ]
        },
        {
          "output_type": "stream",
          "name": "stderr",
          "text": [
            "\r  0%|          | 0/2 [00:00<?, ?it/s]"
          ]
        },
        {
          "output_type": "stream",
          "name": "stdout",
          "text": [
            "Shape of X:  torch.Size([16, 3, 256, 256])\n",
            "torch.Size([16, 3, 256, 256]) Entropy A1: 5.544915676116943, Entropy A2: 5.544929504394531\n"
          ]
        },
        {
          "output_type": "stream",
          "name": "stderr",
          "text": [
            "100%|██████████| 2/2 [00:00<00:00,  5.47it/s, D_fake=0.0142, D_real=0.989]\n"
          ]
        },
        {
          "output_type": "stream",
          "name": "stdout",
          "text": [
            "Shape of X:  torch.Size([4, 3, 256, 256])\n",
            "torch.Size([4, 3, 256, 256]) Entropy A1: 5.544726371765137, Entropy A2: 5.544746398925781\n",
            "Epoch [418/500], Avg Entropy A1: 5.54482102394104, Avg Entropy A2: 5.544837951660156\n"
          ]
        },
        {
          "output_type": "stream",
          "name": "stderr",
          "text": [
            "\r  0%|          | 0/2 [00:00<?, ?it/s]"
          ]
        },
        {
          "output_type": "stream",
          "name": "stdout",
          "text": [
            "Shape of X:  torch.Size([16, 3, 256, 256])\n",
            "torch.Size([16, 3, 256, 256]) Entropy A1: 5.544951915740967, Entropy A2: 5.544961452484131\n"
          ]
        },
        {
          "output_type": "stream",
          "name": "stderr",
          "text": [
            "100%|██████████| 2/2 [00:00<00:00,  5.44it/s, D_fake=0.0113, D_real=0.989]\n"
          ]
        },
        {
          "output_type": "stream",
          "name": "stdout",
          "text": [
            "Shape of X:  torch.Size([4, 3, 256, 256])\n",
            "torch.Size([4, 3, 256, 256]) Entropy A1: 5.5447797775268555, Entropy A2: 5.5447998046875\n",
            "Epoch [419/500], Avg Entropy A1: 5.544865846633911, Avg Entropy A2: 5.544880628585815\n"
          ]
        },
        {
          "output_type": "stream",
          "name": "stderr",
          "text": [
            "\r  0%|          | 0/2 [00:00<?, ?it/s]"
          ]
        },
        {
          "output_type": "stream",
          "name": "stdout",
          "text": [
            "Shape of X:  torch.Size([16, 3, 256, 256])\n",
            "torch.Size([16, 3, 256, 256]) Entropy A1: 5.544931888580322, Entropy A2: 5.544943809509277\n"
          ]
        },
        {
          "output_type": "stream",
          "name": "stderr",
          "text": [
            "100%|██████████| 2/2 [00:00<00:00,  5.42it/s, D_fake=0.0112, D_real=0.992]\n"
          ]
        },
        {
          "output_type": "stream",
          "name": "stdout",
          "text": [
            "Shape of X:  torch.Size([4, 3, 256, 256])\n",
            "torch.Size([4, 3, 256, 256]) Entropy A1: 5.544968605041504, Entropy A2: 5.544975280761719\n",
            "Epoch [420/500], Avg Entropy A1: 5.544950246810913, Avg Entropy A2: 5.544959545135498\n"
          ]
        },
        {
          "output_type": "stream",
          "name": "stderr",
          "text": [
            "\r  0%|          | 0/2 [00:00<?, ?it/s]"
          ]
        },
        {
          "output_type": "stream",
          "name": "stdout",
          "text": [
            "Shape of X:  torch.Size([16, 3, 256, 256])\n",
            "torch.Size([16, 3, 256, 256]) Entropy A1: 5.544809341430664, Entropy A2: 5.544827461242676\n"
          ]
        },
        {
          "output_type": "stream",
          "name": "stderr",
          "text": [
            "100%|██████████| 2/2 [00:00<00:00,  5.19it/s, D_fake=0.0118, D_real=0.989]\n"
          ]
        },
        {
          "output_type": "stream",
          "name": "stdout",
          "text": [
            "Shape of X:  torch.Size([4, 3, 256, 256])\n",
            "torch.Size([4, 3, 256, 256]) Entropy A1: 5.545042037963867, Entropy A2: 5.545046806335449\n",
            "Epoch [421/500], Avg Entropy A1: 5.544925689697266, Avg Entropy A2: 5.5449371337890625\n"
          ]
        },
        {
          "output_type": "stream",
          "name": "stderr",
          "text": [
            "\r  0%|          | 0/2 [00:00<?, ?it/s]"
          ]
        },
        {
          "output_type": "stream",
          "name": "stdout",
          "text": [
            "Shape of X:  torch.Size([16, 3, 256, 256])\n",
            "torch.Size([16, 3, 256, 256]) Entropy A1: 5.545085430145264, Entropy A2: 5.545087814331055\n"
          ]
        },
        {
          "output_type": "stream",
          "name": "stderr",
          "text": [
            "100%|██████████| 2/2 [00:00<00:00,  5.45it/s, D_fake=0.00893, D_real=0.991]\n"
          ]
        },
        {
          "output_type": "stream",
          "name": "stdout",
          "text": [
            "Shape of X:  torch.Size([4, 3, 256, 256])\n",
            "torch.Size([4, 3, 256, 256]) Entropy A1: 5.544986724853516, Entropy A2: 5.544993877410889\n",
            "Epoch [422/500], Avg Entropy A1: 5.54503607749939, Avg Entropy A2: 5.545040845870972\n"
          ]
        },
        {
          "output_type": "stream",
          "name": "stderr",
          "text": [
            "\r  0%|          | 0/2 [00:00<?, ?it/s]"
          ]
        },
        {
          "output_type": "stream",
          "name": "stdout",
          "text": [
            "Shape of X:  torch.Size([16, 3, 256, 256])\n",
            "torch.Size([16, 3, 256, 256]) Entropy A1: 5.544745922088623, Entropy A2: 5.544775009155273\n"
          ]
        },
        {
          "output_type": "stream",
          "name": "stderr",
          "text": [
            "100%|██████████| 2/2 [00:00<00:00,  5.34it/s, D_fake=0.00865, D_real=0.992]\n"
          ]
        },
        {
          "output_type": "stream",
          "name": "stdout",
          "text": [
            "Shape of X:  torch.Size([4, 3, 256, 256])\n",
            "torch.Size([4, 3, 256, 256]) Entropy A1: 5.54500675201416, Entropy A2: 5.545012474060059\n",
            "Epoch [423/500], Avg Entropy A1: 5.544876337051392, Avg Entropy A2: 5.544893741607666\n"
          ]
        },
        {
          "output_type": "stream",
          "name": "stderr",
          "text": [
            "\r  0%|          | 0/2 [00:00<?, ?it/s]"
          ]
        },
        {
          "output_type": "stream",
          "name": "stdout",
          "text": [
            "Shape of X:  torch.Size([16, 3, 256, 256])\n",
            "torch.Size([16, 3, 256, 256]) Entropy A1: 5.544930458068848, Entropy A2: 5.54494047164917\n"
          ]
        },
        {
          "output_type": "stream",
          "name": "stderr",
          "text": [
            "100%|██████████| 2/2 [00:00<00:00,  5.48it/s, D_fake=0.00809, D_real=0.989]\n"
          ]
        },
        {
          "output_type": "stream",
          "name": "stdout",
          "text": [
            "Shape of X:  torch.Size([4, 3, 256, 256])\n",
            "torch.Size([4, 3, 256, 256]) Entropy A1: 5.544795989990234, Entropy A2: 5.544817924499512\n",
            "Epoch [424/500], Avg Entropy A1: 5.544863224029541, Avg Entropy A2: 5.544879198074341\n"
          ]
        },
        {
          "output_type": "stream",
          "name": "stderr",
          "text": [
            "\r  0%|          | 0/2 [00:00<?, ?it/s]"
          ]
        },
        {
          "output_type": "stream",
          "name": "stdout",
          "text": [
            "Shape of X:  torch.Size([16, 3, 256, 256])\n",
            "torch.Size([16, 3, 256, 256]) Entropy A1: 5.544883728027344, Entropy A2: 5.544896602630615\n"
          ]
        },
        {
          "output_type": "stream",
          "name": "stderr",
          "text": [
            "100%|██████████| 2/2 [00:00<00:00,  5.40it/s, D_fake=0.00904, D_real=0.99]\n"
          ]
        },
        {
          "output_type": "stream",
          "name": "stdout",
          "text": [
            "Shape of X:  torch.Size([4, 3, 256, 256])\n",
            "torch.Size([4, 3, 256, 256]) Entropy A1: 5.54484748840332, Entropy A2: 5.5448713302612305\n",
            "Epoch [425/500], Avg Entropy A1: 5.544865608215332, Avg Entropy A2: 5.544883966445923\n"
          ]
        },
        {
          "output_type": "stream",
          "name": "stderr",
          "text": [
            "\r  0%|          | 0/2 [00:00<?, ?it/s]"
          ]
        },
        {
          "output_type": "stream",
          "name": "stdout",
          "text": [
            "Shape of X:  torch.Size([16, 3, 256, 256])\n",
            "torch.Size([16, 3, 256, 256]) Entropy A1: 5.5449628829956055, Entropy A2: 5.544973373413086\n"
          ]
        },
        {
          "output_type": "stream",
          "name": "stderr",
          "text": [
            "100%|██████████| 2/2 [00:00<00:00,  5.41it/s, D_fake=0.00979, D_real=0.991]\n"
          ]
        },
        {
          "output_type": "stream",
          "name": "stdout",
          "text": [
            "Shape of X:  torch.Size([4, 3, 256, 256])\n",
            "torch.Size([4, 3, 256, 256]) Entropy A1: 5.544983863830566, Entropy A2: 5.544991493225098\n",
            "Epoch [426/500], Avg Entropy A1: 5.544973373413086, Avg Entropy A2: 5.544982433319092\n"
          ]
        },
        {
          "output_type": "stream",
          "name": "stderr",
          "text": [
            "\r  0%|          | 0/2 [00:00<?, ?it/s]"
          ]
        },
        {
          "output_type": "stream",
          "name": "stdout",
          "text": [
            "Shape of X:  torch.Size([16, 3, 256, 256])\n",
            "torch.Size([16, 3, 256, 256]) Entropy A1: 5.544976234436035, Entropy A2: 5.544985771179199\n"
          ]
        },
        {
          "output_type": "stream",
          "name": "stderr",
          "text": [
            "100%|██████████| 2/2 [00:00<00:00,  5.37it/s, D_fake=0.00808, D_real=0.995]\n"
          ]
        },
        {
          "output_type": "stream",
          "name": "stdout",
          "text": [
            "Shape of X:  torch.Size([4, 3, 256, 256])\n",
            "torch.Size([4, 3, 256, 256]) Entropy A1: 5.545076370239258, Entropy A2: 5.545079231262207\n",
            "Epoch [427/500], Avg Entropy A1: 5.5450263023376465, Avg Entropy A2: 5.545032501220703\n"
          ]
        },
        {
          "output_type": "stream",
          "name": "stderr",
          "text": [
            "\r  0%|          | 0/2 [00:00<?, ?it/s]"
          ]
        },
        {
          "output_type": "stream",
          "name": "stdout",
          "text": [
            "Shape of X:  torch.Size([16, 3, 256, 256])\n",
            "torch.Size([16, 3, 256, 256]) Entropy A1: 5.5449137687683105, Entropy A2: 5.54492712020874\n"
          ]
        },
        {
          "output_type": "stream",
          "name": "stderr",
          "text": [
            "100%|██████████| 2/2 [00:00<00:00,  5.48it/s, D_fake=0.014, D_real=0.986]\n"
          ]
        },
        {
          "output_type": "stream",
          "name": "stdout",
          "text": [
            "Shape of X:  torch.Size([4, 3, 256, 256])\n",
            "torch.Size([4, 3, 256, 256]) Entropy A1: 5.5449371337890625, Entropy A2: 5.544949531555176\n",
            "Epoch [428/500], Avg Entropy A1: 5.5449254512786865, Avg Entropy A2: 5.544938325881958\n"
          ]
        },
        {
          "output_type": "stream",
          "name": "stderr",
          "text": [
            "\r  0%|          | 0/2 [00:00<?, ?it/s]"
          ]
        },
        {
          "output_type": "stream",
          "name": "stdout",
          "text": [
            "Shape of X:  torch.Size([16, 3, 256, 256])\n",
            "torch.Size([16, 3, 256, 256]) Entropy A1: 5.544904708862305, Entropy A2: 5.544919013977051\n"
          ]
        },
        {
          "output_type": "stream",
          "name": "stderr",
          "text": [
            "100%|██████████| 2/2 [00:00<00:00,  5.35it/s, D_fake=0.0126, D_real=0.992]\n"
          ]
        },
        {
          "output_type": "stream",
          "name": "stdout",
          "text": [
            "Shape of X:  torch.Size([4, 3, 256, 256])\n",
            "torch.Size([4, 3, 256, 256]) Entropy A1: 5.544958591461182, Entropy A2: 5.544965744018555\n",
            "Epoch [429/500], Avg Entropy A1: 5.544931650161743, Avg Entropy A2: 5.544942378997803\n"
          ]
        },
        {
          "output_type": "stream",
          "name": "stderr",
          "text": [
            "\r  0%|          | 0/2 [00:00<?, ?it/s]"
          ]
        },
        {
          "output_type": "stream",
          "name": "stdout",
          "text": [
            "Shape of X:  torch.Size([16, 3, 256, 256])\n",
            "torch.Size([16, 3, 256, 256]) Entropy A1: 5.544751167297363, Entropy A2: 5.544774055480957\n"
          ]
        },
        {
          "output_type": "stream",
          "name": "stderr",
          "text": [
            "100%|██████████| 2/2 [00:00<00:00,  5.30it/s, D_fake=0.0125, D_real=0.994]\n"
          ]
        },
        {
          "output_type": "stream",
          "name": "stdout",
          "text": [
            "Shape of X:  torch.Size([4, 3, 256, 256])\n",
            "torch.Size([4, 3, 256, 256]) Entropy A1: 5.545052528381348, Entropy A2: 5.5450568199157715\n",
            "Epoch [430/500], Avg Entropy A1: 5.5449018478393555, Avg Entropy A2: 5.544915437698364\n"
          ]
        },
        {
          "output_type": "stream",
          "name": "stderr",
          "text": [
            "\r  0%|          | 0/2 [00:00<?, ?it/s]"
          ]
        },
        {
          "output_type": "stream",
          "name": "stdout",
          "text": [
            "Shape of X:  torch.Size([16, 3, 256, 256])\n",
            "torch.Size([16, 3, 256, 256]) Entropy A1: 5.544807434082031, Entropy A2: 5.544826984405518\n"
          ]
        },
        {
          "output_type": "stream",
          "name": "stderr",
          "text": [
            "100%|██████████| 2/2 [00:00<00:00,  5.39it/s, D_fake=0.0147, D_real=0.993]\n"
          ]
        },
        {
          "output_type": "stream",
          "name": "stdout",
          "text": [
            "Shape of X:  torch.Size([4, 3, 256, 256])\n",
            "torch.Size([4, 3, 256, 256]) Entropy A1: 5.544884204864502, Entropy A2: 5.544898986816406\n",
            "Epoch [431/500], Avg Entropy A1: 5.544845819473267, Avg Entropy A2: 5.544862985610962\n"
          ]
        },
        {
          "output_type": "stream",
          "name": "stderr",
          "text": [
            "\r  0%|          | 0/2 [00:00<?, ?it/s]"
          ]
        },
        {
          "output_type": "stream",
          "name": "stdout",
          "text": [
            "Shape of X:  torch.Size([16, 3, 256, 256])\n",
            "torch.Size([16, 3, 256, 256]) Entropy A1: 5.544975280761719, Entropy A2: 5.54498291015625\n"
          ]
        },
        {
          "output_type": "stream",
          "name": "stderr",
          "text": [
            "100%|██████████| 2/2 [00:00<00:00,  5.35it/s, D_fake=0.0103, D_real=0.994]\n"
          ]
        },
        {
          "output_type": "stream",
          "name": "stdout",
          "text": [
            "Shape of X:  torch.Size([4, 3, 256, 256])\n",
            "torch.Size([4, 3, 256, 256]) Entropy A1: 5.544970989227295, Entropy A2: 5.544977188110352\n",
            "Epoch [432/500], Avg Entropy A1: 5.544973134994507, Avg Entropy A2: 5.544980049133301\n"
          ]
        },
        {
          "output_type": "stream",
          "name": "stderr",
          "text": [
            "\r  0%|          | 0/2 [00:00<?, ?it/s]"
          ]
        },
        {
          "output_type": "stream",
          "name": "stdout",
          "text": [
            "Shape of X:  torch.Size([16, 3, 256, 256])\n",
            "torch.Size([16, 3, 256, 256]) Entropy A1: 5.544962406158447, Entropy A2: 5.544970512390137\n"
          ]
        },
        {
          "output_type": "stream",
          "name": "stderr",
          "text": [
            "100%|██████████| 2/2 [00:00<00:00,  5.44it/s, D_fake=0.0105, D_real=0.993]\n"
          ]
        },
        {
          "output_type": "stream",
          "name": "stdout",
          "text": [
            "Shape of X:  torch.Size([4, 3, 256, 256])\n",
            "torch.Size([4, 3, 256, 256]) Entropy A1: 5.54482364654541, Entropy A2: 5.544841766357422\n",
            "Epoch [433/500], Avg Entropy A1: 5.544893026351929, Avg Entropy A2: 5.544906139373779\n"
          ]
        },
        {
          "output_type": "stream",
          "name": "stderr",
          "text": [
            "\r  0%|          | 0/2 [00:00<?, ?it/s]"
          ]
        },
        {
          "output_type": "stream",
          "name": "stdout",
          "text": [
            "Shape of X:  torch.Size([16, 3, 256, 256])\n",
            "torch.Size([16, 3, 256, 256]) Entropy A1: 5.544807434082031, Entropy A2: 5.544827461242676\n"
          ]
        },
        {
          "output_type": "stream",
          "name": "stderr",
          "text": [
            "100%|██████████| 2/2 [00:00<00:00,  5.33it/s, D_fake=0.00979, D_real=0.996]\n"
          ]
        },
        {
          "output_type": "stream",
          "name": "stdout",
          "text": [
            "Shape of X:  torch.Size([4, 3, 256, 256])\n",
            "torch.Size([4, 3, 256, 256]) Entropy A1: 5.545079708099365, Entropy A2: 5.545082092285156\n",
            "Epoch [434/500], Avg Entropy A1: 5.544943571090698, Avg Entropy A2: 5.544954776763916\n"
          ]
        },
        {
          "output_type": "stream",
          "name": "stderr",
          "text": [
            "\r  0%|          | 0/2 [00:00<?, ?it/s]"
          ]
        },
        {
          "output_type": "stream",
          "name": "stdout",
          "text": [
            "Shape of X:  torch.Size([16, 3, 256, 256])\n",
            "torch.Size([16, 3, 256, 256]) Entropy A1: 5.544679164886475, Entropy A2: 5.544712543487549\n"
          ]
        },
        {
          "output_type": "stream",
          "name": "stderr",
          "text": [
            "100%|██████████| 2/2 [00:00<00:00,  5.18it/s, D_fake=0.0118, D_real=0.995]\n"
          ]
        },
        {
          "output_type": "stream",
          "name": "stdout",
          "text": [
            "Shape of X:  torch.Size([4, 3, 256, 256])\n",
            "torch.Size([4, 3, 256, 256]) Entropy A1: 5.544977188110352, Entropy A2: 5.544985771179199\n",
            "Epoch [435/500], Avg Entropy A1: 5.544828176498413, Avg Entropy A2: 5.544849157333374\n"
          ]
        },
        {
          "output_type": "stream",
          "name": "stderr",
          "text": [
            "\r  0%|          | 0/2 [00:00<?, ?it/s]"
          ]
        },
        {
          "output_type": "stream",
          "name": "stdout",
          "text": [
            "Shape of X:  torch.Size([16, 3, 256, 256])\n",
            "torch.Size([16, 3, 256, 256]) Entropy A1: 5.544898986816406, Entropy A2: 5.544912338256836\n"
          ]
        },
        {
          "output_type": "stream",
          "name": "stderr",
          "text": [
            "100%|██████████| 2/2 [00:00<00:00,  4.96it/s, D_fake=0.00819, D_real=0.996]\n"
          ]
        },
        {
          "output_type": "stream",
          "name": "stdout",
          "text": [
            "Shape of X:  torch.Size([4, 3, 256, 256])\n",
            "torch.Size([4, 3, 256, 256]) Entropy A1: 5.544898986816406, Entropy A2: 5.544910430908203\n",
            "Epoch [436/500], Avg Entropy A1: 5.544898986816406, Avg Entropy A2: 5.5449113845825195\n"
          ]
        },
        {
          "output_type": "stream",
          "name": "stderr",
          "text": [
            "\r  0%|          | 0/2 [00:00<?, ?it/s]"
          ]
        },
        {
          "output_type": "stream",
          "name": "stdout",
          "text": [
            "Shape of X:  torch.Size([16, 3, 256, 256])\n",
            "torch.Size([16, 3, 256, 256]) Entropy A1: 5.544900417327881, Entropy A2: 5.544912338256836\n"
          ]
        },
        {
          "output_type": "stream",
          "name": "stderr",
          "text": [
            "100%|██████████| 2/2 [00:00<00:00,  5.23it/s, D_fake=0.00951, D_real=0.995]\n"
          ]
        },
        {
          "output_type": "stream",
          "name": "stdout",
          "text": [
            "Shape of X:  torch.Size([4, 3, 256, 256])\n",
            "torch.Size([4, 3, 256, 256]) Entropy A1: 5.544768810272217, Entropy A2: 5.544788360595703\n",
            "Epoch [437/500], Avg Entropy A1: 5.544834613800049, Avg Entropy A2: 5.5448503494262695\n"
          ]
        },
        {
          "output_type": "stream",
          "name": "stderr",
          "text": [
            "\r  0%|          | 0/2 [00:00<?, ?it/s]"
          ]
        },
        {
          "output_type": "stream",
          "name": "stdout",
          "text": [
            "Shape of X:  torch.Size([16, 3, 256, 256])\n",
            "torch.Size([16, 3, 256, 256]) Entropy A1: 5.544785499572754, Entropy A2: 5.544805526733398\n"
          ]
        },
        {
          "output_type": "stream",
          "name": "stderr",
          "text": [
            "100%|██████████| 2/2 [00:00<00:00,  5.19it/s, D_fake=0.00847, D_real=0.994]\n"
          ]
        },
        {
          "output_type": "stream",
          "name": "stdout",
          "text": [
            "Shape of X:  torch.Size([4, 3, 256, 256])\n",
            "torch.Size([4, 3, 256, 256]) Entropy A1: 5.544894218444824, Entropy A2: 5.5449066162109375\n",
            "Epoch [438/500], Avg Entropy A1: 5.544839859008789, Avg Entropy A2: 5.544856071472168\n"
          ]
        },
        {
          "output_type": "stream",
          "name": "stderr",
          "text": [
            "\r  0%|          | 0/2 [00:00<?, ?it/s]"
          ]
        },
        {
          "output_type": "stream",
          "name": "stdout",
          "text": [
            "Shape of X:  torch.Size([16, 3, 256, 256])\n",
            "torch.Size([16, 3, 256, 256]) Entropy A1: 5.54496431350708, Entropy A2: 5.5449748039245605\n"
          ]
        },
        {
          "output_type": "stream",
          "name": "stderr",
          "text": [
            "100%|██████████| 2/2 [00:00<00:00,  5.38it/s, D_fake=0.0109, D_real=0.994]\n"
          ]
        },
        {
          "output_type": "stream",
          "name": "stdout",
          "text": [
            "Shape of X:  torch.Size([4, 3, 256, 256])\n",
            "torch.Size([4, 3, 256, 256]) Entropy A1: 5.544777870178223, Entropy A2: 5.544795989990234\n",
            "Epoch [439/500], Avg Entropy A1: 5.544871091842651, Avg Entropy A2: 5.5448853969573975\n"
          ]
        },
        {
          "output_type": "stream",
          "name": "stderr",
          "text": [
            "\r  0%|          | 0/2 [00:00<?, ?it/s]"
          ]
        },
        {
          "output_type": "stream",
          "name": "stdout",
          "text": [
            "Shape of X:  torch.Size([16, 3, 256, 256])\n",
            "torch.Size([16, 3, 256, 256]) Entropy A1: 5.544957637786865, Entropy A2: 5.5449676513671875\n"
          ]
        },
        {
          "output_type": "stream",
          "name": "stderr",
          "text": [
            "100%|██████████| 2/2 [00:00<00:00,  5.40it/s, D_fake=0.00903, D_real=0.993]\n"
          ]
        },
        {
          "output_type": "stream",
          "name": "stdout",
          "text": [
            "Shape of X:  torch.Size([4, 3, 256, 256])\n",
            "torch.Size([4, 3, 256, 256]) Entropy A1: 5.544961929321289, Entropy A2: 5.544969081878662\n",
            "Epoch [440/500], Avg Entropy A1: 5.544959783554077, Avg Entropy A2: 5.544968366622925\n"
          ]
        },
        {
          "output_type": "stream",
          "name": "stderr",
          "text": [
            "\r  0%|          | 0/2 [00:00<?, ?it/s]"
          ]
        },
        {
          "output_type": "stream",
          "name": "stdout",
          "text": [
            "Shape of X:  torch.Size([16, 3, 256, 256])\n",
            "torch.Size([16, 3, 256, 256]) Entropy A1: 5.544954776763916, Entropy A2: 5.544964790344238\n"
          ]
        },
        {
          "output_type": "stream",
          "name": "stderr",
          "text": [
            "100%|██████████| 2/2 [00:00<00:00,  5.06it/s, D_fake=0.00615, D_real=0.994]\n"
          ]
        },
        {
          "output_type": "stream",
          "name": "stdout",
          "text": [
            "Shape of X:  torch.Size([4, 3, 256, 256])\n",
            "torch.Size([4, 3, 256, 256]) Entropy A1: 5.54473876953125, Entropy A2: 5.544758319854736\n",
            "Epoch [441/500], Avg Entropy A1: 5.544846773147583, Avg Entropy A2: 5.544861555099487\n"
          ]
        },
        {
          "output_type": "stream",
          "name": "stderr",
          "text": [
            "\r  0%|          | 0/2 [00:00<?, ?it/s]"
          ]
        },
        {
          "output_type": "stream",
          "name": "stdout",
          "text": [
            "Shape of X:  torch.Size([16, 3, 256, 256])\n",
            "torch.Size([16, 3, 256, 256]) Entropy A1: 5.545034408569336, Entropy A2: 5.545039176940918\n"
          ]
        },
        {
          "output_type": "stream",
          "name": "stderr",
          "text": [
            "100%|██████████| 2/2 [00:00<00:00,  4.98it/s, D_fake=0.00725, D_real=0.996]\n"
          ]
        },
        {
          "output_type": "stream",
          "name": "stdout",
          "text": [
            "Shape of X:  torch.Size([4, 3, 256, 256])\n",
            "torch.Size([4, 3, 256, 256]) Entropy A1: 5.544929504394531, Entropy A2: 5.544941425323486\n",
            "Epoch [442/500], Avg Entropy A1: 5.544981956481934, Avg Entropy A2: 5.544990301132202\n"
          ]
        },
        {
          "output_type": "stream",
          "name": "stderr",
          "text": [
            "\r  0%|          | 0/2 [00:00<?, ?it/s]"
          ]
        },
        {
          "output_type": "stream",
          "name": "stdout",
          "text": [
            "Shape of X:  torch.Size([16, 3, 256, 256])\n",
            "torch.Size([16, 3, 256, 256]) Entropy A1: 5.544931411743164, Entropy A2: 5.544943332672119\n"
          ]
        },
        {
          "output_type": "stream",
          "name": "stderr",
          "text": [
            "100%|██████████| 2/2 [00:00<00:00,  5.17it/s, D_fake=0.00815, D_real=0.989]\n"
          ]
        },
        {
          "output_type": "stream",
          "name": "stdout",
          "text": [
            "Shape of X:  torch.Size([4, 3, 256, 256])\n",
            "torch.Size([4, 3, 256, 256]) Entropy A1: 5.544912338256836, Entropy A2: 5.544922828674316\n",
            "Epoch [443/500], Avg Entropy A1: 5.544921875, Avg Entropy A2: 5.544933080673218\n"
          ]
        },
        {
          "output_type": "stream",
          "name": "stderr",
          "text": [
            "\r  0%|          | 0/2 [00:00<?, ?it/s]"
          ]
        },
        {
          "output_type": "stream",
          "name": "stdout",
          "text": [
            "Shape of X:  torch.Size([16, 3, 256, 256])\n",
            "torch.Size([16, 3, 256, 256]) Entropy A1: 5.545036792755127, Entropy A2: 5.545041084289551\n"
          ]
        },
        {
          "output_type": "stream",
          "name": "stderr",
          "text": [
            "100%|██████████| 2/2 [00:00<00:00,  5.06it/s, D_fake=0.00728, D_real=0.993]\n"
          ]
        },
        {
          "output_type": "stream",
          "name": "stdout",
          "text": [
            "Shape of X:  torch.Size([4, 3, 256, 256])\n",
            "torch.Size([4, 3, 256, 256]) Entropy A1: 5.544764041900635, Entropy A2: 5.544785499572754\n",
            "Epoch [444/500], Avg Entropy A1: 5.544900417327881, Avg Entropy A2: 5.544913291931152\n"
          ]
        },
        {
          "output_type": "stream",
          "name": "stderr",
          "text": [
            "\r  0%|          | 0/2 [00:00<?, ?it/s]"
          ]
        },
        {
          "output_type": "stream",
          "name": "stdout",
          "text": [
            "Shape of X:  torch.Size([16, 3, 256, 256])\n",
            "torch.Size([16, 3, 256, 256]) Entropy A1: 5.544938564300537, Entropy A2: 5.544950008392334\n"
          ]
        },
        {
          "output_type": "stream",
          "name": "stderr",
          "text": [
            "100%|██████████| 2/2 [00:00<00:00,  4.86it/s, D_fake=0.0103, D_real=0.982]\n"
          ]
        },
        {
          "output_type": "stream",
          "name": "stdout",
          "text": [
            "Shape of X:  torch.Size([4, 3, 256, 256])\n",
            "torch.Size([4, 3, 256, 256]) Entropy A1: 5.544967174530029, Entropy A2: 5.5449748039245605\n",
            "Epoch [445/500], Avg Entropy A1: 5.544952869415283, Avg Entropy A2: 5.544962406158447\n"
          ]
        },
        {
          "output_type": "stream",
          "name": "stderr",
          "text": [
            "\r  0%|          | 0/2 [00:00<?, ?it/s]"
          ]
        },
        {
          "output_type": "stream",
          "name": "stdout",
          "text": [
            "Shape of X:  torch.Size([16, 3, 256, 256])\n",
            "torch.Size([16, 3, 256, 256]) Entropy A1: 5.544904708862305, Entropy A2: 5.544918060302734\n"
          ]
        },
        {
          "output_type": "stream",
          "name": "stderr",
          "text": [
            "100%|██████████| 2/2 [00:00<00:00,  4.95it/s, D_fake=0.0101, D_real=0.989]\n"
          ]
        },
        {
          "output_type": "stream",
          "name": "stdout",
          "text": [
            "Shape of X:  torch.Size([4, 3, 256, 256])\n",
            "torch.Size([4, 3, 256, 256]) Entropy A1: 5.544929504394531, Entropy A2: 5.5449419021606445\n",
            "Epoch [446/500], Avg Entropy A1: 5.544917106628418, Avg Entropy A2: 5.5449299812316895\n"
          ]
        },
        {
          "output_type": "stream",
          "name": "stderr",
          "text": [
            "\r  0%|          | 0/2 [00:00<?, ?it/s]"
          ]
        },
        {
          "output_type": "stream",
          "name": "stdout",
          "text": [
            "Shape of X:  torch.Size([16, 3, 256, 256])\n",
            "torch.Size([16, 3, 256, 256]) Entropy A1: 5.545011520385742, Entropy A2: 5.545018196105957\n"
          ]
        },
        {
          "output_type": "stream",
          "name": "stderr",
          "text": [
            "100%|██████████| 2/2 [00:00<00:00,  5.35it/s, D_fake=0.0104, D_real=0.99]\n"
          ]
        },
        {
          "output_type": "stream",
          "name": "stdout",
          "text": [
            "Shape of X:  torch.Size([4, 3, 256, 256])\n",
            "torch.Size([4, 3, 256, 256]) Entropy A1: 5.544849395751953, Entropy A2: 5.544864177703857\n",
            "Epoch [447/500], Avg Entropy A1: 5.544930458068848, Avg Entropy A2: 5.544941186904907\n"
          ]
        },
        {
          "output_type": "stream",
          "name": "stderr",
          "text": [
            "\r  0%|          | 0/2 [00:00<?, ?it/s]"
          ]
        },
        {
          "output_type": "stream",
          "name": "stdout",
          "text": [
            "Shape of X:  torch.Size([16, 3, 256, 256])\n",
            "torch.Size([16, 3, 256, 256]) Entropy A1: 5.545018196105957, Entropy A2: 5.545022964477539\n"
          ]
        },
        {
          "output_type": "stream",
          "name": "stderr",
          "text": [
            "100%|██████████| 2/2 [00:00<00:00,  5.37it/s, D_fake=0.00614, D_real=0.992]\n"
          ]
        },
        {
          "output_type": "stream",
          "name": "stdout",
          "text": [
            "Shape of X:  torch.Size([4, 3, 256, 256])\n",
            "torch.Size([4, 3, 256, 256]) Entropy A1: 5.544889450073242, Entropy A2: 5.544903755187988\n",
            "Epoch [448/500], Avg Entropy A1: 5.5449538230896, Avg Entropy A2: 5.544963359832764\n"
          ]
        },
        {
          "output_type": "stream",
          "name": "stderr",
          "text": [
            "\r  0%|          | 0/2 [00:00<?, ?it/s]"
          ]
        },
        {
          "output_type": "stream",
          "name": "stdout",
          "text": [
            "Shape of X:  torch.Size([16, 3, 256, 256])\n",
            "torch.Size([16, 3, 256, 256]) Entropy A1: 5.544887065887451, Entropy A2: 5.544901371002197\n"
          ]
        },
        {
          "output_type": "stream",
          "name": "stderr",
          "text": [
            "100%|██████████| 2/2 [00:00<00:00,  5.33it/s, D_fake=0.0101, D_real=0.991]\n"
          ]
        },
        {
          "output_type": "stream",
          "name": "stdout",
          "text": [
            "Shape of X:  torch.Size([4, 3, 256, 256])\n",
            "torch.Size([4, 3, 256, 256]) Entropy A1: 5.54473876953125, Entropy A2: 5.544768333435059\n",
            "Epoch [449/500], Avg Entropy A1: 5.544812917709351, Avg Entropy A2: 5.544834852218628\n"
          ]
        },
        {
          "output_type": "stream",
          "name": "stderr",
          "text": [
            "\r  0%|          | 0/2 [00:00<?, ?it/s]"
          ]
        },
        {
          "output_type": "stream",
          "name": "stdout",
          "text": [
            "Shape of X:  torch.Size([16, 3, 256, 256])\n",
            "torch.Size([16, 3, 256, 256]) Entropy A1: 5.54487419128418, Entropy A2: 5.544888973236084\n"
          ]
        },
        {
          "output_type": "stream",
          "name": "stderr",
          "text": [
            "100%|██████████| 2/2 [00:00<00:00,  5.40it/s, D_fake=0.00796, D_real=0.993]\n"
          ]
        },
        {
          "output_type": "stream",
          "name": "stdout",
          "text": [
            "Shape of X:  torch.Size([4, 3, 256, 256])\n",
            "torch.Size([4, 3, 256, 256]) Entropy A1: 5.544898986816406, Entropy A2: 5.544913291931152\n",
            "Epoch [450/500], Avg Entropy A1: 5.544886589050293, Avg Entropy A2: 5.544901132583618\n",
            "Saving model at epoch 449\n",
            "Shape of x at save:  torch.Size([5, 3, 256, 256])\n"
          ]
        },
        {
          "output_type": "stream",
          "name": "stderr",
          "text": [
            "\r  0%|          | 0/2 [00:00<?, ?it/s]"
          ]
        },
        {
          "output_type": "stream",
          "name": "stdout",
          "text": [
            "Shape of X:  torch.Size([16, 3, 256, 256])\n",
            "torch.Size([16, 3, 256, 256]) Entropy A1: 5.544965744018555, Entropy A2: 5.544976234436035\n"
          ]
        },
        {
          "output_type": "stream",
          "name": "stderr",
          "text": [
            "100%|██████████| 2/2 [00:00<00:00,  4.30it/s, D_fake=0.0103, D_real=0.993]\n"
          ]
        },
        {
          "output_type": "stream",
          "name": "stdout",
          "text": [
            "Shape of X:  torch.Size([4, 3, 256, 256])\n",
            "torch.Size([4, 3, 256, 256]) Entropy A1: 5.545051574707031, Entropy A2: 5.545055389404297\n",
            "Epoch [451/500], Avg Entropy A1: 5.545008659362793, Avg Entropy A2: 5.545015811920166\n"
          ]
        },
        {
          "output_type": "stream",
          "name": "stderr",
          "text": [
            "\r  0%|          | 0/2 [00:00<?, ?it/s]"
          ]
        },
        {
          "output_type": "stream",
          "name": "stdout",
          "text": [
            "Shape of X:  torch.Size([16, 3, 256, 256])\n",
            "torch.Size([16, 3, 256, 256]) Entropy A1: 5.544904708862305, Entropy A2: 5.544918537139893\n"
          ]
        },
        {
          "output_type": "stream",
          "name": "stderr",
          "text": [
            "100%|██████████| 2/2 [00:00<00:00,  5.04it/s, D_fake=0.008, D_real=0.994]\n"
          ]
        },
        {
          "output_type": "stream",
          "name": "stdout",
          "text": [
            "Shape of X:  torch.Size([4, 3, 256, 256])\n",
            "torch.Size([4, 3, 256, 256]) Entropy A1: 5.544919013977051, Entropy A2: 5.544929027557373\n",
            "Epoch [452/500], Avg Entropy A1: 5.544911861419678, Avg Entropy A2: 5.544923782348633\n"
          ]
        },
        {
          "output_type": "stream",
          "name": "stderr",
          "text": [
            "\r  0%|          | 0/2 [00:00<?, ?it/s]"
          ]
        },
        {
          "output_type": "stream",
          "name": "stdout",
          "text": [
            "Shape of X:  torch.Size([16, 3, 256, 256])\n",
            "torch.Size([16, 3, 256, 256]) Entropy A1: 5.544702529907227, Entropy A2: 5.544742584228516\n"
          ]
        },
        {
          "output_type": "stream",
          "name": "stderr",
          "text": [
            "100%|██████████| 2/2 [00:00<00:00,  5.09it/s, D_fake=0.00982, D_real=0.994]\n"
          ]
        },
        {
          "output_type": "stream",
          "name": "stdout",
          "text": [
            "Shape of X:  torch.Size([4, 3, 256, 256])\n",
            "torch.Size([4, 3, 256, 256]) Entropy A1: 5.544856071472168, Entropy A2: 5.544875621795654\n",
            "Epoch [453/500], Avg Entropy A1: 5.544779300689697, Avg Entropy A2: 5.544809103012085\n"
          ]
        },
        {
          "output_type": "stream",
          "name": "stderr",
          "text": [
            "\r  0%|          | 0/2 [00:00<?, ?it/s]"
          ]
        },
        {
          "output_type": "stream",
          "name": "stdout",
          "text": [
            "Shape of X:  torch.Size([16, 3, 256, 256])\n",
            "torch.Size([16, 3, 256, 256]) Entropy A1: 5.544981002807617, Entropy A2: 5.544990062713623\n"
          ]
        },
        {
          "output_type": "stream",
          "name": "stderr",
          "text": [
            "100%|██████████| 2/2 [00:00<00:00,  5.00it/s, D_fake=0.00617, D_real=0.996]\n"
          ]
        },
        {
          "output_type": "stream",
          "name": "stdout",
          "text": [
            "Shape of X:  torch.Size([4, 3, 256, 256])\n",
            "torch.Size([4, 3, 256, 256]) Entropy A1: 5.54495096206665, Entropy A2: 5.5449628829956055\n",
            "Epoch [454/500], Avg Entropy A1: 5.544965982437134, Avg Entropy A2: 5.544976472854614\n"
          ]
        },
        {
          "output_type": "stream",
          "name": "stderr",
          "text": [
            "\r  0%|          | 0/2 [00:00<?, ?it/s]"
          ]
        },
        {
          "output_type": "stream",
          "name": "stdout",
          "text": [
            "Shape of X:  torch.Size([16, 3, 256, 256])\n",
            "torch.Size([16, 3, 256, 256]) Entropy A1: 5.545017242431641, Entropy A2: 5.545022964477539\n"
          ]
        },
        {
          "output_type": "stream",
          "name": "stderr",
          "text": [
            "100%|██████████| 2/2 [00:00<00:00,  4.82it/s, D_fake=0.00757, D_real=0.993]\n"
          ]
        },
        {
          "output_type": "stream",
          "name": "stdout",
          "text": [
            "Shape of X:  torch.Size([4, 3, 256, 256])\n",
            "torch.Size([4, 3, 256, 256]) Entropy A1: 5.544929027557373, Entropy A2: 5.5449419021606445\n",
            "Epoch [455/500], Avg Entropy A1: 5.544973134994507, Avg Entropy A2: 5.544982433319092\n"
          ]
        },
        {
          "output_type": "stream",
          "name": "stderr",
          "text": [
            "\r  0%|          | 0/2 [00:00<?, ?it/s]"
          ]
        },
        {
          "output_type": "stream",
          "name": "stdout",
          "text": [
            "Shape of X:  torch.Size([16, 3, 256, 256])\n",
            "torch.Size([16, 3, 256, 256]) Entropy A1: 5.545008659362793, Entropy A2: 5.545015335083008\n"
          ]
        },
        {
          "output_type": "stream",
          "name": "stderr",
          "text": [
            "100%|██████████| 2/2 [00:00<00:00,  5.04it/s, D_fake=0.00601, D_real=0.996]\n"
          ]
        },
        {
          "output_type": "stream",
          "name": "stdout",
          "text": [
            "Shape of X:  torch.Size([4, 3, 256, 256])\n",
            "torch.Size([4, 3, 256, 256]) Entropy A1: 5.544930934906006, Entropy A2: 5.544942855834961\n",
            "Epoch [456/500], Avg Entropy A1: 5.544969797134399, Avg Entropy A2: 5.544979095458984\n"
          ]
        },
        {
          "output_type": "stream",
          "name": "stderr",
          "text": [
            "\r  0%|          | 0/2 [00:00<?, ?it/s]"
          ]
        },
        {
          "output_type": "stream",
          "name": "stdout",
          "text": [
            "Shape of X:  torch.Size([16, 3, 256, 256])\n",
            "torch.Size([16, 3, 256, 256]) Entropy A1: 5.544981002807617, Entropy A2: 5.544989585876465\n"
          ]
        },
        {
          "output_type": "stream",
          "name": "stderr",
          "text": [
            "100%|██████████| 2/2 [00:00<00:00,  5.09it/s, D_fake=0.00832, D_real=0.994]\n"
          ]
        },
        {
          "output_type": "stream",
          "name": "stdout",
          "text": [
            "Shape of X:  torch.Size([4, 3, 256, 256])\n",
            "torch.Size([4, 3, 256, 256]) Entropy A1: 5.544927597045898, Entropy A2: 5.5449371337890625\n",
            "Epoch [457/500], Avg Entropy A1: 5.544954299926758, Avg Entropy A2: 5.544963359832764\n"
          ]
        },
        {
          "output_type": "stream",
          "name": "stderr",
          "text": [
            "\r  0%|          | 0/2 [00:00<?, ?it/s]"
          ]
        },
        {
          "output_type": "stream",
          "name": "stdout",
          "text": [
            "Shape of X:  torch.Size([16, 3, 256, 256])\n",
            "torch.Size([16, 3, 256, 256]) Entropy A1: 5.544898986816406, Entropy A2: 5.544911861419678\n"
          ]
        },
        {
          "output_type": "stream",
          "name": "stderr",
          "text": [
            "100%|██████████| 2/2 [00:00<00:00,  4.90it/s, D_fake=0.00772, D_real=0.995]\n"
          ]
        },
        {
          "output_type": "stream",
          "name": "stdout",
          "text": [
            "Shape of X:  torch.Size([4, 3, 256, 256])\n",
            "torch.Size([4, 3, 256, 256]) Entropy A1: 5.5449676513671875, Entropy A2: 5.544977188110352\n",
            "Epoch [458/500], Avg Entropy A1: 5.544933319091797, Avg Entropy A2: 5.544944524765015\n"
          ]
        },
        {
          "output_type": "stream",
          "name": "stderr",
          "text": [
            "\r  0%|          | 0/2 [00:00<?, ?it/s]"
          ]
        },
        {
          "output_type": "stream",
          "name": "stdout",
          "text": [
            "Shape of X:  torch.Size([16, 3, 256, 256])\n",
            "torch.Size([16, 3, 256, 256]) Entropy A1: 5.544983386993408, Entropy A2: 5.544991493225098\n"
          ]
        },
        {
          "output_type": "stream",
          "name": "stderr",
          "text": [
            "100%|██████████| 2/2 [00:00<00:00,  5.40it/s, D_fake=0.00731, D_real=0.994]\n"
          ]
        },
        {
          "output_type": "stream",
          "name": "stdout",
          "text": [
            "Shape of X:  torch.Size([4, 3, 256, 256])\n",
            "torch.Size([4, 3, 256, 256]) Entropy A1: 5.5449371337890625, Entropy A2: 5.544946670532227\n",
            "Epoch [459/500], Avg Entropy A1: 5.544960260391235, Avg Entropy A2: 5.544969081878662\n"
          ]
        },
        {
          "output_type": "stream",
          "name": "stderr",
          "text": [
            "\r  0%|          | 0/2 [00:00<?, ?it/s]"
          ]
        },
        {
          "output_type": "stream",
          "name": "stdout",
          "text": [
            "Shape of X:  torch.Size([16, 3, 256, 256])\n",
            "torch.Size([16, 3, 256, 256]) Entropy A1: 5.544851779937744, Entropy A2: 5.544872283935547\n"
          ]
        },
        {
          "output_type": "stream",
          "name": "stderr",
          "text": [
            "100%|██████████| 2/2 [00:00<00:00,  5.33it/s, D_fake=0.00679, D_real=0.995]\n"
          ]
        },
        {
          "output_type": "stream",
          "name": "stdout",
          "text": [
            "Shape of X:  torch.Size([4, 3, 256, 256])\n",
            "torch.Size([4, 3, 256, 256]) Entropy A1: 5.544926643371582, Entropy A2: 5.5449395179748535\n",
            "Epoch [460/500], Avg Entropy A1: 5.544889211654663, Avg Entropy A2: 5.5449059009552\n"
          ]
        },
        {
          "output_type": "stream",
          "name": "stderr",
          "text": [
            "\r  0%|          | 0/2 [00:00<?, ?it/s]"
          ]
        },
        {
          "output_type": "stream",
          "name": "stdout",
          "text": [
            "Shape of X:  torch.Size([16, 3, 256, 256])\n",
            "torch.Size([16, 3, 256, 256]) Entropy A1: 5.544875144958496, Entropy A2: 5.544891357421875\n"
          ]
        },
        {
          "output_type": "stream",
          "name": "stderr",
          "text": [
            "100%|██████████| 2/2 [00:00<00:00,  5.04it/s, D_fake=0.0079, D_real=0.991]\n"
          ]
        },
        {
          "output_type": "stream",
          "name": "stdout",
          "text": [
            "Shape of X:  torch.Size([4, 3, 256, 256])\n",
            "torch.Size([4, 3, 256, 256]) Entropy A1: 5.54490327835083, Entropy A2: 5.544919013977051\n",
            "Epoch [461/500], Avg Entropy A1: 5.544889211654663, Avg Entropy A2: 5.544905185699463\n"
          ]
        },
        {
          "output_type": "stream",
          "name": "stderr",
          "text": [
            "\r  0%|          | 0/2 [00:00<?, ?it/s]"
          ]
        },
        {
          "output_type": "stream",
          "name": "stdout",
          "text": [
            "Shape of X:  torch.Size([16, 3, 256, 256])\n",
            "torch.Size([16, 3, 256, 256]) Entropy A1: 5.544948577880859, Entropy A2: 5.54495906829834\n"
          ]
        },
        {
          "output_type": "stream",
          "name": "stderr",
          "text": [
            "100%|██████████| 2/2 [00:00<00:00,  5.48it/s, D_fake=0.00592, D_real=0.995]\n"
          ]
        },
        {
          "output_type": "stream",
          "name": "stdout",
          "text": [
            "Shape of X:  torch.Size([4, 3, 256, 256])\n",
            "torch.Size([4, 3, 256, 256]) Entropy A1: 5.544995307922363, Entropy A2: 5.5450029373168945\n",
            "Epoch [462/500], Avg Entropy A1: 5.544971942901611, Avg Entropy A2: 5.544981002807617\n"
          ]
        },
        {
          "output_type": "stream",
          "name": "stderr",
          "text": [
            "\r  0%|          | 0/2 [00:00<?, ?it/s]"
          ]
        },
        {
          "output_type": "stream",
          "name": "stdout",
          "text": [
            "Shape of X:  torch.Size([16, 3, 256, 256])\n",
            "torch.Size([16, 3, 256, 256]) Entropy A1: 5.54495906829834, Entropy A2: 5.54496955871582\n"
          ]
        },
        {
          "output_type": "stream",
          "name": "stderr",
          "text": [
            "100%|██████████| 2/2 [00:00<00:00,  5.10it/s, D_fake=0.00773, D_real=0.994]\n"
          ]
        },
        {
          "output_type": "stream",
          "name": "stdout",
          "text": [
            "Shape of X:  torch.Size([4, 3, 256, 256])\n",
            "torch.Size([4, 3, 256, 256]) Entropy A1: 5.545037269592285, Entropy A2: 5.545042514801025\n",
            "Epoch [463/500], Avg Entropy A1: 5.5449981689453125, Avg Entropy A2: 5.545006036758423\n"
          ]
        },
        {
          "output_type": "stream",
          "name": "stderr",
          "text": [
            "\r  0%|          | 0/2 [00:00<?, ?it/s]"
          ]
        },
        {
          "output_type": "stream",
          "name": "stdout",
          "text": [
            "Shape of X:  torch.Size([16, 3, 256, 256])\n",
            "torch.Size([16, 3, 256, 256]) Entropy A1: 5.544992923736572, Entropy A2: 5.544999122619629\n"
          ]
        },
        {
          "output_type": "stream",
          "name": "stderr",
          "text": [
            "100%|██████████| 2/2 [00:00<00:00,  5.24it/s, D_fake=0.00512, D_real=0.997]\n"
          ]
        },
        {
          "output_type": "stream",
          "name": "stdout",
          "text": [
            "Shape of X:  torch.Size([4, 3, 256, 256])\n",
            "torch.Size([4, 3, 256, 256]) Entropy A1: 5.544858932495117, Entropy A2: 5.544874668121338\n",
            "Epoch [464/500], Avg Entropy A1: 5.544925928115845, Avg Entropy A2: 5.544936895370483\n"
          ]
        },
        {
          "output_type": "stream",
          "name": "stderr",
          "text": [
            "\r  0%|          | 0/2 [00:00<?, ?it/s]"
          ]
        },
        {
          "output_type": "stream",
          "name": "stdout",
          "text": [
            "Shape of X:  torch.Size([16, 3, 256, 256])\n",
            "torch.Size([16, 3, 256, 256]) Entropy A1: 5.544912815093994, Entropy A2: 5.544929027557373\n"
          ]
        },
        {
          "output_type": "stream",
          "name": "stderr",
          "text": [
            "100%|██████████| 2/2 [00:00<00:00,  5.39it/s, D_fake=0.00647, D_real=0.996]\n"
          ]
        },
        {
          "output_type": "stream",
          "name": "stdout",
          "text": [
            "Shape of X:  torch.Size([4, 3, 256, 256])\n",
            "torch.Size([4, 3, 256, 256]) Entropy A1: 5.545042991638184, Entropy A2: 5.545049667358398\n",
            "Epoch [465/500], Avg Entropy A1: 5.544977903366089, Avg Entropy A2: 5.544989347457886\n"
          ]
        },
        {
          "output_type": "stream",
          "name": "stderr",
          "text": [
            "\r  0%|          | 0/2 [00:00<?, ?it/s]"
          ]
        },
        {
          "output_type": "stream",
          "name": "stdout",
          "text": [
            "Shape of X:  torch.Size([16, 3, 256, 256])\n",
            "torch.Size([16, 3, 256, 256]) Entropy A1: 5.544902801513672, Entropy A2: 5.544918060302734\n"
          ]
        },
        {
          "output_type": "stream",
          "name": "stderr",
          "text": [
            "100%|██████████| 2/2 [00:00<00:00,  5.35it/s, D_fake=0.0129, D_real=0.991]\n"
          ]
        },
        {
          "output_type": "stream",
          "name": "stdout",
          "text": [
            "Shape of X:  torch.Size([4, 3, 256, 256])\n",
            "torch.Size([4, 3, 256, 256]) Entropy A1: 5.54489803314209, Entropy A2: 5.544909954071045\n",
            "Epoch [466/500], Avg Entropy A1: 5.544900417327881, Avg Entropy A2: 5.54491400718689\n"
          ]
        },
        {
          "output_type": "stream",
          "name": "stderr",
          "text": [
            "\r  0%|          | 0/2 [00:00<?, ?it/s]"
          ]
        },
        {
          "output_type": "stream",
          "name": "stdout",
          "text": [
            "Shape of X:  torch.Size([16, 3, 256, 256])\n",
            "torch.Size([16, 3, 256, 256]) Entropy A1: 5.544912338256836, Entropy A2: 5.544923782348633\n"
          ]
        },
        {
          "output_type": "stream",
          "name": "stderr",
          "text": [
            "100%|██████████| 2/2 [00:00<00:00,  5.38it/s, D_fake=0.00673, D_real=0.995]\n"
          ]
        },
        {
          "output_type": "stream",
          "name": "stdout",
          "text": [
            "Shape of X:  torch.Size([4, 3, 256, 256])\n",
            "torch.Size([4, 3, 256, 256]) Entropy A1: 5.545019626617432, Entropy A2: 5.545024871826172\n",
            "Epoch [467/500], Avg Entropy A1: 5.544965982437134, Avg Entropy A2: 5.544974327087402\n"
          ]
        },
        {
          "output_type": "stream",
          "name": "stderr",
          "text": [
            "\r  0%|          | 0/2 [00:00<?, ?it/s]"
          ]
        },
        {
          "output_type": "stream",
          "name": "stdout",
          "text": [
            "Shape of X:  torch.Size([16, 3, 256, 256])\n",
            "torch.Size([16, 3, 256, 256]) Entropy A1: 5.544974327087402, Entropy A2: 5.544981956481934\n"
          ]
        },
        {
          "output_type": "stream",
          "name": "stderr",
          "text": [
            "100%|██████████| 2/2 [00:00<00:00,  5.33it/s, D_fake=0.00894, D_real=0.994]\n"
          ]
        },
        {
          "output_type": "stream",
          "name": "stdout",
          "text": [
            "Shape of X:  torch.Size([4, 3, 256, 256])\n",
            "torch.Size([4, 3, 256, 256]) Entropy A1: 5.54494047164917, Entropy A2: 5.544951438903809\n",
            "Epoch [468/500], Avg Entropy A1: 5.544957399368286, Avg Entropy A2: 5.544966697692871\n"
          ]
        },
        {
          "output_type": "stream",
          "name": "stderr",
          "text": [
            "\r  0%|          | 0/2 [00:00<?, ?it/s]"
          ]
        },
        {
          "output_type": "stream",
          "name": "stdout",
          "text": [
            "Shape of X:  torch.Size([16, 3, 256, 256])\n",
            "torch.Size([16, 3, 256, 256]) Entropy A1: 5.545012474060059, Entropy A2: 5.545019149780273\n"
          ]
        },
        {
          "output_type": "stream",
          "name": "stderr",
          "text": [
            "100%|██████████| 2/2 [00:00<00:00,  5.25it/s, D_fake=0.00626, D_real=0.995]\n"
          ]
        },
        {
          "output_type": "stream",
          "name": "stdout",
          "text": [
            "Shape of X:  torch.Size([4, 3, 256, 256])\n",
            "torch.Size([4, 3, 256, 256]) Entropy A1: 5.545013427734375, Entropy A2: 5.545021057128906\n",
            "Epoch [469/500], Avg Entropy A1: 5.545012950897217, Avg Entropy A2: 5.54502010345459\n"
          ]
        },
        {
          "output_type": "stream",
          "name": "stderr",
          "text": [
            "\r  0%|          | 0/2 [00:00<?, ?it/s]"
          ]
        },
        {
          "output_type": "stream",
          "name": "stdout",
          "text": [
            "Shape of X:  torch.Size([16, 3, 256, 256])\n",
            "torch.Size([16, 3, 256, 256]) Entropy A1: 5.544974327087402, Entropy A2: 5.544983863830566\n"
          ]
        },
        {
          "output_type": "stream",
          "name": "stderr",
          "text": [
            "100%|██████████| 2/2 [00:00<00:00,  5.38it/s, D_fake=0.00701, D_real=0.996]\n"
          ]
        },
        {
          "output_type": "stream",
          "name": "stdout",
          "text": [
            "Shape of X:  torch.Size([4, 3, 256, 256])\n",
            "torch.Size([4, 3, 256, 256]) Entropy A1: 5.544964790344238, Entropy A2: 5.544974327087402\n",
            "Epoch [470/500], Avg Entropy A1: 5.54496955871582, Avg Entropy A2: 5.544979095458984\n"
          ]
        },
        {
          "output_type": "stream",
          "name": "stderr",
          "text": [
            "\r  0%|          | 0/2 [00:00<?, ?it/s]"
          ]
        },
        {
          "output_type": "stream",
          "name": "stdout",
          "text": [
            "Shape of X:  torch.Size([16, 3, 256, 256])\n",
            "torch.Size([16, 3, 256, 256]) Entropy A1: 5.544920444488525, Entropy A2: 5.544933319091797\n"
          ]
        },
        {
          "output_type": "stream",
          "name": "stderr",
          "text": [
            "100%|██████████| 2/2 [00:00<00:00,  5.38it/s, D_fake=0.00809, D_real=0.994]\n"
          ]
        },
        {
          "output_type": "stream",
          "name": "stdout",
          "text": [
            "Shape of X:  torch.Size([4, 3, 256, 256])\n",
            "torch.Size([4, 3, 256, 256]) Entropy A1: 5.544951438903809, Entropy A2: 5.54495906829834\n",
            "Epoch [471/500], Avg Entropy A1: 5.544935941696167, Avg Entropy A2: 5.544946193695068\n"
          ]
        },
        {
          "output_type": "stream",
          "name": "stderr",
          "text": [
            "\r  0%|          | 0/2 [00:00<?, ?it/s]"
          ]
        },
        {
          "output_type": "stream",
          "name": "stdout",
          "text": [
            "Shape of X:  torch.Size([16, 3, 256, 256])\n",
            "torch.Size([16, 3, 256, 256]) Entropy A1: 5.545042514801025, Entropy A2: 5.545047760009766\n"
          ]
        },
        {
          "output_type": "stream",
          "name": "stderr",
          "text": [
            "100%|██████████| 2/2 [00:00<00:00,  5.40it/s, D_fake=0.00625, D_real=0.996]\n"
          ]
        },
        {
          "output_type": "stream",
          "name": "stdout",
          "text": [
            "Shape of X:  torch.Size([4, 3, 256, 256])\n",
            "torch.Size([4, 3, 256, 256]) Entropy A1: 5.545004367828369, Entropy A2: 5.545009613037109\n",
            "Epoch [472/500], Avg Entropy A1: 5.545023441314697, Avg Entropy A2: 5.5450286865234375\n"
          ]
        },
        {
          "output_type": "stream",
          "name": "stderr",
          "text": [
            "\r  0%|          | 0/2 [00:00<?, ?it/s]"
          ]
        },
        {
          "output_type": "stream",
          "name": "stdout",
          "text": [
            "Shape of X:  torch.Size([16, 3, 256, 256])\n",
            "torch.Size([16, 3, 256, 256]) Entropy A1: 5.544894695281982, Entropy A2: 5.544907569885254\n"
          ]
        },
        {
          "output_type": "stream",
          "name": "stderr",
          "text": [
            "100%|██████████| 2/2 [00:00<00:00,  5.34it/s, D_fake=0.00617, D_real=0.998]\n"
          ]
        },
        {
          "output_type": "stream",
          "name": "stdout",
          "text": [
            "Shape of X:  torch.Size([4, 3, 256, 256])\n",
            "torch.Size([4, 3, 256, 256]) Entropy A1: 5.544920921325684, Entropy A2: 5.544937610626221\n",
            "Epoch [473/500], Avg Entropy A1: 5.544907808303833, Avg Entropy A2: 5.544922590255737\n"
          ]
        },
        {
          "output_type": "stream",
          "name": "stderr",
          "text": [
            "\r  0%|          | 0/2 [00:00<?, ?it/s]"
          ]
        },
        {
          "output_type": "stream",
          "name": "stdout",
          "text": [
            "Shape of X:  torch.Size([16, 3, 256, 256])\n",
            "torch.Size([16, 3, 256, 256]) Entropy A1: 5.544914245605469, Entropy A2: 5.544926643371582\n"
          ]
        },
        {
          "output_type": "stream",
          "name": "stderr",
          "text": [
            "100%|██████████| 2/2 [00:00<00:00,  5.30it/s, D_fake=0.00796, D_real=0.997]\n"
          ]
        },
        {
          "output_type": "stream",
          "name": "stdout",
          "text": [
            "Shape of X:  torch.Size([4, 3, 256, 256])\n",
            "torch.Size([4, 3, 256, 256]) Entropy A1: 5.544989585876465, Entropy A2: 5.545007228851318\n",
            "Epoch [474/500], Avg Entropy A1: 5.544951915740967, Avg Entropy A2: 5.54496693611145\n"
          ]
        },
        {
          "output_type": "stream",
          "name": "stderr",
          "text": [
            "\r  0%|          | 0/2 [00:00<?, ?it/s]"
          ]
        },
        {
          "output_type": "stream",
          "name": "stdout",
          "text": [
            "Shape of X:  torch.Size([16, 3, 256, 256])\n",
            "torch.Size([16, 3, 256, 256]) Entropy A1: 5.544875144958496, Entropy A2: 5.544890880584717\n"
          ]
        },
        {
          "output_type": "stream",
          "name": "stderr",
          "text": [
            "100%|██████████| 2/2 [00:00<00:00,  5.40it/s, D_fake=0.00824, D_real=0.992]\n"
          ]
        },
        {
          "output_type": "stream",
          "name": "stdout",
          "text": [
            "Shape of X:  torch.Size([4, 3, 256, 256])\n",
            "torch.Size([4, 3, 256, 256]) Entropy A1: 5.54460334777832, Entropy A2: 5.544641494750977\n",
            "Epoch [475/500], Avg Entropy A1: 5.544739246368408, Avg Entropy A2: 5.544766187667847\n"
          ]
        },
        {
          "output_type": "stream",
          "name": "stderr",
          "text": [
            "\r  0%|          | 0/2 [00:00<?, ?it/s]"
          ]
        },
        {
          "output_type": "stream",
          "name": "stdout",
          "text": [
            "Shape of X:  torch.Size([16, 3, 256, 256])\n",
            "torch.Size([16, 3, 256, 256]) Entropy A1: 5.544852256774902, Entropy A2: 5.5448689460754395\n"
          ]
        },
        {
          "output_type": "stream",
          "name": "stderr",
          "text": [
            "100%|██████████| 2/2 [00:00<00:00,  5.28it/s, D_fake=0.0168, D_real=0.99]\n"
          ]
        },
        {
          "output_type": "stream",
          "name": "stdout",
          "text": [
            "Shape of X:  torch.Size([4, 3, 256, 256])\n",
            "torch.Size([4, 3, 256, 256]) Entropy A1: 5.544976234436035, Entropy A2: 5.544985294342041\n",
            "Epoch [476/500], Avg Entropy A1: 5.544914245605469, Avg Entropy A2: 5.54492712020874\n"
          ]
        },
        {
          "output_type": "stream",
          "name": "stderr",
          "text": [
            "\r  0%|          | 0/2 [00:00<?, ?it/s]"
          ]
        },
        {
          "output_type": "stream",
          "name": "stdout",
          "text": [
            "Shape of X:  torch.Size([16, 3, 256, 256])\n",
            "torch.Size([16, 3, 256, 256]) Entropy A1: 5.544978141784668, Entropy A2: 5.544986724853516\n"
          ]
        },
        {
          "output_type": "stream",
          "name": "stderr",
          "text": [
            "100%|██████████| 2/2 [00:00<00:00,  5.30it/s, D_fake=0.0117, D_real=0.994]\n"
          ]
        },
        {
          "output_type": "stream",
          "name": "stdout",
          "text": [
            "Shape of X:  torch.Size([4, 3, 256, 256])\n",
            "torch.Size([4, 3, 256, 256]) Entropy A1: 5.544770240783691, Entropy A2: 5.544796943664551\n",
            "Epoch [477/500], Avg Entropy A1: 5.54487419128418, Avg Entropy A2: 5.544891834259033\n"
          ]
        },
        {
          "output_type": "stream",
          "name": "stderr",
          "text": [
            "\r  0%|          | 0/2 [00:00<?, ?it/s]"
          ]
        },
        {
          "output_type": "stream",
          "name": "stdout",
          "text": [
            "Shape of X:  torch.Size([16, 3, 256, 256])\n",
            "torch.Size([16, 3, 256, 256]) Entropy A1: 5.5448760986328125, Entropy A2: 5.544890403747559\n"
          ]
        },
        {
          "output_type": "stream",
          "name": "stderr",
          "text": [
            "100%|██████████| 2/2 [00:00<00:00,  5.31it/s, D_fake=0.00582, D_real=0.995]\n"
          ]
        },
        {
          "output_type": "stream",
          "name": "stdout",
          "text": [
            "Shape of X:  torch.Size([4, 3, 256, 256])\n",
            "torch.Size([4, 3, 256, 256]) Entropy A1: 5.544973373413086, Entropy A2: 5.544981956481934\n",
            "Epoch [478/500], Avg Entropy A1: 5.544924736022949, Avg Entropy A2: 5.544936180114746\n"
          ]
        },
        {
          "output_type": "stream",
          "name": "stderr",
          "text": [
            "\r  0%|          | 0/2 [00:00<?, ?it/s]"
          ]
        },
        {
          "output_type": "stream",
          "name": "stdout",
          "text": [
            "Shape of X:  torch.Size([16, 3, 256, 256])\n",
            "torch.Size([16, 3, 256, 256]) Entropy A1: 5.544819355010986, Entropy A2: 5.544838905334473\n"
          ]
        },
        {
          "output_type": "stream",
          "name": "stderr",
          "text": [
            "100%|██████████| 2/2 [00:00<00:00,  5.47it/s, D_fake=0.0076, D_real=0.997]\n"
          ]
        },
        {
          "output_type": "stream",
          "name": "stdout",
          "text": [
            "Shape of X:  torch.Size([4, 3, 256, 256])\n",
            "torch.Size([4, 3, 256, 256]) Entropy A1: 5.544990062713623, Entropy A2: 5.545000076293945\n",
            "Epoch [479/500], Avg Entropy A1: 5.544904708862305, Avg Entropy A2: 5.544919490814209\n"
          ]
        },
        {
          "output_type": "stream",
          "name": "stderr",
          "text": [
            "\r  0%|          | 0/2 [00:00<?, ?it/s]"
          ]
        },
        {
          "output_type": "stream",
          "name": "stdout",
          "text": [
            "Shape of X:  torch.Size([16, 3, 256, 256])\n",
            "torch.Size([16, 3, 256, 256]) Entropy A1: 5.545001029968262, Entropy A2: 5.545007705688477\n"
          ]
        },
        {
          "output_type": "stream",
          "name": "stderr",
          "text": [
            "100%|██████████| 2/2 [00:00<00:00,  5.43it/s, D_fake=0.0061, D_real=0.996]\n"
          ]
        },
        {
          "output_type": "stream",
          "name": "stdout",
          "text": [
            "Shape of X:  torch.Size([4, 3, 256, 256])\n",
            "torch.Size([4, 3, 256, 256]) Entropy A1: 5.544878005981445, Entropy A2: 5.544906139373779\n",
            "Epoch [480/500], Avg Entropy A1: 5.5449395179748535, Avg Entropy A2: 5.544956922531128\n"
          ]
        },
        {
          "output_type": "stream",
          "name": "stderr",
          "text": [
            "\r  0%|          | 0/2 [00:00<?, ?it/s]"
          ]
        },
        {
          "output_type": "stream",
          "name": "stdout",
          "text": [
            "Shape of X:  torch.Size([16, 3, 256, 256])\n",
            "torch.Size([16, 3, 256, 256]) Entropy A1: 5.545095443725586, Entropy A2: 5.545097827911377\n"
          ]
        },
        {
          "output_type": "stream",
          "name": "stderr",
          "text": [
            "100%|██████████| 2/2 [00:00<00:00,  5.43it/s, D_fake=0.00636, D_real=0.995]\n"
          ]
        },
        {
          "output_type": "stream",
          "name": "stdout",
          "text": [
            "Shape of X:  torch.Size([4, 3, 256, 256])\n",
            "torch.Size([4, 3, 256, 256]) Entropy A1: 5.5444440841674805, Entropy A2: 5.544512748718262\n",
            "Epoch [481/500], Avg Entropy A1: 5.544769763946533, Avg Entropy A2: 5.544805288314819\n"
          ]
        },
        {
          "output_type": "stream",
          "name": "stderr",
          "text": [
            "\r  0%|          | 0/2 [00:00<?, ?it/s]"
          ]
        },
        {
          "output_type": "stream",
          "name": "stdout",
          "text": [
            "Shape of X:  torch.Size([16, 3, 256, 256])\n",
            "torch.Size([16, 3, 256, 256]) Entropy A1: 5.544866561889648, Entropy A2: 5.54488468170166\n"
          ]
        },
        {
          "output_type": "stream",
          "name": "stderr",
          "text": [
            "100%|██████████| 2/2 [00:00<00:00,  5.38it/s, D_fake=0.00784, D_real=0.995]\n"
          ]
        },
        {
          "output_type": "stream",
          "name": "stdout",
          "text": [
            "Shape of X:  torch.Size([4, 3, 256, 256])\n",
            "torch.Size([4, 3, 256, 256]) Entropy A1: 5.544929504394531, Entropy A2: 5.544940948486328\n",
            "Epoch [482/500], Avg Entropy A1: 5.54489803314209, Avg Entropy A2: 5.544912815093994\n"
          ]
        },
        {
          "output_type": "stream",
          "name": "stderr",
          "text": [
            "\r  0%|          | 0/2 [00:00<?, ?it/s]"
          ]
        },
        {
          "output_type": "stream",
          "name": "stdout",
          "text": [
            "Shape of X:  torch.Size([16, 3, 256, 256])\n",
            "torch.Size([16, 3, 256, 256]) Entropy A1: 5.544976711273193, Entropy A2: 5.544985771179199\n"
          ]
        },
        {
          "output_type": "stream",
          "name": "stderr",
          "text": [
            "100%|██████████| 2/2 [00:00<00:00,  5.33it/s, D_fake=0.00754, D_real=0.996]\n"
          ]
        },
        {
          "output_type": "stream",
          "name": "stdout",
          "text": [
            "Shape of X:  torch.Size([4, 3, 256, 256])\n",
            "torch.Size([4, 3, 256, 256]) Entropy A1: 5.5449652671813965, Entropy A2: 5.544973373413086\n",
            "Epoch [483/500], Avg Entropy A1: 5.544970989227295, Avg Entropy A2: 5.544979572296143\n"
          ]
        },
        {
          "output_type": "stream",
          "name": "stderr",
          "text": [
            "\r  0%|          | 0/2 [00:00<?, ?it/s]"
          ]
        },
        {
          "output_type": "stream",
          "name": "stdout",
          "text": [
            "Shape of X:  torch.Size([16, 3, 256, 256])\n",
            "torch.Size([16, 3, 256, 256]) Entropy A1: 5.545012474060059, Entropy A2: 5.545019149780273\n"
          ]
        },
        {
          "output_type": "stream",
          "name": "stderr",
          "text": [
            "100%|██████████| 2/2 [00:00<00:00,  5.31it/s, D_fake=0.007, D_real=0.997]\n"
          ]
        },
        {
          "output_type": "stream",
          "name": "stdout",
          "text": [
            "Shape of X:  torch.Size([4, 3, 256, 256])\n",
            "torch.Size([4, 3, 256, 256]) Entropy A1: 5.545022964477539, Entropy A2: 5.5450286865234375\n",
            "Epoch [484/500], Avg Entropy A1: 5.545017719268799, Avg Entropy A2: 5.5450239181518555\n"
          ]
        },
        {
          "output_type": "stream",
          "name": "stderr",
          "text": [
            "\r  0%|          | 0/2 [00:00<?, ?it/s]"
          ]
        },
        {
          "output_type": "stream",
          "name": "stdout",
          "text": [
            "Shape of X:  torch.Size([16, 3, 256, 256])\n",
            "torch.Size([16, 3, 256, 256]) Entropy A1: 5.54502010345459, Entropy A2: 5.545027732849121\n"
          ]
        },
        {
          "output_type": "stream",
          "name": "stderr",
          "text": [
            "100%|██████████| 2/2 [00:00<00:00,  5.29it/s, D_fake=0.00452, D_real=0.996]\n"
          ]
        },
        {
          "output_type": "stream",
          "name": "stdout",
          "text": [
            "Shape of X:  torch.Size([4, 3, 256, 256])\n",
            "torch.Size([4, 3, 256, 256]) Entropy A1: 5.544988632202148, Entropy A2: 5.5449981689453125\n",
            "Epoch [485/500], Avg Entropy A1: 5.545004367828369, Avg Entropy A2: 5.545012950897217\n"
          ]
        },
        {
          "output_type": "stream",
          "name": "stderr",
          "text": [
            "\r  0%|          | 0/2 [00:00<?, ?it/s]"
          ]
        },
        {
          "output_type": "stream",
          "name": "stdout",
          "text": [
            "Shape of X:  torch.Size([16, 3, 256, 256])\n",
            "torch.Size([16, 3, 256, 256]) Entropy A1: 5.544927597045898, Entropy A2: 5.544939994812012\n"
          ]
        },
        {
          "output_type": "stream",
          "name": "stderr",
          "text": [
            "100%|██████████| 2/2 [00:00<00:00,  5.36it/s, D_fake=0.00496, D_real=0.997]\n"
          ]
        },
        {
          "output_type": "stream",
          "name": "stdout",
          "text": [
            "Shape of X:  torch.Size([4, 3, 256, 256])\n",
            "torch.Size([4, 3, 256, 256]) Entropy A1: 5.544970989227295, Entropy A2: 5.544979095458984\n",
            "Epoch [486/500], Avg Entropy A1: 5.544949293136597, Avg Entropy A2: 5.544959545135498\n"
          ]
        },
        {
          "output_type": "stream",
          "name": "stderr",
          "text": [
            "\r  0%|          | 0/2 [00:00<?, ?it/s]"
          ]
        },
        {
          "output_type": "stream",
          "name": "stdout",
          "text": [
            "Shape of X:  torch.Size([16, 3, 256, 256])\n",
            "torch.Size([16, 3, 256, 256]) Entropy A1: 5.545085906982422, Entropy A2: 5.545088768005371\n"
          ]
        },
        {
          "output_type": "stream",
          "name": "stderr",
          "text": [
            "100%|██████████| 2/2 [00:00<00:00,  5.40it/s, D_fake=0.00544, D_real=0.997]\n"
          ]
        },
        {
          "output_type": "stream",
          "name": "stdout",
          "text": [
            "Shape of X:  torch.Size([4, 3, 256, 256])\n",
            "torch.Size([4, 3, 256, 256]) Entropy A1: 5.5449676513671875, Entropy A2: 5.544978141784668\n",
            "Epoch [487/500], Avg Entropy A1: 5.545026779174805, Avg Entropy A2: 5.5450334548950195\n"
          ]
        },
        {
          "output_type": "stream",
          "name": "stderr",
          "text": [
            "\r  0%|          | 0/2 [00:00<?, ?it/s]"
          ]
        },
        {
          "output_type": "stream",
          "name": "stdout",
          "text": [
            "Shape of X:  torch.Size([16, 3, 256, 256])\n",
            "torch.Size([16, 3, 256, 256]) Entropy A1: 5.545072555541992, Entropy A2: 5.545077323913574\n"
          ]
        },
        {
          "output_type": "stream",
          "name": "stderr",
          "text": [
            "100%|██████████| 2/2 [00:00<00:00,  4.94it/s, D_fake=0.00643, D_real=0.996]\n"
          ]
        },
        {
          "output_type": "stream",
          "name": "stdout",
          "text": [
            "Shape of X:  torch.Size([4, 3, 256, 256])\n",
            "torch.Size([4, 3, 256, 256]) Entropy A1: 5.54470682144165, Entropy A2: 5.544734954833984\n",
            "Epoch [488/500], Avg Entropy A1: 5.544889688491821, Avg Entropy A2: 5.544906139373779\n"
          ]
        },
        {
          "output_type": "stream",
          "name": "stderr",
          "text": [
            "\r  0%|          | 0/2 [00:00<?, ?it/s]"
          ]
        },
        {
          "output_type": "stream",
          "name": "stdout",
          "text": [
            "Shape of X:  torch.Size([16, 3, 256, 256])\n",
            "torch.Size([16, 3, 256, 256]) Entropy A1: 5.544994354248047, Entropy A2: 5.54500150680542\n"
          ]
        },
        {
          "output_type": "stream",
          "name": "stderr",
          "text": [
            "100%|██████████| 2/2 [00:00<00:00,  4.92it/s, D_fake=0.00684, D_real=0.993]\n"
          ]
        },
        {
          "output_type": "stream",
          "name": "stdout",
          "text": [
            "Shape of X:  torch.Size([4, 3, 256, 256])\n",
            "torch.Size([4, 3, 256, 256]) Entropy A1: 5.544656276702881, Entropy A2: 5.544687271118164\n",
            "Epoch [489/500], Avg Entropy A1: 5.544825315475464, Avg Entropy A2: 5.544844388961792\n"
          ]
        },
        {
          "output_type": "stream",
          "name": "stderr",
          "text": [
            "\r  0%|          | 0/2 [00:00<?, ?it/s]"
          ]
        },
        {
          "output_type": "stream",
          "name": "stdout",
          "text": [
            "Shape of X:  torch.Size([16, 3, 256, 256])\n",
            "torch.Size([16, 3, 256, 256]) Entropy A1: 5.545000076293945, Entropy A2: 5.545007705688477\n"
          ]
        },
        {
          "output_type": "stream",
          "name": "stderr",
          "text": [
            "100%|██████████| 2/2 [00:00<00:00,  5.15it/s, D_fake=0.0253, D_real=0.963]\n"
          ]
        },
        {
          "output_type": "stream",
          "name": "stdout",
          "text": [
            "Shape of X:  torch.Size([4, 3, 256, 256])\n",
            "torch.Size([4, 3, 256, 256]) Entropy A1: 5.544625759124756, Entropy A2: 5.544676780700684\n",
            "Epoch [490/500], Avg Entropy A1: 5.544812917709351, Avg Entropy A2: 5.54484224319458\n"
          ]
        },
        {
          "output_type": "stream",
          "name": "stderr",
          "text": [
            "\r  0%|          | 0/2 [00:00<?, ?it/s]"
          ]
        },
        {
          "output_type": "stream",
          "name": "stdout",
          "text": [
            "Shape of X:  torch.Size([16, 3, 256, 256])\n",
            "torch.Size([16, 3, 256, 256]) Entropy A1: 5.544944763183594, Entropy A2: 5.544955253601074\n"
          ]
        },
        {
          "output_type": "stream",
          "name": "stderr",
          "text": [
            "100%|██████████| 2/2 [00:00<00:00,  4.94it/s, D_fake=0.0145, D_real=0.986]\n"
          ]
        },
        {
          "output_type": "stream",
          "name": "stdout",
          "text": [
            "Shape of X:  torch.Size([4, 3, 256, 256])\n",
            "torch.Size([4, 3, 256, 256]) Entropy A1: 5.544907569885254, Entropy A2: 5.544923782348633\n",
            "Epoch [491/500], Avg Entropy A1: 5.544926166534424, Avg Entropy A2: 5.5449395179748535\n"
          ]
        },
        {
          "output_type": "stream",
          "name": "stderr",
          "text": [
            "\r  0%|          | 0/2 [00:00<?, ?it/s]"
          ]
        },
        {
          "output_type": "stream",
          "name": "stdout",
          "text": [
            "Shape of X:  torch.Size([16, 3, 256, 256])\n",
            "torch.Size([16, 3, 256, 256]) Entropy A1: 5.54498291015625, Entropy A2: 5.544991970062256\n"
          ]
        },
        {
          "output_type": "stream",
          "name": "stderr",
          "text": [
            "100%|██████████| 2/2 [00:00<00:00,  4.88it/s, D_fake=0.0146, D_real=0.988]\n"
          ]
        },
        {
          "output_type": "stream",
          "name": "stdout",
          "text": [
            "Shape of X:  torch.Size([4, 3, 256, 256])\n",
            "torch.Size([4, 3, 256, 256]) Entropy A1: 5.545010566711426, Entropy A2: 5.545015335083008\n",
            "Epoch [492/500], Avg Entropy A1: 5.544996738433838, Avg Entropy A2: 5.545003652572632\n"
          ]
        },
        {
          "output_type": "stream",
          "name": "stderr",
          "text": [
            "\r  0%|          | 0/2 [00:00<?, ?it/s]"
          ]
        },
        {
          "output_type": "stream",
          "name": "stdout",
          "text": [
            "Shape of X:  torch.Size([16, 3, 256, 256])\n",
            "torch.Size([16, 3, 256, 256]) Entropy A1: 5.545004367828369, Entropy A2: 5.545010566711426\n"
          ]
        },
        {
          "output_type": "stream",
          "name": "stderr",
          "text": [
            "100%|██████████| 2/2 [00:00<00:00,  5.20it/s, D_fake=0.0131, D_real=0.994]\n"
          ]
        },
        {
          "output_type": "stream",
          "name": "stdout",
          "text": [
            "Shape of X:  torch.Size([4, 3, 256, 256])\n",
            "torch.Size([4, 3, 256, 256]) Entropy A1: 5.545044898986816, Entropy A2: 5.54504919052124\n",
            "Epoch [493/500], Avg Entropy A1: 5.545024633407593, Avg Entropy A2: 5.545029878616333\n"
          ]
        },
        {
          "output_type": "stream",
          "name": "stderr",
          "text": [
            "\r  0%|          | 0/2 [00:00<?, ?it/s]"
          ]
        },
        {
          "output_type": "stream",
          "name": "stdout",
          "text": [
            "Shape of X:  torch.Size([16, 3, 256, 256])\n",
            "torch.Size([16, 3, 256, 256]) Entropy A1: 5.545039176940918, Entropy A2: 5.545044422149658\n"
          ]
        },
        {
          "output_type": "stream",
          "name": "stderr",
          "text": [
            "100%|██████████| 2/2 [00:00<00:00,  5.26it/s, D_fake=0.0115, D_real=0.996]\n"
          ]
        },
        {
          "output_type": "stream",
          "name": "stdout",
          "text": [
            "Shape of X:  torch.Size([4, 3, 256, 256])\n",
            "torch.Size([4, 3, 256, 256]) Entropy A1: 5.545035362243652, Entropy A2: 5.545041084289551\n",
            "Epoch [494/500], Avg Entropy A1: 5.545037269592285, Avg Entropy A2: 5.5450427532196045\n"
          ]
        },
        {
          "output_type": "stream",
          "name": "stderr",
          "text": [
            "\r  0%|          | 0/2 [00:00<?, ?it/s]"
          ]
        },
        {
          "output_type": "stream",
          "name": "stdout",
          "text": [
            "Shape of X:  torch.Size([16, 3, 256, 256])\n",
            "torch.Size([16, 3, 256, 256]) Entropy A1: 5.545032501220703, Entropy A2: 5.545037269592285\n"
          ]
        },
        {
          "output_type": "stream",
          "name": "stderr",
          "text": [
            "100%|██████████| 2/2 [00:00<00:00,  4.91it/s, D_fake=0.00789, D_real=0.995]\n"
          ]
        },
        {
          "output_type": "stream",
          "name": "stdout",
          "text": [
            "Shape of X:  torch.Size([4, 3, 256, 256])\n",
            "torch.Size([4, 3, 256, 256]) Entropy A1: 5.54505729675293, Entropy A2: 5.5450615882873535\n",
            "Epoch [495/500], Avg Entropy A1: 5.545044898986816, Avg Entropy A2: 5.545049428939819\n"
          ]
        },
        {
          "output_type": "stream",
          "name": "stderr",
          "text": [
            "\r  0%|          | 0/2 [00:00<?, ?it/s]"
          ]
        },
        {
          "output_type": "stream",
          "name": "stdout",
          "text": [
            "Shape of X:  torch.Size([16, 3, 256, 256])\n",
            "torch.Size([16, 3, 256, 256]) Entropy A1: 5.545041084289551, Entropy A2: 5.545046329498291\n"
          ]
        },
        {
          "output_type": "stream",
          "name": "stderr",
          "text": [
            "100%|██████████| 2/2 [00:00<00:00,  5.04it/s, D_fake=0.0101, D_real=0.995]\n"
          ]
        },
        {
          "output_type": "stream",
          "name": "stdout",
          "text": [
            "Shape of X:  torch.Size([4, 3, 256, 256])\n",
            "torch.Size([4, 3, 256, 256]) Entropy A1: 5.544918060302734, Entropy A2: 5.544938087463379\n",
            "Epoch [496/500], Avg Entropy A1: 5.544979572296143, Avg Entropy A2: 5.544992208480835\n"
          ]
        },
        {
          "output_type": "stream",
          "name": "stderr",
          "text": [
            "\r  0%|          | 0/2 [00:00<?, ?it/s]"
          ]
        },
        {
          "output_type": "stream",
          "name": "stdout",
          "text": [
            "Shape of X:  torch.Size([16, 3, 256, 256])\n",
            "torch.Size([16, 3, 256, 256]) Entropy A1: 5.545025825500488, Entropy A2: 5.545031547546387\n"
          ]
        },
        {
          "output_type": "stream",
          "name": "stderr",
          "text": [
            "100%|██████████| 2/2 [00:00<00:00,  4.86it/s, D_fake=0.00895, D_real=0.996]\n"
          ]
        },
        {
          "output_type": "stream",
          "name": "stdout",
          "text": [
            "Shape of X:  torch.Size([4, 3, 256, 256])\n",
            "torch.Size([4, 3, 256, 256]) Entropy A1: 5.5449628829956055, Entropy A2: 5.544973373413086\n",
            "Epoch [497/500], Avg Entropy A1: 5.544994354248047, Avg Entropy A2: 5.545002460479736\n"
          ]
        },
        {
          "output_type": "stream",
          "name": "stderr",
          "text": [
            "\r  0%|          | 0/2 [00:00<?, ?it/s]"
          ]
        },
        {
          "output_type": "stream",
          "name": "stdout",
          "text": [
            "Shape of X:  torch.Size([16, 3, 256, 256])\n",
            "torch.Size([16, 3, 256, 256]) Entropy A1: 5.544988632202148, Entropy A2: 5.544997215270996\n"
          ]
        },
        {
          "output_type": "stream",
          "name": "stderr",
          "text": [
            "100%|██████████| 2/2 [00:00<00:00,  5.15it/s, D_fake=0.0078, D_real=0.996]\n"
          ]
        },
        {
          "output_type": "stream",
          "name": "stdout",
          "text": [
            "Shape of X:  torch.Size([4, 3, 256, 256])\n",
            "torch.Size([4, 3, 256, 256]) Entropy A1: 5.545040130615234, Entropy A2: 5.545046806335449\n",
            "Epoch [498/500], Avg Entropy A1: 5.545014381408691, Avg Entropy A2: 5.545022010803223\n"
          ]
        },
        {
          "output_type": "stream",
          "name": "stderr",
          "text": [
            "\r  0%|          | 0/2 [00:00<?, ?it/s]"
          ]
        },
        {
          "output_type": "stream",
          "name": "stdout",
          "text": [
            "Shape of X:  torch.Size([16, 3, 256, 256])\n",
            "torch.Size([16, 3, 256, 256]) Entropy A1: 5.545040130615234, Entropy A2: 5.545046329498291\n"
          ]
        },
        {
          "output_type": "stream",
          "name": "stderr",
          "text": [
            "100%|██████████| 2/2 [00:00<00:00,  5.24it/s, D_fake=0.0135, D_real=0.994]\n"
          ]
        },
        {
          "output_type": "stream",
          "name": "stdout",
          "text": [
            "Shape of X:  torch.Size([4, 3, 256, 256])\n",
            "torch.Size([4, 3, 256, 256]) Entropy A1: 5.544950485229492, Entropy A2: 5.544960975646973\n",
            "Epoch [499/500], Avg Entropy A1: 5.544995307922363, Avg Entropy A2: 5.545003652572632\n"
          ]
        },
        {
          "output_type": "stream",
          "name": "stderr",
          "text": [
            "\r  0%|          | 0/2 [00:00<?, ?it/s]"
          ]
        },
        {
          "output_type": "stream",
          "name": "stdout",
          "text": [
            "Shape of X:  torch.Size([16, 3, 256, 256])\n",
            "torch.Size([16, 3, 256, 256]) Entropy A1: 5.545068264007568, Entropy A2: 5.545071601867676\n"
          ]
        },
        {
          "output_type": "stream",
          "name": "stderr",
          "text": [
            "100%|██████████| 2/2 [00:00<00:00,  5.28it/s, D_fake=0.00544, D_real=0.997]\n"
          ]
        },
        {
          "output_type": "stream",
          "name": "stdout",
          "text": [
            "Shape of X:  torch.Size([4, 3, 256, 256])\n",
            "torch.Size([4, 3, 256, 256]) Entropy A1: 5.54509162902832, Entropy A2: 5.545094013214111\n",
            "Epoch [500/500], Avg Entropy A1: 5.545079946517944, Avg Entropy A2: 5.5450828075408936\n",
            "Saving model at epoch 499\n",
            "Shape of x at save:  torch.Size([5, 3, 256, 256])\n"
          ]
        }
      ]
    },
    {
      "cell_type": "code",
      "source": [
        "torch.cuda.empty_cache()\n"
      ],
      "metadata": {
        "id": "Hlj5xywo5EbP"
      },
      "execution_count": null,
      "outputs": []
    },
    {
      "cell_type": "code",
      "source": [
        "def main():\n",
        "    disc = Discriminator(in_channels=3).to(config.DEVICE)\n",
        "    gen = generator(in_channels=3, features=64).to(config.DEVICE)\n",
        "    opt_disc = optim.Adam(disc.parameters(), lr=config.LEARNING_RATE, betas=(0.5, 0.999),)\n",
        "    opt_gen = optim.Adam(gen.parameters(), lr=config.LEARNING_RATE, betas=(0.5, 0.999))\n",
        "    BCE = nn.BCEWithLogitsLoss()\n",
        "    L1_LOSS = nn.L1Loss()\n",
        "\n",
        "    if config.LOAD_MODEL:\n",
        "        load_checkpoint(\n",
        "            config.CHECKPOINT_GEN, gen, opt_gen, config.LEARNING_RATE,\n",
        "        )\n",
        "        load_checkpoint(\n",
        "            config.CHECKPOINT_DISC, disc, opt_disc, config.LEARNING_RATE,\n",
        "        )\n",
        "\n",
        "    g_scaler = torch.cuda.amp.GradScaler()\n",
        "    d_scaler = torch.cuda.amp.GradScaler()\n",
        "\n",
        "    for epoch in range(config.NUM_EPOCHS):\n",
        "        train_fn(\n",
        "            disc, gen, train_loader, opt_disc, opt_gen, L1_LOSS, BCE, g_scaler, d_scaler,\n",
        "        )\n",
        "\n",
        "        if config.SAVE_MODEL and epoch % 50 == 0:\n",
        "            save_checkpoint(gen, opt_gen, filename=config.CHECKPOINT_GEN)\n",
        "            save_checkpoint(disc, opt_disc, filename=config.CHECKPOINT_DISC)\n",
        "            save_some_examples(gen, val_loader, epoch, folder=\"evaluation\")\n",
        "\n",
        "\n",
        "if __name__ == \"__main__\":\n",
        "    main()"
      ],
      "metadata": {
        "colab": {
          "base_uri": "https://localhost:8080/",
          "height": 532
        },
        "id": "26fbq-kLqmgJ",
        "outputId": "cb5e244c-9e56-4881-bf1e-00bb59aacedd"
      },
      "execution_count": null,
      "outputs": [
        {
          "output_type": "stream",
          "name": "stderr",
          "text": [
            "<ipython-input-20-aa02de0e00f1>:17: FutureWarning: `torch.cuda.amp.GradScaler(args...)` is deprecated. Please use `torch.amp.GradScaler('cuda', args...)` instead.\n",
            "  g_scaler = torch.cuda.amp.GradScaler()\n",
            "<ipython-input-20-aa02de0e00f1>:18: FutureWarning: `torch.cuda.amp.GradScaler(args...)` is deprecated. Please use `torch.amp.GradScaler('cuda', args...)` instead.\n",
            "  d_scaler = torch.cuda.amp.GradScaler()\n",
            "  0%|          | 0/2 [00:00<?, ?it/s]<ipython-input-13-129499f0dccf>:13: FutureWarning: `torch.cuda.amp.autocast(args...)` is deprecated. Please use `torch.amp.autocast('cuda', args...)` instead.\n",
            "  with torch.cuda.amp.autocast():\n",
            "<ipython-input-13-129499f0dccf>:27: FutureWarning: `torch.cuda.amp.autocast(args...)` is deprecated. Please use `torch.amp.autocast('cuda', args...)` instead.\n",
            "  with torch.cuda.amp.autocast():\n",
            "100%|██████████| 2/2 [00:00<00:00,  4.14it/s, D_fake=0.474, D_real=0.519]\n",
            "100%|██████████| 2/2 [00:00<00:00,  5.09it/s, D_fake=0.465, D_real=0.473]\n",
            "  0%|          | 0/2 [00:00<?, ?it/s]\n"
          ]
        },
        {
          "output_type": "error",
          "ename": "KeyboardInterrupt",
          "evalue": "",
          "traceback": [
            "\u001b[0;31m---------------------------------------------------------------------------\u001b[0m",
            "\u001b[0;31mKeyboardInterrupt\u001b[0m                         Traceback (most recent call last)",
            "\u001b[0;32m<ipython-input-20-aa02de0e00f1>\u001b[0m in \u001b[0;36m<cell line: 31>\u001b[0;34m()\u001b[0m\n\u001b[1;32m     30\u001b[0m \u001b[0;34m\u001b[0m\u001b[0m\n\u001b[1;32m     31\u001b[0m \u001b[0;32mif\u001b[0m \u001b[0m__name__\u001b[0m \u001b[0;34m==\u001b[0m \u001b[0;34m\"__main__\"\u001b[0m\u001b[0;34m:\u001b[0m\u001b[0;34m\u001b[0m\u001b[0;34m\u001b[0m\u001b[0m\n\u001b[0;32m---> 32\u001b[0;31m     \u001b[0mmain\u001b[0m\u001b[0;34m(\u001b[0m\u001b[0;34m)\u001b[0m\u001b[0;34m\u001b[0m\u001b[0;34m\u001b[0m\u001b[0m\n\u001b[0m",
            "\u001b[0;32m<ipython-input-20-aa02de0e00f1>\u001b[0m in \u001b[0;36mmain\u001b[0;34m()\u001b[0m\n\u001b[1;32m     19\u001b[0m \u001b[0;34m\u001b[0m\u001b[0m\n\u001b[1;32m     20\u001b[0m     \u001b[0;32mfor\u001b[0m \u001b[0mepoch\u001b[0m \u001b[0;32min\u001b[0m \u001b[0mrange\u001b[0m\u001b[0;34m(\u001b[0m\u001b[0mconfig\u001b[0m\u001b[0;34m.\u001b[0m\u001b[0mNUM_EPOCHS\u001b[0m\u001b[0;34m)\u001b[0m\u001b[0;34m:\u001b[0m\u001b[0;34m\u001b[0m\u001b[0;34m\u001b[0m\u001b[0m\n\u001b[0;32m---> 21\u001b[0;31m         train_fn(\n\u001b[0m\u001b[1;32m     22\u001b[0m             \u001b[0mdisc\u001b[0m\u001b[0;34m,\u001b[0m \u001b[0mgen\u001b[0m\u001b[0;34m,\u001b[0m \u001b[0mtrain_loader\u001b[0m\u001b[0;34m,\u001b[0m \u001b[0mopt_disc\u001b[0m\u001b[0;34m,\u001b[0m \u001b[0mopt_gen\u001b[0m\u001b[0;34m,\u001b[0m \u001b[0mL1_LOSS\u001b[0m\u001b[0;34m,\u001b[0m \u001b[0mBCE\u001b[0m\u001b[0;34m,\u001b[0m \u001b[0mg_scaler\u001b[0m\u001b[0;34m,\u001b[0m \u001b[0md_scaler\u001b[0m\u001b[0;34m,\u001b[0m\u001b[0;34m\u001b[0m\u001b[0;34m\u001b[0m\u001b[0m\n\u001b[1;32m     23\u001b[0m         )\n",
            "\u001b[0;32m<ipython-input-13-129499f0dccf>\u001b[0m in \u001b[0;36mtrain_fn\u001b[0;34m(disc, gen, loader, opt_disc, opt_gen, l1_loss, bce, g_scaler, d_scaler)\u001b[0m\n\u001b[1;32m     14\u001b[0m             \u001b[0my_fake\u001b[0m\u001b[0;34m,\u001b[0m \u001b[0mentropy_a1\u001b[0m\u001b[0;34m,\u001b[0m \u001b[0mentropy_a2\u001b[0m \u001b[0;34m=\u001b[0m \u001b[0mgen\u001b[0m\u001b[0;34m(\u001b[0m\u001b[0mx\u001b[0m\u001b[0;34m)\u001b[0m  \u001b[0;31m# Generate y_fake with entropy outputs\u001b[0m\u001b[0;34m\u001b[0m\u001b[0;34m\u001b[0m\u001b[0m\n\u001b[1;32m     15\u001b[0m             \u001b[0mD_real\u001b[0m \u001b[0;34m=\u001b[0m \u001b[0mdisc\u001b[0m\u001b[0;34m(\u001b[0m\u001b[0mx\u001b[0m\u001b[0;34m,\u001b[0m \u001b[0my\u001b[0m\u001b[0;34m)\u001b[0m\u001b[0;34m\u001b[0m\u001b[0;34m\u001b[0m\u001b[0m\n\u001b[0;32m---> 16\u001b[0;31m             \u001b[0mD_real_loss\u001b[0m \u001b[0;34m=\u001b[0m \u001b[0mbce\u001b[0m\u001b[0;34m(\u001b[0m\u001b[0mD_real\u001b[0m\u001b[0;34m,\u001b[0m \u001b[0mtorch\u001b[0m\u001b[0;34m.\u001b[0m\u001b[0mones_like\u001b[0m\u001b[0;34m(\u001b[0m\u001b[0mD_real\u001b[0m\u001b[0;34m)\u001b[0m\u001b[0;34m)\u001b[0m\u001b[0;34m\u001b[0m\u001b[0;34m\u001b[0m\u001b[0m\n\u001b[0m\u001b[1;32m     17\u001b[0m             \u001b[0mD_fake\u001b[0m \u001b[0;34m=\u001b[0m \u001b[0mdisc\u001b[0m\u001b[0;34m(\u001b[0m\u001b[0mx\u001b[0m\u001b[0;34m,\u001b[0m \u001b[0my_fake\u001b[0m\u001b[0;34m.\u001b[0m\u001b[0mdetach\u001b[0m\u001b[0;34m(\u001b[0m\u001b[0;34m)\u001b[0m\u001b[0;34m)\u001b[0m\u001b[0;34m\u001b[0m\u001b[0;34m\u001b[0m\u001b[0m\n\u001b[1;32m     18\u001b[0m             \u001b[0mD_fake_loss\u001b[0m \u001b[0;34m=\u001b[0m \u001b[0mbce\u001b[0m\u001b[0;34m(\u001b[0m\u001b[0mD_fake\u001b[0m\u001b[0;34m,\u001b[0m \u001b[0mtorch\u001b[0m\u001b[0;34m.\u001b[0m\u001b[0mzeros_like\u001b[0m\u001b[0;34m(\u001b[0m\u001b[0mD_fake\u001b[0m\u001b[0;34m)\u001b[0m\u001b[0;34m)\u001b[0m\u001b[0;34m\u001b[0m\u001b[0;34m\u001b[0m\u001b[0m\n",
            "\u001b[0;31mKeyboardInterrupt\u001b[0m: "
          ]
        }
      ]
    },
    {
      "cell_type": "code",
      "source": [],
      "metadata": {
        "id": "I3_5Gd2kRnYn"
      },
      "execution_count": null,
      "outputs": []
    }
  ]
}