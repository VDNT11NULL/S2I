{
  "nbformat": 4,
  "nbformat_minor": 0,
  "metadata": {
    "colab": {
      "provenance": [],
      "gpuType": "T4"
    },
    "kernelspec": {
      "name": "python3",
      "display_name": "Python 3"
    },
    "language_info": {
      "name": "python"
    },
    "accelerator": "GPU"
  },
  "cells": [
    {
      "cell_type": "code",
      "source": [
        "!pip install torchmetrics"
      ],
      "metadata": {
        "colab": {
          "base_uri": "https://localhost:8080/"
        },
        "id": "jU43VyTC0agk",
        "outputId": "42d224d1-20e1-44b5-8590-b10f617e4836"
      },
      "execution_count": 1,
      "outputs": [
        {
          "output_type": "stream",
          "name": "stdout",
          "text": [
            "Collecting torchmetrics\n",
            "  Downloading torchmetrics-1.5.0-py3-none-any.whl.metadata (20 kB)\n",
            "Requirement already satisfied: numpy<2.0,>1.20.0 in /usr/local/lib/python3.10/dist-packages (from torchmetrics) (1.26.4)\n",
            "Requirement already satisfied: packaging>17.1 in /usr/local/lib/python3.10/dist-packages (from torchmetrics) (24.1)\n",
            "Requirement already satisfied: torch>=1.10.0 in /usr/local/lib/python3.10/dist-packages (from torchmetrics) (2.4.1+cu121)\n",
            "Collecting lightning-utilities>=0.8.0 (from torchmetrics)\n",
            "  Downloading lightning_utilities-0.11.8-py3-none-any.whl.metadata (5.2 kB)\n",
            "Requirement already satisfied: setuptools in /usr/local/lib/python3.10/dist-packages (from lightning-utilities>=0.8.0->torchmetrics) (75.1.0)\n",
            "Requirement already satisfied: typing-extensions in /usr/local/lib/python3.10/dist-packages (from lightning-utilities>=0.8.0->torchmetrics) (4.12.2)\n",
            "Requirement already satisfied: filelock in /usr/local/lib/python3.10/dist-packages (from torch>=1.10.0->torchmetrics) (3.16.1)\n",
            "Requirement already satisfied: sympy in /usr/local/lib/python3.10/dist-packages (from torch>=1.10.0->torchmetrics) (1.13.3)\n",
            "Requirement already satisfied: networkx in /usr/local/lib/python3.10/dist-packages (from torch>=1.10.0->torchmetrics) (3.4.1)\n",
            "Requirement already satisfied: jinja2 in /usr/local/lib/python3.10/dist-packages (from torch>=1.10.0->torchmetrics) (3.1.4)\n",
            "Requirement already satisfied: fsspec in /usr/local/lib/python3.10/dist-packages (from torch>=1.10.0->torchmetrics) (2024.6.1)\n",
            "Requirement already satisfied: MarkupSafe>=2.0 in /usr/local/lib/python3.10/dist-packages (from jinja2->torch>=1.10.0->torchmetrics) (3.0.1)\n",
            "Requirement already satisfied: mpmath<1.4,>=1.1.0 in /usr/local/lib/python3.10/dist-packages (from sympy->torch>=1.10.0->torchmetrics) (1.3.0)\n",
            "Downloading torchmetrics-1.5.0-py3-none-any.whl (890 kB)\n",
            "\u001b[2K   \u001b[90m━━━━━━━━━━━━━━━━━━━━━━━━━━━━━━━━━━━━━━━━\u001b[0m \u001b[32m890.5/890.5 kB\u001b[0m \u001b[31m22.2 MB/s\u001b[0m eta \u001b[36m0:00:00\u001b[0m\n",
            "\u001b[?25hDownloading lightning_utilities-0.11.8-py3-none-any.whl (26 kB)\n",
            "Installing collected packages: lightning-utilities, torchmetrics\n",
            "Successfully installed lightning-utilities-0.11.8 torchmetrics-1.5.0\n"
          ]
        }
      ]
    },
    {
      "cell_type": "code",
      "source": [
        "!pip install torch-fidelity"
      ],
      "metadata": {
        "colab": {
          "base_uri": "https://localhost:8080/"
        },
        "id": "jvnTl5Ug3Xnc",
        "outputId": "d4e5b052-92b1-4953-8f86-c05ef8ac43e0"
      },
      "execution_count": 2,
      "outputs": [
        {
          "output_type": "stream",
          "name": "stdout",
          "text": [
            "Collecting torch-fidelity\n",
            "  Downloading torch_fidelity-0.3.0-py3-none-any.whl.metadata (2.0 kB)\n",
            "Requirement already satisfied: numpy in /usr/local/lib/python3.10/dist-packages (from torch-fidelity) (1.26.4)\n",
            "Requirement already satisfied: Pillow in /usr/local/lib/python3.10/dist-packages (from torch-fidelity) (10.4.0)\n",
            "Requirement already satisfied: scipy in /usr/local/lib/python3.10/dist-packages (from torch-fidelity) (1.13.1)\n",
            "Requirement already satisfied: torch in /usr/local/lib/python3.10/dist-packages (from torch-fidelity) (2.4.1+cu121)\n",
            "Requirement already satisfied: torchvision in /usr/local/lib/python3.10/dist-packages (from torch-fidelity) (0.19.1+cu121)\n",
            "Requirement already satisfied: tqdm in /usr/local/lib/python3.10/dist-packages (from torch-fidelity) (4.66.5)\n",
            "Requirement already satisfied: filelock in /usr/local/lib/python3.10/dist-packages (from torch->torch-fidelity) (3.16.1)\n",
            "Requirement already satisfied: typing-extensions>=4.8.0 in /usr/local/lib/python3.10/dist-packages (from torch->torch-fidelity) (4.12.2)\n",
            "Requirement already satisfied: sympy in /usr/local/lib/python3.10/dist-packages (from torch->torch-fidelity) (1.13.3)\n",
            "Requirement already satisfied: networkx in /usr/local/lib/python3.10/dist-packages (from torch->torch-fidelity) (3.4.1)\n",
            "Requirement already satisfied: jinja2 in /usr/local/lib/python3.10/dist-packages (from torch->torch-fidelity) (3.1.4)\n",
            "Requirement already satisfied: fsspec in /usr/local/lib/python3.10/dist-packages (from torch->torch-fidelity) (2024.6.1)\n",
            "Requirement already satisfied: MarkupSafe>=2.0 in /usr/local/lib/python3.10/dist-packages (from jinja2->torch->torch-fidelity) (3.0.1)\n",
            "Requirement already satisfied: mpmath<1.4,>=1.1.0 in /usr/local/lib/python3.10/dist-packages (from sympy->torch->torch-fidelity) (1.3.0)\n",
            "Downloading torch_fidelity-0.3.0-py3-none-any.whl (37 kB)\n",
            "Installing collected packages: torch-fidelity\n",
            "Successfully installed torch-fidelity-0.3.0\n"
          ]
        }
      ]
    },
    {
      "cell_type": "code",
      "execution_count": 8,
      "metadata": {
        "id": "wcy4qOBozi0Q"
      },
      "outputs": [],
      "source": [
        "import os\n",
        "import torch\n",
        "import torch.optim as optim\n",
        "import torch.nn as nn\n",
        "import matplotlib.pyplot as plt\n",
        "from torchmetrics.image.fid import FrechetInceptionDistance\n",
        "from sklearn.metrics import confusion_matrix, accuracy_score, precision_score, recall_score, f1_score\n",
        "import numpy as np\n",
        "from torch.utils.data import DataLoader, Dataset, random_split\n",
        "from torchvision import transforms\n",
        "from torchvision.datasets import ImageFolder\n",
        "import os\n",
        "from PIL import Image\n",
        "from tqdm import tqdm\n",
        "from torchvision.utils import save_image\n",
        "# local module imports\n",
        "import config\n",
        "from utils import save_checkpoint, load_checkpoint, save_some_examples\n",
        "from Pix_Generator import Generator\n",
        "from UvU_Discriminator import Discriminator\n",
        "\n",
        "torch.backends.cudnn.benchmark = True"
      ]
    },
    {
      "cell_type": "code",
      "source": [
        "def train_fn(\n",
        "    disc, gen, loader, opt_disc, opt_gen, l1_loss, bce, g_scaler, d_scaler,\n",
        "):\n",
        "    loop = tqdm(loader, leave=True)\n",
        "\n",
        "    for idx, (x, y) in enumerate(loop):\n",
        "        x = x.to(config.DEVICE)\n",
        "        y = y.to(config.DEVICE)\n",
        "\n",
        "        # Train Discriminator\n",
        "        with torch.cuda.amp.autocast():\n",
        "            y_fake = gen(x)\n",
        "            D_real = disc(x, y)\n",
        "            D_real_loss = bce(D_real, torch.ones_like(D_real))\n",
        "            D_fake = disc(x, y_fake.detach())\n",
        "            D_fake_loss = bce(D_fake, torch.zeros_like(D_fake))\n",
        "            D_loss = (D_real_loss + D_fake_loss) / 2\n",
        "\n",
        "        disc.zero_grad()\n",
        "        d_scaler.scale(D_loss).backward()\n",
        "        d_scaler.step(opt_disc)\n",
        "        d_scaler.update()\n",
        "\n",
        "        # Train generator\n",
        "        with torch.cuda.amp.autocast():\n",
        "            D_fake = disc(x, y_fake)\n",
        "            G_fake_loss = bce(D_fake, torch.ones_like(D_fake))\n",
        "            L1 = l1_loss(y_fake, y) * config.L1_LAMBDA\n",
        "            G_loss = G_fake_loss + L1\n",
        "\n",
        "        opt_gen.zero_grad()\n",
        "        g_scaler.scale(G_loss).backward()\n",
        "        g_scaler.step(opt_gen)\n",
        "        g_scaler.update()\n",
        "\n",
        "        if idx % 10 == 0:\n",
        "            loop.set_postfix(\n",
        "                D_real=torch.sigmoid(D_real).mean().item(),\n",
        "                D_fake=torch.sigmoid(D_fake).mean().item(),\n",
        "            )"
      ],
      "metadata": {
        "id": "0iMswhTZ4_Yg"
      },
      "execution_count": 9,
      "outputs": []
    },
    {
      "cell_type": "code",
      "source": [
        "!unzip -q Sample_dataset.zip"
      ],
      "metadata": {
        "id": "4nx4M3Ea5iRO"
      },
      "execution_count": 5,
      "outputs": []
    },
    {
      "cell_type": "code",
      "source": [
        "class PairedImageDataset(Dataset):\n",
        "    def __init__(self, input_dir, target_dir, transform=None):\n",
        "        self.input_dir = input_dir\n",
        "        self.target_dir = target_dir\n",
        "        self.input_images = sorted(os.listdir(input_dir))\n",
        "        self.target_images = sorted(os.listdir(target_dir))\n",
        "        self.transform = transform\n",
        "\n",
        "        assert len(self.input_images) == len(self.target_images), \"Mismatch between input and target images!\"\n",
        "\n",
        "    def __len__(self):\n",
        "        return len(self.input_images)\n",
        "\n",
        "    def __getitem__(self, idx):\n",
        "        input_image_path = os.path.join(self.input_dir, self.input_images[idx])\n",
        "        target_image_path = os.path.join(self.target_dir, self.target_images[idx])\n",
        "\n",
        "        input_image = Image.open(input_image_path).convert(\"RGB\")\n",
        "        target_image = Image.open(target_image_path).convert(\"RGB\")\n",
        "\n",
        "        if self.transform:\n",
        "            input_image = self.transform(input_image)\n",
        "            target_image = self.transform(target_image)\n",
        "\n",
        "        return input_image, target_image\n",
        "\n",
        "\n",
        "input_dir = '/content/Sample_dataset/sobel_images'\n",
        "target_dir = '/content/Sample_dataset/input_images'\n",
        "\n",
        "transform = transforms.Compose([\n",
        "    transforms.Resize((256, 256)),\n",
        "    transforms.ToTensor()\n",
        "])\n",
        "\n",
        "dataset = PairedImageDataset(input_dir=input_dir, target_dir=target_dir, transform=transform)\n",
        "\n",
        "# Split dataset into training and validation (80-20 split)\n",
        "train_size = int(0.8 * len(dataset))\n",
        "val_size = len(dataset) - train_size\n",
        "train_dataset, val_dataset = random_split(dataset, [train_size, val_size])\n",
        "\n",
        "# Create DataLoader for training and validation\n",
        "batch_size = 16\n",
        "\n",
        "train_loader = DataLoader(train_dataset, batch_size=batch_size, shuffle=True)\n",
        "val_loader = DataLoader(val_dataset, batch_size=batch_size, shuffle=True)\n",
        "\n",
        "# Example to iterate over the data loader\n",
        "for batch_idx, (input_images, target_images) in enumerate(train_loader):\n",
        "    print(f\"Batch {batch_idx + 1}\")\n",
        "    print(f\"Input batch size: {input_images.shape}\")\n",
        "    print(f\"Target batch size: {target_images.shape}\")\n"
      ],
      "metadata": {
        "colab": {
          "base_uri": "https://localhost:8080/"
        },
        "id": "RBrQMzMI5Zsl",
        "outputId": "fb0dc666-7f85-41bc-9d30-a7560db698f2"
      },
      "execution_count": 6,
      "outputs": [
        {
          "output_type": "stream",
          "name": "stdout",
          "text": [
            "Batch 1\n",
            "Input batch size: torch.Size([16, 3, 256, 256])\n",
            "Target batch size: torch.Size([16, 3, 256, 256])\n",
            "Batch 2\n",
            "Input batch size: torch.Size([4, 3, 256, 256])\n",
            "Target batch size: torch.Size([4, 3, 256, 256])\n"
          ]
        }
      ]
    },
    {
      "cell_type": "code",
      "source": [
        "import os\n",
        "import torch\n",
        "import torch.optim as optim\n",
        "import torch.nn as nn\n",
        "import matplotlib.pyplot as plt\n",
        "from torchmetrics.image.fid import FrechetInceptionDistance\n",
        "from sklearn.metrics import confusion_matrix, accuracy_score, precision_score, recall_score, f1_score\n",
        "import numpy as np\n",
        "\n",
        "# Create directories\n",
        "save_dir = '/content/drive/MyDrive/model_checkpoints/'  # Change this to your desired directory\n",
        "os.makedirs(save_dir, exist_ok=True)\n",
        "directory = '/content/evaluation/'\n",
        "if not os.path.exists(directory):\n",
        "    os.makedirs(directory)  # Create the directory if it doesn't exist\n",
        "\n",
        "# Calculate classification metrics for the discriminator\n",
        "def calculate_classification_metrics(disc, gen, val_loader, device):\n",
        "    gen.eval()\n",
        "    disc.eval()\n",
        "\n",
        "    y_true = []\n",
        "    y_pred = []\n",
        "\n",
        "    with torch.no_grad():\n",
        "        for x, y in val_loader:\n",
        "            x = x.to(device)\n",
        "            y = y.to(device)\n",
        "\n",
        "            # Discriminator on real images\n",
        "            # Assuming x is your input and y is the corresponding label for real images.\n",
        "            batch_size = x.size(0)  # Dynamically get the current batch size\n",
        "\n",
        "            # Discriminator on real images\n",
        "            D_real = disc(x, y)\n",
        "            real_preds = (torch.sigmoid(D_real) >= 0.5).cpu().numpy()  # Predictions for real images\n",
        "\n",
        "            # Extend y_true with 1s for real images (1 = real)\n",
        "            y_true.extend([1] * len(real_preds.flatten().tolist()))  # Ground truth for real images is 1\n",
        "            y_pred.extend(real_preds.flatten().tolist())  # Extend predictions for real images\n",
        "\n",
        "            # Generate fake images using the generator\n",
        "            y_fake = gen(x)\n",
        "\n",
        "            # Discriminator on fake images\n",
        "            D_fake = disc(x, y_fake)\n",
        "            fake_preds = (torch.sigmoid(D_fake) < 0.5).cpu().numpy()  # Predictions for fake images\n",
        "\n",
        "            # Extend y_true with 0s for fake images (0 = fake)\n",
        "            y_true.extend([0] * len(real_preds.flatten().tolist()))  # Ground truth for fake images is 0\n",
        "            y_pred.extend(fake_preds.flatten().tolist())  # Extend predictions for fake images\n",
        "\n",
        "    # Convert to numpy arrays for metrics\n",
        "    y_true = np.array(y_true)\n",
        "    y_pred = np.array(y_pred)\n",
        "\n",
        "    print(f\"y_true size: {(y_true.shape)}, y_pred size: {(y_pred.shape)}\")  # Check sizes here\n",
        "\n",
        "\n",
        "    # Confusion matrix elements\n",
        "    tn, fp, fn, tp = confusion_matrix(y_true, y_pred).ravel()\n",
        "\n",
        "    # Accuracy\n",
        "    accuracy = accuracy_score(y_true, y_pred)\n",
        "\n",
        "    # True Positive Rate (TPR)\n",
        "    tpr = tp / (tp + fn) if (tp + fn) > 0 else 0\n",
        "\n",
        "    # False Positive Rate (FPR)\n",
        "    fpr = fp / (fp + tn) if (fp + tn) > 0 else 0\n",
        "\n",
        "    # True Negative Rate (TNR)\n",
        "    tnr = tn / (tn + fp) if (tn + fp) > 0 else 0\n",
        "\n",
        "    # False Negative Rate (FNR)\n",
        "    fnr = fn / (fn + tp) if (fn + tp) > 0 else 0\n",
        "\n",
        "    # Precision\n",
        "    precision = precision_score(y_true, y_pred)\n",
        "\n",
        "    # Recall (equivalent to TPR)\n",
        "    recall = recall_score(y_true, y_pred)\n",
        "\n",
        "    # F1 Score\n",
        "    f1 = f1_score(y_true, y_pred)\n",
        "\n",
        "    print(f\"Accuracy: {accuracy:.4f}, TPR: {tpr:.4f}, FPR: {fpr:.4f}, TNR: {tnr:.4f}, FNR: {fnr:.4f}\")\n",
        "    print(f\"Precision: {precision:.4f}, Recall: {recall:.4f}, F1 Score: {f1:.4f}\")\n",
        "\n",
        "    return accuracy, tpr, fpr, tnr, fnr, precision, recall, f1\n",
        "\n",
        "# FID Calculation (using torchmetrics)\n",
        "def calculate_fid(gen, val_loader, device, fid):\n",
        "    gen.eval()\n",
        "    fid.reset()  # Reset FID metric before calculation\n",
        "    with torch.no_grad():\n",
        "        for x, y in val_loader:\n",
        "            x = x.to(device)\n",
        "            y_fake = gen(x)\n",
        "            y_fake_tensor = y_fake.cpu().float()\n",
        "            y_real_tensor = y.cpu().float()\n",
        "\n",
        "            # Update FID with real and fake images\n",
        "            fid.update(y_fake_tensor, real=False)\n",
        "            fid.update(y_real_tensor, real=True)\n",
        "\n",
        "    fid_score = fid.compute().item()  # Compute FID score\n",
        "    print(f\"FID: {fid_score}\")\n",
        "    return fid_score\n",
        "\n",
        "# PSNR calculation\n",
        "def calculate_psnr(gen, val_loader, device):\n",
        "    gen.eval()\n",
        "    total_psnr = 0.0\n",
        "    num_batches = 0\n",
        "\n",
        "    with torch.no_grad():\n",
        "        for x, y in val_loader:\n",
        "            x = x.to(device)\n",
        "            y = y.to(device)\n",
        "            y_fake = gen(x)\n",
        "\n",
        "            mse = torch.mean((y - y_fake) ** 2)\n",
        "            if mse == 0:\n",
        "                psnr = 100\n",
        "            else:\n",
        "                psnr = 20 * torch.log10(1.0 / torch.sqrt(mse))\n",
        "\n",
        "            total_psnr += psnr.item()\n",
        "            num_batches += 1\n",
        "\n",
        "    avg_psnr = total_psnr / num_batches\n",
        "    print(f\"PSNR: {avg_psnr:.4f}\")\n",
        "    return avg_psnr\n",
        "\n",
        "# Plot metrics\n",
        "def plot_metrics(metrics, num_epochs):\n",
        "    epochs = list(range(1, num_epochs + 1))\n",
        "\n",
        "    plt.figure(figsize=(18, 10))\n",
        "\n",
        "    # Accuracy plot\n",
        "    plt.subplot(3, 3, 1)\n",
        "    plt.plot(epochs, metrics['accuracy'], label=\"Accuracy\")\n",
        "    plt.title(\"Accuracy\")\n",
        "    plt.xlabel(\"Epochs\")\n",
        "    plt.ylabel(\"Accuracy\")\n",
        "    plt.grid(True)\n",
        "\n",
        "    # TPR plot\n",
        "    plt.subplot(3, 3, 2)\n",
        "    plt.plot(epochs, metrics['tpr'], label=\"TPR\")\n",
        "    plt.title(\"True Positive Rate (TPR)\")\n",
        "    plt.xlabel(\"Epochs\")\n",
        "    plt.ylabel(\"TPR\")\n",
        "    plt.grid(True)\n",
        "\n",
        "    # FPR plot\n",
        "    plt.subplot(3, 3, 3)\n",
        "    plt.plot(epochs, metrics['fpr'], label=\"FPR\")\n",
        "    plt.title(\"False Positive Rate (FPR)\")\n",
        "    plt.xlabel(\"Epochs\")\n",
        "    plt.ylabel(\"FPR\")\n",
        "    plt.grid(True)\n",
        "\n",
        "    # TNR plot\n",
        "    plt.subplot(3, 3, 4)\n",
        "    plt.plot(epochs, metrics['tnr'], label=\"TNR\")\n",
        "    plt.title(\"True Negative Rate (TNR)\")\n",
        "    plt.xlabel(\"Epochs\")\n",
        "    plt.ylabel(\"TNR\")\n",
        "    plt.grid(True)\n",
        "\n",
        "    # FNR plot\n",
        "    plt.subplot(3, 3, 5)\n",
        "    plt.plot(epochs, metrics['fnr'], label=\"FNR\")\n",
        "    plt.title(\"False Negative Rate (FNR)\")\n",
        "    plt.xlabel(\"Epochs\")\n",
        "    plt.ylabel(\"FNR\")\n",
        "    plt.grid(True)\n",
        "\n",
        "    # Precision plot\n",
        "    plt.subplot(3, 3, 6)\n",
        "    plt.plot(epochs, metrics['precision'], label=\"Precision\")\n",
        "    plt.title(\"Precision\")\n",
        "    plt.xlabel(\"Epochs\")\n",
        "    plt.ylabel(\"Precision\")\n",
        "    plt.grid(True)\n",
        "\n",
        "    # Recall plot\n",
        "    plt.subplot(3, 3, 7)\n",
        "    plt.plot(epochs, metrics['recall'], label=\"Recall\")\n",
        "    plt.title(\"Recall\")\n",
        "    plt.xlabel(\"Epochs\")\n",
        "    plt.ylabel(\"Recall\")\n",
        "    plt.grid(True)\n",
        "\n",
        "    # F1 Score plot\n",
        "    plt.subplot(3, 3, 8)\n",
        "    plt.plot(epochs, metrics['f1'], label=\"F1 Score\")\n",
        "    plt.title(\"F1 Score\")\n",
        "    plt.xlabel(\"Epochs\")\n",
        "    plt.ylabel(\"F1 Score\")\n",
        "    plt.grid(True)\n",
        "\n",
        "    # FID plot\n",
        "    plt.subplot(3, 3, 9)\n",
        "    plt.plot(epochs, metrics['fid'], label=\"FID\")\n",
        "    plt.title(\"Frechet Inception Distance (FID)\")\n",
        "    plt.xlabel(\"Epochs\")\n",
        "    plt.ylabel(\"FID\")\n",
        "    plt.grid(True)\n",
        "\n",
        "    plt.tight_layout()\n",
        "    plt.show()\n",
        "\n",
        "# Main function\n",
        "def main():\n",
        "    disc = Discriminator(in_channels=3).to(config.DEVICE)\n",
        "    gen = Generator(in_channels=3, features=64).to(config.DEVICE)\n",
        "    opt_disc = optim.Adam(disc.parameters(), lr=config.LEARNING_RATE, betas=(0.5, 0.999))\n",
        "    opt_gen = optim.Adam(gen.parameters(), lr=config.LEARNING_RATE, betas=(0.5, 0.999))\n",
        "    BCE = nn.BCEWithLogitsLoss()\n",
        "    L1_LOSS = nn.L1Loss()\n",
        "\n",
        "    if config.LOAD_MODEL:\n",
        "        load_checkpoint(config.CHECKPOINT_GEN, gen, opt_gen, config.LEARNING_RATE)\n",
        "        load_checkpoint(config.CHECKPOINT_DISC, disc, opt_disc, config.LEARNING_RATE)\n",
        "\n",
        "    g_scaler = torch.cuda.amp.GradScaler()\n",
        "    d_scaler = torch.cuda.amp.GradScaler()\n",
        "\n",
        "    # Initialize metric storage\n",
        "    metrics = {\n",
        "        'accuracy': [],\n",
        "        'tpr': [],\n",
        "        'fpr': [],\n",
        "        'tnr': [],\n",
        "        'fnr': [],\n",
        "        'precision': [],\n",
        "        'recall': [],\n",
        "        'f1': [],\n",
        "        'fid': [],\n",
        "        'psnr': []\n",
        "    }\n",
        "\n",
        "    # Initialize FID object from torchmetrics\n",
        "    fid = FrechetInceptionDistance(normalize=True).to('cpu')\n",
        "    for epoch in range(config.NUM_EPOCHS):\n",
        "        train_fn(disc, gen, train_loader, opt_disc, opt_gen, L1_LOSS, BCE, g_scaler, d_scaler)\n",
        "\n",
        "        # Calculate metrics every epoch\n",
        "        accuracy, tpr, fpr, tnr, fnr, precision, recall, f1 = calculate_classification_metrics(disc, gen, val_loader, config.DEVICE)\n",
        "        fid_score = calculate_fid(gen, val_loader, config.DEVICE, fid)\n",
        "        psnr_score = calculate_psnr(gen, val_loader, config.DEVICE)\n",
        "\n",
        "        # Store metrics for plotting later\n",
        "        metrics['accuracy'].append(accuracy)\n",
        "        metrics['tpr'].append(tpr)\n",
        "        metrics['fpr'].append(fpr)\n",
        "        metrics['tnr'].append(tnr)\n",
        "        metrics['fnr'].append(fnr)\n",
        "        metrics['precision'].append(precision)\n",
        "        metrics['recall'].append(recall)\n",
        "        metrics['f1'].append(f1)\n",
        "        metrics['fid'].append(fid_score)\n",
        "        metrics['psnr'].append(psnr_score)\n",
        "\n",
        "        print(f\"Epoch {epoch} - Metrics: Accuracy: {accuracy:.4f}, TPR: {tpr:.4f}, FPR: {fpr:.4f}, FID: {fid_score:.4f}, PSNR: {psnr_score:.4f}\")\n",
        "\n",
        "        # Save model checkpoints every 50 epochs\n",
        "        if epoch % 50 == 49:\n",
        "            print(f\"Saving model at epoch {epoch}\")\n",
        "            torch.save({\n",
        "                'epoch': epoch,\n",
        "                'generator_state_dict': gen.state_dict(),\n",
        "                'optimizer_gen_state_dict': opt_gen.state_dict(),\n",
        "            }, f\"{save_dir}generator_epoch_{epoch}.pth\")\n",
        "\n",
        "            torch.save({\n",
        "                'epoch': epoch,\n",
        "                'discriminator_state_dict': disc.state_dict(),\n",
        "                'optimizer_disc_state_dict': opt_disc.state_dict(),\n",
        "            }, f\"{save_dir}discriminator_epoch_{epoch}.pth\")\n",
        "\n",
        "            save_some_examples(gen, val_loader, epoch, folder=\"evaluation\")\n",
        "\n",
        "    # Plot metrics after training is complete\n",
        "    plot_metrics(metrics, config.NUM_EPOCHS)\n",
        "\n",
        "\n",
        "if __name__ == \"__main__\":\n",
        "    main()\n"
      ],
      "metadata": {
        "colab": {
          "base_uri": "https://localhost:8080/",
          "height": 1000
        },
        "id": "SUr8dMlx0G1K",
        "outputId": "167eb1be-2df3-4364-af66-b3562379486f"
      },
      "execution_count": 10,
      "outputs": [
        {
          "output_type": "stream",
          "name": "stderr",
          "text": [
            "<ipython-input-10-cdde3062e277>:230: FutureWarning: `torch.cuda.amp.GradScaler(args...)` is deprecated. Please use `torch.amp.GradScaler('cuda', args...)` instead.\n",
            "  g_scaler = torch.cuda.amp.GradScaler()\n",
            "<ipython-input-10-cdde3062e277>:231: FutureWarning: `torch.cuda.amp.GradScaler(args...)` is deprecated. Please use `torch.amp.GradScaler('cuda', args...)` instead.\n",
            "  d_scaler = torch.cuda.amp.GradScaler()\n",
            "  0%|          | 0/2 [00:00<?, ?it/s]<ipython-input-9-6490c8d8cca4>:11: FutureWarning: `torch.cuda.amp.autocast(args...)` is deprecated. Please use `torch.amp.autocast('cuda', args...)` instead.\n",
            "  with torch.cuda.amp.autocast():\n",
            "<ipython-input-9-6490c8d8cca4>:25: FutureWarning: `torch.cuda.amp.autocast(args...)` is deprecated. Please use `torch.amp.autocast('cuda', args...)` instead.\n",
            "  with torch.cuda.amp.autocast():\n",
            "100%|██████████| 2/2 [00:02<00:00,  1.10s/it, D_fake=0.458, D_real=0.605]\n"
          ]
        },
        {
          "output_type": "stream",
          "name": "stdout",
          "text": [
            "y_true size: (9000,), y_pred size: (9000,)\n",
            "Accuracy: 0.7431, TPR: 0.7258, FPR: 0.2396, TNR: 0.7604, FNR: 0.2742\n",
            "Precision: 0.7518, Recall: 0.7258, F1 Score: 0.7386\n",
            "FID: 478.5013122558594\n",
            "PSNR: 3.8829\n",
            "Epoch 0 - Metrics: Accuracy: 0.7431, TPR: 0.7258, FPR: 0.2396, FID: 478.5013, PSNR: 3.8829\n"
          ]
        },
        {
          "output_type": "stream",
          "name": "stderr",
          "text": [
            "\r  0%|          | 0/2 [00:00<?, ?it/s]<ipython-input-9-6490c8d8cca4>:11: FutureWarning: `torch.cuda.amp.autocast(args...)` is deprecated. Please use `torch.amp.autocast('cuda', args...)` instead.\n",
            "  with torch.cuda.amp.autocast():\n",
            "<ipython-input-9-6490c8d8cca4>:25: FutureWarning: `torch.cuda.amp.autocast(args...)` is deprecated. Please use `torch.amp.autocast('cuda', args...)` instead.\n",
            "  with torch.cuda.amp.autocast():\n",
            "100%|██████████| 2/2 [00:00<00:00,  5.78it/s, D_fake=0.468, D_real=0.504]\n"
          ]
        },
        {
          "output_type": "stream",
          "name": "stdout",
          "text": [
            "y_true size: (9000,), y_pred size: (9000,)\n",
            "Accuracy: 0.4467, TPR: 0.8933, FPR: 1.0000, TNR: 0.0000, FNR: 0.1067\n",
            "Precision: 0.4718, Recall: 0.8933, F1 Score: 0.6175\n",
            "FID: 478.5018615722656\n",
            "PSNR: 3.8829\n",
            "Epoch 1 - Metrics: Accuracy: 0.4467, TPR: 0.8933, FPR: 1.0000, FID: 478.5019, PSNR: 3.8829\n"
          ]
        },
        {
          "output_type": "stream",
          "name": "stderr",
          "text": [
            "\r  0%|          | 0/2 [00:00<?, ?it/s]<ipython-input-9-6490c8d8cca4>:11: FutureWarning: `torch.cuda.amp.autocast(args...)` is deprecated. Please use `torch.amp.autocast('cuda', args...)` instead.\n",
            "  with torch.cuda.amp.autocast():\n",
            "<ipython-input-9-6490c8d8cca4>:25: FutureWarning: `torch.cuda.amp.autocast(args...)` is deprecated. Please use `torch.amp.autocast('cuda', args...)` instead.\n",
            "  with torch.cuda.amp.autocast():\n",
            "100%|██████████| 2/2 [00:00<00:00,  6.48it/s, D_fake=0.292, D_real=0.58]\n"
          ]
        },
        {
          "output_type": "stream",
          "name": "stdout",
          "text": [
            "y_true size: (9000,), y_pred size: (9000,)\n",
            "Accuracy: 0.4224, TPR: 0.8449, FPR: 1.0000, TNR: 0.0000, FNR: 0.1551\n",
            "Precision: 0.4580, Recall: 0.8449, F1 Score: 0.5940\n",
            "FID: 455.3666076660156\n",
            "PSNR: 4.3911\n",
            "Epoch 2 - Metrics: Accuracy: 0.4224, TPR: 0.8449, FPR: 1.0000, FID: 455.3666, PSNR: 4.3911\n"
          ]
        },
        {
          "output_type": "stream",
          "name": "stderr",
          "text": [
            "\r  0%|          | 0/2 [00:00<?, ?it/s]<ipython-input-9-6490c8d8cca4>:11: FutureWarning: `torch.cuda.amp.autocast(args...)` is deprecated. Please use `torch.amp.autocast('cuda', args...)` instead.\n",
            "  with torch.cuda.amp.autocast():\n",
            "<ipython-input-9-6490c8d8cca4>:25: FutureWarning: `torch.cuda.amp.autocast(args...)` is deprecated. Please use `torch.amp.autocast('cuda', args...)` instead.\n",
            "  with torch.cuda.amp.autocast():\n",
            "100%|██████████| 2/2 [00:00<00:00,  5.79it/s, D_fake=0.0812, D_real=0.787]\n"
          ]
        },
        {
          "output_type": "stream",
          "name": "stdout",
          "text": [
            "y_true size: (9000,), y_pred size: (9000,)\n",
            "Accuracy: 0.5007, TPR: 1.0000, FPR: 0.9987, TNR: 0.0013, FNR: 0.0000\n",
            "Precision: 0.5003, Recall: 1.0000, F1 Score: 0.6670\n",
            "FID: 418.57379150390625\n",
            "PSNR: 6.1968\n",
            "Epoch 3 - Metrics: Accuracy: 0.5007, TPR: 1.0000, FPR: 0.9987, FID: 418.5738, PSNR: 6.1968\n"
          ]
        },
        {
          "output_type": "stream",
          "name": "stderr",
          "text": [
            "\r  0%|          | 0/2 [00:00<?, ?it/s]<ipython-input-9-6490c8d8cca4>:11: FutureWarning: `torch.cuda.amp.autocast(args...)` is deprecated. Please use `torch.amp.autocast('cuda', args...)` instead.\n",
            "  with torch.cuda.amp.autocast():\n",
            "<ipython-input-9-6490c8d8cca4>:25: FutureWarning: `torch.cuda.amp.autocast(args...)` is deprecated. Please use `torch.amp.autocast('cuda', args...)` instead.\n",
            "  with torch.cuda.amp.autocast():\n",
            "100%|██████████| 2/2 [00:00<00:00,  6.24it/s, D_fake=0.00106, D_real=0.974]\n"
          ]
        },
        {
          "output_type": "stream",
          "name": "stdout",
          "text": [
            "y_true size: (9000,), y_pred size: (9000,)\n",
            "Accuracy: 0.0040, TPR: 0.0080, FPR: 1.0000, TNR: 0.0000, FNR: 0.9920\n",
            "Precision: 0.0079, Recall: 0.0080, F1 Score: 0.0080\n",
            "FID: 454.9667663574219\n",
            "PSNR: 7.6714\n",
            "Epoch 4 - Metrics: Accuracy: 0.0040, TPR: 0.0080, FPR: 1.0000, FID: 454.9668, PSNR: 7.6714\n"
          ]
        },
        {
          "output_type": "stream",
          "name": "stderr",
          "text": [
            "\r  0%|          | 0/2 [00:00<?, ?it/s]<ipython-input-9-6490c8d8cca4>:11: FutureWarning: `torch.cuda.amp.autocast(args...)` is deprecated. Please use `torch.amp.autocast('cuda', args...)` instead.\n",
            "  with torch.cuda.amp.autocast():\n",
            "<ipython-input-9-6490c8d8cca4>:25: FutureWarning: `torch.cuda.amp.autocast(args...)` is deprecated. Please use `torch.amp.autocast('cuda', args...)` instead.\n",
            "  with torch.cuda.amp.autocast():\n",
            "100%|██████████| 2/2 [00:00<00:00,  6.00it/s, D_fake=0.00186, D_real=0.17]\n"
          ]
        },
        {
          "output_type": "stream",
          "name": "stdout",
          "text": [
            "y_true size: (9000,), y_pred size: (9000,)\n",
            "Accuracy: 0.3867, TPR: 0.7684, FPR: 0.9951, TNR: 0.0049, FNR: 0.2316\n",
            "Precision: 0.4357, Recall: 0.7684, F1 Score: 0.5561\n",
            "FID: 549.6429443359375\n",
            "PSNR: 9.0529\n",
            "Epoch 5 - Metrics: Accuracy: 0.3867, TPR: 0.7684, FPR: 0.9951, FID: 549.6429, PSNR: 9.0529\n"
          ]
        },
        {
          "output_type": "stream",
          "name": "stderr",
          "text": [
            "\r  0%|          | 0/2 [00:00<?, ?it/s]<ipython-input-9-6490c8d8cca4>:11: FutureWarning: `torch.cuda.amp.autocast(args...)` is deprecated. Please use `torch.amp.autocast('cuda', args...)` instead.\n",
            "  with torch.cuda.amp.autocast():\n",
            "<ipython-input-9-6490c8d8cca4>:25: FutureWarning: `torch.cuda.amp.autocast(args...)` is deprecated. Please use `torch.amp.autocast('cuda', args...)` instead.\n",
            "  with torch.cuda.amp.autocast():\n",
            "100%|██████████| 2/2 [00:00<00:00,  5.39it/s, D_fake=0.569, D_real=0.809]\n"
          ]
        },
        {
          "output_type": "stream",
          "name": "stdout",
          "text": [
            "y_true size: (9000,), y_pred size: (9000,)\n",
            "Accuracy: 0.9072, TPR: 0.8151, FPR: 0.0007, TNR: 0.9993, FNR: 0.1849\n",
            "Precision: 0.9992, Recall: 0.8151, F1 Score: 0.8978\n",
            "FID: 434.4845275878906\n",
            "PSNR: 9.8069\n",
            "Epoch 6 - Metrics: Accuracy: 0.9072, TPR: 0.8151, FPR: 0.0007, FID: 434.4845, PSNR: 9.8069\n"
          ]
        },
        {
          "output_type": "stream",
          "name": "stderr",
          "text": [
            "\r  0%|          | 0/2 [00:00<?, ?it/s]<ipython-input-9-6490c8d8cca4>:11: FutureWarning: `torch.cuda.amp.autocast(args...)` is deprecated. Please use `torch.amp.autocast('cuda', args...)` instead.\n",
            "  with torch.cuda.amp.autocast():\n",
            "<ipython-input-9-6490c8d8cca4>:25: FutureWarning: `torch.cuda.amp.autocast(args...)` is deprecated. Please use `torch.amp.autocast('cuda', args...)` instead.\n",
            "  with torch.cuda.amp.autocast():\n",
            "100%|██████████| 2/2 [00:00<00:00,  5.87it/s, D_fake=0.385, D_real=0.713]\n"
          ]
        },
        {
          "output_type": "stream",
          "name": "stdout",
          "text": [
            "y_true size: (9000,), y_pred size: (9000,)\n",
            "Accuracy: 0.1103, TPR: 0.2207, FPR: 1.0000, TNR: 0.0000, FNR: 0.7793\n",
            "Precision: 0.1808, Recall: 0.2207, F1 Score: 0.1987\n",
            "FID: 453.9634704589844\n",
            "PSNR: 9.4142\n",
            "Epoch 7 - Metrics: Accuracy: 0.1103, TPR: 0.2207, FPR: 1.0000, FID: 453.9635, PSNR: 9.4142\n"
          ]
        },
        {
          "output_type": "stream",
          "name": "stderr",
          "text": [
            "\r  0%|          | 0/2 [00:00<?, ?it/s]<ipython-input-9-6490c8d8cca4>:11: FutureWarning: `torch.cuda.amp.autocast(args...)` is deprecated. Please use `torch.amp.autocast('cuda', args...)` instead.\n",
            "  with torch.cuda.amp.autocast():\n",
            "<ipython-input-9-6490c8d8cca4>:25: FutureWarning: `torch.cuda.amp.autocast(args...)` is deprecated. Please use `torch.amp.autocast('cuda', args...)` instead.\n",
            "  with torch.cuda.amp.autocast():\n",
            "100%|██████████| 2/2 [00:00<00:00,  6.07it/s, D_fake=0.366, D_real=0.445]\n"
          ]
        },
        {
          "output_type": "stream",
          "name": "stdout",
          "text": [
            "y_true size: (9000,), y_pred size: (9000,)\n",
            "Accuracy: 0.1608, TPR: 0.2731, FPR: 0.9516, TNR: 0.0484, FNR: 0.7269\n",
            "Precision: 0.2230, Recall: 0.2731, F1 Score: 0.2455\n",
            "FID: 437.50433349609375\n",
            "PSNR: 9.5769\n",
            "Epoch 8 - Metrics: Accuracy: 0.1608, TPR: 0.2731, FPR: 0.9516, FID: 437.5043, PSNR: 9.5769\n"
          ]
        },
        {
          "output_type": "stream",
          "name": "stderr",
          "text": [
            "\r  0%|          | 0/2 [00:00<?, ?it/s]<ipython-input-9-6490c8d8cca4>:11: FutureWarning: `torch.cuda.amp.autocast(args...)` is deprecated. Please use `torch.amp.autocast('cuda', args...)` instead.\n",
            "  with torch.cuda.amp.autocast():\n",
            "<ipython-input-9-6490c8d8cca4>:25: FutureWarning: `torch.cuda.amp.autocast(args...)` is deprecated. Please use `torch.amp.autocast('cuda', args...)` instead.\n",
            "  with torch.cuda.amp.autocast():\n",
            "100%|██████████| 2/2 [00:00<00:00,  5.90it/s, D_fake=0.468, D_real=0.488]\n"
          ]
        },
        {
          "output_type": "stream",
          "name": "stdout",
          "text": [
            "y_true size: (9000,), y_pred size: (9000,)\n",
            "Accuracy: 0.0629, TPR: 0.1258, FPR: 1.0000, TNR: 0.0000, FNR: 0.8742\n",
            "Precision: 0.1117, Recall: 0.1258, F1 Score: 0.1183\n",
            "FID: 491.2745056152344\n",
            "PSNR: 9.9674\n",
            "Epoch 9 - Metrics: Accuracy: 0.0629, TPR: 0.1258, FPR: 1.0000, FID: 491.2745, PSNR: 9.9674\n"
          ]
        },
        {
          "output_type": "stream",
          "name": "stderr",
          "text": [
            "\r  0%|          | 0/2 [00:00<?, ?it/s]<ipython-input-9-6490c8d8cca4>:11: FutureWarning: `torch.cuda.amp.autocast(args...)` is deprecated. Please use `torch.amp.autocast('cuda', args...)` instead.\n",
            "  with torch.cuda.amp.autocast():\n",
            "<ipython-input-9-6490c8d8cca4>:25: FutureWarning: `torch.cuda.amp.autocast(args...)` is deprecated. Please use `torch.amp.autocast('cuda', args...)` instead.\n",
            "  with torch.cuda.amp.autocast():\n",
            "100%|██████████| 2/2 [00:00<00:00,  6.20it/s, D_fake=0.4, D_real=0.475]\n"
          ]
        },
        {
          "output_type": "stream",
          "name": "stdout",
          "text": [
            "y_true size: (9000,), y_pred size: (9000,)\n",
            "Accuracy: 0.8137, TPR: 0.6444, FPR: 0.0171, TNR: 0.9829, FNR: 0.3556\n",
            "Precision: 0.9741, Recall: 0.6444, F1 Score: 0.7757\n",
            "FID: 471.8186340332031\n",
            "PSNR: 8.8740\n",
            "Epoch 10 - Metrics: Accuracy: 0.8137, TPR: 0.6444, FPR: 0.0171, FID: 471.8186, PSNR: 8.8740\n"
          ]
        },
        {
          "output_type": "stream",
          "name": "stderr",
          "text": [
            "\r  0%|          | 0/2 [00:00<?, ?it/s]<ipython-input-9-6490c8d8cca4>:11: FutureWarning: `torch.cuda.amp.autocast(args...)` is deprecated. Please use `torch.amp.autocast('cuda', args...)` instead.\n",
            "  with torch.cuda.amp.autocast():\n",
            "<ipython-input-9-6490c8d8cca4>:25: FutureWarning: `torch.cuda.amp.autocast(args...)` is deprecated. Please use `torch.amp.autocast('cuda', args...)` instead.\n",
            "  with torch.cuda.amp.autocast():\n",
            "100%|██████████| 2/2 [00:00<00:00,  5.66it/s, D_fake=0.491, D_real=0.536]\n"
          ]
        },
        {
          "output_type": "stream",
          "name": "stdout",
          "text": [
            "y_true size: (9000,), y_pred size: (9000,)\n",
            "Accuracy: 0.2657, TPR: 0.5084, FPR: 0.9771, TNR: 0.0229, FNR: 0.4916\n",
            "Precision: 0.3423, Recall: 0.5084, F1 Score: 0.4091\n",
            "FID: 454.511474609375\n",
            "PSNR: 10.0634\n",
            "Epoch 11 - Metrics: Accuracy: 0.2657, TPR: 0.5084, FPR: 0.9771, FID: 454.5115, PSNR: 10.0634\n"
          ]
        },
        {
          "output_type": "stream",
          "name": "stderr",
          "text": [
            "\r  0%|          | 0/2 [00:00<?, ?it/s]<ipython-input-9-6490c8d8cca4>:11: FutureWarning: `torch.cuda.amp.autocast(args...)` is deprecated. Please use `torch.amp.autocast('cuda', args...)` instead.\n",
            "  with torch.cuda.amp.autocast():\n",
            "<ipython-input-9-6490c8d8cca4>:25: FutureWarning: `torch.cuda.amp.autocast(args...)` is deprecated. Please use `torch.amp.autocast('cuda', args...)` instead.\n",
            "  with torch.cuda.amp.autocast():\n",
            "100%|██████████| 2/2 [00:00<00:00,  5.95it/s, D_fake=0.375, D_real=0.531]\n"
          ]
        },
        {
          "output_type": "stream",
          "name": "stdout",
          "text": [
            "y_true size: (9000,), y_pred size: (9000,)\n",
            "Accuracy: 0.2582, TPR: 0.5151, FPR: 0.9987, TNR: 0.0013, FNR: 0.4849\n",
            "Precision: 0.3403, Recall: 0.5151, F1 Score: 0.4098\n",
            "FID: 445.7669372558594\n",
            "PSNR: 9.9960\n",
            "Epoch 12 - Metrics: Accuracy: 0.2582, TPR: 0.5151, FPR: 0.9987, FID: 445.7669, PSNR: 9.9960\n"
          ]
        },
        {
          "output_type": "stream",
          "name": "stderr",
          "text": [
            "\r  0%|          | 0/2 [00:00<?, ?it/s]<ipython-input-9-6490c8d8cca4>:11: FutureWarning: `torch.cuda.amp.autocast(args...)` is deprecated. Please use `torch.amp.autocast('cuda', args...)` instead.\n",
            "  with torch.cuda.amp.autocast():\n",
            "<ipython-input-9-6490c8d8cca4>:25: FutureWarning: `torch.cuda.amp.autocast(args...)` is deprecated. Please use `torch.amp.autocast('cuda', args...)` instead.\n",
            "  with torch.cuda.amp.autocast():\n",
            "100%|██████████| 2/2 [00:00<00:00,  5.30it/s, D_fake=0.474, D_real=0.537]\n"
          ]
        },
        {
          "output_type": "stream",
          "name": "stdout",
          "text": [
            "y_true size: (9000,), y_pred size: (9000,)\n",
            "Accuracy: 0.2321, TPR: 0.4642, FPR: 1.0000, TNR: 0.0000, FNR: 0.5358\n",
            "Precision: 0.3170, Recall: 0.4642, F1 Score: 0.3768\n",
            "FID: 446.43621826171875\n",
            "PSNR: 10.1216\n",
            "Epoch 13 - Metrics: Accuracy: 0.2321, TPR: 0.4642, FPR: 1.0000, FID: 446.4362, PSNR: 10.1216\n"
          ]
        },
        {
          "output_type": "stream",
          "name": "stderr",
          "text": [
            "\r  0%|          | 0/2 [00:00<?, ?it/s]<ipython-input-9-6490c8d8cca4>:11: FutureWarning: `torch.cuda.amp.autocast(args...)` is deprecated. Please use `torch.amp.autocast('cuda', args...)` instead.\n",
            "  with torch.cuda.amp.autocast():\n",
            "<ipython-input-9-6490c8d8cca4>:25: FutureWarning: `torch.cuda.amp.autocast(args...)` is deprecated. Please use `torch.amp.autocast('cuda', args...)` instead.\n",
            "  with torch.cuda.amp.autocast():\n",
            "100%|██████████| 2/2 [00:00<00:00,  5.81it/s, D_fake=0.367, D_real=0.508]\n"
          ]
        },
        {
          "output_type": "stream",
          "name": "stdout",
          "text": [
            "y_true size: (9000,), y_pred size: (9000,)\n",
            "Accuracy: 0.9552, TPR: 0.9104, FPR: 0.0000, TNR: 1.0000, FNR: 0.0896\n",
            "Precision: 1.0000, Recall: 0.9104, F1 Score: 0.9531\n",
            "FID: 430.8404846191406\n",
            "PSNR: 10.1153\n",
            "Epoch 14 - Metrics: Accuracy: 0.9552, TPR: 0.9104, FPR: 0.0000, FID: 430.8405, PSNR: 10.1153\n"
          ]
        },
        {
          "output_type": "stream",
          "name": "stderr",
          "text": [
            "\r  0%|          | 0/2 [00:00<?, ?it/s]<ipython-input-9-6490c8d8cca4>:11: FutureWarning: `torch.cuda.amp.autocast(args...)` is deprecated. Please use `torch.amp.autocast('cuda', args...)` instead.\n",
            "  with torch.cuda.amp.autocast():\n",
            "<ipython-input-9-6490c8d8cca4>:25: FutureWarning: `torch.cuda.amp.autocast(args...)` is deprecated. Please use `torch.amp.autocast('cuda', args...)` instead.\n",
            "  with torch.cuda.amp.autocast():\n",
            "100%|██████████| 2/2 [00:00<00:00,  5.80it/s, D_fake=0.222, D_real=0.708]\n"
          ]
        },
        {
          "output_type": "stream",
          "name": "stdout",
          "text": [
            "y_true size: (9000,), y_pred size: (9000,)\n",
            "Accuracy: 0.8426, TPR: 0.6856, FPR: 0.0004, TNR: 0.9996, FNR: 0.3144\n",
            "Precision: 0.9994, Recall: 0.6856, F1 Score: 0.8132\n",
            "FID: 480.9685363769531\n",
            "PSNR: 9.5943\n",
            "Epoch 15 - Metrics: Accuracy: 0.8426, TPR: 0.6856, FPR: 0.0004, FID: 480.9685, PSNR: 9.5943\n"
          ]
        },
        {
          "output_type": "stream",
          "name": "stderr",
          "text": [
            "\r  0%|          | 0/2 [00:00<?, ?it/s]<ipython-input-9-6490c8d8cca4>:11: FutureWarning: `torch.cuda.amp.autocast(args...)` is deprecated. Please use `torch.amp.autocast('cuda', args...)` instead.\n",
            "  with torch.cuda.amp.autocast():\n",
            "<ipython-input-9-6490c8d8cca4>:25: FutureWarning: `torch.cuda.amp.autocast(args...)` is deprecated. Please use `torch.amp.autocast('cuda', args...)` instead.\n",
            "  with torch.cuda.amp.autocast():\n",
            "100%|██████████| 2/2 [00:00<00:00,  6.09it/s, D_fake=0.552, D_real=0.549]\n"
          ]
        },
        {
          "output_type": "stream",
          "name": "stdout",
          "text": [
            "y_true size: (9000,), y_pred size: (9000,)\n",
            "Accuracy: 0.1728, TPR: 0.3456, FPR: 1.0000, TNR: 0.0000, FNR: 0.6544\n",
            "Precision: 0.2568, Recall: 0.3456, F1 Score: 0.2946\n",
            "FID: 433.0909729003906\n",
            "PSNR: 10.0925\n",
            "Epoch 16 - Metrics: Accuracy: 0.1728, TPR: 0.3456, FPR: 1.0000, FID: 433.0910, PSNR: 10.0925\n"
          ]
        },
        {
          "output_type": "stream",
          "name": "stderr",
          "text": [
            "\r  0%|          | 0/2 [00:00<?, ?it/s]<ipython-input-9-6490c8d8cca4>:11: FutureWarning: `torch.cuda.amp.autocast(args...)` is deprecated. Please use `torch.amp.autocast('cuda', args...)` instead.\n",
            "  with torch.cuda.amp.autocast():\n",
            "<ipython-input-9-6490c8d8cca4>:25: FutureWarning: `torch.cuda.amp.autocast(args...)` is deprecated. Please use `torch.amp.autocast('cuda', args...)` instead.\n",
            "  with torch.cuda.amp.autocast():\n",
            "100%|██████████| 2/2 [00:00<00:00,  5.96it/s, D_fake=0.347, D_real=0.49]\n"
          ]
        },
        {
          "output_type": "stream",
          "name": "stdout",
          "text": [
            "y_true size: (9000,), y_pred size: (9000,)\n",
            "Accuracy: 0.3236, TPR: 0.6471, FPR: 1.0000, TNR: 0.0000, FNR: 0.3529\n",
            "Precision: 0.3929, Recall: 0.6471, F1 Score: 0.4889\n",
            "FID: 419.5101623535156\n",
            "PSNR: 10.2005\n",
            "Epoch 17 - Metrics: Accuracy: 0.3236, TPR: 0.6471, FPR: 1.0000, FID: 419.5102, PSNR: 10.2005\n"
          ]
        },
        {
          "output_type": "stream",
          "name": "stderr",
          "text": [
            "\r  0%|          | 0/2 [00:00<?, ?it/s]<ipython-input-9-6490c8d8cca4>:11: FutureWarning: `torch.cuda.amp.autocast(args...)` is deprecated. Please use `torch.amp.autocast('cuda', args...)` instead.\n",
            "  with torch.cuda.amp.autocast():\n",
            "<ipython-input-9-6490c8d8cca4>:25: FutureWarning: `torch.cuda.amp.autocast(args...)` is deprecated. Please use `torch.amp.autocast('cuda', args...)` instead.\n",
            "  with torch.cuda.amp.autocast():\n",
            "100%|██████████| 2/2 [00:00<00:00,  6.11it/s, D_fake=0.4, D_real=0.604]\n"
          ]
        },
        {
          "output_type": "stream",
          "name": "stdout",
          "text": [
            "y_true size: (9000,), y_pred size: (9000,)\n",
            "Accuracy: 0.3676, TPR: 0.7351, FPR: 1.0000, TNR: 0.0000, FNR: 0.2649\n",
            "Precision: 0.4237, Recall: 0.7351, F1 Score: 0.5375\n",
            "FID: 408.71014404296875\n",
            "PSNR: 10.2207\n",
            "Epoch 18 - Metrics: Accuracy: 0.3676, TPR: 0.7351, FPR: 1.0000, FID: 408.7101, PSNR: 10.2207\n"
          ]
        },
        {
          "output_type": "stream",
          "name": "stderr",
          "text": [
            "\r  0%|          | 0/2 [00:00<?, ?it/s]<ipython-input-9-6490c8d8cca4>:11: FutureWarning: `torch.cuda.amp.autocast(args...)` is deprecated. Please use `torch.amp.autocast('cuda', args...)` instead.\n",
            "  with torch.cuda.amp.autocast():\n",
            "<ipython-input-9-6490c8d8cca4>:25: FutureWarning: `torch.cuda.amp.autocast(args...)` is deprecated. Please use `torch.amp.autocast('cuda', args...)` instead.\n",
            "  with torch.cuda.amp.autocast():\n",
            "100%|██████████| 2/2 [00:00<00:00,  6.11it/s, D_fake=0.359, D_real=0.662]\n"
          ]
        },
        {
          "output_type": "stream",
          "name": "stdout",
          "text": [
            "y_true size: (9000,), y_pred size: (9000,)\n",
            "Accuracy: 0.8359, TPR: 0.6718, FPR: 0.0000, TNR: 1.0000, FNR: 0.3282\n",
            "Precision: 1.0000, Recall: 0.6718, F1 Score: 0.8037\n",
            "FID: 471.57867431640625\n",
            "PSNR: 9.7764\n",
            "Epoch 19 - Metrics: Accuracy: 0.8359, TPR: 0.6718, FPR: 0.0000, FID: 471.5787, PSNR: 9.7764\n"
          ]
        },
        {
          "output_type": "stream",
          "name": "stderr",
          "text": [
            "\r  0%|          | 0/2 [00:00<?, ?it/s]<ipython-input-9-6490c8d8cca4>:11: FutureWarning: `torch.cuda.amp.autocast(args...)` is deprecated. Please use `torch.amp.autocast('cuda', args...)` instead.\n",
            "  with torch.cuda.amp.autocast():\n",
            "<ipython-input-9-6490c8d8cca4>:25: FutureWarning: `torch.cuda.amp.autocast(args...)` is deprecated. Please use `torch.amp.autocast('cuda', args...)` instead.\n",
            "  with torch.cuda.amp.autocast():\n",
            "100%|██████████| 2/2 [00:00<00:00,  5.69it/s, D_fake=0.152, D_real=0.692]\n"
          ]
        },
        {
          "output_type": "stream",
          "name": "stdout",
          "text": [
            "y_true size: (9000,), y_pred size: (9000,)\n",
            "Accuracy: 0.8947, TPR: 0.7893, FPR: 0.0000, TNR: 1.0000, FNR: 0.2107\n",
            "Precision: 1.0000, Recall: 0.7893, F1 Score: 0.8823\n",
            "FID: 494.6197814941406\n",
            "PSNR: 9.4711\n",
            "Epoch 20 - Metrics: Accuracy: 0.8947, TPR: 0.7893, FPR: 0.0000, FID: 494.6198, PSNR: 9.4711\n"
          ]
        },
        {
          "output_type": "stream",
          "name": "stderr",
          "text": [
            "\r  0%|          | 0/2 [00:00<?, ?it/s]<ipython-input-9-6490c8d8cca4>:11: FutureWarning: `torch.cuda.amp.autocast(args...)` is deprecated. Please use `torch.amp.autocast('cuda', args...)` instead.\n",
            "  with torch.cuda.amp.autocast():\n",
            "<ipython-input-9-6490c8d8cca4>:25: FutureWarning: `torch.cuda.amp.autocast(args...)` is deprecated. Please use `torch.amp.autocast('cuda', args...)` instead.\n",
            "  with torch.cuda.amp.autocast():\n",
            "100%|██████████| 2/2 [00:00<00:00,  5.82it/s, D_fake=0.64, D_real=0.702]\n"
          ]
        },
        {
          "output_type": "stream",
          "name": "stdout",
          "text": [
            "y_true size: (9000,), y_pred size: (9000,)\n",
            "Accuracy: 0.2138, TPR: 0.4276, FPR: 1.0000, TNR: 0.0000, FNR: 0.5724\n",
            "Precision: 0.2995, Recall: 0.4276, F1 Score: 0.3523\n",
            "FID: 410.768798828125\n",
            "PSNR: 9.9014\n",
            "Epoch 21 - Metrics: Accuracy: 0.2138, TPR: 0.4276, FPR: 1.0000, FID: 410.7688, PSNR: 9.9014\n"
          ]
        },
        {
          "output_type": "stream",
          "name": "stderr",
          "text": [
            "\r  0%|          | 0/2 [00:00<?, ?it/s]<ipython-input-9-6490c8d8cca4>:11: FutureWarning: `torch.cuda.amp.autocast(args...)` is deprecated. Please use `torch.amp.autocast('cuda', args...)` instead.\n",
            "  with torch.cuda.amp.autocast():\n",
            "<ipython-input-9-6490c8d8cca4>:25: FutureWarning: `torch.cuda.amp.autocast(args...)` is deprecated. Please use `torch.amp.autocast('cuda', args...)` instead.\n",
            "  with torch.cuda.amp.autocast():\n",
            "100%|██████████| 2/2 [00:00<00:00,  5.96it/s, D_fake=0.352, D_real=0.488]\n"
          ]
        },
        {
          "output_type": "stream",
          "name": "stdout",
          "text": [
            "y_true size: (9000,), y_pred size: (9000,)\n",
            "Accuracy: 0.0770, TPR: 0.1540, FPR: 1.0000, TNR: 0.0000, FNR: 0.8460\n",
            "Precision: 0.1334, Recall: 0.1540, F1 Score: 0.1430\n",
            "FID: 426.8032531738281\n",
            "PSNR: 10.0660\n",
            "Epoch 22 - Metrics: Accuracy: 0.0770, TPR: 0.1540, FPR: 1.0000, FID: 426.8033, PSNR: 10.0660\n"
          ]
        },
        {
          "output_type": "stream",
          "name": "stderr",
          "text": [
            "\r  0%|          | 0/2 [00:00<?, ?it/s]<ipython-input-9-6490c8d8cca4>:11: FutureWarning: `torch.cuda.amp.autocast(args...)` is deprecated. Please use `torch.amp.autocast('cuda', args...)` instead.\n",
            "  with torch.cuda.amp.autocast():\n",
            "<ipython-input-9-6490c8d8cca4>:25: FutureWarning: `torch.cuda.amp.autocast(args...)` is deprecated. Please use `torch.amp.autocast('cuda', args...)` instead.\n",
            "  with torch.cuda.amp.autocast():\n",
            "100%|██████████| 2/2 [00:00<00:00,  5.79it/s, D_fake=0.364, D_real=0.434]\n"
          ]
        },
        {
          "output_type": "stream",
          "name": "stdout",
          "text": [
            "y_true size: (9000,), y_pred size: (9000,)\n",
            "Accuracy: 0.2770, TPR: 0.5540, FPR: 1.0000, TNR: 0.0000, FNR: 0.4460\n",
            "Precision: 0.3565, Recall: 0.5540, F1 Score: 0.4338\n",
            "FID: 475.4400634765625\n",
            "PSNR: 9.7832\n",
            "Epoch 23 - Metrics: Accuracy: 0.2770, TPR: 0.5540, FPR: 1.0000, FID: 475.4401, PSNR: 9.7832\n"
          ]
        },
        {
          "output_type": "stream",
          "name": "stderr",
          "text": [
            "\r  0%|          | 0/2 [00:00<?, ?it/s]<ipython-input-9-6490c8d8cca4>:11: FutureWarning: `torch.cuda.amp.autocast(args...)` is deprecated. Please use `torch.amp.autocast('cuda', args...)` instead.\n",
            "  with torch.cuda.amp.autocast():\n",
            "<ipython-input-9-6490c8d8cca4>:25: FutureWarning: `torch.cuda.amp.autocast(args...)` is deprecated. Please use `torch.amp.autocast('cuda', args...)` instead.\n",
            "  with torch.cuda.amp.autocast():\n",
            "100%|██████████| 2/2 [00:00<00:00,  6.02it/s, D_fake=0.413, D_real=0.516]\n"
          ]
        },
        {
          "output_type": "stream",
          "name": "stdout",
          "text": [
            "y_true size: (9000,), y_pred size: (9000,)\n",
            "Accuracy: 0.2738, TPR: 0.5442, FPR: 0.9967, TNR: 0.0033, FNR: 0.4558\n",
            "Precision: 0.3532, Recall: 0.5442, F1 Score: 0.4284\n",
            "FID: 487.13092041015625\n",
            "PSNR: 9.1597\n",
            "Epoch 24 - Metrics: Accuracy: 0.2738, TPR: 0.5442, FPR: 0.9967, FID: 487.1309, PSNR: 9.1597\n"
          ]
        },
        {
          "output_type": "stream",
          "name": "stderr",
          "text": [
            "\r  0%|          | 0/2 [00:00<?, ?it/s]<ipython-input-9-6490c8d8cca4>:11: FutureWarning: `torch.cuda.amp.autocast(args...)` is deprecated. Please use `torch.amp.autocast('cuda', args...)` instead.\n",
            "  with torch.cuda.amp.autocast():\n",
            "<ipython-input-9-6490c8d8cca4>:25: FutureWarning: `torch.cuda.amp.autocast(args...)` is deprecated. Please use `torch.amp.autocast('cuda', args...)` instead.\n",
            "  with torch.cuda.amp.autocast():\n",
            "100%|██████████| 2/2 [00:00<00:00,  5.11it/s, D_fake=0.376, D_real=0.516]\n"
          ]
        },
        {
          "output_type": "stream",
          "name": "stdout",
          "text": [
            "y_true size: (9000,), y_pred size: (9000,)\n",
            "Accuracy: 0.2128, TPR: 0.4256, FPR: 1.0000, TNR: 0.0000, FNR: 0.5744\n",
            "Precision: 0.2985, Recall: 0.4256, F1 Score: 0.3509\n",
            "FID: 424.647216796875\n",
            "PSNR: 9.9998\n",
            "Epoch 25 - Metrics: Accuracy: 0.2128, TPR: 0.4256, FPR: 1.0000, FID: 424.6472, PSNR: 9.9998\n"
          ]
        },
        {
          "output_type": "stream",
          "name": "stderr",
          "text": [
            "\r  0%|          | 0/2 [00:00<?, ?it/s]<ipython-input-9-6490c8d8cca4>:11: FutureWarning: `torch.cuda.amp.autocast(args...)` is deprecated. Please use `torch.amp.autocast('cuda', args...)` instead.\n",
            "  with torch.cuda.amp.autocast():\n",
            "<ipython-input-9-6490c8d8cca4>:25: FutureWarning: `torch.cuda.amp.autocast(args...)` is deprecated. Please use `torch.amp.autocast('cuda', args...)` instead.\n",
            "  with torch.cuda.amp.autocast():\n",
            "100%|██████████| 2/2 [00:00<00:00,  6.02it/s, D_fake=0.362, D_real=0.5]\n"
          ]
        },
        {
          "output_type": "stream",
          "name": "stdout",
          "text": [
            "y_true size: (9000,), y_pred size: (9000,)\n",
            "Accuracy: 0.4726, TPR: 0.9424, FPR: 0.9973, TNR: 0.0027, FNR: 0.0576\n",
            "Precision: 0.4859, Recall: 0.9424, F1 Score: 0.6412\n",
            "FID: 407.3201599121094\n",
            "PSNR: 10.1479\n",
            "Epoch 26 - Metrics: Accuracy: 0.4726, TPR: 0.9424, FPR: 0.9973, FID: 407.3202, PSNR: 10.1479\n"
          ]
        },
        {
          "output_type": "stream",
          "name": "stderr",
          "text": [
            "\r  0%|          | 0/2 [00:00<?, ?it/s]<ipython-input-9-6490c8d8cca4>:11: FutureWarning: `torch.cuda.amp.autocast(args...)` is deprecated. Please use `torch.amp.autocast('cuda', args...)` instead.\n",
            "  with torch.cuda.amp.autocast():\n",
            "<ipython-input-9-6490c8d8cca4>:25: FutureWarning: `torch.cuda.amp.autocast(args...)` is deprecated. Please use `torch.amp.autocast('cuda', args...)` instead.\n",
            "  with torch.cuda.amp.autocast():\n",
            "100%|██████████| 2/2 [00:00<00:00,  6.04it/s, D_fake=0.36, D_real=0.666]\n"
          ]
        },
        {
          "output_type": "stream",
          "name": "stdout",
          "text": [
            "y_true size: (9000,), y_pred size: (9000,)\n",
            "Accuracy: 0.3579, TPR: 0.7158, FPR: 1.0000, TNR: 0.0000, FNR: 0.2842\n",
            "Precision: 0.4172, Recall: 0.7158, F1 Score: 0.5271\n",
            "FID: 486.5955505371094\n",
            "PSNR: 9.7615\n",
            "Epoch 27 - Metrics: Accuracy: 0.3579, TPR: 0.7158, FPR: 1.0000, FID: 486.5956, PSNR: 9.7615\n"
          ]
        },
        {
          "output_type": "stream",
          "name": "stderr",
          "text": [
            "\r  0%|          | 0/2 [00:00<?, ?it/s]<ipython-input-9-6490c8d8cca4>:11: FutureWarning: `torch.cuda.amp.autocast(args...)` is deprecated. Please use `torch.amp.autocast('cuda', args...)` instead.\n",
            "  with torch.cuda.amp.autocast():\n",
            "<ipython-input-9-6490c8d8cca4>:25: FutureWarning: `torch.cuda.amp.autocast(args...)` is deprecated. Please use `torch.amp.autocast('cuda', args...)` instead.\n",
            "  with torch.cuda.amp.autocast():\n",
            "100%|██████████| 2/2 [00:00<00:00,  5.99it/s, D_fake=0.256, D_real=0.62]\n"
          ]
        },
        {
          "output_type": "stream",
          "name": "stdout",
          "text": [
            "y_true size: (9000,), y_pred size: (9000,)\n",
            "Accuracy: 0.7080, TPR: 0.9289, FPR: 0.5129, TNR: 0.4871, FNR: 0.0711\n",
            "Precision: 0.6443, Recall: 0.9289, F1 Score: 0.7608\n",
            "FID: 503.676025390625\n",
            "PSNR: 9.7030\n",
            "Epoch 28 - Metrics: Accuracy: 0.7080, TPR: 0.9289, FPR: 0.5129, FID: 503.6760, PSNR: 9.7030\n"
          ]
        },
        {
          "output_type": "stream",
          "name": "stderr",
          "text": [
            "\r  0%|          | 0/2 [00:00<?, ?it/s]<ipython-input-9-6490c8d8cca4>:11: FutureWarning: `torch.cuda.amp.autocast(args...)` is deprecated. Please use `torch.amp.autocast('cuda', args...)` instead.\n",
            "  with torch.cuda.amp.autocast():\n",
            "<ipython-input-9-6490c8d8cca4>:25: FutureWarning: `torch.cuda.amp.autocast(args...)` is deprecated. Please use `torch.amp.autocast('cuda', args...)` instead.\n",
            "  with torch.cuda.amp.autocast():\n",
            "100%|██████████| 2/2 [00:00<00:00,  6.21it/s, D_fake=0.184, D_real=0.733]\n"
          ]
        },
        {
          "output_type": "stream",
          "name": "stdout",
          "text": [
            "y_true size: (9000,), y_pred size: (9000,)\n",
            "Accuracy: 0.3156, TPR: 0.6311, FPR: 1.0000, TNR: 0.0000, FNR: 0.3689\n",
            "Precision: 0.3869, Recall: 0.6311, F1 Score: 0.4797\n",
            "FID: 432.2320861816406\n",
            "PSNR: 10.3166\n",
            "Epoch 29 - Metrics: Accuracy: 0.3156, TPR: 0.6311, FPR: 1.0000, FID: 432.2321, PSNR: 10.3166\n"
          ]
        },
        {
          "output_type": "stream",
          "name": "stderr",
          "text": [
            "\r  0%|          | 0/2 [00:00<?, ?it/s]<ipython-input-9-6490c8d8cca4>:11: FutureWarning: `torch.cuda.amp.autocast(args...)` is deprecated. Please use `torch.amp.autocast('cuda', args...)` instead.\n",
            "  with torch.cuda.amp.autocast():\n",
            "<ipython-input-9-6490c8d8cca4>:25: FutureWarning: `torch.cuda.amp.autocast(args...)` is deprecated. Please use `torch.amp.autocast('cuda', args...)` instead.\n",
            "  with torch.cuda.amp.autocast():\n",
            "100%|██████████| 2/2 [00:00<00:00,  5.85it/s, D_fake=0.347, D_real=0.622]\n"
          ]
        },
        {
          "output_type": "stream",
          "name": "stdout",
          "text": [
            "y_true size: (9000,), y_pred size: (9000,)\n",
            "Accuracy: 0.6241, TPR: 0.9658, FPR: 0.7176, TNR: 0.2824, FNR: 0.0342\n",
            "Precision: 0.5737, Recall: 0.9658, F1 Score: 0.7198\n",
            "FID: 424.8011474609375\n",
            "PSNR: 10.2847\n",
            "Epoch 30 - Metrics: Accuracy: 0.6241, TPR: 0.9658, FPR: 0.7176, FID: 424.8011, PSNR: 10.2847\n"
          ]
        },
        {
          "output_type": "stream",
          "name": "stderr",
          "text": [
            "\r  0%|          | 0/2 [00:00<?, ?it/s]<ipython-input-9-6490c8d8cca4>:11: FutureWarning: `torch.cuda.amp.autocast(args...)` is deprecated. Please use `torch.amp.autocast('cuda', args...)` instead.\n",
            "  with torch.cuda.amp.autocast():\n",
            "<ipython-input-9-6490c8d8cca4>:25: FutureWarning: `torch.cuda.amp.autocast(args...)` is deprecated. Please use `torch.amp.autocast('cuda', args...)` instead.\n",
            "  with torch.cuda.amp.autocast():\n",
            "100%|██████████| 2/2 [00:00<00:00,  5.96it/s, D_fake=0.169, D_real=0.826]\n"
          ]
        },
        {
          "output_type": "stream",
          "name": "stdout",
          "text": [
            "y_true size: (9000,), y_pred size: (9000,)\n",
            "Accuracy: 0.4344, TPR: 0.8689, FPR: 1.0000, TNR: 0.0000, FNR: 0.1311\n",
            "Precision: 0.4649, Recall: 0.8689, F1 Score: 0.6057\n",
            "FID: 399.55364990234375\n",
            "PSNR: 10.3357\n",
            "Epoch 31 - Metrics: Accuracy: 0.4344, TPR: 0.8689, FPR: 1.0000, FID: 399.5536, PSNR: 10.3357\n"
          ]
        },
        {
          "output_type": "stream",
          "name": "stderr",
          "text": [
            "\r  0%|          | 0/2 [00:00<?, ?it/s]<ipython-input-9-6490c8d8cca4>:11: FutureWarning: `torch.cuda.amp.autocast(args...)` is deprecated. Please use `torch.amp.autocast('cuda', args...)` instead.\n",
            "  with torch.cuda.amp.autocast():\n",
            "<ipython-input-9-6490c8d8cca4>:25: FutureWarning: `torch.cuda.amp.autocast(args...)` is deprecated. Please use `torch.amp.autocast('cuda', args...)` instead.\n",
            "  with torch.cuda.amp.autocast():\n",
            "100%|██████████| 2/2 [00:00<00:00,  5.61it/s, D_fake=0.334, D_real=0.763]\n"
          ]
        },
        {
          "output_type": "stream",
          "name": "stdout",
          "text": [
            "y_true size: (9000,), y_pred size: (9000,)\n",
            "Accuracy: 0.2703, TPR: 0.5407, FPR: 1.0000, TNR: 0.0000, FNR: 0.4593\n",
            "Precision: 0.3509, Recall: 0.5407, F1 Score: 0.4256\n",
            "FID: 414.19903564453125\n",
            "PSNR: 10.1737\n",
            "Epoch 32 - Metrics: Accuracy: 0.2703, TPR: 0.5407, FPR: 1.0000, FID: 414.1990, PSNR: 10.1737\n"
          ]
        },
        {
          "output_type": "stream",
          "name": "stderr",
          "text": [
            "\r  0%|          | 0/2 [00:00<?, ?it/s]<ipython-input-9-6490c8d8cca4>:11: FutureWarning: `torch.cuda.amp.autocast(args...)` is deprecated. Please use `torch.amp.autocast('cuda', args...)` instead.\n",
            "  with torch.cuda.amp.autocast():\n",
            "<ipython-input-9-6490c8d8cca4>:25: FutureWarning: `torch.cuda.amp.autocast(args...)` is deprecated. Please use `torch.amp.autocast('cuda', args...)` instead.\n",
            "  with torch.cuda.amp.autocast():\n",
            "100%|██████████| 2/2 [00:00<00:00,  5.93it/s, D_fake=0.177, D_real=0.498]\n"
          ]
        },
        {
          "output_type": "stream",
          "name": "stdout",
          "text": [
            "y_true size: (9000,), y_pred size: (9000,)\n",
            "Accuracy: 0.2203, TPR: 0.4407, FPR: 1.0000, TNR: 0.0000, FNR: 0.5593\n",
            "Precision: 0.3059, Recall: 0.4407, F1 Score: 0.3611\n",
            "FID: 388.67633056640625\n",
            "PSNR: 10.2813\n",
            "Epoch 33 - Metrics: Accuracy: 0.2203, TPR: 0.4407, FPR: 1.0000, FID: 388.6763, PSNR: 10.2813\n"
          ]
        },
        {
          "output_type": "stream",
          "name": "stderr",
          "text": [
            "\r  0%|          | 0/2 [00:00<?, ?it/s]<ipython-input-9-6490c8d8cca4>:11: FutureWarning: `torch.cuda.amp.autocast(args...)` is deprecated. Please use `torch.amp.autocast('cuda', args...)` instead.\n",
            "  with torch.cuda.amp.autocast():\n",
            "<ipython-input-9-6490c8d8cca4>:25: FutureWarning: `torch.cuda.amp.autocast(args...)` is deprecated. Please use `torch.amp.autocast('cuda', args...)` instead.\n",
            "  with torch.cuda.amp.autocast():\n",
            "100%|██████████| 2/2 [00:00<00:00,  6.00it/s, D_fake=0.271, D_real=0.442]\n"
          ]
        },
        {
          "output_type": "stream",
          "name": "stdout",
          "text": [
            "y_true size: (9000,), y_pred size: (9000,)\n",
            "Accuracy: 0.2738, TPR: 0.5476, FPR: 1.0000, TNR: 0.0000, FNR: 0.4524\n",
            "Precision: 0.3538, Recall: 0.5476, F1 Score: 0.4299\n",
            "FID: 405.6299133300781\n",
            "PSNR: 10.1906\n",
            "Epoch 34 - Metrics: Accuracy: 0.2738, TPR: 0.5476, FPR: 1.0000, FID: 405.6299, PSNR: 10.1906\n"
          ]
        },
        {
          "output_type": "stream",
          "name": "stderr",
          "text": [
            "\r  0%|          | 0/2 [00:00<?, ?it/s]<ipython-input-9-6490c8d8cca4>:11: FutureWarning: `torch.cuda.amp.autocast(args...)` is deprecated. Please use `torch.amp.autocast('cuda', args...)` instead.\n",
            "  with torch.cuda.amp.autocast():\n",
            "<ipython-input-9-6490c8d8cca4>:25: FutureWarning: `torch.cuda.amp.autocast(args...)` is deprecated. Please use `torch.amp.autocast('cuda', args...)` instead.\n",
            "  with torch.cuda.amp.autocast():\n",
            "100%|██████████| 2/2 [00:00<00:00,  5.99it/s, D_fake=0.399, D_real=0.597]\n"
          ]
        },
        {
          "output_type": "stream",
          "name": "stdout",
          "text": [
            "y_true size: (9000,), y_pred size: (9000,)\n",
            "Accuracy: 0.4276, TPR: 0.8433, FPR: 0.9882, TNR: 0.0118, FNR: 0.1567\n",
            "Precision: 0.4604, Recall: 0.8433, F1 Score: 0.5957\n",
            "FID: 436.5928649902344\n",
            "PSNR: 9.4751\n",
            "Epoch 35 - Metrics: Accuracy: 0.4276, TPR: 0.8433, FPR: 0.9882, FID: 436.5929, PSNR: 9.4751\n"
          ]
        },
        {
          "output_type": "stream",
          "name": "stderr",
          "text": [
            "\r  0%|          | 0/2 [00:00<?, ?it/s]<ipython-input-9-6490c8d8cca4>:11: FutureWarning: `torch.cuda.amp.autocast(args...)` is deprecated. Please use `torch.amp.autocast('cuda', args...)` instead.\n",
            "  with torch.cuda.amp.autocast():\n",
            "<ipython-input-9-6490c8d8cca4>:25: FutureWarning: `torch.cuda.amp.autocast(args...)` is deprecated. Please use `torch.amp.autocast('cuda', args...)` instead.\n",
            "  with torch.cuda.amp.autocast():\n",
            "100%|██████████| 2/2 [00:00<00:00,  6.12it/s, D_fake=0.446, D_real=0.661]\n"
          ]
        },
        {
          "output_type": "stream",
          "name": "stdout",
          "text": [
            "y_true size: (9000,), y_pred size: (9000,)\n",
            "Accuracy: 0.3729, TPR: 0.7458, FPR: 1.0000, TNR: 0.0000, FNR: 0.2542\n",
            "Precision: 0.4272, Recall: 0.7458, F1 Score: 0.5432\n",
            "FID: 429.5612487792969\n",
            "PSNR: 9.8936\n",
            "Epoch 36 - Metrics: Accuracy: 0.3729, TPR: 0.7458, FPR: 1.0000, FID: 429.5612, PSNR: 9.8936\n"
          ]
        },
        {
          "output_type": "stream",
          "name": "stderr",
          "text": [
            "\r  0%|          | 0/2 [00:00<?, ?it/s]<ipython-input-9-6490c8d8cca4>:11: FutureWarning: `torch.cuda.amp.autocast(args...)` is deprecated. Please use `torch.amp.autocast('cuda', args...)` instead.\n",
            "  with torch.cuda.amp.autocast():\n",
            "<ipython-input-9-6490c8d8cca4>:25: FutureWarning: `torch.cuda.amp.autocast(args...)` is deprecated. Please use `torch.amp.autocast('cuda', args...)` instead.\n",
            "  with torch.cuda.amp.autocast():\n",
            "100%|██████████| 2/2 [00:00<00:00,  5.67it/s, D_fake=0.347, D_real=0.656]\n"
          ]
        },
        {
          "output_type": "stream",
          "name": "stdout",
          "text": [
            "y_true size: (9000,), y_pred size: (9000,)\n",
            "Accuracy: 0.3793, TPR: 0.7587, FPR: 1.0000, TNR: 0.0000, FNR: 0.2413\n",
            "Precision: 0.4314, Recall: 0.7587, F1 Score: 0.5500\n",
            "FID: 442.6927795410156\n",
            "PSNR: 9.9870\n",
            "Epoch 37 - Metrics: Accuracy: 0.3793, TPR: 0.7587, FPR: 1.0000, FID: 442.6928, PSNR: 9.9870\n"
          ]
        },
        {
          "output_type": "stream",
          "name": "stderr",
          "text": [
            "\r  0%|          | 0/2 [00:00<?, ?it/s]<ipython-input-9-6490c8d8cca4>:11: FutureWarning: `torch.cuda.amp.autocast(args...)` is deprecated. Please use `torch.amp.autocast('cuda', args...)` instead.\n",
            "  with torch.cuda.amp.autocast():\n",
            "<ipython-input-9-6490c8d8cca4>:25: FutureWarning: `torch.cuda.amp.autocast(args...)` is deprecated. Please use `torch.amp.autocast('cuda', args...)` instead.\n",
            "  with torch.cuda.amp.autocast():\n",
            "100%|██████████| 2/2 [00:00<00:00,  5.86it/s, D_fake=0.331, D_real=0.658]\n"
          ]
        },
        {
          "output_type": "stream",
          "name": "stdout",
          "text": [
            "y_true size: (9000,), y_pred size: (9000,)\n",
            "Accuracy: 0.4042, TPR: 0.8084, FPR: 1.0000, TNR: 0.0000, FNR: 0.1916\n",
            "Precision: 0.4470, Recall: 0.8084, F1 Score: 0.5757\n",
            "FID: 417.7569274902344\n",
            "PSNR: 10.3300\n",
            "Epoch 38 - Metrics: Accuracy: 0.4042, TPR: 0.8084, FPR: 1.0000, FID: 417.7569, PSNR: 10.3300\n"
          ]
        },
        {
          "output_type": "stream",
          "name": "stderr",
          "text": [
            "\r  0%|          | 0/2 [00:00<?, ?it/s]<ipython-input-9-6490c8d8cca4>:11: FutureWarning: `torch.cuda.amp.autocast(args...)` is deprecated. Please use `torch.amp.autocast('cuda', args...)` instead.\n",
            "  with torch.cuda.amp.autocast():\n",
            "<ipython-input-9-6490c8d8cca4>:25: FutureWarning: `torch.cuda.amp.autocast(args...)` is deprecated. Please use `torch.amp.autocast('cuda', args...)` instead.\n",
            "  with torch.cuda.amp.autocast():\n",
            "100%|██████████| 2/2 [00:00<00:00,  5.94it/s, D_fake=0.271, D_real=0.7]\n"
          ]
        },
        {
          "output_type": "stream",
          "name": "stdout",
          "text": [
            "y_true size: (9000,), y_pred size: (9000,)\n",
            "Accuracy: 0.4344, TPR: 0.8493, FPR: 0.9804, TNR: 0.0196, FNR: 0.1507\n",
            "Precision: 0.4642, Recall: 0.8493, F1 Score: 0.6003\n",
            "FID: 430.1934509277344\n",
            "PSNR: 10.4342\n",
            "Epoch 39 - Metrics: Accuracy: 0.4344, TPR: 0.8493, FPR: 0.9804, FID: 430.1935, PSNR: 10.4342\n"
          ]
        },
        {
          "output_type": "stream",
          "name": "stderr",
          "text": [
            "\r  0%|          | 0/2 [00:00<?, ?it/s]<ipython-input-9-6490c8d8cca4>:11: FutureWarning: `torch.cuda.amp.autocast(args...)` is deprecated. Please use `torch.amp.autocast('cuda', args...)` instead.\n",
            "  with torch.cuda.amp.autocast():\n",
            "<ipython-input-9-6490c8d8cca4>:25: FutureWarning: `torch.cuda.amp.autocast(args...)` is deprecated. Please use `torch.amp.autocast('cuda', args...)` instead.\n",
            "  with torch.cuda.amp.autocast():\n",
            "100%|██████████| 2/2 [00:00<00:00,  5.80it/s, D_fake=0.2, D_real=0.789]\n"
          ]
        },
        {
          "output_type": "stream",
          "name": "stdout",
          "text": [
            "y_true size: (9000,), y_pred size: (9000,)\n",
            "Accuracy: 0.9017, TPR: 0.9649, FPR: 0.1616, TNR: 0.8384, FNR: 0.0351\n",
            "Precision: 0.8566, Recall: 0.9649, F1 Score: 0.9075\n",
            "FID: 467.2007751464844\n",
            "PSNR: 8.7094\n",
            "Epoch 40 - Metrics: Accuracy: 0.9017, TPR: 0.9649, FPR: 0.1616, FID: 467.2008, PSNR: 8.7094\n"
          ]
        },
        {
          "output_type": "stream",
          "name": "stderr",
          "text": [
            "\r  0%|          | 0/2 [00:00<?, ?it/s]<ipython-input-9-6490c8d8cca4>:11: FutureWarning: `torch.cuda.amp.autocast(args...)` is deprecated. Please use `torch.amp.autocast('cuda', args...)` instead.\n",
            "  with torch.cuda.amp.autocast():\n",
            "<ipython-input-9-6490c8d8cca4>:25: FutureWarning: `torch.cuda.amp.autocast(args...)` is deprecated. Please use `torch.amp.autocast('cuda', args...)` instead.\n",
            "  with torch.cuda.amp.autocast():\n",
            "100%|██████████| 2/2 [00:00<00:00,  5.81it/s, D_fake=0.342, D_real=0.816]\n"
          ]
        },
        {
          "output_type": "stream",
          "name": "stdout",
          "text": [
            "y_true size: (9000,), y_pred size: (9000,)\n",
            "Accuracy: 0.3728, TPR: 0.7456, FPR: 1.0000, TNR: 0.0000, FNR: 0.2544\n",
            "Precision: 0.4271, Recall: 0.7456, F1 Score: 0.5431\n",
            "FID: 468.0181579589844\n",
            "PSNR: 9.8295\n",
            "Epoch 41 - Metrics: Accuracy: 0.3728, TPR: 0.7456, FPR: 1.0000, FID: 468.0182, PSNR: 9.8295\n"
          ]
        },
        {
          "output_type": "stream",
          "name": "stderr",
          "text": [
            "\r  0%|          | 0/2 [00:00<?, ?it/s]<ipython-input-9-6490c8d8cca4>:11: FutureWarning: `torch.cuda.amp.autocast(args...)` is deprecated. Please use `torch.amp.autocast('cuda', args...)` instead.\n",
            "  with torch.cuda.amp.autocast():\n",
            "<ipython-input-9-6490c8d8cca4>:25: FutureWarning: `torch.cuda.amp.autocast(args...)` is deprecated. Please use `torch.amp.autocast('cuda', args...)` instead.\n",
            "  with torch.cuda.amp.autocast():\n",
            "100%|██████████| 2/2 [00:00<00:00,  6.14it/s, D_fake=0.284, D_real=0.652]\n"
          ]
        },
        {
          "output_type": "stream",
          "name": "stdout",
          "text": [
            "y_true size: (9000,), y_pred size: (9000,)\n",
            "Accuracy: 0.3678, TPR: 0.7356, FPR: 1.0000, TNR: 0.0000, FNR: 0.2644\n",
            "Precision: 0.4238, Recall: 0.7356, F1 Score: 0.5378\n",
            "FID: 458.60333251953125\n",
            "PSNR: 10.0822\n",
            "Epoch 42 - Metrics: Accuracy: 0.3678, TPR: 0.7356, FPR: 1.0000, FID: 458.6033, PSNR: 10.0822\n"
          ]
        },
        {
          "output_type": "stream",
          "name": "stderr",
          "text": [
            "\r  0%|          | 0/2 [00:00<?, ?it/s]<ipython-input-9-6490c8d8cca4>:11: FutureWarning: `torch.cuda.amp.autocast(args...)` is deprecated. Please use `torch.amp.autocast('cuda', args...)` instead.\n",
            "  with torch.cuda.amp.autocast():\n",
            "<ipython-input-9-6490c8d8cca4>:25: FutureWarning: `torch.cuda.amp.autocast(args...)` is deprecated. Please use `torch.amp.autocast('cuda', args...)` instead.\n",
            "  with torch.cuda.amp.autocast():\n",
            "100%|██████████| 2/2 [00:00<00:00,  6.00it/s, D_fake=0.147, D_real=0.692]\n"
          ]
        },
        {
          "output_type": "stream",
          "name": "stdout",
          "text": [
            "y_true size: (9000,), y_pred size: (9000,)\n",
            "Accuracy: 0.9708, TPR: 0.9433, FPR: 0.0018, TNR: 0.9982, FNR: 0.0567\n",
            "Precision: 0.9981, Recall: 0.9433, F1 Score: 0.9700\n",
            "FID: 373.4762878417969\n",
            "PSNR: 10.3866\n",
            "Epoch 43 - Metrics: Accuracy: 0.9708, TPR: 0.9433, FPR: 0.0018, FID: 373.4763, PSNR: 10.3866\n"
          ]
        },
        {
          "output_type": "stream",
          "name": "stderr",
          "text": [
            "\r  0%|          | 0/2 [00:00<?, ?it/s]<ipython-input-9-6490c8d8cca4>:11: FutureWarning: `torch.cuda.amp.autocast(args...)` is deprecated. Please use `torch.amp.autocast('cuda', args...)` instead.\n",
            "  with torch.cuda.amp.autocast():\n",
            "<ipython-input-9-6490c8d8cca4>:25: FutureWarning: `torch.cuda.amp.autocast(args...)` is deprecated. Please use `torch.amp.autocast('cuda', args...)` instead.\n",
            "  with torch.cuda.amp.autocast():\n",
            "100%|██████████| 2/2 [00:00<00:00,  5.73it/s, D_fake=0.743, D_real=0.862]\n"
          ]
        },
        {
          "output_type": "stream",
          "name": "stdout",
          "text": [
            "y_true size: (9000,), y_pred size: (9000,)\n",
            "Accuracy: 0.9717, TPR: 0.9433, FPR: 0.0000, TNR: 1.0000, FNR: 0.0567\n",
            "Precision: 1.0000, Recall: 0.9433, F1 Score: 0.9708\n",
            "FID: 407.6083068847656\n",
            "PSNR: 10.4342\n",
            "Epoch 44 - Metrics: Accuracy: 0.9717, TPR: 0.9433, FPR: 0.0000, FID: 407.6083, PSNR: 10.4342\n"
          ]
        },
        {
          "output_type": "stream",
          "name": "stderr",
          "text": [
            "\r  0%|          | 0/2 [00:00<?, ?it/s]<ipython-input-9-6490c8d8cca4>:11: FutureWarning: `torch.cuda.amp.autocast(args...)` is deprecated. Please use `torch.amp.autocast('cuda', args...)` instead.\n",
            "  with torch.cuda.amp.autocast():\n",
            "<ipython-input-9-6490c8d8cca4>:25: FutureWarning: `torch.cuda.amp.autocast(args...)` is deprecated. Please use `torch.amp.autocast('cuda', args...)` instead.\n",
            "  with torch.cuda.amp.autocast():\n",
            "100%|██████████| 2/2 [00:00<00:00,  5.82it/s, D_fake=0.0847, D_real=0.848]\n"
          ]
        },
        {
          "output_type": "stream",
          "name": "stdout",
          "text": [
            "y_true size: (9000,), y_pred size: (9000,)\n",
            "Accuracy: 0.5832, TPR: 0.8018, FPR: 0.6353, TNR: 0.3647, FNR: 0.1982\n",
            "Precision: 0.5579, Recall: 0.8018, F1 Score: 0.6580\n",
            "FID: 406.3172607421875\n",
            "PSNR: 10.1794\n",
            "Epoch 45 - Metrics: Accuracy: 0.5832, TPR: 0.8018, FPR: 0.6353, FID: 406.3173, PSNR: 10.1794\n"
          ]
        },
        {
          "output_type": "stream",
          "name": "stderr",
          "text": [
            "\r  0%|          | 0/2 [00:00<?, ?it/s]<ipython-input-9-6490c8d8cca4>:11: FutureWarning: `torch.cuda.amp.autocast(args...)` is deprecated. Please use `torch.amp.autocast('cuda', args...)` instead.\n",
            "  with torch.cuda.amp.autocast():\n",
            "<ipython-input-9-6490c8d8cca4>:25: FutureWarning: `torch.cuda.amp.autocast(args...)` is deprecated. Please use `torch.amp.autocast('cuda', args...)` instead.\n",
            "  with torch.cuda.amp.autocast():\n",
            "100%|██████████| 2/2 [00:00<00:00,  5.92it/s, D_fake=0.303, D_real=0.65]\n"
          ]
        },
        {
          "output_type": "stream",
          "name": "stdout",
          "text": [
            "y_true size: (9000,), y_pred size: (9000,)\n",
            "Accuracy: 0.2299, TPR: 0.4598, FPR: 1.0000, TNR: 0.0000, FNR: 0.5402\n",
            "Precision: 0.3150, Recall: 0.4598, F1 Score: 0.3738\n",
            "FID: 451.32684326171875\n",
            "PSNR: 9.7871\n",
            "Epoch 46 - Metrics: Accuracy: 0.2299, TPR: 0.4598, FPR: 1.0000, FID: 451.3268, PSNR: 9.7871\n"
          ]
        },
        {
          "output_type": "stream",
          "name": "stderr",
          "text": [
            "\r  0%|          | 0/2 [00:00<?, ?it/s]<ipython-input-9-6490c8d8cca4>:11: FutureWarning: `torch.cuda.amp.autocast(args...)` is deprecated. Please use `torch.amp.autocast('cuda', args...)` instead.\n",
            "  with torch.cuda.amp.autocast():\n",
            "<ipython-input-9-6490c8d8cca4>:25: FutureWarning: `torch.cuda.amp.autocast(args...)` is deprecated. Please use `torch.amp.autocast('cuda', args...)` instead.\n",
            "  with torch.cuda.amp.autocast():\n",
            "100%|██████████| 2/2 [00:00<00:00,  6.16it/s, D_fake=0.229, D_real=0.491]\n"
          ]
        },
        {
          "output_type": "stream",
          "name": "stdout",
          "text": [
            "y_true size: (9000,), y_pred size: (9000,)\n",
            "Accuracy: 0.4850, TPR: 0.7613, FPR: 0.7913, TNR: 0.2087, FNR: 0.2387\n",
            "Precision: 0.4903, Recall: 0.7613, F1 Score: 0.5965\n",
            "FID: 446.677734375\n",
            "PSNR: 9.7939\n",
            "Epoch 47 - Metrics: Accuracy: 0.4850, TPR: 0.7613, FPR: 0.7913, FID: 446.6777, PSNR: 9.7939\n"
          ]
        },
        {
          "output_type": "stream",
          "name": "stderr",
          "text": [
            "\r  0%|          | 0/2 [00:00<?, ?it/s]<ipython-input-9-6490c8d8cca4>:11: FutureWarning: `torch.cuda.amp.autocast(args...)` is deprecated. Please use `torch.amp.autocast('cuda', args...)` instead.\n",
            "  with torch.cuda.amp.autocast():\n",
            "<ipython-input-9-6490c8d8cca4>:25: FutureWarning: `torch.cuda.amp.autocast(args...)` is deprecated. Please use `torch.amp.autocast('cuda', args...)` instead.\n",
            "  with torch.cuda.amp.autocast():\n",
            "100%|██████████| 2/2 [00:00<00:00,  6.31it/s, D_fake=0.34, D_real=0.639]\n"
          ]
        },
        {
          "output_type": "stream",
          "name": "stdout",
          "text": [
            "y_true size: (9000,), y_pred size: (9000,)\n",
            "Accuracy: 0.3381, TPR: 0.6762, FPR: 1.0000, TNR: 0.0000, FNR: 0.3238\n",
            "Precision: 0.4034, Recall: 0.6762, F1 Score: 0.5054\n",
            "FID: 431.95361328125\n",
            "PSNR: 10.0689\n",
            "Epoch 48 - Metrics: Accuracy: 0.3381, TPR: 0.6762, FPR: 1.0000, FID: 431.9536, PSNR: 10.0689\n"
          ]
        },
        {
          "output_type": "stream",
          "name": "stderr",
          "text": [
            "\r  0%|          | 0/2 [00:00<?, ?it/s]<ipython-input-9-6490c8d8cca4>:11: FutureWarning: `torch.cuda.amp.autocast(args...)` is deprecated. Please use `torch.amp.autocast('cuda', args...)` instead.\n",
            "  with torch.cuda.amp.autocast():\n",
            "<ipython-input-9-6490c8d8cca4>:25: FutureWarning: `torch.cuda.amp.autocast(args...)` is deprecated. Please use `torch.amp.autocast('cuda', args...)` instead.\n",
            "  with torch.cuda.amp.autocast():\n",
            "100%|██████████| 2/2 [00:00<00:00,  5.56it/s, D_fake=0.32, D_real=0.59]\n"
          ]
        },
        {
          "output_type": "stream",
          "name": "stdout",
          "text": [
            "y_true size: (9000,), y_pred size: (9000,)\n",
            "Accuracy: 0.4323, TPR: 0.7713, FPR: 0.9067, TNR: 0.0933, FNR: 0.2287\n",
            "Precision: 0.4597, Recall: 0.7713, F1 Score: 0.5761\n",
            "FID: 437.49383544921875\n",
            "PSNR: 10.2027\n",
            "Epoch 49 - Metrics: Accuracy: 0.4323, TPR: 0.7713, FPR: 0.9067, FID: 437.4938, PSNR: 10.2027\n",
            "Saving model at epoch 49\n"
          ]
        },
        {
          "output_type": "stream",
          "name": "stderr",
          "text": [
            "\r  0%|          | 0/2 [00:00<?, ?it/s]<ipython-input-9-6490c8d8cca4>:11: FutureWarning: `torch.cuda.amp.autocast(args...)` is deprecated. Please use `torch.amp.autocast('cuda', args...)` instead.\n",
            "  with torch.cuda.amp.autocast():\n",
            "<ipython-input-9-6490c8d8cca4>:25: FutureWarning: `torch.cuda.amp.autocast(args...)` is deprecated. Please use `torch.amp.autocast('cuda', args...)` instead.\n",
            "  with torch.cuda.amp.autocast():\n",
            "100%|██████████| 2/2 [00:00<00:00,  5.65it/s, D_fake=0.474, D_real=0.68]\n"
          ]
        },
        {
          "output_type": "stream",
          "name": "stdout",
          "text": [
            "y_true size: (9000,), y_pred size: (9000,)\n",
            "Accuracy: 0.3256, TPR: 0.6509, FPR: 0.9998, TNR: 0.0002, FNR: 0.3491\n",
            "Precision: 0.3943, Recall: 0.6509, F1 Score: 0.4911\n",
            "FID: 438.4360656738281\n",
            "PSNR: 10.2023\n",
            "Epoch 50 - Metrics: Accuracy: 0.3256, TPR: 0.6509, FPR: 0.9998, FID: 438.4361, PSNR: 10.2023\n"
          ]
        },
        {
          "output_type": "stream",
          "name": "stderr",
          "text": [
            "\r  0%|          | 0/2 [00:00<?, ?it/s]<ipython-input-9-6490c8d8cca4>:11: FutureWarning: `torch.cuda.amp.autocast(args...)` is deprecated. Please use `torch.amp.autocast('cuda', args...)` instead.\n",
            "  with torch.cuda.amp.autocast():\n",
            "<ipython-input-9-6490c8d8cca4>:25: FutureWarning: `torch.cuda.amp.autocast(args...)` is deprecated. Please use `torch.amp.autocast('cuda', args...)` instead.\n",
            "  with torch.cuda.amp.autocast():\n",
            "100%|██████████| 2/2 [00:00<00:00,  5.55it/s, D_fake=0.404, D_real=0.636]\n"
          ]
        },
        {
          "output_type": "stream",
          "name": "stdout",
          "text": [
            "y_true size: (9000,), y_pred size: (9000,)\n",
            "Accuracy: 0.4269, TPR: 0.4093, FPR: 0.5556, TNR: 0.4444, FNR: 0.5907\n",
            "Precision: 0.4242, Recall: 0.4093, F1 Score: 0.4166\n",
            "FID: 455.9969787597656\n",
            "PSNR: 9.5747\n",
            "Epoch 51 - Metrics: Accuracy: 0.4269, TPR: 0.4093, FPR: 0.5556, FID: 455.9970, PSNR: 9.5747\n"
          ]
        },
        {
          "output_type": "stream",
          "name": "stderr",
          "text": [
            "\r  0%|          | 0/2 [00:00<?, ?it/s]<ipython-input-9-6490c8d8cca4>:11: FutureWarning: `torch.cuda.amp.autocast(args...)` is deprecated. Please use `torch.amp.autocast('cuda', args...)` instead.\n",
            "  with torch.cuda.amp.autocast():\n",
            "<ipython-input-9-6490c8d8cca4>:25: FutureWarning: `torch.cuda.amp.autocast(args...)` is deprecated. Please use `torch.amp.autocast('cuda', args...)` instead.\n",
            "  with torch.cuda.amp.autocast():\n",
            "100%|██████████| 2/2 [00:00<00:00,  6.11it/s, D_fake=0.309, D_real=0.526]\n"
          ]
        },
        {
          "output_type": "stream",
          "name": "stdout",
          "text": [
            "y_true size: (9000,), y_pred size: (9000,)\n",
            "Accuracy: 0.0690, TPR: 0.1380, FPR: 1.0000, TNR: 0.0000, FNR: 0.8620\n",
            "Precision: 0.1213, Recall: 0.1380, F1 Score: 0.1291\n",
            "FID: 406.0801086425781\n",
            "PSNR: 10.3962\n",
            "Epoch 52 - Metrics: Accuracy: 0.0690, TPR: 0.1380, FPR: 1.0000, FID: 406.0801, PSNR: 10.3962\n"
          ]
        },
        {
          "output_type": "stream",
          "name": "stderr",
          "text": [
            "\r  0%|          | 0/2 [00:00<?, ?it/s]<ipython-input-9-6490c8d8cca4>:11: FutureWarning: `torch.cuda.amp.autocast(args...)` is deprecated. Please use `torch.amp.autocast('cuda', args...)` instead.\n",
            "  with torch.cuda.amp.autocast():\n",
            "<ipython-input-9-6490c8d8cca4>:25: FutureWarning: `torch.cuda.amp.autocast(args...)` is deprecated. Please use `torch.amp.autocast('cuda', args...)` instead.\n",
            "  with torch.cuda.amp.autocast():\n",
            "100%|██████████| 2/2 [00:00<00:00,  5.70it/s, D_fake=0.32, D_real=0.394]\n"
          ]
        },
        {
          "output_type": "stream",
          "name": "stdout",
          "text": [
            "y_true size: (9000,), y_pred size: (9000,)\n",
            "Accuracy: 0.4266, TPR: 0.4998, FPR: 0.6467, TNR: 0.3533, FNR: 0.5002\n",
            "Precision: 0.4359, Recall: 0.4998, F1 Score: 0.4657\n",
            "FID: 442.6058349609375\n",
            "PSNR: 9.7007\n",
            "Epoch 53 - Metrics: Accuracy: 0.4266, TPR: 0.4998, FPR: 0.6467, FID: 442.6058, PSNR: 9.7007\n"
          ]
        },
        {
          "output_type": "stream",
          "name": "stderr",
          "text": [
            "\r  0%|          | 0/2 [00:00<?, ?it/s]<ipython-input-9-6490c8d8cca4>:11: FutureWarning: `torch.cuda.amp.autocast(args...)` is deprecated. Please use `torch.amp.autocast('cuda', args...)` instead.\n",
            "  with torch.cuda.amp.autocast():\n",
            "<ipython-input-9-6490c8d8cca4>:25: FutureWarning: `torch.cuda.amp.autocast(args...)` is deprecated. Please use `torch.amp.autocast('cuda', args...)` instead.\n",
            "  with torch.cuda.amp.autocast():\n",
            "100%|██████████| 2/2 [00:00<00:00,  5.77it/s, D_fake=0.481, D_real=0.562]\n"
          ]
        },
        {
          "output_type": "stream",
          "name": "stdout",
          "text": [
            "y_true size: (9000,), y_pred size: (9000,)\n",
            "Accuracy: 0.4570, TPR: 0.6456, FPR: 0.7316, TNR: 0.2684, FNR: 0.3544\n",
            "Precision: 0.4688, Recall: 0.6456, F1 Score: 0.5431\n",
            "FID: 420.4427795410156\n",
            "PSNR: 10.1143\n",
            "Epoch 54 - Metrics: Accuracy: 0.4570, TPR: 0.6456, FPR: 0.7316, FID: 420.4428, PSNR: 10.1143\n"
          ]
        },
        {
          "output_type": "stream",
          "name": "stderr",
          "text": [
            "\r  0%|          | 0/2 [00:00<?, ?it/s]<ipython-input-9-6490c8d8cca4>:11: FutureWarning: `torch.cuda.amp.autocast(args...)` is deprecated. Please use `torch.amp.autocast('cuda', args...)` instead.\n",
            "  with torch.cuda.amp.autocast():\n",
            "<ipython-input-9-6490c8d8cca4>:25: FutureWarning: `torch.cuda.amp.autocast(args...)` is deprecated. Please use `torch.amp.autocast('cuda', args...)` instead.\n",
            "  with torch.cuda.amp.autocast():\n",
            "100%|██████████| 2/2 [00:00<00:00,  5.96it/s, D_fake=0.396, D_real=0.601]\n"
          ]
        },
        {
          "output_type": "stream",
          "name": "stdout",
          "text": [
            "y_true size: (9000,), y_pred size: (9000,)\n",
            "Accuracy: 0.2516, TPR: 0.5011, FPR: 0.9980, TNR: 0.0020, FNR: 0.4989\n",
            "Precision: 0.3343, Recall: 0.5011, F1 Score: 0.4010\n",
            "FID: 393.1944274902344\n",
            "PSNR: 10.4728\n",
            "Epoch 55 - Metrics: Accuracy: 0.2516, TPR: 0.5011, FPR: 0.9980, FID: 393.1944, PSNR: 10.4728\n"
          ]
        },
        {
          "output_type": "stream",
          "name": "stderr",
          "text": [
            "\r  0%|          | 0/2 [00:00<?, ?it/s]<ipython-input-9-6490c8d8cca4>:11: FutureWarning: `torch.cuda.amp.autocast(args...)` is deprecated. Please use `torch.amp.autocast('cuda', args...)` instead.\n",
            "  with torch.cuda.amp.autocast():\n",
            "<ipython-input-9-6490c8d8cca4>:25: FutureWarning: `torch.cuda.amp.autocast(args...)` is deprecated. Please use `torch.amp.autocast('cuda', args...)` instead.\n",
            "  with torch.cuda.amp.autocast():\n",
            "100%|██████████| 2/2 [00:00<00:00,  6.02it/s, D_fake=0.304, D_real=0.546]\n"
          ]
        },
        {
          "output_type": "stream",
          "name": "stdout",
          "text": [
            "y_true size: (9000,), y_pred size: (9000,)\n",
            "Accuracy: 0.3159, TPR: 0.6318, FPR: 1.0000, TNR: 0.0000, FNR: 0.3682\n",
            "Precision: 0.3872, Recall: 0.6318, F1 Score: 0.4801\n",
            "FID: 375.492431640625\n",
            "PSNR: 10.3250\n",
            "Epoch 56 - Metrics: Accuracy: 0.3159, TPR: 0.6318, FPR: 1.0000, FID: 375.4924, PSNR: 10.3250\n"
          ]
        },
        {
          "output_type": "stream",
          "name": "stderr",
          "text": [
            "\r  0%|          | 0/2 [00:00<?, ?it/s]<ipython-input-9-6490c8d8cca4>:11: FutureWarning: `torch.cuda.amp.autocast(args...)` is deprecated. Please use `torch.amp.autocast('cuda', args...)` instead.\n",
            "  with torch.cuda.amp.autocast():\n",
            "<ipython-input-9-6490c8d8cca4>:25: FutureWarning: `torch.cuda.amp.autocast(args...)` is deprecated. Please use `torch.amp.autocast('cuda', args...)` instead.\n",
            "  with torch.cuda.amp.autocast():\n",
            "100%|██████████| 2/2 [00:00<00:00,  5.94it/s, D_fake=0.302, D_real=0.575]\n"
          ]
        },
        {
          "output_type": "stream",
          "name": "stdout",
          "text": [
            "y_true size: (9000,), y_pred size: (9000,)\n",
            "Accuracy: 0.6254, TPR: 0.8813, FPR: 0.6304, TNR: 0.3696, FNR: 0.1187\n",
            "Precision: 0.5830, Recall: 0.8813, F1 Score: 0.7018\n",
            "FID: 417.3182678222656\n",
            "PSNR: 10.4863\n",
            "Epoch 57 - Metrics: Accuracy: 0.6254, TPR: 0.8813, FPR: 0.6304, FID: 417.3183, PSNR: 10.4863\n"
          ]
        },
        {
          "output_type": "stream",
          "name": "stderr",
          "text": [
            "\r  0%|          | 0/2 [00:00<?, ?it/s]<ipython-input-9-6490c8d8cca4>:11: FutureWarning: `torch.cuda.amp.autocast(args...)` is deprecated. Please use `torch.amp.autocast('cuda', args...)` instead.\n",
            "  with torch.cuda.amp.autocast():\n",
            "<ipython-input-9-6490c8d8cca4>:25: FutureWarning: `torch.cuda.amp.autocast(args...)` is deprecated. Please use `torch.amp.autocast('cuda', args...)` instead.\n",
            "  with torch.cuda.amp.autocast():\n",
            "100%|██████████| 2/2 [00:00<00:00,  5.23it/s, D_fake=0.326, D_real=0.71]\n"
          ]
        },
        {
          "output_type": "stream",
          "name": "stdout",
          "text": [
            "y_true size: (9000,), y_pred size: (9000,)\n",
            "Accuracy: 0.4337, TPR: 0.5402, FPR: 0.6729, TNR: 0.3271, FNR: 0.4598\n",
            "Precision: 0.4453, Recall: 0.5402, F1 Score: 0.4882\n",
            "FID: 455.60260009765625\n",
            "PSNR: 9.0840\n",
            "Epoch 58 - Metrics: Accuracy: 0.4337, TPR: 0.5402, FPR: 0.6729, FID: 455.6026, PSNR: 9.0840\n"
          ]
        },
        {
          "output_type": "stream",
          "name": "stderr",
          "text": [
            "\r  0%|          | 0/2 [00:00<?, ?it/s]<ipython-input-9-6490c8d8cca4>:11: FutureWarning: `torch.cuda.amp.autocast(args...)` is deprecated. Please use `torch.amp.autocast('cuda', args...)` instead.\n",
            "  with torch.cuda.amp.autocast():\n",
            "<ipython-input-9-6490c8d8cca4>:25: FutureWarning: `torch.cuda.amp.autocast(args...)` is deprecated. Please use `torch.amp.autocast('cuda', args...)` instead.\n",
            "  with torch.cuda.amp.autocast():\n",
            "100%|██████████| 2/2 [00:00<00:00,  6.11it/s, D_fake=0.258, D_real=0.521]\n"
          ]
        },
        {
          "output_type": "stream",
          "name": "stdout",
          "text": [
            "y_true size: (9000,), y_pred size: (9000,)\n",
            "Accuracy: 0.3337, TPR: 0.6673, FPR: 1.0000, TNR: 0.0000, FNR: 0.3327\n",
            "Precision: 0.4002, Recall: 0.6673, F1 Score: 0.5004\n",
            "FID: 404.52008056640625\n",
            "PSNR: 10.5056\n",
            "Epoch 59 - Metrics: Accuracy: 0.3337, TPR: 0.6673, FPR: 1.0000, FID: 404.5201, PSNR: 10.5056\n"
          ]
        },
        {
          "output_type": "stream",
          "name": "stderr",
          "text": [
            "\r  0%|          | 0/2 [00:00<?, ?it/s]<ipython-input-9-6490c8d8cca4>:11: FutureWarning: `torch.cuda.amp.autocast(args...)` is deprecated. Please use `torch.amp.autocast('cuda', args...)` instead.\n",
            "  with torch.cuda.amp.autocast():\n",
            "<ipython-input-9-6490c8d8cca4>:25: FutureWarning: `torch.cuda.amp.autocast(args...)` is deprecated. Please use `torch.amp.autocast('cuda', args...)` instead.\n",
            "  with torch.cuda.amp.autocast():\n",
            "100%|██████████| 2/2 [00:00<00:00,  5.62it/s, D_fake=0.397, D_real=0.611]\n"
          ]
        },
        {
          "output_type": "stream",
          "name": "stdout",
          "text": [
            "y_true size: (9000,), y_pred size: (9000,)\n",
            "Accuracy: 0.6661, TPR: 0.9058, FPR: 0.5736, TNR: 0.4264, FNR: 0.0942\n",
            "Precision: 0.6123, Recall: 0.9058, F1 Score: 0.7307\n",
            "FID: 423.6667175292969\n",
            "PSNR: 9.8497\n",
            "Epoch 60 - Metrics: Accuracy: 0.6661, TPR: 0.9058, FPR: 0.5736, FID: 423.6667, PSNR: 9.8497\n"
          ]
        },
        {
          "output_type": "stream",
          "name": "stderr",
          "text": [
            "\r  0%|          | 0/2 [00:00<?, ?it/s]<ipython-input-9-6490c8d8cca4>:11: FutureWarning: `torch.cuda.amp.autocast(args...)` is deprecated. Please use `torch.amp.autocast('cuda', args...)` instead.\n",
            "  with torch.cuda.amp.autocast():\n",
            "<ipython-input-9-6490c8d8cca4>:25: FutureWarning: `torch.cuda.amp.autocast(args...)` is deprecated. Please use `torch.amp.autocast('cuda', args...)` instead.\n",
            "  with torch.cuda.amp.autocast():\n",
            "100%|██████████| 2/2 [00:00<00:00,  6.20it/s, D_fake=0.387, D_real=0.746]\n"
          ]
        },
        {
          "output_type": "stream",
          "name": "stdout",
          "text": [
            "y_true size: (9000,), y_pred size: (9000,)\n",
            "Accuracy: 0.3100, TPR: 0.6200, FPR: 1.0000, TNR: 0.0000, FNR: 0.3800\n",
            "Precision: 0.3827, Recall: 0.6200, F1 Score: 0.4733\n"
          ]
        },
        {
          "output_type": "error",
          "ename": "KeyboardInterrupt",
          "evalue": "",
          "traceback": [
            "\u001b[0;31m---------------------------------------------------------------------------\u001b[0m",
            "\u001b[0;31mKeyboardInterrupt\u001b[0m                         Traceback (most recent call last)",
            "\u001b[0;32m<ipython-input-10-cdde3062e277>\u001b[0m in \u001b[0;36m<cell line: 292>\u001b[0;34m()\u001b[0m\n\u001b[1;32m    291\u001b[0m \u001b[0;34m\u001b[0m\u001b[0m\n\u001b[1;32m    292\u001b[0m \u001b[0;32mif\u001b[0m \u001b[0m__name__\u001b[0m \u001b[0;34m==\u001b[0m \u001b[0;34m\"__main__\"\u001b[0m\u001b[0;34m:\u001b[0m\u001b[0;34m\u001b[0m\u001b[0;34m\u001b[0m\u001b[0m\n\u001b[0;32m--> 293\u001b[0;31m     \u001b[0mmain\u001b[0m\u001b[0;34m(\u001b[0m\u001b[0;34m)\u001b[0m\u001b[0;34m\u001b[0m\u001b[0;34m\u001b[0m\u001b[0m\n\u001b[0m",
            "\u001b[0;32m<ipython-input-10-cdde3062e277>\u001b[0m in \u001b[0;36mmain\u001b[0;34m()\u001b[0m\n\u001b[1;32m    252\u001b[0m         \u001b[0;31m# Calculate metrics every epoch\u001b[0m\u001b[0;34m\u001b[0m\u001b[0;34m\u001b[0m\u001b[0m\n\u001b[1;32m    253\u001b[0m         \u001b[0maccuracy\u001b[0m\u001b[0;34m,\u001b[0m \u001b[0mtpr\u001b[0m\u001b[0;34m,\u001b[0m \u001b[0mfpr\u001b[0m\u001b[0;34m,\u001b[0m \u001b[0mtnr\u001b[0m\u001b[0;34m,\u001b[0m \u001b[0mfnr\u001b[0m\u001b[0;34m,\u001b[0m \u001b[0mprecision\u001b[0m\u001b[0;34m,\u001b[0m \u001b[0mrecall\u001b[0m\u001b[0;34m,\u001b[0m \u001b[0mf1\u001b[0m \u001b[0;34m=\u001b[0m \u001b[0mcalculate_classification_metrics\u001b[0m\u001b[0;34m(\u001b[0m\u001b[0mdisc\u001b[0m\u001b[0;34m,\u001b[0m \u001b[0mgen\u001b[0m\u001b[0;34m,\u001b[0m \u001b[0mval_loader\u001b[0m\u001b[0;34m,\u001b[0m \u001b[0mconfig\u001b[0m\u001b[0;34m.\u001b[0m\u001b[0mDEVICE\u001b[0m\u001b[0;34m)\u001b[0m\u001b[0;34m\u001b[0m\u001b[0;34m\u001b[0m\u001b[0m\n\u001b[0;32m--> 254\u001b[0;31m         \u001b[0mfid_score\u001b[0m \u001b[0;34m=\u001b[0m \u001b[0mcalculate_fid\u001b[0m\u001b[0;34m(\u001b[0m\u001b[0mgen\u001b[0m\u001b[0;34m,\u001b[0m \u001b[0mval_loader\u001b[0m\u001b[0;34m,\u001b[0m \u001b[0mconfig\u001b[0m\u001b[0;34m.\u001b[0m\u001b[0mDEVICE\u001b[0m\u001b[0;34m,\u001b[0m \u001b[0mfid\u001b[0m\u001b[0;34m)\u001b[0m\u001b[0;34m\u001b[0m\u001b[0;34m\u001b[0m\u001b[0m\n\u001b[0m\u001b[1;32m    255\u001b[0m         \u001b[0mpsnr_score\u001b[0m \u001b[0;34m=\u001b[0m \u001b[0mcalculate_psnr\u001b[0m\u001b[0;34m(\u001b[0m\u001b[0mgen\u001b[0m\u001b[0;34m,\u001b[0m \u001b[0mval_loader\u001b[0m\u001b[0;34m,\u001b[0m \u001b[0mconfig\u001b[0m\u001b[0;34m.\u001b[0m\u001b[0mDEVICE\u001b[0m\u001b[0;34m)\u001b[0m\u001b[0;34m\u001b[0m\u001b[0;34m\u001b[0m\u001b[0m\n\u001b[1;32m    256\u001b[0m \u001b[0;34m\u001b[0m\u001b[0m\n",
            "\u001b[0;32m<ipython-input-10-cdde3062e277>\u001b[0m in \u001b[0;36mcalculate_fid\u001b[0;34m(gen, val_loader, device, fid)\u001b[0m\n\u001b[1;32m    105\u001b[0m             \u001b[0mfid\u001b[0m\u001b[0;34m.\u001b[0m\u001b[0mupdate\u001b[0m\u001b[0;34m(\u001b[0m\u001b[0my_real_tensor\u001b[0m\u001b[0;34m,\u001b[0m \u001b[0mreal\u001b[0m\u001b[0;34m=\u001b[0m\u001b[0;32mTrue\u001b[0m\u001b[0;34m)\u001b[0m\u001b[0;34m\u001b[0m\u001b[0;34m\u001b[0m\u001b[0m\n\u001b[1;32m    106\u001b[0m \u001b[0;34m\u001b[0m\u001b[0m\n\u001b[0;32m--> 107\u001b[0;31m     \u001b[0mfid_score\u001b[0m \u001b[0;34m=\u001b[0m \u001b[0mfid\u001b[0m\u001b[0;34m.\u001b[0m\u001b[0mcompute\u001b[0m\u001b[0;34m(\u001b[0m\u001b[0;34m)\u001b[0m\u001b[0;34m.\u001b[0m\u001b[0mitem\u001b[0m\u001b[0;34m(\u001b[0m\u001b[0;34m)\u001b[0m  \u001b[0;31m# Compute FID score\u001b[0m\u001b[0;34m\u001b[0m\u001b[0;34m\u001b[0m\u001b[0m\n\u001b[0m\u001b[1;32m    108\u001b[0m     \u001b[0mprint\u001b[0m\u001b[0;34m(\u001b[0m\u001b[0;34mf\"FID: {fid_score}\"\u001b[0m\u001b[0;34m)\u001b[0m\u001b[0;34m\u001b[0m\u001b[0;34m\u001b[0m\u001b[0m\n\u001b[1;32m    109\u001b[0m     \u001b[0;32mreturn\u001b[0m \u001b[0mfid_score\u001b[0m\u001b[0;34m\u001b[0m\u001b[0;34m\u001b[0m\u001b[0m\n",
            "\u001b[0;32m/usr/local/lib/python3.10/dist-packages/torchmetrics/metric.py\u001b[0m in \u001b[0;36mwrapped_func\u001b[0;34m(*args, **kwargs)\u001b[0m\n\u001b[1;32m    631\u001b[0m                 \u001b[0mshould_unsync\u001b[0m\u001b[0;34m=\u001b[0m\u001b[0mself\u001b[0m\u001b[0;34m.\u001b[0m\u001b[0m_should_unsync\u001b[0m\u001b[0;34m,\u001b[0m\u001b[0;34m\u001b[0m\u001b[0;34m\u001b[0m\u001b[0m\n\u001b[1;32m    632\u001b[0m             ):\n\u001b[0;32m--> 633\u001b[0;31m                 \u001b[0mvalue\u001b[0m \u001b[0;34m=\u001b[0m \u001b[0m_squeeze_if_scalar\u001b[0m\u001b[0;34m(\u001b[0m\u001b[0mcompute\u001b[0m\u001b[0;34m(\u001b[0m\u001b[0;34m*\u001b[0m\u001b[0margs\u001b[0m\u001b[0;34m,\u001b[0m \u001b[0;34m**\u001b[0m\u001b[0mkwargs\u001b[0m\u001b[0;34m)\u001b[0m\u001b[0;34m)\u001b[0m\u001b[0;34m\u001b[0m\u001b[0;34m\u001b[0m\u001b[0m\n\u001b[0m\u001b[1;32m    634\u001b[0m                 \u001b[0;31m# clone tensor to avoid in-place operations after compute, altering already computed results\u001b[0m\u001b[0;34m\u001b[0m\u001b[0;34m\u001b[0m\u001b[0m\n\u001b[1;32m    635\u001b[0m                 \u001b[0mvalue\u001b[0m \u001b[0;34m=\u001b[0m \u001b[0mapply_to_collection\u001b[0m\u001b[0;34m(\u001b[0m\u001b[0mvalue\u001b[0m\u001b[0;34m,\u001b[0m \u001b[0mTensor\u001b[0m\u001b[0;34m,\u001b[0m \u001b[0;32mlambda\u001b[0m \u001b[0mx\u001b[0m\u001b[0;34m:\u001b[0m \u001b[0mx\u001b[0m\u001b[0;34m.\u001b[0m\u001b[0mclone\u001b[0m\u001b[0;34m(\u001b[0m\u001b[0;34m)\u001b[0m\u001b[0;34m)\u001b[0m\u001b[0;34m\u001b[0m\u001b[0;34m\u001b[0m\u001b[0m\n",
            "\u001b[0;32m/usr/local/lib/python3.10/dist-packages/torchmetrics/image/fid.py\u001b[0m in \u001b[0;36mcompute\u001b[0;34m(self)\u001b[0m\n\u001b[1;32m    388\u001b[0m         \u001b[0mcov_fake_num\u001b[0m \u001b[0;34m=\u001b[0m \u001b[0mself\u001b[0m\u001b[0;34m.\u001b[0m\u001b[0mfake_features_cov_sum\u001b[0m \u001b[0;34m-\u001b[0m \u001b[0mself\u001b[0m\u001b[0;34m.\u001b[0m\u001b[0mfake_features_num_samples\u001b[0m \u001b[0;34m*\u001b[0m \u001b[0mmean_fake\u001b[0m\u001b[0;34m.\u001b[0m\u001b[0mt\u001b[0m\u001b[0;34m(\u001b[0m\u001b[0;34m)\u001b[0m\u001b[0;34m.\u001b[0m\u001b[0mmm\u001b[0m\u001b[0;34m(\u001b[0m\u001b[0mmean_fake\u001b[0m\u001b[0;34m)\u001b[0m\u001b[0;34m\u001b[0m\u001b[0;34m\u001b[0m\u001b[0m\n\u001b[1;32m    389\u001b[0m         \u001b[0mcov_fake\u001b[0m \u001b[0;34m=\u001b[0m \u001b[0mcov_fake_num\u001b[0m \u001b[0;34m/\u001b[0m \u001b[0;34m(\u001b[0m\u001b[0mself\u001b[0m\u001b[0;34m.\u001b[0m\u001b[0mfake_features_num_samples\u001b[0m \u001b[0;34m-\u001b[0m \u001b[0;36m1\u001b[0m\u001b[0;34m)\u001b[0m\u001b[0;34m\u001b[0m\u001b[0;34m\u001b[0m\u001b[0m\n\u001b[0;32m--> 390\u001b[0;31m         \u001b[0;32mreturn\u001b[0m \u001b[0m_compute_fid\u001b[0m\u001b[0;34m(\u001b[0m\u001b[0mmean_real\u001b[0m\u001b[0;34m.\u001b[0m\u001b[0msqueeze\u001b[0m\u001b[0;34m(\u001b[0m\u001b[0;36m0\u001b[0m\u001b[0;34m)\u001b[0m\u001b[0;34m,\u001b[0m \u001b[0mcov_real\u001b[0m\u001b[0;34m,\u001b[0m \u001b[0mmean_fake\u001b[0m\u001b[0;34m.\u001b[0m\u001b[0msqueeze\u001b[0m\u001b[0;34m(\u001b[0m\u001b[0;36m0\u001b[0m\u001b[0;34m)\u001b[0m\u001b[0;34m,\u001b[0m \u001b[0mcov_fake\u001b[0m\u001b[0;34m)\u001b[0m\u001b[0;34m.\u001b[0m\u001b[0mto\u001b[0m\u001b[0;34m(\u001b[0m\u001b[0mself\u001b[0m\u001b[0;34m.\u001b[0m\u001b[0morig_dtype\u001b[0m\u001b[0;34m)\u001b[0m\u001b[0;34m\u001b[0m\u001b[0;34m\u001b[0m\u001b[0m\n\u001b[0m\u001b[1;32m    391\u001b[0m \u001b[0;34m\u001b[0m\u001b[0m\n\u001b[1;32m    392\u001b[0m     \u001b[0;32mdef\u001b[0m \u001b[0mreset\u001b[0m\u001b[0;34m(\u001b[0m\u001b[0mself\u001b[0m\u001b[0;34m)\u001b[0m \u001b[0;34m->\u001b[0m \u001b[0;32mNone\u001b[0m\u001b[0;34m:\u001b[0m\u001b[0;34m\u001b[0m\u001b[0;34m\u001b[0m\u001b[0m\n",
            "\u001b[0;32m/usr/local/lib/python3.10/dist-packages/torchmetrics/image/fid.py\u001b[0m in \u001b[0;36m_compute_fid\u001b[0;34m(mu1, sigma1, mu2, sigma2)\u001b[0m\n\u001b[1;32m    175\u001b[0m     \u001b[0ma\u001b[0m \u001b[0;34m=\u001b[0m \u001b[0;34m(\u001b[0m\u001b[0mmu1\u001b[0m \u001b[0;34m-\u001b[0m \u001b[0mmu2\u001b[0m\u001b[0;34m)\u001b[0m\u001b[0;34m.\u001b[0m\u001b[0msquare\u001b[0m\u001b[0;34m(\u001b[0m\u001b[0;34m)\u001b[0m\u001b[0;34m.\u001b[0m\u001b[0msum\u001b[0m\u001b[0;34m(\u001b[0m\u001b[0mdim\u001b[0m\u001b[0;34m=\u001b[0m\u001b[0;34m-\u001b[0m\u001b[0;36m1\u001b[0m\u001b[0;34m)\u001b[0m\u001b[0;34m\u001b[0m\u001b[0;34m\u001b[0m\u001b[0m\n\u001b[1;32m    176\u001b[0m     \u001b[0mb\u001b[0m \u001b[0;34m=\u001b[0m \u001b[0msigma1\u001b[0m\u001b[0;34m.\u001b[0m\u001b[0mtrace\u001b[0m\u001b[0;34m(\u001b[0m\u001b[0;34m)\u001b[0m \u001b[0;34m+\u001b[0m \u001b[0msigma2\u001b[0m\u001b[0;34m.\u001b[0m\u001b[0mtrace\u001b[0m\u001b[0;34m(\u001b[0m\u001b[0;34m)\u001b[0m\u001b[0;34m\u001b[0m\u001b[0;34m\u001b[0m\u001b[0m\n\u001b[0;32m--> 177\u001b[0;31m     \u001b[0mc\u001b[0m \u001b[0;34m=\u001b[0m \u001b[0mtorch\u001b[0m\u001b[0;34m.\u001b[0m\u001b[0mlinalg\u001b[0m\u001b[0;34m.\u001b[0m\u001b[0meigvals\u001b[0m\u001b[0;34m(\u001b[0m\u001b[0msigma1\u001b[0m \u001b[0;34m@\u001b[0m \u001b[0msigma2\u001b[0m\u001b[0;34m)\u001b[0m\u001b[0;34m.\u001b[0m\u001b[0msqrt\u001b[0m\u001b[0;34m(\u001b[0m\u001b[0;34m)\u001b[0m\u001b[0;34m.\u001b[0m\u001b[0mreal\u001b[0m\u001b[0;34m.\u001b[0m\u001b[0msum\u001b[0m\u001b[0;34m(\u001b[0m\u001b[0mdim\u001b[0m\u001b[0;34m=\u001b[0m\u001b[0;34m-\u001b[0m\u001b[0;36m1\u001b[0m\u001b[0;34m)\u001b[0m\u001b[0;34m\u001b[0m\u001b[0;34m\u001b[0m\u001b[0m\n\u001b[0m\u001b[1;32m    178\u001b[0m \u001b[0;34m\u001b[0m\u001b[0m\n\u001b[1;32m    179\u001b[0m     \u001b[0;32mreturn\u001b[0m \u001b[0ma\u001b[0m \u001b[0;34m+\u001b[0m \u001b[0mb\u001b[0m \u001b[0;34m-\u001b[0m \u001b[0;36m2\u001b[0m \u001b[0;34m*\u001b[0m \u001b[0mc\u001b[0m\u001b[0;34m\u001b[0m\u001b[0;34m\u001b[0m\u001b[0m\n",
            "\u001b[0;31mKeyboardInterrupt\u001b[0m: "
          ]
        }
      ]
    },
    {
      "cell_type": "code",
      "source": [],
      "metadata": {
        "id": "LxLvRclm3Fj6"
      },
      "execution_count": null,
      "outputs": []
    }
  ]
}