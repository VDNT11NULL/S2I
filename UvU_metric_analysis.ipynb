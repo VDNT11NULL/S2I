{
  "nbformat": 4,
  "nbformat_minor": 0,
  "metadata": {
    "colab": {
      "provenance": [],
      "gpuType": "T4"
    },
    "kernelspec": {
      "name": "python3",
      "display_name": "Python 3"
    },
    "language_info": {
      "name": "python"
    },
    "accelerator": "GPU"
  },
  "cells": [
    {
      "cell_type": "code",
      "source": [
        "!pip install torchmetrics"
      ],
      "metadata": {
        "colab": {
          "base_uri": "https://localhost:8080/"
        },
        "id": "jU43VyTC0agk",
        "outputId": "42d224d1-20e1-44b5-8590-b10f617e4836"
      },
      "execution_count": 1,
      "outputs": [
        {
          "output_type": "stream",
          "name": "stdout",
          "text": [
            "Collecting torchmetrics\n",
            "  Downloading torchmetrics-1.5.0-py3-none-any.whl.metadata (20 kB)\n",
            "Requirement already satisfied: numpy<2.0,>1.20.0 in /usr/local/lib/python3.10/dist-packages (from torchmetrics) (1.26.4)\n",
            "Requirement already satisfied: packaging>17.1 in /usr/local/lib/python3.10/dist-packages (from torchmetrics) (24.1)\n",
            "Requirement already satisfied: torch>=1.10.0 in /usr/local/lib/python3.10/dist-packages (from torchmetrics) (2.4.1+cu121)\n",
            "Collecting lightning-utilities>=0.8.0 (from torchmetrics)\n",
            "  Downloading lightning_utilities-0.11.8-py3-none-any.whl.metadata (5.2 kB)\n",
            "Requirement already satisfied: setuptools in /usr/local/lib/python3.10/dist-packages (from lightning-utilities>=0.8.0->torchmetrics) (75.1.0)\n",
            "Requirement already satisfied: typing-extensions in /usr/local/lib/python3.10/dist-packages (from lightning-utilities>=0.8.0->torchmetrics) (4.12.2)\n",
            "Requirement already satisfied: filelock in /usr/local/lib/python3.10/dist-packages (from torch>=1.10.0->torchmetrics) (3.16.1)\n",
            "Requirement already satisfied: sympy in /usr/local/lib/python3.10/dist-packages (from torch>=1.10.0->torchmetrics) (1.13.3)\n",
            "Requirement already satisfied: networkx in /usr/local/lib/python3.10/dist-packages (from torch>=1.10.0->torchmetrics) (3.4.1)\n",
            "Requirement already satisfied: jinja2 in /usr/local/lib/python3.10/dist-packages (from torch>=1.10.0->torchmetrics) (3.1.4)\n",
            "Requirement already satisfied: fsspec in /usr/local/lib/python3.10/dist-packages (from torch>=1.10.0->torchmetrics) (2024.6.1)\n",
            "Requirement already satisfied: MarkupSafe>=2.0 in /usr/local/lib/python3.10/dist-packages (from jinja2->torch>=1.10.0->torchmetrics) (3.0.1)\n",
            "Requirement already satisfied: mpmath<1.4,>=1.1.0 in /usr/local/lib/python3.10/dist-packages (from sympy->torch>=1.10.0->torchmetrics) (1.3.0)\n",
            "Downloading torchmetrics-1.5.0-py3-none-any.whl (890 kB)\n",
            "\u001b[2K   \u001b[90m━━━━━━━━━━━━━━━━━━━━━━━━━━━━━━━━━━━━━━━━\u001b[0m \u001b[32m890.5/890.5 kB\u001b[0m \u001b[31m22.2 MB/s\u001b[0m eta \u001b[36m0:00:00\u001b[0m\n",
            "\u001b[?25hDownloading lightning_utilities-0.11.8-py3-none-any.whl (26 kB)\n",
            "Installing collected packages: lightning-utilities, torchmetrics\n",
            "Successfully installed lightning-utilities-0.11.8 torchmetrics-1.5.0\n"
          ]
        }
      ]
    },
    {
      "cell_type": "code",
      "source": [
        "!pip install torch-fidelity"
      ],
      "metadata": {
        "colab": {
          "base_uri": "https://localhost:8080/"
        },
        "id": "jvnTl5Ug3Xnc",
        "outputId": "d4e5b052-92b1-4953-8f86-c05ef8ac43e0"
      },
      "execution_count": 2,
      "outputs": [
        {
          "output_type": "stream",
          "name": "stdout",
          "text": [
            "Collecting torch-fidelity\n",
            "  Downloading torch_fidelity-0.3.0-py3-none-any.whl.metadata (2.0 kB)\n",
            "Requirement already satisfied: numpy in /usr/local/lib/python3.10/dist-packages (from torch-fidelity) (1.26.4)\n",
            "Requirement already satisfied: Pillow in /usr/local/lib/python3.10/dist-packages (from torch-fidelity) (10.4.0)\n",
            "Requirement already satisfied: scipy in /usr/local/lib/python3.10/dist-packages (from torch-fidelity) (1.13.1)\n",
            "Requirement already satisfied: torch in /usr/local/lib/python3.10/dist-packages (from torch-fidelity) (2.4.1+cu121)\n",
            "Requirement already satisfied: torchvision in /usr/local/lib/python3.10/dist-packages (from torch-fidelity) (0.19.1+cu121)\n",
            "Requirement already satisfied: tqdm in /usr/local/lib/python3.10/dist-packages (from torch-fidelity) (4.66.5)\n",
            "Requirement already satisfied: filelock in /usr/local/lib/python3.10/dist-packages (from torch->torch-fidelity) (3.16.1)\n",
            "Requirement already satisfied: typing-extensions>=4.8.0 in /usr/local/lib/python3.10/dist-packages (from torch->torch-fidelity) (4.12.2)\n",
            "Requirement already satisfied: sympy in /usr/local/lib/python3.10/dist-packages (from torch->torch-fidelity) (1.13.3)\n",
            "Requirement already satisfied: networkx in /usr/local/lib/python3.10/dist-packages (from torch->torch-fidelity) (3.4.1)\n",
            "Requirement already satisfied: jinja2 in /usr/local/lib/python3.10/dist-packages (from torch->torch-fidelity) (3.1.4)\n",
            "Requirement already satisfied: fsspec in /usr/local/lib/python3.10/dist-packages (from torch->torch-fidelity) (2024.6.1)\n",
            "Requirement already satisfied: MarkupSafe>=2.0 in /usr/local/lib/python3.10/dist-packages (from jinja2->torch->torch-fidelity) (3.0.1)\n",
            "Requirement already satisfied: mpmath<1.4,>=1.1.0 in /usr/local/lib/python3.10/dist-packages (from sympy->torch->torch-fidelity) (1.3.0)\n",
            "Downloading torch_fidelity-0.3.0-py3-none-any.whl (37 kB)\n",
            "Installing collected packages: torch-fidelity\n",
            "Successfully installed torch-fidelity-0.3.0\n"
          ]
        }
      ]
    },
    {
      "cell_type": "code",
      "execution_count": 3,
      "metadata": {
        "colab": {
          "base_uri": "https://localhost:8080/"
        },
        "id": "wcy4qOBozi0Q",
        "outputId": "2efe4694-e5b4-4098-f92a-b72cc0390191"
      },
      "outputs": [
        {
          "output_type": "stream",
          "name": "stderr",
          "text": [
            "/usr/local/lib/python3.10/dist-packages/albumentations/__init__.py:13: UserWarning: A new version of Albumentations is available: 1.4.18 (you have 1.4.15). Upgrade using: pip install -U albumentations. To disable automatic update checks, set the environment variable NO_ALBUMENTATIONS_UPDATE to 1.\n",
            "  check_for_updates()\n"
          ]
        },
        {
          "output_type": "stream",
          "name": "stdout",
          "text": [
            "torch.Size([1, 3, 512, 512])\n"
          ]
        }
      ],
      "source": [
        "import os\n",
        "import torch\n",
        "import torch.optim as optim\n",
        "import torch.nn as nn\n",
        "import matplotlib.pyplot as plt\n",
        "from torchmetrics.image.fid import FrechetInceptionDistance\n",
        "from sklearn.metrics import confusion_matrix, accuracy_score, precision_score, recall_score, f1_score\n",
        "import numpy as np\n",
        "from torch.utils.data import DataLoader, Dataset, random_split\n",
        "from torchvision import transforms\n",
        "from torchvision.datasets import ImageFolder\n",
        "import os\n",
        "from PIL import Image\n",
        "from tqdm import tqdm\n",
        "from torchvision.utils import save_image\n",
        "# local module imports\n",
        "import config\n",
        "from utils import save_checkpoint, load_checkpoint, save_some_examples\n",
        "from UvU_Net_Generator import OuterUNet as Generator\n",
        "from UvU_Discriminator import Discriminator\n",
        "\n",
        "torch.backends.cudnn.benchmark = True"
      ]
    },
    {
      "cell_type": "code",
      "source": [
        "def train_fn(\n",
        "    disc, gen, loader, opt_disc, opt_gen, l1_loss, bce, g_scaler, d_scaler,\n",
        "):\n",
        "    loop = tqdm(loader, leave=True)\n",
        "\n",
        "    for idx, (x, y) in enumerate(loop):\n",
        "        x = x.to(config.DEVICE)\n",
        "        y = y.to(config.DEVICE)\n",
        "\n",
        "        # Train Discriminator\n",
        "        with torch.cuda.amp.autocast():\n",
        "            y_fake = gen(x)\n",
        "            D_real = disc(x, y)\n",
        "            D_real_loss = bce(D_real, torch.ones_like(D_real))\n",
        "            D_fake = disc(x, y_fake.detach())\n",
        "            D_fake_loss = bce(D_fake, torch.zeros_like(D_fake))\n",
        "            D_loss = (D_real_loss + D_fake_loss) / 2\n",
        "\n",
        "        disc.zero_grad()\n",
        "        d_scaler.scale(D_loss).backward()\n",
        "        d_scaler.step(opt_disc)\n",
        "        d_scaler.update()\n",
        "\n",
        "        # Train generator\n",
        "        with torch.cuda.amp.autocast():\n",
        "            D_fake = disc(x, y_fake)\n",
        "            G_fake_loss = bce(D_fake, torch.ones_like(D_fake))\n",
        "            L1 = l1_loss(y_fake, y) * config.L1_LAMBDA\n",
        "            G_loss = G_fake_loss + L1\n",
        "\n",
        "        opt_gen.zero_grad()\n",
        "        g_scaler.scale(G_loss).backward()\n",
        "        g_scaler.step(opt_gen)\n",
        "        g_scaler.update()\n",
        "\n",
        "        if idx % 10 == 0:\n",
        "            loop.set_postfix(\n",
        "                D_real=torch.sigmoid(D_real).mean().item(),\n",
        "                D_fake=torch.sigmoid(D_fake).mean().item(),\n",
        "            )"
      ],
      "metadata": {
        "id": "0iMswhTZ4_Yg"
      },
      "execution_count": 4,
      "outputs": []
    },
    {
      "cell_type": "code",
      "source": [
        "!unzip -q Sample_dataset.zip"
      ],
      "metadata": {
        "id": "4nx4M3Ea5iRO"
      },
      "execution_count": 5,
      "outputs": []
    },
    {
      "cell_type": "code",
      "source": [
        "class PairedImageDataset(Dataset):\n",
        "    def __init__(self, input_dir, target_dir, transform=None):\n",
        "        self.input_dir = input_dir\n",
        "        self.target_dir = target_dir\n",
        "        self.input_images = sorted(os.listdir(input_dir))\n",
        "        self.target_images = sorted(os.listdir(target_dir))\n",
        "        self.transform = transform\n",
        "\n",
        "        assert len(self.input_images) == len(self.target_images), \"Mismatch between input and target images!\"\n",
        "\n",
        "    def __len__(self):\n",
        "        return len(self.input_images)\n",
        "\n",
        "    def __getitem__(self, idx):\n",
        "        input_image_path = os.path.join(self.input_dir, self.input_images[idx])\n",
        "        target_image_path = os.path.join(self.target_dir, self.target_images[idx])\n",
        "\n",
        "        input_image = Image.open(input_image_path).convert(\"RGB\")\n",
        "        target_image = Image.open(target_image_path).convert(\"RGB\")\n",
        "\n",
        "        if self.transform:\n",
        "            input_image = self.transform(input_image)\n",
        "            target_image = self.transform(target_image)\n",
        "\n",
        "        return input_image, target_image\n",
        "\n",
        "\n",
        "input_dir = '/content/Sample_dataset/sobel_images'\n",
        "target_dir = '/content/Sample_dataset/input_images'\n",
        "\n",
        "transform = transforms.Compose([\n",
        "    transforms.Resize((256, 256)),\n",
        "    transforms.ToTensor()\n",
        "])\n",
        "\n",
        "dataset = PairedImageDataset(input_dir=input_dir, target_dir=target_dir, transform=transform)\n",
        "\n",
        "# Split dataset into training and validation (80-20 split)\n",
        "train_size = int(0.8 * len(dataset))\n",
        "val_size = len(dataset) - train_size\n",
        "train_dataset, val_dataset = random_split(dataset, [train_size, val_size])\n",
        "\n",
        "# Create DataLoader for training and validation\n",
        "batch_size = 16\n",
        "\n",
        "train_loader = DataLoader(train_dataset, batch_size=batch_size, shuffle=True)\n",
        "val_loader = DataLoader(val_dataset, batch_size=batch_size, shuffle=True)\n",
        "\n",
        "# Example to iterate over the data loader\n",
        "for batch_idx, (input_images, target_images) in enumerate(train_loader):\n",
        "    print(f\"Batch {batch_idx + 1}\")\n",
        "    print(f\"Input batch size: {input_images.shape}\")\n",
        "    print(f\"Target batch size: {target_images.shape}\")\n"
      ],
      "metadata": {
        "colab": {
          "base_uri": "https://localhost:8080/"
        },
        "id": "RBrQMzMI5Zsl",
        "outputId": "fb0dc666-7f85-41bc-9d30-a7560db698f2"
      },
      "execution_count": 6,
      "outputs": [
        {
          "output_type": "stream",
          "name": "stdout",
          "text": [
            "Batch 1\n",
            "Input batch size: torch.Size([16, 3, 256, 256])\n",
            "Target batch size: torch.Size([16, 3, 256, 256])\n",
            "Batch 2\n",
            "Input batch size: torch.Size([4, 3, 256, 256])\n",
            "Target batch size: torch.Size([4, 3, 256, 256])\n"
          ]
        }
      ]
    },
    {
      "cell_type": "code",
      "source": [
        "import os\n",
        "import torch\n",
        "import torch.optim as optim\n",
        "import torch.nn as nn\n",
        "import matplotlib.pyplot as plt\n",
        "from torchmetrics.image.fid import FrechetInceptionDistance\n",
        "from sklearn.metrics import confusion_matrix, accuracy_score, precision_score, recall_score, f1_score\n",
        "import numpy as np\n",
        "\n",
        "# Create directories\n",
        "save_dir = '/content/drive/MyDrive/model_checkpoints/'  # Change this to your desired directory\n",
        "os.makedirs(save_dir, exist_ok=True)\n",
        "directory = '/content/evaluation/'\n",
        "if not os.path.exists(directory):\n",
        "    os.makedirs(directory)  # Create the directory if it doesn't exist\n",
        "\n",
        "# Calculate classification metrics for the discriminator\n",
        "def calculate_classification_metrics(disc, gen, val_loader, device):\n",
        "    gen.eval()\n",
        "    disc.eval()\n",
        "\n",
        "    y_true = []\n",
        "    y_pred = []\n",
        "\n",
        "    with torch.no_grad():\n",
        "        for x, y in val_loader:\n",
        "            x = x.to(device)\n",
        "            y = y.to(device)\n",
        "\n",
        "            # Discriminator on real images\n",
        "            # Assuming x is your input and y is the corresponding label for real images.\n",
        "            batch_size = x.size(0)  # Dynamically get the current batch size\n",
        "\n",
        "            # Discriminator on real images\n",
        "            D_real = disc(x, y)\n",
        "            real_preds = (torch.sigmoid(D_real) >= 0.5).cpu().numpy()  # Predictions for real images\n",
        "\n",
        "            # Extend y_true with 1s for real images (1 = real)\n",
        "            y_true.extend([1] * len(real_preds.flatten().tolist()))  # Ground truth for real images is 1\n",
        "            y_pred.extend(real_preds.flatten().tolist())  # Extend predictions for real images\n",
        "\n",
        "            # Generate fake images using the generator\n",
        "            y_fake = gen(x)\n",
        "\n",
        "            # Discriminator on fake images\n",
        "            D_fake = disc(x, y_fake)\n",
        "            fake_preds = (torch.sigmoid(D_fake) < 0.5).cpu().numpy()  # Predictions for fake images\n",
        "\n",
        "            # Extend y_true with 0s for fake images (0 = fake)\n",
        "            y_true.extend([0] * len(real_preds.flatten().tolist()))  # Ground truth for fake images is 0\n",
        "            y_pred.extend(fake_preds.flatten().tolist())  # Extend predictions for fake images\n",
        "\n",
        "    # Convert to numpy arrays for metrics\n",
        "    y_true = np.array(y_true)\n",
        "    y_pred = np.array(y_pred)\n",
        "\n",
        "    print(f\"y_true size: {(y_true.shape)}, y_pred size: {(y_pred.shape)}\")  # Check sizes here\n",
        "\n",
        "\n",
        "    # Confusion matrix elements\n",
        "    tn, fp, fn, tp = confusion_matrix(y_true, y_pred).ravel()\n",
        "\n",
        "    # Accuracy\n",
        "    accuracy = accuracy_score(y_true, y_pred)\n",
        "\n",
        "    # True Positive Rate (TPR)\n",
        "    tpr = tp / (tp + fn) if (tp + fn) > 0 else 0\n",
        "\n",
        "    # False Positive Rate (FPR)\n",
        "    fpr = fp / (fp + tn) if (fp + tn) > 0 else 0\n",
        "\n",
        "    # True Negative Rate (TNR)\n",
        "    tnr = tn / (tn + fp) if (tn + fp) > 0 else 0\n",
        "\n",
        "    # False Negative Rate (FNR)\n",
        "    fnr = fn / (fn + tp) if (fn + tp) > 0 else 0\n",
        "\n",
        "    # Precision\n",
        "    precision = precision_score(y_true, y_pred)\n",
        "\n",
        "    # Recall (equivalent to TPR)\n",
        "    recall = recall_score(y_true, y_pred)\n",
        "\n",
        "    # F1 Score\n",
        "    f1 = f1_score(y_true, y_pred)\n",
        "\n",
        "    print(f\"Accuracy: {accuracy:.4f}, TPR: {tpr:.4f}, FPR: {fpr:.4f}, TNR: {tnr:.4f}, FNR: {fnr:.4f}\")\n",
        "    print(f\"Precision: {precision:.4f}, Recall: {recall:.4f}, F1 Score: {f1:.4f}\")\n",
        "\n",
        "    return accuracy, tpr, fpr, tnr, fnr, precision, recall, f1\n",
        "\n",
        "# FID Calculation (using torchmetrics)\n",
        "def calculate_fid(gen, val_loader, device, fid):\n",
        "    gen.eval()\n",
        "    fid.reset()  # Reset FID metric before calculation\n",
        "    with torch.no_grad():\n",
        "        for x, y in val_loader:\n",
        "            x = x.to(device)\n",
        "            y_fake = gen(x)\n",
        "            y_fake_tensor = y_fake.cpu().float()\n",
        "            y_real_tensor = y.cpu().float()\n",
        "\n",
        "            # Update FID with real and fake images\n",
        "            fid.update(y_fake_tensor, real=False)\n",
        "            fid.update(y_real_tensor, real=True)\n",
        "\n",
        "    fid_score = fid.compute().item()  # Compute FID score\n",
        "    print(f\"FID: {fid_score}\")\n",
        "    return fid_score\n",
        "\n",
        "# PSNR calculation\n",
        "def calculate_psnr(gen, val_loader, device):\n",
        "    gen.eval()\n",
        "    total_psnr = 0.0\n",
        "    num_batches = 0\n",
        "\n",
        "    with torch.no_grad():\n",
        "        for x, y in val_loader:\n",
        "            x = x.to(device)\n",
        "            y = y.to(device)\n",
        "            y_fake = gen(x)\n",
        "\n",
        "            mse = torch.mean((y - y_fake) ** 2)\n",
        "            if mse == 0:\n",
        "                psnr = 100\n",
        "            else:\n",
        "                psnr = 20 * torch.log10(1.0 / torch.sqrt(mse))\n",
        "\n",
        "            total_psnr += psnr.item()\n",
        "            num_batches += 1\n",
        "\n",
        "    avg_psnr = total_psnr / num_batches\n",
        "    print(f\"PSNR: {avg_psnr:.4f}\")\n",
        "    return avg_psnr\n",
        "\n",
        "# Plot metrics\n",
        "def plot_metrics(metrics, num_epochs):\n",
        "    epochs = list(range(1, num_epochs + 1))\n",
        "\n",
        "    plt.figure(figsize=(18, 10))\n",
        "\n",
        "    # Accuracy plot\n",
        "    plt.subplot(3, 3, 1)\n",
        "    plt.plot(epochs, metrics['accuracy'], label=\"Accuracy\")\n",
        "    plt.title(\"Accuracy\")\n",
        "    plt.xlabel(\"Epochs\")\n",
        "    plt.ylabel(\"Accuracy\")\n",
        "    plt.grid(True)\n",
        "\n",
        "    # TPR plot\n",
        "    plt.subplot(3, 3, 2)\n",
        "    plt.plot(epochs, metrics['tpr'], label=\"TPR\")\n",
        "    plt.title(\"True Positive Rate (TPR)\")\n",
        "    plt.xlabel(\"Epochs\")\n",
        "    plt.ylabel(\"TPR\")\n",
        "    plt.grid(True)\n",
        "\n",
        "    # FPR plot\n",
        "    plt.subplot(3, 3, 3)\n",
        "    plt.plot(epochs, metrics['fpr'], label=\"FPR\")\n",
        "    plt.title(\"False Positive Rate (FPR)\")\n",
        "    plt.xlabel(\"Epochs\")\n",
        "    plt.ylabel(\"FPR\")\n",
        "    plt.grid(True)\n",
        "\n",
        "    # TNR plot\n",
        "    plt.subplot(3, 3, 4)\n",
        "    plt.plot(epochs, metrics['tnr'], label=\"TNR\")\n",
        "    plt.title(\"True Negative Rate (TNR)\")\n",
        "    plt.xlabel(\"Epochs\")\n",
        "    plt.ylabel(\"TNR\")\n",
        "    plt.grid(True)\n",
        "\n",
        "    # FNR plot\n",
        "    plt.subplot(3, 3, 5)\n",
        "    plt.plot(epochs, metrics['fnr'], label=\"FNR\")\n",
        "    plt.title(\"False Negative Rate (FNR)\")\n",
        "    plt.xlabel(\"Epochs\")\n",
        "    plt.ylabel(\"FNR\")\n",
        "    plt.grid(True)\n",
        "\n",
        "    # Precision plot\n",
        "    plt.subplot(3, 3, 6)\n",
        "    plt.plot(epochs, metrics['precision'], label=\"Precision\")\n",
        "    plt.title(\"Precision\")\n",
        "    plt.xlabel(\"Epochs\")\n",
        "    plt.ylabel(\"Precision\")\n",
        "    plt.grid(True)\n",
        "\n",
        "    # Recall plot\n",
        "    plt.subplot(3, 3, 7)\n",
        "    plt.plot(epochs, metrics['recall'], label=\"Recall\")\n",
        "    plt.title(\"Recall\")\n",
        "    plt.xlabel(\"Epochs\")\n",
        "    plt.ylabel(\"Recall\")\n",
        "    plt.grid(True)\n",
        "\n",
        "    # F1 Score plot\n",
        "    plt.subplot(3, 3, 8)\n",
        "    plt.plot(epochs, metrics['f1'], label=\"F1 Score\")\n",
        "    plt.title(\"F1 Score\")\n",
        "    plt.xlabel(\"Epochs\")\n",
        "    plt.ylabel(\"F1 Score\")\n",
        "    plt.grid(True)\n",
        "\n",
        "    # FID plot\n",
        "    plt.subplot(3, 3, 9)\n",
        "    plt.plot(epochs, metrics['fid'], label=\"FID\")\n",
        "    plt.title(\"Frechet Inception Distance (FID)\")\n",
        "    plt.xlabel(\"Epochs\")\n",
        "    plt.ylabel(\"FID\")\n",
        "    plt.grid(True)\n",
        "\n",
        "    plt.tight_layout()\n",
        "    plt.show()\n",
        "\n",
        "# Main function\n",
        "def main():\n",
        "    disc = Discriminator(in_channels=3).to(config.DEVICE)\n",
        "    gen = Generator(in_channels=3, features=64).to(config.DEVICE)\n",
        "    opt_disc = optim.Adam(disc.parameters(), lr=config.LEARNING_RATE, betas=(0.5, 0.999))\n",
        "    opt_gen = optim.Adam(gen.parameters(), lr=config.LEARNING_RATE, betas=(0.5, 0.999))\n",
        "    BCE = nn.BCEWithLogitsLoss()\n",
        "    L1_LOSS = nn.L1Loss()\n",
        "\n",
        "    if config.LOAD_MODEL:\n",
        "        load_checkpoint(config.CHECKPOINT_GEN, gen, opt_gen, config.LEARNING_RATE)\n",
        "        load_checkpoint(config.CHECKPOINT_DISC, disc, opt_disc, config.LEARNING_RATE)\n",
        "\n",
        "    g_scaler = torch.cuda.amp.GradScaler()\n",
        "    d_scaler = torch.cuda.amp.GradScaler()\n",
        "\n",
        "    # Initialize metric storage\n",
        "    metrics = {\n",
        "        'accuracy': [],\n",
        "        'tpr': [],\n",
        "        'fpr': [],\n",
        "        'tnr': [],\n",
        "        'fnr': [],\n",
        "        'precision': [],\n",
        "        'recall': [],\n",
        "        'f1': [],\n",
        "        'fid': [],\n",
        "        'psnr': []\n",
        "    }\n",
        "\n",
        "    # Initialize FID object from torchmetrics\n",
        "    fid = FrechetInceptionDistance(normalize=True).to('cpu')\n",
        "    for epoch in range(config.NUM_EPOCHS):\n",
        "        train_fn(disc, gen, train_loader, opt_disc, opt_gen, L1_LOSS, BCE, g_scaler, d_scaler)\n",
        "\n",
        "        # Calculate metrics every epoch\n",
        "        accuracy, tpr, fpr, tnr, fnr, precision, recall, f1 = calculate_classification_metrics(disc, gen, val_loader, config.DEVICE)\n",
        "        fid_score = calculate_fid(gen, val_loader, config.DEVICE, fid)\n",
        "        psnr_score = calculate_psnr(gen, val_loader, config.DEVICE)\n",
        "\n",
        "        # Store metrics for plotting later\n",
        "        metrics['accuracy'].append(accuracy)\n",
        "        metrics['tpr'].append(tpr)\n",
        "        metrics['fpr'].append(fpr)\n",
        "        metrics['tnr'].append(tnr)\n",
        "        metrics['fnr'].append(fnr)\n",
        "        metrics['precision'].append(precision)\n",
        "        metrics['recall'].append(recall)\n",
        "        metrics['f1'].append(f1)\n",
        "        metrics['fid'].append(fid_score)\n",
        "        metrics['psnr'].append(psnr_score)\n",
        "\n",
        "        print(f\"Epoch {epoch} - Metrics: Accuracy: {accuracy:.4f}, TPR: {tpr:.4f}, FPR: {fpr:.4f}, FID: {fid_score:.4f}, PSNR: {psnr_score:.4f}\")\n",
        "\n",
        "        # Save model checkpoints every 50 epochs\n",
        "        if epoch % 50 == 49:\n",
        "            print(f\"Saving model at epoch {epoch}\")\n",
        "            torch.save({\n",
        "                'epoch': epoch,\n",
        "                'generator_state_dict': gen.state_dict(),\n",
        "                'optimizer_gen_state_dict': opt_gen.state_dict(),\n",
        "            }, f\"{save_dir}generator_epoch_{epoch}.pth\")\n",
        "\n",
        "            torch.save({\n",
        "                'epoch': epoch,\n",
        "                'discriminator_state_dict': disc.state_dict(),\n",
        "                'optimizer_disc_state_dict': opt_disc.state_dict(),\n",
        "            }, f\"{save_dir}discriminator_epoch_{epoch}.pth\")\n",
        "\n",
        "            save_some_examples(gen, val_loader, epoch, folder=\"evaluation\")\n",
        "\n",
        "    # Plot metrics after training is complete\n",
        "    plot_metrics(metrics, config.NUM_EPOCHS)\n",
        "\n",
        "\n",
        "if __name__ == \"__main__\":\n",
        "    main()\n"
      ],
      "metadata": {
        "colab": {
          "base_uri": "https://localhost:8080/",
          "height": 1000
        },
        "id": "SUr8dMlx0G1K",
        "outputId": "4024de3f-414a-4693-cef2-16c6fcb2c8a3"
      },
      "execution_count": 7,
      "outputs": [
        {
          "output_type": "stream",
          "name": "stderr",
          "text": [
            "<ipython-input-7-cdde3062e277>:230: FutureWarning: `torch.cuda.amp.GradScaler(args...)` is deprecated. Please use `torch.amp.GradScaler('cuda', args...)` instead.\n",
            "  g_scaler = torch.cuda.amp.GradScaler()\n",
            "<ipython-input-7-cdde3062e277>:231: FutureWarning: `torch.cuda.amp.GradScaler(args...)` is deprecated. Please use `torch.amp.GradScaler('cuda', args...)` instead.\n",
            "  d_scaler = torch.cuda.amp.GradScaler()\n",
            "Downloading: \"https://github.com/toshas/torch-fidelity/releases/download/v0.2.0/weights-inception-2015-12-05-6726825d.pth\" to /root/.cache/torch/hub/checkpoints/weights-inception-2015-12-05-6726825d.pth\n",
            "100%|██████████| 91.2M/91.2M [00:00<00:00, 398MB/s]\n",
            "  0%|          | 0/2 [00:00<?, ?it/s]<ipython-input-4-6490c8d8cca4>:11: FutureWarning: `torch.cuda.amp.autocast(args...)` is deprecated. Please use `torch.amp.autocast('cuda', args...)` instead.\n",
            "  with torch.cuda.amp.autocast():\n",
            "<ipython-input-4-6490c8d8cca4>:25: FutureWarning: `torch.cuda.amp.autocast(args...)` is deprecated. Please use `torch.amp.autocast('cuda', args...)` instead.\n",
            "  with torch.cuda.amp.autocast():\n",
            "100%|██████████| 2/2 [00:07<00:00,  3.93s/it, D_fake=0.435, D_real=0.517]\n"
          ]
        },
        {
          "output_type": "stream",
          "name": "stdout",
          "text": [
            "y_true size: (9000,), y_pred size: (9000,)\n",
            "Accuracy: 1.0000, TPR: 1.0000, FPR: 0.0000, TNR: 1.0000, FNR: 0.0000\n",
            "Precision: 1.0000, Recall: 1.0000, F1 Score: 1.0000\n",
            "FID: 455.6948547363281\n",
            "PSNR: 6.4829\n",
            "Epoch 0 - Metrics: Accuracy: 1.0000, TPR: 1.0000, FPR: 0.0000, FID: 455.6949, PSNR: 6.4829\n"
          ]
        },
        {
          "output_type": "stream",
          "name": "stderr",
          "text": [
            "\r  0%|          | 0/2 [00:00<?, ?it/s]<ipython-input-4-6490c8d8cca4>:11: FutureWarning: `torch.cuda.amp.autocast(args...)` is deprecated. Please use `torch.amp.autocast('cuda', args...)` instead.\n",
            "  with torch.cuda.amp.autocast():\n",
            "<ipython-input-4-6490c8d8cca4>:25: FutureWarning: `torch.cuda.amp.autocast(args...)` is deprecated. Please use `torch.amp.autocast('cuda', args...)` instead.\n",
            "  with torch.cuda.amp.autocast():\n",
            "100%|██████████| 2/2 [00:00<00:00,  4.66it/s, D_fake=0.478, D_real=0.541]\n"
          ]
        },
        {
          "output_type": "stream",
          "name": "stdout",
          "text": [
            "y_true size: (9000,), y_pred size: (9000,)\n",
            "Accuracy: 0.3703, TPR: 0.7407, FPR: 1.0000, TNR: 0.0000, FNR: 0.2593\n",
            "Precision: 0.4255, Recall: 0.7407, F1 Score: 0.5405\n",
            "FID: 455.6948547363281\n",
            "PSNR: 6.4829\n",
            "Epoch 1 - Metrics: Accuracy: 0.3703, TPR: 0.7407, FPR: 1.0000, FID: 455.6949, PSNR: 6.4829\n"
          ]
        },
        {
          "output_type": "stream",
          "name": "stderr",
          "text": [
            "\r  0%|          | 0/2 [00:00<?, ?it/s]<ipython-input-4-6490c8d8cca4>:11: FutureWarning: `torch.cuda.amp.autocast(args...)` is deprecated. Please use `torch.amp.autocast('cuda', args...)` instead.\n",
            "  with torch.cuda.amp.autocast():\n",
            "<ipython-input-4-6490c8d8cca4>:25: FutureWarning: `torch.cuda.amp.autocast(args...)` is deprecated. Please use `torch.amp.autocast('cuda', args...)` instead.\n",
            "  with torch.cuda.amp.autocast():\n",
            "100%|██████████| 2/2 [00:00<00:00,  5.76it/s, D_fake=0.308, D_real=0.585]\n"
          ]
        },
        {
          "output_type": "stream",
          "name": "stdout",
          "text": [
            "y_true size: (9000,), y_pred size: (9000,)\n",
            "Accuracy: 0.3534, TPR: 0.7069, FPR: 1.0000, TNR: 0.0000, FNR: 0.2931\n",
            "Precision: 0.4141, Recall: 0.7069, F1 Score: 0.5223\n",
            "FID: 458.71234130859375\n",
            "PSNR: 6.6366\n",
            "Epoch 2 - Metrics: Accuracy: 0.3534, TPR: 0.7069, FPR: 1.0000, FID: 458.7123, PSNR: 6.6366\n"
          ]
        },
        {
          "output_type": "stream",
          "name": "stderr",
          "text": [
            "\r  0%|          | 0/2 [00:00<?, ?it/s]<ipython-input-4-6490c8d8cca4>:11: FutureWarning: `torch.cuda.amp.autocast(args...)` is deprecated. Please use `torch.amp.autocast('cuda', args...)` instead.\n",
            "  with torch.cuda.amp.autocast():\n",
            "<ipython-input-4-6490c8d8cca4>:25: FutureWarning: `torch.cuda.amp.autocast(args...)` is deprecated. Please use `torch.amp.autocast('cuda', args...)` instead.\n",
            "  with torch.cuda.amp.autocast():\n",
            "100%|██████████| 2/2 [00:00<00:00,  4.88it/s, D_fake=0.397, D_real=0.712]\n"
          ]
        },
        {
          "output_type": "stream",
          "name": "stdout",
          "text": [
            "y_true size: (9000,), y_pred size: (9000,)\n",
            "Accuracy: 0.3254, TPR: 0.6509, FPR: 1.0000, TNR: 0.0000, FNR: 0.3491\n",
            "Precision: 0.3943, Recall: 0.6509, F1 Score: 0.4911\n",
            "FID: 503.452392578125\n",
            "PSNR: 6.9992\n",
            "Epoch 3 - Metrics: Accuracy: 0.3254, TPR: 0.6509, FPR: 1.0000, FID: 503.4524, PSNR: 6.9992\n"
          ]
        },
        {
          "output_type": "stream",
          "name": "stderr",
          "text": [
            "\r  0%|          | 0/2 [00:00<?, ?it/s]<ipython-input-4-6490c8d8cca4>:11: FutureWarning: `torch.cuda.amp.autocast(args...)` is deprecated. Please use `torch.amp.autocast('cuda', args...)` instead.\n",
            "  with torch.cuda.amp.autocast():\n",
            "<ipython-input-4-6490c8d8cca4>:25: FutureWarning: `torch.cuda.amp.autocast(args...)` is deprecated. Please use `torch.amp.autocast('cuda', args...)` instead.\n",
            "  with torch.cuda.amp.autocast():\n",
            "100%|██████████| 2/2 [00:00<00:00,  5.61it/s, D_fake=0.0326, D_real=0.709]\n"
          ]
        },
        {
          "output_type": "stream",
          "name": "stdout",
          "text": [
            "y_true size: (9000,), y_pred size: (9000,)\n",
            "Accuracy: 0.4169, TPR: 0.8338, FPR: 1.0000, TNR: 0.0000, FNR: 0.1662\n",
            "Precision: 0.4547, Recall: 0.8338, F1 Score: 0.5885\n",
            "FID: 423.9513244628906\n",
            "PSNR: 7.0563\n",
            "Epoch 4 - Metrics: Accuracy: 0.4169, TPR: 0.8338, FPR: 1.0000, FID: 423.9513, PSNR: 7.0563\n"
          ]
        },
        {
          "output_type": "stream",
          "name": "stderr",
          "text": [
            "\r  0%|          | 0/2 [00:00<?, ?it/s]<ipython-input-4-6490c8d8cca4>:11: FutureWarning: `torch.cuda.amp.autocast(args...)` is deprecated. Please use `torch.amp.autocast('cuda', args...)` instead.\n",
            "  with torch.cuda.amp.autocast():\n",
            "<ipython-input-4-6490c8d8cca4>:25: FutureWarning: `torch.cuda.amp.autocast(args...)` is deprecated. Please use `torch.amp.autocast('cuda', args...)` instead.\n",
            "  with torch.cuda.amp.autocast():\n",
            "100%|██████████| 2/2 [00:00<00:00,  5.33it/s, D_fake=0.195, D_real=0.875]\n"
          ]
        },
        {
          "output_type": "stream",
          "name": "stdout",
          "text": [
            "y_true size: (9000,), y_pred size: (9000,)\n",
            "Accuracy: 0.4019, TPR: 0.8038, FPR: 1.0000, TNR: 0.0000, FNR: 0.1962\n",
            "Precision: 0.4456, Recall: 0.8038, F1 Score: 0.5734\n",
            "FID: 443.0711669921875\n",
            "PSNR: 7.0430\n",
            "Epoch 5 - Metrics: Accuracy: 0.4019, TPR: 0.8038, FPR: 1.0000, FID: 443.0712, PSNR: 7.0430\n"
          ]
        },
        {
          "output_type": "stream",
          "name": "stderr",
          "text": [
            "\r  0%|          | 0/2 [00:00<?, ?it/s]<ipython-input-4-6490c8d8cca4>:11: FutureWarning: `torch.cuda.amp.autocast(args...)` is deprecated. Please use `torch.amp.autocast('cuda', args...)` instead.\n",
            "  with torch.cuda.amp.autocast():\n",
            "<ipython-input-4-6490c8d8cca4>:25: FutureWarning: `torch.cuda.amp.autocast(args...)` is deprecated. Please use `torch.amp.autocast('cuda', args...)` instead.\n",
            "  with torch.cuda.amp.autocast():\n",
            "100%|██████████| 2/2 [00:00<00:00,  4.89it/s, D_fake=0.0154, D_real=0.827]\n"
          ]
        },
        {
          "output_type": "stream",
          "name": "stdout",
          "text": [
            "y_true size: (9000,), y_pred size: (9000,)\n",
            "Accuracy: 0.8484, TPR: 0.7393, FPR: 0.0424, TNR: 0.9576, FNR: 0.2607\n",
            "Precision: 0.9457, Recall: 0.7393, F1 Score: 0.8299\n",
            "FID: 422.8663635253906\n",
            "PSNR: 7.0548\n",
            "Epoch 6 - Metrics: Accuracy: 0.8484, TPR: 0.7393, FPR: 0.0424, FID: 422.8664, PSNR: 7.0548\n"
          ]
        },
        {
          "output_type": "stream",
          "name": "stderr",
          "text": [
            "\r  0%|          | 0/2 [00:00<?, ?it/s]<ipython-input-4-6490c8d8cca4>:11: FutureWarning: `torch.cuda.amp.autocast(args...)` is deprecated. Please use `torch.amp.autocast('cuda', args...)` instead.\n",
            "  with torch.cuda.amp.autocast():\n",
            "<ipython-input-4-6490c8d8cca4>:25: FutureWarning: `torch.cuda.amp.autocast(args...)` is deprecated. Please use `torch.amp.autocast('cuda', args...)` instead.\n",
            "  with torch.cuda.amp.autocast():\n",
            "100%|██████████| 2/2 [00:00<00:00,  5.06it/s, D_fake=0.745, D_real=0.813]\n"
          ]
        },
        {
          "output_type": "stream",
          "name": "stdout",
          "text": [
            "y_true size: (9000,), y_pred size: (9000,)\n",
            "Accuracy: 1.0000, TPR: 1.0000, FPR: 0.0000, TNR: 1.0000, FNR: 0.0000\n",
            "Precision: 1.0000, Recall: 1.0000, F1 Score: 1.0000\n",
            "FID: 543.066650390625\n",
            "PSNR: 8.4608\n",
            "Epoch 7 - Metrics: Accuracy: 1.0000, TPR: 1.0000, FPR: 0.0000, FID: 543.0667, PSNR: 8.4608\n"
          ]
        },
        {
          "output_type": "stream",
          "name": "stderr",
          "text": [
            "\r  0%|          | 0/2 [00:00<?, ?it/s]<ipython-input-4-6490c8d8cca4>:11: FutureWarning: `torch.cuda.amp.autocast(args...)` is deprecated. Please use `torch.amp.autocast('cuda', args...)` instead.\n",
            "  with torch.cuda.amp.autocast():\n",
            "<ipython-input-4-6490c8d8cca4>:25: FutureWarning: `torch.cuda.amp.autocast(args...)` is deprecated. Please use `torch.amp.autocast('cuda', args...)` instead.\n",
            "  with torch.cuda.amp.autocast():\n",
            "100%|██████████| 2/2 [00:00<00:00,  4.71it/s, D_fake=0.069, D_real=0.973]\n"
          ]
        },
        {
          "output_type": "stream",
          "name": "stdout",
          "text": [
            "y_true size: (9000,), y_pred size: (9000,)\n",
            "Accuracy: 0.1278, TPR: 0.2556, FPR: 1.0000, TNR: 0.0000, FNR: 0.7444\n",
            "Precision: 0.2035, Recall: 0.2556, F1 Score: 0.2266\n",
            "FID: 596.6863403320312\n",
            "PSNR: 8.6458\n",
            "Epoch 8 - Metrics: Accuracy: 0.1278, TPR: 0.2556, FPR: 1.0000, FID: 596.6863, PSNR: 8.6458\n"
          ]
        },
        {
          "output_type": "stream",
          "name": "stderr",
          "text": [
            "\r  0%|          | 0/2 [00:00<?, ?it/s]<ipython-input-4-6490c8d8cca4>:11: FutureWarning: `torch.cuda.amp.autocast(args...)` is deprecated. Please use `torch.amp.autocast('cuda', args...)` instead.\n",
            "  with torch.cuda.amp.autocast():\n",
            "<ipython-input-4-6490c8d8cca4>:25: FutureWarning: `torch.cuda.amp.autocast(args...)` is deprecated. Please use `torch.amp.autocast('cuda', args...)` instead.\n",
            "  with torch.cuda.amp.autocast():\n",
            "100%|██████████| 2/2 [00:00<00:00,  5.05it/s, D_fake=0.387, D_real=0.349]\n"
          ]
        },
        {
          "output_type": "stream",
          "name": "stdout",
          "text": [
            "y_true size: (9000,), y_pred size: (9000,)\n",
            "Accuracy: 0.6691, TPR: 0.9978, FPR: 0.6596, TNR: 0.3404, FNR: 0.0022\n",
            "Precision: 0.6020, Recall: 0.9978, F1 Score: 0.7510\n",
            "FID: 534.0360107421875\n",
            "PSNR: 7.8886\n",
            "Epoch 9 - Metrics: Accuracy: 0.6691, TPR: 0.9978, FPR: 0.6596, FID: 534.0360, PSNR: 7.8886\n"
          ]
        },
        {
          "output_type": "stream",
          "name": "stderr",
          "text": [
            "\r  0%|          | 0/2 [00:00<?, ?it/s]<ipython-input-4-6490c8d8cca4>:11: FutureWarning: `torch.cuda.amp.autocast(args...)` is deprecated. Please use `torch.amp.autocast('cuda', args...)` instead.\n",
            "  with torch.cuda.amp.autocast():\n",
            "<ipython-input-4-6490c8d8cca4>:25: FutureWarning: `torch.cuda.amp.autocast(args...)` is deprecated. Please use `torch.amp.autocast('cuda', args...)` instead.\n",
            "  with torch.cuda.amp.autocast():\n",
            "100%|██████████| 2/2 [00:00<00:00,  5.51it/s, D_fake=0.413, D_real=0.712]\n"
          ]
        },
        {
          "output_type": "stream",
          "name": "stdout",
          "text": [
            "y_true size: (9000,), y_pred size: (9000,)\n",
            "Accuracy: 0.4196, TPR: 0.8391, FPR: 1.0000, TNR: 0.0000, FNR: 0.1609\n",
            "Precision: 0.4563, Recall: 0.8391, F1 Score: 0.5911\n",
            "FID: 428.4380798339844\n",
            "PSNR: 8.8519\n",
            "Epoch 10 - Metrics: Accuracy: 0.4196, TPR: 0.8391, FPR: 1.0000, FID: 428.4381, PSNR: 8.8519\n"
          ]
        },
        {
          "output_type": "stream",
          "name": "stderr",
          "text": [
            "\r  0%|          | 0/2 [00:00<?, ?it/s]<ipython-input-4-6490c8d8cca4>:11: FutureWarning: `torch.cuda.amp.autocast(args...)` is deprecated. Please use `torch.amp.autocast('cuda', args...)` instead.\n",
            "  with torch.cuda.amp.autocast():\n",
            "<ipython-input-4-6490c8d8cca4>:25: FutureWarning: `torch.cuda.amp.autocast(args...)` is deprecated. Please use `torch.amp.autocast('cuda', args...)` instead.\n",
            "  with torch.cuda.amp.autocast():\n",
            "100%|██████████| 2/2 [00:00<00:00,  4.87it/s, D_fake=0.168, D_real=0.721]\n"
          ]
        },
        {
          "output_type": "stream",
          "name": "stdout",
          "text": [
            "y_true size: (9000,), y_pred size: (9000,)\n",
            "Accuracy: 0.8891, TPR: 0.7782, FPR: 0.0000, TNR: 1.0000, FNR: 0.2218\n",
            "Precision: 1.0000, Recall: 0.7782, F1 Score: 0.8753\n",
            "FID: 526.9576416015625\n",
            "PSNR: 6.7991\n",
            "Epoch 11 - Metrics: Accuracy: 0.8891, TPR: 0.7782, FPR: 0.0000, FID: 526.9576, PSNR: 6.7991\n"
          ]
        },
        {
          "output_type": "stream",
          "name": "stderr",
          "text": [
            "\r  0%|          | 0/2 [00:00<?, ?it/s]<ipython-input-4-6490c8d8cca4>:11: FutureWarning: `torch.cuda.amp.autocast(args...)` is deprecated. Please use `torch.amp.autocast('cuda', args...)` instead.\n",
            "  with torch.cuda.amp.autocast():\n",
            "<ipython-input-4-6490c8d8cca4>:25: FutureWarning: `torch.cuda.amp.autocast(args...)` is deprecated. Please use `torch.amp.autocast('cuda', args...)` instead.\n",
            "  with torch.cuda.amp.autocast():\n",
            "100%|██████████| 2/2 [00:00<00:00,  4.85it/s, D_fake=0.162, D_real=0.785]\n"
          ]
        },
        {
          "output_type": "stream",
          "name": "stdout",
          "text": [
            "y_true size: (9000,), y_pred size: (9000,)\n",
            "Accuracy: 0.3649, TPR: 0.7298, FPR: 1.0000, TNR: 0.0000, FNR: 0.2702\n",
            "Precision: 0.4219, Recall: 0.7298, F1 Score: 0.5347\n",
            "FID: 505.4454345703125\n",
            "PSNR: 9.1474\n",
            "Epoch 12 - Metrics: Accuracy: 0.3649, TPR: 0.7298, FPR: 1.0000, FID: 505.4454, PSNR: 9.1474\n"
          ]
        },
        {
          "output_type": "stream",
          "name": "stderr",
          "text": [
            "\r  0%|          | 0/2 [00:00<?, ?it/s]<ipython-input-4-6490c8d8cca4>:11: FutureWarning: `torch.cuda.amp.autocast(args...)` is deprecated. Please use `torch.amp.autocast('cuda', args...)` instead.\n",
            "  with torch.cuda.amp.autocast():\n",
            "<ipython-input-4-6490c8d8cca4>:25: FutureWarning: `torch.cuda.amp.autocast(args...)` is deprecated. Please use `torch.amp.autocast('cuda', args...)` instead.\n",
            "  with torch.cuda.amp.autocast():\n",
            "100%|██████████| 2/2 [00:00<00:00,  4.72it/s, D_fake=0.425, D_real=0.55]\n"
          ]
        },
        {
          "output_type": "stream",
          "name": "stdout",
          "text": [
            "y_true size: (9000,), y_pred size: (9000,)\n",
            "Accuracy: 0.5000, TPR: 1.0000, FPR: 1.0000, TNR: 0.0000, FNR: 0.0000\n",
            "Precision: 0.5000, Recall: 1.0000, F1 Score: 0.6667\n",
            "FID: 535.64990234375\n",
            "PSNR: 9.1412\n",
            "Epoch 13 - Metrics: Accuracy: 0.5000, TPR: 1.0000, FPR: 1.0000, FID: 535.6499, PSNR: 9.1412\n"
          ]
        },
        {
          "output_type": "stream",
          "name": "stderr",
          "text": [
            "\r  0%|          | 0/2 [00:00<?, ?it/s]<ipython-input-4-6490c8d8cca4>:11: FutureWarning: `torch.cuda.amp.autocast(args...)` is deprecated. Please use `torch.amp.autocast('cuda', args...)` instead.\n",
            "  with torch.cuda.amp.autocast():\n",
            "<ipython-input-4-6490c8d8cca4>:25: FutureWarning: `torch.cuda.amp.autocast(args...)` is deprecated. Please use `torch.amp.autocast('cuda', args...)` instead.\n",
            "  with torch.cuda.amp.autocast():\n",
            "100%|██████████| 2/2 [00:00<00:00,  5.58it/s, D_fake=0.248, D_real=0.674]\n"
          ]
        },
        {
          "output_type": "stream",
          "name": "stdout",
          "text": [
            "y_true size: (9000,), y_pred size: (9000,)\n",
            "Accuracy: 0.4999, TPR: 0.9998, FPR: 1.0000, TNR: 0.0000, FNR: 0.0002\n",
            "Precision: 0.4999, Recall: 0.9998, F1 Score: 0.6666\n",
            "FID: 543.4937133789062\n",
            "PSNR: 9.2759\n",
            "Epoch 14 - Metrics: Accuracy: 0.4999, TPR: 0.9998, FPR: 1.0000, FID: 543.4937, PSNR: 9.2759\n"
          ]
        },
        {
          "output_type": "stream",
          "name": "stderr",
          "text": [
            "\r  0%|          | 0/2 [00:00<?, ?it/s]<ipython-input-4-6490c8d8cca4>:11: FutureWarning: `torch.cuda.amp.autocast(args...)` is deprecated. Please use `torch.amp.autocast('cuda', args...)` instead.\n",
            "  with torch.cuda.amp.autocast():\n",
            "<ipython-input-4-6490c8d8cca4>:25: FutureWarning: `torch.cuda.amp.autocast(args...)` is deprecated. Please use `torch.amp.autocast('cuda', args...)` instead.\n",
            "  with torch.cuda.amp.autocast():\n",
            "100%|██████████| 2/2 [00:00<00:00,  5.06it/s, D_fake=0.199, D_real=0.723]\n"
          ]
        },
        {
          "output_type": "stream",
          "name": "stdout",
          "text": [
            "y_true size: (9000,), y_pred size: (9000,)\n",
            "Accuracy: 0.4940, TPR: 0.9880, FPR: 1.0000, TNR: 0.0000, FNR: 0.0120\n",
            "Precision: 0.4970, Recall: 0.9880, F1 Score: 0.6613\n",
            "FID: 589.2029418945312\n",
            "PSNR: 8.9889\n",
            "Epoch 15 - Metrics: Accuracy: 0.4940, TPR: 0.9880, FPR: 1.0000, FID: 589.2029, PSNR: 8.9889\n"
          ]
        },
        {
          "output_type": "stream",
          "name": "stderr",
          "text": [
            "\r  0%|          | 0/2 [00:00<?, ?it/s]<ipython-input-4-6490c8d8cca4>:11: FutureWarning: `torch.cuda.amp.autocast(args...)` is deprecated. Please use `torch.amp.autocast('cuda', args...)` instead.\n",
            "  with torch.cuda.amp.autocast():\n",
            "<ipython-input-4-6490c8d8cca4>:25: FutureWarning: `torch.cuda.amp.autocast(args...)` is deprecated. Please use `torch.amp.autocast('cuda', args...)` instead.\n",
            "  with torch.cuda.amp.autocast():\n",
            "100%|██████████| 2/2 [00:00<00:00,  5.16it/s, D_fake=0.168, D_real=0.776]\n"
          ]
        },
        {
          "output_type": "stream",
          "name": "stdout",
          "text": [
            "y_true size: (9000,), y_pred size: (9000,)\n",
            "Accuracy: 0.4650, TPR: 0.9300, FPR: 1.0000, TNR: 0.0000, FNR: 0.0700\n",
            "Precision: 0.4819, Recall: 0.9300, F1 Score: 0.6348\n",
            "FID: 598.7543334960938\n",
            "PSNR: 8.3071\n",
            "Epoch 16 - Metrics: Accuracy: 0.4650, TPR: 0.9300, FPR: 1.0000, FID: 598.7543, PSNR: 8.3071\n"
          ]
        },
        {
          "output_type": "stream",
          "name": "stderr",
          "text": [
            "\r  0%|          | 0/2 [00:00<?, ?it/s]<ipython-input-4-6490c8d8cca4>:11: FutureWarning: `torch.cuda.amp.autocast(args...)` is deprecated. Please use `torch.amp.autocast('cuda', args...)` instead.\n",
            "  with torch.cuda.amp.autocast():\n",
            "<ipython-input-4-6490c8d8cca4>:25: FutureWarning: `torch.cuda.amp.autocast(args...)` is deprecated. Please use `torch.amp.autocast('cuda', args...)` instead.\n",
            "  with torch.cuda.amp.autocast():\n",
            "100%|██████████| 2/2 [00:00<00:00,  5.43it/s, D_fake=0.833, D_real=0.765]\n"
          ]
        },
        {
          "output_type": "stream",
          "name": "stdout",
          "text": [
            "y_true size: (9000,), y_pred size: (9000,)\n",
            "Accuracy: 1.0000, TPR: 1.0000, FPR: 0.0000, TNR: 1.0000, FNR: 0.0000\n",
            "Precision: 1.0000, Recall: 1.0000, F1 Score: 1.0000\n",
            "FID: 547.9984130859375\n",
            "PSNR: 9.1627\n",
            "Epoch 17 - Metrics: Accuracy: 1.0000, TPR: 1.0000, FPR: 0.0000, FID: 547.9984, PSNR: 9.1627\n"
          ]
        },
        {
          "output_type": "stream",
          "name": "stderr",
          "text": [
            "\r  0%|          | 0/2 [00:00<?, ?it/s]<ipython-input-4-6490c8d8cca4>:11: FutureWarning: `torch.cuda.amp.autocast(args...)` is deprecated. Please use `torch.amp.autocast('cuda', args...)` instead.\n",
            "  with torch.cuda.amp.autocast():\n",
            "<ipython-input-4-6490c8d8cca4>:25: FutureWarning: `torch.cuda.amp.autocast(args...)` is deprecated. Please use `torch.amp.autocast('cuda', args...)` instead.\n",
            "  with torch.cuda.amp.autocast():\n",
            "100%|██████████| 2/2 [00:00<00:00,  5.06it/s, D_fake=0.878, D_real=0.998]\n"
          ]
        },
        {
          "output_type": "stream",
          "name": "stdout",
          "text": [
            "y_true size: (9000,), y_pred size: (9000,)\n",
            "Accuracy: 0.0500, TPR: 0.1000, FPR: 1.0000, TNR: 0.0000, FNR: 0.9000\n",
            "Precision: 0.0909, Recall: 0.1000, F1 Score: 0.0952\n",
            "FID: 553.4384155273438\n",
            "PSNR: 9.1418\n",
            "Epoch 18 - Metrics: Accuracy: 0.0500, TPR: 0.1000, FPR: 1.0000, FID: 553.4384, PSNR: 9.1418\n"
          ]
        },
        {
          "output_type": "stream",
          "name": "stderr",
          "text": [
            "\r  0%|          | 0/2 [00:00<?, ?it/s]<ipython-input-4-6490c8d8cca4>:11: FutureWarning: `torch.cuda.amp.autocast(args...)` is deprecated. Please use `torch.amp.autocast('cuda', args...)` instead.\n",
            "  with torch.cuda.amp.autocast():\n",
            "<ipython-input-4-6490c8d8cca4>:25: FutureWarning: `torch.cuda.amp.autocast(args...)` is deprecated. Please use `torch.amp.autocast('cuda', args...)` instead.\n",
            "  with torch.cuda.amp.autocast():\n",
            "100%|██████████| 2/2 [00:00<00:00,  5.35it/s, D_fake=0.0488, D_real=0.119]\n"
          ]
        },
        {
          "output_type": "stream",
          "name": "stdout",
          "text": [
            "y_true size: (9000,), y_pred size: (9000,)\n",
            "Accuracy: 0.2953, TPR: 0.5907, FPR: 1.0000, TNR: 0.0000, FNR: 0.4093\n",
            "Precision: 0.3713, Recall: 0.5907, F1 Score: 0.4560\n",
            "FID: 535.839599609375\n",
            "PSNR: 9.2286\n",
            "Epoch 19 - Metrics: Accuracy: 0.2953, TPR: 0.5907, FPR: 1.0000, FID: 535.8396, PSNR: 9.2286\n"
          ]
        },
        {
          "output_type": "stream",
          "name": "stderr",
          "text": [
            "\r  0%|          | 0/2 [00:00<?, ?it/s]<ipython-input-4-6490c8d8cca4>:11: FutureWarning: `torch.cuda.amp.autocast(args...)` is deprecated. Please use `torch.amp.autocast('cuda', args...)` instead.\n",
            "  with torch.cuda.amp.autocast():\n",
            "<ipython-input-4-6490c8d8cca4>:25: FutureWarning: `torch.cuda.amp.autocast(args...)` is deprecated. Please use `torch.amp.autocast('cuda', args...)` instead.\n",
            "  with torch.cuda.amp.autocast():\n",
            "100%|██████████| 2/2 [00:00<00:00,  4.78it/s, D_fake=0.172, D_real=0.561]\n"
          ]
        },
        {
          "output_type": "stream",
          "name": "stdout",
          "text": [
            "y_true size: (9000,), y_pred size: (9000,)\n",
            "Accuracy: 0.4160, TPR: 0.8320, FPR: 1.0000, TNR: 0.0000, FNR: 0.1680\n",
            "Precision: 0.4541, Recall: 0.8320, F1 Score: 0.5876\n",
            "FID: 521.8170166015625\n",
            "PSNR: 9.2327\n",
            "Epoch 20 - Metrics: Accuracy: 0.4160, TPR: 0.8320, FPR: 1.0000, FID: 521.8170, PSNR: 9.2327\n"
          ]
        },
        {
          "output_type": "stream",
          "name": "stderr",
          "text": [
            "\r  0%|          | 0/2 [00:00<?, ?it/s]<ipython-input-4-6490c8d8cca4>:11: FutureWarning: `torch.cuda.amp.autocast(args...)` is deprecated. Please use `torch.amp.autocast('cuda', args...)` instead.\n",
            "  with torch.cuda.amp.autocast():\n",
            "<ipython-input-4-6490c8d8cca4>:25: FutureWarning: `torch.cuda.amp.autocast(args...)` is deprecated. Please use `torch.amp.autocast('cuda', args...)` instead.\n",
            "  with torch.cuda.amp.autocast():\n",
            "100%|██████████| 2/2 [00:00<00:00,  5.03it/s, D_fake=0.246, D_real=0.815]\n"
          ]
        },
        {
          "output_type": "stream",
          "name": "stdout",
          "text": [
            "y_true size: (9000,), y_pred size: (9000,)\n",
            "Accuracy: 0.5000, TPR: 1.0000, FPR: 1.0000, TNR: 0.0000, FNR: 0.0000\n",
            "Precision: 0.5000, Recall: 1.0000, F1 Score: 0.6667\n",
            "FID: 520.2340698242188\n",
            "PSNR: 8.9936\n",
            "Epoch 21 - Metrics: Accuracy: 0.5000, TPR: 1.0000, FPR: 1.0000, FID: 520.2341, PSNR: 8.9936\n"
          ]
        },
        {
          "output_type": "stream",
          "name": "stderr",
          "text": [
            "\r  0%|          | 0/2 [00:00<?, ?it/s]<ipython-input-4-6490c8d8cca4>:11: FutureWarning: `torch.cuda.amp.autocast(args...)` is deprecated. Please use `torch.amp.autocast('cuda', args...)` instead.\n",
            "  with torch.cuda.amp.autocast():\n",
            "<ipython-input-4-6490c8d8cca4>:25: FutureWarning: `torch.cuda.amp.autocast(args...)` is deprecated. Please use `torch.amp.autocast('cuda', args...)` instead.\n",
            "  with torch.cuda.amp.autocast():\n",
            "100%|██████████| 2/2 [00:00<00:00,  5.07it/s, D_fake=0.134, D_real=0.881]\n"
          ]
        },
        {
          "output_type": "stream",
          "name": "stdout",
          "text": [
            "y_true size: (9000,), y_pred size: (9000,)\n",
            "Accuracy: 0.5000, TPR: 1.0000, FPR: 1.0000, TNR: 0.0000, FNR: 0.0000\n",
            "Precision: 0.5000, Recall: 1.0000, F1 Score: 0.6667\n",
            "FID: 501.7953186035156\n",
            "PSNR: 9.2743\n",
            "Epoch 22 - Metrics: Accuracy: 0.5000, TPR: 1.0000, FPR: 1.0000, FID: 501.7953, PSNR: 9.2743\n"
          ]
        },
        {
          "output_type": "stream",
          "name": "stderr",
          "text": [
            "\r  0%|          | 0/2 [00:00<?, ?it/s]<ipython-input-4-6490c8d8cca4>:11: FutureWarning: `torch.cuda.amp.autocast(args...)` is deprecated. Please use `torch.amp.autocast('cuda', args...)` instead.\n",
            "  with torch.cuda.amp.autocast():\n",
            "<ipython-input-4-6490c8d8cca4>:25: FutureWarning: `torch.cuda.amp.autocast(args...)` is deprecated. Please use `torch.amp.autocast('cuda', args...)` instead.\n",
            "  with torch.cuda.amp.autocast():\n",
            "100%|██████████| 2/2 [00:00<00:00,  5.60it/s, D_fake=0.077, D_real=0.933]\n"
          ]
        },
        {
          "output_type": "stream",
          "name": "stdout",
          "text": [
            "y_true size: (9000,), y_pred size: (9000,)\n",
            "Accuracy: 0.5000, TPR: 1.0000, FPR: 1.0000, TNR: 0.0000, FNR: 0.0000\n",
            "Precision: 0.5000, Recall: 1.0000, F1 Score: 0.6667\n",
            "FID: 513.6554565429688\n",
            "PSNR: 9.3133\n",
            "Epoch 23 - Metrics: Accuracy: 0.5000, TPR: 1.0000, FPR: 1.0000, FID: 513.6555, PSNR: 9.3133\n"
          ]
        },
        {
          "output_type": "stream",
          "name": "stderr",
          "text": [
            "\r  0%|          | 0/2 [00:00<?, ?it/s]<ipython-input-4-6490c8d8cca4>:11: FutureWarning: `torch.cuda.amp.autocast(args...)` is deprecated. Please use `torch.amp.autocast('cuda', args...)` instead.\n",
            "  with torch.cuda.amp.autocast():\n",
            "<ipython-input-4-6490c8d8cca4>:25: FutureWarning: `torch.cuda.amp.autocast(args...)` is deprecated. Please use `torch.amp.autocast('cuda', args...)` instead.\n",
            "  with torch.cuda.amp.autocast():\n",
            "100%|██████████| 2/2 [00:00<00:00,  5.18it/s, D_fake=0.079, D_real=0.968]\n"
          ]
        },
        {
          "output_type": "stream",
          "name": "stdout",
          "text": [
            "y_true size: (9000,), y_pred size: (9000,)\n",
            "Accuracy: 0.5000, TPR: 1.0000, FPR: 1.0000, TNR: 0.0000, FNR: 0.0000\n",
            "Precision: 0.5000, Recall: 1.0000, F1 Score: 0.6667\n",
            "FID: 574.7091064453125\n",
            "PSNR: 8.9381\n",
            "Epoch 24 - Metrics: Accuracy: 0.5000, TPR: 1.0000, FPR: 1.0000, FID: 574.7091, PSNR: 8.9381\n"
          ]
        },
        {
          "output_type": "stream",
          "name": "stderr",
          "text": [
            "\r  0%|          | 0/2 [00:00<?, ?it/s]<ipython-input-4-6490c8d8cca4>:11: FutureWarning: `torch.cuda.amp.autocast(args...)` is deprecated. Please use `torch.amp.autocast('cuda', args...)` instead.\n",
            "  with torch.cuda.amp.autocast():\n",
            "<ipython-input-4-6490c8d8cca4>:25: FutureWarning: `torch.cuda.amp.autocast(args...)` is deprecated. Please use `torch.amp.autocast('cuda', args...)` instead.\n",
            "  with torch.cuda.amp.autocast():\n",
            "100%|██████████| 2/2 [00:00<00:00,  4.94it/s, D_fake=0.0397, D_real=0.977]\n"
          ]
        },
        {
          "output_type": "stream",
          "name": "stdout",
          "text": [
            "y_true size: (9000,), y_pred size: (9000,)\n",
            "Accuracy: 0.5000, TPR: 1.0000, FPR: 1.0000, TNR: 0.0000, FNR: 0.0000\n",
            "Precision: 0.5000, Recall: 1.0000, F1 Score: 0.6667\n",
            "FID: 559.5515747070312\n",
            "PSNR: 8.7798\n",
            "Epoch 25 - Metrics: Accuracy: 0.5000, TPR: 1.0000, FPR: 1.0000, FID: 559.5516, PSNR: 8.7798\n"
          ]
        },
        {
          "output_type": "stream",
          "name": "stderr",
          "text": [
            "\r  0%|          | 0/2 [00:00<?, ?it/s]<ipython-input-4-6490c8d8cca4>:11: FutureWarning: `torch.cuda.amp.autocast(args...)` is deprecated. Please use `torch.amp.autocast('cuda', args...)` instead.\n",
            "  with torch.cuda.amp.autocast():\n",
            "<ipython-input-4-6490c8d8cca4>:25: FutureWarning: `torch.cuda.amp.autocast(args...)` is deprecated. Please use `torch.amp.autocast('cuda', args...)` instead.\n",
            "  with torch.cuda.amp.autocast():\n",
            "100%|██████████| 2/2 [00:00<00:00,  5.22it/s, D_fake=0.0255, D_real=0.97]\n"
          ]
        },
        {
          "output_type": "stream",
          "name": "stdout",
          "text": [
            "y_true size: (9000,), y_pred size: (9000,)\n",
            "Accuracy: 0.5000, TPR: 1.0000, FPR: 1.0000, TNR: 0.0000, FNR: 0.0000\n",
            "Precision: 0.5000, Recall: 1.0000, F1 Score: 0.6667\n",
            "FID: 546.1873779296875\n",
            "PSNR: 9.1812\n",
            "Epoch 26 - Metrics: Accuracy: 0.5000, TPR: 1.0000, FPR: 1.0000, FID: 546.1874, PSNR: 9.1812\n"
          ]
        },
        {
          "output_type": "stream",
          "name": "stderr",
          "text": [
            "\r  0%|          | 0/2 [00:00<?, ?it/s]<ipython-input-4-6490c8d8cca4>:11: FutureWarning: `torch.cuda.amp.autocast(args...)` is deprecated. Please use `torch.amp.autocast('cuda', args...)` instead.\n",
            "  with torch.cuda.amp.autocast():\n",
            "<ipython-input-4-6490c8d8cca4>:25: FutureWarning: `torch.cuda.amp.autocast(args...)` is deprecated. Please use `torch.amp.autocast('cuda', args...)` instead.\n",
            "  with torch.cuda.amp.autocast():\n",
            "100%|██████████| 2/2 [00:00<00:00,  5.58it/s, D_fake=0.0288, D_real=0.985]\n"
          ]
        },
        {
          "output_type": "stream",
          "name": "stdout",
          "text": [
            "y_true size: (9000,), y_pred size: (9000,)\n",
            "Accuracy: 0.3897, TPR: 0.7793, FPR: 1.0000, TNR: 0.0000, FNR: 0.2207\n",
            "Precision: 0.4380, Recall: 0.7793, F1 Score: 0.5608\n",
            "FID: 559.7738647460938\n",
            "PSNR: 8.9974\n",
            "Epoch 27 - Metrics: Accuracy: 0.3897, TPR: 0.7793, FPR: 1.0000, FID: 559.7739, PSNR: 8.9974\n"
          ]
        },
        {
          "output_type": "stream",
          "name": "stderr",
          "text": [
            "\r  0%|          | 0/2 [00:00<?, ?it/s]<ipython-input-4-6490c8d8cca4>:11: FutureWarning: `torch.cuda.amp.autocast(args...)` is deprecated. Please use `torch.amp.autocast('cuda', args...)` instead.\n",
            "  with torch.cuda.amp.autocast():\n",
            "<ipython-input-4-6490c8d8cca4>:25: FutureWarning: `torch.cuda.amp.autocast(args...)` is deprecated. Please use `torch.amp.autocast('cuda', args...)` instead.\n",
            "  with torch.cuda.amp.autocast():\n",
            "100%|██████████| 2/2 [00:00<00:00,  5.34it/s, D_fake=0.97, D_real=0.675]\n"
          ]
        },
        {
          "output_type": "stream",
          "name": "stdout",
          "text": [
            "y_true size: (9000,), y_pred size: (9000,)\n",
            "Accuracy: 0.0011, TPR: 0.0022, FPR: 1.0000, TNR: 0.0000, FNR: 0.9978\n",
            "Precision: 0.0022, Recall: 0.0022, F1 Score: 0.0022\n",
            "FID: 503.53887939453125\n",
            "PSNR: 9.3394\n",
            "Epoch 28 - Metrics: Accuracy: 0.0011, TPR: 0.0022, FPR: 1.0000, FID: 503.5389, PSNR: 9.3394\n"
          ]
        },
        {
          "output_type": "stream",
          "name": "stderr",
          "text": [
            "\r  0%|          | 0/2 [00:00<?, ?it/s]<ipython-input-4-6490c8d8cca4>:11: FutureWarning: `torch.cuda.amp.autocast(args...)` is deprecated. Please use `torch.amp.autocast('cuda', args...)` instead.\n",
            "  with torch.cuda.amp.autocast():\n",
            "<ipython-input-4-6490c8d8cca4>:25: FutureWarning: `torch.cuda.amp.autocast(args...)` is deprecated. Please use `torch.amp.autocast('cuda', args...)` instead.\n",
            "  with torch.cuda.amp.autocast():\n",
            "100%|██████████| 2/2 [00:00<00:00,  5.27it/s, D_fake=0.00558, D_real=0.0141]\n"
          ]
        },
        {
          "output_type": "stream",
          "name": "stdout",
          "text": [
            "y_true size: (9000,), y_pred size: (9000,)\n",
            "Accuracy: 0.3249, TPR: 0.6498, FPR: 1.0000, TNR: 0.0000, FNR: 0.3502\n",
            "Precision: 0.3939, Recall: 0.6498, F1 Score: 0.4904\n",
            "FID: 440.0146484375\n",
            "PSNR: 9.4743\n",
            "Epoch 29 - Metrics: Accuracy: 0.3249, TPR: 0.6498, FPR: 1.0000, FID: 440.0146, PSNR: 9.4743\n"
          ]
        },
        {
          "output_type": "stream",
          "name": "stderr",
          "text": [
            "\r  0%|          | 0/2 [00:00<?, ?it/s]<ipython-input-4-6490c8d8cca4>:11: FutureWarning: `torch.cuda.amp.autocast(args...)` is deprecated. Please use `torch.amp.autocast('cuda', args...)` instead.\n",
            "  with torch.cuda.amp.autocast():\n",
            "<ipython-input-4-6490c8d8cca4>:25: FutureWarning: `torch.cuda.amp.autocast(args...)` is deprecated. Please use `torch.amp.autocast('cuda', args...)` instead.\n",
            "  with torch.cuda.amp.autocast():\n",
            "100%|██████████| 2/2 [00:00<00:00,  5.12it/s, D_fake=0.224, D_real=0.548]\n"
          ]
        },
        {
          "output_type": "stream",
          "name": "stdout",
          "text": [
            "y_true size: (9000,), y_pred size: (9000,)\n",
            "Accuracy: 0.5000, TPR: 1.0000, FPR: 1.0000, TNR: 0.0000, FNR: 0.0000\n",
            "Precision: 0.5000, Recall: 1.0000, F1 Score: 0.6667\n",
            "FID: 435.8015441894531\n",
            "PSNR: 9.5328\n",
            "Epoch 30 - Metrics: Accuracy: 0.5000, TPR: 1.0000, FPR: 1.0000, FID: 435.8015, PSNR: 9.5328\n"
          ]
        },
        {
          "output_type": "stream",
          "name": "stderr",
          "text": [
            "\r  0%|          | 0/2 [00:00<?, ?it/s]<ipython-input-4-6490c8d8cca4>:11: FutureWarning: `torch.cuda.amp.autocast(args...)` is deprecated. Please use `torch.amp.autocast('cuda', args...)` instead.\n",
            "  with torch.cuda.amp.autocast():\n",
            "<ipython-input-4-6490c8d8cca4>:25: FutureWarning: `torch.cuda.amp.autocast(args...)` is deprecated. Please use `torch.amp.autocast('cuda', args...)` instead.\n",
            "  with torch.cuda.amp.autocast():\n",
            "100%|██████████| 2/2 [00:00<00:00,  5.39it/s, D_fake=0.332, D_real=0.888]\n"
          ]
        },
        {
          "output_type": "stream",
          "name": "stdout",
          "text": [
            "y_true size: (9000,), y_pred size: (9000,)\n",
            "Accuracy: 0.5000, TPR: 1.0000, FPR: 1.0000, TNR: 0.0000, FNR: 0.0000\n",
            "Precision: 0.5000, Recall: 1.0000, F1 Score: 0.6667\n",
            "FID: 463.88116455078125\n",
            "PSNR: 9.5216\n",
            "Epoch 31 - Metrics: Accuracy: 0.5000, TPR: 1.0000, FPR: 1.0000, FID: 463.8812, PSNR: 9.5216\n"
          ]
        },
        {
          "output_type": "stream",
          "name": "stderr",
          "text": [
            "\r  0%|          | 0/2 [00:00<?, ?it/s]<ipython-input-4-6490c8d8cca4>:11: FutureWarning: `torch.cuda.amp.autocast(args...)` is deprecated. Please use `torch.amp.autocast('cuda', args...)` instead.\n",
            "  with torch.cuda.amp.autocast():\n",
            "<ipython-input-4-6490c8d8cca4>:25: FutureWarning: `torch.cuda.amp.autocast(args...)` is deprecated. Please use `torch.amp.autocast('cuda', args...)` instead.\n",
            "  with torch.cuda.amp.autocast():\n",
            "100%|██████████| 2/2 [00:00<00:00,  4.90it/s, D_fake=0.294, D_real=0.943]\n"
          ]
        },
        {
          "output_type": "stream",
          "name": "stdout",
          "text": [
            "y_true size: (9000,), y_pred size: (9000,)\n",
            "Accuracy: 0.5000, TPR: 1.0000, FPR: 1.0000, TNR: 0.0000, FNR: 0.0000\n",
            "Precision: 0.5000, Recall: 1.0000, F1 Score: 0.6667\n",
            "FID: 456.4654846191406\n",
            "PSNR: 9.5875\n",
            "Epoch 32 - Metrics: Accuracy: 0.5000, TPR: 1.0000, FPR: 1.0000, FID: 456.4655, PSNR: 9.5875\n"
          ]
        },
        {
          "output_type": "stream",
          "name": "stderr",
          "text": [
            "\r  0%|          | 0/2 [00:00<?, ?it/s]<ipython-input-4-6490c8d8cca4>:11: FutureWarning: `torch.cuda.amp.autocast(args...)` is deprecated. Please use `torch.amp.autocast('cuda', args...)` instead.\n",
            "  with torch.cuda.amp.autocast():\n",
            "<ipython-input-4-6490c8d8cca4>:25: FutureWarning: `torch.cuda.amp.autocast(args...)` is deprecated. Please use `torch.amp.autocast('cuda', args...)` instead.\n",
            "  with torch.cuda.amp.autocast():\n",
            "100%|██████████| 2/2 [00:00<00:00,  5.40it/s, D_fake=0.19, D_real=0.955]\n"
          ]
        },
        {
          "output_type": "stream",
          "name": "stdout",
          "text": [
            "y_true size: (9000,), y_pred size: (9000,)\n",
            "Accuracy: 0.5000, TPR: 1.0000, FPR: 1.0000, TNR: 0.0000, FNR: 0.0000\n",
            "Precision: 0.5000, Recall: 1.0000, F1 Score: 0.6667\n",
            "FID: 470.97381591796875\n",
            "PSNR: 9.5478\n",
            "Epoch 33 - Metrics: Accuracy: 0.5000, TPR: 1.0000, FPR: 1.0000, FID: 470.9738, PSNR: 9.5478\n"
          ]
        },
        {
          "output_type": "stream",
          "name": "stderr",
          "text": [
            "\r  0%|          | 0/2 [00:00<?, ?it/s]<ipython-input-4-6490c8d8cca4>:11: FutureWarning: `torch.cuda.amp.autocast(args...)` is deprecated. Please use `torch.amp.autocast('cuda', args...)` instead.\n",
            "  with torch.cuda.amp.autocast():\n",
            "<ipython-input-4-6490c8d8cca4>:25: FutureWarning: `torch.cuda.amp.autocast(args...)` is deprecated. Please use `torch.amp.autocast('cuda', args...)` instead.\n",
            "  with torch.cuda.amp.autocast():\n",
            "100%|██████████| 2/2 [00:00<00:00,  5.03it/s, D_fake=0.162, D_real=0.938]\n"
          ]
        },
        {
          "output_type": "stream",
          "name": "stdout",
          "text": [
            "y_true size: (9000,), y_pred size: (9000,)\n",
            "Accuracy: 0.5000, TPR: 1.0000, FPR: 1.0000, TNR: 0.0000, FNR: 0.0000\n",
            "Precision: 0.5000, Recall: 1.0000, F1 Score: 0.6667\n",
            "FID: 454.36358642578125\n",
            "PSNR: 9.6537\n",
            "Epoch 34 - Metrics: Accuracy: 0.5000, TPR: 1.0000, FPR: 1.0000, FID: 454.3636, PSNR: 9.6537\n"
          ]
        },
        {
          "output_type": "stream",
          "name": "stderr",
          "text": [
            "\r  0%|          | 0/2 [00:00<?, ?it/s]<ipython-input-4-6490c8d8cca4>:11: FutureWarning: `torch.cuda.amp.autocast(args...)` is deprecated. Please use `torch.amp.autocast('cuda', args...)` instead.\n",
            "  with torch.cuda.amp.autocast():\n",
            "<ipython-input-4-6490c8d8cca4>:25: FutureWarning: `torch.cuda.amp.autocast(args...)` is deprecated. Please use `torch.amp.autocast('cuda', args...)` instead.\n",
            "  with torch.cuda.amp.autocast():\n",
            "100%|██████████| 2/2 [00:00<00:00,  5.36it/s, D_fake=0.119, D_real=0.948]\n"
          ]
        },
        {
          "output_type": "stream",
          "name": "stdout",
          "text": [
            "y_true size: (9000,), y_pred size: (9000,)\n",
            "Accuracy: 0.5000, TPR: 1.0000, FPR: 1.0000, TNR: 0.0000, FNR: 0.0000\n",
            "Precision: 0.5000, Recall: 1.0000, F1 Score: 0.6667\n",
            "FID: 438.5926208496094\n",
            "PSNR: 9.6738\n",
            "Epoch 35 - Metrics: Accuracy: 0.5000, TPR: 1.0000, FPR: 1.0000, FID: 438.5926, PSNR: 9.6738\n"
          ]
        },
        {
          "output_type": "stream",
          "name": "stderr",
          "text": [
            "\r  0%|          | 0/2 [00:00<?, ?it/s]<ipython-input-4-6490c8d8cca4>:11: FutureWarning: `torch.cuda.amp.autocast(args...)` is deprecated. Please use `torch.amp.autocast('cuda', args...)` instead.\n",
            "  with torch.cuda.amp.autocast():\n",
            "<ipython-input-4-6490c8d8cca4>:25: FutureWarning: `torch.cuda.amp.autocast(args...)` is deprecated. Please use `torch.amp.autocast('cuda', args...)` instead.\n",
            "  with torch.cuda.amp.autocast():\n",
            "100%|██████████| 2/2 [00:00<00:00,  5.11it/s, D_fake=0.117, D_real=0.94]\n"
          ]
        },
        {
          "output_type": "stream",
          "name": "stdout",
          "text": [
            "y_true size: (9000,), y_pred size: (9000,)\n",
            "Accuracy: 0.5017, TPR: 0.9993, FPR: 0.9960, TNR: 0.0040, FNR: 0.0007\n",
            "Precision: 0.5008, Recall: 0.9993, F1 Score: 0.6673\n",
            "FID: 449.6424865722656\n",
            "PSNR: 9.2759\n",
            "Epoch 36 - Metrics: Accuracy: 0.5017, TPR: 0.9993, FPR: 0.9960, FID: 449.6425, PSNR: 9.2759\n"
          ]
        },
        {
          "output_type": "stream",
          "name": "stderr",
          "text": [
            "\r  0%|          | 0/2 [00:00<?, ?it/s]<ipython-input-4-6490c8d8cca4>:11: FutureWarning: `torch.cuda.amp.autocast(args...)` is deprecated. Please use `torch.amp.autocast('cuda', args...)` instead.\n",
            "  with torch.cuda.amp.autocast():\n",
            "<ipython-input-4-6490c8d8cca4>:25: FutureWarning: `torch.cuda.amp.autocast(args...)` is deprecated. Please use `torch.amp.autocast('cuda', args...)` instead.\n",
            "  with torch.cuda.amp.autocast():\n",
            "100%|██████████| 2/2 [00:00<00:00,  5.24it/s, D_fake=0.0892, D_real=0.934]\n"
          ]
        },
        {
          "output_type": "stream",
          "name": "stdout",
          "text": [
            "y_true size: (9000,), y_pred size: (9000,)\n",
            "Accuracy: 0.5580, TPR: 0.9529, FPR: 0.8369, TNR: 0.1631, FNR: 0.0471\n",
            "Precision: 0.5324, Recall: 0.9529, F1 Score: 0.6831\n",
            "FID: 455.67352294921875\n",
            "PSNR: 8.7818\n",
            "Epoch 37 - Metrics: Accuracy: 0.5580, TPR: 0.9529, FPR: 0.8369, FID: 455.6735, PSNR: 8.7818\n"
          ]
        },
        {
          "output_type": "stream",
          "name": "stderr",
          "text": [
            "\r  0%|          | 0/2 [00:00<?, ?it/s]<ipython-input-4-6490c8d8cca4>:11: FutureWarning: `torch.cuda.amp.autocast(args...)` is deprecated. Please use `torch.amp.autocast('cuda', args...)` instead.\n",
            "  with torch.cuda.amp.autocast():\n",
            "<ipython-input-4-6490c8d8cca4>:25: FutureWarning: `torch.cuda.amp.autocast(args...)` is deprecated. Please use `torch.amp.autocast('cuda', args...)` instead.\n",
            "  with torch.cuda.amp.autocast():\n",
            "100%|██████████| 2/2 [00:00<00:00,  5.31it/s, D_fake=0.0149, D_real=0.85]\n"
          ]
        },
        {
          "output_type": "stream",
          "name": "stdout",
          "text": [
            "y_true size: (9000,), y_pred size: (9000,)\n",
            "Accuracy: 0.8949, TPR: 0.7898, FPR: 0.0000, TNR: 1.0000, FNR: 0.2102\n",
            "Precision: 1.0000, Recall: 0.7898, F1 Score: 0.8825\n",
            "FID: 502.2298278808594\n",
            "PSNR: 9.0368\n",
            "Epoch 38 - Metrics: Accuracy: 0.8949, TPR: 0.7898, FPR: 0.0000, FID: 502.2298, PSNR: 9.0368\n"
          ]
        },
        {
          "output_type": "stream",
          "name": "stderr",
          "text": [
            "\r  0%|          | 0/2 [00:00<?, ?it/s]<ipython-input-4-6490c8d8cca4>:11: FutureWarning: `torch.cuda.amp.autocast(args...)` is deprecated. Please use `torch.amp.autocast('cuda', args...)` instead.\n",
            "  with torch.cuda.amp.autocast():\n",
            "<ipython-input-4-6490c8d8cca4>:25: FutureWarning: `torch.cuda.amp.autocast(args...)` is deprecated. Please use `torch.amp.autocast('cuda', args...)` instead.\n",
            "  with torch.cuda.amp.autocast():\n",
            "100%|██████████| 2/2 [00:00<00:00,  5.12it/s, D_fake=0.142, D_real=0.693]\n"
          ]
        },
        {
          "output_type": "stream",
          "name": "stdout",
          "text": [
            "y_true size: (9000,), y_pred size: (9000,)\n",
            "Accuracy: 0.1968, TPR: 0.3936, FPR: 1.0000, TNR: 0.0000, FNR: 0.6064\n",
            "Precision: 0.2824, Recall: 0.3936, F1 Score: 0.3288\n",
            "FID: 491.8533020019531\n",
            "PSNR: 9.1895\n",
            "Epoch 39 - Metrics: Accuracy: 0.1968, TPR: 0.3936, FPR: 1.0000, FID: 491.8533, PSNR: 9.1895\n"
          ]
        },
        {
          "output_type": "stream",
          "name": "stderr",
          "text": [
            "\r  0%|          | 0/2 [00:00<?, ?it/s]<ipython-input-4-6490c8d8cca4>:11: FutureWarning: `torch.cuda.amp.autocast(args...)` is deprecated. Please use `torch.amp.autocast('cuda', args...)` instead.\n",
            "  with torch.cuda.amp.autocast():\n",
            "<ipython-input-4-6490c8d8cca4>:25: FutureWarning: `torch.cuda.amp.autocast(args...)` is deprecated. Please use `torch.amp.autocast('cuda', args...)` instead.\n",
            "  with torch.cuda.amp.autocast():\n",
            "100%|██████████| 2/2 [00:00<00:00,  5.25it/s, D_fake=0.396, D_real=0.36]\n"
          ]
        },
        {
          "output_type": "stream",
          "name": "stdout",
          "text": [
            "y_true size: (9000,), y_pred size: (9000,)\n",
            "Accuracy: 0.3819, TPR: 0.7620, FPR: 0.9982, TNR: 0.0018, FNR: 0.2380\n",
            "Precision: 0.4329, Recall: 0.7620, F1 Score: 0.5521\n",
            "FID: 444.7339782714844\n",
            "PSNR: 9.6884\n",
            "Epoch 40 - Metrics: Accuracy: 0.3819, TPR: 0.7620, FPR: 0.9982, FID: 444.7340, PSNR: 9.6884\n"
          ]
        },
        {
          "output_type": "stream",
          "name": "stderr",
          "text": [
            "\r  0%|          | 0/2 [00:00<?, ?it/s]<ipython-input-4-6490c8d8cca4>:11: FutureWarning: `torch.cuda.amp.autocast(args...)` is deprecated. Please use `torch.amp.autocast('cuda', args...)` instead.\n",
            "  with torch.cuda.amp.autocast():\n",
            "<ipython-input-4-6490c8d8cca4>:25: FutureWarning: `torch.cuda.amp.autocast(args...)` is deprecated. Please use `torch.amp.autocast('cuda', args...)` instead.\n",
            "  with torch.cuda.amp.autocast():\n",
            "100%|██████████| 2/2 [00:00<00:00,  5.02it/s, D_fake=0.391, D_real=0.625]\n"
          ]
        },
        {
          "output_type": "stream",
          "name": "stdout",
          "text": [
            "y_true size: (9000,), y_pred size: (9000,)\n",
            "Accuracy: 0.4400, TPR: 0.8800, FPR: 1.0000, TNR: 0.0000, FNR: 0.1200\n",
            "Precision: 0.4681, Recall: 0.8800, F1 Score: 0.6111\n",
            "FID: 395.1839904785156\n",
            "PSNR: 10.0665\n",
            "Epoch 41 - Metrics: Accuracy: 0.4400, TPR: 0.8800, FPR: 1.0000, FID: 395.1840, PSNR: 10.0665\n"
          ]
        },
        {
          "output_type": "stream",
          "name": "stderr",
          "text": [
            "\r  0%|          | 0/2 [00:00<?, ?it/s]<ipython-input-4-6490c8d8cca4>:11: FutureWarning: `torch.cuda.amp.autocast(args...)` is deprecated. Please use `torch.amp.autocast('cuda', args...)` instead.\n",
            "  with torch.cuda.amp.autocast():\n",
            "<ipython-input-4-6490c8d8cca4>:25: FutureWarning: `torch.cuda.amp.autocast(args...)` is deprecated. Please use `torch.amp.autocast('cuda', args...)` instead.\n",
            "  with torch.cuda.amp.autocast():\n",
            "100%|██████████| 2/2 [00:00<00:00,  5.17it/s, D_fake=0.279, D_real=0.733]\n"
          ]
        },
        {
          "output_type": "stream",
          "name": "stdout",
          "text": [
            "y_true size: (9000,), y_pred size: (9000,)\n",
            "Accuracy: 0.4796, TPR: 0.9591, FPR: 1.0000, TNR: 0.0000, FNR: 0.0409\n",
            "Precision: 0.4896, Recall: 0.9591, F1 Score: 0.6482\n",
            "FID: 372.71392822265625\n",
            "PSNR: 10.1174\n",
            "Epoch 42 - Metrics: Accuracy: 0.4796, TPR: 0.9591, FPR: 1.0000, FID: 372.7139, PSNR: 10.1174\n"
          ]
        },
        {
          "output_type": "stream",
          "name": "stderr",
          "text": [
            "\r  0%|          | 0/2 [00:00<?, ?it/s]<ipython-input-4-6490c8d8cca4>:11: FutureWarning: `torch.cuda.amp.autocast(args...)` is deprecated. Please use `torch.amp.autocast('cuda', args...)` instead.\n",
            "  with torch.cuda.amp.autocast():\n",
            "<ipython-input-4-6490c8d8cca4>:25: FutureWarning: `torch.cuda.amp.autocast(args...)` is deprecated. Please use `torch.amp.autocast('cuda', args...)` instead.\n",
            "  with torch.cuda.amp.autocast():\n",
            "100%|██████████| 2/2 [00:00<00:00,  4.95it/s, D_fake=0.247, D_real=0.826]\n"
          ]
        },
        {
          "output_type": "stream",
          "name": "stdout",
          "text": [
            "y_true size: (9000,), y_pred size: (9000,)\n",
            "Accuracy: 0.3799, TPR: 0.7598, FPR: 1.0000, TNR: 0.0000, FNR: 0.2402\n",
            "Precision: 0.4317, Recall: 0.7598, F1 Score: 0.5506\n",
            "FID: 414.3333435058594\n",
            "PSNR: 9.6751\n",
            "Epoch 43 - Metrics: Accuracy: 0.3799, TPR: 0.7598, FPR: 1.0000, FID: 414.3333, PSNR: 9.6751\n"
          ]
        },
        {
          "output_type": "stream",
          "name": "stderr",
          "text": [
            "\r  0%|          | 0/2 [00:00<?, ?it/s]<ipython-input-4-6490c8d8cca4>:11: FutureWarning: `torch.cuda.amp.autocast(args...)` is deprecated. Please use `torch.amp.autocast('cuda', args...)` instead.\n",
            "  with torch.cuda.amp.autocast():\n",
            "<ipython-input-4-6490c8d8cca4>:25: FutureWarning: `torch.cuda.amp.autocast(args...)` is deprecated. Please use `torch.amp.autocast('cuda', args...)` instead.\n",
            "  with torch.cuda.amp.autocast():\n",
            "100%|██████████| 2/2 [00:00<00:00,  4.81it/s, D_fake=0.196, D_real=0.667]\n"
          ]
        },
        {
          "output_type": "stream",
          "name": "stdout",
          "text": [
            "y_true size: (9000,), y_pred size: (9000,)\n",
            "Accuracy: 0.3556, TPR: 0.7111, FPR: 1.0000, TNR: 0.0000, FNR: 0.2889\n",
            "Precision: 0.4156, Recall: 0.7111, F1 Score: 0.5246\n",
            "FID: 359.7069091796875\n",
            "PSNR: 10.1492\n",
            "Epoch 44 - Metrics: Accuracy: 0.3556, TPR: 0.7111, FPR: 1.0000, FID: 359.7069, PSNR: 10.1492\n"
          ]
        },
        {
          "output_type": "stream",
          "name": "stderr",
          "text": [
            "\r  0%|          | 0/2 [00:00<?, ?it/s]<ipython-input-4-6490c8d8cca4>:11: FutureWarning: `torch.cuda.amp.autocast(args...)` is deprecated. Please use `torch.amp.autocast('cuda', args...)` instead.\n",
            "  with torch.cuda.amp.autocast():\n",
            "<ipython-input-4-6490c8d8cca4>:25: FutureWarning: `torch.cuda.amp.autocast(args...)` is deprecated. Please use `torch.amp.autocast('cuda', args...)` instead.\n",
            "  with torch.cuda.amp.autocast():\n",
            "100%|██████████| 2/2 [00:00<00:00,  5.48it/s, D_fake=0.136, D_real=0.642]\n"
          ]
        },
        {
          "output_type": "stream",
          "name": "stdout",
          "text": [
            "y_true size: (9000,), y_pred size: (9000,)\n",
            "Accuracy: 0.4507, TPR: 0.9013, FPR: 1.0000, TNR: 0.0000, FNR: 0.0987\n",
            "Precision: 0.4741, Recall: 0.9013, F1 Score: 0.6213\n",
            "FID: 373.98675537109375\n",
            "PSNR: 10.1474\n",
            "Epoch 45 - Metrics: Accuracy: 0.4507, TPR: 0.9013, FPR: 1.0000, FID: 373.9868, PSNR: 10.1474\n"
          ]
        },
        {
          "output_type": "stream",
          "name": "stderr",
          "text": [
            "\r  0%|          | 0/2 [00:00<?, ?it/s]<ipython-input-4-6490c8d8cca4>:11: FutureWarning: `torch.cuda.amp.autocast(args...)` is deprecated. Please use `torch.amp.autocast('cuda', args...)` instead.\n",
            "  with torch.cuda.amp.autocast():\n",
            "<ipython-input-4-6490c8d8cca4>:25: FutureWarning: `torch.cuda.amp.autocast(args...)` is deprecated. Please use `torch.amp.autocast('cuda', args...)` instead.\n",
            "  with torch.cuda.amp.autocast():\n",
            "100%|██████████| 2/2 [00:00<00:00,  5.56it/s, D_fake=0.206, D_real=0.784]\n"
          ]
        },
        {
          "output_type": "stream",
          "name": "stdout",
          "text": [
            "y_true size: (9000,), y_pred size: (9000,)\n",
            "Accuracy: 0.7711, TPR: 0.9847, FPR: 0.4424, TNR: 0.5576, FNR: 0.0153\n",
            "Precision: 0.6900, Recall: 0.9847, F1 Score: 0.8114\n",
            "FID: 408.9864807128906\n",
            "PSNR: 9.5311\n",
            "Epoch 46 - Metrics: Accuracy: 0.7711, TPR: 0.9847, FPR: 0.4424, FID: 408.9865, PSNR: 9.5311\n"
          ]
        },
        {
          "output_type": "stream",
          "name": "stderr",
          "text": [
            "\r  0%|          | 0/2 [00:00<?, ?it/s]<ipython-input-4-6490c8d8cca4>:11: FutureWarning: `torch.cuda.amp.autocast(args...)` is deprecated. Please use `torch.amp.autocast('cuda', args...)` instead.\n",
            "  with torch.cuda.amp.autocast():\n",
            "<ipython-input-4-6490c8d8cca4>:25: FutureWarning: `torch.cuda.amp.autocast(args...)` is deprecated. Please use `torch.amp.autocast('cuda', args...)` instead.\n",
            "  with torch.cuda.amp.autocast():\n",
            "100%|██████████| 2/2 [00:00<00:00,  5.37it/s, D_fake=0.185, D_real=0.876]\n"
          ]
        },
        {
          "output_type": "stream",
          "name": "stdout",
          "text": [
            "y_true size: (9000,), y_pred size: (9000,)\n",
            "Accuracy: 0.3993, TPR: 0.7987, FPR: 1.0000, TNR: 0.0000, FNR: 0.2013\n",
            "Precision: 0.4440, Recall: 0.7987, F1 Score: 0.5707\n",
            "FID: 393.57501220703125\n",
            "PSNR: 10.0602\n",
            "Epoch 47 - Metrics: Accuracy: 0.3993, TPR: 0.7987, FPR: 1.0000, FID: 393.5750, PSNR: 10.0602\n"
          ]
        },
        {
          "output_type": "stream",
          "name": "stderr",
          "text": [
            "\r  0%|          | 0/2 [00:00<?, ?it/s]<ipython-input-4-6490c8d8cca4>:11: FutureWarning: `torch.cuda.amp.autocast(args...)` is deprecated. Please use `torch.amp.autocast('cuda', args...)` instead.\n",
            "  with torch.cuda.amp.autocast():\n",
            "<ipython-input-4-6490c8d8cca4>:25: FutureWarning: `torch.cuda.amp.autocast(args...)` is deprecated. Please use `torch.amp.autocast('cuda', args...)` instead.\n",
            "  with torch.cuda.amp.autocast():\n",
            "100%|██████████| 2/2 [00:00<00:00,  5.26it/s, D_fake=0.169, D_real=0.753]\n"
          ]
        },
        {
          "output_type": "stream",
          "name": "stdout",
          "text": [
            "y_true size: (9000,), y_pred size: (9000,)\n",
            "Accuracy: 0.4298, TPR: 0.8596, FPR: 1.0000, TNR: 0.0000, FNR: 0.1404\n",
            "Precision: 0.4622, Recall: 0.8596, F1 Score: 0.6012\n",
            "FID: 362.597412109375\n",
            "PSNR: 10.2332\n",
            "Epoch 48 - Metrics: Accuracy: 0.4298, TPR: 0.8596, FPR: 1.0000, FID: 362.5974, PSNR: 10.2332\n"
          ]
        },
        {
          "output_type": "stream",
          "name": "stderr",
          "text": [
            "\r  0%|          | 0/2 [00:00<?, ?it/s]<ipython-input-4-6490c8d8cca4>:11: FutureWarning: `torch.cuda.amp.autocast(args...)` is deprecated. Please use `torch.amp.autocast('cuda', args...)` instead.\n",
            "  with torch.cuda.amp.autocast():\n",
            "<ipython-input-4-6490c8d8cca4>:25: FutureWarning: `torch.cuda.amp.autocast(args...)` is deprecated. Please use `torch.amp.autocast('cuda', args...)` instead.\n",
            "  with torch.cuda.amp.autocast():\n",
            "100%|██████████| 2/2 [00:00<00:00,  5.21it/s, D_fake=0.145, D_real=0.805]\n"
          ]
        },
        {
          "output_type": "stream",
          "name": "stdout",
          "text": [
            "y_true size: (9000,), y_pred size: (9000,)\n",
            "Accuracy: 0.5722, TPR: 0.9778, FPR: 0.8333, TNR: 0.1667, FNR: 0.0222\n",
            "Precision: 0.5399, Recall: 0.9778, F1 Score: 0.6957\n",
            "FID: 382.7005310058594\n",
            "PSNR: 9.6191\n",
            "Epoch 49 - Metrics: Accuracy: 0.5722, TPR: 0.9778, FPR: 0.8333, FID: 382.7005, PSNR: 9.6191\n",
            "Saving model at epoch 49\n"
          ]
        },
        {
          "output_type": "stream",
          "name": "stderr",
          "text": [
            "\r  0%|          | 0/2 [00:00<?, ?it/s]<ipython-input-4-6490c8d8cca4>:11: FutureWarning: `torch.cuda.amp.autocast(args...)` is deprecated. Please use `torch.amp.autocast('cuda', args...)` instead.\n",
            "  with torch.cuda.amp.autocast():\n",
            "<ipython-input-4-6490c8d8cca4>:25: FutureWarning: `torch.cuda.amp.autocast(args...)` is deprecated. Please use `torch.amp.autocast('cuda', args...)` instead.\n",
            "  with torch.cuda.amp.autocast():\n",
            "100%|██████████| 2/2 [00:00<00:00,  4.31it/s, D_fake=0.617, D_real=0.897]\n"
          ]
        },
        {
          "output_type": "stream",
          "name": "stdout",
          "text": [
            "y_true size: (9000,), y_pred size: (9000,)\n",
            "Accuracy: 0.1837, TPR: 0.3673, FPR: 1.0000, TNR: 0.0000, FNR: 0.6327\n",
            "Precision: 0.2686, Recall: 0.3673, F1 Score: 0.3103\n",
            "FID: 399.3639221191406\n",
            "PSNR: 8.5752\n",
            "Epoch 50 - Metrics: Accuracy: 0.1837, TPR: 0.3673, FPR: 1.0000, FID: 399.3639, PSNR: 8.5752\n"
          ]
        },
        {
          "output_type": "stream",
          "name": "stderr",
          "text": [
            "\r  0%|          | 0/2 [00:00<?, ?it/s]<ipython-input-4-6490c8d8cca4>:11: FutureWarning: `torch.cuda.amp.autocast(args...)` is deprecated. Please use `torch.amp.autocast('cuda', args...)` instead.\n",
            "  with torch.cuda.amp.autocast():\n",
            "<ipython-input-4-6490c8d8cca4>:25: FutureWarning: `torch.cuda.amp.autocast(args...)` is deprecated. Please use `torch.amp.autocast('cuda', args...)` instead.\n",
            "  with torch.cuda.amp.autocast():\n",
            "100%|██████████| 2/2 [00:00<00:00,  5.16it/s, D_fake=0.0891, D_real=0.443]\n"
          ]
        },
        {
          "output_type": "stream",
          "name": "stdout",
          "text": [
            "y_true size: (9000,), y_pred size: (9000,)\n",
            "Accuracy: 0.7280, TPR: 0.4560, FPR: 0.0000, TNR: 1.0000, FNR: 0.5440\n",
            "Precision: 1.0000, Recall: 0.4560, F1 Score: 0.6264\n",
            "FID: 518.9633178710938\n",
            "PSNR: -24.4674\n",
            "Epoch 51 - Metrics: Accuracy: 0.7280, TPR: 0.4560, FPR: 0.0000, FID: 518.9633, PSNR: -24.4674\n"
          ]
        },
        {
          "output_type": "stream",
          "name": "stderr",
          "text": [
            "\r  0%|          | 0/2 [00:00<?, ?it/s]<ipython-input-4-6490c8d8cca4>:11: FutureWarning: `torch.cuda.amp.autocast(args...)` is deprecated. Please use `torch.amp.autocast('cuda', args...)` instead.\n",
            "  with torch.cuda.amp.autocast():\n",
            "<ipython-input-4-6490c8d8cca4>:25: FutureWarning: `torch.cuda.amp.autocast(args...)` is deprecated. Please use `torch.amp.autocast('cuda', args...)` instead.\n",
            "  with torch.cuda.amp.autocast():\n",
            "100%|██████████| 2/2 [00:00<00:00,  5.31it/s, D_fake=1, D_real=0.474]\n"
          ]
        },
        {
          "output_type": "stream",
          "name": "stdout",
          "text": [
            "y_true size: (9000,), y_pred size: (9000,)\n",
            "Accuracy: 0.7280, TPR: 0.4560, FPR: 0.0000, TNR: 1.0000, FNR: 0.5440\n",
            "Precision: 1.0000, Recall: 0.4560, F1 Score: 0.6264\n",
            "FID: 518.9688720703125\n",
            "PSNR: -24.4674\n",
            "Epoch 52 - Metrics: Accuracy: 0.7280, TPR: 0.4560, FPR: 0.0000, FID: 518.9689, PSNR: -24.4674\n"
          ]
        },
        {
          "output_type": "stream",
          "name": "stderr",
          "text": [
            "\r  0%|          | 0/2 [00:00<?, ?it/s]<ipython-input-4-6490c8d8cca4>:11: FutureWarning: `torch.cuda.amp.autocast(args...)` is deprecated. Please use `torch.amp.autocast('cuda', args...)` instead.\n",
            "  with torch.cuda.amp.autocast():\n",
            "<ipython-input-4-6490c8d8cca4>:25: FutureWarning: `torch.cuda.amp.autocast(args...)` is deprecated. Please use `torch.amp.autocast('cuda', args...)` instead.\n",
            "  with torch.cuda.amp.autocast():\n",
            "100%|██████████| 2/2 [00:00<00:00,  5.51it/s, D_fake=1.79e-7, D_real=0.461]\n"
          ]
        },
        {
          "output_type": "stream",
          "name": "stdout",
          "text": [
            "y_true size: (9000,), y_pred size: (9000,)\n",
            "Accuracy: 0.8366, TPR: 0.8140, FPR: 0.1409, TNR: 0.8591, FNR: 0.1860\n",
            "Precision: 0.8525, Recall: 0.8140, F1 Score: 0.8328\n",
            "FID: 518.9697265625\n",
            "PSNR: -24.4674\n",
            "Epoch 53 - Metrics: Accuracy: 0.8366, TPR: 0.8140, FPR: 0.1409, FID: 518.9697, PSNR: -24.4674\n"
          ]
        },
        {
          "output_type": "stream",
          "name": "stderr",
          "text": [
            "\r  0%|          | 0/2 [00:00<?, ?it/s]<ipython-input-4-6490c8d8cca4>:11: FutureWarning: `torch.cuda.amp.autocast(args...)` is deprecated. Please use `torch.amp.autocast('cuda', args...)` instead.\n",
            "  with torch.cuda.amp.autocast():\n",
            "<ipython-input-4-6490c8d8cca4>:25: FutureWarning: `torch.cuda.amp.autocast(args...)` is deprecated. Please use `torch.amp.autocast('cuda', args...)` instead.\n",
            "  with torch.cuda.amp.autocast():\n",
            "100%|██████████| 2/2 [00:00<00:00,  5.31it/s, D_fake=0, D_real=0.53]\n"
          ]
        },
        {
          "output_type": "stream",
          "name": "stdout",
          "text": [
            "y_true size: (9000,), y_pred size: (9000,)\n",
            "Accuracy: 0.5918, TPR: 0.1836, FPR: 0.0000, TNR: 1.0000, FNR: 0.8164\n",
            "Precision: 1.0000, Recall: 0.1836, F1 Score: 0.3102\n",
            "FID: 495.34735107421875\n",
            "PSNR: 6.7847\n",
            "Epoch 54 - Metrics: Accuracy: 0.5918, TPR: 0.1836, FPR: 0.0000, FID: 495.3474, PSNR: 6.7847\n"
          ]
        },
        {
          "output_type": "stream",
          "name": "stderr",
          "text": [
            "\r  0%|          | 0/2 [00:00<?, ?it/s]<ipython-input-4-6490c8d8cca4>:11: FutureWarning: `torch.cuda.amp.autocast(args...)` is deprecated. Please use `torch.amp.autocast('cuda', args...)` instead.\n",
            "  with torch.cuda.amp.autocast():\n",
            "<ipython-input-4-6490c8d8cca4>:25: FutureWarning: `torch.cuda.amp.autocast(args...)` is deprecated. Please use `torch.amp.autocast('cuda', args...)` instead.\n",
            "  with torch.cuda.amp.autocast():\n",
            "100%|██████████| 2/2 [00:00<00:00,  5.35it/s, D_fake=0.511, D_real=0.236]\n"
          ]
        },
        {
          "output_type": "stream",
          "name": "stdout",
          "text": [
            "y_true size: (9000,), y_pred size: (9000,)\n",
            "Accuracy: 0.0327, TPR: 0.0653, FPR: 1.0000, TNR: 0.0000, FNR: 0.9347\n",
            "Precision: 0.0613, Recall: 0.0653, F1 Score: 0.0633\n",
            "FID: 517.1231079101562\n",
            "PSNR: 6.7238\n",
            "Epoch 55 - Metrics: Accuracy: 0.0327, TPR: 0.0653, FPR: 1.0000, FID: 517.1231, PSNR: 6.7238\n"
          ]
        },
        {
          "output_type": "stream",
          "name": "stderr",
          "text": [
            "\r  0%|          | 0/2 [00:00<?, ?it/s]<ipython-input-4-6490c8d8cca4>:11: FutureWarning: `torch.cuda.amp.autocast(args...)` is deprecated. Please use `torch.amp.autocast('cuda', args...)` instead.\n",
            "  with torch.cuda.amp.autocast():\n",
            "<ipython-input-4-6490c8d8cca4>:25: FutureWarning: `torch.cuda.amp.autocast(args...)` is deprecated. Please use `torch.amp.autocast('cuda', args...)` instead.\n",
            "  with torch.cuda.amp.autocast():\n",
            "100%|██████████| 2/2 [00:00<00:00,  5.02it/s, D_fake=0.271, D_real=0.395]\n"
          ]
        },
        {
          "output_type": "stream",
          "name": "stdout",
          "text": [
            "y_true size: (9000,), y_pred size: (9000,)\n",
            "Accuracy: 0.2147, TPR: 0.4293, FPR: 1.0000, TNR: 0.0000, FNR: 0.5707\n",
            "Precision: 0.3004, Recall: 0.4293, F1 Score: 0.3535\n",
            "FID: 484.215087890625\n",
            "PSNR: 7.0148\n",
            "Epoch 56 - Metrics: Accuracy: 0.2147, TPR: 0.4293, FPR: 1.0000, FID: 484.2151, PSNR: 7.0148\n"
          ]
        },
        {
          "output_type": "stream",
          "name": "stderr",
          "text": [
            "\r  0%|          | 0/2 [00:00<?, ?it/s]<ipython-input-4-6490c8d8cca4>:11: FutureWarning: `torch.cuda.amp.autocast(args...)` is deprecated. Please use `torch.amp.autocast('cuda', args...)` instead.\n",
            "  with torch.cuda.amp.autocast():\n",
            "<ipython-input-4-6490c8d8cca4>:25: FutureWarning: `torch.cuda.amp.autocast(args...)` is deprecated. Please use `torch.amp.autocast('cuda', args...)` instead.\n",
            "  with torch.cuda.amp.autocast():\n",
            "100%|██████████| 2/2 [00:00<00:00,  4.73it/s, D_fake=0.217, D_real=0.468]\n"
          ]
        },
        {
          "output_type": "stream",
          "name": "stdout",
          "text": [
            "y_true size: (9000,), y_pred size: (9000,)\n",
            "Accuracy: 0.3928, TPR: 0.7856, FPR: 1.0000, TNR: 0.0000, FNR: 0.2144\n",
            "Precision: 0.4400, Recall: 0.7856, F1 Score: 0.5640\n",
            "FID: 467.1823425292969\n",
            "PSNR: 7.5219\n",
            "Epoch 57 - Metrics: Accuracy: 0.3928, TPR: 0.7856, FPR: 1.0000, FID: 467.1823, PSNR: 7.5219\n"
          ]
        },
        {
          "output_type": "stream",
          "name": "stderr",
          "text": [
            "\r  0%|          | 0/2 [00:00<?, ?it/s]<ipython-input-4-6490c8d8cca4>:11: FutureWarning: `torch.cuda.amp.autocast(args...)` is deprecated. Please use `torch.amp.autocast('cuda', args...)` instead.\n",
            "  with torch.cuda.amp.autocast():\n",
            "<ipython-input-4-6490c8d8cca4>:25: FutureWarning: `torch.cuda.amp.autocast(args...)` is deprecated. Please use `torch.amp.autocast('cuda', args...)` instead.\n",
            "  with torch.cuda.amp.autocast():\n",
            "100%|██████████| 2/2 [00:00<00:00,  5.46it/s, D_fake=0.209, D_real=0.617]\n"
          ]
        },
        {
          "output_type": "stream",
          "name": "stdout",
          "text": [
            "y_true size: (9000,), y_pred size: (9000,)\n",
            "Accuracy: 0.4192, TPR: 0.8384, FPR: 1.0000, TNR: 0.0000, FNR: 0.1616\n",
            "Precision: 0.4561, Recall: 0.8384, F1 Score: 0.5908\n",
            "FID: 505.7348937988281\n",
            "PSNR: 8.0732\n",
            "Epoch 58 - Metrics: Accuracy: 0.4192, TPR: 0.8384, FPR: 1.0000, FID: 505.7349, PSNR: 8.0732\n"
          ]
        },
        {
          "output_type": "stream",
          "name": "stderr",
          "text": [
            "\r  0%|          | 0/2 [00:00<?, ?it/s]<ipython-input-4-6490c8d8cca4>:11: FutureWarning: `torch.cuda.amp.autocast(args...)` is deprecated. Please use `torch.amp.autocast('cuda', args...)` instead.\n",
            "  with torch.cuda.amp.autocast():\n",
            "<ipython-input-4-6490c8d8cca4>:25: FutureWarning: `torch.cuda.amp.autocast(args...)` is deprecated. Please use `torch.amp.autocast('cuda', args...)` instead.\n",
            "  with torch.cuda.amp.autocast():\n",
            "100%|██████████| 2/2 [00:00<00:00,  4.91it/s, D_fake=0.138, D_real=0.707]\n"
          ]
        },
        {
          "output_type": "stream",
          "name": "stdout",
          "text": [
            "y_true size: (9000,), y_pred size: (9000,)\n",
            "Accuracy: 0.4141, TPR: 0.8282, FPR: 1.0000, TNR: 0.0000, FNR: 0.1718\n",
            "Precision: 0.4530, Recall: 0.8282, F1 Score: 0.5857\n",
            "FID: 517.6780395507812\n",
            "PSNR: 8.3665\n",
            "Epoch 59 - Metrics: Accuracy: 0.4141, TPR: 0.8282, FPR: 1.0000, FID: 517.6780, PSNR: 8.3665\n"
          ]
        },
        {
          "output_type": "stream",
          "name": "stderr",
          "text": [
            "\r  0%|          | 0/2 [00:00<?, ?it/s]<ipython-input-4-6490c8d8cca4>:11: FutureWarning: `torch.cuda.amp.autocast(args...)` is deprecated. Please use `torch.amp.autocast('cuda', args...)` instead.\n",
            "  with torch.cuda.amp.autocast():\n",
            "<ipython-input-4-6490c8d8cca4>:25: FutureWarning: `torch.cuda.amp.autocast(args...)` is deprecated. Please use `torch.amp.autocast('cuda', args...)` instead.\n",
            "  with torch.cuda.amp.autocast():\n",
            "100%|██████████| 2/2 [00:00<00:00,  5.57it/s, D_fake=0.176, D_real=0.732]\n"
          ]
        },
        {
          "output_type": "stream",
          "name": "stdout",
          "text": [
            "y_true size: (9000,), y_pred size: (9000,)\n",
            "Accuracy: 0.4139, TPR: 0.8278, FPR: 1.0000, TNR: 0.0000, FNR: 0.1722\n",
            "Precision: 0.4529, Recall: 0.8278, F1 Score: 0.5855\n",
            "FID: 502.359130859375\n",
            "PSNR: 8.1263\n",
            "Epoch 60 - Metrics: Accuracy: 0.4139, TPR: 0.8278, FPR: 1.0000, FID: 502.3591, PSNR: 8.1263\n"
          ]
        },
        {
          "output_type": "stream",
          "name": "stderr",
          "text": [
            "\r  0%|          | 0/2 [00:00<?, ?it/s]<ipython-input-4-6490c8d8cca4>:11: FutureWarning: `torch.cuda.amp.autocast(args...)` is deprecated. Please use `torch.amp.autocast('cuda', args...)` instead.\n",
            "  with torch.cuda.amp.autocast():\n",
            "<ipython-input-4-6490c8d8cca4>:25: FutureWarning: `torch.cuda.amp.autocast(args...)` is deprecated. Please use `torch.amp.autocast('cuda', args...)` instead.\n",
            "  with torch.cuda.amp.autocast():\n",
            "100%|██████████| 2/2 [00:00<00:00,  5.06it/s, D_fake=0.115, D_real=0.726]\n"
          ]
        },
        {
          "output_type": "stream",
          "name": "stdout",
          "text": [
            "y_true size: (9000,), y_pred size: (9000,)\n",
            "Accuracy: 0.5000, TPR: 1.0000, FPR: 1.0000, TNR: 0.0000, FNR: 0.0000\n",
            "Precision: 0.5000, Recall: 1.0000, F1 Score: 0.6667\n",
            "FID: 515.8319702148438\n",
            "PSNR: 8.2524\n",
            "Epoch 61 - Metrics: Accuracy: 0.5000, TPR: 1.0000, FPR: 1.0000, FID: 515.8320, PSNR: 8.2524\n"
          ]
        },
        {
          "output_type": "stream",
          "name": "stderr",
          "text": [
            "\r  0%|          | 0/2 [00:00<?, ?it/s]<ipython-input-4-6490c8d8cca4>:11: FutureWarning: `torch.cuda.amp.autocast(args...)` is deprecated. Please use `torch.amp.autocast('cuda', args...)` instead.\n",
            "  with torch.cuda.amp.autocast():\n",
            "<ipython-input-4-6490c8d8cca4>:25: FutureWarning: `torch.cuda.amp.autocast(args...)` is deprecated. Please use `torch.amp.autocast('cuda', args...)` instead.\n",
            "  with torch.cuda.amp.autocast():\n",
            "100%|██████████| 2/2 [00:00<00:00,  5.11it/s, D_fake=0.0498, D_real=0.872]\n"
          ]
        },
        {
          "output_type": "stream",
          "name": "stdout",
          "text": [
            "y_true size: (9000,), y_pred size: (9000,)\n",
            "Accuracy: 0.5000, TPR: 1.0000, FPR: 1.0000, TNR: 0.0000, FNR: 0.0000\n",
            "Precision: 0.5000, Recall: 1.0000, F1 Score: 0.6667\n",
            "FID: 529.7323608398438\n",
            "PSNR: 8.4500\n",
            "Epoch 62 - Metrics: Accuracy: 0.5000, TPR: 1.0000, FPR: 1.0000, FID: 529.7324, PSNR: 8.4500\n"
          ]
        },
        {
          "output_type": "stream",
          "name": "stderr",
          "text": [
            "\r  0%|          | 0/2 [00:00<?, ?it/s]<ipython-input-4-6490c8d8cca4>:11: FutureWarning: `torch.cuda.amp.autocast(args...)` is deprecated. Please use `torch.amp.autocast('cuda', args...)` instead.\n",
            "  with torch.cuda.amp.autocast():\n",
            "<ipython-input-4-6490c8d8cca4>:25: FutureWarning: `torch.cuda.amp.autocast(args...)` is deprecated. Please use `torch.amp.autocast('cuda', args...)` instead.\n",
            "  with torch.cuda.amp.autocast():\n",
            "100%|██████████| 2/2 [00:00<00:00,  5.00it/s, D_fake=0.00297, D_real=0.967]\n"
          ]
        },
        {
          "output_type": "stream",
          "name": "stdout",
          "text": [
            "y_true size: (9000,), y_pred size: (9000,)\n",
            "Accuracy: 0.5000, TPR: 1.0000, FPR: 1.0000, TNR: 0.0000, FNR: 0.0000\n",
            "Precision: 0.5000, Recall: 1.0000, F1 Score: 0.6667\n",
            "FID: 524.693603515625\n",
            "PSNR: 8.3346\n",
            "Epoch 63 - Metrics: Accuracy: 0.5000, TPR: 1.0000, FPR: 1.0000, FID: 524.6936, PSNR: 8.3346\n"
          ]
        },
        {
          "output_type": "stream",
          "name": "stderr",
          "text": [
            "\r  0%|          | 0/2 [00:00<?, ?it/s]<ipython-input-4-6490c8d8cca4>:11: FutureWarning: `torch.cuda.amp.autocast(args...)` is deprecated. Please use `torch.amp.autocast('cuda', args...)` instead.\n",
            "  with torch.cuda.amp.autocast():\n",
            "<ipython-input-4-6490c8d8cca4>:25: FutureWarning: `torch.cuda.amp.autocast(args...)` is deprecated. Please use `torch.amp.autocast('cuda', args...)` instead.\n",
            "  with torch.cuda.amp.autocast():\n",
            "100%|██████████| 2/2 [00:00<00:00,  4.63it/s, D_fake=0.0155, D_real=0.981]\n"
          ]
        },
        {
          "output_type": "stream",
          "name": "stdout",
          "text": [
            "y_true size: (9000,), y_pred size: (9000,)\n",
            "Accuracy: 0.5000, TPR: 1.0000, FPR: 1.0000, TNR: 0.0000, FNR: 0.0000\n",
            "Precision: 0.5000, Recall: 1.0000, F1 Score: 0.6667\n",
            "FID: 507.8830871582031\n",
            "PSNR: 8.2160\n",
            "Epoch 64 - Metrics: Accuracy: 0.5000, TPR: 1.0000, FPR: 1.0000, FID: 507.8831, PSNR: 8.2160\n"
          ]
        },
        {
          "output_type": "stream",
          "name": "stderr",
          "text": [
            "\r  0%|          | 0/2 [00:00<?, ?it/s]<ipython-input-4-6490c8d8cca4>:11: FutureWarning: `torch.cuda.amp.autocast(args...)` is deprecated. Please use `torch.amp.autocast('cuda', args...)` instead.\n",
            "  with torch.cuda.amp.autocast():\n",
            "<ipython-input-4-6490c8d8cca4>:25: FutureWarning: `torch.cuda.amp.autocast(args...)` is deprecated. Please use `torch.amp.autocast('cuda', args...)` instead.\n",
            "  with torch.cuda.amp.autocast():\n",
            "100%|██████████| 2/2 [00:00<00:00,  5.30it/s, D_fake=0.041, D_real=0.896]\n"
          ]
        },
        {
          "output_type": "stream",
          "name": "stdout",
          "text": [
            "y_true size: (9000,), y_pred size: (9000,)\n",
            "Accuracy: 0.5000, TPR: 1.0000, FPR: 1.0000, TNR: 0.0000, FNR: 0.0000\n",
            "Precision: 0.5000, Recall: 1.0000, F1 Score: 0.6667\n",
            "FID: 498.8669128417969\n",
            "PSNR: 8.3914\n",
            "Epoch 65 - Metrics: Accuracy: 0.5000, TPR: 1.0000, FPR: 1.0000, FID: 498.8669, PSNR: 8.3914\n"
          ]
        },
        {
          "output_type": "stream",
          "name": "stderr",
          "text": [
            "\r  0%|          | 0/2 [00:00<?, ?it/s]<ipython-input-4-6490c8d8cca4>:11: FutureWarning: `torch.cuda.amp.autocast(args...)` is deprecated. Please use `torch.amp.autocast('cuda', args...)` instead.\n",
            "  with torch.cuda.amp.autocast():\n",
            "<ipython-input-4-6490c8d8cca4>:25: FutureWarning: `torch.cuda.amp.autocast(args...)` is deprecated. Please use `torch.amp.autocast('cuda', args...)` instead.\n",
            "  with torch.cuda.amp.autocast():\n",
            "100%|██████████| 2/2 [00:00<00:00,  5.23it/s, D_fake=0.0393, D_real=0.972]\n"
          ]
        },
        {
          "output_type": "stream",
          "name": "stdout",
          "text": [
            "y_true size: (9000,), y_pred size: (9000,)\n",
            "Accuracy: 0.5000, TPR: 1.0000, FPR: 1.0000, TNR: 0.0000, FNR: 0.0000\n",
            "Precision: 0.5000, Recall: 1.0000, F1 Score: 0.6667\n",
            "FID: 519.8527221679688\n",
            "PSNR: 8.0644\n",
            "Epoch 66 - Metrics: Accuracy: 0.5000, TPR: 1.0000, FPR: 1.0000, FID: 519.8527, PSNR: 8.0644\n"
          ]
        },
        {
          "output_type": "stream",
          "name": "stderr",
          "text": [
            "\r  0%|          | 0/2 [00:00<?, ?it/s]<ipython-input-4-6490c8d8cca4>:11: FutureWarning: `torch.cuda.amp.autocast(args...)` is deprecated. Please use `torch.amp.autocast('cuda', args...)` instead.\n",
            "  with torch.cuda.amp.autocast():\n",
            "<ipython-input-4-6490c8d8cca4>:25: FutureWarning: `torch.cuda.amp.autocast(args...)` is deprecated. Please use `torch.amp.autocast('cuda', args...)` instead.\n",
            "  with torch.cuda.amp.autocast():\n",
            "100%|██████████| 2/2 [00:00<00:00,  5.02it/s, D_fake=0.0327, D_real=0.915]\n"
          ]
        },
        {
          "output_type": "stream",
          "name": "stdout",
          "text": [
            "y_true size: (9000,), y_pred size: (9000,)\n",
            "Accuracy: 0.5000, TPR: 1.0000, FPR: 1.0000, TNR: 0.0000, FNR: 0.0000\n",
            "Precision: 0.5000, Recall: 1.0000, F1 Score: 0.6667\n",
            "FID: 484.3041687011719\n",
            "PSNR: 8.5000\n",
            "Epoch 67 - Metrics: Accuracy: 0.5000, TPR: 1.0000, FPR: 1.0000, FID: 484.3042, PSNR: 8.5000\n"
          ]
        },
        {
          "output_type": "stream",
          "name": "stderr",
          "text": [
            "\r  0%|          | 0/2 [00:00<?, ?it/s]<ipython-input-4-6490c8d8cca4>:11: FutureWarning: `torch.cuda.amp.autocast(args...)` is deprecated. Please use `torch.amp.autocast('cuda', args...)` instead.\n",
            "  with torch.cuda.amp.autocast():\n",
            "<ipython-input-4-6490c8d8cca4>:25: FutureWarning: `torch.cuda.amp.autocast(args...)` is deprecated. Please use `torch.amp.autocast('cuda', args...)` instead.\n",
            "  with torch.cuda.amp.autocast():\n",
            "100%|██████████| 2/2 [00:00<00:00,  5.08it/s, D_fake=0.04, D_real=0.976]\n"
          ]
        },
        {
          "output_type": "stream",
          "name": "stdout",
          "text": [
            "y_true size: (9000,), y_pred size: (9000,)\n",
            "Accuracy: 0.5000, TPR: 1.0000, FPR: 1.0000, TNR: 0.0000, FNR: 0.0000\n",
            "Precision: 0.5000, Recall: 1.0000, F1 Score: 0.6667\n",
            "FID: 528.2628173828125\n",
            "PSNR: 8.0220\n",
            "Epoch 68 - Metrics: Accuracy: 0.5000, TPR: 1.0000, FPR: 1.0000, FID: 528.2628, PSNR: 8.0220\n"
          ]
        },
        {
          "output_type": "stream",
          "name": "stderr",
          "text": [
            "\r  0%|          | 0/2 [00:00<?, ?it/s]<ipython-input-4-6490c8d8cca4>:11: FutureWarning: `torch.cuda.amp.autocast(args...)` is deprecated. Please use `torch.amp.autocast('cuda', args...)` instead.\n",
            "  with torch.cuda.amp.autocast():\n",
            "<ipython-input-4-6490c8d8cca4>:25: FutureWarning: `torch.cuda.amp.autocast(args...)` is deprecated. Please use `torch.amp.autocast('cuda', args...)` instead.\n",
            "  with torch.cuda.amp.autocast():\n",
            "100%|██████████| 2/2 [00:00<00:00,  5.00it/s, D_fake=0.0143, D_real=0.971]\n"
          ]
        },
        {
          "output_type": "stream",
          "name": "stdout",
          "text": [
            "y_true size: (9000,), y_pred size: (9000,)\n",
            "Accuracy: 0.7927, TPR: 1.0000, FPR: 0.4147, TNR: 0.5853, FNR: 0.0000\n",
            "Precision: 0.7069, Recall: 1.0000, F1 Score: 0.8283\n",
            "FID: 464.2275695800781\n",
            "PSNR: 7.4166\n",
            "Epoch 69 - Metrics: Accuracy: 0.7927, TPR: 1.0000, FPR: 0.4147, FID: 464.2276, PSNR: 7.4166\n"
          ]
        },
        {
          "output_type": "stream",
          "name": "stderr",
          "text": [
            "\r  0%|          | 0/2 [00:00<?, ?it/s]<ipython-input-4-6490c8d8cca4>:11: FutureWarning: `torch.cuda.amp.autocast(args...)` is deprecated. Please use `torch.amp.autocast('cuda', args...)` instead.\n",
            "  with torch.cuda.amp.autocast():\n",
            "<ipython-input-4-6490c8d8cca4>:25: FutureWarning: `torch.cuda.amp.autocast(args...)` is deprecated. Please use `torch.amp.autocast('cuda', args...)` instead.\n",
            "  with torch.cuda.amp.autocast():\n",
            "100%|██████████| 2/2 [00:00<00:00,  5.47it/s, D_fake=1.6e-5, D_real=0.963]\n"
          ]
        },
        {
          "output_type": "stream",
          "name": "stdout",
          "text": [
            "y_true size: (9000,), y_pred size: (9000,)\n",
            "Accuracy: 0.4822, TPR: 0.9644, FPR: 1.0000, TNR: 0.0000, FNR: 0.0356\n",
            "Precision: 0.4910, Recall: 0.9644, F1 Score: 0.6507\n",
            "FID: 466.2675476074219\n",
            "PSNR: 8.3821\n",
            "Epoch 70 - Metrics: Accuracy: 0.4822, TPR: 0.9644, FPR: 1.0000, FID: 466.2675, PSNR: 8.3821\n"
          ]
        },
        {
          "output_type": "stream",
          "name": "stderr",
          "text": [
            "\r  0%|          | 0/2 [00:00<?, ?it/s]<ipython-input-4-6490c8d8cca4>:11: FutureWarning: `torch.cuda.amp.autocast(args...)` is deprecated. Please use `torch.amp.autocast('cuda', args...)` instead.\n",
            "  with torch.cuda.amp.autocast():\n",
            "<ipython-input-4-6490c8d8cca4>:25: FutureWarning: `torch.cuda.amp.autocast(args...)` is deprecated. Please use `torch.amp.autocast('cuda', args...)` instead.\n",
            "  with torch.cuda.amp.autocast():\n",
            "100%|██████████| 2/2 [00:00<00:00,  5.09it/s, D_fake=0.549, D_real=0.817]\n"
          ]
        },
        {
          "output_type": "stream",
          "name": "stdout",
          "text": [
            "y_true size: (9000,), y_pred size: (9000,)\n",
            "Accuracy: 0.5000, TPR: 1.0000, FPR: 1.0000, TNR: 0.0000, FNR: 0.0000\n",
            "Precision: 0.5000, Recall: 1.0000, F1 Score: 0.6667\n",
            "FID: 470.9050598144531\n",
            "PSNR: 8.6424\n",
            "Epoch 71 - Metrics: Accuracy: 0.5000, TPR: 1.0000, FPR: 1.0000, FID: 470.9051, PSNR: 8.6424\n"
          ]
        },
        {
          "output_type": "stream",
          "name": "stderr",
          "text": [
            "\r  0%|          | 0/2 [00:00<?, ?it/s]<ipython-input-4-6490c8d8cca4>:11: FutureWarning: `torch.cuda.amp.autocast(args...)` is deprecated. Please use `torch.amp.autocast('cuda', args...)` instead.\n",
            "  with torch.cuda.amp.autocast():\n",
            "<ipython-input-4-6490c8d8cca4>:25: FutureWarning: `torch.cuda.amp.autocast(args...)` is deprecated. Please use `torch.amp.autocast('cuda', args...)` instead.\n",
            "  with torch.cuda.amp.autocast():\n",
            "100%|██████████| 2/2 [00:00<00:00,  5.16it/s, D_fake=0.0366, D_real=0.972]\n"
          ]
        },
        {
          "output_type": "stream",
          "name": "stdout",
          "text": [
            "y_true size: (9000,), y_pred size: (9000,)\n",
            "Accuracy: 0.5000, TPR: 1.0000, FPR: 1.0000, TNR: 0.0000, FNR: 0.0000\n",
            "Precision: 0.5000, Recall: 1.0000, F1 Score: 0.6667\n",
            "FID: 467.10443115234375\n",
            "PSNR: 8.7155\n",
            "Epoch 72 - Metrics: Accuracy: 0.5000, TPR: 1.0000, FPR: 1.0000, FID: 467.1044, PSNR: 8.7155\n"
          ]
        },
        {
          "output_type": "stream",
          "name": "stderr",
          "text": [
            "\r  0%|          | 0/2 [00:00<?, ?it/s]<ipython-input-4-6490c8d8cca4>:11: FutureWarning: `torch.cuda.amp.autocast(args...)` is deprecated. Please use `torch.amp.autocast('cuda', args...)` instead.\n",
            "  with torch.cuda.amp.autocast():\n",
            "<ipython-input-4-6490c8d8cca4>:25: FutureWarning: `torch.cuda.amp.autocast(args...)` is deprecated. Please use `torch.amp.autocast('cuda', args...)` instead.\n",
            "  with torch.cuda.amp.autocast():\n",
            "100%|██████████| 2/2 [00:00<00:00,  5.16it/s, D_fake=0.0266, D_real=0.918]\n"
          ]
        },
        {
          "output_type": "stream",
          "name": "stdout",
          "text": [
            "y_true size: (9000,), y_pred size: (9000,)\n",
            "Accuracy: 0.5000, TPR: 1.0000, FPR: 1.0000, TNR: 0.0000, FNR: 0.0000\n",
            "Precision: 0.5000, Recall: 1.0000, F1 Score: 0.6667\n",
            "FID: 454.4570617675781\n",
            "PSNR: 8.7613\n",
            "Epoch 73 - Metrics: Accuracy: 0.5000, TPR: 1.0000, FPR: 1.0000, FID: 454.4571, PSNR: 8.7613\n"
          ]
        },
        {
          "output_type": "stream",
          "name": "stderr",
          "text": [
            "\r  0%|          | 0/2 [00:00<?, ?it/s]<ipython-input-4-6490c8d8cca4>:11: FutureWarning: `torch.cuda.amp.autocast(args...)` is deprecated. Please use `torch.amp.autocast('cuda', args...)` instead.\n",
            "  with torch.cuda.amp.autocast():\n",
            "<ipython-input-4-6490c8d8cca4>:25: FutureWarning: `torch.cuda.amp.autocast(args...)` is deprecated. Please use `torch.amp.autocast('cuda', args...)` instead.\n",
            "  with torch.cuda.amp.autocast():\n",
            "100%|██████████| 2/2 [00:00<00:00,  4.61it/s, D_fake=0.0392, D_real=0.947]\n"
          ]
        },
        {
          "output_type": "stream",
          "name": "stdout",
          "text": [
            "y_true size: (9000,), y_pred size: (9000,)\n",
            "Accuracy: 0.5000, TPR: 1.0000, FPR: 1.0000, TNR: 0.0000, FNR: 0.0000\n",
            "Precision: 0.5000, Recall: 1.0000, F1 Score: 0.6667\n",
            "FID: 439.5982971191406\n",
            "PSNR: 8.1839\n",
            "Epoch 74 - Metrics: Accuracy: 0.5000, TPR: 1.0000, FPR: 1.0000, FID: 439.5983, PSNR: 8.1839\n"
          ]
        },
        {
          "output_type": "stream",
          "name": "stderr",
          "text": [
            "\r  0%|          | 0/2 [00:00<?, ?it/s]<ipython-input-4-6490c8d8cca4>:11: FutureWarning: `torch.cuda.amp.autocast(args...)` is deprecated. Please use `torch.amp.autocast('cuda', args...)` instead.\n",
            "  with torch.cuda.amp.autocast():\n",
            "<ipython-input-4-6490c8d8cca4>:25: FutureWarning: `torch.cuda.amp.autocast(args...)` is deprecated. Please use `torch.amp.autocast('cuda', args...)` instead.\n",
            "  with torch.cuda.amp.autocast():\n",
            "100%|██████████| 2/2 [00:00<00:00,  5.22it/s, D_fake=0.0477, D_real=0.966]\n"
          ]
        },
        {
          "output_type": "stream",
          "name": "stdout",
          "text": [
            "y_true size: (9000,), y_pred size: (9000,)\n",
            "Accuracy: 0.5000, TPR: 1.0000, FPR: 1.0000, TNR: 0.0000, FNR: 0.0000\n",
            "Precision: 0.5000, Recall: 1.0000, F1 Score: 0.6667\n",
            "FID: 444.6112976074219\n",
            "PSNR: 8.7588\n",
            "Epoch 75 - Metrics: Accuracy: 0.5000, TPR: 1.0000, FPR: 1.0000, FID: 444.6113, PSNR: 8.7588\n"
          ]
        },
        {
          "output_type": "stream",
          "name": "stderr",
          "text": [
            "\r  0%|          | 0/2 [00:00<?, ?it/s]<ipython-input-4-6490c8d8cca4>:11: FutureWarning: `torch.cuda.amp.autocast(args...)` is deprecated. Please use `torch.amp.autocast('cuda', args...)` instead.\n",
            "  with torch.cuda.amp.autocast():\n",
            "<ipython-input-4-6490c8d8cca4>:25: FutureWarning: `torch.cuda.amp.autocast(args...)` is deprecated. Please use `torch.amp.autocast('cuda', args...)` instead.\n",
            "  with torch.cuda.amp.autocast():\n",
            "100%|██████████| 2/2 [00:00<00:00,  5.57it/s, D_fake=0.0235, D_real=0.968]\n"
          ]
        },
        {
          "output_type": "stream",
          "name": "stdout",
          "text": [
            "y_true size: (9000,), y_pred size: (9000,)\n",
            "Accuracy: 0.5000, TPR: 1.0000, FPR: 1.0000, TNR: 0.0000, FNR: 0.0000\n",
            "Precision: 0.5000, Recall: 1.0000, F1 Score: 0.6667\n",
            "FID: 436.5293273925781\n",
            "PSNR: 8.5583\n",
            "Epoch 76 - Metrics: Accuracy: 0.5000, TPR: 1.0000, FPR: 1.0000, FID: 436.5293, PSNR: 8.5583\n"
          ]
        },
        {
          "output_type": "stream",
          "name": "stderr",
          "text": [
            "\r  0%|          | 0/2 [00:00<?, ?it/s]<ipython-input-4-6490c8d8cca4>:11: FutureWarning: `torch.cuda.amp.autocast(args...)` is deprecated. Please use `torch.amp.autocast('cuda', args...)` instead.\n",
            "  with torch.cuda.amp.autocast():\n",
            "<ipython-input-4-6490c8d8cca4>:25: FutureWarning: `torch.cuda.amp.autocast(args...)` is deprecated. Please use `torch.amp.autocast('cuda', args...)` instead.\n",
            "  with torch.cuda.amp.autocast():\n",
            "100%|██████████| 2/2 [00:00<00:00,  5.07it/s, D_fake=0.0297, D_real=0.98]\n"
          ]
        },
        {
          "output_type": "stream",
          "name": "stdout",
          "text": [
            "y_true size: (9000,), y_pred size: (9000,)\n",
            "Accuracy: 0.5000, TPR: 1.0000, FPR: 1.0000, TNR: 0.0000, FNR: 0.0000\n",
            "Precision: 0.5000, Recall: 1.0000, F1 Score: 0.6667\n",
            "FID: 425.14495849609375\n",
            "PSNR: 8.7401\n",
            "Epoch 77 - Metrics: Accuracy: 0.5000, TPR: 1.0000, FPR: 1.0000, FID: 425.1450, PSNR: 8.7401\n"
          ]
        },
        {
          "output_type": "stream",
          "name": "stderr",
          "text": [
            "\r  0%|          | 0/2 [00:00<?, ?it/s]<ipython-input-4-6490c8d8cca4>:11: FutureWarning: `torch.cuda.amp.autocast(args...)` is deprecated. Please use `torch.amp.autocast('cuda', args...)` instead.\n",
            "  with torch.cuda.amp.autocast():\n",
            "<ipython-input-4-6490c8d8cca4>:25: FutureWarning: `torch.cuda.amp.autocast(args...)` is deprecated. Please use `torch.amp.autocast('cuda', args...)` instead.\n",
            "  with torch.cuda.amp.autocast():\n",
            "100%|██████████| 2/2 [00:00<00:00,  5.13it/s, D_fake=0.0261, D_real=0.981]\n"
          ]
        },
        {
          "output_type": "stream",
          "name": "stdout",
          "text": [
            "y_true size: (9000,), y_pred size: (9000,)\n",
            "Accuracy: 0.5000, TPR: 1.0000, FPR: 1.0000, TNR: 0.0000, FNR: 0.0000\n",
            "Precision: 0.5000, Recall: 1.0000, F1 Score: 0.6667\n",
            "FID: 446.24658203125\n",
            "PSNR: 8.5091\n",
            "Epoch 78 - Metrics: Accuracy: 0.5000, TPR: 1.0000, FPR: 1.0000, FID: 446.2466, PSNR: 8.5091\n"
          ]
        },
        {
          "output_type": "stream",
          "name": "stderr",
          "text": [
            "\r  0%|          | 0/2 [00:00<?, ?it/s]<ipython-input-4-6490c8d8cca4>:11: FutureWarning: `torch.cuda.amp.autocast(args...)` is deprecated. Please use `torch.amp.autocast('cuda', args...)` instead.\n",
            "  with torch.cuda.amp.autocast():\n",
            "<ipython-input-4-6490c8d8cca4>:25: FutureWarning: `torch.cuda.amp.autocast(args...)` is deprecated. Please use `torch.amp.autocast('cuda', args...)` instead.\n",
            "  with torch.cuda.amp.autocast():\n",
            "100%|██████████| 2/2 [00:00<00:00,  5.08it/s, D_fake=0.0285, D_real=0.983]\n"
          ]
        },
        {
          "output_type": "stream",
          "name": "stdout",
          "text": [
            "y_true size: (9000,), y_pred size: (9000,)\n",
            "Accuracy: 0.5000, TPR: 1.0000, FPR: 1.0000, TNR: 0.0000, FNR: 0.0000\n",
            "Precision: 0.5000, Recall: 1.0000, F1 Score: 0.6667\n",
            "FID: 488.6982116699219\n",
            "PSNR: 7.6553\n",
            "Epoch 79 - Metrics: Accuracy: 0.5000, TPR: 1.0000, FPR: 1.0000, FID: 488.6982, PSNR: 7.6553\n"
          ]
        },
        {
          "output_type": "stream",
          "name": "stderr",
          "text": [
            "\r  0%|          | 0/2 [00:00<?, ?it/s]<ipython-input-4-6490c8d8cca4>:11: FutureWarning: `torch.cuda.amp.autocast(args...)` is deprecated. Please use `torch.amp.autocast('cuda', args...)` instead.\n",
            "  with torch.cuda.amp.autocast():\n",
            "<ipython-input-4-6490c8d8cca4>:25: FutureWarning: `torch.cuda.amp.autocast(args...)` is deprecated. Please use `torch.amp.autocast('cuda', args...)` instead.\n",
            "  with torch.cuda.amp.autocast():\n",
            "100%|██████████| 2/2 [00:00<00:00,  4.93it/s, D_fake=0.0195, D_real=0.984]\n"
          ]
        },
        {
          "output_type": "stream",
          "name": "stdout",
          "text": [
            "y_true size: (9000,), y_pred size: (9000,)\n",
            "Accuracy: 0.5000, TPR: 1.0000, FPR: 1.0000, TNR: 0.0000, FNR: 0.0000\n",
            "Precision: 0.5000, Recall: 1.0000, F1 Score: 0.6667\n",
            "FID: 472.2554931640625\n",
            "PSNR: 8.5029\n",
            "Epoch 80 - Metrics: Accuracy: 0.5000, TPR: 1.0000, FPR: 1.0000, FID: 472.2555, PSNR: 8.5029\n"
          ]
        },
        {
          "output_type": "stream",
          "name": "stderr",
          "text": [
            "\r  0%|          | 0/2 [00:00<?, ?it/s]<ipython-input-4-6490c8d8cca4>:11: FutureWarning: `torch.cuda.amp.autocast(args...)` is deprecated. Please use `torch.amp.autocast('cuda', args...)` instead.\n",
            "  with torch.cuda.amp.autocast():\n",
            "<ipython-input-4-6490c8d8cca4>:25: FutureWarning: `torch.cuda.amp.autocast(args...)` is deprecated. Please use `torch.amp.autocast('cuda', args...)` instead.\n",
            "  with torch.cuda.amp.autocast():\n",
            "100%|██████████| 2/2 [00:00<00:00,  5.20it/s, D_fake=0.0246, D_real=0.983]\n"
          ]
        },
        {
          "output_type": "stream",
          "name": "stdout",
          "text": [
            "y_true size: (9000,), y_pred size: (9000,)\n",
            "Accuracy: 0.5000, TPR: 1.0000, FPR: 1.0000, TNR: 0.0000, FNR: 0.0000\n",
            "Precision: 0.5000, Recall: 1.0000, F1 Score: 0.6667\n",
            "FID: 447.31414794921875\n",
            "PSNR: 8.3907\n",
            "Epoch 81 - Metrics: Accuracy: 0.5000, TPR: 1.0000, FPR: 1.0000, FID: 447.3141, PSNR: 8.3907\n"
          ]
        },
        {
          "output_type": "stream",
          "name": "stderr",
          "text": [
            "\r  0%|          | 0/2 [00:00<?, ?it/s]<ipython-input-4-6490c8d8cca4>:11: FutureWarning: `torch.cuda.amp.autocast(args...)` is deprecated. Please use `torch.amp.autocast('cuda', args...)` instead.\n",
            "  with torch.cuda.amp.autocast():\n",
            "<ipython-input-4-6490c8d8cca4>:25: FutureWarning: `torch.cuda.amp.autocast(args...)` is deprecated. Please use `torch.amp.autocast('cuda', args...)` instead.\n",
            "  with torch.cuda.amp.autocast():\n",
            "100%|██████████| 2/2 [00:00<00:00,  5.07it/s, D_fake=0.0398, D_real=0.978]\n"
          ]
        },
        {
          "output_type": "stream",
          "name": "stdout",
          "text": [
            "y_true size: (9000,), y_pred size: (9000,)\n",
            "Accuracy: 0.4938, TPR: 0.9876, FPR: 1.0000, TNR: 0.0000, FNR: 0.0124\n",
            "Precision: 0.4969, Recall: 0.9876, F1 Score: 0.6611\n",
            "FID: 498.0821533203125\n",
            "PSNR: 7.9265\n",
            "Epoch 82 - Metrics: Accuracy: 0.4938, TPR: 0.9876, FPR: 1.0000, FID: 498.0822, PSNR: 7.9265\n"
          ]
        },
        {
          "output_type": "stream",
          "name": "stderr",
          "text": [
            "\r  0%|          | 0/2 [00:00<?, ?it/s]<ipython-input-4-6490c8d8cca4>:11: FutureWarning: `torch.cuda.amp.autocast(args...)` is deprecated. Please use `torch.amp.autocast('cuda', args...)` instead.\n",
            "  with torch.cuda.amp.autocast():\n",
            "<ipython-input-4-6490c8d8cca4>:25: FutureWarning: `torch.cuda.amp.autocast(args...)` is deprecated. Please use `torch.amp.autocast('cuda', args...)` instead.\n",
            "  with torch.cuda.amp.autocast():\n",
            "100%|██████████| 2/2 [00:00<00:00,  5.08it/s, D_fake=0.0816, D_real=0.897]\n"
          ]
        },
        {
          "output_type": "stream",
          "name": "stdout",
          "text": [
            "y_true size: (9000,), y_pred size: (9000,)\n",
            "Accuracy: 0.4911, TPR: 0.9822, FPR: 1.0000, TNR: 0.0000, FNR: 0.0178\n",
            "Precision: 0.4955, Recall: 0.9822, F1 Score: 0.6587\n",
            "FID: 538.06787109375\n",
            "PSNR: 7.4039\n",
            "Epoch 83 - Metrics: Accuracy: 0.4911, TPR: 0.9822, FPR: 1.0000, FID: 538.0679, PSNR: 7.4039\n"
          ]
        },
        {
          "output_type": "stream",
          "name": "stderr",
          "text": [
            "\r  0%|          | 0/2 [00:00<?, ?it/s]<ipython-input-4-6490c8d8cca4>:11: FutureWarning: `torch.cuda.amp.autocast(args...)` is deprecated. Please use `torch.amp.autocast('cuda', args...)` instead.\n",
            "  with torch.cuda.amp.autocast():\n",
            "<ipython-input-4-6490c8d8cca4>:25: FutureWarning: `torch.cuda.amp.autocast(args...)` is deprecated. Please use `torch.amp.autocast('cuda', args...)` instead.\n",
            "  with torch.cuda.amp.autocast():\n",
            "100%|██████████| 2/2 [00:00<00:00,  5.14it/s, D_fake=0.0814, D_real=0.9]\n"
          ]
        },
        {
          "output_type": "stream",
          "name": "stdout",
          "text": [
            "y_true size: (9000,), y_pred size: (9000,)\n",
            "Accuracy: 0.5000, TPR: 1.0000, FPR: 1.0000, TNR: 0.0000, FNR: 0.0000\n",
            "Precision: 0.5000, Recall: 1.0000, F1 Score: 0.6667\n",
            "FID: 512.6383666992188\n",
            "PSNR: 8.1782\n",
            "Epoch 84 - Metrics: Accuracy: 0.5000, TPR: 1.0000, FPR: 1.0000, FID: 512.6384, PSNR: 8.1782\n"
          ]
        },
        {
          "output_type": "stream",
          "name": "stderr",
          "text": [
            "\r  0%|          | 0/2 [00:00<?, ?it/s]<ipython-input-4-6490c8d8cca4>:11: FutureWarning: `torch.cuda.amp.autocast(args...)` is deprecated. Please use `torch.amp.autocast('cuda', args...)` instead.\n",
            "  with torch.cuda.amp.autocast():\n",
            "<ipython-input-4-6490c8d8cca4>:25: FutureWarning: `torch.cuda.amp.autocast(args...)` is deprecated. Please use `torch.amp.autocast('cuda', args...)` instead.\n",
            "  with torch.cuda.amp.autocast():\n",
            "100%|██████████| 2/2 [00:00<00:00,  5.20it/s, D_fake=0.029, D_real=0.984]\n"
          ]
        },
        {
          "output_type": "stream",
          "name": "stdout",
          "text": [
            "y_true size: (9000,), y_pred size: (9000,)\n",
            "Accuracy: 0.7374, TPR: 1.0000, FPR: 0.5251, TNR: 0.4749, FNR: 0.0000\n",
            "Precision: 0.6557, Recall: 1.0000, F1 Score: 0.7920\n",
            "FID: 610.9334106445312\n",
            "PSNR: 7.5473\n",
            "Epoch 85 - Metrics: Accuracy: 0.7374, TPR: 1.0000, FPR: 0.5251, FID: 610.9334, PSNR: 7.5473\n"
          ]
        },
        {
          "output_type": "stream",
          "name": "stderr",
          "text": [
            "\r  0%|          | 0/2 [00:00<?, ?it/s]<ipython-input-4-6490c8d8cca4>:11: FutureWarning: `torch.cuda.amp.autocast(args...)` is deprecated. Please use `torch.amp.autocast('cuda', args...)` instead.\n",
            "  with torch.cuda.amp.autocast():\n",
            "<ipython-input-4-6490c8d8cca4>:25: FutureWarning: `torch.cuda.amp.autocast(args...)` is deprecated. Please use `torch.amp.autocast('cuda', args...)` instead.\n",
            "  with torch.cuda.amp.autocast():\n",
            "100%|██████████| 2/2 [00:00<00:00,  5.40it/s, D_fake=9.18e-5, D_real=0.965]\n"
          ]
        },
        {
          "output_type": "stream",
          "name": "stdout",
          "text": [
            "y_true size: (9000,), y_pred size: (9000,)\n",
            "Accuracy: 0.3222, TPR: 0.6444, FPR: 1.0000, TNR: 0.0000, FNR: 0.3556\n",
            "Precision: 0.3919, Recall: 0.6444, F1 Score: 0.4874\n",
            "FID: 545.2881469726562\n",
            "PSNR: 7.9475\n",
            "Epoch 86 - Metrics: Accuracy: 0.3222, TPR: 0.6444, FPR: 1.0000, FID: 545.2881, PSNR: 7.9475\n"
          ]
        },
        {
          "output_type": "stream",
          "name": "stderr",
          "text": [
            "\r  0%|          | 0/2 [00:00<?, ?it/s]<ipython-input-4-6490c8d8cca4>:11: FutureWarning: `torch.cuda.amp.autocast(args...)` is deprecated. Please use `torch.amp.autocast('cuda', args...)` instead.\n",
            "  with torch.cuda.amp.autocast():\n",
            "<ipython-input-4-6490c8d8cca4>:25: FutureWarning: `torch.cuda.amp.autocast(args...)` is deprecated. Please use `torch.amp.autocast('cuda', args...)` instead.\n",
            "  with torch.cuda.amp.autocast():\n",
            "100%|██████████| 2/2 [00:00<00:00,  4.81it/s, D_fake=0.158, D_real=0.639]\n"
          ]
        },
        {
          "output_type": "stream",
          "name": "stdout",
          "text": [
            "y_true size: (9000,), y_pred size: (9000,)\n",
            "Accuracy: 1.0000, TPR: 1.0000, FPR: 0.0000, TNR: 1.0000, FNR: 0.0000\n",
            "Precision: 1.0000, Recall: 1.0000, F1 Score: 1.0000\n",
            "FID: 495.88818359375\n",
            "PSNR: 8.0597\n",
            "Epoch 87 - Metrics: Accuracy: 1.0000, TPR: 1.0000, FPR: 0.0000, FID: 495.8882, PSNR: 8.0597\n"
          ]
        },
        {
          "output_type": "stream",
          "name": "stderr",
          "text": [
            "\r  0%|          | 0/2 [00:00<?, ?it/s]<ipython-input-4-6490c8d8cca4>:11: FutureWarning: `torch.cuda.amp.autocast(args...)` is deprecated. Please use `torch.amp.autocast('cuda', args...)` instead.\n",
            "  with torch.cuda.amp.autocast():\n",
            "<ipython-input-4-6490c8d8cca4>:25: FutureWarning: `torch.cuda.amp.autocast(args...)` is deprecated. Please use `torch.amp.autocast('cuda', args...)` instead.\n",
            "  with torch.cuda.amp.autocast():\n",
            "100%|██████████| 2/2 [00:00<00:00,  5.33it/s, D_fake=0.000526, D_real=0.996]\n"
          ]
        },
        {
          "output_type": "stream",
          "name": "stdout",
          "text": [
            "y_true size: (9000,), y_pred size: (9000,)\n",
            "Accuracy: 0.2061, TPR: 0.4122, FPR: 1.0000, TNR: 0.0000, FNR: 0.5878\n",
            "Precision: 0.2919, Recall: 0.4122, F1 Score: 0.3418\n",
            "FID: 483.6824645996094\n",
            "PSNR: 9.0476\n",
            "Epoch 88 - Metrics: Accuracy: 0.2061, TPR: 0.4122, FPR: 1.0000, FID: 483.6825, PSNR: 9.0476\n"
          ]
        },
        {
          "output_type": "stream",
          "name": "stderr",
          "text": [
            "\r  0%|          | 0/2 [00:00<?, ?it/s]<ipython-input-4-6490c8d8cca4>:11: FutureWarning: `torch.cuda.amp.autocast(args...)` is deprecated. Please use `torch.amp.autocast('cuda', args...)` instead.\n",
            "  with torch.cuda.amp.autocast():\n",
            "<ipython-input-4-6490c8d8cca4>:25: FutureWarning: `torch.cuda.amp.autocast(args...)` is deprecated. Please use `torch.amp.autocast('cuda', args...)` instead.\n",
            "  with torch.cuda.amp.autocast():\n",
            "100%|██████████| 2/2 [00:00<00:00,  5.30it/s, D_fake=0.00324, D_real=0.463]\n"
          ]
        },
        {
          "output_type": "stream",
          "name": "stdout",
          "text": [
            "y_true size: (9000,), y_pred size: (9000,)\n",
            "Accuracy: 0.5000, TPR: 1.0000, FPR: 1.0000, TNR: 0.0000, FNR: 0.0000\n",
            "Precision: 0.5000, Recall: 1.0000, F1 Score: 0.6667\n",
            "FID: 555.7581787109375\n",
            "PSNR: 8.9765\n",
            "Epoch 89 - Metrics: Accuracy: 0.5000, TPR: 1.0000, FPR: 1.0000, FID: 555.7582, PSNR: 8.9765\n"
          ]
        },
        {
          "output_type": "stream",
          "name": "stderr",
          "text": [
            "\r  0%|          | 0/2 [00:00<?, ?it/s]<ipython-input-4-6490c8d8cca4>:11: FutureWarning: `torch.cuda.amp.autocast(args...)` is deprecated. Please use `torch.amp.autocast('cuda', args...)` instead.\n",
            "  with torch.cuda.amp.autocast():\n",
            "<ipython-input-4-6490c8d8cca4>:25: FutureWarning: `torch.cuda.amp.autocast(args...)` is deprecated. Please use `torch.amp.autocast('cuda', args...)` instead.\n",
            "  with torch.cuda.amp.autocast():\n",
            "100%|██████████| 2/2 [00:00<00:00,  5.13it/s, D_fake=0.194, D_real=0.955]\n"
          ]
        },
        {
          "output_type": "stream",
          "name": "stdout",
          "text": [
            "y_true size: (9000,), y_pred size: (9000,)\n",
            "Accuracy: 0.5000, TPR: 1.0000, FPR: 1.0000, TNR: 0.0000, FNR: 0.0000\n",
            "Precision: 0.5000, Recall: 1.0000, F1 Score: 0.6667\n",
            "FID: 505.4955139160156\n",
            "PSNR: 9.0702\n",
            "Epoch 90 - Metrics: Accuracy: 0.5000, TPR: 1.0000, FPR: 1.0000, FID: 505.4955, PSNR: 9.0702\n"
          ]
        },
        {
          "output_type": "stream",
          "name": "stderr",
          "text": [
            "\r  0%|          | 0/2 [00:00<?, ?it/s]<ipython-input-4-6490c8d8cca4>:11: FutureWarning: `torch.cuda.amp.autocast(args...)` is deprecated. Please use `torch.amp.autocast('cuda', args...)` instead.\n",
            "  with torch.cuda.amp.autocast():\n",
            "<ipython-input-4-6490c8d8cca4>:25: FutureWarning: `torch.cuda.amp.autocast(args...)` is deprecated. Please use `torch.amp.autocast('cuda', args...)` instead.\n",
            "  with torch.cuda.amp.autocast():\n",
            "100%|██████████| 2/2 [00:00<00:00,  5.41it/s, D_fake=0.0551, D_real=0.978]\n"
          ]
        },
        {
          "output_type": "stream",
          "name": "stdout",
          "text": [
            "y_true size: (9000,), y_pred size: (9000,)\n",
            "Accuracy: 0.5000, TPR: 1.0000, FPR: 1.0000, TNR: 0.0000, FNR: 0.0000\n",
            "Precision: 0.5000, Recall: 1.0000, F1 Score: 0.6667\n",
            "FID: 489.9812316894531\n",
            "PSNR: 9.0986\n",
            "Epoch 91 - Metrics: Accuracy: 0.5000, TPR: 1.0000, FPR: 1.0000, FID: 489.9812, PSNR: 9.0986\n"
          ]
        },
        {
          "output_type": "stream",
          "name": "stderr",
          "text": [
            "\r  0%|          | 0/2 [00:00<?, ?it/s]<ipython-input-4-6490c8d8cca4>:11: FutureWarning: `torch.cuda.amp.autocast(args...)` is deprecated. Please use `torch.amp.autocast('cuda', args...)` instead.\n",
            "  with torch.cuda.amp.autocast():\n",
            "<ipython-input-4-6490c8d8cca4>:25: FutureWarning: `torch.cuda.amp.autocast(args...)` is deprecated. Please use `torch.amp.autocast('cuda', args...)` instead.\n",
            "  with torch.cuda.amp.autocast():\n",
            "100%|██████████| 2/2 [00:00<00:00,  5.50it/s, D_fake=0.0308, D_real=0.975]\n"
          ]
        },
        {
          "output_type": "stream",
          "name": "stdout",
          "text": [
            "y_true size: (9000,), y_pred size: (9000,)\n",
            "Accuracy: 0.5000, TPR: 1.0000, FPR: 1.0000, TNR: 0.0000, FNR: 0.0000\n",
            "Precision: 0.5000, Recall: 1.0000, F1 Score: 0.6667\n",
            "FID: 487.1768493652344\n",
            "PSNR: 9.0146\n",
            "Epoch 92 - Metrics: Accuracy: 0.5000, TPR: 1.0000, FPR: 1.0000, FID: 487.1768, PSNR: 9.0146\n"
          ]
        },
        {
          "output_type": "stream",
          "name": "stderr",
          "text": [
            "\r  0%|          | 0/2 [00:00<?, ?it/s]<ipython-input-4-6490c8d8cca4>:11: FutureWarning: `torch.cuda.amp.autocast(args...)` is deprecated. Please use `torch.amp.autocast('cuda', args...)` instead.\n",
            "  with torch.cuda.amp.autocast():\n",
            "<ipython-input-4-6490c8d8cca4>:25: FutureWarning: `torch.cuda.amp.autocast(args...)` is deprecated. Please use `torch.amp.autocast('cuda', args...)` instead.\n",
            "  with torch.cuda.amp.autocast():\n",
            "100%|██████████| 2/2 [00:00<00:00,  5.28it/s, D_fake=0.0382, D_real=0.972]\n"
          ]
        },
        {
          "output_type": "stream",
          "name": "stdout",
          "text": [
            "y_true size: (9000,), y_pred size: (9000,)\n",
            "Accuracy: 0.5000, TPR: 1.0000, FPR: 1.0000, TNR: 0.0000, FNR: 0.0000\n",
            "Precision: 0.5000, Recall: 1.0000, F1 Score: 0.6667\n",
            "FID: 584.4015502929688\n",
            "PSNR: 9.0635\n",
            "Epoch 93 - Metrics: Accuracy: 0.5000, TPR: 1.0000, FPR: 1.0000, FID: 584.4016, PSNR: 9.0635\n"
          ]
        },
        {
          "output_type": "stream",
          "name": "stderr",
          "text": [
            "\r  0%|          | 0/2 [00:00<?, ?it/s]<ipython-input-4-6490c8d8cca4>:11: FutureWarning: `torch.cuda.amp.autocast(args...)` is deprecated. Please use `torch.amp.autocast('cuda', args...)` instead.\n",
            "  with torch.cuda.amp.autocast():\n",
            "<ipython-input-4-6490c8d8cca4>:25: FutureWarning: `torch.cuda.amp.autocast(args...)` is deprecated. Please use `torch.amp.autocast('cuda', args...)` instead.\n",
            "  with torch.cuda.amp.autocast():\n",
            "100%|██████████| 2/2 [00:00<00:00,  4.83it/s, D_fake=0.0446, D_real=0.969]\n"
          ]
        },
        {
          "output_type": "stream",
          "name": "stdout",
          "text": [
            "y_true size: (9000,), y_pred size: (9000,)\n",
            "Accuracy: 0.5000, TPR: 1.0000, FPR: 1.0000, TNR: 0.0000, FNR: 0.0000\n",
            "Precision: 0.5000, Recall: 1.0000, F1 Score: 0.6667\n",
            "FID: 538.52880859375\n",
            "PSNR: 8.9778\n",
            "Epoch 94 - Metrics: Accuracy: 0.5000, TPR: 1.0000, FPR: 1.0000, FID: 538.5288, PSNR: 8.9778\n"
          ]
        },
        {
          "output_type": "stream",
          "name": "stderr",
          "text": [
            "\r  0%|          | 0/2 [00:00<?, ?it/s]<ipython-input-4-6490c8d8cca4>:11: FutureWarning: `torch.cuda.amp.autocast(args...)` is deprecated. Please use `torch.amp.autocast('cuda', args...)` instead.\n",
            "  with torch.cuda.amp.autocast():\n",
            "<ipython-input-4-6490c8d8cca4>:25: FutureWarning: `torch.cuda.amp.autocast(args...)` is deprecated. Please use `torch.amp.autocast('cuda', args...)` instead.\n",
            "  with torch.cuda.amp.autocast():\n",
            "100%|██████████| 2/2 [00:00<00:00,  5.42it/s, D_fake=0.0725, D_real=0.961]\n"
          ]
        },
        {
          "output_type": "stream",
          "name": "stdout",
          "text": [
            "y_true size: (9000,), y_pred size: (9000,)\n",
            "Accuracy: 0.5036, TPR: 0.9862, FPR: 0.9791, TNR: 0.0209, FNR: 0.0138\n",
            "Precision: 0.5018, Recall: 0.9862, F1 Score: 0.6652\n",
            "FID: 478.80889892578125\n",
            "PSNR: 8.8583\n",
            "Epoch 95 - Metrics: Accuracy: 0.5036, TPR: 0.9862, FPR: 0.9791, FID: 478.8089, PSNR: 8.8583\n"
          ]
        },
        {
          "output_type": "stream",
          "name": "stderr",
          "text": [
            "\r  0%|          | 0/2 [00:00<?, ?it/s]<ipython-input-4-6490c8d8cca4>:11: FutureWarning: `torch.cuda.amp.autocast(args...)` is deprecated. Please use `torch.amp.autocast('cuda', args...)` instead.\n",
            "  with torch.cuda.amp.autocast():\n",
            "<ipython-input-4-6490c8d8cca4>:25: FutureWarning: `torch.cuda.amp.autocast(args...)` is deprecated. Please use `torch.amp.autocast('cuda', args...)` instead.\n",
            "  with torch.cuda.amp.autocast():\n",
            "100%|██████████| 2/2 [00:00<00:00,  5.46it/s, D_fake=0.0756, D_real=0.897]\n"
          ]
        },
        {
          "output_type": "stream",
          "name": "stdout",
          "text": [
            "y_true size: (9000,), y_pred size: (9000,)\n",
            "Accuracy: 0.5018, TPR: 0.9907, FPR: 0.9871, TNR: 0.0129, FNR: 0.0093\n",
            "Precision: 0.5009, Recall: 0.9907, F1 Score: 0.6654\n",
            "FID: 542.6006469726562\n",
            "PSNR: 8.4262\n",
            "Epoch 96 - Metrics: Accuracy: 0.5018, TPR: 0.9907, FPR: 0.9871, FID: 542.6006, PSNR: 8.4262\n"
          ]
        },
        {
          "output_type": "stream",
          "name": "stderr",
          "text": [
            "\r  0%|          | 0/2 [00:00<?, ?it/s]<ipython-input-4-6490c8d8cca4>:11: FutureWarning: `torch.cuda.amp.autocast(args...)` is deprecated. Please use `torch.amp.autocast('cuda', args...)` instead.\n",
            "  with torch.cuda.amp.autocast():\n",
            "<ipython-input-4-6490c8d8cca4>:25: FutureWarning: `torch.cuda.amp.autocast(args...)` is deprecated. Please use `torch.amp.autocast('cuda', args...)` instead.\n",
            "  with torch.cuda.amp.autocast():\n",
            "100%|██████████| 2/2 [00:00<00:00,  5.04it/s, D_fake=0.0852, D_real=0.901]\n"
          ]
        },
        {
          "output_type": "stream",
          "name": "stdout",
          "text": [
            "y_true size: (9000,), y_pred size: (9000,)\n",
            "Accuracy: 0.5000, TPR: 1.0000, FPR: 1.0000, TNR: 0.0000, FNR: 0.0000\n",
            "Precision: 0.5000, Recall: 1.0000, F1 Score: 0.6667\n",
            "FID: 585.1777954101562\n",
            "PSNR: 9.0830\n",
            "Epoch 97 - Metrics: Accuracy: 0.5000, TPR: 1.0000, FPR: 1.0000, FID: 585.1778, PSNR: 9.0830\n"
          ]
        },
        {
          "output_type": "stream",
          "name": "stderr",
          "text": [
            "\r  0%|          | 0/2 [00:00<?, ?it/s]<ipython-input-4-6490c8d8cca4>:11: FutureWarning: `torch.cuda.amp.autocast(args...)` is deprecated. Please use `torch.amp.autocast('cuda', args...)` instead.\n",
            "  with torch.cuda.amp.autocast():\n",
            "<ipython-input-4-6490c8d8cca4>:25: FutureWarning: `torch.cuda.amp.autocast(args...)` is deprecated. Please use `torch.amp.autocast('cuda', args...)` instead.\n",
            "  with torch.cuda.amp.autocast():\n",
            "100%|██████████| 2/2 [00:00<00:00,  5.07it/s, D_fake=0.0858, D_real=0.969]\n"
          ]
        },
        {
          "output_type": "stream",
          "name": "stdout",
          "text": [
            "y_true size: (9000,), y_pred size: (9000,)\n",
            "Accuracy: 0.5000, TPR: 1.0000, FPR: 1.0000, TNR: 0.0000, FNR: 0.0000\n",
            "Precision: 0.5000, Recall: 1.0000, F1 Score: 0.6667\n",
            "FID: 552.2482299804688\n",
            "PSNR: 8.6897\n",
            "Epoch 98 - Metrics: Accuracy: 0.5000, TPR: 1.0000, FPR: 1.0000, FID: 552.2482, PSNR: 8.6897\n"
          ]
        },
        {
          "output_type": "stream",
          "name": "stderr",
          "text": [
            "\r  0%|          | 0/2 [00:00<?, ?it/s]<ipython-input-4-6490c8d8cca4>:11: FutureWarning: `torch.cuda.amp.autocast(args...)` is deprecated. Please use `torch.amp.autocast('cuda', args...)` instead.\n",
            "  with torch.cuda.amp.autocast():\n",
            "<ipython-input-4-6490c8d8cca4>:25: FutureWarning: `torch.cuda.amp.autocast(args...)` is deprecated. Please use `torch.amp.autocast('cuda', args...)` instead.\n",
            "  with torch.cuda.amp.autocast():\n",
            "100%|██████████| 2/2 [00:00<00:00,  5.18it/s, D_fake=0.043, D_real=0.946]\n"
          ]
        },
        {
          "output_type": "stream",
          "name": "stdout",
          "text": [
            "y_true size: (9000,), y_pred size: (9000,)\n",
            "Accuracy: 0.5188, TPR: 1.0000, FPR: 0.9624, TNR: 0.0376, FNR: 0.0000\n",
            "Precision: 0.5096, Recall: 1.0000, F1 Score: 0.6751\n",
            "FID: 569.4606323242188\n",
            "PSNR: 8.9513\n",
            "Epoch 99 - Metrics: Accuracy: 0.5188, TPR: 1.0000, FPR: 0.9624, FID: 569.4606, PSNR: 8.9513\n",
            "Saving model at epoch 99\n"
          ]
        },
        {
          "output_type": "stream",
          "name": "stderr",
          "text": [
            "\r  0%|          | 0/2 [00:00<?, ?it/s]<ipython-input-4-6490c8d8cca4>:11: FutureWarning: `torch.cuda.amp.autocast(args...)` is deprecated. Please use `torch.amp.autocast('cuda', args...)` instead.\n",
            "  with torch.cuda.amp.autocast():\n",
            "<ipython-input-4-6490c8d8cca4>:25: FutureWarning: `torch.cuda.amp.autocast(args...)` is deprecated. Please use `torch.amp.autocast('cuda', args...)` instead.\n",
            "  with torch.cuda.amp.autocast():\n",
            "100%|██████████| 2/2 [00:00<00:00,  4.68it/s, D_fake=0.00015, D_real=0.951]\n"
          ]
        },
        {
          "output_type": "stream",
          "name": "stdout",
          "text": [
            "y_true size: (9000,), y_pred size: (9000,)\n",
            "Accuracy: 0.0986, TPR: 0.1971, FPR: 1.0000, TNR: 0.0000, FNR: 0.8029\n",
            "Precision: 0.1647, Recall: 0.1971, F1 Score: 0.1794\n",
            "FID: 493.0806579589844\n",
            "PSNR: 8.4888\n",
            "Epoch 100 - Metrics: Accuracy: 0.0986, TPR: 0.1971, FPR: 1.0000, FID: 493.0807, PSNR: 8.4888\n"
          ]
        },
        {
          "output_type": "stream",
          "name": "stderr",
          "text": [
            "\r  0%|          | 0/2 [00:00<?, ?it/s]<ipython-input-4-6490c8d8cca4>:11: FutureWarning: `torch.cuda.amp.autocast(args...)` is deprecated. Please use `torch.amp.autocast('cuda', args...)` instead.\n",
            "  with torch.cuda.amp.autocast():\n",
            "<ipython-input-4-6490c8d8cca4>:25: FutureWarning: `torch.cuda.amp.autocast(args...)` is deprecated. Please use `torch.amp.autocast('cuda', args...)` instead.\n",
            "  with torch.cuda.amp.autocast():\n",
            "100%|██████████| 2/2 [00:00<00:00,  5.17it/s, D_fake=0.118, D_real=0.302]\n"
          ]
        },
        {
          "output_type": "stream",
          "name": "stdout",
          "text": [
            "y_true size: (9000,), y_pred size: (9000,)\n",
            "Accuracy: 1.0000, TPR: 1.0000, FPR: 0.0000, TNR: 1.0000, FNR: 0.0000\n",
            "Precision: 1.0000, Recall: 1.0000, F1 Score: 1.0000\n",
            "FID: 471.8271484375\n",
            "PSNR: 9.1295\n",
            "Epoch 101 - Metrics: Accuracy: 1.0000, TPR: 1.0000, FPR: 0.0000, FID: 471.8271, PSNR: 9.1295\n"
          ]
        },
        {
          "output_type": "stream",
          "name": "stderr",
          "text": [
            "\r  0%|          | 0/2 [00:00<?, ?it/s]<ipython-input-4-6490c8d8cca4>:11: FutureWarning: `torch.cuda.amp.autocast(args...)` is deprecated. Please use `torch.amp.autocast('cuda', args...)` instead.\n",
            "  with torch.cuda.amp.autocast():\n",
            "<ipython-input-4-6490c8d8cca4>:25: FutureWarning: `torch.cuda.amp.autocast(args...)` is deprecated. Please use `torch.amp.autocast('cuda', args...)` instead.\n",
            "  with torch.cuda.amp.autocast():\n",
            "100%|██████████| 2/2 [00:00<00:00,  5.26it/s, D_fake=0.246, D_real=0.933]\n"
          ]
        },
        {
          "output_type": "stream",
          "name": "stdout",
          "text": [
            "y_true size: (9000,), y_pred size: (9000,)\n",
            "Accuracy: 0.2929, TPR: 0.5858, FPR: 1.0000, TNR: 0.0000, FNR: 0.4142\n",
            "Precision: 0.3694, Recall: 0.5858, F1 Score: 0.4531\n",
            "FID: 577.060791015625\n",
            "PSNR: 8.8695\n",
            "Epoch 102 - Metrics: Accuracy: 0.2929, TPR: 0.5858, FPR: 1.0000, FID: 577.0608, PSNR: 8.8695\n"
          ]
        },
        {
          "output_type": "stream",
          "name": "stderr",
          "text": [
            "\r  0%|          | 0/2 [00:00<?, ?it/s]<ipython-input-4-6490c8d8cca4>:11: FutureWarning: `torch.cuda.amp.autocast(args...)` is deprecated. Please use `torch.amp.autocast('cuda', args...)` instead.\n",
            "  with torch.cuda.amp.autocast():\n",
            "<ipython-input-4-6490c8d8cca4>:25: FutureWarning: `torch.cuda.amp.autocast(args...)` is deprecated. Please use `torch.amp.autocast('cuda', args...)` instead.\n",
            "  with torch.cuda.amp.autocast():\n",
            "100%|██████████| 2/2 [00:00<00:00,  5.14it/s, D_fake=0.205, D_real=0.571]\n"
          ]
        },
        {
          "output_type": "stream",
          "name": "stdout",
          "text": [
            "y_true size: (9000,), y_pred size: (9000,)\n",
            "Accuracy: 0.3728, TPR: 0.7456, FPR: 1.0000, TNR: 0.0000, FNR: 0.2544\n",
            "Precision: 0.4271, Recall: 0.7456, F1 Score: 0.5431\n",
            "FID: 538.5828857421875\n",
            "PSNR: 9.7880\n",
            "Epoch 103 - Metrics: Accuracy: 0.3728, TPR: 0.7456, FPR: 1.0000, FID: 538.5829, PSNR: 9.7880\n"
          ]
        },
        {
          "output_type": "stream",
          "name": "stderr",
          "text": [
            "\r  0%|          | 0/2 [00:00<?, ?it/s]<ipython-input-4-6490c8d8cca4>:11: FutureWarning: `torch.cuda.amp.autocast(args...)` is deprecated. Please use `torch.amp.autocast('cuda', args...)` instead.\n",
            "  with torch.cuda.amp.autocast():\n",
            "<ipython-input-4-6490c8d8cca4>:25: FutureWarning: `torch.cuda.amp.autocast(args...)` is deprecated. Please use `torch.amp.autocast('cuda', args...)` instead.\n",
            "  with torch.cuda.amp.autocast():\n",
            "100%|██████████| 2/2 [00:00<00:00,  4.59it/s, D_fake=0.329, D_real=0.581]\n"
          ]
        },
        {
          "output_type": "stream",
          "name": "stdout",
          "text": [
            "y_true size: (9000,), y_pred size: (9000,)\n",
            "Accuracy: 0.5348, TPR: 0.9484, FPR: 0.8789, TNR: 0.1211, FNR: 0.0516\n",
            "Precision: 0.5190, Recall: 0.9484, F1 Score: 0.6709\n",
            "FID: 549.1536254882812\n",
            "PSNR: 9.0455\n",
            "Epoch 104 - Metrics: Accuracy: 0.5348, TPR: 0.9484, FPR: 0.8789, FID: 549.1536, PSNR: 9.0455\n"
          ]
        },
        {
          "output_type": "stream",
          "name": "stderr",
          "text": [
            "\r  0%|          | 0/2 [00:00<?, ?it/s]<ipython-input-4-6490c8d8cca4>:11: FutureWarning: `torch.cuda.amp.autocast(args...)` is deprecated. Please use `torch.amp.autocast('cuda', args...)` instead.\n",
            "  with torch.cuda.amp.autocast():\n",
            "<ipython-input-4-6490c8d8cca4>:25: FutureWarning: `torch.cuda.amp.autocast(args...)` is deprecated. Please use `torch.amp.autocast('cuda', args...)` instead.\n",
            "  with torch.cuda.amp.autocast():\n",
            "100%|██████████| 2/2 [00:00<00:00,  5.49it/s, D_fake=0.318, D_real=0.728]\n"
          ]
        },
        {
          "output_type": "stream",
          "name": "stdout",
          "text": [
            "y_true size: (9000,), y_pred size: (9000,)\n",
            "Accuracy: 0.4648, TPR: 0.9296, FPR: 1.0000, TNR: 0.0000, FNR: 0.0704\n",
            "Precision: 0.4817, Recall: 0.9296, F1 Score: 0.6346\n",
            "FID: 556.9881591796875\n",
            "PSNR: 9.5891\n",
            "Epoch 105 - Metrics: Accuracy: 0.4648, TPR: 0.9296, FPR: 1.0000, FID: 556.9882, PSNR: 9.5891\n"
          ]
        },
        {
          "output_type": "stream",
          "name": "stderr",
          "text": [
            "\r  0%|          | 0/2 [00:00<?, ?it/s]<ipython-input-4-6490c8d8cca4>:11: FutureWarning: `torch.cuda.amp.autocast(args...)` is deprecated. Please use `torch.amp.autocast('cuda', args...)` instead.\n",
            "  with torch.cuda.amp.autocast():\n",
            "<ipython-input-4-6490c8d8cca4>:25: FutureWarning: `torch.cuda.amp.autocast(args...)` is deprecated. Please use `torch.amp.autocast('cuda', args...)` instead.\n",
            "  with torch.cuda.amp.autocast():\n",
            "100%|██████████| 2/2 [00:00<00:00,  5.46it/s, D_fake=0.255, D_real=0.705]\n"
          ]
        },
        {
          "output_type": "stream",
          "name": "stdout",
          "text": [
            "y_true size: (9000,), y_pred size: (9000,)\n",
            "Accuracy: 0.4806, TPR: 0.9611, FPR: 1.0000, TNR: 0.0000, FNR: 0.0389\n",
            "Precision: 0.4901, Recall: 0.9611, F1 Score: 0.6492\n",
            "FID: 518.0838012695312\n",
            "PSNR: 9.7525\n",
            "Epoch 106 - Metrics: Accuracy: 0.4806, TPR: 0.9611, FPR: 1.0000, FID: 518.0838, PSNR: 9.7525\n"
          ]
        },
        {
          "output_type": "stream",
          "name": "stderr",
          "text": [
            "\r  0%|          | 0/2 [00:00<?, ?it/s]<ipython-input-4-6490c8d8cca4>:11: FutureWarning: `torch.cuda.amp.autocast(args...)` is deprecated. Please use `torch.amp.autocast('cuda', args...)` instead.\n",
            "  with torch.cuda.amp.autocast():\n",
            "<ipython-input-4-6490c8d8cca4>:25: FutureWarning: `torch.cuda.amp.autocast(args...)` is deprecated. Please use `torch.amp.autocast('cuda', args...)` instead.\n",
            "  with torch.cuda.amp.autocast():\n",
            "100%|██████████| 2/2 [00:00<00:00,  5.03it/s, D_fake=0.222, D_real=0.774]\n"
          ]
        },
        {
          "output_type": "stream",
          "name": "stdout",
          "text": [
            "y_true size: (9000,), y_pred size: (9000,)\n",
            "Accuracy: 0.4877, TPR: 0.9753, FPR: 1.0000, TNR: 0.0000, FNR: 0.0247\n",
            "Precision: 0.4938, Recall: 0.9753, F1 Score: 0.6556\n",
            "FID: 501.58447265625\n",
            "PSNR: 9.7172\n",
            "Epoch 107 - Metrics: Accuracy: 0.4877, TPR: 0.9753, FPR: 1.0000, FID: 501.5845, PSNR: 9.7172\n"
          ]
        },
        {
          "output_type": "stream",
          "name": "stderr",
          "text": [
            "\r  0%|          | 0/2 [00:00<?, ?it/s]<ipython-input-4-6490c8d8cca4>:11: FutureWarning: `torch.cuda.amp.autocast(args...)` is deprecated. Please use `torch.amp.autocast('cuda', args...)` instead.\n",
            "  with torch.cuda.amp.autocast():\n",
            "<ipython-input-4-6490c8d8cca4>:25: FutureWarning: `torch.cuda.amp.autocast(args...)` is deprecated. Please use `torch.amp.autocast('cuda', args...)` instead.\n",
            "  with torch.cuda.amp.autocast():\n",
            "100%|██████████| 2/2 [00:00<00:00,  5.34it/s, D_fake=0.211, D_real=0.813]\n"
          ]
        },
        {
          "output_type": "stream",
          "name": "stdout",
          "text": [
            "y_true size: (9000,), y_pred size: (9000,)\n",
            "Accuracy: 0.5004, TPR: 0.9707, FPR: 0.9698, TNR: 0.0302, FNR: 0.0293\n",
            "Precision: 0.5002, Recall: 0.9707, F1 Score: 0.6602\n",
            "FID: 503.28790283203125\n",
            "PSNR: 9.2688\n",
            "Epoch 108 - Metrics: Accuracy: 0.5004, TPR: 0.9707, FPR: 0.9698, FID: 503.2879, PSNR: 9.2688\n"
          ]
        },
        {
          "output_type": "stream",
          "name": "stderr",
          "text": [
            "\r  0%|          | 0/2 [00:00<?, ?it/s]<ipython-input-4-6490c8d8cca4>:11: FutureWarning: `torch.cuda.amp.autocast(args...)` is deprecated. Please use `torch.amp.autocast('cuda', args...)` instead.\n",
            "  with torch.cuda.amp.autocast():\n",
            "<ipython-input-4-6490c8d8cca4>:25: FutureWarning: `torch.cuda.amp.autocast(args...)` is deprecated. Please use `torch.amp.autocast('cuda', args...)` instead.\n",
            "  with torch.cuda.amp.autocast():\n",
            "100%|██████████| 2/2 [00:00<00:00,  5.22it/s, D_fake=0.148, D_real=0.828]\n"
          ]
        },
        {
          "output_type": "stream",
          "name": "stdout",
          "text": [
            "y_true size: (9000,), y_pred size: (9000,)\n",
            "Accuracy: 0.5034, TPR: 0.9840, FPR: 0.9771, TNR: 0.0229, FNR: 0.0160\n",
            "Precision: 0.5018, Recall: 0.9840, F1 Score: 0.6646\n",
            "FID: 503.0607604980469\n",
            "PSNR: 9.7764\n",
            "Epoch 109 - Metrics: Accuracy: 0.5034, TPR: 0.9840, FPR: 0.9771, FID: 503.0608, PSNR: 9.7764\n"
          ]
        },
        {
          "output_type": "stream",
          "name": "stderr",
          "text": [
            "\r  0%|          | 0/2 [00:00<?, ?it/s]<ipython-input-4-6490c8d8cca4>:11: FutureWarning: `torch.cuda.amp.autocast(args...)` is deprecated. Please use `torch.amp.autocast('cuda', args...)` instead.\n",
            "  with torch.cuda.amp.autocast():\n",
            "<ipython-input-4-6490c8d8cca4>:25: FutureWarning: `torch.cuda.amp.autocast(args...)` is deprecated. Please use `torch.amp.autocast('cuda', args...)` instead.\n",
            "  with torch.cuda.amp.autocast():\n",
            "100%|██████████| 2/2 [00:00<00:00,  5.34it/s, D_fake=0.201, D_real=0.869]\n"
          ]
        },
        {
          "output_type": "stream",
          "name": "stdout",
          "text": [
            "y_true size: (9000,), y_pred size: (9000,)\n",
            "Accuracy: 0.4976, TPR: 0.9951, FPR: 1.0000, TNR: 0.0000, FNR: 0.0049\n",
            "Precision: 0.4988, Recall: 0.9951, F1 Score: 0.6645\n",
            "FID: 508.467529296875\n",
            "PSNR: 9.2385\n",
            "Epoch 110 - Metrics: Accuracy: 0.4976, TPR: 0.9951, FPR: 1.0000, FID: 508.4675, PSNR: 9.2385\n"
          ]
        },
        {
          "output_type": "stream",
          "name": "stderr",
          "text": [
            "\r  0%|          | 0/2 [00:00<?, ?it/s]<ipython-input-4-6490c8d8cca4>:11: FutureWarning: `torch.cuda.amp.autocast(args...)` is deprecated. Please use `torch.amp.autocast('cuda', args...)` instead.\n",
            "  with torch.cuda.amp.autocast():\n",
            "<ipython-input-4-6490c8d8cca4>:25: FutureWarning: `torch.cuda.amp.autocast(args...)` is deprecated. Please use `torch.amp.autocast('cuda', args...)` instead.\n",
            "  with torch.cuda.amp.autocast():\n",
            "100%|██████████| 2/2 [00:00<00:00,  4.96it/s, D_fake=0.0981, D_real=0.896]\n"
          ]
        },
        {
          "output_type": "stream",
          "name": "stdout",
          "text": [
            "y_true size: (9000,), y_pred size: (9000,)\n",
            "Accuracy: 0.5289, TPR: 0.9991, FPR: 0.9413, TNR: 0.0587, FNR: 0.0009\n",
            "Precision: 0.5149, Recall: 0.9991, F1 Score: 0.6796\n",
            "FID: 518.199462890625\n",
            "PSNR: 9.6998\n",
            "Epoch 111 - Metrics: Accuracy: 0.5289, TPR: 0.9991, FPR: 0.9413, FID: 518.1995, PSNR: 9.6998\n"
          ]
        },
        {
          "output_type": "stream",
          "name": "stderr",
          "text": [
            "\r  0%|          | 0/2 [00:00<?, ?it/s]<ipython-input-4-6490c8d8cca4>:11: FutureWarning: `torch.cuda.amp.autocast(args...)` is deprecated. Please use `torch.amp.autocast('cuda', args...)` instead.\n",
            "  with torch.cuda.amp.autocast():\n",
            "<ipython-input-4-6490c8d8cca4>:25: FutureWarning: `torch.cuda.amp.autocast(args...)` is deprecated. Please use `torch.amp.autocast('cuda', args...)` instead.\n",
            "  with torch.cuda.amp.autocast():\n",
            "100%|██████████| 2/2 [00:00<00:00,  5.27it/s, D_fake=0.125, D_real=0.919]\n"
          ]
        },
        {
          "output_type": "stream",
          "name": "stdout",
          "text": [
            "y_true size: (9000,), y_pred size: (9000,)\n",
            "Accuracy: 0.4244, TPR: 0.8489, FPR: 1.0000, TNR: 0.0000, FNR: 0.1511\n",
            "Precision: 0.4591, Recall: 0.8489, F1 Score: 0.5959\n",
            "FID: 488.67864990234375\n",
            "PSNR: 9.1844\n",
            "Epoch 112 - Metrics: Accuracy: 0.4244, TPR: 0.8489, FPR: 1.0000, FID: 488.6786, PSNR: 9.1844\n"
          ]
        },
        {
          "output_type": "stream",
          "name": "stderr",
          "text": [
            "\r  0%|          | 0/2 [00:00<?, ?it/s]<ipython-input-4-6490c8d8cca4>:11: FutureWarning: `torch.cuda.amp.autocast(args...)` is deprecated. Please use `torch.amp.autocast('cuda', args...)` instead.\n",
            "  with torch.cuda.amp.autocast():\n",
            "<ipython-input-4-6490c8d8cca4>:25: FutureWarning: `torch.cuda.amp.autocast(args...)` is deprecated. Please use `torch.amp.autocast('cuda', args...)` instead.\n",
            "  with torch.cuda.amp.autocast():\n",
            "100%|██████████| 2/2 [00:00<00:00,  5.30it/s, D_fake=0.32, D_real=0.699]\n"
          ]
        },
        {
          "output_type": "stream",
          "name": "stdout",
          "text": [
            "y_true size: (9000,), y_pred size: (9000,)\n",
            "Accuracy: 0.3212, TPR: 0.6424, FPR: 1.0000, TNR: 0.0000, FNR: 0.3576\n",
            "Precision: 0.3912, Recall: 0.6424, F1 Score: 0.4863\n",
            "FID: 466.3036193847656\n",
            "PSNR: 8.8729\n",
            "Epoch 113 - Metrics: Accuracy: 0.3212, TPR: 0.6424, FPR: 1.0000, FID: 466.3036, PSNR: 8.8729\n"
          ]
        },
        {
          "output_type": "stream",
          "name": "stderr",
          "text": [
            "\r  0%|          | 0/2 [00:00<?, ?it/s]<ipython-input-4-6490c8d8cca4>:11: FutureWarning: `torch.cuda.amp.autocast(args...)` is deprecated. Please use `torch.amp.autocast('cuda', args...)` instead.\n",
            "  with torch.cuda.amp.autocast():\n",
            "<ipython-input-4-6490c8d8cca4>:25: FutureWarning: `torch.cuda.amp.autocast(args...)` is deprecated. Please use `torch.amp.autocast('cuda', args...)` instead.\n",
            "  with torch.cuda.amp.autocast():\n",
            "100%|██████████| 2/2 [00:00<00:00,  4.97it/s, D_fake=0.108, D_real=0.581]\n"
          ]
        },
        {
          "output_type": "stream",
          "name": "stdout",
          "text": [
            "y_true size: (9000,), y_pred size: (9000,)\n",
            "Accuracy: 0.5440, TPR: 1.0000, FPR: 0.9120, TNR: 0.0880, FNR: 0.0000\n",
            "Precision: 0.5230, Recall: 1.0000, F1 Score: 0.6868\n",
            "FID: 531.4026489257812\n",
            "PSNR: 9.6856\n",
            "Epoch 114 - Metrics: Accuracy: 0.5440, TPR: 1.0000, FPR: 0.9120, FID: 531.4026, PSNR: 9.6856\n"
          ]
        },
        {
          "output_type": "stream",
          "name": "stderr",
          "text": [
            "\r  0%|          | 0/2 [00:00<?, ?it/s]<ipython-input-4-6490c8d8cca4>:11: FutureWarning: `torch.cuda.amp.autocast(args...)` is deprecated. Please use `torch.amp.autocast('cuda', args...)` instead.\n",
            "  with torch.cuda.amp.autocast():\n",
            "<ipython-input-4-6490c8d8cca4>:25: FutureWarning: `torch.cuda.amp.autocast(args...)` is deprecated. Please use `torch.amp.autocast('cuda', args...)` instead.\n",
            "  with torch.cuda.amp.autocast():\n",
            "100%|██████████| 2/2 [00:00<00:00,  5.45it/s, D_fake=0.0606, D_real=0.993]\n"
          ]
        },
        {
          "output_type": "stream",
          "name": "stdout",
          "text": [
            "y_true size: (9000,), y_pred size: (9000,)\n",
            "Accuracy: 0.4940, TPR: 0.9880, FPR: 1.0000, TNR: 0.0000, FNR: 0.0120\n",
            "Precision: 0.4970, Recall: 0.9880, F1 Score: 0.6613\n",
            "FID: 529.4933471679688\n",
            "PSNR: 9.5897\n",
            "Epoch 115 - Metrics: Accuracy: 0.4940, TPR: 0.9880, FPR: 1.0000, FID: 529.4933, PSNR: 9.5897\n"
          ]
        },
        {
          "output_type": "stream",
          "name": "stderr",
          "text": [
            "\r  0%|          | 0/2 [00:00<?, ?it/s]<ipython-input-4-6490c8d8cca4>:11: FutureWarning: `torch.cuda.amp.autocast(args...)` is deprecated. Please use `torch.amp.autocast('cuda', args...)` instead.\n",
            "  with torch.cuda.amp.autocast():\n",
            "<ipython-input-4-6490c8d8cca4>:25: FutureWarning: `torch.cuda.amp.autocast(args...)` is deprecated. Please use `torch.amp.autocast('cuda', args...)` instead.\n",
            "  with torch.cuda.amp.autocast():\n",
            "100%|██████████| 2/2 [00:00<00:00,  4.52it/s, D_fake=0.0447, D_real=0.914]\n"
          ]
        },
        {
          "output_type": "stream",
          "name": "stdout",
          "text": [
            "y_true size: (9000,), y_pred size: (9000,)\n",
            "Accuracy: 0.5052, TPR: 1.0000, FPR: 0.9896, TNR: 0.0104, FNR: 0.0000\n",
            "Precision: 0.5026, Recall: 1.0000, F1 Score: 0.6690\n",
            "FID: 559.343994140625\n",
            "PSNR: 9.8142\n",
            "Epoch 116 - Metrics: Accuracy: 0.5052, TPR: 1.0000, FPR: 0.9896, FID: 559.3440, PSNR: 9.8142\n"
          ]
        },
        {
          "output_type": "stream",
          "name": "stderr",
          "text": [
            "\r  0%|          | 0/2 [00:00<?, ?it/s]<ipython-input-4-6490c8d8cca4>:11: FutureWarning: `torch.cuda.amp.autocast(args...)` is deprecated. Please use `torch.amp.autocast('cuda', args...)` instead.\n",
            "  with torch.cuda.amp.autocast():\n",
            "<ipython-input-4-6490c8d8cca4>:25: FutureWarning: `torch.cuda.amp.autocast(args...)` is deprecated. Please use `torch.amp.autocast('cuda', args...)` instead.\n",
            "  with torch.cuda.amp.autocast():\n",
            "100%|██████████| 2/2 [00:00<00:00,  5.29it/s, D_fake=0.0687, D_real=0.983]\n"
          ]
        },
        {
          "output_type": "stream",
          "name": "stdout",
          "text": [
            "y_true size: (9000,), y_pred size: (9000,)\n",
            "Accuracy: 0.5000, TPR: 1.0000, FPR: 1.0000, TNR: 0.0000, FNR: 0.0000\n",
            "Precision: 0.5000, Recall: 1.0000, F1 Score: 0.6667\n",
            "FID: 576.25830078125\n",
            "PSNR: 9.7390\n",
            "Epoch 117 - Metrics: Accuracy: 0.5000, TPR: 1.0000, FPR: 1.0000, FID: 576.2583, PSNR: 9.7390\n"
          ]
        },
        {
          "output_type": "stream",
          "name": "stderr",
          "text": [
            "\r  0%|          | 0/2 [00:00<?, ?it/s]<ipython-input-4-6490c8d8cca4>:11: FutureWarning: `torch.cuda.amp.autocast(args...)` is deprecated. Please use `torch.amp.autocast('cuda', args...)` instead.\n",
            "  with torch.cuda.amp.autocast():\n",
            "<ipython-input-4-6490c8d8cca4>:25: FutureWarning: `torch.cuda.amp.autocast(args...)` is deprecated. Please use `torch.amp.autocast('cuda', args...)` instead.\n",
            "  with torch.cuda.amp.autocast():\n",
            "100%|██████████| 2/2 [00:00<00:00,  5.05it/s, D_fake=0.0301, D_real=0.973]\n"
          ]
        },
        {
          "output_type": "stream",
          "name": "stdout",
          "text": [
            "y_true size: (9000,), y_pred size: (9000,)\n",
            "Accuracy: 0.5033, TPR: 1.0000, FPR: 0.9933, TNR: 0.0067, FNR: 0.0000\n",
            "Precision: 0.5017, Recall: 1.0000, F1 Score: 0.6682\n",
            "FID: 578.8799438476562\n",
            "PSNR: 9.7181\n",
            "Epoch 118 - Metrics: Accuracy: 0.5033, TPR: 1.0000, FPR: 0.9933, FID: 578.8799, PSNR: 9.7181\n"
          ]
        },
        {
          "output_type": "stream",
          "name": "stderr",
          "text": [
            "\r  0%|          | 0/2 [00:00<?, ?it/s]<ipython-input-4-6490c8d8cca4>:11: FutureWarning: `torch.cuda.amp.autocast(args...)` is deprecated. Please use `torch.amp.autocast('cuda', args...)` instead.\n",
            "  with torch.cuda.amp.autocast():\n",
            "<ipython-input-4-6490c8d8cca4>:25: FutureWarning: `torch.cuda.amp.autocast(args...)` is deprecated. Please use `torch.amp.autocast('cuda', args...)` instead.\n",
            "  with torch.cuda.amp.autocast():\n",
            "100%|██████████| 2/2 [00:00<00:00,  5.11it/s, D_fake=0.0537, D_real=0.986]\n"
          ]
        },
        {
          "output_type": "stream",
          "name": "stdout",
          "text": [
            "y_true size: (9000,), y_pred size: (9000,)\n",
            "Accuracy: 0.4964, TPR: 0.9929, FPR: 1.0000, TNR: 0.0000, FNR: 0.0071\n",
            "Precision: 0.4982, Recall: 0.9929, F1 Score: 0.6635\n",
            "FID: 463.7823486328125\n",
            "PSNR: 9.4734\n",
            "Epoch 119 - Metrics: Accuracy: 0.4964, TPR: 0.9929, FPR: 1.0000, FID: 463.7823, PSNR: 9.4734\n"
          ]
        },
        {
          "output_type": "stream",
          "name": "stderr",
          "text": [
            "\r  0%|          | 0/2 [00:00<?, ?it/s]<ipython-input-4-6490c8d8cca4>:11: FutureWarning: `torch.cuda.amp.autocast(args...)` is deprecated. Please use `torch.amp.autocast('cuda', args...)` instead.\n",
            "  with torch.cuda.amp.autocast():\n",
            "<ipython-input-4-6490c8d8cca4>:25: FutureWarning: `torch.cuda.amp.autocast(args...)` is deprecated. Please use `torch.amp.autocast('cuda', args...)` instead.\n",
            "  with torch.cuda.amp.autocast():\n",
            "100%|██████████| 2/2 [00:00<00:00,  5.40it/s, D_fake=0.0188, D_real=0.958]\n"
          ]
        },
        {
          "output_type": "stream",
          "name": "stdout",
          "text": [
            "y_true size: (9000,), y_pred size: (9000,)\n",
            "Accuracy: 0.5000, TPR: 1.0000, FPR: 1.0000, TNR: 0.0000, FNR: 0.0000\n",
            "Precision: 0.5000, Recall: 1.0000, F1 Score: 0.6667\n",
            "FID: 558.203857421875\n",
            "PSNR: 9.7646\n",
            "Epoch 120 - Metrics: Accuracy: 0.5000, TPR: 1.0000, FPR: 1.0000, FID: 558.2039, PSNR: 9.7646\n"
          ]
        },
        {
          "output_type": "stream",
          "name": "stderr",
          "text": [
            "\r  0%|          | 0/2 [00:00<?, ?it/s]<ipython-input-4-6490c8d8cca4>:11: FutureWarning: `torch.cuda.amp.autocast(args...)` is deprecated. Please use `torch.amp.autocast('cuda', args...)` instead.\n",
            "  with torch.cuda.amp.autocast():\n",
            "<ipython-input-4-6490c8d8cca4>:25: FutureWarning: `torch.cuda.amp.autocast(args...)` is deprecated. Please use `torch.amp.autocast('cuda', args...)` instead.\n",
            "  with torch.cuda.amp.autocast():\n",
            "100%|██████████| 2/2 [00:00<00:00,  5.03it/s, D_fake=0.0411, D_real=0.993]\n"
          ]
        },
        {
          "output_type": "stream",
          "name": "stdout",
          "text": [
            "y_true size: (9000,), y_pred size: (9000,)\n",
            "Accuracy: 0.5000, TPR: 1.0000, FPR: 1.0000, TNR: 0.0000, FNR: 0.0000\n",
            "Precision: 0.5000, Recall: 1.0000, F1 Score: 0.6667\n",
            "FID: 456.2276916503906\n",
            "PSNR: 9.1398\n",
            "Epoch 121 - Metrics: Accuracy: 0.5000, TPR: 1.0000, FPR: 1.0000, FID: 456.2277, PSNR: 9.1398\n"
          ]
        },
        {
          "output_type": "stream",
          "name": "stderr",
          "text": [
            "\r  0%|          | 0/2 [00:00<?, ?it/s]<ipython-input-4-6490c8d8cca4>:11: FutureWarning: `torch.cuda.amp.autocast(args...)` is deprecated. Please use `torch.amp.autocast('cuda', args...)` instead.\n",
            "  with torch.cuda.amp.autocast():\n",
            "<ipython-input-4-6490c8d8cca4>:25: FutureWarning: `torch.cuda.amp.autocast(args...)` is deprecated. Please use `torch.amp.autocast('cuda', args...)` instead.\n",
            "  with torch.cuda.amp.autocast():\n",
            "100%|██████████| 2/2 [00:00<00:00,  5.28it/s, D_fake=0.0141, D_real=0.988]\n"
          ]
        },
        {
          "output_type": "stream",
          "name": "stdout",
          "text": [
            "y_true size: (9000,), y_pred size: (9000,)\n",
            "Accuracy: 0.5009, TPR: 1.0000, FPR: 0.9982, TNR: 0.0018, FNR: 0.0000\n",
            "Precision: 0.5004, Recall: 1.0000, F1 Score: 0.6671\n",
            "FID: 556.6348876953125\n",
            "PSNR: 9.6206\n",
            "Epoch 122 - Metrics: Accuracy: 0.5009, TPR: 1.0000, FPR: 0.9982, FID: 556.6349, PSNR: 9.6206\n"
          ]
        },
        {
          "output_type": "stream",
          "name": "stderr",
          "text": [
            "\r  0%|          | 0/2 [00:00<?, ?it/s]<ipython-input-4-6490c8d8cca4>:11: FutureWarning: `torch.cuda.amp.autocast(args...)` is deprecated. Please use `torch.amp.autocast('cuda', args...)` instead.\n",
            "  with torch.cuda.amp.autocast():\n",
            "<ipython-input-4-6490c8d8cca4>:25: FutureWarning: `torch.cuda.amp.autocast(args...)` is deprecated. Please use `torch.amp.autocast('cuda', args...)` instead.\n",
            "  with torch.cuda.amp.autocast():\n",
            "100%|██████████| 2/2 [00:00<00:00,  4.90it/s, D_fake=0.0311, D_real=0.979]\n"
          ]
        },
        {
          "output_type": "stream",
          "name": "stdout",
          "text": [
            "y_true size: (9000,), y_pred size: (9000,)\n",
            "Accuracy: 0.4758, TPR: 0.9516, FPR: 1.0000, TNR: 0.0000, FNR: 0.0484\n",
            "Precision: 0.4876, Recall: 0.9516, F1 Score: 0.6448\n",
            "FID: 627.2077026367188\n",
            "PSNR: 9.4413\n",
            "Epoch 123 - Metrics: Accuracy: 0.4758, TPR: 0.9516, FPR: 1.0000, FID: 627.2077, PSNR: 9.4413\n"
          ]
        },
        {
          "output_type": "stream",
          "name": "stderr",
          "text": [
            "\r  0%|          | 0/2 [00:00<?, ?it/s]<ipython-input-4-6490c8d8cca4>:11: FutureWarning: `torch.cuda.amp.autocast(args...)` is deprecated. Please use `torch.amp.autocast('cuda', args...)` instead.\n",
            "  with torch.cuda.amp.autocast():\n",
            "<ipython-input-4-6490c8d8cca4>:25: FutureWarning: `torch.cuda.amp.autocast(args...)` is deprecated. Please use `torch.amp.autocast('cuda', args...)` instead.\n",
            "  with torch.cuda.amp.autocast():\n",
            "100%|██████████| 2/2 [00:00<00:00,  5.14it/s, D_fake=0.0683, D_real=0.911]\n"
          ]
        },
        {
          "output_type": "stream",
          "name": "stdout",
          "text": [
            "y_true size: (9000,), y_pred size: (9000,)\n",
            "Accuracy: 0.5041, TPR: 1.0000, FPR: 0.9918, TNR: 0.0082, FNR: 0.0000\n",
            "Precision: 0.5021, Recall: 1.0000, F1 Score: 0.6685\n",
            "FID: 538.1690673828125\n",
            "PSNR: 9.1904\n",
            "Epoch 124 - Metrics: Accuracy: 0.5041, TPR: 1.0000, FPR: 0.9918, FID: 538.1691, PSNR: 9.1904\n"
          ]
        },
        {
          "output_type": "stream",
          "name": "stderr",
          "text": [
            "\r  0%|          | 0/2 [00:00<?, ?it/s]<ipython-input-4-6490c8d8cca4>:11: FutureWarning: `torch.cuda.amp.autocast(args...)` is deprecated. Please use `torch.amp.autocast('cuda', args...)` instead.\n",
            "  with torch.cuda.amp.autocast():\n",
            "<ipython-input-4-6490c8d8cca4>:25: FutureWarning: `torch.cuda.amp.autocast(args...)` is deprecated. Please use `torch.amp.autocast('cuda', args...)` instead.\n",
            "  with torch.cuda.amp.autocast():\n",
            "100%|██████████| 2/2 [00:00<00:00,  5.07it/s, D_fake=0.0205, D_real=0.993]\n"
          ]
        },
        {
          "output_type": "stream",
          "name": "stdout",
          "text": [
            "y_true size: (9000,), y_pred size: (9000,)\n",
            "Accuracy: 0.4900, TPR: 0.9800, FPR: 1.0000, TNR: 0.0000, FNR: 0.0200\n",
            "Precision: 0.4949, Recall: 0.9800, F1 Score: 0.6577\n",
            "FID: 610.40966796875\n",
            "PSNR: 9.2371\n",
            "Epoch 125 - Metrics: Accuracy: 0.4900, TPR: 0.9800, FPR: 1.0000, FID: 610.4097, PSNR: 9.2371\n"
          ]
        },
        {
          "output_type": "stream",
          "name": "stderr",
          "text": [
            "\r  0%|          | 0/2 [00:00<?, ?it/s]<ipython-input-4-6490c8d8cca4>:11: FutureWarning: `torch.cuda.amp.autocast(args...)` is deprecated. Please use `torch.amp.autocast('cuda', args...)` instead.\n",
            "  with torch.cuda.amp.autocast():\n",
            "<ipython-input-4-6490c8d8cca4>:25: FutureWarning: `torch.cuda.amp.autocast(args...)` is deprecated. Please use `torch.amp.autocast('cuda', args...)` instead.\n",
            "  with torch.cuda.amp.autocast():\n",
            "100%|██████████| 2/2 [00:00<00:00,  5.31it/s, D_fake=0.0214, D_real=0.95]\n"
          ]
        },
        {
          "output_type": "stream",
          "name": "stdout",
          "text": [
            "y_true size: (9000,), y_pred size: (9000,)\n",
            "Accuracy: 0.5000, TPR: 1.0000, FPR: 1.0000, TNR: 0.0000, FNR: 0.0000\n",
            "Precision: 0.5000, Recall: 1.0000, F1 Score: 0.6667\n",
            "FID: 604.7727661132812\n",
            "PSNR: 9.1343\n",
            "Epoch 126 - Metrics: Accuracy: 0.5000, TPR: 1.0000, FPR: 1.0000, FID: 604.7728, PSNR: 9.1343\n"
          ]
        },
        {
          "output_type": "stream",
          "name": "stderr",
          "text": [
            "\r  0%|          | 0/2 [00:00<?, ?it/s]<ipython-input-4-6490c8d8cca4>:11: FutureWarning: `torch.cuda.amp.autocast(args...)` is deprecated. Please use `torch.amp.autocast('cuda', args...)` instead.\n",
            "  with torch.cuda.amp.autocast():\n",
            "<ipython-input-4-6490c8d8cca4>:25: FutureWarning: `torch.cuda.amp.autocast(args...)` is deprecated. Please use `torch.amp.autocast('cuda', args...)` instead.\n",
            "  with torch.cuda.amp.autocast():\n",
            "100%|██████████| 2/2 [00:00<00:00,  5.42it/s, D_fake=0.0169, D_real=0.994]\n"
          ]
        },
        {
          "output_type": "stream",
          "name": "stdout",
          "text": [
            "y_true size: (9000,), y_pred size: (9000,)\n",
            "Accuracy: 0.5000, TPR: 1.0000, FPR: 1.0000, TNR: 0.0000, FNR: 0.0000\n",
            "Precision: 0.5000, Recall: 1.0000, F1 Score: 0.6667\n",
            "FID: 524.5818481445312\n",
            "PSNR: 8.9240\n",
            "Epoch 127 - Metrics: Accuracy: 0.5000, TPR: 1.0000, FPR: 1.0000, FID: 524.5818, PSNR: 8.9240\n"
          ]
        },
        {
          "output_type": "stream",
          "name": "stderr",
          "text": [
            "\r  0%|          | 0/2 [00:00<?, ?it/s]<ipython-input-4-6490c8d8cca4>:11: FutureWarning: `torch.cuda.amp.autocast(args...)` is deprecated. Please use `torch.amp.autocast('cuda', args...)` instead.\n",
            "  with torch.cuda.amp.autocast():\n",
            "<ipython-input-4-6490c8d8cca4>:25: FutureWarning: `torch.cuda.amp.autocast(args...)` is deprecated. Please use `torch.amp.autocast('cuda', args...)` instead.\n",
            "  with torch.cuda.amp.autocast():\n",
            "100%|██████████| 2/2 [00:00<00:00,  4.93it/s, D_fake=0.00789, D_real=0.991]\n"
          ]
        },
        {
          "output_type": "stream",
          "name": "stdout",
          "text": [
            "y_true size: (9000,), y_pred size: (9000,)\n",
            "Accuracy: 0.5000, TPR: 1.0000, FPR: 1.0000, TNR: 0.0000, FNR: 0.0000\n",
            "Precision: 0.5000, Recall: 1.0000, F1 Score: 0.6667\n",
            "FID: 585.2284545898438\n",
            "PSNR: 9.5032\n",
            "Epoch 128 - Metrics: Accuracy: 0.5000, TPR: 1.0000, FPR: 1.0000, FID: 585.2285, PSNR: 9.5032\n"
          ]
        },
        {
          "output_type": "stream",
          "name": "stderr",
          "text": [
            "\r  0%|          | 0/2 [00:00<?, ?it/s]<ipython-input-4-6490c8d8cca4>:11: FutureWarning: `torch.cuda.amp.autocast(args...)` is deprecated. Please use `torch.amp.autocast('cuda', args...)` instead.\n",
            "  with torch.cuda.amp.autocast():\n",
            "<ipython-input-4-6490c8d8cca4>:25: FutureWarning: `torch.cuda.amp.autocast(args...)` is deprecated. Please use `torch.amp.autocast('cuda', args...)` instead.\n",
            "  with torch.cuda.amp.autocast():\n",
            "100%|██████████| 2/2 [00:00<00:00,  5.48it/s, D_fake=0.00721, D_real=0.994]\n"
          ]
        },
        {
          "output_type": "stream",
          "name": "stdout",
          "text": [
            "y_true size: (9000,), y_pred size: (9000,)\n",
            "Accuracy: 0.5000, TPR: 1.0000, FPR: 1.0000, TNR: 0.0000, FNR: 0.0000\n",
            "Precision: 0.5000, Recall: 1.0000, F1 Score: 0.6667\n",
            "FID: 608.4584350585938\n",
            "PSNR: 9.3145\n",
            "Epoch 129 - Metrics: Accuracy: 0.5000, TPR: 1.0000, FPR: 1.0000, FID: 608.4584, PSNR: 9.3145\n"
          ]
        },
        {
          "output_type": "stream",
          "name": "stderr",
          "text": [
            "\r  0%|          | 0/2 [00:00<?, ?it/s]<ipython-input-4-6490c8d8cca4>:11: FutureWarning: `torch.cuda.amp.autocast(args...)` is deprecated. Please use `torch.amp.autocast('cuda', args...)` instead.\n",
            "  with torch.cuda.amp.autocast():\n",
            "<ipython-input-4-6490c8d8cca4>:25: FutureWarning: `torch.cuda.amp.autocast(args...)` is deprecated. Please use `torch.amp.autocast('cuda', args...)` instead.\n",
            "  with torch.cuda.amp.autocast():\n",
            "100%|██████████| 2/2 [00:00<00:00,  5.22it/s, D_fake=0.0139, D_real=0.996]\n"
          ]
        },
        {
          "output_type": "stream",
          "name": "stdout",
          "text": [
            "y_true size: (9000,), y_pred size: (9000,)\n",
            "Accuracy: 0.5242, TPR: 1.0000, FPR: 0.9516, TNR: 0.0484, FNR: 0.0000\n",
            "Precision: 0.5124, Recall: 1.0000, F1 Score: 0.6776\n",
            "FID: 557.8135375976562\n",
            "PSNR: 9.3202\n",
            "Epoch 130 - Metrics: Accuracy: 0.5242, TPR: 1.0000, FPR: 0.9516, FID: 557.8135, PSNR: 9.3202\n"
          ]
        },
        {
          "output_type": "stream",
          "name": "stderr",
          "text": [
            "\r  0%|          | 0/2 [00:00<?, ?it/s]<ipython-input-4-6490c8d8cca4>:11: FutureWarning: `torch.cuda.amp.autocast(args...)` is deprecated. Please use `torch.amp.autocast('cuda', args...)` instead.\n",
            "  with torch.cuda.amp.autocast():\n",
            "<ipython-input-4-6490c8d8cca4>:25: FutureWarning: `torch.cuda.amp.autocast(args...)` is deprecated. Please use `torch.amp.autocast('cuda', args...)` instead.\n",
            "  with torch.cuda.amp.autocast():\n",
            "100%|██████████| 2/2 [00:00<00:00,  5.14it/s, D_fake=0.00666, D_real=0.992]\n"
          ]
        },
        {
          "output_type": "stream",
          "name": "stdout",
          "text": [
            "y_true size: (9000,), y_pred size: (9000,)\n",
            "Accuracy: 0.5467, TPR: 1.0000, FPR: 0.9067, TNR: 0.0933, FNR: 0.0000\n",
            "Precision: 0.5245, Recall: 1.0000, F1 Score: 0.6881\n",
            "FID: 601.931640625\n",
            "PSNR: 9.3044\n",
            "Epoch 131 - Metrics: Accuracy: 0.5467, TPR: 1.0000, FPR: 0.9067, FID: 601.9316, PSNR: 9.3044\n"
          ]
        },
        {
          "output_type": "stream",
          "name": "stderr",
          "text": [
            "\r  0%|          | 0/2 [00:00<?, ?it/s]<ipython-input-4-6490c8d8cca4>:11: FutureWarning: `torch.cuda.amp.autocast(args...)` is deprecated. Please use `torch.amp.autocast('cuda', args...)` instead.\n",
            "  with torch.cuda.amp.autocast():\n",
            "<ipython-input-4-6490c8d8cca4>:25: FutureWarning: `torch.cuda.amp.autocast(args...)` is deprecated. Please use `torch.amp.autocast('cuda', args...)` instead.\n",
            "  with torch.cuda.amp.autocast():\n",
            "100%|██████████| 2/2 [00:00<00:00,  5.16it/s, D_fake=0.0122, D_real=0.998]\n"
          ]
        },
        {
          "output_type": "stream",
          "name": "stdout",
          "text": [
            "y_true size: (9000,), y_pred size: (9000,)\n",
            "Accuracy: 0.5834, TPR: 1.0000, FPR: 0.8331, TNR: 0.1669, FNR: 0.0000\n",
            "Precision: 0.5455, Recall: 1.0000, F1 Score: 0.7059\n",
            "FID: 596.6882934570312\n",
            "PSNR: 9.3043\n",
            "Epoch 132 - Metrics: Accuracy: 0.5834, TPR: 1.0000, FPR: 0.8331, FID: 596.6883, PSNR: 9.3043\n"
          ]
        },
        {
          "output_type": "stream",
          "name": "stderr",
          "text": [
            "\r  0%|          | 0/2 [00:00<?, ?it/s]<ipython-input-4-6490c8d8cca4>:11: FutureWarning: `torch.cuda.amp.autocast(args...)` is deprecated. Please use `torch.amp.autocast('cuda', args...)` instead.\n",
            "  with torch.cuda.amp.autocast():\n",
            "<ipython-input-4-6490c8d8cca4>:25: FutureWarning: `torch.cuda.amp.autocast(args...)` is deprecated. Please use `torch.amp.autocast('cuda', args...)` instead.\n",
            "  with torch.cuda.amp.autocast():\n",
            "100%|██████████| 2/2 [00:00<00:00,  5.20it/s, D_fake=0.00428, D_real=0.996]\n"
          ]
        },
        {
          "output_type": "stream",
          "name": "stdout",
          "text": [
            "y_true size: (9000,), y_pred size: (9000,)\n",
            "Accuracy: 0.5917, TPR: 0.9607, FPR: 0.7773, TNR: 0.2227, FNR: 0.0393\n",
            "Precision: 0.5527, Recall: 0.9607, F1 Score: 0.7017\n",
            "FID: 552.1207275390625\n",
            "PSNR: 9.1556\n",
            "Epoch 133 - Metrics: Accuracy: 0.5917, TPR: 0.9607, FPR: 0.7773, FID: 552.1207, PSNR: 9.1556\n"
          ]
        },
        {
          "output_type": "stream",
          "name": "stderr",
          "text": [
            "\r  0%|          | 0/2 [00:00<?, ?it/s]<ipython-input-4-6490c8d8cca4>:11: FutureWarning: `torch.cuda.amp.autocast(args...)` is deprecated. Please use `torch.amp.autocast('cuda', args...)` instead.\n",
            "  with torch.cuda.amp.autocast():\n",
            "<ipython-input-4-6490c8d8cca4>:25: FutureWarning: `torch.cuda.amp.autocast(args...)` is deprecated. Please use `torch.amp.autocast('cuda', args...)` instead.\n",
            "  with torch.cuda.amp.autocast():\n",
            "100%|██████████| 2/2 [00:00<00:00,  5.17it/s, D_fake=0.138, D_real=0.938]\n"
          ]
        },
        {
          "output_type": "stream",
          "name": "stdout",
          "text": [
            "y_true size: (9000,), y_pred size: (9000,)\n",
            "Accuracy: 0.3363, TPR: 0.5498, FPR: 0.8771, TNR: 0.1229, FNR: 0.4502\n",
            "Precision: 0.3853, Recall: 0.5498, F1 Score: 0.4531\n",
            "FID: 557.6064453125\n",
            "PSNR: 8.7070\n",
            "Epoch 134 - Metrics: Accuracy: 0.3363, TPR: 0.5498, FPR: 0.8771, FID: 557.6064, PSNR: 8.7070\n"
          ]
        },
        {
          "output_type": "stream",
          "name": "stderr",
          "text": [
            "\r  0%|          | 0/2 [00:00<?, ?it/s]<ipython-input-4-6490c8d8cca4>:11: FutureWarning: `torch.cuda.amp.autocast(args...)` is deprecated. Please use `torch.amp.autocast('cuda', args...)` instead.\n",
            "  with torch.cuda.amp.autocast():\n",
            "<ipython-input-4-6490c8d8cca4>:25: FutureWarning: `torch.cuda.amp.autocast(args...)` is deprecated. Please use `torch.amp.autocast('cuda', args...)` instead.\n",
            "  with torch.cuda.amp.autocast():\n",
            "100%|██████████| 2/2 [00:00<00:00,  4.74it/s, D_fake=0.223, D_real=0.656]\n"
          ]
        },
        {
          "output_type": "stream",
          "name": "stdout",
          "text": [
            "y_true size: (9000,), y_pred size: (9000,)\n",
            "Accuracy: 0.2641, TPR: 0.5129, FPR: 0.9847, TNR: 0.0153, FNR: 0.4871\n",
            "Precision: 0.3425, Recall: 0.5129, F1 Score: 0.4107\n",
            "FID: 485.0958557128906\n",
            "PSNR: 8.9295\n",
            "Epoch 135 - Metrics: Accuracy: 0.2641, TPR: 0.5129, FPR: 0.9847, FID: 485.0959, PSNR: 8.9295\n"
          ]
        },
        {
          "output_type": "stream",
          "name": "stderr",
          "text": [
            "\r  0%|          | 0/2 [00:00<?, ?it/s]<ipython-input-4-6490c8d8cca4>:11: FutureWarning: `torch.cuda.amp.autocast(args...)` is deprecated. Please use `torch.amp.autocast('cuda', args...)` instead.\n",
            "  with torch.cuda.amp.autocast():\n",
            "<ipython-input-4-6490c8d8cca4>:25: FutureWarning: `torch.cuda.amp.autocast(args...)` is deprecated. Please use `torch.amp.autocast('cuda', args...)` instead.\n",
            "  with torch.cuda.amp.autocast():\n",
            "100%|██████████| 2/2 [00:00<00:00,  5.06it/s, D_fake=0.441, D_real=0.521]\n"
          ]
        },
        {
          "output_type": "stream",
          "name": "stdout",
          "text": [
            "y_true size: (9000,), y_pred size: (9000,)\n",
            "Accuracy: 0.0823, TPR: 0.1647, FPR: 1.0000, TNR: 0.0000, FNR: 0.8353\n",
            "Precision: 0.1414, Recall: 0.1647, F1 Score: 0.1521\n",
            "FID: 490.06048583984375\n",
            "PSNR: 8.7453\n",
            "Epoch 136 - Metrics: Accuracy: 0.0823, TPR: 0.1647, FPR: 1.0000, FID: 490.0605, PSNR: 8.7453\n"
          ]
        },
        {
          "output_type": "stream",
          "name": "stderr",
          "text": [
            "\r  0%|          | 0/2 [00:00<?, ?it/s]<ipython-input-4-6490c8d8cca4>:11: FutureWarning: `torch.cuda.amp.autocast(args...)` is deprecated. Please use `torch.amp.autocast('cuda', args...)` instead.\n",
            "  with torch.cuda.amp.autocast():\n",
            "<ipython-input-4-6490c8d8cca4>:25: FutureWarning: `torch.cuda.amp.autocast(args...)` is deprecated. Please use `torch.amp.autocast('cuda', args...)` instead.\n",
            "  with torch.cuda.amp.autocast():\n",
            "100%|██████████| 2/2 [00:00<00:00,  5.16it/s, D_fake=0.122, D_real=0.132]\n"
          ]
        },
        {
          "output_type": "stream",
          "name": "stdout",
          "text": [
            "y_true size: (9000,), y_pred size: (9000,)\n",
            "Accuracy: 0.5550, TPR: 0.9009, FPR: 0.7909, TNR: 0.2091, FNR: 0.0991\n",
            "Precision: 0.5325, Recall: 0.9009, F1 Score: 0.6694\n",
            "FID: 438.9970397949219\n",
            "PSNR: 9.7722\n",
            "Epoch 137 - Metrics: Accuracy: 0.5550, TPR: 0.9009, FPR: 0.7909, FID: 438.9970, PSNR: 9.7722\n"
          ]
        },
        {
          "output_type": "stream",
          "name": "stderr",
          "text": [
            "\r  0%|          | 0/2 [00:00<?, ?it/s]<ipython-input-4-6490c8d8cca4>:11: FutureWarning: `torch.cuda.amp.autocast(args...)` is deprecated. Please use `torch.amp.autocast('cuda', args...)` instead.\n",
            "  with torch.cuda.amp.autocast():\n",
            "<ipython-input-4-6490c8d8cca4>:25: FutureWarning: `torch.cuda.amp.autocast(args...)` is deprecated. Please use `torch.amp.autocast('cuda', args...)` instead.\n",
            "  with torch.cuda.amp.autocast():\n",
            "100%|██████████| 2/2 [00:00<00:00,  4.92it/s, D_fake=0.449, D_real=0.742]\n"
          ]
        },
        {
          "output_type": "stream",
          "name": "stdout",
          "text": [
            "y_true size: (9000,), y_pred size: (9000,)\n",
            "Accuracy: 0.5479, TPR: 0.9880, FPR: 0.8922, TNR: 0.1078, FNR: 0.0120\n",
            "Precision: 0.5255, Recall: 0.9880, F1 Score: 0.6861\n",
            "FID: 480.06134033203125\n",
            "PSNR: 10.1746\n",
            "Epoch 138 - Metrics: Accuracy: 0.5479, TPR: 0.9880, FPR: 0.8922, FID: 480.0613, PSNR: 10.1746\n"
          ]
        },
        {
          "output_type": "stream",
          "name": "stderr",
          "text": [
            "\r  0%|          | 0/2 [00:00<?, ?it/s]<ipython-input-4-6490c8d8cca4>:11: FutureWarning: `torch.cuda.amp.autocast(args...)` is deprecated. Please use `torch.amp.autocast('cuda', args...)` instead.\n",
            "  with torch.cuda.amp.autocast():\n",
            "<ipython-input-4-6490c8d8cca4>:25: FutureWarning: `torch.cuda.amp.autocast(args...)` is deprecated. Please use `torch.amp.autocast('cuda', args...)` instead.\n",
            "  with torch.cuda.amp.autocast():\n",
            "100%|██████████| 2/2 [00:00<00:00,  5.33it/s, D_fake=0.233, D_real=0.827]\n"
          ]
        },
        {
          "output_type": "stream",
          "name": "stdout",
          "text": [
            "y_true size: (9000,), y_pred size: (9000,)\n",
            "Accuracy: 0.5643, TPR: 0.9462, FPR: 0.8176, TNR: 0.1824, FNR: 0.0538\n",
            "Precision: 0.5365, Recall: 0.9462, F1 Score: 0.6847\n",
            "FID: 502.4313659667969\n",
            "PSNR: 9.4097\n",
            "Epoch 139 - Metrics: Accuracy: 0.5643, TPR: 0.9462, FPR: 0.8176, FID: 502.4314, PSNR: 9.4097\n"
          ]
        },
        {
          "output_type": "stream",
          "name": "stderr",
          "text": [
            "\r  0%|          | 0/2 [00:00<?, ?it/s]<ipython-input-4-6490c8d8cca4>:11: FutureWarning: `torch.cuda.amp.autocast(args...)` is deprecated. Please use `torch.amp.autocast('cuda', args...)` instead.\n",
            "  with torch.cuda.amp.autocast():\n",
            "<ipython-input-4-6490c8d8cca4>:25: FutureWarning: `torch.cuda.amp.autocast(args...)` is deprecated. Please use `torch.amp.autocast('cuda', args...)` instead.\n",
            "  with torch.cuda.amp.autocast():\n",
            "100%|██████████| 2/2 [00:00<00:00,  4.95it/s, D_fake=0.206, D_real=0.803]\n"
          ]
        },
        {
          "output_type": "stream",
          "name": "stdout",
          "text": [
            "y_true size: (9000,), y_pred size: (9000,)\n",
            "Accuracy: 0.4499, TPR: 0.8998, FPR: 1.0000, TNR: 0.0000, FNR: 0.1002\n",
            "Precision: 0.4736, Recall: 0.8998, F1 Score: 0.6206\n",
            "FID: 466.8567810058594\n",
            "PSNR: 10.2944\n",
            "Epoch 140 - Metrics: Accuracy: 0.4499, TPR: 0.8998, FPR: 1.0000, FID: 466.8568, PSNR: 10.2944\n"
          ]
        },
        {
          "output_type": "stream",
          "name": "stderr",
          "text": [
            "\r  0%|          | 0/2 [00:00<?, ?it/s]<ipython-input-4-6490c8d8cca4>:11: FutureWarning: `torch.cuda.amp.autocast(args...)` is deprecated. Please use `torch.amp.autocast('cuda', args...)` instead.\n",
            "  with torch.cuda.amp.autocast():\n",
            "<ipython-input-4-6490c8d8cca4>:25: FutureWarning: `torch.cuda.amp.autocast(args...)` is deprecated. Please use `torch.amp.autocast('cuda', args...)` instead.\n",
            "  with torch.cuda.amp.autocast():\n",
            "100%|██████████| 2/2 [00:00<00:00,  5.28it/s, D_fake=0.167, D_real=0.737]\n"
          ]
        },
        {
          "output_type": "stream",
          "name": "stdout",
          "text": [
            "y_true size: (9000,), y_pred size: (9000,)\n",
            "Accuracy: 0.4970, TPR: 0.9911, FPR: 0.9971, TNR: 0.0029, FNR: 0.0089\n",
            "Precision: 0.4985, Recall: 0.9911, F1 Score: 0.6633\n",
            "FID: 507.23687744140625\n",
            "PSNR: 10.1906\n",
            "Epoch 141 - Metrics: Accuracy: 0.4970, TPR: 0.9911, FPR: 0.9971, FID: 507.2369, PSNR: 10.1906\n"
          ]
        },
        {
          "output_type": "stream",
          "name": "stderr",
          "text": [
            "\r  0%|          | 0/2 [00:00<?, ?it/s]<ipython-input-4-6490c8d8cca4>:11: FutureWarning: `torch.cuda.amp.autocast(args...)` is deprecated. Please use `torch.amp.autocast('cuda', args...)` instead.\n",
            "  with torch.cuda.amp.autocast():\n",
            "<ipython-input-4-6490c8d8cca4>:25: FutureWarning: `torch.cuda.amp.autocast(args...)` is deprecated. Please use `torch.amp.autocast('cuda', args...)` instead.\n",
            "  with torch.cuda.amp.autocast():\n",
            "100%|██████████| 2/2 [00:00<00:00,  4.74it/s, D_fake=0.168, D_real=0.896]\n"
          ]
        },
        {
          "output_type": "stream",
          "name": "stdout",
          "text": [
            "y_true size: (9000,), y_pred size: (9000,)\n",
            "Accuracy: 0.5166, TPR: 0.9936, FPR: 0.9604, TNR: 0.0396, FNR: 0.0064\n",
            "Precision: 0.5085, Recall: 0.9936, F1 Score: 0.6727\n",
            "FID: 535.8716430664062\n",
            "PSNR: 10.2792\n",
            "Epoch 142 - Metrics: Accuracy: 0.5166, TPR: 0.9936, FPR: 0.9604, FID: 535.8716, PSNR: 10.2792\n"
          ]
        },
        {
          "output_type": "stream",
          "name": "stderr",
          "text": [
            "\r  0%|          | 0/2 [00:00<?, ?it/s]<ipython-input-4-6490c8d8cca4>:11: FutureWarning: `torch.cuda.amp.autocast(args...)` is deprecated. Please use `torch.amp.autocast('cuda', args...)` instead.\n",
            "  with torch.cuda.amp.autocast():\n",
            "<ipython-input-4-6490c8d8cca4>:25: FutureWarning: `torch.cuda.amp.autocast(args...)` is deprecated. Please use `torch.amp.autocast('cuda', args...)` instead.\n",
            "  with torch.cuda.amp.autocast():\n",
            "100%|██████████| 2/2 [00:00<00:00,  4.99it/s, D_fake=0.167, D_real=0.898]\n"
          ]
        },
        {
          "output_type": "stream",
          "name": "stdout",
          "text": [
            "y_true size: (9000,), y_pred size: (9000,)\n",
            "Accuracy: 0.5024, TPR: 0.9524, FPR: 0.9476, TNR: 0.0524, FNR: 0.0476\n",
            "Precision: 0.5013, Recall: 0.9524, F1 Score: 0.6569\n",
            "FID: 533.5714721679688\n",
            "PSNR: 10.3162\n",
            "Epoch 143 - Metrics: Accuracy: 0.5024, TPR: 0.9524, FPR: 0.9476, FID: 533.5715, PSNR: 10.3162\n"
          ]
        },
        {
          "output_type": "stream",
          "name": "stderr",
          "text": [
            "\r  0%|          | 0/2 [00:00<?, ?it/s]<ipython-input-4-6490c8d8cca4>:11: FutureWarning: `torch.cuda.amp.autocast(args...)` is deprecated. Please use `torch.amp.autocast('cuda', args...)` instead.\n",
            "  with torch.cuda.amp.autocast():\n",
            "<ipython-input-4-6490c8d8cca4>:25: FutureWarning: `torch.cuda.amp.autocast(args...)` is deprecated. Please use `torch.amp.autocast('cuda', args...)` instead.\n",
            "  with torch.cuda.amp.autocast():\n",
            "100%|██████████| 2/2 [00:00<00:00,  5.07it/s, D_fake=0.14, D_real=0.82]\n"
          ]
        },
        {
          "output_type": "stream",
          "name": "stdout",
          "text": [
            "y_true size: (9000,), y_pred size: (9000,)\n",
            "Accuracy: 0.4897, TPR: 0.9529, FPR: 0.9736, TNR: 0.0264, FNR: 0.0471\n",
            "Precision: 0.4946, Recall: 0.9529, F1 Score: 0.6512\n",
            "FID: 516.629638671875\n",
            "PSNR: 10.1394\n",
            "Epoch 144 - Metrics: Accuracy: 0.4897, TPR: 0.9529, FPR: 0.9736, FID: 516.6296, PSNR: 10.1394\n"
          ]
        },
        {
          "output_type": "stream",
          "name": "stderr",
          "text": [
            "\r  0%|          | 0/2 [00:00<?, ?it/s]<ipython-input-4-6490c8d8cca4>:11: FutureWarning: `torch.cuda.amp.autocast(args...)` is deprecated. Please use `torch.amp.autocast('cuda', args...)` instead.\n",
            "  with torch.cuda.amp.autocast():\n",
            "<ipython-input-4-6490c8d8cca4>:25: FutureWarning: `torch.cuda.amp.autocast(args...)` is deprecated. Please use `torch.amp.autocast('cuda', args...)` instead.\n",
            "  with torch.cuda.amp.autocast():\n",
            "100%|██████████| 2/2 [00:00<00:00,  5.09it/s, D_fake=0.161, D_real=0.818]\n"
          ]
        },
        {
          "output_type": "stream",
          "name": "stdout",
          "text": [
            "y_true size: (9000,), y_pred size: (9000,)\n",
            "Accuracy: 0.4450, TPR: 0.8900, FPR: 1.0000, TNR: 0.0000, FNR: 0.1100\n",
            "Precision: 0.4709, Recall: 0.8900, F1 Score: 0.6159\n",
            "FID: 535.5686645507812\n",
            "PSNR: 10.1153\n",
            "Epoch 145 - Metrics: Accuracy: 0.4450, TPR: 0.8900, FPR: 1.0000, FID: 535.5687, PSNR: 10.1153\n"
          ]
        },
        {
          "output_type": "stream",
          "name": "stderr",
          "text": [
            "\r  0%|          | 0/2 [00:00<?, ?it/s]<ipython-input-4-6490c8d8cca4>:11: FutureWarning: `torch.cuda.amp.autocast(args...)` is deprecated. Please use `torch.amp.autocast('cuda', args...)` instead.\n",
            "  with torch.cuda.amp.autocast():\n",
            "<ipython-input-4-6490c8d8cca4>:25: FutureWarning: `torch.cuda.amp.autocast(args...)` is deprecated. Please use `torch.amp.autocast('cuda', args...)` instead.\n",
            "  with torch.cuda.amp.autocast():\n",
            "100%|██████████| 2/2 [00:00<00:00,  5.41it/s, D_fake=0.16, D_real=0.786]\n"
          ]
        },
        {
          "output_type": "stream",
          "name": "stdout",
          "text": [
            "y_true size: (9000,), y_pred size: (9000,)\n",
            "Accuracy: 0.5674, TPR: 1.0000, FPR: 0.8651, TNR: 0.1349, FNR: 0.0000\n",
            "Precision: 0.5362, Recall: 1.0000, F1 Score: 0.6981\n",
            "FID: 557.1817626953125\n",
            "PSNR: 10.1766\n",
            "Epoch 146 - Metrics: Accuracy: 0.5674, TPR: 1.0000, FPR: 0.8651, FID: 557.1818, PSNR: 10.1766\n"
          ]
        },
        {
          "output_type": "stream",
          "name": "stderr",
          "text": [
            "\r  0%|          | 0/2 [00:00<?, ?it/s]<ipython-input-4-6490c8d8cca4>:11: FutureWarning: `torch.cuda.amp.autocast(args...)` is deprecated. Please use `torch.amp.autocast('cuda', args...)` instead.\n",
            "  with torch.cuda.amp.autocast():\n",
            "<ipython-input-4-6490c8d8cca4>:25: FutureWarning: `torch.cuda.amp.autocast(args...)` is deprecated. Please use `torch.amp.autocast('cuda', args...)` instead.\n",
            "  with torch.cuda.amp.autocast():\n",
            "100%|██████████| 2/2 [00:00<00:00,  4.68it/s, D_fake=0.053, D_real=0.943]\n"
          ]
        },
        {
          "output_type": "stream",
          "name": "stdout",
          "text": [
            "y_true size: (9000,), y_pred size: (9000,)\n",
            "Accuracy: 0.5463, TPR: 1.0000, FPR: 0.9073, TNR: 0.0927, FNR: 0.0000\n",
            "Precision: 0.5243, Recall: 1.0000, F1 Score: 0.6879\n",
            "FID: 574.4367065429688\n",
            "PSNR: 10.0576\n",
            "Epoch 147 - Metrics: Accuracy: 0.5463, TPR: 1.0000, FPR: 0.9073, FID: 574.4367, PSNR: 10.0576\n"
          ]
        },
        {
          "output_type": "stream",
          "name": "stderr",
          "text": [
            "\r  0%|          | 0/2 [00:00<?, ?it/s]<ipython-input-4-6490c8d8cca4>:11: FutureWarning: `torch.cuda.amp.autocast(args...)` is deprecated. Please use `torch.amp.autocast('cuda', args...)` instead.\n",
            "  with torch.cuda.amp.autocast():\n",
            "<ipython-input-4-6490c8d8cca4>:25: FutureWarning: `torch.cuda.amp.autocast(args...)` is deprecated. Please use `torch.amp.autocast('cuda', args...)` instead.\n",
            "  with torch.cuda.amp.autocast():\n",
            "100%|██████████| 2/2 [00:00<00:00,  5.34it/s, D_fake=0.0696, D_real=0.95]\n"
          ]
        },
        {
          "output_type": "stream",
          "name": "stdout",
          "text": [
            "y_true size: (9000,), y_pred size: (9000,)\n",
            "Accuracy: 0.5814, TPR: 1.0000, FPR: 0.8371, TNR: 0.1629, FNR: 0.0000\n",
            "Precision: 0.5443, Recall: 1.0000, F1 Score: 0.7049\n",
            "FID: 570.4549560546875\n",
            "PSNR: 10.1984\n",
            "Epoch 148 - Metrics: Accuracy: 0.5814, TPR: 1.0000, FPR: 0.8371, FID: 570.4550, PSNR: 10.1984\n"
          ]
        },
        {
          "output_type": "stream",
          "name": "stderr",
          "text": [
            "\r  0%|          | 0/2 [00:00<?, ?it/s]<ipython-input-4-6490c8d8cca4>:11: FutureWarning: `torch.cuda.amp.autocast(args...)` is deprecated. Please use `torch.amp.autocast('cuda', args...)` instead.\n",
            "  with torch.cuda.amp.autocast():\n",
            "<ipython-input-4-6490c8d8cca4>:25: FutureWarning: `torch.cuda.amp.autocast(args...)` is deprecated. Please use `torch.amp.autocast('cuda', args...)` instead.\n",
            "  with torch.cuda.amp.autocast():\n",
            "100%|██████████| 2/2 [00:00<00:00,  5.29it/s, D_fake=0.0509, D_real=0.969]\n"
          ]
        },
        {
          "output_type": "stream",
          "name": "stdout",
          "text": [
            "y_true size: (9000,), y_pred size: (9000,)\n",
            "Accuracy: 0.4936, TPR: 0.9871, FPR: 1.0000, TNR: 0.0000, FNR: 0.0129\n",
            "Precision: 0.4968, Recall: 0.9871, F1 Score: 0.6609\n",
            "FID: 554.7342529296875\n",
            "PSNR: 10.1735\n",
            "Epoch 149 - Metrics: Accuracy: 0.4936, TPR: 0.9871, FPR: 1.0000, FID: 554.7343, PSNR: 10.1735\n",
            "Saving model at epoch 149\n"
          ]
        },
        {
          "output_type": "stream",
          "name": "stderr",
          "text": [
            "\r  0%|          | 0/2 [00:00<?, ?it/s]<ipython-input-4-6490c8d8cca4>:11: FutureWarning: `torch.cuda.amp.autocast(args...)` is deprecated. Please use `torch.amp.autocast('cuda', args...)` instead.\n",
            "  with torch.cuda.amp.autocast():\n",
            "<ipython-input-4-6490c8d8cca4>:25: FutureWarning: `torch.cuda.amp.autocast(args...)` is deprecated. Please use `torch.amp.autocast('cuda', args...)` instead.\n",
            "  with torch.cuda.amp.autocast():\n",
            "100%|██████████| 2/2 [00:00<00:00,  5.06it/s, D_fake=0.00456, D_real=0.907]\n"
          ]
        },
        {
          "output_type": "stream",
          "name": "stdout",
          "text": [
            "y_true size: (9000,), y_pred size: (9000,)\n",
            "Accuracy: 0.4820, TPR: 0.8162, FPR: 0.8522, TNR: 0.1478, FNR: 0.1838\n",
            "Precision: 0.4892, Recall: 0.8162, F1 Score: 0.6118\n",
            "FID: 516.907470703125\n",
            "PSNR: 10.3807\n",
            "Epoch 150 - Metrics: Accuracy: 0.4820, TPR: 0.8162, FPR: 0.8522, FID: 516.9075, PSNR: 10.3807\n"
          ]
        },
        {
          "output_type": "stream",
          "name": "stderr",
          "text": [
            "\r  0%|          | 0/2 [00:00<?, ?it/s]<ipython-input-4-6490c8d8cca4>:11: FutureWarning: `torch.cuda.amp.autocast(args...)` is deprecated. Please use `torch.amp.autocast('cuda', args...)` instead.\n",
            "  with torch.cuda.amp.autocast():\n",
            "<ipython-input-4-6490c8d8cca4>:25: FutureWarning: `torch.cuda.amp.autocast(args...)` is deprecated. Please use `torch.amp.autocast('cuda', args...)` instead.\n",
            "  with torch.cuda.amp.autocast():\n",
            "100%|██████████| 2/2 [00:00<00:00,  5.54it/s, D_fake=0.0648, D_real=0.877]\n"
          ]
        },
        {
          "output_type": "stream",
          "name": "stdout",
          "text": [
            "y_true size: (9000,), y_pred size: (9000,)\n",
            "Accuracy: 0.2493, TPR: 0.4987, FPR: 1.0000, TNR: 0.0000, FNR: 0.5013\n",
            "Precision: 0.3327, Recall: 0.4987, F1 Score: 0.3991\n",
            "FID: 558.3211669921875\n",
            "PSNR: 10.0252\n",
            "Epoch 151 - Metrics: Accuracy: 0.2493, TPR: 0.4987, FPR: 1.0000, FID: 558.3212, PSNR: 10.0252\n"
          ]
        },
        {
          "output_type": "stream",
          "name": "stderr",
          "text": [
            "\r  0%|          | 0/2 [00:00<?, ?it/s]<ipython-input-4-6490c8d8cca4>:11: FutureWarning: `torch.cuda.amp.autocast(args...)` is deprecated. Please use `torch.amp.autocast('cuda', args...)` instead.\n",
            "  with torch.cuda.amp.autocast():\n",
            "<ipython-input-4-6490c8d8cca4>:25: FutureWarning: `torch.cuda.amp.autocast(args...)` is deprecated. Please use `torch.amp.autocast('cuda', args...)` instead.\n",
            "  with torch.cuda.amp.autocast():\n",
            "100%|██████████| 2/2 [00:00<00:00,  4.83it/s, D_fake=0.135, D_real=0.536]\n"
          ]
        },
        {
          "output_type": "stream",
          "name": "stdout",
          "text": [
            "y_true size: (9000,), y_pred size: (9000,)\n",
            "Accuracy: 0.5117, TPR: 1.0000, FPR: 0.9767, TNR: 0.0233, FNR: 0.0000\n",
            "Precision: 0.5059, Recall: 1.0000, F1 Score: 0.6719\n",
            "FID: 504.8128967285156\n",
            "PSNR: 9.7535\n",
            "Epoch 152 - Metrics: Accuracy: 0.5117, TPR: 1.0000, FPR: 0.9767, FID: 504.8129, PSNR: 9.7535\n"
          ]
        },
        {
          "output_type": "stream",
          "name": "stderr",
          "text": [
            "\r  0%|          | 0/2 [00:00<?, ?it/s]<ipython-input-4-6490c8d8cca4>:11: FutureWarning: `torch.cuda.amp.autocast(args...)` is deprecated. Please use `torch.amp.autocast('cuda', args...)` instead.\n",
            "  with torch.cuda.amp.autocast():\n",
            "<ipython-input-4-6490c8d8cca4>:25: FutureWarning: `torch.cuda.amp.autocast(args...)` is deprecated. Please use `torch.amp.autocast('cuda', args...)` instead.\n",
            "  with torch.cuda.amp.autocast():\n",
            "100%|██████████| 2/2 [00:00<00:00,  5.05it/s, D_fake=0.022, D_real=0.958]\n"
          ]
        },
        {
          "output_type": "stream",
          "name": "stdout",
          "text": [
            "y_true size: (9000,), y_pred size: (9000,)\n",
            "Accuracy: 0.5063, TPR: 1.0000, FPR: 0.9873, TNR: 0.0127, FNR: 0.0000\n",
            "Precision: 0.5032, Recall: 1.0000, F1 Score: 0.6695\n",
            "FID: 601.6367797851562\n",
            "PSNR: 10.2830\n",
            "Epoch 153 - Metrics: Accuracy: 0.5063, TPR: 1.0000, FPR: 0.9873, FID: 601.6368, PSNR: 10.2830\n"
          ]
        },
        {
          "output_type": "stream",
          "name": "stderr",
          "text": [
            "\r  0%|          | 0/2 [00:00<?, ?it/s]<ipython-input-4-6490c8d8cca4>:11: FutureWarning: `torch.cuda.amp.autocast(args...)` is deprecated. Please use `torch.amp.autocast('cuda', args...)` instead.\n",
            "  with torch.cuda.amp.autocast():\n",
            "<ipython-input-4-6490c8d8cca4>:25: FutureWarning: `torch.cuda.amp.autocast(args...)` is deprecated. Please use `torch.amp.autocast('cuda', args...)` instead.\n",
            "  with torch.cuda.amp.autocast():\n",
            "100%|██████████| 2/2 [00:00<00:00,  4.95it/s, D_fake=0.176, D_real=0.916]\n"
          ]
        },
        {
          "output_type": "stream",
          "name": "stdout",
          "text": [
            "y_true size: (9000,), y_pred size: (9000,)\n",
            "Accuracy: 0.5000, TPR: 1.0000, FPR: 1.0000, TNR: 0.0000, FNR: 0.0000\n",
            "Precision: 0.5000, Recall: 1.0000, F1 Score: 0.6667\n",
            "FID: 515.0682983398438\n",
            "PSNR: 10.0039\n",
            "Epoch 154 - Metrics: Accuracy: 0.5000, TPR: 1.0000, FPR: 1.0000, FID: 515.0683, PSNR: 10.0039\n"
          ]
        },
        {
          "output_type": "stream",
          "name": "stderr",
          "text": [
            "\r  0%|          | 0/2 [00:00<?, ?it/s]<ipython-input-4-6490c8d8cca4>:11: FutureWarning: `torch.cuda.amp.autocast(args...)` is deprecated. Please use `torch.amp.autocast('cuda', args...)` instead.\n",
            "  with torch.cuda.amp.autocast():\n",
            "<ipython-input-4-6490c8d8cca4>:25: FutureWarning: `torch.cuda.amp.autocast(args...)` is deprecated. Please use `torch.amp.autocast('cuda', args...)` instead.\n",
            "  with torch.cuda.amp.autocast():\n",
            "100%|██████████| 2/2 [00:00<00:00,  5.26it/s, D_fake=0.0427, D_real=0.928]\n"
          ]
        },
        {
          "output_type": "stream",
          "name": "stdout",
          "text": [
            "y_true size: (9000,), y_pred size: (9000,)\n",
            "Accuracy: 0.5419, TPR: 1.0000, FPR: 0.9162, TNR: 0.0838, FNR: 0.0000\n",
            "Precision: 0.5219, Recall: 1.0000, F1 Score: 0.6858\n",
            "FID: 592.5132446289062\n",
            "PSNR: 10.1017\n",
            "Epoch 155 - Metrics: Accuracy: 0.5419, TPR: 1.0000, FPR: 0.9162, FID: 592.5132, PSNR: 10.1017\n"
          ]
        },
        {
          "output_type": "stream",
          "name": "stderr",
          "text": [
            "\r  0%|          | 0/2 [00:00<?, ?it/s]<ipython-input-4-6490c8d8cca4>:11: FutureWarning: `torch.cuda.amp.autocast(args...)` is deprecated. Please use `torch.amp.autocast('cuda', args...)` instead.\n",
            "  with torch.cuda.amp.autocast():\n",
            "<ipython-input-4-6490c8d8cca4>:25: FutureWarning: `torch.cuda.amp.autocast(args...)` is deprecated. Please use `torch.amp.autocast('cuda', args...)` instead.\n",
            "  with torch.cuda.amp.autocast():\n",
            "100%|██████████| 2/2 [00:00<00:00,  4.91it/s, D_fake=0.0517, D_real=0.973]\n"
          ]
        },
        {
          "output_type": "stream",
          "name": "stdout",
          "text": [
            "y_true size: (9000,), y_pred size: (9000,)\n",
            "Accuracy: 0.4970, TPR: 0.9940, FPR: 1.0000, TNR: 0.0000, FNR: 0.0060\n",
            "Precision: 0.4985, Recall: 0.9940, F1 Score: 0.6640\n",
            "FID: 604.7311401367188\n",
            "PSNR: 10.1185\n",
            "Epoch 156 - Metrics: Accuracy: 0.4970, TPR: 0.9940, FPR: 1.0000, FID: 604.7311, PSNR: 10.1185\n"
          ]
        },
        {
          "output_type": "stream",
          "name": "stderr",
          "text": [
            "\r  0%|          | 0/2 [00:00<?, ?it/s]<ipython-input-4-6490c8d8cca4>:11: FutureWarning: `torch.cuda.amp.autocast(args...)` is deprecated. Please use `torch.amp.autocast('cuda', args...)` instead.\n",
            "  with torch.cuda.amp.autocast():\n",
            "<ipython-input-4-6490c8d8cca4>:25: FutureWarning: `torch.cuda.amp.autocast(args...)` is deprecated. Please use `torch.amp.autocast('cuda', args...)` instead.\n",
            "  with torch.cuda.amp.autocast():\n",
            "100%|██████████| 2/2 [00:00<00:00,  5.10it/s, D_fake=0.144, D_real=0.88]\n"
          ]
        },
        {
          "output_type": "stream",
          "name": "stdout",
          "text": [
            "y_true size: (9000,), y_pred size: (9000,)\n",
            "Accuracy: 0.5048, TPR: 1.0000, FPR: 0.9904, TNR: 0.0096, FNR: 0.0000\n",
            "Precision: 0.5024, Recall: 1.0000, F1 Score: 0.6688\n",
            "FID: 597.2512817382812\n",
            "PSNR: 10.1248\n",
            "Epoch 157 - Metrics: Accuracy: 0.5048, TPR: 1.0000, FPR: 0.9904, FID: 597.2513, PSNR: 10.1248\n"
          ]
        },
        {
          "output_type": "stream",
          "name": "stderr",
          "text": [
            "\r  0%|          | 0/2 [00:00<?, ?it/s]<ipython-input-4-6490c8d8cca4>:11: FutureWarning: `torch.cuda.amp.autocast(args...)` is deprecated. Please use `torch.amp.autocast('cuda', args...)` instead.\n",
            "  with torch.cuda.amp.autocast():\n",
            "<ipython-input-4-6490c8d8cca4>:25: FutureWarning: `torch.cuda.amp.autocast(args...)` is deprecated. Please use `torch.amp.autocast('cuda', args...)` instead.\n",
            "  with torch.cuda.amp.autocast():\n",
            "100%|██████████| 2/2 [00:00<00:00,  5.53it/s, D_fake=0.0402, D_real=0.969]\n"
          ]
        },
        {
          "output_type": "stream",
          "name": "stdout",
          "text": [
            "y_true size: (9000,), y_pred size: (9000,)\n",
            "Accuracy: 0.5002, TPR: 1.0000, FPR: 0.9996, TNR: 0.0004, FNR: 0.0000\n",
            "Precision: 0.5001, Recall: 1.0000, F1 Score: 0.6668\n",
            "FID: 583.5958251953125\n",
            "PSNR: 10.0919\n",
            "Epoch 158 - Metrics: Accuracy: 0.5002, TPR: 1.0000, FPR: 0.9996, FID: 583.5958, PSNR: 10.0919\n"
          ]
        },
        {
          "output_type": "stream",
          "name": "stderr",
          "text": [
            "\r  0%|          | 0/2 [00:00<?, ?it/s]<ipython-input-4-6490c8d8cca4>:11: FutureWarning: `torch.cuda.amp.autocast(args...)` is deprecated. Please use `torch.amp.autocast('cuda', args...)` instead.\n",
            "  with torch.cuda.amp.autocast():\n",
            "<ipython-input-4-6490c8d8cca4>:25: FutureWarning: `torch.cuda.amp.autocast(args...)` is deprecated. Please use `torch.amp.autocast('cuda', args...)` instead.\n",
            "  with torch.cuda.amp.autocast():\n",
            "100%|██████████| 2/2 [00:00<00:00,  4.64it/s, D_fake=0.0728, D_real=0.956]\n"
          ]
        },
        {
          "output_type": "stream",
          "name": "stdout",
          "text": [
            "y_true size: (9000,), y_pred size: (9000,)\n",
            "Accuracy: 0.5106, TPR: 1.0000, FPR: 0.9789, TNR: 0.0211, FNR: 0.0000\n",
            "Precision: 0.5053, Recall: 1.0000, F1 Score: 0.6714\n",
            "FID: 609.1849365234375\n",
            "PSNR: 9.9544\n",
            "Epoch 159 - Metrics: Accuracy: 0.5106, TPR: 1.0000, FPR: 0.9789, FID: 609.1849, PSNR: 9.9544\n"
          ]
        },
        {
          "output_type": "stream",
          "name": "stderr",
          "text": [
            "\r  0%|          | 0/2 [00:00<?, ?it/s]<ipython-input-4-6490c8d8cca4>:11: FutureWarning: `torch.cuda.amp.autocast(args...)` is deprecated. Please use `torch.amp.autocast('cuda', args...)` instead.\n",
            "  with torch.cuda.amp.autocast():\n",
            "<ipython-input-4-6490c8d8cca4>:25: FutureWarning: `torch.cuda.amp.autocast(args...)` is deprecated. Please use `torch.amp.autocast('cuda', args...)` instead.\n",
            "  with torch.cuda.amp.autocast():\n",
            "100%|██████████| 2/2 [00:00<00:00,  5.22it/s, D_fake=0.0267, D_real=0.974]\n"
          ]
        },
        {
          "output_type": "stream",
          "name": "stdout",
          "text": [
            "y_true size: (9000,), y_pred size: (9000,)\n",
            "Accuracy: 0.5000, TPR: 1.0000, FPR: 1.0000, TNR: 0.0000, FNR: 0.0000\n",
            "Precision: 0.5000, Recall: 1.0000, F1 Score: 0.6667\n",
            "FID: 511.9058837890625\n",
            "PSNR: 10.0464\n",
            "Epoch 160 - Metrics: Accuracy: 0.5000, TPR: 1.0000, FPR: 1.0000, FID: 511.9059, PSNR: 10.0464\n"
          ]
        },
        {
          "output_type": "stream",
          "name": "stderr",
          "text": [
            "\r  0%|          | 0/2 [00:00<?, ?it/s]<ipython-input-4-6490c8d8cca4>:11: FutureWarning: `torch.cuda.amp.autocast(args...)` is deprecated. Please use `torch.amp.autocast('cuda', args...)` instead.\n",
            "  with torch.cuda.amp.autocast():\n",
            "<ipython-input-4-6490c8d8cca4>:25: FutureWarning: `torch.cuda.amp.autocast(args...)` is deprecated. Please use `torch.amp.autocast('cuda', args...)` instead.\n",
            "  with torch.cuda.amp.autocast():\n",
            "100%|██████████| 2/2 [00:00<00:00,  4.97it/s, D_fake=0.119, D_real=0.941]\n"
          ]
        },
        {
          "output_type": "stream",
          "name": "stdout",
          "text": [
            "y_true size: (9000,), y_pred size: (9000,)\n",
            "Accuracy: 0.3609, TPR: 0.7218, FPR: 1.0000, TNR: 0.0000, FNR: 0.2782\n",
            "Precision: 0.4192, Recall: 0.7218, F1 Score: 0.5304\n",
            "FID: 620.4564819335938\n",
            "PSNR: 9.6269\n",
            "Epoch 161 - Metrics: Accuracy: 0.3609, TPR: 0.7218, FPR: 1.0000, FID: 620.4565, PSNR: 9.6269\n"
          ]
        },
        {
          "output_type": "stream",
          "name": "stderr",
          "text": [
            "\r  0%|          | 0/2 [00:00<?, ?it/s]<ipython-input-4-6490c8d8cca4>:11: FutureWarning: `torch.cuda.amp.autocast(args...)` is deprecated. Please use `torch.amp.autocast('cuda', args...)` instead.\n",
            "  with torch.cuda.amp.autocast():\n",
            "<ipython-input-4-6490c8d8cca4>:25: FutureWarning: `torch.cuda.amp.autocast(args...)` is deprecated. Please use `torch.amp.autocast('cuda', args...)` instead.\n",
            "  with torch.cuda.amp.autocast():\n",
            "100%|██████████| 2/2 [00:00<00:00,  5.42it/s, D_fake=0.967, D_real=0.602]\n"
          ]
        },
        {
          "output_type": "stream",
          "name": "stdout",
          "text": [
            "y_true size: (9000,), y_pred size: (9000,)\n",
            "Accuracy: 0.0160, TPR: 0.0320, FPR: 1.0000, TNR: 0.0000, FNR: 0.9680\n",
            "Precision: 0.0310, Recall: 0.0320, F1 Score: 0.0315\n",
            "FID: 574.14794921875\n",
            "PSNR: 10.1705\n",
            "Epoch 162 - Metrics: Accuracy: 0.0160, TPR: 0.0320, FPR: 1.0000, FID: 574.1479, PSNR: 10.1705\n"
          ]
        },
        {
          "output_type": "stream",
          "name": "stderr",
          "text": [
            "\r  0%|          | 0/2 [00:00<?, ?it/s]<ipython-input-4-6490c8d8cca4>:11: FutureWarning: `torch.cuda.amp.autocast(args...)` is deprecated. Please use `torch.amp.autocast('cuda', args...)` instead.\n",
            "  with torch.cuda.amp.autocast():\n",
            "<ipython-input-4-6490c8d8cca4>:25: FutureWarning: `torch.cuda.amp.autocast(args...)` is deprecated. Please use `torch.amp.autocast('cuda', args...)` instead.\n",
            "  with torch.cuda.amp.autocast():\n",
            "100%|██████████| 2/2 [00:00<00:00,  5.27it/s, D_fake=0.00483, D_real=0.0887]\n"
          ]
        },
        {
          "output_type": "stream",
          "name": "stdout",
          "text": [
            "y_true size: (9000,), y_pred size: (9000,)\n",
            "Accuracy: 0.5484, TPR: 0.9920, FPR: 0.8951, TNR: 0.1049, FNR: 0.0080\n",
            "Precision: 0.5257, Recall: 0.9920, F1 Score: 0.6872\n",
            "FID: 521.1188354492188\n",
            "PSNR: 10.4164\n",
            "Epoch 163 - Metrics: Accuracy: 0.5484, TPR: 0.9920, FPR: 0.8951, FID: 521.1188, PSNR: 10.4164\n"
          ]
        },
        {
          "output_type": "stream",
          "name": "stderr",
          "text": [
            "\r  0%|          | 0/2 [00:00<?, ?it/s]<ipython-input-4-6490c8d8cca4>:11: FutureWarning: `torch.cuda.amp.autocast(args...)` is deprecated. Please use `torch.amp.autocast('cuda', args...)` instead.\n",
            "  with torch.cuda.amp.autocast():\n",
            "<ipython-input-4-6490c8d8cca4>:25: FutureWarning: `torch.cuda.amp.autocast(args...)` is deprecated. Please use `torch.amp.autocast('cuda', args...)` instead.\n",
            "  with torch.cuda.amp.autocast():\n",
            "100%|██████████| 2/2 [00:00<00:00,  4.68it/s, D_fake=0.359, D_real=0.906]\n"
          ]
        },
        {
          "output_type": "stream",
          "name": "stdout",
          "text": [
            "y_true size: (9000,), y_pred size: (9000,)\n",
            "Accuracy: 0.5234, TPR: 0.9938, FPR: 0.9469, TNR: 0.0531, FNR: 0.0062\n",
            "Precision: 0.5121, Recall: 0.9938, F1 Score: 0.6759\n",
            "FID: 466.7989501953125\n",
            "PSNR: 10.3442\n",
            "Epoch 164 - Metrics: Accuracy: 0.5234, TPR: 0.9938, FPR: 0.9469, FID: 466.7990, PSNR: 10.3442\n"
          ]
        },
        {
          "output_type": "stream",
          "name": "stderr",
          "text": [
            "\r  0%|          | 0/2 [00:00<?, ?it/s]<ipython-input-4-6490c8d8cca4>:11: FutureWarning: `torch.cuda.amp.autocast(args...)` is deprecated. Please use `torch.amp.autocast('cuda', args...)` instead.\n",
            "  with torch.cuda.amp.autocast():\n",
            "<ipython-input-4-6490c8d8cca4>:25: FutureWarning: `torch.cuda.amp.autocast(args...)` is deprecated. Please use `torch.amp.autocast('cuda', args...)` instead.\n",
            "  with torch.cuda.amp.autocast():\n",
            "100%|██████████| 2/2 [00:00<00:00,  5.38it/s, D_fake=0.0651, D_real=0.892]\n"
          ]
        },
        {
          "output_type": "stream",
          "name": "stdout",
          "text": [
            "y_true size: (9000,), y_pred size: (9000,)\n",
            "Accuracy: 0.4768, TPR: 0.9536, FPR: 1.0000, TNR: 0.0000, FNR: 0.0464\n",
            "Precision: 0.4881, Recall: 0.9536, F1 Score: 0.6457\n",
            "FID: 481.81744384765625\n",
            "PSNR: 10.6158\n",
            "Epoch 165 - Metrics: Accuracy: 0.4768, TPR: 0.9536, FPR: 1.0000, FID: 481.8174, PSNR: 10.6158\n"
          ]
        },
        {
          "output_type": "stream",
          "name": "stderr",
          "text": [
            "\r  0%|          | 0/2 [00:00<?, ?it/s]<ipython-input-4-6490c8d8cca4>:11: FutureWarning: `torch.cuda.amp.autocast(args...)` is deprecated. Please use `torch.amp.autocast('cuda', args...)` instead.\n",
            "  with torch.cuda.amp.autocast():\n",
            "<ipython-input-4-6490c8d8cca4>:25: FutureWarning: `torch.cuda.amp.autocast(args...)` is deprecated. Please use `torch.amp.autocast('cuda', args...)` instead.\n",
            "  with torch.cuda.amp.autocast():\n",
            "100%|██████████| 2/2 [00:00<00:00,  5.19it/s, D_fake=0.0864, D_real=0.826]\n"
          ]
        },
        {
          "output_type": "stream",
          "name": "stdout",
          "text": [
            "y_true size: (9000,), y_pred size: (9000,)\n",
            "Accuracy: 0.5099, TPR: 1.0000, FPR: 0.9802, TNR: 0.0198, FNR: 0.0000\n",
            "Precision: 0.5050, Recall: 1.0000, F1 Score: 0.6711\n",
            "FID: 500.3020935058594\n",
            "PSNR: 10.5628\n",
            "Epoch 166 - Metrics: Accuracy: 0.5099, TPR: 1.0000, FPR: 0.9802, FID: 500.3021, PSNR: 10.5628\n"
          ]
        },
        {
          "output_type": "stream",
          "name": "stderr",
          "text": [
            "\r  0%|          | 0/2 [00:00<?, ?it/s]<ipython-input-4-6490c8d8cca4>:11: FutureWarning: `torch.cuda.amp.autocast(args...)` is deprecated. Please use `torch.amp.autocast('cuda', args...)` instead.\n",
            "  with torch.cuda.amp.autocast():\n",
            "<ipython-input-4-6490c8d8cca4>:25: FutureWarning: `torch.cuda.amp.autocast(args...)` is deprecated. Please use `torch.amp.autocast('cuda', args...)` instead.\n",
            "  with torch.cuda.amp.autocast():\n",
            "100%|██████████| 2/2 [00:00<00:00,  5.25it/s, D_fake=0.157, D_real=0.908]\n"
          ]
        },
        {
          "output_type": "stream",
          "name": "stdout",
          "text": [
            "y_true size: (9000,), y_pred size: (9000,)\n",
            "Accuracy: 0.5299, TPR: 1.0000, FPR: 0.9402, TNR: 0.0598, FNR: 0.0000\n",
            "Precision: 0.5154, Recall: 1.0000, F1 Score: 0.6802\n",
            "FID: 507.1488952636719\n",
            "PSNR: 10.4820\n",
            "Epoch 167 - Metrics: Accuracy: 0.5299, TPR: 1.0000, FPR: 0.9402, FID: 507.1489, PSNR: 10.4820\n"
          ]
        },
        {
          "output_type": "stream",
          "name": "stderr",
          "text": [
            "\r  0%|          | 0/2 [00:00<?, ?it/s]<ipython-input-4-6490c8d8cca4>:11: FutureWarning: `torch.cuda.amp.autocast(args...)` is deprecated. Please use `torch.amp.autocast('cuda', args...)` instead.\n",
            "  with torch.cuda.amp.autocast():\n",
            "<ipython-input-4-6490c8d8cca4>:25: FutureWarning: `torch.cuda.amp.autocast(args...)` is deprecated. Please use `torch.amp.autocast('cuda', args...)` instead.\n",
            "  with torch.cuda.amp.autocast():\n",
            "100%|██████████| 2/2 [00:00<00:00,  5.12it/s, D_fake=0.119, D_real=0.931]\n"
          ]
        },
        {
          "output_type": "stream",
          "name": "stdout",
          "text": [
            "y_true size: (9000,), y_pred size: (9000,)\n",
            "Accuracy: 0.5207, TPR: 0.9922, FPR: 0.9509, TNR: 0.0491, FNR: 0.0078\n",
            "Precision: 0.5106, Recall: 0.9922, F1 Score: 0.6743\n",
            "FID: 560.110595703125\n",
            "PSNR: 10.3641\n",
            "Epoch 168 - Metrics: Accuracy: 0.5207, TPR: 0.9922, FPR: 0.9509, FID: 560.1106, PSNR: 10.3641\n"
          ]
        },
        {
          "output_type": "stream",
          "name": "stderr",
          "text": [
            "\r  0%|          | 0/2 [00:00<?, ?it/s]<ipython-input-4-6490c8d8cca4>:11: FutureWarning: `torch.cuda.amp.autocast(args...)` is deprecated. Please use `torch.amp.autocast('cuda', args...)` instead.\n",
            "  with torch.cuda.amp.autocast():\n",
            "<ipython-input-4-6490c8d8cca4>:25: FutureWarning: `torch.cuda.amp.autocast(args...)` is deprecated. Please use `torch.amp.autocast('cuda', args...)` instead.\n",
            "  with torch.cuda.amp.autocast():\n",
            "100%|██████████| 2/2 [00:00<00:00,  4.83it/s, D_fake=0.102, D_real=0.896]\n"
          ]
        },
        {
          "output_type": "stream",
          "name": "stdout",
          "text": [
            "y_true size: (9000,), y_pred size: (9000,)\n",
            "Accuracy: 0.4958, TPR: 0.9916, FPR: 1.0000, TNR: 0.0000, FNR: 0.0084\n",
            "Precision: 0.4979, Recall: 0.9916, F1 Score: 0.6629\n",
            "FID: 556.939697265625\n",
            "PSNR: 10.2179\n",
            "Epoch 169 - Metrics: Accuracy: 0.4958, TPR: 0.9916, FPR: 1.0000, FID: 556.9397, PSNR: 10.2179\n"
          ]
        },
        {
          "output_type": "stream",
          "name": "stderr",
          "text": [
            "\r  0%|          | 0/2 [00:00<?, ?it/s]<ipython-input-4-6490c8d8cca4>:11: FutureWarning: `torch.cuda.amp.autocast(args...)` is deprecated. Please use `torch.amp.autocast('cuda', args...)` instead.\n",
            "  with torch.cuda.amp.autocast():\n",
            "<ipython-input-4-6490c8d8cca4>:25: FutureWarning: `torch.cuda.amp.autocast(args...)` is deprecated. Please use `torch.amp.autocast('cuda', args...)` instead.\n",
            "  with torch.cuda.amp.autocast():\n",
            "100%|██████████| 2/2 [00:00<00:00,  5.57it/s, D_fake=0.0869, D_real=0.918]\n"
          ]
        },
        {
          "output_type": "stream",
          "name": "stdout",
          "text": [
            "y_true size: (9000,), y_pred size: (9000,)\n",
            "Accuracy: 0.5026, TPR: 1.0000, FPR: 0.9949, TNR: 0.0051, FNR: 0.0000\n",
            "Precision: 0.5013, Recall: 1.0000, F1 Score: 0.6678\n",
            "FID: 526.2870483398438\n",
            "PSNR: 10.3433\n",
            "Epoch 170 - Metrics: Accuracy: 0.5026, TPR: 1.0000, FPR: 0.9949, FID: 526.2870, PSNR: 10.3433\n"
          ]
        },
        {
          "output_type": "stream",
          "name": "stderr",
          "text": [
            "\r  0%|          | 0/2 [00:00<?, ?it/s]<ipython-input-4-6490c8d8cca4>:11: FutureWarning: `torch.cuda.amp.autocast(args...)` is deprecated. Please use `torch.amp.autocast('cuda', args...)` instead.\n",
            "  with torch.cuda.amp.autocast():\n",
            "<ipython-input-4-6490c8d8cca4>:25: FutureWarning: `torch.cuda.amp.autocast(args...)` is deprecated. Please use `torch.amp.autocast('cuda', args...)` instead.\n",
            "  with torch.cuda.amp.autocast():\n",
            "100%|██████████| 2/2 [00:00<00:00,  4.96it/s, D_fake=0.0952, D_real=0.959]\n"
          ]
        },
        {
          "output_type": "stream",
          "name": "stdout",
          "text": [
            "y_true size: (9000,), y_pred size: (9000,)\n",
            "Accuracy: 0.5113, TPR: 1.0000, FPR: 0.9773, TNR: 0.0227, FNR: 0.0000\n",
            "Precision: 0.5057, Recall: 1.0000, F1 Score: 0.6717\n",
            "FID: 539.30029296875\n",
            "PSNR: 10.3141\n",
            "Epoch 171 - Metrics: Accuracy: 0.5113, TPR: 1.0000, FPR: 0.9773, FID: 539.3003, PSNR: 10.3141\n"
          ]
        },
        {
          "output_type": "stream",
          "name": "stderr",
          "text": [
            "\r  0%|          | 0/2 [00:00<?, ?it/s]<ipython-input-4-6490c8d8cca4>:11: FutureWarning: `torch.cuda.amp.autocast(args...)` is deprecated. Please use `torch.amp.autocast('cuda', args...)` instead.\n",
            "  with torch.cuda.amp.autocast():\n",
            "<ipython-input-4-6490c8d8cca4>:25: FutureWarning: `torch.cuda.amp.autocast(args...)` is deprecated. Please use `torch.amp.autocast('cuda', args...)` instead.\n",
            "  with torch.cuda.amp.autocast():\n",
            "100%|██████████| 2/2 [00:00<00:00,  5.04it/s, D_fake=0.0812, D_real=0.953]\n"
          ]
        },
        {
          "output_type": "stream",
          "name": "stdout",
          "text": [
            "y_true size: (9000,), y_pred size: (9000,)\n",
            "Accuracy: 0.4989, TPR: 0.9978, FPR: 1.0000, TNR: 0.0000, FNR: 0.0022\n",
            "Precision: 0.4994, Recall: 0.9978, F1 Score: 0.6657\n",
            "FID: 521.5064086914062\n",
            "PSNR: 10.2946\n",
            "Epoch 172 - Metrics: Accuracy: 0.4989, TPR: 0.9978, FPR: 1.0000, FID: 521.5064, PSNR: 10.2946\n"
          ]
        },
        {
          "output_type": "stream",
          "name": "stderr",
          "text": [
            "\r  0%|          | 0/2 [00:00<?, ?it/s]<ipython-input-4-6490c8d8cca4>:11: FutureWarning: `torch.cuda.amp.autocast(args...)` is deprecated. Please use `torch.amp.autocast('cuda', args...)` instead.\n",
            "  with torch.cuda.amp.autocast():\n",
            "<ipython-input-4-6490c8d8cca4>:25: FutureWarning: `torch.cuda.amp.autocast(args...)` is deprecated. Please use `torch.amp.autocast('cuda', args...)` instead.\n",
            "  with torch.cuda.amp.autocast():\n",
            "100%|██████████| 2/2 [00:00<00:00,  4.74it/s, D_fake=0.054, D_real=0.933]\n"
          ]
        },
        {
          "output_type": "stream",
          "name": "stdout",
          "text": [
            "y_true size: (9000,), y_pred size: (9000,)\n",
            "Accuracy: 0.5113, TPR: 1.0000, FPR: 0.9773, TNR: 0.0227, FNR: 0.0000\n",
            "Precision: 0.5057, Recall: 1.0000, F1 Score: 0.6717\n",
            "FID: 581.2869262695312\n",
            "PSNR: 10.2839\n",
            "Epoch 173 - Metrics: Accuracy: 0.5113, TPR: 1.0000, FPR: 0.9773, FID: 581.2869, PSNR: 10.2839\n"
          ]
        },
        {
          "output_type": "stream",
          "name": "stderr",
          "text": [
            "\r  0%|          | 0/2 [00:00<?, ?it/s]<ipython-input-4-6490c8d8cca4>:11: FutureWarning: `torch.cuda.amp.autocast(args...)` is deprecated. Please use `torch.amp.autocast('cuda', args...)` instead.\n",
            "  with torch.cuda.amp.autocast():\n",
            "<ipython-input-4-6490c8d8cca4>:25: FutureWarning: `torch.cuda.amp.autocast(args...)` is deprecated. Please use `torch.amp.autocast('cuda', args...)` instead.\n",
            "  with torch.cuda.amp.autocast():\n",
            "100%|██████████| 2/2 [00:00<00:00,  4.96it/s, D_fake=0.0886, D_real=0.945]\n"
          ]
        },
        {
          "output_type": "stream",
          "name": "stdout",
          "text": [
            "y_true size: (9000,), y_pred size: (9000,)\n",
            "Accuracy: 0.4998, TPR: 0.9996, FPR: 1.0000, TNR: 0.0000, FNR: 0.0004\n",
            "Precision: 0.4999, Recall: 0.9996, F1 Score: 0.6665\n",
            "FID: 480.8191223144531\n",
            "PSNR: 9.8722\n",
            "Epoch 174 - Metrics: Accuracy: 0.4998, TPR: 0.9996, FPR: 1.0000, FID: 480.8191, PSNR: 9.8722\n"
          ]
        },
        {
          "output_type": "stream",
          "name": "stderr",
          "text": [
            "\r  0%|          | 0/2 [00:00<?, ?it/s]<ipython-input-4-6490c8d8cca4>:11: FutureWarning: `torch.cuda.amp.autocast(args...)` is deprecated. Please use `torch.amp.autocast('cuda', args...)` instead.\n",
            "  with torch.cuda.amp.autocast():\n",
            "<ipython-input-4-6490c8d8cca4>:25: FutureWarning: `torch.cuda.amp.autocast(args...)` is deprecated. Please use `torch.amp.autocast('cuda', args...)` instead.\n",
            "  with torch.cuda.amp.autocast():\n",
            "100%|██████████| 2/2 [00:00<00:00,  5.05it/s, D_fake=0.0318, D_real=0.935]\n"
          ]
        },
        {
          "output_type": "stream",
          "name": "stdout",
          "text": [
            "y_true size: (9000,), y_pred size: (9000,)\n",
            "Accuracy: 0.5000, TPR: 1.0000, FPR: 1.0000, TNR: 0.0000, FNR: 0.0000\n",
            "Precision: 0.5000, Recall: 1.0000, F1 Score: 0.6667\n",
            "FID: 510.8105163574219\n",
            "PSNR: 9.9615\n",
            "Epoch 175 - Metrics: Accuracy: 0.5000, TPR: 1.0000, FPR: 1.0000, FID: 510.8105, PSNR: 9.9615\n"
          ]
        },
        {
          "output_type": "stream",
          "name": "stderr",
          "text": [
            "\r  0%|          | 0/2 [00:00<?, ?it/s]<ipython-input-4-6490c8d8cca4>:11: FutureWarning: `torch.cuda.amp.autocast(args...)` is deprecated. Please use `torch.amp.autocast('cuda', args...)` instead.\n",
            "  with torch.cuda.amp.autocast():\n",
            "<ipython-input-4-6490c8d8cca4>:25: FutureWarning: `torch.cuda.amp.autocast(args...)` is deprecated. Please use `torch.amp.autocast('cuda', args...)` instead.\n",
            "  with torch.cuda.amp.autocast():\n",
            "100%|██████████| 2/2 [00:00<00:00,  5.52it/s, D_fake=0.0346, D_real=0.941]\n"
          ]
        },
        {
          "output_type": "stream",
          "name": "stdout",
          "text": [
            "y_true size: (9000,), y_pred size: (9000,)\n",
            "Accuracy: 0.5000, TPR: 1.0000, FPR: 1.0000, TNR: 0.0000, FNR: 0.0000\n",
            "Precision: 0.5000, Recall: 1.0000, F1 Score: 0.6667\n",
            "FID: 514.4993286132812\n",
            "PSNR: 10.3947\n",
            "Epoch 176 - Metrics: Accuracy: 0.5000, TPR: 1.0000, FPR: 1.0000, FID: 514.4993, PSNR: 10.3947\n"
          ]
        },
        {
          "output_type": "stream",
          "name": "stderr",
          "text": [
            "\r  0%|          | 0/2 [00:00<?, ?it/s]<ipython-input-4-6490c8d8cca4>:11: FutureWarning: `torch.cuda.amp.autocast(args...)` is deprecated. Please use `torch.amp.autocast('cuda', args...)` instead.\n",
            "  with torch.cuda.amp.autocast():\n",
            "<ipython-input-4-6490c8d8cca4>:25: FutureWarning: `torch.cuda.amp.autocast(args...)` is deprecated. Please use `torch.amp.autocast('cuda', args...)` instead.\n",
            "  with torch.cuda.amp.autocast():\n",
            "100%|██████████| 2/2 [00:00<00:00,  5.52it/s, D_fake=0.0313, D_real=0.967]\n"
          ]
        },
        {
          "output_type": "stream",
          "name": "stdout",
          "text": [
            "y_true size: (9000,), y_pred size: (9000,)\n",
            "Accuracy: 0.5000, TPR: 1.0000, FPR: 1.0000, TNR: 0.0000, FNR: 0.0000\n",
            "Precision: 0.5000, Recall: 1.0000, F1 Score: 0.6667\n",
            "FID: 544.7234497070312\n",
            "PSNR: 10.2551\n",
            "Epoch 177 - Metrics: Accuracy: 0.5000, TPR: 1.0000, FPR: 1.0000, FID: 544.7234, PSNR: 10.2551\n"
          ]
        },
        {
          "output_type": "stream",
          "name": "stderr",
          "text": [
            "\r  0%|          | 0/2 [00:00<?, ?it/s]<ipython-input-4-6490c8d8cca4>:11: FutureWarning: `torch.cuda.amp.autocast(args...)` is deprecated. Please use `torch.amp.autocast('cuda', args...)` instead.\n",
            "  with torch.cuda.amp.autocast():\n",
            "<ipython-input-4-6490c8d8cca4>:25: FutureWarning: `torch.cuda.amp.autocast(args...)` is deprecated. Please use `torch.amp.autocast('cuda', args...)` instead.\n",
            "  with torch.cuda.amp.autocast():\n",
            "100%|██████████| 2/2 [00:00<00:00,  5.20it/s, D_fake=0.0354, D_real=0.978]\n"
          ]
        },
        {
          "output_type": "stream",
          "name": "stdout",
          "text": [
            "y_true size: (9000,), y_pred size: (9000,)\n",
            "Accuracy: 0.5000, TPR: 1.0000, FPR: 1.0000, TNR: 0.0000, FNR: 0.0000\n",
            "Precision: 0.5000, Recall: 1.0000, F1 Score: 0.6667\n",
            "FID: 522.5730590820312\n",
            "PSNR: 10.1377\n",
            "Epoch 178 - Metrics: Accuracy: 0.5000, TPR: 1.0000, FPR: 1.0000, FID: 522.5731, PSNR: 10.1377\n"
          ]
        },
        {
          "output_type": "stream",
          "name": "stderr",
          "text": [
            "\r  0%|          | 0/2 [00:00<?, ?it/s]<ipython-input-4-6490c8d8cca4>:11: FutureWarning: `torch.cuda.amp.autocast(args...)` is deprecated. Please use `torch.amp.autocast('cuda', args...)` instead.\n",
            "  with torch.cuda.amp.autocast():\n",
            "<ipython-input-4-6490c8d8cca4>:25: FutureWarning: `torch.cuda.amp.autocast(args...)` is deprecated. Please use `torch.amp.autocast('cuda', args...)` instead.\n",
            "  with torch.cuda.amp.autocast():\n",
            "100%|██████████| 2/2 [00:00<00:00,  5.26it/s, D_fake=0.0407, D_real=0.972]\n"
          ]
        },
        {
          "output_type": "stream",
          "name": "stdout",
          "text": [
            "y_true size: (9000,), y_pred size: (9000,)\n",
            "Accuracy: 0.5000, TPR: 1.0000, FPR: 1.0000, TNR: 0.0000, FNR: 0.0000\n",
            "Precision: 0.5000, Recall: 1.0000, F1 Score: 0.6667\n",
            "FID: 567.8770751953125\n",
            "PSNR: 10.1086\n",
            "Epoch 179 - Metrics: Accuracy: 0.5000, TPR: 1.0000, FPR: 1.0000, FID: 567.8771, PSNR: 10.1086\n"
          ]
        },
        {
          "output_type": "stream",
          "name": "stderr",
          "text": [
            "\r  0%|          | 0/2 [00:00<?, ?it/s]<ipython-input-4-6490c8d8cca4>:11: FutureWarning: `torch.cuda.amp.autocast(args...)` is deprecated. Please use `torch.amp.autocast('cuda', args...)` instead.\n",
            "  with torch.cuda.amp.autocast():\n",
            "<ipython-input-4-6490c8d8cca4>:25: FutureWarning: `torch.cuda.amp.autocast(args...)` is deprecated. Please use `torch.amp.autocast('cuda', args...)` instead.\n",
            "  with torch.cuda.amp.autocast():\n",
            "100%|██████████| 2/2 [00:00<00:00,  5.32it/s, D_fake=0.0294, D_real=0.971]\n"
          ]
        },
        {
          "output_type": "stream",
          "name": "stdout",
          "text": [
            "y_true size: (9000,), y_pred size: (9000,)\n",
            "Accuracy: 0.5000, TPR: 1.0000, FPR: 1.0000, TNR: 0.0000, FNR: 0.0000\n",
            "Precision: 0.5000, Recall: 1.0000, F1 Score: 0.6667\n",
            "FID: 492.0014343261719\n",
            "PSNR: 9.5744\n",
            "Epoch 180 - Metrics: Accuracy: 0.5000, TPR: 1.0000, FPR: 1.0000, FID: 492.0014, PSNR: 9.5744\n"
          ]
        },
        {
          "output_type": "stream",
          "name": "stderr",
          "text": [
            "\r  0%|          | 0/2 [00:00<?, ?it/s]<ipython-input-4-6490c8d8cca4>:11: FutureWarning: `torch.cuda.amp.autocast(args...)` is deprecated. Please use `torch.amp.autocast('cuda', args...)` instead.\n",
            "  with torch.cuda.amp.autocast():\n",
            "<ipython-input-4-6490c8d8cca4>:25: FutureWarning: `torch.cuda.amp.autocast(args...)` is deprecated. Please use `torch.amp.autocast('cuda', args...)` instead.\n",
            "  with torch.cuda.amp.autocast():\n",
            "100%|██████████| 2/2 [00:00<00:00,  4.64it/s, D_fake=0.0207, D_real=0.972]\n"
          ]
        },
        {
          "output_type": "stream",
          "name": "stdout",
          "text": [
            "y_true size: (9000,), y_pred size: (9000,)\n",
            "Accuracy: 0.5000, TPR: 1.0000, FPR: 1.0000, TNR: 0.0000, FNR: 0.0000\n",
            "Precision: 0.5000, Recall: 1.0000, F1 Score: 0.6667\n",
            "FID: 548.04345703125\n",
            "PSNR: 9.9758\n",
            "Epoch 181 - Metrics: Accuracy: 0.5000, TPR: 1.0000, FPR: 1.0000, FID: 548.0435, PSNR: 9.9758\n"
          ]
        },
        {
          "output_type": "stream",
          "name": "stderr",
          "text": [
            "\r  0%|          | 0/2 [00:00<?, ?it/s]<ipython-input-4-6490c8d8cca4>:11: FutureWarning: `torch.cuda.amp.autocast(args...)` is deprecated. Please use `torch.amp.autocast('cuda', args...)` instead.\n",
            "  with torch.cuda.amp.autocast():\n",
            "<ipython-input-4-6490c8d8cca4>:25: FutureWarning: `torch.cuda.amp.autocast(args...)` is deprecated. Please use `torch.amp.autocast('cuda', args...)` instead.\n",
            "  with torch.cuda.amp.autocast():\n",
            "100%|██████████| 2/2 [00:00<00:00,  5.40it/s, D_fake=0.0213, D_real=0.963]\n"
          ]
        },
        {
          "output_type": "stream",
          "name": "stdout",
          "text": [
            "y_true size: (9000,), y_pred size: (9000,)\n",
            "Accuracy: 0.5001, TPR: 1.0000, FPR: 0.9998, TNR: 0.0002, FNR: 0.0000\n",
            "Precision: 0.5001, Recall: 1.0000, F1 Score: 0.6667\n",
            "FID: 537.5880126953125\n",
            "PSNR: 9.9779\n",
            "Epoch 182 - Metrics: Accuracy: 0.5001, TPR: 1.0000, FPR: 0.9998, FID: 537.5880, PSNR: 9.9779\n"
          ]
        },
        {
          "output_type": "stream",
          "name": "stderr",
          "text": [
            "\r  0%|          | 0/2 [00:00<?, ?it/s]<ipython-input-4-6490c8d8cca4>:11: FutureWarning: `torch.cuda.amp.autocast(args...)` is deprecated. Please use `torch.amp.autocast('cuda', args...)` instead.\n",
            "  with torch.cuda.amp.autocast():\n",
            "<ipython-input-4-6490c8d8cca4>:25: FutureWarning: `torch.cuda.amp.autocast(args...)` is deprecated. Please use `torch.amp.autocast('cuda', args...)` instead.\n",
            "  with torch.cuda.amp.autocast():\n",
            "100%|██████████| 2/2 [00:00<00:00,  5.42it/s, D_fake=0.0547, D_real=0.979]\n"
          ]
        },
        {
          "output_type": "stream",
          "name": "stdout",
          "text": [
            "y_true size: (9000,), y_pred size: (9000,)\n",
            "Accuracy: 0.5000, TPR: 1.0000, FPR: 1.0000, TNR: 0.0000, FNR: 0.0000\n",
            "Precision: 0.5000, Recall: 1.0000, F1 Score: 0.6667\n",
            "FID: 546.4092407226562\n",
            "PSNR: 9.7254\n",
            "Epoch 183 - Metrics: Accuracy: 0.5000, TPR: 1.0000, FPR: 1.0000, FID: 546.4092, PSNR: 9.7254\n"
          ]
        },
        {
          "output_type": "stream",
          "name": "stderr",
          "text": [
            "\r  0%|          | 0/2 [00:00<?, ?it/s]<ipython-input-4-6490c8d8cca4>:11: FutureWarning: `torch.cuda.amp.autocast(args...)` is deprecated. Please use `torch.amp.autocast('cuda', args...)` instead.\n",
            "  with torch.cuda.amp.autocast():\n",
            "<ipython-input-4-6490c8d8cca4>:25: FutureWarning: `torch.cuda.amp.autocast(args...)` is deprecated. Please use `torch.amp.autocast('cuda', args...)` instead.\n",
            "  with torch.cuda.amp.autocast():\n",
            "100%|██████████| 2/2 [00:00<00:00,  4.95it/s, D_fake=0.0242, D_real=0.944]\n"
          ]
        },
        {
          "output_type": "stream",
          "name": "stdout",
          "text": [
            "y_true size: (9000,), y_pred size: (9000,)\n",
            "Accuracy: 0.5000, TPR: 1.0000, FPR: 1.0000, TNR: 0.0000, FNR: 0.0000\n",
            "Precision: 0.5000, Recall: 1.0000, F1 Score: 0.6667\n",
            "FID: 549.7990112304688\n",
            "PSNR: 10.0014\n",
            "Epoch 184 - Metrics: Accuracy: 0.5000, TPR: 1.0000, FPR: 1.0000, FID: 549.7990, PSNR: 10.0014\n"
          ]
        },
        {
          "output_type": "stream",
          "name": "stderr",
          "text": [
            "\r  0%|          | 0/2 [00:00<?, ?it/s]<ipython-input-4-6490c8d8cca4>:11: FutureWarning: `torch.cuda.amp.autocast(args...)` is deprecated. Please use `torch.amp.autocast('cuda', args...)` instead.\n",
            "  with torch.cuda.amp.autocast():\n",
            "<ipython-input-4-6490c8d8cca4>:25: FutureWarning: `torch.cuda.amp.autocast(args...)` is deprecated. Please use `torch.amp.autocast('cuda', args...)` instead.\n",
            "  with torch.cuda.amp.autocast():\n",
            "100%|██████████| 2/2 [00:00<00:00,  5.11it/s, D_fake=0.0292, D_real=0.975]\n"
          ]
        },
        {
          "output_type": "stream",
          "name": "stdout",
          "text": [
            "y_true size: (9000,), y_pred size: (9000,)\n",
            "Accuracy: 0.5000, TPR: 1.0000, FPR: 1.0000, TNR: 0.0000, FNR: 0.0000\n",
            "Precision: 0.5000, Recall: 1.0000, F1 Score: 0.6667\n",
            "FID: 574.6303100585938\n",
            "PSNR: 9.9845\n",
            "Epoch 185 - Metrics: Accuracy: 0.5000, TPR: 1.0000, FPR: 1.0000, FID: 574.6303, PSNR: 9.9845\n"
          ]
        },
        {
          "output_type": "stream",
          "name": "stderr",
          "text": [
            "\r  0%|          | 0/2 [00:00<?, ?it/s]<ipython-input-4-6490c8d8cca4>:11: FutureWarning: `torch.cuda.amp.autocast(args...)` is deprecated. Please use `torch.amp.autocast('cuda', args...)` instead.\n",
            "  with torch.cuda.amp.autocast():\n",
            "<ipython-input-4-6490c8d8cca4>:25: FutureWarning: `torch.cuda.amp.autocast(args...)` is deprecated. Please use `torch.amp.autocast('cuda', args...)` instead.\n",
            "  with torch.cuda.amp.autocast():\n",
            "100%|██████████| 2/2 [00:00<00:00,  4.70it/s, D_fake=0.0364, D_real=0.987]\n"
          ]
        },
        {
          "output_type": "stream",
          "name": "stdout",
          "text": [
            "y_true size: (9000,), y_pred size: (9000,)\n",
            "Accuracy: 0.5000, TPR: 1.0000, FPR: 1.0000, TNR: 0.0000, FNR: 0.0000\n",
            "Precision: 0.5000, Recall: 1.0000, F1 Score: 0.6667\n",
            "FID: 533.3960571289062\n",
            "PSNR: 9.8140\n",
            "Epoch 186 - Metrics: Accuracy: 0.5000, TPR: 1.0000, FPR: 1.0000, FID: 533.3961, PSNR: 9.8140\n"
          ]
        },
        {
          "output_type": "stream",
          "name": "stderr",
          "text": [
            "\r  0%|          | 0/2 [00:00<?, ?it/s]<ipython-input-4-6490c8d8cca4>:11: FutureWarning: `torch.cuda.amp.autocast(args...)` is deprecated. Please use `torch.amp.autocast('cuda', args...)` instead.\n",
            "  with torch.cuda.amp.autocast():\n",
            "<ipython-input-4-6490c8d8cca4>:25: FutureWarning: `torch.cuda.amp.autocast(args...)` is deprecated. Please use `torch.amp.autocast('cuda', args...)` instead.\n",
            "  with torch.cuda.amp.autocast():\n",
            "100%|██████████| 2/2 [00:00<00:00,  5.07it/s, D_fake=0.0106, D_real=0.966]\n"
          ]
        },
        {
          "output_type": "stream",
          "name": "stdout",
          "text": [
            "y_true size: (9000,), y_pred size: (9000,)\n",
            "Accuracy: 0.5000, TPR: 1.0000, FPR: 1.0000, TNR: 0.0000, FNR: 0.0000\n",
            "Precision: 0.5000, Recall: 1.0000, F1 Score: 0.6667\n",
            "FID: 574.9520874023438\n",
            "PSNR: 10.1684\n",
            "Epoch 187 - Metrics: Accuracy: 0.5000, TPR: 1.0000, FPR: 1.0000, FID: 574.9521, PSNR: 10.1684\n"
          ]
        },
        {
          "output_type": "stream",
          "name": "stderr",
          "text": [
            "\r  0%|          | 0/2 [00:00<?, ?it/s]<ipython-input-4-6490c8d8cca4>:11: FutureWarning: `torch.cuda.amp.autocast(args...)` is deprecated. Please use `torch.amp.autocast('cuda', args...)` instead.\n",
            "  with torch.cuda.amp.autocast():\n",
            "<ipython-input-4-6490c8d8cca4>:25: FutureWarning: `torch.cuda.amp.autocast(args...)` is deprecated. Please use `torch.amp.autocast('cuda', args...)` instead.\n",
            "  with torch.cuda.amp.autocast():\n",
            "100%|██████████| 2/2 [00:00<00:00,  5.12it/s, D_fake=0.0128, D_real=0.979]\n"
          ]
        },
        {
          "output_type": "stream",
          "name": "stdout",
          "text": [
            "y_true size: (9000,), y_pred size: (9000,)\n",
            "Accuracy: 0.5000, TPR: 1.0000, FPR: 1.0000, TNR: 0.0000, FNR: 0.0000\n",
            "Precision: 0.5000, Recall: 1.0000, F1 Score: 0.6667\n",
            "FID: 541.0244750976562\n",
            "PSNR: 9.8123\n",
            "Epoch 188 - Metrics: Accuracy: 0.5000, TPR: 1.0000, FPR: 1.0000, FID: 541.0245, PSNR: 9.8123\n"
          ]
        },
        {
          "output_type": "stream",
          "name": "stderr",
          "text": [
            "\r  0%|          | 0/2 [00:00<?, ?it/s]<ipython-input-4-6490c8d8cca4>:11: FutureWarning: `torch.cuda.amp.autocast(args...)` is deprecated. Please use `torch.amp.autocast('cuda', args...)` instead.\n",
            "  with torch.cuda.amp.autocast():\n",
            "<ipython-input-4-6490c8d8cca4>:25: FutureWarning: `torch.cuda.amp.autocast(args...)` is deprecated. Please use `torch.amp.autocast('cuda', args...)` instead.\n",
            "  with torch.cuda.amp.autocast():\n",
            "100%|██████████| 2/2 [00:00<00:00,  5.28it/s, D_fake=0.0171, D_real=0.989]\n"
          ]
        },
        {
          "output_type": "stream",
          "name": "stdout",
          "text": [
            "y_true size: (9000,), y_pred size: (9000,)\n",
            "Accuracy: 0.5000, TPR: 1.0000, FPR: 1.0000, TNR: 0.0000, FNR: 0.0000\n",
            "Precision: 0.5000, Recall: 1.0000, F1 Score: 0.6667\n",
            "FID: 563.5626220703125\n",
            "PSNR: 9.7679\n",
            "Epoch 189 - Metrics: Accuracy: 0.5000, TPR: 1.0000, FPR: 1.0000, FID: 563.5626, PSNR: 9.7679\n"
          ]
        },
        {
          "output_type": "stream",
          "name": "stderr",
          "text": [
            "\r  0%|          | 0/2 [00:00<?, ?it/s]<ipython-input-4-6490c8d8cca4>:11: FutureWarning: `torch.cuda.amp.autocast(args...)` is deprecated. Please use `torch.amp.autocast('cuda', args...)` instead.\n",
            "  with torch.cuda.amp.autocast():\n",
            "<ipython-input-4-6490c8d8cca4>:25: FutureWarning: `torch.cuda.amp.autocast(args...)` is deprecated. Please use `torch.amp.autocast('cuda', args...)` instead.\n",
            "  with torch.cuda.amp.autocast():\n",
            "100%|██████████| 2/2 [00:00<00:00,  5.11it/s, D_fake=0.0163, D_real=0.988]\n"
          ]
        },
        {
          "output_type": "stream",
          "name": "stdout",
          "text": [
            "y_true size: (9000,), y_pred size: (9000,)\n",
            "Accuracy: 0.5000, TPR: 1.0000, FPR: 1.0000, TNR: 0.0000, FNR: 0.0000\n",
            "Precision: 0.5000, Recall: 1.0000, F1 Score: 0.6667\n",
            "FID: 599.0986938476562\n",
            "PSNR: 9.8541\n",
            "Epoch 190 - Metrics: Accuracy: 0.5000, TPR: 1.0000, FPR: 1.0000, FID: 599.0987, PSNR: 9.8541\n"
          ]
        },
        {
          "output_type": "stream",
          "name": "stderr",
          "text": [
            "\r  0%|          | 0/2 [00:00<?, ?it/s]<ipython-input-4-6490c8d8cca4>:11: FutureWarning: `torch.cuda.amp.autocast(args...)` is deprecated. Please use `torch.amp.autocast('cuda', args...)` instead.\n",
            "  with torch.cuda.amp.autocast():\n",
            "<ipython-input-4-6490c8d8cca4>:25: FutureWarning: `torch.cuda.amp.autocast(args...)` is deprecated. Please use `torch.amp.autocast('cuda', args...)` instead.\n",
            "  with torch.cuda.amp.autocast():\n",
            "100%|██████████| 2/2 [00:00<00:00,  4.80it/s, D_fake=0.0146, D_real=0.981]\n"
          ]
        },
        {
          "output_type": "stream",
          "name": "stdout",
          "text": [
            "y_true size: (9000,), y_pred size: (9000,)\n",
            "Accuracy: 0.5000, TPR: 1.0000, FPR: 1.0000, TNR: 0.0000, FNR: 0.0000\n",
            "Precision: 0.5000, Recall: 1.0000, F1 Score: 0.6667\n",
            "FID: 598.7400512695312\n",
            "PSNR: 9.8554\n",
            "Epoch 191 - Metrics: Accuracy: 0.5000, TPR: 1.0000, FPR: 1.0000, FID: 598.7401, PSNR: 9.8554\n"
          ]
        },
        {
          "output_type": "stream",
          "name": "stderr",
          "text": [
            "\r  0%|          | 0/2 [00:00<?, ?it/s]<ipython-input-4-6490c8d8cca4>:11: FutureWarning: `torch.cuda.amp.autocast(args...)` is deprecated. Please use `torch.amp.autocast('cuda', args...)` instead.\n",
            "  with torch.cuda.amp.autocast():\n",
            "<ipython-input-4-6490c8d8cca4>:25: FutureWarning: `torch.cuda.amp.autocast(args...)` is deprecated. Please use `torch.amp.autocast('cuda', args...)` instead.\n",
            "  with torch.cuda.amp.autocast():\n",
            "100%|██████████| 2/2 [00:00<00:00,  4.93it/s, D_fake=0.0182, D_real=0.982]\n"
          ]
        },
        {
          "output_type": "stream",
          "name": "stdout",
          "text": [
            "y_true size: (9000,), y_pred size: (9000,)\n",
            "Accuracy: 0.5063, TPR: 1.0000, FPR: 0.9873, TNR: 0.0127, FNR: 0.0000\n",
            "Precision: 0.5032, Recall: 1.0000, F1 Score: 0.6695\n",
            "FID: 598.7782592773438\n",
            "PSNR: 9.6504\n",
            "Epoch 192 - Metrics: Accuracy: 0.5063, TPR: 1.0000, FPR: 0.9873, FID: 598.7783, PSNR: 9.6504\n"
          ]
        },
        {
          "output_type": "stream",
          "name": "stderr",
          "text": [
            "\r  0%|          | 0/2 [00:00<?, ?it/s]<ipython-input-4-6490c8d8cca4>:11: FutureWarning: `torch.cuda.amp.autocast(args...)` is deprecated. Please use `torch.amp.autocast('cuda', args...)` instead.\n",
            "  with torch.cuda.amp.autocast():\n",
            "<ipython-input-4-6490c8d8cca4>:25: FutureWarning: `torch.cuda.amp.autocast(args...)` is deprecated. Please use `torch.amp.autocast('cuda', args...)` instead.\n",
            "  with torch.cuda.amp.autocast():\n",
            "100%|██████████| 2/2 [00:00<00:00,  5.10it/s, D_fake=0.0289, D_real=0.983]\n"
          ]
        },
        {
          "output_type": "stream",
          "name": "stdout",
          "text": [
            "y_true size: (9000,), y_pred size: (9000,)\n",
            "Accuracy: 0.5014, TPR: 1.0000, FPR: 0.9971, TNR: 0.0029, FNR: 0.0000\n",
            "Precision: 0.5007, Recall: 1.0000, F1 Score: 0.6673\n",
            "FID: 574.009521484375\n",
            "PSNR: 9.6523\n",
            "Epoch 193 - Metrics: Accuracy: 0.5014, TPR: 1.0000, FPR: 0.9971, FID: 574.0095, PSNR: 9.6523\n"
          ]
        },
        {
          "output_type": "stream",
          "name": "stderr",
          "text": [
            "\r  0%|          | 0/2 [00:00<?, ?it/s]<ipython-input-4-6490c8d8cca4>:11: FutureWarning: `torch.cuda.amp.autocast(args...)` is deprecated. Please use `torch.amp.autocast('cuda', args...)` instead.\n",
            "  with torch.cuda.amp.autocast():\n",
            "<ipython-input-4-6490c8d8cca4>:25: FutureWarning: `torch.cuda.amp.autocast(args...)` is deprecated. Please use `torch.amp.autocast('cuda', args...)` instead.\n",
            "  with torch.cuda.amp.autocast():\n",
            "100%|██████████| 2/2 [00:00<00:00,  5.36it/s, D_fake=0.034, D_real=0.96]\n"
          ]
        },
        {
          "output_type": "stream",
          "name": "stdout",
          "text": [
            "y_true size: (9000,), y_pred size: (9000,)\n",
            "Accuracy: 0.5006, TPR: 1.0000, FPR: 0.9989, TNR: 0.0011, FNR: 0.0000\n",
            "Precision: 0.5003, Recall: 1.0000, F1 Score: 0.6669\n",
            "FID: 580.232421875\n",
            "PSNR: 9.7030\n",
            "Epoch 194 - Metrics: Accuracy: 0.5006, TPR: 1.0000, FPR: 0.9989, FID: 580.2324, PSNR: 9.7030\n"
          ]
        },
        {
          "output_type": "stream",
          "name": "stderr",
          "text": [
            "\r  0%|          | 0/2 [00:00<?, ?it/s]<ipython-input-4-6490c8d8cca4>:11: FutureWarning: `torch.cuda.amp.autocast(args...)` is deprecated. Please use `torch.amp.autocast('cuda', args...)` instead.\n",
            "  with torch.cuda.amp.autocast():\n",
            "<ipython-input-4-6490c8d8cca4>:25: FutureWarning: `torch.cuda.amp.autocast(args...)` is deprecated. Please use `torch.amp.autocast('cuda', args...)` instead.\n",
            "  with torch.cuda.amp.autocast():\n",
            "100%|██████████| 2/2 [00:00<00:00,  5.61it/s, D_fake=0.0269, D_real=0.982]\n"
          ]
        },
        {
          "output_type": "stream",
          "name": "stdout",
          "text": [
            "y_true size: (9000,), y_pred size: (9000,)\n",
            "Accuracy: 0.5003, TPR: 1.0000, FPR: 0.9993, TNR: 0.0007, FNR: 0.0000\n",
            "Precision: 0.5002, Recall: 1.0000, F1 Score: 0.6668\n",
            "FID: 468.6291809082031\n",
            "PSNR: 9.0003\n",
            "Epoch 195 - Metrics: Accuracy: 0.5003, TPR: 1.0000, FPR: 0.9993, FID: 468.6292, PSNR: 9.0003\n"
          ]
        },
        {
          "output_type": "stream",
          "name": "stderr",
          "text": [
            "\r  0%|          | 0/2 [00:00<?, ?it/s]<ipython-input-4-6490c8d8cca4>:11: FutureWarning: `torch.cuda.amp.autocast(args...)` is deprecated. Please use `torch.amp.autocast('cuda', args...)` instead.\n",
            "  with torch.cuda.amp.autocast():\n",
            "<ipython-input-4-6490c8d8cca4>:25: FutureWarning: `torch.cuda.amp.autocast(args...)` is deprecated. Please use `torch.amp.autocast('cuda', args...)` instead.\n",
            "  with torch.cuda.amp.autocast():\n",
            "100%|██████████| 2/2 [00:00<00:00,  4.64it/s, D_fake=0.000127, D_real=0.986]\n"
          ]
        },
        {
          "output_type": "stream",
          "name": "stdout",
          "text": [
            "y_true size: (9000,), y_pred size: (9000,)\n",
            "Accuracy: 0.9782, TPR: 1.0000, FPR: 0.0436, TNR: 0.9564, FNR: 0.0000\n",
            "Precision: 0.9583, Recall: 1.0000, F1 Score: 0.9787\n",
            "FID: 526.6174926757812\n",
            "PSNR: 9.7946\n",
            "Epoch 196 - Metrics: Accuracy: 0.9782, TPR: 1.0000, FPR: 0.0436, FID: 526.6175, PSNR: 9.7946\n"
          ]
        },
        {
          "output_type": "stream",
          "name": "stderr",
          "text": [
            "\r  0%|          | 0/2 [00:00<?, ?it/s]<ipython-input-4-6490c8d8cca4>:11: FutureWarning: `torch.cuda.amp.autocast(args...)` is deprecated. Please use `torch.amp.autocast('cuda', args...)` instead.\n",
            "  with torch.cuda.amp.autocast():\n",
            "<ipython-input-4-6490c8d8cca4>:25: FutureWarning: `torch.cuda.amp.autocast(args...)` is deprecated. Please use `torch.amp.autocast('cuda', args...)` instead.\n",
            "  with torch.cuda.amp.autocast():\n",
            "100%|██████████| 2/2 [00:00<00:00,  5.07it/s, D_fake=0.000589, D_real=1]\n"
          ]
        },
        {
          "output_type": "stream",
          "name": "stdout",
          "text": [
            "y_true size: (9000,), y_pred size: (9000,)\n",
            "Accuracy: 0.4559, TPR: 0.9118, FPR: 1.0000, TNR: 0.0000, FNR: 0.0882\n",
            "Precision: 0.4769, Recall: 0.9118, F1 Score: 0.6263\n",
            "FID: 500.0289611816406\n",
            "PSNR: 10.2845\n",
            "Epoch 197 - Metrics: Accuracy: 0.4559, TPR: 0.9118, FPR: 1.0000, FID: 500.0290, PSNR: 10.2845\n"
          ]
        },
        {
          "output_type": "stream",
          "name": "stderr",
          "text": [
            "\r  0%|          | 0/2 [00:00<?, ?it/s]<ipython-input-4-6490c8d8cca4>:11: FutureWarning: `torch.cuda.amp.autocast(args...)` is deprecated. Please use `torch.amp.autocast('cuda', args...)` instead.\n",
            "  with torch.cuda.amp.autocast():\n",
            "<ipython-input-4-6490c8d8cca4>:25: FutureWarning: `torch.cuda.amp.autocast(args...)` is deprecated. Please use `torch.amp.autocast('cuda', args...)` instead.\n",
            "  with torch.cuda.amp.autocast():\n",
            "100%|██████████| 2/2 [00:00<00:00,  5.01it/s, D_fake=0.0214, D_real=0.788]\n"
          ]
        },
        {
          "output_type": "stream",
          "name": "stdout",
          "text": [
            "y_true size: (9000,), y_pred size: (9000,)\n",
            "Accuracy: 0.8291, TPR: 1.0000, FPR: 0.3418, TNR: 0.6582, FNR: 0.0000\n",
            "Precision: 0.7453, Recall: 1.0000, F1 Score: 0.8541\n",
            "FID: 486.5840759277344\n",
            "PSNR: 9.4327\n",
            "Epoch 198 - Metrics: Accuracy: 0.8291, TPR: 1.0000, FPR: 0.3418, FID: 486.5841, PSNR: 9.4327\n"
          ]
        },
        {
          "output_type": "stream",
          "name": "stderr",
          "text": [
            "\r  0%|          | 0/2 [00:00<?, ?it/s]<ipython-input-4-6490c8d8cca4>:11: FutureWarning: `torch.cuda.amp.autocast(args...)` is deprecated. Please use `torch.amp.autocast('cuda', args...)` instead.\n",
            "  with torch.cuda.amp.autocast():\n",
            "<ipython-input-4-6490c8d8cca4>:25: FutureWarning: `torch.cuda.amp.autocast(args...)` is deprecated. Please use `torch.amp.autocast('cuda', args...)` instead.\n",
            "  with torch.cuda.amp.autocast():\n",
            "100%|██████████| 2/2 [00:00<00:00,  5.03it/s, D_fake=1.58e-5, D_real=0.995]\n"
          ]
        },
        {
          "output_type": "stream",
          "name": "stdout",
          "text": [
            "y_true size: (9000,), y_pred size: (9000,)\n",
            "Accuracy: 0.1937, TPR: 0.3431, FPR: 0.9558, TNR: 0.0442, FNR: 0.6569\n",
            "Precision: 0.2642, Recall: 0.3431, F1 Score: 0.2985\n",
            "FID: 545.4320678710938\n",
            "PSNR: 9.5040\n",
            "Epoch 199 - Metrics: Accuracy: 0.1937, TPR: 0.3431, FPR: 0.9558, FID: 545.4321, PSNR: 9.5040\n",
            "Saving model at epoch 199\n"
          ]
        },
        {
          "output_type": "stream",
          "name": "stderr",
          "text": [
            "\r  0%|          | 0/2 [00:00<?, ?it/s]<ipython-input-4-6490c8d8cca4>:11: FutureWarning: `torch.cuda.amp.autocast(args...)` is deprecated. Please use `torch.amp.autocast('cuda', args...)` instead.\n",
            "  with torch.cuda.amp.autocast():\n",
            "<ipython-input-4-6490c8d8cca4>:25: FutureWarning: `torch.cuda.amp.autocast(args...)` is deprecated. Please use `torch.amp.autocast('cuda', args...)` instead.\n",
            "  with torch.cuda.amp.autocast():\n",
            "100%|██████████| 2/2 [00:00<00:00,  4.58it/s, D_fake=0.342, D_real=0.251]\n"
          ]
        },
        {
          "output_type": "stream",
          "name": "stdout",
          "text": [
            "y_true size: (9000,), y_pred size: (9000,)\n",
            "Accuracy: 0.7711, TPR: 1.0000, FPR: 0.4578, TNR: 0.5422, FNR: 0.0000\n",
            "Precision: 0.6860, Recall: 1.0000, F1 Score: 0.8137\n",
            "FID: 486.3304138183594\n",
            "PSNR: 8.9039\n",
            "Epoch 200 - Metrics: Accuracy: 0.7711, TPR: 1.0000, FPR: 0.4578, FID: 486.3304, PSNR: 8.9039\n"
          ]
        },
        {
          "output_type": "stream",
          "name": "stderr",
          "text": [
            "\r  0%|          | 0/2 [00:00<?, ?it/s]<ipython-input-4-6490c8d8cca4>:11: FutureWarning: `torch.cuda.amp.autocast(args...)` is deprecated. Please use `torch.amp.autocast('cuda', args...)` instead.\n",
            "  with torch.cuda.amp.autocast():\n",
            "<ipython-input-4-6490c8d8cca4>:25: FutureWarning: `torch.cuda.amp.autocast(args...)` is deprecated. Please use `torch.amp.autocast('cuda', args...)` instead.\n",
            "  with torch.cuda.amp.autocast():\n",
            "100%|██████████| 2/2 [00:00<00:00,  4.87it/s, D_fake=0.22, D_real=0.925]\n"
          ]
        },
        {
          "output_type": "stream",
          "name": "stdout",
          "text": [
            "y_true size: (9000,), y_pred size: (9000,)\n",
            "Accuracy: 0.4844, TPR: 0.9689, FPR: 1.0000, TNR: 0.0000, FNR: 0.0311\n",
            "Precision: 0.4921, Recall: 0.9689, F1 Score: 0.6527\n",
            "FID: 495.9850769042969\n",
            "PSNR: 10.3349\n",
            "Epoch 201 - Metrics: Accuracy: 0.4844, TPR: 0.9689, FPR: 1.0000, FID: 495.9851, PSNR: 10.3349\n"
          ]
        },
        {
          "output_type": "stream",
          "name": "stderr",
          "text": [
            "\r  0%|          | 0/2 [00:00<?, ?it/s]<ipython-input-4-6490c8d8cca4>:11: FutureWarning: `torch.cuda.amp.autocast(args...)` is deprecated. Please use `torch.amp.autocast('cuda', args...)` instead.\n",
            "  with torch.cuda.amp.autocast():\n",
            "<ipython-input-4-6490c8d8cca4>:25: FutureWarning: `torch.cuda.amp.autocast(args...)` is deprecated. Please use `torch.amp.autocast('cuda', args...)` instead.\n",
            "  with torch.cuda.amp.autocast():\n",
            "100%|██████████| 2/2 [00:00<00:00,  5.11it/s, D_fake=0.0643, D_real=0.839]\n"
          ]
        },
        {
          "output_type": "stream",
          "name": "stdout",
          "text": [
            "y_true size: (9000,), y_pred size: (9000,)\n",
            "Accuracy: 0.5000, TPR: 1.0000, FPR: 1.0000, TNR: 0.0000, FNR: 0.0000\n",
            "Precision: 0.5000, Recall: 1.0000, F1 Score: 0.6667\n",
            "FID: 467.9948425292969\n",
            "PSNR: 10.3206\n",
            "Epoch 202 - Metrics: Accuracy: 0.5000, TPR: 1.0000, FPR: 1.0000, FID: 467.9948, PSNR: 10.3206\n"
          ]
        },
        {
          "output_type": "stream",
          "name": "stderr",
          "text": [
            "\r  0%|          | 0/2 [00:00<?, ?it/s]<ipython-input-4-6490c8d8cca4>:11: FutureWarning: `torch.cuda.amp.autocast(args...)` is deprecated. Please use `torch.amp.autocast('cuda', args...)` instead.\n",
            "  with torch.cuda.amp.autocast():\n",
            "<ipython-input-4-6490c8d8cca4>:25: FutureWarning: `torch.cuda.amp.autocast(args...)` is deprecated. Please use `torch.amp.autocast('cuda', args...)` instead.\n",
            "  with torch.cuda.amp.autocast():\n",
            "100%|██████████| 2/2 [00:00<00:00,  5.25it/s, D_fake=0.0839, D_real=0.911]\n"
          ]
        },
        {
          "output_type": "stream",
          "name": "stdout",
          "text": [
            "y_true size: (9000,), y_pred size: (9000,)\n",
            "Accuracy: 0.5000, TPR: 1.0000, FPR: 1.0000, TNR: 0.0000, FNR: 0.0000\n",
            "Precision: 0.5000, Recall: 1.0000, F1 Score: 0.6667\n",
            "FID: 491.9223937988281\n",
            "PSNR: 10.3463\n",
            "Epoch 203 - Metrics: Accuracy: 0.5000, TPR: 1.0000, FPR: 1.0000, FID: 491.9224, PSNR: 10.3463\n"
          ]
        },
        {
          "output_type": "stream",
          "name": "stderr",
          "text": [
            "\r  0%|          | 0/2 [00:00<?, ?it/s]<ipython-input-4-6490c8d8cca4>:11: FutureWarning: `torch.cuda.amp.autocast(args...)` is deprecated. Please use `torch.amp.autocast('cuda', args...)` instead.\n",
            "  with torch.cuda.amp.autocast():\n",
            "<ipython-input-4-6490c8d8cca4>:25: FutureWarning: `torch.cuda.amp.autocast(args...)` is deprecated. Please use `torch.amp.autocast('cuda', args...)` instead.\n",
            "  with torch.cuda.amp.autocast():\n",
            "100%|██████████| 2/2 [00:00<00:00,  5.47it/s, D_fake=0.0793, D_real=0.946]\n"
          ]
        },
        {
          "output_type": "stream",
          "name": "stdout",
          "text": [
            "y_true size: (9000,), y_pred size: (9000,)\n",
            "Accuracy: 0.5000, TPR: 1.0000, FPR: 1.0000, TNR: 0.0000, FNR: 0.0000\n",
            "Precision: 0.5000, Recall: 1.0000, F1 Score: 0.6667\n",
            "FID: 488.2912902832031\n",
            "PSNR: 10.4107\n",
            "Epoch 204 - Metrics: Accuracy: 0.5000, TPR: 1.0000, FPR: 1.0000, FID: 488.2913, PSNR: 10.4107\n"
          ]
        },
        {
          "output_type": "stream",
          "name": "stderr",
          "text": [
            "\r  0%|          | 0/2 [00:00<?, ?it/s]<ipython-input-4-6490c8d8cca4>:11: FutureWarning: `torch.cuda.amp.autocast(args...)` is deprecated. Please use `torch.amp.autocast('cuda', args...)` instead.\n",
            "  with torch.cuda.amp.autocast():\n",
            "<ipython-input-4-6490c8d8cca4>:25: FutureWarning: `torch.cuda.amp.autocast(args...)` is deprecated. Please use `torch.amp.autocast('cuda', args...)` instead.\n",
            "  with torch.cuda.amp.autocast():\n",
            "100%|██████████| 2/2 [00:00<00:00,  4.66it/s, D_fake=0.0588, D_real=0.955]\n"
          ]
        },
        {
          "output_type": "stream",
          "name": "stdout",
          "text": [
            "y_true size: (9000,), y_pred size: (9000,)\n",
            "Accuracy: 0.5000, TPR: 1.0000, FPR: 1.0000, TNR: 0.0000, FNR: 0.0000\n",
            "Precision: 0.5000, Recall: 1.0000, F1 Score: 0.6667\n",
            "FID: 550.0110473632812\n",
            "PSNR: 10.3126\n",
            "Epoch 205 - Metrics: Accuracy: 0.5000, TPR: 1.0000, FPR: 1.0000, FID: 550.0110, PSNR: 10.3126\n"
          ]
        },
        {
          "output_type": "stream",
          "name": "stderr",
          "text": [
            "\r  0%|          | 0/2 [00:00<?, ?it/s]<ipython-input-4-6490c8d8cca4>:11: FutureWarning: `torch.cuda.amp.autocast(args...)` is deprecated. Please use `torch.amp.autocast('cuda', args...)` instead.\n",
            "  with torch.cuda.amp.autocast():\n",
            "<ipython-input-4-6490c8d8cca4>:25: FutureWarning: `torch.cuda.amp.autocast(args...)` is deprecated. Please use `torch.amp.autocast('cuda', args...)` instead.\n",
            "  with torch.cuda.amp.autocast():\n",
            "100%|██████████| 2/2 [00:00<00:00,  5.09it/s, D_fake=0.0457, D_real=0.958]\n"
          ]
        },
        {
          "output_type": "stream",
          "name": "stdout",
          "text": [
            "y_true size: (9000,), y_pred size: (9000,)\n",
            "Accuracy: 0.5000, TPR: 1.0000, FPR: 1.0000, TNR: 0.0000, FNR: 0.0000\n",
            "Precision: 0.5000, Recall: 1.0000, F1 Score: 0.6667\n",
            "FID: 500.9400329589844\n",
            "PSNR: 10.2527\n",
            "Epoch 206 - Metrics: Accuracy: 0.5000, TPR: 1.0000, FPR: 1.0000, FID: 500.9400, PSNR: 10.2527\n"
          ]
        },
        {
          "output_type": "stream",
          "name": "stderr",
          "text": [
            "\r  0%|          | 0/2 [00:00<?, ?it/s]<ipython-input-4-6490c8d8cca4>:11: FutureWarning: `torch.cuda.amp.autocast(args...)` is deprecated. Please use `torch.amp.autocast('cuda', args...)` instead.\n",
            "  with torch.cuda.amp.autocast():\n",
            "<ipython-input-4-6490c8d8cca4>:25: FutureWarning: `torch.cuda.amp.autocast(args...)` is deprecated. Please use `torch.amp.autocast('cuda', args...)` instead.\n",
            "  with torch.cuda.amp.autocast():\n",
            "100%|██████████| 2/2 [00:00<00:00,  5.03it/s, D_fake=0.0425, D_real=0.961]\n"
          ]
        },
        {
          "output_type": "stream",
          "name": "stdout",
          "text": [
            "y_true size: (9000,), y_pred size: (9000,)\n",
            "Accuracy: 0.5000, TPR: 1.0000, FPR: 1.0000, TNR: 0.0000, FNR: 0.0000\n",
            "Precision: 0.5000, Recall: 1.0000, F1 Score: 0.6667\n",
            "FID: 491.7786560058594\n",
            "PSNR: 10.2487\n",
            "Epoch 207 - Metrics: Accuracy: 0.5000, TPR: 1.0000, FPR: 1.0000, FID: 491.7787, PSNR: 10.2487\n"
          ]
        },
        {
          "output_type": "stream",
          "name": "stderr",
          "text": [
            "\r  0%|          | 0/2 [00:00<?, ?it/s]<ipython-input-4-6490c8d8cca4>:11: FutureWarning: `torch.cuda.amp.autocast(args...)` is deprecated. Please use `torch.amp.autocast('cuda', args...)` instead.\n",
            "  with torch.cuda.amp.autocast():\n",
            "<ipython-input-4-6490c8d8cca4>:25: FutureWarning: `torch.cuda.amp.autocast(args...)` is deprecated. Please use `torch.amp.autocast('cuda', args...)` instead.\n",
            "  with torch.cuda.amp.autocast():\n",
            "100%|██████████| 2/2 [00:00<00:00,  5.36it/s, D_fake=0.0489, D_real=0.965]\n"
          ]
        },
        {
          "output_type": "stream",
          "name": "stdout",
          "text": [
            "y_true size: (9000,), y_pred size: (9000,)\n",
            "Accuracy: 0.5000, TPR: 1.0000, FPR: 1.0000, TNR: 0.0000, FNR: 0.0000\n",
            "Precision: 0.5000, Recall: 1.0000, F1 Score: 0.6667\n",
            "FID: 529.9892578125\n",
            "PSNR: 10.1656\n",
            "Epoch 208 - Metrics: Accuracy: 0.5000, TPR: 1.0000, FPR: 1.0000, FID: 529.9893, PSNR: 10.1656\n"
          ]
        },
        {
          "output_type": "stream",
          "name": "stderr",
          "text": [
            "\r  0%|          | 0/2 [00:00<?, ?it/s]<ipython-input-4-6490c8d8cca4>:11: FutureWarning: `torch.cuda.amp.autocast(args...)` is deprecated. Please use `torch.amp.autocast('cuda', args...)` instead.\n",
            "  with torch.cuda.amp.autocast():\n",
            "<ipython-input-4-6490c8d8cca4>:25: FutureWarning: `torch.cuda.amp.autocast(args...)` is deprecated. Please use `torch.amp.autocast('cuda', args...)` instead.\n",
            "  with torch.cuda.amp.autocast():\n",
            "100%|██████████| 2/2 [00:00<00:00,  5.30it/s, D_fake=0.0349, D_real=0.965]\n"
          ]
        },
        {
          "output_type": "stream",
          "name": "stdout",
          "text": [
            "y_true size: (9000,), y_pred size: (9000,)\n",
            "Accuracy: 0.5000, TPR: 1.0000, FPR: 1.0000, TNR: 0.0000, FNR: 0.0000\n",
            "Precision: 0.5000, Recall: 1.0000, F1 Score: 0.6667\n",
            "FID: 538.2472534179688\n",
            "PSNR: 10.1514\n",
            "Epoch 209 - Metrics: Accuracy: 0.5000, TPR: 1.0000, FPR: 1.0000, FID: 538.2473, PSNR: 10.1514\n"
          ]
        },
        {
          "output_type": "stream",
          "name": "stderr",
          "text": [
            "\r  0%|          | 0/2 [00:00<?, ?it/s]<ipython-input-4-6490c8d8cca4>:11: FutureWarning: `torch.cuda.amp.autocast(args...)` is deprecated. Please use `torch.amp.autocast('cuda', args...)` instead.\n",
            "  with torch.cuda.amp.autocast():\n",
            "<ipython-input-4-6490c8d8cca4>:25: FutureWarning: `torch.cuda.amp.autocast(args...)` is deprecated. Please use `torch.amp.autocast('cuda', args...)` instead.\n",
            "  with torch.cuda.amp.autocast():\n",
            "100%|██████████| 2/2 [00:00<00:00,  4.92it/s, D_fake=0.0299, D_real=0.963]\n"
          ]
        },
        {
          "output_type": "stream",
          "name": "stdout",
          "text": [
            "y_true size: (9000,), y_pred size: (9000,)\n",
            "Accuracy: 0.5000, TPR: 1.0000, FPR: 1.0000, TNR: 0.0000, FNR: 0.0000\n",
            "Precision: 0.5000, Recall: 1.0000, F1 Score: 0.6667\n",
            "FID: 499.309326171875\n",
            "PSNR: 10.1746\n",
            "Epoch 210 - Metrics: Accuracy: 0.5000, TPR: 1.0000, FPR: 1.0000, FID: 499.3093, PSNR: 10.1746\n"
          ]
        },
        {
          "output_type": "stream",
          "name": "stderr",
          "text": [
            "\r  0%|          | 0/2 [00:00<?, ?it/s]<ipython-input-4-6490c8d8cca4>:11: FutureWarning: `torch.cuda.amp.autocast(args...)` is deprecated. Please use `torch.amp.autocast('cuda', args...)` instead.\n",
            "  with torch.cuda.amp.autocast():\n",
            "<ipython-input-4-6490c8d8cca4>:25: FutureWarning: `torch.cuda.amp.autocast(args...)` is deprecated. Please use `torch.amp.autocast('cuda', args...)` instead.\n",
            "  with torch.cuda.amp.autocast():\n",
            "100%|██████████| 2/2 [00:00<00:00,  5.20it/s, D_fake=0.0342, D_real=0.971]\n"
          ]
        },
        {
          "output_type": "stream",
          "name": "stdout",
          "text": [
            "y_true size: (9000,), y_pred size: (9000,)\n",
            "Accuracy: 0.5084, TPR: 1.0000, FPR: 0.9831, TNR: 0.0169, FNR: 0.0000\n",
            "Precision: 0.5043, Recall: 1.0000, F1 Score: 0.6704\n",
            "FID: 477.35260009765625\n",
            "PSNR: 10.0699\n",
            "Epoch 211 - Metrics: Accuracy: 0.5084, TPR: 1.0000, FPR: 0.9831, FID: 477.3526, PSNR: 10.0699\n"
          ]
        },
        {
          "output_type": "stream",
          "name": "stderr",
          "text": [
            "\r  0%|          | 0/2 [00:00<?, ?it/s]<ipython-input-4-6490c8d8cca4>:11: FutureWarning: `torch.cuda.amp.autocast(args...)` is deprecated. Please use `torch.amp.autocast('cuda', args...)` instead.\n",
            "  with torch.cuda.amp.autocast():\n",
            "<ipython-input-4-6490c8d8cca4>:25: FutureWarning: `torch.cuda.amp.autocast(args...)` is deprecated. Please use `torch.amp.autocast('cuda', args...)` instead.\n",
            "  with torch.cuda.amp.autocast():\n",
            "100%|██████████| 2/2 [00:00<00:00,  5.12it/s, D_fake=0.052, D_real=0.973]\n"
          ]
        },
        {
          "output_type": "stream",
          "name": "stdout",
          "text": [
            "y_true size: (9000,), y_pred size: (9000,)\n",
            "Accuracy: 0.5000, TPR: 1.0000, FPR: 1.0000, TNR: 0.0000, FNR: 0.0000\n",
            "Precision: 0.5000, Recall: 1.0000, F1 Score: 0.6667\n",
            "FID: 524.6951293945312\n",
            "PSNR: 9.9157\n",
            "Epoch 212 - Metrics: Accuracy: 0.5000, TPR: 1.0000, FPR: 1.0000, FID: 524.6951, PSNR: 9.9157\n"
          ]
        },
        {
          "output_type": "stream",
          "name": "stderr",
          "text": [
            "\r  0%|          | 0/2 [00:00<?, ?it/s]<ipython-input-4-6490c8d8cca4>:11: FutureWarning: `torch.cuda.amp.autocast(args...)` is deprecated. Please use `torch.amp.autocast('cuda', args...)` instead.\n",
            "  with torch.cuda.amp.autocast():\n",
            "<ipython-input-4-6490c8d8cca4>:25: FutureWarning: `torch.cuda.amp.autocast(args...)` is deprecated. Please use `torch.amp.autocast('cuda', args...)` instead.\n",
            "  with torch.cuda.amp.autocast():\n",
            "100%|██████████| 2/2 [00:00<00:00,  5.39it/s, D_fake=0.0327, D_real=0.966]\n"
          ]
        },
        {
          "output_type": "stream",
          "name": "stdout",
          "text": [
            "y_true size: (9000,), y_pred size: (9000,)\n",
            "Accuracy: 0.5000, TPR: 1.0000, FPR: 1.0000, TNR: 0.0000, FNR: 0.0000\n",
            "Precision: 0.5000, Recall: 1.0000, F1 Score: 0.6667\n",
            "FID: 520.8167114257812\n",
            "PSNR: 9.9167\n",
            "Epoch 213 - Metrics: Accuracy: 0.5000, TPR: 1.0000, FPR: 1.0000, FID: 520.8167, PSNR: 9.9167\n"
          ]
        },
        {
          "output_type": "stream",
          "name": "stderr",
          "text": [
            "\r  0%|          | 0/2 [00:00<?, ?it/s]<ipython-input-4-6490c8d8cca4>:11: FutureWarning: `torch.cuda.amp.autocast(args...)` is deprecated. Please use `torch.amp.autocast('cuda', args...)` instead.\n",
            "  with torch.cuda.amp.autocast():\n",
            "<ipython-input-4-6490c8d8cca4>:25: FutureWarning: `torch.cuda.amp.autocast(args...)` is deprecated. Please use `torch.amp.autocast('cuda', args...)` instead.\n",
            "  with torch.cuda.amp.autocast():\n",
            "100%|██████████| 2/2 [00:00<00:00,  5.18it/s, D_fake=0.0266, D_real=0.969]\n"
          ]
        },
        {
          "output_type": "stream",
          "name": "stdout",
          "text": [
            "y_true size: (9000,), y_pred size: (9000,)\n",
            "Accuracy: 0.5000, TPR: 1.0000, FPR: 1.0000, TNR: 0.0000, FNR: 0.0000\n",
            "Precision: 0.5000, Recall: 1.0000, F1 Score: 0.6667\n",
            "FID: 516.8688354492188\n",
            "PSNR: 10.0610\n",
            "Epoch 214 - Metrics: Accuracy: 0.5000, TPR: 1.0000, FPR: 1.0000, FID: 516.8688, PSNR: 10.0610\n"
          ]
        },
        {
          "output_type": "stream",
          "name": "stderr",
          "text": [
            "\r  0%|          | 0/2 [00:00<?, ?it/s]<ipython-input-4-6490c8d8cca4>:11: FutureWarning: `torch.cuda.amp.autocast(args...)` is deprecated. Please use `torch.amp.autocast('cuda', args...)` instead.\n",
            "  with torch.cuda.amp.autocast():\n",
            "<ipython-input-4-6490c8d8cca4>:25: FutureWarning: `torch.cuda.amp.autocast(args...)` is deprecated. Please use `torch.amp.autocast('cuda', args...)` instead.\n",
            "  with torch.cuda.amp.autocast():\n",
            "100%|██████████| 2/2 [00:00<00:00,  4.61it/s, D_fake=0.0189, D_real=0.984]\n"
          ]
        },
        {
          "output_type": "stream",
          "name": "stdout",
          "text": [
            "y_true size: (9000,), y_pred size: (9000,)\n",
            "Accuracy: 0.5000, TPR: 1.0000, FPR: 1.0000, TNR: 0.0000, FNR: 0.0000\n",
            "Precision: 0.5000, Recall: 1.0000, F1 Score: 0.6667\n",
            "FID: 505.0589294433594\n",
            "PSNR: 10.1293\n",
            "Epoch 215 - Metrics: Accuracy: 0.5000, TPR: 1.0000, FPR: 1.0000, FID: 505.0589, PSNR: 10.1293\n"
          ]
        },
        {
          "output_type": "stream",
          "name": "stderr",
          "text": [
            "\r  0%|          | 0/2 [00:00<?, ?it/s]<ipython-input-4-6490c8d8cca4>:11: FutureWarning: `torch.cuda.amp.autocast(args...)` is deprecated. Please use `torch.amp.autocast('cuda', args...)` instead.\n",
            "  with torch.cuda.amp.autocast():\n",
            "<ipython-input-4-6490c8d8cca4>:25: FutureWarning: `torch.cuda.amp.autocast(args...)` is deprecated. Please use `torch.amp.autocast('cuda', args...)` instead.\n",
            "  with torch.cuda.amp.autocast():\n",
            "100%|██████████| 2/2 [00:00<00:00,  4.92it/s, D_fake=0.0177, D_real=0.983]\n"
          ]
        },
        {
          "output_type": "stream",
          "name": "stdout",
          "text": [
            "y_true size: (9000,), y_pred size: (9000,)\n",
            "Accuracy: 0.5000, TPR: 1.0000, FPR: 1.0000, TNR: 0.0000, FNR: 0.0000\n",
            "Precision: 0.5000, Recall: 1.0000, F1 Score: 0.6667\n",
            "FID: 583.0755615234375\n",
            "PSNR: 10.0943\n",
            "Epoch 216 - Metrics: Accuracy: 0.5000, TPR: 1.0000, FPR: 1.0000, FID: 583.0756, PSNR: 10.0943\n"
          ]
        },
        {
          "output_type": "stream",
          "name": "stderr",
          "text": [
            "\r  0%|          | 0/2 [00:00<?, ?it/s]<ipython-input-4-6490c8d8cca4>:11: FutureWarning: `torch.cuda.amp.autocast(args...)` is deprecated. Please use `torch.amp.autocast('cuda', args...)` instead.\n",
            "  with torch.cuda.amp.autocast():\n",
            "<ipython-input-4-6490c8d8cca4>:25: FutureWarning: `torch.cuda.amp.autocast(args...)` is deprecated. Please use `torch.amp.autocast('cuda', args...)` instead.\n",
            "  with torch.cuda.amp.autocast():\n",
            "100%|██████████| 2/2 [00:00<00:00,  5.19it/s, D_fake=0.0167, D_real=0.988]\n"
          ]
        },
        {
          "output_type": "stream",
          "name": "stdout",
          "text": [
            "y_true size: (9000,), y_pred size: (9000,)\n",
            "Accuracy: 0.5000, TPR: 1.0000, FPR: 1.0000, TNR: 0.0000, FNR: 0.0000\n",
            "Precision: 0.5000, Recall: 1.0000, F1 Score: 0.6667\n",
            "FID: 578.9063110351562\n",
            "PSNR: 10.1118\n",
            "Epoch 217 - Metrics: Accuracy: 0.5000, TPR: 1.0000, FPR: 1.0000, FID: 578.9063, PSNR: 10.1118\n"
          ]
        },
        {
          "output_type": "stream",
          "name": "stderr",
          "text": [
            "\r  0%|          | 0/2 [00:00<?, ?it/s]<ipython-input-4-6490c8d8cca4>:11: FutureWarning: `torch.cuda.amp.autocast(args...)` is deprecated. Please use `torch.amp.autocast('cuda', args...)` instead.\n",
            "  with torch.cuda.amp.autocast():\n",
            "<ipython-input-4-6490c8d8cca4>:25: FutureWarning: `torch.cuda.amp.autocast(args...)` is deprecated. Please use `torch.amp.autocast('cuda', args...)` instead.\n",
            "  with torch.cuda.amp.autocast():\n",
            "100%|██████████| 2/2 [00:00<00:00,  5.05it/s, D_fake=0.026, D_real=0.988]\n"
          ]
        },
        {
          "output_type": "stream",
          "name": "stdout",
          "text": [
            "y_true size: (9000,), y_pred size: (9000,)\n",
            "Accuracy: 0.5011, TPR: 1.0000, FPR: 0.9978, TNR: 0.0022, FNR: 0.0000\n",
            "Precision: 0.5006, Recall: 1.0000, F1 Score: 0.6672\n",
            "FID: 560.2504272460938\n",
            "PSNR: 10.0475\n",
            "Epoch 218 - Metrics: Accuracy: 0.5011, TPR: 1.0000, FPR: 0.9978, FID: 560.2504, PSNR: 10.0475\n"
          ]
        },
        {
          "output_type": "stream",
          "name": "stderr",
          "text": [
            "\r  0%|          | 0/2 [00:00<?, ?it/s]<ipython-input-4-6490c8d8cca4>:11: FutureWarning: `torch.cuda.amp.autocast(args...)` is deprecated. Please use `torch.amp.autocast('cuda', args...)` instead.\n",
            "  with torch.cuda.amp.autocast():\n",
            "<ipython-input-4-6490c8d8cca4>:25: FutureWarning: `torch.cuda.amp.autocast(args...)` is deprecated. Please use `torch.amp.autocast('cuda', args...)` instead.\n",
            "  with torch.cuda.amp.autocast():\n",
            "100%|██████████| 2/2 [00:00<00:00,  5.43it/s, D_fake=0.0333, D_real=0.985]\n"
          ]
        },
        {
          "output_type": "stream",
          "name": "stdout",
          "text": [
            "y_true size: (9000,), y_pred size: (9000,)\n",
            "Accuracy: 0.5000, TPR: 1.0000, FPR: 1.0000, TNR: 0.0000, FNR: 0.0000\n",
            "Precision: 0.5000, Recall: 1.0000, F1 Score: 0.6667\n",
            "FID: 582.4989013671875\n",
            "PSNR: 9.8390\n",
            "Epoch 219 - Metrics: Accuracy: 0.5000, TPR: 1.0000, FPR: 1.0000, FID: 582.4989, PSNR: 9.8390\n"
          ]
        },
        {
          "output_type": "stream",
          "name": "stderr",
          "text": [
            "\r  0%|          | 0/2 [00:00<?, ?it/s]<ipython-input-4-6490c8d8cca4>:11: FutureWarning: `torch.cuda.amp.autocast(args...)` is deprecated. Please use `torch.amp.autocast('cuda', args...)` instead.\n",
            "  with torch.cuda.amp.autocast():\n",
            "<ipython-input-4-6490c8d8cca4>:25: FutureWarning: `torch.cuda.amp.autocast(args...)` is deprecated. Please use `torch.amp.autocast('cuda', args...)` instead.\n",
            "  with torch.cuda.amp.autocast():\n",
            "100%|██████████| 2/2 [00:00<00:00,  5.30it/s, D_fake=0.0191, D_real=0.969]\n"
          ]
        },
        {
          "output_type": "stream",
          "name": "stdout",
          "text": [
            "y_true size: (9000,), y_pred size: (9000,)\n",
            "Accuracy: 0.5000, TPR: 1.0000, FPR: 1.0000, TNR: 0.0000, FNR: 0.0000\n",
            "Precision: 0.5000, Recall: 1.0000, F1 Score: 0.6667\n",
            "FID: 559.6680297851562\n",
            "PSNR: 9.8421\n",
            "Epoch 220 - Metrics: Accuracy: 0.5000, TPR: 1.0000, FPR: 1.0000, FID: 559.6680, PSNR: 9.8421\n"
          ]
        },
        {
          "output_type": "stream",
          "name": "stderr",
          "text": [
            "\r  0%|          | 0/2 [00:00<?, ?it/s]<ipython-input-4-6490c8d8cca4>:11: FutureWarning: `torch.cuda.amp.autocast(args...)` is deprecated. Please use `torch.amp.autocast('cuda', args...)` instead.\n",
            "  with torch.cuda.amp.autocast():\n",
            "<ipython-input-4-6490c8d8cca4>:25: FutureWarning: `torch.cuda.amp.autocast(args...)` is deprecated. Please use `torch.amp.autocast('cuda', args...)` instead.\n",
            "  with torch.cuda.amp.autocast():\n",
            "100%|██████████| 2/2 [00:00<00:00,  5.24it/s, D_fake=0.0328, D_real=0.98]\n"
          ]
        },
        {
          "output_type": "stream",
          "name": "stdout",
          "text": [
            "y_true size: (9000,), y_pred size: (9000,)\n",
            "Accuracy: 0.5000, TPR: 1.0000, FPR: 1.0000, TNR: 0.0000, FNR: 0.0000\n",
            "Precision: 0.5000, Recall: 1.0000, F1 Score: 0.6667\n",
            "FID: 610.3678588867188\n",
            "PSNR: 9.8865\n",
            "Epoch 221 - Metrics: Accuracy: 0.5000, TPR: 1.0000, FPR: 1.0000, FID: 610.3679, PSNR: 9.8865\n"
          ]
        },
        {
          "output_type": "stream",
          "name": "stderr",
          "text": [
            "\r  0%|          | 0/2 [00:00<?, ?it/s]<ipython-input-4-6490c8d8cca4>:11: FutureWarning: `torch.cuda.amp.autocast(args...)` is deprecated. Please use `torch.amp.autocast('cuda', args...)` instead.\n",
            "  with torch.cuda.amp.autocast():\n",
            "<ipython-input-4-6490c8d8cca4>:25: FutureWarning: `torch.cuda.amp.autocast(args...)` is deprecated. Please use `torch.amp.autocast('cuda', args...)` instead.\n",
            "  with torch.cuda.amp.autocast():\n",
            "100%|██████████| 2/2 [00:00<00:00,  4.87it/s, D_fake=0.0271, D_real=0.982]\n"
          ]
        },
        {
          "output_type": "stream",
          "name": "stdout",
          "text": [
            "y_true size: (9000,), y_pred size: (9000,)\n",
            "Accuracy: 0.5000, TPR: 1.0000, FPR: 1.0000, TNR: 0.0000, FNR: 0.0000\n",
            "Precision: 0.5000, Recall: 1.0000, F1 Score: 0.6667\n",
            "FID: 572.7586669921875\n",
            "PSNR: 9.8200\n",
            "Epoch 222 - Metrics: Accuracy: 0.5000, TPR: 1.0000, FPR: 1.0000, FID: 572.7587, PSNR: 9.8200\n"
          ]
        },
        {
          "output_type": "stream",
          "name": "stderr",
          "text": [
            "\r  0%|          | 0/2 [00:00<?, ?it/s]<ipython-input-4-6490c8d8cca4>:11: FutureWarning: `torch.cuda.amp.autocast(args...)` is deprecated. Please use `torch.amp.autocast('cuda', args...)` instead.\n",
            "  with torch.cuda.amp.autocast():\n",
            "<ipython-input-4-6490c8d8cca4>:25: FutureWarning: `torch.cuda.amp.autocast(args...)` is deprecated. Please use `torch.amp.autocast('cuda', args...)` instead.\n",
            "  with torch.cuda.amp.autocast():\n",
            "100%|██████████| 2/2 [00:00<00:00,  5.22it/s, D_fake=0.0153, D_real=0.975]\n"
          ]
        },
        {
          "output_type": "stream",
          "name": "stdout",
          "text": [
            "y_true size: (9000,), y_pred size: (9000,)\n",
            "Accuracy: 0.5000, TPR: 1.0000, FPR: 1.0000, TNR: 0.0000, FNR: 0.0000\n",
            "Precision: 0.5000, Recall: 1.0000, F1 Score: 0.6667\n",
            "FID: 599.6567993164062\n",
            "PSNR: 9.8982\n",
            "Epoch 223 - Metrics: Accuracy: 0.5000, TPR: 1.0000, FPR: 1.0000, FID: 599.6568, PSNR: 9.8982\n"
          ]
        },
        {
          "output_type": "stream",
          "name": "stderr",
          "text": [
            "\r  0%|          | 0/2 [00:00<?, ?it/s]<ipython-input-4-6490c8d8cca4>:11: FutureWarning: `torch.cuda.amp.autocast(args...)` is deprecated. Please use `torch.amp.autocast('cuda', args...)` instead.\n",
            "  with torch.cuda.amp.autocast():\n",
            "<ipython-input-4-6490c8d8cca4>:25: FutureWarning: `torch.cuda.amp.autocast(args...)` is deprecated. Please use `torch.amp.autocast('cuda', args...)` instead.\n",
            "  with torch.cuda.amp.autocast():\n",
            "100%|██████████| 2/2 [00:00<00:00,  5.06it/s, D_fake=0.0202, D_real=0.987]\n"
          ]
        },
        {
          "output_type": "stream",
          "name": "stdout",
          "text": [
            "y_true size: (9000,), y_pred size: (9000,)\n",
            "Accuracy: 0.5154, TPR: 1.0000, FPR: 0.9691, TNR: 0.0309, FNR: 0.0000\n",
            "Precision: 0.5078, Recall: 1.0000, F1 Score: 0.6736\n",
            "FID: 531.1722412109375\n",
            "PSNR: 9.8209\n",
            "Epoch 224 - Metrics: Accuracy: 0.5154, TPR: 1.0000, FPR: 0.9691, FID: 531.1722, PSNR: 9.8209\n"
          ]
        },
        {
          "output_type": "stream",
          "name": "stderr",
          "text": [
            "\r  0%|          | 0/2 [00:00<?, ?it/s]<ipython-input-4-6490c8d8cca4>:11: FutureWarning: `torch.cuda.amp.autocast(args...)` is deprecated. Please use `torch.amp.autocast('cuda', args...)` instead.\n",
            "  with torch.cuda.amp.autocast():\n",
            "<ipython-input-4-6490c8d8cca4>:25: FutureWarning: `torch.cuda.amp.autocast(args...)` is deprecated. Please use `torch.amp.autocast('cuda', args...)` instead.\n",
            "  with torch.cuda.amp.autocast():\n",
            "100%|██████████| 2/2 [00:00<00:00,  4.98it/s, D_fake=0.0352, D_real=0.989]\n"
          ]
        },
        {
          "output_type": "stream",
          "name": "stdout",
          "text": [
            "y_true size: (9000,), y_pred size: (9000,)\n",
            "Accuracy: 0.5000, TPR: 1.0000, FPR: 1.0000, TNR: 0.0000, FNR: 0.0000\n",
            "Precision: 0.5000, Recall: 1.0000, F1 Score: 0.6667\n",
            "FID: 594.3391723632812\n",
            "PSNR: 9.8553\n",
            "Epoch 225 - Metrics: Accuracy: 0.5000, TPR: 1.0000, FPR: 1.0000, FID: 594.3392, PSNR: 9.8553\n"
          ]
        },
        {
          "output_type": "stream",
          "name": "stderr",
          "text": [
            "\r  0%|          | 0/2 [00:00<?, ?it/s]<ipython-input-4-6490c8d8cca4>:11: FutureWarning: `torch.cuda.amp.autocast(args...)` is deprecated. Please use `torch.amp.autocast('cuda', args...)` instead.\n",
            "  with torch.cuda.amp.autocast():\n",
            "<ipython-input-4-6490c8d8cca4>:25: FutureWarning: `torch.cuda.amp.autocast(args...)` is deprecated. Please use `torch.amp.autocast('cuda', args...)` instead.\n",
            "  with torch.cuda.amp.autocast():\n",
            "100%|██████████| 2/2 [00:00<00:00,  5.28it/s, D_fake=0.0112, D_real=0.966]\n"
          ]
        },
        {
          "output_type": "stream",
          "name": "stdout",
          "text": [
            "y_true size: (9000,), y_pred size: (9000,)\n",
            "Accuracy: 0.5000, TPR: 1.0000, FPR: 1.0000, TNR: 0.0000, FNR: 0.0000\n",
            "Precision: 0.5000, Recall: 1.0000, F1 Score: 0.6667\n",
            "FID: 604.8110961914062\n",
            "PSNR: 9.9151\n",
            "Epoch 226 - Metrics: Accuracy: 0.5000, TPR: 1.0000, FPR: 1.0000, FID: 604.8111, PSNR: 9.9151\n"
          ]
        },
        {
          "output_type": "stream",
          "name": "stderr",
          "text": [
            "\r  0%|          | 0/2 [00:00<?, ?it/s]<ipython-input-4-6490c8d8cca4>:11: FutureWarning: `torch.cuda.amp.autocast(args...)` is deprecated. Please use `torch.amp.autocast('cuda', args...)` instead.\n",
            "  with torch.cuda.amp.autocast():\n",
            "<ipython-input-4-6490c8d8cca4>:25: FutureWarning: `torch.cuda.amp.autocast(args...)` is deprecated. Please use `torch.amp.autocast('cuda', args...)` instead.\n",
            "  with torch.cuda.amp.autocast():\n",
            "100%|██████████| 2/2 [00:00<00:00,  5.06it/s, D_fake=0.0209, D_real=0.987]\n"
          ]
        },
        {
          "output_type": "stream",
          "name": "stdout",
          "text": [
            "y_true size: (9000,), y_pred size: (9000,)\n",
            "Accuracy: 0.5000, TPR: 1.0000, FPR: 1.0000, TNR: 0.0000, FNR: 0.0000\n",
            "Precision: 0.5000, Recall: 1.0000, F1 Score: 0.6667\n",
            "FID: 623.63916015625\n",
            "PSNR: 9.8701\n",
            "Epoch 227 - Metrics: Accuracy: 0.5000, TPR: 1.0000, FPR: 1.0000, FID: 623.6392, PSNR: 9.8701\n"
          ]
        },
        {
          "output_type": "stream",
          "name": "stderr",
          "text": [
            "\r  0%|          | 0/2 [00:00<?, ?it/s]<ipython-input-4-6490c8d8cca4>:11: FutureWarning: `torch.cuda.amp.autocast(args...)` is deprecated. Please use `torch.amp.autocast('cuda', args...)` instead.\n",
            "  with torch.cuda.amp.autocast():\n",
            "<ipython-input-4-6490c8d8cca4>:25: FutureWarning: `torch.cuda.amp.autocast(args...)` is deprecated. Please use `torch.amp.autocast('cuda', args...)` instead.\n",
            "  with torch.cuda.amp.autocast():\n",
            "100%|██████████| 2/2 [00:00<00:00,  5.48it/s, D_fake=0.0223, D_real=0.993]\n"
          ]
        },
        {
          "output_type": "stream",
          "name": "stdout",
          "text": [
            "y_true size: (9000,), y_pred size: (9000,)\n",
            "Accuracy: 0.5000, TPR: 1.0000, FPR: 1.0000, TNR: 0.0000, FNR: 0.0000\n",
            "Precision: 0.5000, Recall: 1.0000, F1 Score: 0.6667\n",
            "FID: 635.3748779296875\n",
            "PSNR: 9.8014\n",
            "Epoch 228 - Metrics: Accuracy: 0.5000, TPR: 1.0000, FPR: 1.0000, FID: 635.3749, PSNR: 9.8014\n"
          ]
        },
        {
          "output_type": "stream",
          "name": "stderr",
          "text": [
            "\r  0%|          | 0/2 [00:00<?, ?it/s]<ipython-input-4-6490c8d8cca4>:11: FutureWarning: `torch.cuda.amp.autocast(args...)` is deprecated. Please use `torch.amp.autocast('cuda', args...)` instead.\n",
            "  with torch.cuda.amp.autocast():\n",
            "<ipython-input-4-6490c8d8cca4>:25: FutureWarning: `torch.cuda.amp.autocast(args...)` is deprecated. Please use `torch.amp.autocast('cuda', args...)` instead.\n",
            "  with torch.cuda.amp.autocast():\n",
            "100%|██████████| 2/2 [00:00<00:00,  5.19it/s, D_fake=0.01, D_real=0.978]\n"
          ]
        },
        {
          "output_type": "stream",
          "name": "stdout",
          "text": [
            "y_true size: (9000,), y_pred size: (9000,)\n",
            "Accuracy: 0.5000, TPR: 1.0000, FPR: 1.0000, TNR: 0.0000, FNR: 0.0000\n",
            "Precision: 0.5000, Recall: 1.0000, F1 Score: 0.6667\n",
            "FID: 630.3070068359375\n",
            "PSNR: 9.8485\n",
            "Epoch 229 - Metrics: Accuracy: 0.5000, TPR: 1.0000, FPR: 1.0000, FID: 630.3070, PSNR: 9.8485\n"
          ]
        },
        {
          "output_type": "stream",
          "name": "stderr",
          "text": [
            "\r  0%|          | 0/2 [00:00<?, ?it/s]<ipython-input-4-6490c8d8cca4>:11: FutureWarning: `torch.cuda.amp.autocast(args...)` is deprecated. Please use `torch.amp.autocast('cuda', args...)` instead.\n",
            "  with torch.cuda.amp.autocast():\n",
            "<ipython-input-4-6490c8d8cca4>:25: FutureWarning: `torch.cuda.amp.autocast(args...)` is deprecated. Please use `torch.amp.autocast('cuda', args...)` instead.\n",
            "  with torch.cuda.amp.autocast():\n",
            "100%|██████████| 2/2 [00:00<00:00,  5.04it/s, D_fake=0.0231, D_real=0.982]\n"
          ]
        },
        {
          "output_type": "stream",
          "name": "stdout",
          "text": [
            "y_true size: (9000,), y_pred size: (9000,)\n",
            "Accuracy: 0.5197, TPR: 1.0000, FPR: 0.9607, TNR: 0.0393, FNR: 0.0000\n",
            "Precision: 0.5100, Recall: 1.0000, F1 Score: 0.6755\n",
            "FID: 533.2756958007812\n",
            "PSNR: 9.6484\n",
            "Epoch 230 - Metrics: Accuracy: 0.5197, TPR: 1.0000, FPR: 0.9607, FID: 533.2757, PSNR: 9.6484\n"
          ]
        },
        {
          "output_type": "stream",
          "name": "stderr",
          "text": [
            "\r  0%|          | 0/2 [00:00<?, ?it/s]<ipython-input-4-6490c8d8cca4>:11: FutureWarning: `torch.cuda.amp.autocast(args...)` is deprecated. Please use `torch.amp.autocast('cuda', args...)` instead.\n",
            "  with torch.cuda.amp.autocast():\n",
            "<ipython-input-4-6490c8d8cca4>:25: FutureWarning: `torch.cuda.amp.autocast(args...)` is deprecated. Please use `torch.amp.autocast('cuda', args...)` instead.\n",
            "  with torch.cuda.amp.autocast():\n",
            "100%|██████████| 2/2 [00:00<00:00,  5.02it/s, D_fake=0.0269, D_real=0.985]\n"
          ]
        },
        {
          "output_type": "stream",
          "name": "stdout",
          "text": [
            "y_true size: (9000,), y_pred size: (9000,)\n",
            "Accuracy: 0.4998, TPR: 0.9996, FPR: 1.0000, TNR: 0.0000, FNR: 0.0004\n",
            "Precision: 0.4999, Recall: 0.9996, F1 Score: 0.6665\n",
            "FID: 659.3942260742188\n",
            "PSNR: 9.7873\n",
            "Epoch 231 - Metrics: Accuracy: 0.4998, TPR: 0.9996, FPR: 1.0000, FID: 659.3942, PSNR: 9.7873\n"
          ]
        },
        {
          "output_type": "stream",
          "name": "stderr",
          "text": [
            "\r  0%|          | 0/2 [00:00<?, ?it/s]<ipython-input-4-6490c8d8cca4>:11: FutureWarning: `torch.cuda.amp.autocast(args...)` is deprecated. Please use `torch.amp.autocast('cuda', args...)` instead.\n",
            "  with torch.cuda.amp.autocast():\n",
            "<ipython-input-4-6490c8d8cca4>:25: FutureWarning: `torch.cuda.amp.autocast(args...)` is deprecated. Please use `torch.amp.autocast('cuda', args...)` instead.\n",
            "  with torch.cuda.amp.autocast():\n",
            "100%|██████████| 2/2 [00:00<00:00,  4.39it/s, D_fake=0.0213, D_real=0.952]\n"
          ]
        },
        {
          "output_type": "stream",
          "name": "stdout",
          "text": [
            "y_true size: (9000,), y_pred size: (9000,)\n",
            "Accuracy: 0.5000, TPR: 1.0000, FPR: 1.0000, TNR: 0.0000, FNR: 0.0000\n",
            "Precision: 0.5000, Recall: 1.0000, F1 Score: 0.6667\n",
            "FID: 593.7311401367188\n",
            "PSNR: 9.7751\n",
            "Epoch 232 - Metrics: Accuracy: 0.5000, TPR: 1.0000, FPR: 1.0000, FID: 593.7311, PSNR: 9.7751\n"
          ]
        },
        {
          "output_type": "stream",
          "name": "stderr",
          "text": [
            "\r  0%|          | 0/2 [00:00<?, ?it/s]<ipython-input-4-6490c8d8cca4>:11: FutureWarning: `torch.cuda.amp.autocast(args...)` is deprecated. Please use `torch.amp.autocast('cuda', args...)` instead.\n",
            "  with torch.cuda.amp.autocast():\n",
            "<ipython-input-4-6490c8d8cca4>:25: FutureWarning: `torch.cuda.amp.autocast(args...)` is deprecated. Please use `torch.amp.autocast('cuda', args...)` instead.\n",
            "  with torch.cuda.amp.autocast():\n",
            "100%|██████████| 2/2 [00:00<00:00,  5.29it/s, D_fake=0.0158, D_real=0.99]\n"
          ]
        },
        {
          "output_type": "stream",
          "name": "stdout",
          "text": [
            "y_true size: (9000,), y_pred size: (9000,)\n",
            "Accuracy: 0.5000, TPR: 1.0000, FPR: 1.0000, TNR: 0.0000, FNR: 0.0000\n",
            "Precision: 0.5000, Recall: 1.0000, F1 Score: 0.6667\n",
            "FID: 640.8729248046875\n",
            "PSNR: 9.8471\n",
            "Epoch 233 - Metrics: Accuracy: 0.5000, TPR: 1.0000, FPR: 1.0000, FID: 640.8729, PSNR: 9.8471\n"
          ]
        },
        {
          "output_type": "stream",
          "name": "stderr",
          "text": [
            "\r  0%|          | 0/2 [00:00<?, ?it/s]<ipython-input-4-6490c8d8cca4>:11: FutureWarning: `torch.cuda.amp.autocast(args...)` is deprecated. Please use `torch.amp.autocast('cuda', args...)` instead.\n",
            "  with torch.cuda.amp.autocast():\n",
            "<ipython-input-4-6490c8d8cca4>:25: FutureWarning: `torch.cuda.amp.autocast(args...)` is deprecated. Please use `torch.amp.autocast('cuda', args...)` instead.\n",
            "  with torch.cuda.amp.autocast():\n",
            "100%|██████████| 2/2 [00:00<00:00,  5.14it/s, D_fake=0.0141, D_real=0.994]\n"
          ]
        },
        {
          "output_type": "stream",
          "name": "stdout",
          "text": [
            "y_true size: (9000,), y_pred size: (9000,)\n",
            "Accuracy: 0.5000, TPR: 1.0000, FPR: 1.0000, TNR: 0.0000, FNR: 0.0000\n",
            "Precision: 0.5000, Recall: 1.0000, F1 Score: 0.6667\n",
            "FID: 614.9837036132812\n",
            "PSNR: 9.8171\n",
            "Epoch 234 - Metrics: Accuracy: 0.5000, TPR: 1.0000, FPR: 1.0000, FID: 614.9837, PSNR: 9.8171\n"
          ]
        },
        {
          "output_type": "stream",
          "name": "stderr",
          "text": [
            "\r  0%|          | 0/2 [00:00<?, ?it/s]<ipython-input-4-6490c8d8cca4>:11: FutureWarning: `torch.cuda.amp.autocast(args...)` is deprecated. Please use `torch.amp.autocast('cuda', args...)` instead.\n",
            "  with torch.cuda.amp.autocast():\n",
            "<ipython-input-4-6490c8d8cca4>:25: FutureWarning: `torch.cuda.amp.autocast(args...)` is deprecated. Please use `torch.amp.autocast('cuda', args...)` instead.\n",
            "  with torch.cuda.amp.autocast():\n",
            "100%|██████████| 2/2 [00:00<00:00,  5.06it/s, D_fake=0.00974, D_real=0.989]\n"
          ]
        },
        {
          "output_type": "stream",
          "name": "stdout",
          "text": [
            "y_true size: (9000,), y_pred size: (9000,)\n",
            "Accuracy: 0.5000, TPR: 1.0000, FPR: 1.0000, TNR: 0.0000, FNR: 0.0000\n",
            "Precision: 0.5000, Recall: 1.0000, F1 Score: 0.6667\n",
            "FID: 607.6998291015625\n",
            "PSNR: 9.8495\n",
            "Epoch 235 - Metrics: Accuracy: 0.5000, TPR: 1.0000, FPR: 1.0000, FID: 607.6998, PSNR: 9.8495\n"
          ]
        },
        {
          "output_type": "stream",
          "name": "stderr",
          "text": [
            "\r  0%|          | 0/2 [00:00<?, ?it/s]<ipython-input-4-6490c8d8cca4>:11: FutureWarning: `torch.cuda.amp.autocast(args...)` is deprecated. Please use `torch.amp.autocast('cuda', args...)` instead.\n",
            "  with torch.cuda.amp.autocast():\n",
            "<ipython-input-4-6490c8d8cca4>:25: FutureWarning: `torch.cuda.amp.autocast(args...)` is deprecated. Please use `torch.amp.autocast('cuda', args...)` instead.\n",
            "  with torch.cuda.amp.autocast():\n",
            "100%|██████████| 2/2 [00:00<00:00,  4.87it/s, D_fake=0.00843, D_real=0.989]\n"
          ]
        },
        {
          "output_type": "stream",
          "name": "stdout",
          "text": [
            "y_true size: (9000,), y_pred size: (9000,)\n",
            "Accuracy: 0.5000, TPR: 1.0000, FPR: 1.0000, TNR: 0.0000, FNR: 0.0000\n",
            "Precision: 0.5000, Recall: 1.0000, F1 Score: 0.6667\n",
            "FID: 580.6488037109375\n",
            "PSNR: 9.8343\n",
            "Epoch 236 - Metrics: Accuracy: 0.5000, TPR: 1.0000, FPR: 1.0000, FID: 580.6488, PSNR: 9.8343\n"
          ]
        },
        {
          "output_type": "stream",
          "name": "stderr",
          "text": [
            "\r  0%|          | 0/2 [00:00<?, ?it/s]<ipython-input-4-6490c8d8cca4>:11: FutureWarning: `torch.cuda.amp.autocast(args...)` is deprecated. Please use `torch.amp.autocast('cuda', args...)` instead.\n",
            "  with torch.cuda.amp.autocast():\n",
            "<ipython-input-4-6490c8d8cca4>:25: FutureWarning: `torch.cuda.amp.autocast(args...)` is deprecated. Please use `torch.amp.autocast('cuda', args...)` instead.\n",
            "  with torch.cuda.amp.autocast():\n",
            "100%|██████████| 2/2 [00:00<00:00,  5.23it/s, D_fake=0.0131, D_real=0.995]\n"
          ]
        },
        {
          "output_type": "stream",
          "name": "stdout",
          "text": [
            "y_true size: (9000,), y_pred size: (9000,)\n",
            "Accuracy: 0.5002, TPR: 1.0000, FPR: 0.9996, TNR: 0.0004, FNR: 0.0000\n",
            "Precision: 0.5001, Recall: 1.0000, F1 Score: 0.6668\n",
            "FID: 543.9896850585938\n",
            "PSNR: 9.7948\n",
            "Epoch 237 - Metrics: Accuracy: 0.5002, TPR: 1.0000, FPR: 0.9996, FID: 543.9897, PSNR: 9.7948\n"
          ]
        },
        {
          "output_type": "stream",
          "name": "stderr",
          "text": [
            "\r  0%|          | 0/2 [00:00<?, ?it/s]<ipython-input-4-6490c8d8cca4>:11: FutureWarning: `torch.cuda.amp.autocast(args...)` is deprecated. Please use `torch.amp.autocast('cuda', args...)` instead.\n",
            "  with torch.cuda.amp.autocast():\n",
            "<ipython-input-4-6490c8d8cca4>:25: FutureWarning: `torch.cuda.amp.autocast(args...)` is deprecated. Please use `torch.amp.autocast('cuda', args...)` instead.\n",
            "  with torch.cuda.amp.autocast():\n",
            "100%|██████████| 2/2 [00:00<00:00,  5.05it/s, D_fake=0.0165, D_real=0.993]\n"
          ]
        },
        {
          "output_type": "stream",
          "name": "stdout",
          "text": [
            "y_true size: (9000,), y_pred size: (9000,)\n",
            "Accuracy: 0.5000, TPR: 1.0000, FPR: 1.0000, TNR: 0.0000, FNR: 0.0000\n",
            "Precision: 0.5000, Recall: 1.0000, F1 Score: 0.6667\n",
            "FID: 652.1953125\n",
            "PSNR: 9.7128\n",
            "Epoch 238 - Metrics: Accuracy: 0.5000, TPR: 1.0000, FPR: 1.0000, FID: 652.1953, PSNR: 9.7128\n"
          ]
        },
        {
          "output_type": "stream",
          "name": "stderr",
          "text": [
            "\r  0%|          | 0/2 [00:00<?, ?it/s]<ipython-input-4-6490c8d8cca4>:11: FutureWarning: `torch.cuda.amp.autocast(args...)` is deprecated. Please use `torch.amp.autocast('cuda', args...)` instead.\n",
            "  with torch.cuda.amp.autocast():\n",
            "<ipython-input-4-6490c8d8cca4>:25: FutureWarning: `torch.cuda.amp.autocast(args...)` is deprecated. Please use `torch.amp.autocast('cuda', args...)` instead.\n",
            "  with torch.cuda.amp.autocast():\n",
            "100%|██████████| 2/2 [00:00<00:00,  5.41it/s, D_fake=0.0126, D_real=0.979]\n"
          ]
        },
        {
          "output_type": "stream",
          "name": "stdout",
          "text": [
            "y_true size: (9000,), y_pred size: (9000,)\n",
            "Accuracy: 0.5000, TPR: 1.0000, FPR: 1.0000, TNR: 0.0000, FNR: 0.0000\n",
            "Precision: 0.5000, Recall: 1.0000, F1 Score: 0.6667\n",
            "FID: 612.1652221679688\n",
            "PSNR: 9.6574\n",
            "Epoch 239 - Metrics: Accuracy: 0.5000, TPR: 1.0000, FPR: 1.0000, FID: 612.1652, PSNR: 9.6574\n"
          ]
        },
        {
          "output_type": "stream",
          "name": "stderr",
          "text": [
            "\r  0%|          | 0/2 [00:00<?, ?it/s]<ipython-input-4-6490c8d8cca4>:11: FutureWarning: `torch.cuda.amp.autocast(args...)` is deprecated. Please use `torch.amp.autocast('cuda', args...)` instead.\n",
            "  with torch.cuda.amp.autocast():\n",
            "<ipython-input-4-6490c8d8cca4>:25: FutureWarning: `torch.cuda.amp.autocast(args...)` is deprecated. Please use `torch.amp.autocast('cuda', args...)` instead.\n",
            "  with torch.cuda.amp.autocast():\n",
            "100%|██████████| 2/2 [00:00<00:00,  5.34it/s, D_fake=0.0119, D_real=0.987]\n"
          ]
        },
        {
          "output_type": "stream",
          "name": "stdout",
          "text": [
            "y_true size: (9000,), y_pred size: (9000,)\n",
            "Accuracy: 0.5000, TPR: 1.0000, FPR: 1.0000, TNR: 0.0000, FNR: 0.0000\n",
            "Precision: 0.5000, Recall: 1.0000, F1 Score: 0.6667\n",
            "FID: 557.9087524414062\n",
            "PSNR: 9.7974\n",
            "Epoch 240 - Metrics: Accuracy: 0.5000, TPR: 1.0000, FPR: 1.0000, FID: 557.9088, PSNR: 9.7974\n"
          ]
        },
        {
          "output_type": "stream",
          "name": "stderr",
          "text": [
            "\r  0%|          | 0/2 [00:00<?, ?it/s]<ipython-input-4-6490c8d8cca4>:11: FutureWarning: `torch.cuda.amp.autocast(args...)` is deprecated. Please use `torch.amp.autocast('cuda', args...)` instead.\n",
            "  with torch.cuda.amp.autocast():\n",
            "<ipython-input-4-6490c8d8cca4>:25: FutureWarning: `torch.cuda.amp.autocast(args...)` is deprecated. Please use `torch.amp.autocast('cuda', args...)` instead.\n",
            "  with torch.cuda.amp.autocast():\n",
            "100%|██████████| 2/2 [00:00<00:00,  5.02it/s, D_fake=0.016, D_real=0.996]\n"
          ]
        },
        {
          "output_type": "stream",
          "name": "stdout",
          "text": [
            "y_true size: (9000,), y_pred size: (9000,)\n",
            "Accuracy: 0.5000, TPR: 1.0000, FPR: 1.0000, TNR: 0.0000, FNR: 0.0000\n",
            "Precision: 0.5000, Recall: 1.0000, F1 Score: 0.6667\n",
            "FID: 569.6258544921875\n",
            "PSNR: 9.7393\n",
            "Epoch 241 - Metrics: Accuracy: 0.5000, TPR: 1.0000, FPR: 1.0000, FID: 569.6259, PSNR: 9.7393\n"
          ]
        },
        {
          "output_type": "stream",
          "name": "stderr",
          "text": [
            "\r  0%|          | 0/2 [00:00<?, ?it/s]<ipython-input-4-6490c8d8cca4>:11: FutureWarning: `torch.cuda.amp.autocast(args...)` is deprecated. Please use `torch.amp.autocast('cuda', args...)` instead.\n",
            "  with torch.cuda.amp.autocast():\n",
            "<ipython-input-4-6490c8d8cca4>:25: FutureWarning: `torch.cuda.amp.autocast(args...)` is deprecated. Please use `torch.amp.autocast('cuda', args...)` instead.\n",
            "  with torch.cuda.amp.autocast():\n",
            "100%|██████████| 2/2 [00:00<00:00,  4.60it/s, D_fake=0.0152, D_real=0.991]\n"
          ]
        },
        {
          "output_type": "stream",
          "name": "stdout",
          "text": [
            "y_true size: (9000,), y_pred size: (9000,)\n",
            "Accuracy: 0.5000, TPR: 1.0000, FPR: 1.0000, TNR: 0.0000, FNR: 0.0000\n",
            "Precision: 0.5000, Recall: 1.0000, F1 Score: 0.6667\n",
            "FID: 579.64794921875\n",
            "PSNR: 9.7187\n",
            "Epoch 242 - Metrics: Accuracy: 0.5000, TPR: 1.0000, FPR: 1.0000, FID: 579.6479, PSNR: 9.7187\n"
          ]
        },
        {
          "output_type": "stream",
          "name": "stderr",
          "text": [
            "\r  0%|          | 0/2 [00:00<?, ?it/s]<ipython-input-4-6490c8d8cca4>:11: FutureWarning: `torch.cuda.amp.autocast(args...)` is deprecated. Please use `torch.amp.autocast('cuda', args...)` instead.\n",
            "  with torch.cuda.amp.autocast():\n",
            "<ipython-input-4-6490c8d8cca4>:25: FutureWarning: `torch.cuda.amp.autocast(args...)` is deprecated. Please use `torch.amp.autocast('cuda', args...)` instead.\n",
            "  with torch.cuda.amp.autocast():\n",
            "100%|██████████| 2/2 [00:00<00:00,  5.48it/s, D_fake=0.00798, D_real=0.988]\n"
          ]
        },
        {
          "output_type": "stream",
          "name": "stdout",
          "text": [
            "y_true size: (9000,), y_pred size: (9000,)\n",
            "Accuracy: 0.5000, TPR: 1.0000, FPR: 1.0000, TNR: 0.0000, FNR: 0.0000\n",
            "Precision: 0.5000, Recall: 1.0000, F1 Score: 0.6667\n",
            "FID: 546.0860595703125\n",
            "PSNR: 9.7022\n",
            "Epoch 243 - Metrics: Accuracy: 0.5000, TPR: 1.0000, FPR: 1.0000, FID: 546.0861, PSNR: 9.7022\n"
          ]
        },
        {
          "output_type": "stream",
          "name": "stderr",
          "text": [
            "\r  0%|          | 0/2 [00:00<?, ?it/s]<ipython-input-4-6490c8d8cca4>:11: FutureWarning: `torch.cuda.amp.autocast(args...)` is deprecated. Please use `torch.amp.autocast('cuda', args...)` instead.\n",
            "  with torch.cuda.amp.autocast():\n",
            "<ipython-input-4-6490c8d8cca4>:25: FutureWarning: `torch.cuda.amp.autocast(args...)` is deprecated. Please use `torch.amp.autocast('cuda', args...)` instead.\n",
            "  with torch.cuda.amp.autocast():\n",
            "100%|██████████| 2/2 [00:00<00:00,  5.07it/s, D_fake=0.00698, D_real=0.99]\n"
          ]
        },
        {
          "output_type": "stream",
          "name": "stdout",
          "text": [
            "y_true size: (9000,), y_pred size: (9000,)\n",
            "Accuracy: 0.5000, TPR: 1.0000, FPR: 1.0000, TNR: 0.0000, FNR: 0.0000\n",
            "Precision: 0.5000, Recall: 1.0000, F1 Score: 0.6667\n",
            "FID: 543.45263671875\n",
            "PSNR: 9.6542\n",
            "Epoch 244 - Metrics: Accuracy: 0.5000, TPR: 1.0000, FPR: 1.0000, FID: 543.4526, PSNR: 9.6542\n"
          ]
        },
        {
          "output_type": "stream",
          "name": "stderr",
          "text": [
            "\r  0%|          | 0/2 [00:00<?, ?it/s]<ipython-input-4-6490c8d8cca4>:11: FutureWarning: `torch.cuda.amp.autocast(args...)` is deprecated. Please use `torch.amp.autocast('cuda', args...)` instead.\n",
            "  with torch.cuda.amp.autocast():\n",
            "<ipython-input-4-6490c8d8cca4>:25: FutureWarning: `torch.cuda.amp.autocast(args...)` is deprecated. Please use `torch.amp.autocast('cuda', args...)` instead.\n",
            "  with torch.cuda.amp.autocast():\n",
            "100%|██████████| 2/2 [00:00<00:00,  5.09it/s, D_fake=0.0146, D_real=0.995]\n"
          ]
        },
        {
          "output_type": "stream",
          "name": "stdout",
          "text": [
            "y_true size: (9000,), y_pred size: (9000,)\n",
            "Accuracy: 0.5000, TPR: 1.0000, FPR: 1.0000, TNR: 0.0000, FNR: 0.0000\n",
            "Precision: 0.5000, Recall: 1.0000, F1 Score: 0.6667\n",
            "FID: 527.5\n",
            "PSNR: 9.5959\n",
            "Epoch 245 - Metrics: Accuracy: 0.5000, TPR: 1.0000, FPR: 1.0000, FID: 527.5000, PSNR: 9.5959\n"
          ]
        },
        {
          "output_type": "stream",
          "name": "stderr",
          "text": [
            "\r  0%|          | 0/2 [00:00<?, ?it/s]<ipython-input-4-6490c8d8cca4>:11: FutureWarning: `torch.cuda.amp.autocast(args...)` is deprecated. Please use `torch.amp.autocast('cuda', args...)` instead.\n",
            "  with torch.cuda.amp.autocast():\n",
            "<ipython-input-4-6490c8d8cca4>:25: FutureWarning: `torch.cuda.amp.autocast(args...)` is deprecated. Please use `torch.amp.autocast('cuda', args...)` instead.\n",
            "  with torch.cuda.amp.autocast():\n",
            "100%|██████████| 2/2 [00:00<00:00,  5.13it/s, D_fake=0.0104, D_real=0.989]\n"
          ]
        },
        {
          "output_type": "stream",
          "name": "stdout",
          "text": [
            "y_true size: (9000,), y_pred size: (9000,)\n",
            "Accuracy: 0.5001, TPR: 1.0000, FPR: 0.9998, TNR: 0.0002, FNR: 0.0000\n",
            "Precision: 0.5001, Recall: 1.0000, F1 Score: 0.6667\n",
            "FID: 580.433837890625\n",
            "PSNR: 9.5418\n",
            "Epoch 246 - Metrics: Accuracy: 0.5001, TPR: 1.0000, FPR: 0.9998, FID: 580.4338, PSNR: 9.5418\n"
          ]
        },
        {
          "output_type": "stream",
          "name": "stderr",
          "text": [
            "\r  0%|          | 0/2 [00:00<?, ?it/s]<ipython-input-4-6490c8d8cca4>:11: FutureWarning: `torch.cuda.amp.autocast(args...)` is deprecated. Please use `torch.amp.autocast('cuda', args...)` instead.\n",
            "  with torch.cuda.amp.autocast():\n",
            "<ipython-input-4-6490c8d8cca4>:25: FutureWarning: `torch.cuda.amp.autocast(args...)` is deprecated. Please use `torch.amp.autocast('cuda', args...)` instead.\n",
            "  with torch.cuda.amp.autocast():\n",
            "100%|██████████| 2/2 [00:00<00:00,  5.01it/s, D_fake=0.0181, D_real=0.987]\n"
          ]
        },
        {
          "output_type": "stream",
          "name": "stdout",
          "text": [
            "y_true size: (9000,), y_pred size: (9000,)\n",
            "Accuracy: 0.5000, TPR: 1.0000, FPR: 1.0000, TNR: 0.0000, FNR: 0.0000\n",
            "Precision: 0.5000, Recall: 1.0000, F1 Score: 0.6667\n",
            "FID: 585.892822265625\n",
            "PSNR: 9.5195\n",
            "Epoch 247 - Metrics: Accuracy: 0.5000, TPR: 1.0000, FPR: 1.0000, FID: 585.8928, PSNR: 9.5195\n"
          ]
        },
        {
          "output_type": "stream",
          "name": "stderr",
          "text": [
            "\r  0%|          | 0/2 [00:00<?, ?it/s]<ipython-input-4-6490c8d8cca4>:11: FutureWarning: `torch.cuda.amp.autocast(args...)` is deprecated. Please use `torch.amp.autocast('cuda', args...)` instead.\n",
            "  with torch.cuda.amp.autocast():\n",
            "<ipython-input-4-6490c8d8cca4>:25: FutureWarning: `torch.cuda.amp.autocast(args...)` is deprecated. Please use `torch.amp.autocast('cuda', args...)` instead.\n",
            "  with torch.cuda.amp.autocast():\n",
            "100%|██████████| 2/2 [00:00<00:00,  5.18it/s, D_fake=0.0168, D_real=0.979]\n"
          ]
        },
        {
          "output_type": "stream",
          "name": "stdout",
          "text": [
            "y_true size: (9000,), y_pred size: (9000,)\n",
            "Accuracy: 0.5000, TPR: 1.0000, FPR: 1.0000, TNR: 0.0000, FNR: 0.0000\n",
            "Precision: 0.5000, Recall: 1.0000, F1 Score: 0.6667\n",
            "FID: 566.4541625976562\n",
            "PSNR: 9.6364\n",
            "Epoch 248 - Metrics: Accuracy: 0.5000, TPR: 1.0000, FPR: 1.0000, FID: 566.4542, PSNR: 9.6364\n"
          ]
        },
        {
          "output_type": "stream",
          "name": "stderr",
          "text": [
            "\r  0%|          | 0/2 [00:00<?, ?it/s]<ipython-input-4-6490c8d8cca4>:11: FutureWarning: `torch.cuda.amp.autocast(args...)` is deprecated. Please use `torch.amp.autocast('cuda', args...)` instead.\n",
            "  with torch.cuda.amp.autocast():\n",
            "<ipython-input-4-6490c8d8cca4>:25: FutureWarning: `torch.cuda.amp.autocast(args...)` is deprecated. Please use `torch.amp.autocast('cuda', args...)` instead.\n",
            "  with torch.cuda.amp.autocast():\n",
            "100%|██████████| 2/2 [00:00<00:00,  4.97it/s, D_fake=0.0107, D_real=0.982]\n"
          ]
        },
        {
          "output_type": "stream",
          "name": "stdout",
          "text": [
            "y_true size: (9000,), y_pred size: (9000,)\n",
            "Accuracy: 0.5000, TPR: 1.0000, FPR: 1.0000, TNR: 0.0000, FNR: 0.0000\n",
            "Precision: 0.5000, Recall: 1.0000, F1 Score: 0.6667\n",
            "FID: 520.1510620117188\n",
            "PSNR: 9.4012\n",
            "Epoch 249 - Metrics: Accuracy: 0.5000, TPR: 1.0000, FPR: 1.0000, FID: 520.1511, PSNR: 9.4012\n",
            "Saving model at epoch 249\n"
          ]
        },
        {
          "output_type": "stream",
          "name": "stderr",
          "text": [
            "\r  0%|          | 0/2 [00:00<?, ?it/s]<ipython-input-4-6490c8d8cca4>:11: FutureWarning: `torch.cuda.amp.autocast(args...)` is deprecated. Please use `torch.amp.autocast('cuda', args...)` instead.\n",
            "  with torch.cuda.amp.autocast():\n",
            "<ipython-input-4-6490c8d8cca4>:25: FutureWarning: `torch.cuda.amp.autocast(args...)` is deprecated. Please use `torch.amp.autocast('cuda', args...)` instead.\n",
            "  with torch.cuda.amp.autocast():\n",
            "100%|██████████| 2/2 [00:00<00:00,  4.97it/s, D_fake=0.00917, D_real=0.994]\n"
          ]
        },
        {
          "output_type": "stream",
          "name": "stdout",
          "text": [
            "y_true size: (9000,), y_pred size: (9000,)\n",
            "Accuracy: 0.5000, TPR: 1.0000, FPR: 1.0000, TNR: 0.0000, FNR: 0.0000\n",
            "Precision: 0.5000, Recall: 1.0000, F1 Score: 0.6667\n",
            "FID: 493.29736328125\n",
            "PSNR: 9.6250\n",
            "Epoch 250 - Metrics: Accuracy: 0.5000, TPR: 1.0000, FPR: 1.0000, FID: 493.2974, PSNR: 9.6250\n"
          ]
        },
        {
          "output_type": "stream",
          "name": "stderr",
          "text": [
            "\r  0%|          | 0/2 [00:00<?, ?it/s]<ipython-input-4-6490c8d8cca4>:11: FutureWarning: `torch.cuda.amp.autocast(args...)` is deprecated. Please use `torch.amp.autocast('cuda', args...)` instead.\n",
            "  with torch.cuda.amp.autocast():\n",
            "<ipython-input-4-6490c8d8cca4>:25: FutureWarning: `torch.cuda.amp.autocast(args...)` is deprecated. Please use `torch.amp.autocast('cuda', args...)` instead.\n",
            "  with torch.cuda.amp.autocast():\n",
            "100%|██████████| 2/2 [00:00<00:00,  4.72it/s, D_fake=0.00491, D_real=0.995]\n"
          ]
        },
        {
          "output_type": "stream",
          "name": "stdout",
          "text": [
            "y_true size: (9000,), y_pred size: (9000,)\n",
            "Accuracy: 0.5000, TPR: 1.0000, FPR: 1.0000, TNR: 0.0000, FNR: 0.0000\n",
            "Precision: 0.5000, Recall: 1.0000, F1 Score: 0.6667\n",
            "FID: 543.726806640625\n",
            "PSNR: 9.4893\n",
            "Epoch 251 - Metrics: Accuracy: 0.5000, TPR: 1.0000, FPR: 1.0000, FID: 543.7268, PSNR: 9.4893\n"
          ]
        },
        {
          "output_type": "stream",
          "name": "stderr",
          "text": [
            "\r  0%|          | 0/2 [00:00<?, ?it/s]<ipython-input-4-6490c8d8cca4>:11: FutureWarning: `torch.cuda.amp.autocast(args...)` is deprecated. Please use `torch.amp.autocast('cuda', args...)` instead.\n",
            "  with torch.cuda.amp.autocast():\n",
            "<ipython-input-4-6490c8d8cca4>:25: FutureWarning: `torch.cuda.amp.autocast(args...)` is deprecated. Please use `torch.amp.autocast('cuda', args...)` instead.\n",
            "  with torch.cuda.amp.autocast():\n",
            "100%|██████████| 2/2 [00:00<00:00,  5.37it/s, D_fake=0.0101, D_real=0.994]\n"
          ]
        },
        {
          "output_type": "stream",
          "name": "stdout",
          "text": [
            "y_true size: (9000,), y_pred size: (9000,)\n",
            "Accuracy: 0.4892, TPR: 0.9784, FPR: 1.0000, TNR: 0.0000, FNR: 0.0216\n",
            "Precision: 0.4946, Recall: 0.9784, F1 Score: 0.6570\n",
            "FID: 473.5517578125\n",
            "PSNR: 9.1391\n",
            "Epoch 252 - Metrics: Accuracy: 0.4892, TPR: 0.9784, FPR: 1.0000, FID: 473.5518, PSNR: 9.1391\n"
          ]
        },
        {
          "output_type": "stream",
          "name": "stderr",
          "text": [
            "\r  0%|          | 0/2 [00:00<?, ?it/s]<ipython-input-4-6490c8d8cca4>:11: FutureWarning: `torch.cuda.amp.autocast(args...)` is deprecated. Please use `torch.amp.autocast('cuda', args...)` instead.\n",
            "  with torch.cuda.amp.autocast():\n",
            "<ipython-input-4-6490c8d8cca4>:25: FutureWarning: `torch.cuda.amp.autocast(args...)` is deprecated. Please use `torch.amp.autocast('cuda', args...)` instead.\n",
            "  with torch.cuda.amp.autocast():\n",
            "100%|██████████| 2/2 [00:00<00:00,  5.14it/s, D_fake=0.00632, D_real=0.914]\n"
          ]
        },
        {
          "output_type": "stream",
          "name": "stdout",
          "text": [
            "y_true size: (9000,), y_pred size: (9000,)\n",
            "Accuracy: 0.5027, TPR: 1.0000, FPR: 0.9947, TNR: 0.0053, FNR: 0.0000\n",
            "Precision: 0.5013, Recall: 1.0000, F1 Score: 0.6679\n",
            "FID: 550.2692260742188\n",
            "PSNR: 9.5264\n",
            "Epoch 253 - Metrics: Accuracy: 0.5027, TPR: 1.0000, FPR: 0.9947, FID: 550.2692, PSNR: 9.5264\n"
          ]
        },
        {
          "output_type": "stream",
          "name": "stderr",
          "text": [
            "\r  0%|          | 0/2 [00:00<?, ?it/s]<ipython-input-4-6490c8d8cca4>:11: FutureWarning: `torch.cuda.amp.autocast(args...)` is deprecated. Please use `torch.amp.autocast('cuda', args...)` instead.\n",
            "  with torch.cuda.amp.autocast():\n",
            "<ipython-input-4-6490c8d8cca4>:25: FutureWarning: `torch.cuda.amp.autocast(args...)` is deprecated. Please use `torch.amp.autocast('cuda', args...)` instead.\n",
            "  with torch.cuda.amp.autocast():\n",
            "100%|██████████| 2/2 [00:00<00:00,  4.85it/s, D_fake=0.00728, D_real=0.998]\n"
          ]
        },
        {
          "output_type": "stream",
          "name": "stdout",
          "text": [
            "y_true size: (9000,), y_pred size: (9000,)\n",
            "Accuracy: 0.5034, TPR: 1.0000, FPR: 0.9931, TNR: 0.0069, FNR: 0.0000\n",
            "Precision: 0.5017, Recall: 1.0000, F1 Score: 0.6682\n",
            "FID: 488.63671875\n",
            "PSNR: 9.4603\n",
            "Epoch 254 - Metrics: Accuracy: 0.5034, TPR: 1.0000, FPR: 0.9931, FID: 488.6367, PSNR: 9.4603\n"
          ]
        },
        {
          "output_type": "stream",
          "name": "stderr",
          "text": [
            "\r  0%|          | 0/2 [00:00<?, ?it/s]<ipython-input-4-6490c8d8cca4>:11: FutureWarning: `torch.cuda.amp.autocast(args...)` is deprecated. Please use `torch.amp.autocast('cuda', args...)` instead.\n",
            "  with torch.cuda.amp.autocast():\n",
            "<ipython-input-4-6490c8d8cca4>:25: FutureWarning: `torch.cuda.amp.autocast(args...)` is deprecated. Please use `torch.amp.autocast('cuda', args...)` instead.\n",
            "  with torch.cuda.amp.autocast():\n",
            "100%|██████████| 2/2 [00:00<00:00,  5.12it/s, D_fake=0.00992, D_real=0.993]\n"
          ]
        },
        {
          "output_type": "stream",
          "name": "stdout",
          "text": [
            "y_true size: (9000,), y_pred size: (9000,)\n",
            "Accuracy: 0.4997, TPR: 0.9993, FPR: 1.0000, TNR: 0.0000, FNR: 0.0007\n",
            "Precision: 0.4998, Recall: 0.9993, F1 Score: 0.6664\n",
            "FID: 507.7225646972656\n",
            "PSNR: 9.4841\n",
            "Epoch 255 - Metrics: Accuracy: 0.4997, TPR: 0.9993, FPR: 1.0000, FID: 507.7226, PSNR: 9.4841\n"
          ]
        },
        {
          "output_type": "stream",
          "name": "stderr",
          "text": [
            "\r  0%|          | 0/2 [00:00<?, ?it/s]<ipython-input-4-6490c8d8cca4>:11: FutureWarning: `torch.cuda.amp.autocast(args...)` is deprecated. Please use `torch.amp.autocast('cuda', args...)` instead.\n",
            "  with torch.cuda.amp.autocast():\n",
            "<ipython-input-4-6490c8d8cca4>:25: FutureWarning: `torch.cuda.amp.autocast(args...)` is deprecated. Please use `torch.amp.autocast('cuda', args...)` instead.\n",
            "  with torch.cuda.amp.autocast():\n",
            "100%|██████████| 2/2 [00:00<00:00,  4.69it/s, D_fake=0.00843, D_real=0.97]\n"
          ]
        },
        {
          "output_type": "stream",
          "name": "stdout",
          "text": [
            "y_true size: (9000,), y_pred size: (9000,)\n",
            "Accuracy: 0.5231, TPR: 1.0000, FPR: 0.9538, TNR: 0.0462, FNR: 0.0000\n",
            "Precision: 0.5118, Recall: 1.0000, F1 Score: 0.6771\n",
            "FID: 551.94384765625\n",
            "PSNR: 9.4678\n",
            "Epoch 256 - Metrics: Accuracy: 0.5231, TPR: 1.0000, FPR: 0.9538, FID: 551.9438, PSNR: 9.4678\n"
          ]
        },
        {
          "output_type": "stream",
          "name": "stderr",
          "text": [
            "\r  0%|          | 0/2 [00:00<?, ?it/s]<ipython-input-4-6490c8d8cca4>:11: FutureWarning: `torch.cuda.amp.autocast(args...)` is deprecated. Please use `torch.amp.autocast('cuda', args...)` instead.\n",
            "  with torch.cuda.amp.autocast():\n",
            "<ipython-input-4-6490c8d8cca4>:25: FutureWarning: `torch.cuda.amp.autocast(args...)` is deprecated. Please use `torch.amp.autocast('cuda', args...)` instead.\n",
            "  with torch.cuda.amp.autocast():\n",
            "100%|██████████| 2/2 [00:00<00:00,  4.96it/s, D_fake=0.00634, D_real=0.999]\n"
          ]
        },
        {
          "output_type": "stream",
          "name": "stdout",
          "text": [
            "y_true size: (9000,), y_pred size: (9000,)\n",
            "Accuracy: 0.5000, TPR: 1.0000, FPR: 1.0000, TNR: 0.0000, FNR: 0.0000\n",
            "Precision: 0.5000, Recall: 1.0000, F1 Score: 0.6667\n",
            "FID: 481.58233642578125\n",
            "PSNR: 9.5624\n",
            "Epoch 257 - Metrics: Accuracy: 0.5000, TPR: 1.0000, FPR: 1.0000, FID: 481.5823, PSNR: 9.5624\n"
          ]
        },
        {
          "output_type": "stream",
          "name": "stderr",
          "text": [
            "\r  0%|          | 0/2 [00:00<?, ?it/s]<ipython-input-4-6490c8d8cca4>:11: FutureWarning: `torch.cuda.amp.autocast(args...)` is deprecated. Please use `torch.amp.autocast('cuda', args...)` instead.\n",
            "  with torch.cuda.amp.autocast():\n",
            "<ipython-input-4-6490c8d8cca4>:25: FutureWarning: `torch.cuda.amp.autocast(args...)` is deprecated. Please use `torch.amp.autocast('cuda', args...)` instead.\n",
            "  with torch.cuda.amp.autocast():\n",
            "100%|██████████| 2/2 [00:00<00:00,  4.95it/s, D_fake=0.0129, D_real=0.975]\n"
          ]
        },
        {
          "output_type": "stream",
          "name": "stdout",
          "text": [
            "y_true size: (9000,), y_pred size: (9000,)\n",
            "Accuracy: 0.5000, TPR: 1.0000, FPR: 1.0000, TNR: 0.0000, FNR: 0.0000\n",
            "Precision: 0.5000, Recall: 1.0000, F1 Score: 0.6667\n",
            "FID: 529.9322509765625\n",
            "PSNR: 9.4693\n",
            "Epoch 258 - Metrics: Accuracy: 0.5000, TPR: 1.0000, FPR: 1.0000, FID: 529.9323, PSNR: 9.4693\n"
          ]
        },
        {
          "output_type": "stream",
          "name": "stderr",
          "text": [
            "\r  0%|          | 0/2 [00:00<?, ?it/s]<ipython-input-4-6490c8d8cca4>:11: FutureWarning: `torch.cuda.amp.autocast(args...)` is deprecated. Please use `torch.amp.autocast('cuda', args...)` instead.\n",
            "  with torch.cuda.amp.autocast():\n",
            "<ipython-input-4-6490c8d8cca4>:25: FutureWarning: `torch.cuda.amp.autocast(args...)` is deprecated. Please use `torch.amp.autocast('cuda', args...)` instead.\n",
            "  with torch.cuda.amp.autocast():\n",
            "100%|██████████| 2/2 [00:00<00:00,  4.85it/s, D_fake=0.00781, D_real=0.982]\n"
          ]
        },
        {
          "output_type": "stream",
          "name": "stdout",
          "text": [
            "y_true size: (9000,), y_pred size: (9000,)\n",
            "Accuracy: 0.5000, TPR: 1.0000, FPR: 1.0000, TNR: 0.0000, FNR: 0.0000\n",
            "Precision: 0.5000, Recall: 1.0000, F1 Score: 0.6667\n",
            "FID: 505.337890625\n",
            "PSNR: 9.3442\n",
            "Epoch 259 - Metrics: Accuracy: 0.5000, TPR: 1.0000, FPR: 1.0000, FID: 505.3379, PSNR: 9.3442\n"
          ]
        },
        {
          "output_type": "stream",
          "name": "stderr",
          "text": [
            "\r  0%|          | 0/2 [00:00<?, ?it/s]<ipython-input-4-6490c8d8cca4>:11: FutureWarning: `torch.cuda.amp.autocast(args...)` is deprecated. Please use `torch.amp.autocast('cuda', args...)` instead.\n",
            "  with torch.cuda.amp.autocast():\n",
            "<ipython-input-4-6490c8d8cca4>:25: FutureWarning: `torch.cuda.amp.autocast(args...)` is deprecated. Please use `torch.amp.autocast('cuda', args...)` instead.\n",
            "  with torch.cuda.amp.autocast():\n",
            "100%|██████████| 2/2 [00:00<00:00,  5.51it/s, D_fake=0.00366, D_real=0.983]\n"
          ]
        },
        {
          "output_type": "stream",
          "name": "stdout",
          "text": [
            "y_true size: (9000,), y_pred size: (9000,)\n",
            "Accuracy: 0.5000, TPR: 1.0000, FPR: 1.0000, TNR: 0.0000, FNR: 0.0000\n",
            "Precision: 0.5000, Recall: 1.0000, F1 Score: 0.6667\n",
            "FID: 484.5816345214844\n",
            "PSNR: 9.6241\n",
            "Epoch 260 - Metrics: Accuracy: 0.5000, TPR: 1.0000, FPR: 1.0000, FID: 484.5816, PSNR: 9.6241\n"
          ]
        },
        {
          "output_type": "stream",
          "name": "stderr",
          "text": [
            "\r  0%|          | 0/2 [00:00<?, ?it/s]<ipython-input-4-6490c8d8cca4>:11: FutureWarning: `torch.cuda.amp.autocast(args...)` is deprecated. Please use `torch.amp.autocast('cuda', args...)` instead.\n",
            "  with torch.cuda.amp.autocast():\n",
            "<ipython-input-4-6490c8d8cca4>:25: FutureWarning: `torch.cuda.amp.autocast(args...)` is deprecated. Please use `torch.amp.autocast('cuda', args...)` instead.\n",
            "  with torch.cuda.amp.autocast():\n",
            "100%|██████████| 2/2 [00:00<00:00,  5.00it/s, D_fake=0.00523, D_real=0.993]\n"
          ]
        },
        {
          "output_type": "stream",
          "name": "stdout",
          "text": [
            "y_true size: (9000,), y_pred size: (9000,)\n",
            "Accuracy: 0.5000, TPR: 1.0000, FPR: 1.0000, TNR: 0.0000, FNR: 0.0000\n",
            "Precision: 0.5000, Recall: 1.0000, F1 Score: 0.6667\n",
            "FID: 497.8116149902344\n",
            "PSNR: 9.4295\n",
            "Epoch 261 - Metrics: Accuracy: 0.5000, TPR: 1.0000, FPR: 1.0000, FID: 497.8116, PSNR: 9.4295\n"
          ]
        },
        {
          "output_type": "stream",
          "name": "stderr",
          "text": [
            "\r  0%|          | 0/2 [00:00<?, ?it/s]<ipython-input-4-6490c8d8cca4>:11: FutureWarning: `torch.cuda.amp.autocast(args...)` is deprecated. Please use `torch.amp.autocast('cuda', args...)` instead.\n",
            "  with torch.cuda.amp.autocast():\n",
            "<ipython-input-4-6490c8d8cca4>:25: FutureWarning: `torch.cuda.amp.autocast(args...)` is deprecated. Please use `torch.amp.autocast('cuda', args...)` instead.\n",
            "  with torch.cuda.amp.autocast():\n",
            "100%|██████████| 2/2 [00:00<00:00,  4.90it/s, D_fake=0.00663, D_real=0.994]\n"
          ]
        },
        {
          "output_type": "stream",
          "name": "stdout",
          "text": [
            "y_true size: (9000,), y_pred size: (9000,)\n",
            "Accuracy: 0.5000, TPR: 1.0000, FPR: 1.0000, TNR: 0.0000, FNR: 0.0000\n",
            "Precision: 0.5000, Recall: 1.0000, F1 Score: 0.6667\n",
            "FID: 509.09857177734375\n",
            "PSNR: 9.4048\n",
            "Epoch 262 - Metrics: Accuracy: 0.5000, TPR: 1.0000, FPR: 1.0000, FID: 509.0986, PSNR: 9.4048\n"
          ]
        },
        {
          "output_type": "stream",
          "name": "stderr",
          "text": [
            "\r  0%|          | 0/2 [00:00<?, ?it/s]<ipython-input-4-6490c8d8cca4>:11: FutureWarning: `torch.cuda.amp.autocast(args...)` is deprecated. Please use `torch.amp.autocast('cuda', args...)` instead.\n",
            "  with torch.cuda.amp.autocast():\n",
            "<ipython-input-4-6490c8d8cca4>:25: FutureWarning: `torch.cuda.amp.autocast(args...)` is deprecated. Please use `torch.amp.autocast('cuda', args...)` instead.\n",
            "  with torch.cuda.amp.autocast():\n",
            "100%|██████████| 2/2 [00:00<00:00,  5.12it/s, D_fake=0.01, D_real=0.988]\n"
          ]
        },
        {
          "output_type": "stream",
          "name": "stdout",
          "text": [
            "y_true size: (9000,), y_pred size: (9000,)\n",
            "Accuracy: 0.5009, TPR: 1.0000, FPR: 0.9982, TNR: 0.0018, FNR: 0.0000\n",
            "Precision: 0.5004, Recall: 1.0000, F1 Score: 0.6671\n",
            "FID: 496.5633544921875\n",
            "PSNR: 9.3950\n",
            "Epoch 263 - Metrics: Accuracy: 0.5009, TPR: 1.0000, FPR: 0.9982, FID: 496.5634, PSNR: 9.3950\n"
          ]
        },
        {
          "output_type": "stream",
          "name": "stderr",
          "text": [
            "\r  0%|          | 0/2 [00:00<?, ?it/s]<ipython-input-4-6490c8d8cca4>:11: FutureWarning: `torch.cuda.amp.autocast(args...)` is deprecated. Please use `torch.amp.autocast('cuda', args...)` instead.\n",
            "  with torch.cuda.amp.autocast():\n",
            "<ipython-input-4-6490c8d8cca4>:25: FutureWarning: `torch.cuda.amp.autocast(args...)` is deprecated. Please use `torch.amp.autocast('cuda', args...)` instead.\n",
            "  with torch.cuda.amp.autocast():\n",
            "100%|██████████| 2/2 [00:00<00:00,  5.07it/s, D_fake=0.0175, D_real=0.977]\n"
          ]
        },
        {
          "output_type": "stream",
          "name": "stdout",
          "text": [
            "y_true size: (9000,), y_pred size: (9000,)\n",
            "Accuracy: 0.5000, TPR: 1.0000, FPR: 1.0000, TNR: 0.0000, FNR: 0.0000\n",
            "Precision: 0.5000, Recall: 1.0000, F1 Score: 0.6667\n",
            "FID: 512.8348388671875\n",
            "PSNR: 9.2749\n",
            "Epoch 264 - Metrics: Accuracy: 0.5000, TPR: 1.0000, FPR: 1.0000, FID: 512.8348, PSNR: 9.2749\n"
          ]
        },
        {
          "output_type": "stream",
          "name": "stderr",
          "text": [
            "\r  0%|          | 0/2 [00:00<?, ?it/s]<ipython-input-4-6490c8d8cca4>:11: FutureWarning: `torch.cuda.amp.autocast(args...)` is deprecated. Please use `torch.amp.autocast('cuda', args...)` instead.\n",
            "  with torch.cuda.amp.autocast():\n",
            "<ipython-input-4-6490c8d8cca4>:25: FutureWarning: `torch.cuda.amp.autocast(args...)` is deprecated. Please use `torch.amp.autocast('cuda', args...)` instead.\n",
            "  with torch.cuda.amp.autocast():\n",
            "100%|██████████| 2/2 [00:00<00:00,  5.29it/s, D_fake=0.0125, D_real=0.988]\n"
          ]
        },
        {
          "output_type": "stream",
          "name": "stdout",
          "text": [
            "y_true size: (9000,), y_pred size: (9000,)\n",
            "Accuracy: 0.5060, TPR: 1.0000, FPR: 0.9880, TNR: 0.0120, FNR: 0.0000\n",
            "Precision: 0.5030, Recall: 1.0000, F1 Score: 0.6693\n",
            "FID: 498.652587890625\n",
            "PSNR: 9.3214\n",
            "Epoch 265 - Metrics: Accuracy: 0.5060, TPR: 1.0000, FPR: 0.9880, FID: 498.6526, PSNR: 9.3214\n"
          ]
        },
        {
          "output_type": "stream",
          "name": "stderr",
          "text": [
            "\r  0%|          | 0/2 [00:00<?, ?it/s]<ipython-input-4-6490c8d8cca4>:11: FutureWarning: `torch.cuda.amp.autocast(args...)` is deprecated. Please use `torch.amp.autocast('cuda', args...)` instead.\n",
            "  with torch.cuda.amp.autocast():\n",
            "<ipython-input-4-6490c8d8cca4>:25: FutureWarning: `torch.cuda.amp.autocast(args...)` is deprecated. Please use `torch.amp.autocast('cuda', args...)` instead.\n",
            "  with torch.cuda.amp.autocast():\n",
            "100%|██████████| 2/2 [00:00<00:00,  5.14it/s, D_fake=0.00441, D_real=0.993]\n"
          ]
        },
        {
          "output_type": "stream",
          "name": "stdout",
          "text": [
            "y_true size: (9000,), y_pred size: (9000,)\n",
            "Accuracy: 0.4986, TPR: 0.9971, FPR: 1.0000, TNR: 0.0000, FNR: 0.0029\n",
            "Precision: 0.4993, Recall: 0.9971, F1 Score: 0.6654\n",
            "FID: 540.17626953125\n",
            "PSNR: 9.2545\n",
            "Epoch 266 - Metrics: Accuracy: 0.4986, TPR: 0.9971, FPR: 1.0000, FID: 540.1763, PSNR: 9.2545\n"
          ]
        },
        {
          "output_type": "stream",
          "name": "stderr",
          "text": [
            "\r  0%|          | 0/2 [00:00<?, ?it/s]<ipython-input-4-6490c8d8cca4>:11: FutureWarning: `torch.cuda.amp.autocast(args...)` is deprecated. Please use `torch.amp.autocast('cuda', args...)` instead.\n",
            "  with torch.cuda.amp.autocast():\n",
            "<ipython-input-4-6490c8d8cca4>:25: FutureWarning: `torch.cuda.amp.autocast(args...)` is deprecated. Please use `torch.amp.autocast('cuda', args...)` instead.\n",
            "  with torch.cuda.amp.autocast():\n",
            "100%|██████████| 2/2 [00:00<00:00,  5.50it/s, D_fake=0.0231, D_real=0.971]\n"
          ]
        },
        {
          "output_type": "stream",
          "name": "stdout",
          "text": [
            "y_true size: (9000,), y_pred size: (9000,)\n",
            "Accuracy: 0.5000, TPR: 1.0000, FPR: 1.0000, TNR: 0.0000, FNR: 0.0000\n",
            "Precision: 0.5000, Recall: 1.0000, F1 Score: 0.6667\n",
            "FID: 515.3755493164062\n",
            "PSNR: 9.3291\n",
            "Epoch 267 - Metrics: Accuracy: 0.5000, TPR: 1.0000, FPR: 1.0000, FID: 515.3755, PSNR: 9.3291\n"
          ]
        },
        {
          "output_type": "stream",
          "name": "stderr",
          "text": [
            "\r  0%|          | 0/2 [00:00<?, ?it/s]<ipython-input-4-6490c8d8cca4>:11: FutureWarning: `torch.cuda.amp.autocast(args...)` is deprecated. Please use `torch.amp.autocast('cuda', args...)` instead.\n",
            "  with torch.cuda.amp.autocast():\n",
            "<ipython-input-4-6490c8d8cca4>:25: FutureWarning: `torch.cuda.amp.autocast(args...)` is deprecated. Please use `torch.amp.autocast('cuda', args...)` instead.\n",
            "  with torch.cuda.amp.autocast():\n",
            "100%|██████████| 2/2 [00:00<00:00,  4.88it/s, D_fake=0.00573, D_real=0.98]\n"
          ]
        },
        {
          "output_type": "stream",
          "name": "stdout",
          "text": [
            "y_true size: (9000,), y_pred size: (9000,)\n",
            "Accuracy: 0.5003, TPR: 1.0000, FPR: 0.9993, TNR: 0.0007, FNR: 0.0000\n",
            "Precision: 0.5002, Recall: 1.0000, F1 Score: 0.6668\n",
            "FID: 501.7256774902344\n",
            "PSNR: 9.3246\n",
            "Epoch 268 - Metrics: Accuracy: 0.5003, TPR: 1.0000, FPR: 0.9993, FID: 501.7257, PSNR: 9.3246\n"
          ]
        },
        {
          "output_type": "stream",
          "name": "stderr",
          "text": [
            "\r  0%|          | 0/2 [00:00<?, ?it/s]<ipython-input-4-6490c8d8cca4>:11: FutureWarning: `torch.cuda.amp.autocast(args...)` is deprecated. Please use `torch.amp.autocast('cuda', args...)` instead.\n",
            "  with torch.cuda.amp.autocast():\n",
            "<ipython-input-4-6490c8d8cca4>:25: FutureWarning: `torch.cuda.amp.autocast(args...)` is deprecated. Please use `torch.amp.autocast('cuda', args...)` instead.\n",
            "  with torch.cuda.amp.autocast():\n",
            "100%|██████████| 2/2 [00:00<00:00,  4.98it/s, D_fake=0.0109, D_real=0.993]\n"
          ]
        },
        {
          "output_type": "stream",
          "name": "stdout",
          "text": [
            "y_true size: (9000,), y_pred size: (9000,)\n",
            "Accuracy: 0.5009, TPR: 1.0000, FPR: 0.9982, TNR: 0.0018, FNR: 0.0000\n",
            "Precision: 0.5004, Recall: 1.0000, F1 Score: 0.6671\n",
            "FID: 492.34783935546875\n",
            "PSNR: 9.2257\n",
            "Epoch 269 - Metrics: Accuracy: 0.5009, TPR: 1.0000, FPR: 0.9982, FID: 492.3478, PSNR: 9.2257\n"
          ]
        },
        {
          "output_type": "stream",
          "name": "stderr",
          "text": [
            "\r  0%|          | 0/2 [00:00<?, ?it/s]<ipython-input-4-6490c8d8cca4>:11: FutureWarning: `torch.cuda.amp.autocast(args...)` is deprecated. Please use `torch.amp.autocast('cuda', args...)` instead.\n",
            "  with torch.cuda.amp.autocast():\n",
            "<ipython-input-4-6490c8d8cca4>:25: FutureWarning: `torch.cuda.amp.autocast(args...)` is deprecated. Please use `torch.amp.autocast('cuda', args...)` instead.\n",
            "  with torch.cuda.amp.autocast():\n",
            "100%|██████████| 2/2 [00:00<00:00,  5.07it/s, D_fake=0.0229, D_real=0.969]\n"
          ]
        },
        {
          "output_type": "stream",
          "name": "stdout",
          "text": [
            "y_true size: (9000,), y_pred size: (9000,)\n",
            "Accuracy: 0.4896, TPR: 0.9791, FPR: 1.0000, TNR: 0.0000, FNR: 0.0209\n",
            "Precision: 0.4947, Recall: 0.9791, F1 Score: 0.6573\n",
            "FID: 497.4305725097656\n",
            "PSNR: 9.2928\n",
            "Epoch 270 - Metrics: Accuracy: 0.4896, TPR: 0.9791, FPR: 1.0000, FID: 497.4306, PSNR: 9.2928\n"
          ]
        },
        {
          "output_type": "stream",
          "name": "stderr",
          "text": [
            "\r  0%|          | 0/2 [00:00<?, ?it/s]<ipython-input-4-6490c8d8cca4>:11: FutureWarning: `torch.cuda.amp.autocast(args...)` is deprecated. Please use `torch.amp.autocast('cuda', args...)` instead.\n",
            "  with torch.cuda.amp.autocast():\n",
            "<ipython-input-4-6490c8d8cca4>:25: FutureWarning: `torch.cuda.amp.autocast(args...)` is deprecated. Please use `torch.amp.autocast('cuda', args...)` instead.\n",
            "  with torch.cuda.amp.autocast():\n",
            "100%|██████████| 2/2 [00:00<00:00,  5.06it/s, D_fake=0.0807, D_real=0.924]\n"
          ]
        },
        {
          "output_type": "stream",
          "name": "stdout",
          "text": [
            "y_true size: (9000,), y_pred size: (9000,)\n",
            "Accuracy: 0.3549, TPR: 0.7098, FPR: 1.0000, TNR: 0.0000, FNR: 0.2902\n",
            "Precision: 0.4151, Recall: 0.7098, F1 Score: 0.5239\n",
            "FID: 515.5440673828125\n",
            "PSNR: 9.3521\n",
            "Epoch 271 - Metrics: Accuracy: 0.3549, TPR: 0.7098, FPR: 1.0000, FID: 515.5441, PSNR: 9.3521\n"
          ]
        },
        {
          "output_type": "stream",
          "name": "stderr",
          "text": [
            "\r  0%|          | 0/2 [00:00<?, ?it/s]<ipython-input-4-6490c8d8cca4>:11: FutureWarning: `torch.cuda.amp.autocast(args...)` is deprecated. Please use `torch.amp.autocast('cuda', args...)` instead.\n",
            "  with torch.cuda.amp.autocast():\n",
            "<ipython-input-4-6490c8d8cca4>:25: FutureWarning: `torch.cuda.amp.autocast(args...)` is deprecated. Please use `torch.amp.autocast('cuda', args...)` instead.\n",
            "  with torch.cuda.amp.autocast():\n",
            "100%|██████████| 2/2 [00:00<00:00,  4.95it/s, D_fake=0.273, D_real=0.742]\n"
          ]
        },
        {
          "output_type": "stream",
          "name": "stdout",
          "text": [
            "y_true size: (9000,), y_pred size: (9000,)\n",
            "Accuracy: 0.2062, TPR: 0.4124, FPR: 1.0000, TNR: 0.0000, FNR: 0.5876\n",
            "Precision: 0.2920, Recall: 0.4124, F1 Score: 0.3419\n",
            "FID: 549.3444213867188\n",
            "PSNR: 9.5352\n",
            "Epoch 272 - Metrics: Accuracy: 0.2062, TPR: 0.4124, FPR: 1.0000, FID: 549.3444, PSNR: 9.5352\n"
          ]
        },
        {
          "output_type": "stream",
          "name": "stderr",
          "text": [
            "\r  0%|          | 0/2 [00:00<?, ?it/s]<ipython-input-4-6490c8d8cca4>:11: FutureWarning: `torch.cuda.amp.autocast(args...)` is deprecated. Please use `torch.amp.autocast('cuda', args...)` instead.\n",
            "  with torch.cuda.amp.autocast():\n",
            "<ipython-input-4-6490c8d8cca4>:25: FutureWarning: `torch.cuda.amp.autocast(args...)` is deprecated. Please use `torch.amp.autocast('cuda', args...)` instead.\n",
            "  with torch.cuda.amp.autocast():\n",
            "100%|██████████| 2/2 [00:00<00:00,  5.16it/s, D_fake=0.572, D_real=0.365]\n"
          ]
        },
        {
          "output_type": "stream",
          "name": "stdout",
          "text": [
            "y_true size: (9000,), y_pred size: (9000,)\n",
            "Accuracy: 0.1663, TPR: 0.3327, FPR: 1.0000, TNR: 0.0000, FNR: 0.6673\n",
            "Precision: 0.2496, Recall: 0.3327, F1 Score: 0.2852\n",
            "FID: 557.9381103515625\n",
            "PSNR: 9.9537\n",
            "Epoch 273 - Metrics: Accuracy: 0.1663, TPR: 0.3327, FPR: 1.0000, FID: 557.9381, PSNR: 9.9537\n"
          ]
        },
        {
          "output_type": "stream",
          "name": "stderr",
          "text": [
            "\r  0%|          | 0/2 [00:00<?, ?it/s]<ipython-input-4-6490c8d8cca4>:11: FutureWarning: `torch.cuda.amp.autocast(args...)` is deprecated. Please use `torch.amp.autocast('cuda', args...)` instead.\n",
            "  with torch.cuda.amp.autocast():\n",
            "<ipython-input-4-6490c8d8cca4>:25: FutureWarning: `torch.cuda.amp.autocast(args...)` is deprecated. Please use `torch.amp.autocast('cuda', args...)` instead.\n",
            "  with torch.cuda.amp.autocast():\n",
            "100%|██████████| 2/2 [00:00<00:00,  5.47it/s, D_fake=0.0111, D_real=0.248]\n"
          ]
        },
        {
          "output_type": "stream",
          "name": "stdout",
          "text": [
            "y_true size: (9000,), y_pred size: (9000,)\n",
            "Accuracy: 0.5764, TPR: 1.0000, FPR: 0.8471, TNR: 0.1529, FNR: 0.0000\n",
            "Precision: 0.5414, Recall: 1.0000, F1 Score: 0.7025\n",
            "FID: 533.9969482421875\n",
            "PSNR: 10.1223\n",
            "Epoch 274 - Metrics: Accuracy: 0.5764, TPR: 1.0000, FPR: 0.8471, FID: 533.9969, PSNR: 10.1223\n"
          ]
        },
        {
          "output_type": "stream",
          "name": "stderr",
          "text": [
            "\r  0%|          | 0/2 [00:00<?, ?it/s]<ipython-input-4-6490c8d8cca4>:11: FutureWarning: `torch.cuda.amp.autocast(args...)` is deprecated. Please use `torch.amp.autocast('cuda', args...)` instead.\n",
            "  with torch.cuda.amp.autocast():\n",
            "<ipython-input-4-6490c8d8cca4>:25: FutureWarning: `torch.cuda.amp.autocast(args...)` is deprecated. Please use `torch.amp.autocast('cuda', args...)` instead.\n",
            "  with torch.cuda.amp.autocast():\n",
            "100%|██████████| 2/2 [00:00<00:00,  4.91it/s, D_fake=0.268, D_real=0.987]\n"
          ]
        },
        {
          "output_type": "stream",
          "name": "stdout",
          "text": [
            "y_true size: (9000,), y_pred size: (9000,)\n",
            "Accuracy: 0.5649, TPR: 1.0000, FPR: 0.8702, TNR: 0.1298, FNR: 0.0000\n",
            "Precision: 0.5347, Recall: 1.0000, F1 Score: 0.6968\n",
            "FID: 526.1298217773438\n",
            "PSNR: 10.1935\n",
            "Epoch 275 - Metrics: Accuracy: 0.5649, TPR: 1.0000, FPR: 0.8702, FID: 526.1298, PSNR: 10.1935\n"
          ]
        },
        {
          "output_type": "stream",
          "name": "stderr",
          "text": [
            "\r  0%|          | 0/2 [00:00<?, ?it/s]<ipython-input-4-6490c8d8cca4>:11: FutureWarning: `torch.cuda.amp.autocast(args...)` is deprecated. Please use `torch.amp.autocast('cuda', args...)` instead.\n",
            "  with torch.cuda.amp.autocast():\n",
            "<ipython-input-4-6490c8d8cca4>:25: FutureWarning: `torch.cuda.amp.autocast(args...)` is deprecated. Please use `torch.amp.autocast('cuda', args...)` instead.\n",
            "  with torch.cuda.amp.autocast():\n",
            "100%|██████████| 2/2 [00:00<00:00,  5.14it/s, D_fake=0.0897, D_real=0.988]\n"
          ]
        },
        {
          "output_type": "stream",
          "name": "stdout",
          "text": [
            "y_true size: (9000,), y_pred size: (9000,)\n",
            "Accuracy: 0.5026, TPR: 0.9967, FPR: 0.9916, TNR: 0.0084, FNR: 0.0033\n",
            "Precision: 0.5013, Recall: 0.9967, F1 Score: 0.6671\n",
            "FID: 513.973388671875\n",
            "PSNR: 10.1526\n",
            "Epoch 276 - Metrics: Accuracy: 0.5026, TPR: 0.9967, FPR: 0.9916, FID: 513.9734, PSNR: 10.1526\n"
          ]
        },
        {
          "output_type": "stream",
          "name": "stderr",
          "text": [
            "\r  0%|          | 0/2 [00:00<?, ?it/s]<ipython-input-4-6490c8d8cca4>:11: FutureWarning: `torch.cuda.amp.autocast(args...)` is deprecated. Please use `torch.amp.autocast('cuda', args...)` instead.\n",
            "  with torch.cuda.amp.autocast():\n",
            "<ipython-input-4-6490c8d8cca4>:25: FutureWarning: `torch.cuda.amp.autocast(args...)` is deprecated. Please use `torch.amp.autocast('cuda', args...)` instead.\n",
            "  with torch.cuda.amp.autocast():\n",
            "100%|██████████| 2/2 [00:00<00:00,  4.89it/s, D_fake=0.0497, D_real=0.898]\n"
          ]
        },
        {
          "output_type": "stream",
          "name": "stdout",
          "text": [
            "y_true size: (9000,), y_pred size: (9000,)\n",
            "Accuracy: 0.4994, TPR: 0.9989, FPR: 1.0000, TNR: 0.0000, FNR: 0.0011\n",
            "Precision: 0.4997, Recall: 0.9989, F1 Score: 0.6662\n",
            "FID: 591.1370849609375\n",
            "PSNR: 10.0070\n",
            "Epoch 277 - Metrics: Accuracy: 0.4994, TPR: 0.9989, FPR: 1.0000, FID: 591.1371, PSNR: 10.0070\n"
          ]
        },
        {
          "output_type": "stream",
          "name": "stderr",
          "text": [
            "\r  0%|          | 0/2 [00:00<?, ?it/s]<ipython-input-4-6490c8d8cca4>:11: FutureWarning: `torch.cuda.amp.autocast(args...)` is deprecated. Please use `torch.amp.autocast('cuda', args...)` instead.\n",
            "  with torch.cuda.amp.autocast():\n",
            "<ipython-input-4-6490c8d8cca4>:25: FutureWarning: `torch.cuda.amp.autocast(args...)` is deprecated. Please use `torch.amp.autocast('cuda', args...)` instead.\n",
            "  with torch.cuda.amp.autocast():\n",
            "100%|██████████| 2/2 [00:00<00:00,  5.04it/s, D_fake=0.0408, D_real=0.913]\n"
          ]
        },
        {
          "output_type": "stream",
          "name": "stdout",
          "text": [
            "y_true size: (9000,), y_pred size: (9000,)\n",
            "Accuracy: 0.5020, TPR: 1.0000, FPR: 0.9960, TNR: 0.0040, FNR: 0.0000\n",
            "Precision: 0.5010, Recall: 1.0000, F1 Score: 0.6676\n",
            "FID: 531.1137084960938\n",
            "PSNR: 10.2517\n",
            "Epoch 278 - Metrics: Accuracy: 0.5020, TPR: 1.0000, FPR: 0.9960, FID: 531.1137, PSNR: 10.2517\n"
          ]
        },
        {
          "output_type": "stream",
          "name": "stderr",
          "text": [
            "\r  0%|          | 0/2 [00:00<?, ?it/s]<ipython-input-4-6490c8d8cca4>:11: FutureWarning: `torch.cuda.amp.autocast(args...)` is deprecated. Please use `torch.amp.autocast('cuda', args...)` instead.\n",
            "  with torch.cuda.amp.autocast():\n",
            "<ipython-input-4-6490c8d8cca4>:25: FutureWarning: `torch.cuda.amp.autocast(args...)` is deprecated. Please use `torch.amp.autocast('cuda', args...)` instead.\n",
            "  with torch.cuda.amp.autocast():\n",
            "100%|██████████| 2/2 [00:00<00:00,  4.93it/s, D_fake=0.0486, D_real=0.957]\n"
          ]
        },
        {
          "output_type": "stream",
          "name": "stdout",
          "text": [
            "y_true size: (9000,), y_pred size: (9000,)\n",
            "Accuracy: 0.5000, TPR: 1.0000, FPR: 1.0000, TNR: 0.0000, FNR: 0.0000\n",
            "Precision: 0.5000, Recall: 1.0000, F1 Score: 0.6667\n",
            "FID: 498.4512023925781\n",
            "PSNR: 10.0164\n",
            "Epoch 279 - Metrics: Accuracy: 0.5000, TPR: 1.0000, FPR: 1.0000, FID: 498.4512, PSNR: 10.0164\n"
          ]
        },
        {
          "output_type": "stream",
          "name": "stderr",
          "text": [
            "\r  0%|          | 0/2 [00:00<?, ?it/s]<ipython-input-4-6490c8d8cca4>:11: FutureWarning: `torch.cuda.amp.autocast(args...)` is deprecated. Please use `torch.amp.autocast('cuda', args...)` instead.\n",
            "  with torch.cuda.amp.autocast():\n",
            "<ipython-input-4-6490c8d8cca4>:25: FutureWarning: `torch.cuda.amp.autocast(args...)` is deprecated. Please use `torch.amp.autocast('cuda', args...)` instead.\n",
            "  with torch.cuda.amp.autocast():\n",
            "100%|██████████| 2/2 [00:00<00:00,  4.58it/s, D_fake=0.0279, D_real=0.97]\n"
          ]
        },
        {
          "output_type": "stream",
          "name": "stdout",
          "text": [
            "y_true size: (9000,), y_pred size: (9000,)\n",
            "Accuracy: 0.7498, TPR: 1.0000, FPR: 0.5004, TNR: 0.4996, FNR: 0.0000\n",
            "Precision: 0.6665, Recall: 1.0000, F1 Score: 0.7999\n",
            "FID: 661.03515625\n",
            "PSNR: 8.1807\n",
            "Epoch 280 - Metrics: Accuracy: 0.7498, TPR: 1.0000, FPR: 0.5004, FID: 661.0352, PSNR: 8.1807\n"
          ]
        },
        {
          "output_type": "stream",
          "name": "stderr",
          "text": [
            "\r  0%|          | 0/2 [00:00<?, ?it/s]<ipython-input-4-6490c8d8cca4>:11: FutureWarning: `torch.cuda.amp.autocast(args...)` is deprecated. Please use `torch.amp.autocast('cuda', args...)` instead.\n",
            "  with torch.cuda.amp.autocast():\n",
            "<ipython-input-4-6490c8d8cca4>:25: FutureWarning: `torch.cuda.amp.autocast(args...)` is deprecated. Please use `torch.amp.autocast('cuda', args...)` instead.\n",
            "  with torch.cuda.amp.autocast():\n",
            "100%|██████████| 2/2 [00:00<00:00,  5.46it/s, D_fake=0.0509, D_real=0.981]\n"
          ]
        },
        {
          "output_type": "stream",
          "name": "stdout",
          "text": [
            "y_true size: (9000,), y_pred size: (9000,)\n",
            "Accuracy: 0.3709, TPR: 0.7418, FPR: 1.0000, TNR: 0.0000, FNR: 0.2582\n",
            "Precision: 0.4259, Recall: 0.7418, F1 Score: 0.5411\n",
            "FID: 563.2203979492188\n",
            "PSNR: 9.9384\n",
            "Epoch 281 - Metrics: Accuracy: 0.3709, TPR: 0.7418, FPR: 1.0000, FID: 563.2204, PSNR: 9.9384\n"
          ]
        },
        {
          "output_type": "stream",
          "name": "stderr",
          "text": [
            "\r  0%|          | 0/2 [00:00<?, ?it/s]<ipython-input-4-6490c8d8cca4>:11: FutureWarning: `torch.cuda.amp.autocast(args...)` is deprecated. Please use `torch.amp.autocast('cuda', args...)` instead.\n",
            "  with torch.cuda.amp.autocast():\n",
            "<ipython-input-4-6490c8d8cca4>:25: FutureWarning: `torch.cuda.amp.autocast(args...)` is deprecated. Please use `torch.amp.autocast('cuda', args...)` instead.\n",
            "  with torch.cuda.amp.autocast():\n",
            "100%|██████████| 2/2 [00:00<00:00,  4.81it/s, D_fake=0.0147, D_real=0.758]\n"
          ]
        },
        {
          "output_type": "stream",
          "name": "stdout",
          "text": [
            "y_true size: (9000,), y_pred size: (9000,)\n",
            "Accuracy: 0.4967, TPR: 0.9927, FPR: 0.9993, TNR: 0.0007, FNR: 0.0073\n",
            "Precision: 0.4983, Recall: 0.9927, F1 Score: 0.6635\n",
            "FID: 538.7965087890625\n",
            "PSNR: 9.9802\n",
            "Epoch 282 - Metrics: Accuracy: 0.4967, TPR: 0.9927, FPR: 0.9993, FID: 538.7965, PSNR: 9.9802\n"
          ]
        },
        {
          "output_type": "stream",
          "name": "stderr",
          "text": [
            "\r  0%|          | 0/2 [00:00<?, ?it/s]<ipython-input-4-6490c8d8cca4>:11: FutureWarning: `torch.cuda.amp.autocast(args...)` is deprecated. Please use `torch.amp.autocast('cuda', args...)` instead.\n",
            "  with torch.cuda.amp.autocast():\n",
            "<ipython-input-4-6490c8d8cca4>:25: FutureWarning: `torch.cuda.amp.autocast(args...)` is deprecated. Please use `torch.amp.autocast('cuda', args...)` instead.\n",
            "  with torch.cuda.amp.autocast():\n",
            "100%|██████████| 2/2 [00:00<00:00,  5.11it/s, D_fake=0.0498, D_real=0.921]\n"
          ]
        },
        {
          "output_type": "stream",
          "name": "stdout",
          "text": [
            "y_true size: (9000,), y_pred size: (9000,)\n",
            "Accuracy: 0.5018, TPR: 1.0000, FPR: 0.9964, TNR: 0.0036, FNR: 0.0000\n",
            "Precision: 0.5009, Recall: 1.0000, F1 Score: 0.6675\n",
            "FID: 462.8351745605469\n",
            "PSNR: 9.9442\n",
            "Epoch 283 - Metrics: Accuracy: 0.5018, TPR: 1.0000, FPR: 0.9964, FID: 462.8352, PSNR: 9.9442\n"
          ]
        },
        {
          "output_type": "stream",
          "name": "stderr",
          "text": [
            "\r  0%|          | 0/2 [00:00<?, ?it/s]<ipython-input-4-6490c8d8cca4>:11: FutureWarning: `torch.cuda.amp.autocast(args...)` is deprecated. Please use `torch.amp.autocast('cuda', args...)` instead.\n",
            "  with torch.cuda.amp.autocast():\n",
            "<ipython-input-4-6490c8d8cca4>:25: FutureWarning: `torch.cuda.amp.autocast(args...)` is deprecated. Please use `torch.amp.autocast('cuda', args...)` instead.\n",
            "  with torch.cuda.amp.autocast():\n",
            "100%|██████████| 2/2 [00:00<00:00,  4.92it/s, D_fake=0.0403, D_real=0.974]\n"
          ]
        },
        {
          "output_type": "stream",
          "name": "stdout",
          "text": [
            "y_true size: (9000,), y_pred size: (9000,)\n",
            "Accuracy: 0.5000, TPR: 1.0000, FPR: 1.0000, TNR: 0.0000, FNR: 0.0000\n",
            "Precision: 0.5000, Recall: 1.0000, F1 Score: 0.6667\n",
            "FID: 504.6050720214844\n",
            "PSNR: 10.1188\n",
            "Epoch 284 - Metrics: Accuracy: 0.5000, TPR: 1.0000, FPR: 1.0000, FID: 504.6051, PSNR: 10.1188\n"
          ]
        },
        {
          "output_type": "stream",
          "name": "stderr",
          "text": [
            "\r  0%|          | 0/2 [00:00<?, ?it/s]<ipython-input-4-6490c8d8cca4>:11: FutureWarning: `torch.cuda.amp.autocast(args...)` is deprecated. Please use `torch.amp.autocast('cuda', args...)` instead.\n",
            "  with torch.cuda.amp.autocast():\n",
            "<ipython-input-4-6490c8d8cca4>:25: FutureWarning: `torch.cuda.amp.autocast(args...)` is deprecated. Please use `torch.amp.autocast('cuda', args...)` instead.\n",
            "  with torch.cuda.amp.autocast():\n",
            "100%|██████████| 2/2 [00:00<00:00,  4.95it/s, D_fake=0.0371, D_real=0.976]\n"
          ]
        },
        {
          "output_type": "stream",
          "name": "stdout",
          "text": [
            "y_true size: (9000,), y_pred size: (9000,)\n",
            "Accuracy: 0.5000, TPR: 1.0000, FPR: 1.0000, TNR: 0.0000, FNR: 0.0000\n",
            "Precision: 0.5000, Recall: 1.0000, F1 Score: 0.6667\n",
            "FID: 518.5303955078125\n",
            "PSNR: 9.9662\n",
            "Epoch 285 - Metrics: Accuracy: 0.5000, TPR: 1.0000, FPR: 1.0000, FID: 518.5304, PSNR: 9.9662\n"
          ]
        },
        {
          "output_type": "stream",
          "name": "stderr",
          "text": [
            "\r  0%|          | 0/2 [00:00<?, ?it/s]<ipython-input-4-6490c8d8cca4>:11: FutureWarning: `torch.cuda.amp.autocast(args...)` is deprecated. Please use `torch.amp.autocast('cuda', args...)` instead.\n",
            "  with torch.cuda.amp.autocast():\n",
            "<ipython-input-4-6490c8d8cca4>:25: FutureWarning: `torch.cuda.amp.autocast(args...)` is deprecated. Please use `torch.amp.autocast('cuda', args...)` instead.\n",
            "  with torch.cuda.amp.autocast():\n",
            "100%|██████████| 2/2 [00:00<00:00,  5.02it/s, D_fake=0.0165, D_real=0.975]\n"
          ]
        },
        {
          "output_type": "stream",
          "name": "stdout",
          "text": [
            "y_true size: (9000,), y_pred size: (9000,)\n",
            "Accuracy: 0.5000, TPR: 1.0000, FPR: 1.0000, TNR: 0.0000, FNR: 0.0000\n",
            "Precision: 0.5000, Recall: 1.0000, F1 Score: 0.6667\n",
            "FID: 513.2437744140625\n",
            "PSNR: 10.2838\n",
            "Epoch 286 - Metrics: Accuracy: 0.5000, TPR: 1.0000, FPR: 1.0000, FID: 513.2438, PSNR: 10.2838\n"
          ]
        },
        {
          "output_type": "stream",
          "name": "stderr",
          "text": [
            "\r  0%|          | 0/2 [00:00<?, ?it/s]<ipython-input-4-6490c8d8cca4>:11: FutureWarning: `torch.cuda.amp.autocast(args...)` is deprecated. Please use `torch.amp.autocast('cuda', args...)` instead.\n",
            "  with torch.cuda.amp.autocast():\n",
            "<ipython-input-4-6490c8d8cca4>:25: FutureWarning: `torch.cuda.amp.autocast(args...)` is deprecated. Please use `torch.amp.autocast('cuda', args...)` instead.\n",
            "  with torch.cuda.amp.autocast():\n",
            "100%|██████████| 2/2 [00:00<00:00,  4.74it/s, D_fake=0.0232, D_real=0.979]\n"
          ]
        },
        {
          "output_type": "stream",
          "name": "stdout",
          "text": [
            "y_true size: (9000,), y_pred size: (9000,)\n",
            "Accuracy: 0.5000, TPR: 1.0000, FPR: 1.0000, TNR: 0.0000, FNR: 0.0000\n",
            "Precision: 0.5000, Recall: 1.0000, F1 Score: 0.6667\n",
            "FID: 530.9760131835938\n",
            "PSNR: 10.1163\n",
            "Epoch 287 - Metrics: Accuracy: 0.5000, TPR: 1.0000, FPR: 1.0000, FID: 530.9760, PSNR: 10.1163\n"
          ]
        },
        {
          "output_type": "stream",
          "name": "stderr",
          "text": [
            "\r  0%|          | 0/2 [00:00<?, ?it/s]<ipython-input-4-6490c8d8cca4>:11: FutureWarning: `torch.cuda.amp.autocast(args...)` is deprecated. Please use `torch.amp.autocast('cuda', args...)` instead.\n",
            "  with torch.cuda.amp.autocast():\n",
            "<ipython-input-4-6490c8d8cca4>:25: FutureWarning: `torch.cuda.amp.autocast(args...)` is deprecated. Please use `torch.amp.autocast('cuda', args...)` instead.\n",
            "  with torch.cuda.amp.autocast():\n",
            "100%|██████████| 2/2 [00:00<00:00,  5.37it/s, D_fake=0.0158, D_real=0.983]\n"
          ]
        },
        {
          "output_type": "stream",
          "name": "stdout",
          "text": [
            "y_true size: (9000,), y_pred size: (9000,)\n",
            "Accuracy: 0.5000, TPR: 1.0000, FPR: 1.0000, TNR: 0.0000, FNR: 0.0000\n",
            "Precision: 0.5000, Recall: 1.0000, F1 Score: 0.6667\n",
            "FID: 510.9009704589844\n",
            "PSNR: 9.8516\n",
            "Epoch 288 - Metrics: Accuracy: 0.5000, TPR: 1.0000, FPR: 1.0000, FID: 510.9010, PSNR: 9.8516\n"
          ]
        },
        {
          "output_type": "stream",
          "name": "stderr",
          "text": [
            "\r  0%|          | 0/2 [00:00<?, ?it/s]<ipython-input-4-6490c8d8cca4>:11: FutureWarning: `torch.cuda.amp.autocast(args...)` is deprecated. Please use `torch.amp.autocast('cuda', args...)` instead.\n",
            "  with torch.cuda.amp.autocast():\n",
            "<ipython-input-4-6490c8d8cca4>:25: FutureWarning: `torch.cuda.amp.autocast(args...)` is deprecated. Please use `torch.amp.autocast('cuda', args...)` instead.\n",
            "  with torch.cuda.amp.autocast():\n",
            "100%|██████████| 2/2 [00:00<00:00,  5.22it/s, D_fake=0.00996, D_real=0.983]\n"
          ]
        },
        {
          "output_type": "stream",
          "name": "stdout",
          "text": [
            "y_true size: (9000,), y_pred size: (9000,)\n",
            "Accuracy: 0.5000, TPR: 1.0000, FPR: 1.0000, TNR: 0.0000, FNR: 0.0000\n",
            "Precision: 0.5000, Recall: 1.0000, F1 Score: 0.6667\n",
            "FID: 546.3526000976562\n",
            "PSNR: 10.0730\n",
            "Epoch 289 - Metrics: Accuracy: 0.5000, TPR: 1.0000, FPR: 1.0000, FID: 546.3526, PSNR: 10.0730\n"
          ]
        },
        {
          "output_type": "stream",
          "name": "stderr",
          "text": [
            "\r  0%|          | 0/2 [00:00<?, ?it/s]<ipython-input-4-6490c8d8cca4>:11: FutureWarning: `torch.cuda.amp.autocast(args...)` is deprecated. Please use `torch.amp.autocast('cuda', args...)` instead.\n",
            "  with torch.cuda.amp.autocast():\n",
            "<ipython-input-4-6490c8d8cca4>:25: FutureWarning: `torch.cuda.amp.autocast(args...)` is deprecated. Please use `torch.amp.autocast('cuda', args...)` instead.\n",
            "  with torch.cuda.amp.autocast():\n",
            "100%|██████████| 2/2 [00:00<00:00,  5.03it/s, D_fake=0.0115, D_real=0.99]\n"
          ]
        },
        {
          "output_type": "stream",
          "name": "stdout",
          "text": [
            "y_true size: (9000,), y_pred size: (9000,)\n",
            "Accuracy: 0.5000, TPR: 1.0000, FPR: 1.0000, TNR: 0.0000, FNR: 0.0000\n",
            "Precision: 0.5000, Recall: 1.0000, F1 Score: 0.6667\n",
            "FID: 496.4548645019531\n",
            "PSNR: 10.2703\n",
            "Epoch 290 - Metrics: Accuracy: 0.5000, TPR: 1.0000, FPR: 1.0000, FID: 496.4549, PSNR: 10.2703\n"
          ]
        },
        {
          "output_type": "stream",
          "name": "stderr",
          "text": [
            "\r  0%|          | 0/2 [00:00<?, ?it/s]<ipython-input-4-6490c8d8cca4>:11: FutureWarning: `torch.cuda.amp.autocast(args...)` is deprecated. Please use `torch.amp.autocast('cuda', args...)` instead.\n",
            "  with torch.cuda.amp.autocast():\n",
            "<ipython-input-4-6490c8d8cca4>:25: FutureWarning: `torch.cuda.amp.autocast(args...)` is deprecated. Please use `torch.amp.autocast('cuda', args...)` instead.\n",
            "  with torch.cuda.amp.autocast():\n",
            "100%|██████████| 2/2 [00:00<00:00,  5.03it/s, D_fake=0.0212, D_real=0.99]\n"
          ]
        },
        {
          "output_type": "stream",
          "name": "stdout",
          "text": [
            "y_true size: (9000,), y_pred size: (9000,)\n",
            "Accuracy: 0.5000, TPR: 1.0000, FPR: 1.0000, TNR: 0.0000, FNR: 0.0000\n",
            "Precision: 0.5000, Recall: 1.0000, F1 Score: 0.6667\n",
            "FID: 539.1718139648438\n",
            "PSNR: 10.1035\n",
            "Epoch 291 - Metrics: Accuracy: 0.5000, TPR: 1.0000, FPR: 1.0000, FID: 539.1718, PSNR: 10.1035\n"
          ]
        },
        {
          "output_type": "stream",
          "name": "stderr",
          "text": [
            "\r  0%|          | 0/2 [00:00<?, ?it/s]<ipython-input-4-6490c8d8cca4>:11: FutureWarning: `torch.cuda.amp.autocast(args...)` is deprecated. Please use `torch.amp.autocast('cuda', args...)` instead.\n",
            "  with torch.cuda.amp.autocast():\n",
            "<ipython-input-4-6490c8d8cca4>:25: FutureWarning: `torch.cuda.amp.autocast(args...)` is deprecated. Please use `torch.amp.autocast('cuda', args...)` instead.\n",
            "  with torch.cuda.amp.autocast():\n",
            "100%|██████████| 2/2 [00:00<00:00,  5.06it/s, D_fake=0.0178, D_real=0.991]\n"
          ]
        },
        {
          "output_type": "stream",
          "name": "stdout",
          "text": [
            "y_true size: (9000,), y_pred size: (9000,)\n",
            "Accuracy: 0.5091, TPR: 1.0000, FPR: 0.9818, TNR: 0.0182, FNR: 0.0000\n",
            "Precision: 0.5046, Recall: 1.0000, F1 Score: 0.6707\n",
            "FID: 466.31610107421875\n",
            "PSNR: 10.1112\n",
            "Epoch 292 - Metrics: Accuracy: 0.5091, TPR: 1.0000, FPR: 0.9818, FID: 466.3161, PSNR: 10.1112\n"
          ]
        },
        {
          "output_type": "stream",
          "name": "stderr",
          "text": [
            "\r  0%|          | 0/2 [00:00<?, ?it/s]<ipython-input-4-6490c8d8cca4>:11: FutureWarning: `torch.cuda.amp.autocast(args...)` is deprecated. Please use `torch.amp.autocast('cuda', args...)` instead.\n",
            "  with torch.cuda.amp.autocast():\n",
            "<ipython-input-4-6490c8d8cca4>:25: FutureWarning: `torch.cuda.amp.autocast(args...)` is deprecated. Please use `torch.amp.autocast('cuda', args...)` instead.\n",
            "  with torch.cuda.amp.autocast():\n",
            "100%|██████████| 2/2 [00:00<00:00,  5.33it/s, D_fake=0.0352, D_real=0.989]\n"
          ]
        },
        {
          "output_type": "stream",
          "name": "stdout",
          "text": [
            "y_true size: (9000,), y_pred size: (9000,)\n",
            "Accuracy: 0.5000, TPR: 1.0000, FPR: 1.0000, TNR: 0.0000, FNR: 0.0000\n",
            "Precision: 0.5000, Recall: 1.0000, F1 Score: 0.6667\n",
            "FID: 568.5816040039062\n",
            "PSNR: 10.0869\n",
            "Epoch 293 - Metrics: Accuracy: 0.5000, TPR: 1.0000, FPR: 1.0000, FID: 568.5816, PSNR: 10.0869\n"
          ]
        },
        {
          "output_type": "stream",
          "name": "stderr",
          "text": [
            "\r  0%|          | 0/2 [00:00<?, ?it/s]<ipython-input-4-6490c8d8cca4>:11: FutureWarning: `torch.cuda.amp.autocast(args...)` is deprecated. Please use `torch.amp.autocast('cuda', args...)` instead.\n",
            "  with torch.cuda.amp.autocast():\n",
            "<ipython-input-4-6490c8d8cca4>:25: FutureWarning: `torch.cuda.amp.autocast(args...)` is deprecated. Please use `torch.amp.autocast('cuda', args...)` instead.\n",
            "  with torch.cuda.amp.autocast():\n",
            "100%|██████████| 2/2 [00:00<00:00,  5.41it/s, D_fake=0.0118, D_real=0.979]\n"
          ]
        },
        {
          "output_type": "stream",
          "name": "stdout",
          "text": [
            "y_true size: (9000,), y_pred size: (9000,)\n",
            "Accuracy: 0.5000, TPR: 1.0000, FPR: 1.0000, TNR: 0.0000, FNR: 0.0000\n",
            "Precision: 0.5000, Recall: 1.0000, F1 Score: 0.6667\n",
            "FID: 602.8108520507812\n",
            "PSNR: 9.9541\n",
            "Epoch 294 - Metrics: Accuracy: 0.5000, TPR: 1.0000, FPR: 1.0000, FID: 602.8109, PSNR: 9.9541\n"
          ]
        },
        {
          "output_type": "stream",
          "name": "stderr",
          "text": [
            "\r  0%|          | 0/2 [00:00<?, ?it/s]<ipython-input-4-6490c8d8cca4>:11: FutureWarning: `torch.cuda.amp.autocast(args...)` is deprecated. Please use `torch.amp.autocast('cuda', args...)` instead.\n",
            "  with torch.cuda.amp.autocast():\n",
            "<ipython-input-4-6490c8d8cca4>:25: FutureWarning: `torch.cuda.amp.autocast(args...)` is deprecated. Please use `torch.amp.autocast('cuda', args...)` instead.\n",
            "  with torch.cuda.amp.autocast():\n",
            "100%|██████████| 2/2 [00:00<00:00,  4.81it/s, D_fake=0.0143, D_real=0.981]\n"
          ]
        },
        {
          "output_type": "stream",
          "name": "stdout",
          "text": [
            "y_true size: (9000,), y_pred size: (9000,)\n",
            "Accuracy: 0.5008, TPR: 1.0000, FPR: 0.9984, TNR: 0.0016, FNR: 0.0000\n",
            "Precision: 0.5004, Recall: 1.0000, F1 Score: 0.6670\n",
            "FID: 504.79193115234375\n",
            "PSNR: 10.1008\n",
            "Epoch 295 - Metrics: Accuracy: 0.5008, TPR: 1.0000, FPR: 0.9984, FID: 504.7919, PSNR: 10.1008\n"
          ]
        },
        {
          "output_type": "stream",
          "name": "stderr",
          "text": [
            "\r  0%|          | 0/2 [00:00<?, ?it/s]<ipython-input-4-6490c8d8cca4>:11: FutureWarning: `torch.cuda.amp.autocast(args...)` is deprecated. Please use `torch.amp.autocast('cuda', args...)` instead.\n",
            "  with torch.cuda.amp.autocast():\n",
            "<ipython-input-4-6490c8d8cca4>:25: FutureWarning: `torch.cuda.amp.autocast(args...)` is deprecated. Please use `torch.amp.autocast('cuda', args...)` instead.\n",
            "  with torch.cuda.amp.autocast():\n",
            "100%|██████████| 2/2 [00:00<00:00,  5.42it/s, D_fake=0.0164, D_real=0.99]\n"
          ]
        },
        {
          "output_type": "stream",
          "name": "stdout",
          "text": [
            "y_true size: (9000,), y_pred size: (9000,)\n",
            "Accuracy: 0.5056, TPR: 1.0000, FPR: 0.9889, TNR: 0.0111, FNR: 0.0000\n",
            "Precision: 0.5028, Recall: 1.0000, F1 Score: 0.6691\n",
            "FID: 572.762939453125\n",
            "PSNR: 9.8261\n",
            "Epoch 296 - Metrics: Accuracy: 0.5056, TPR: 1.0000, FPR: 0.9889, FID: 572.7629, PSNR: 9.8261\n"
          ]
        },
        {
          "output_type": "stream",
          "name": "stderr",
          "text": [
            "\r  0%|          | 0/2 [00:00<?, ?it/s]<ipython-input-4-6490c8d8cca4>:11: FutureWarning: `torch.cuda.amp.autocast(args...)` is deprecated. Please use `torch.amp.autocast('cuda', args...)` instead.\n",
            "  with torch.cuda.amp.autocast():\n",
            "<ipython-input-4-6490c8d8cca4>:25: FutureWarning: `torch.cuda.amp.autocast(args...)` is deprecated. Please use `torch.amp.autocast('cuda', args...)` instead.\n",
            "  with torch.cuda.amp.autocast():\n",
            "100%|██████████| 2/2 [00:00<00:00,  4.52it/s, D_fake=0.0269, D_real=0.99]\n"
          ]
        },
        {
          "output_type": "stream",
          "name": "stdout",
          "text": [
            "y_true size: (9000,), y_pred size: (9000,)\n",
            "Accuracy: 0.5059, TPR: 1.0000, FPR: 0.9882, TNR: 0.0118, FNR: 0.0000\n",
            "Precision: 0.5030, Recall: 1.0000, F1 Score: 0.6693\n",
            "FID: 575.653076171875\n",
            "PSNR: 9.7710\n",
            "Epoch 297 - Metrics: Accuracy: 0.5059, TPR: 1.0000, FPR: 0.9882, FID: 575.6531, PSNR: 9.7710\n"
          ]
        },
        {
          "output_type": "stream",
          "name": "stderr",
          "text": [
            "\r  0%|          | 0/2 [00:00<?, ?it/s]<ipython-input-4-6490c8d8cca4>:11: FutureWarning: `torch.cuda.amp.autocast(args...)` is deprecated. Please use `torch.amp.autocast('cuda', args...)` instead.\n",
            "  with torch.cuda.amp.autocast():\n",
            "<ipython-input-4-6490c8d8cca4>:25: FutureWarning: `torch.cuda.amp.autocast(args...)` is deprecated. Please use `torch.amp.autocast('cuda', args...)` instead.\n",
            "  with torch.cuda.amp.autocast():\n",
            "100%|██████████| 2/2 [00:00<00:00,  5.07it/s, D_fake=0.0279, D_real=0.983]\n"
          ]
        },
        {
          "output_type": "stream",
          "name": "stdout",
          "text": [
            "y_true size: (9000,), y_pred size: (9000,)\n",
            "Accuracy: 0.5000, TPR: 1.0000, FPR: 1.0000, TNR: 0.0000, FNR: 0.0000\n",
            "Precision: 0.5000, Recall: 1.0000, F1 Score: 0.6667\n",
            "FID: 542.5211791992188\n",
            "PSNR: 9.2441\n",
            "Epoch 298 - Metrics: Accuracy: 0.5000, TPR: 1.0000, FPR: 1.0000, FID: 542.5212, PSNR: 9.2441\n"
          ]
        },
        {
          "output_type": "stream",
          "name": "stderr",
          "text": [
            "\r  0%|          | 0/2 [00:00<?, ?it/s]<ipython-input-4-6490c8d8cca4>:11: FutureWarning: `torch.cuda.amp.autocast(args...)` is deprecated. Please use `torch.amp.autocast('cuda', args...)` instead.\n",
            "  with torch.cuda.amp.autocast():\n",
            "<ipython-input-4-6490c8d8cca4>:25: FutureWarning: `torch.cuda.amp.autocast(args...)` is deprecated. Please use `torch.amp.autocast('cuda', args...)` instead.\n",
            "  with torch.cuda.amp.autocast():\n",
            "100%|██████████| 2/2 [00:00<00:00,  5.17it/s, D_fake=0.0076, D_real=0.983]\n"
          ]
        },
        {
          "output_type": "stream",
          "name": "stdout",
          "text": [
            "y_true size: (9000,), y_pred size: (9000,)\n",
            "Accuracy: 0.5000, TPR: 1.0000, FPR: 1.0000, TNR: 0.0000, FNR: 0.0000\n",
            "Precision: 0.5000, Recall: 1.0000, F1 Score: 0.6667\n",
            "FID: 490.9085998535156\n",
            "PSNR: 10.0505\n",
            "Epoch 299 - Metrics: Accuracy: 0.5000, TPR: 1.0000, FPR: 1.0000, FID: 490.9086, PSNR: 10.0505\n",
            "Saving model at epoch 299\n"
          ]
        },
        {
          "output_type": "stream",
          "name": "stderr",
          "text": [
            "\r  0%|          | 0/2 [00:00<?, ?it/s]<ipython-input-4-6490c8d8cca4>:11: FutureWarning: `torch.cuda.amp.autocast(args...)` is deprecated. Please use `torch.amp.autocast('cuda', args...)` instead.\n",
            "  with torch.cuda.amp.autocast():\n",
            "<ipython-input-4-6490c8d8cca4>:25: FutureWarning: `torch.cuda.amp.autocast(args...)` is deprecated. Please use `torch.amp.autocast('cuda', args...)` instead.\n",
            "  with torch.cuda.amp.autocast():\n",
            "100%|██████████| 2/2 [00:00<00:00,  4.86it/s, D_fake=0.0473, D_real=0.988]\n"
          ]
        },
        {
          "output_type": "stream",
          "name": "stdout",
          "text": [
            "y_true size: (9000,), y_pred size: (9000,)\n",
            "Accuracy: 0.4952, TPR: 0.9904, FPR: 1.0000, TNR: 0.0000, FNR: 0.0096\n",
            "Precision: 0.4976, Recall: 0.9904, F1 Score: 0.6624\n",
            "FID: 577.6107788085938\n",
            "PSNR: 9.9693\n",
            "Epoch 300 - Metrics: Accuracy: 0.4952, TPR: 0.9904, FPR: 1.0000, FID: 577.6108, PSNR: 9.9693\n"
          ]
        },
        {
          "output_type": "stream",
          "name": "stderr",
          "text": [
            "\r  0%|          | 0/2 [00:00<?, ?it/s]<ipython-input-4-6490c8d8cca4>:11: FutureWarning: `torch.cuda.amp.autocast(args...)` is deprecated. Please use `torch.amp.autocast('cuda', args...)` instead.\n",
            "  with torch.cuda.amp.autocast():\n",
            "<ipython-input-4-6490c8d8cca4>:25: FutureWarning: `torch.cuda.amp.autocast(args...)` is deprecated. Please use `torch.amp.autocast('cuda', args...)` instead.\n",
            "  with torch.cuda.amp.autocast():\n",
            "100%|██████████| 2/2 [00:00<00:00,  5.32it/s, D_fake=0.00448, D_real=0.933]\n"
          ]
        },
        {
          "output_type": "stream",
          "name": "stdout",
          "text": [
            "y_true size: (9000,), y_pred size: (9000,)\n",
            "Accuracy: 0.5000, TPR: 1.0000, FPR: 1.0000, TNR: 0.0000, FNR: 0.0000\n",
            "Precision: 0.5000, Recall: 1.0000, F1 Score: 0.6667\n",
            "FID: 429.9965515136719\n",
            "PSNR: 8.4964\n",
            "Epoch 301 - Metrics: Accuracy: 0.5000, TPR: 1.0000, FPR: 1.0000, FID: 429.9966, PSNR: 8.4964\n"
          ]
        },
        {
          "output_type": "stream",
          "name": "stderr",
          "text": [
            "\r  0%|          | 0/2 [00:00<?, ?it/s]<ipython-input-4-6490c8d8cca4>:11: FutureWarning: `torch.cuda.amp.autocast(args...)` is deprecated. Please use `torch.amp.autocast('cuda', args...)` instead.\n",
            "  with torch.cuda.amp.autocast():\n",
            "<ipython-input-4-6490c8d8cca4>:25: FutureWarning: `torch.cuda.amp.autocast(args...)` is deprecated. Please use `torch.amp.autocast('cuda', args...)` instead.\n",
            "  with torch.cuda.amp.autocast():\n",
            "100%|██████████| 2/2 [00:00<00:00,  5.01it/s, D_fake=0.0129, D_real=0.978]\n"
          ]
        },
        {
          "output_type": "stream",
          "name": "stdout",
          "text": [
            "y_true size: (9000,), y_pred size: (9000,)\n",
            "Accuracy: 0.5000, TPR: 1.0000, FPR: 1.0000, TNR: 0.0000, FNR: 0.0000\n",
            "Precision: 0.5000, Recall: 1.0000, F1 Score: 0.6667\n",
            "FID: 489.85223388671875\n",
            "PSNR: 9.7457\n",
            "Epoch 302 - Metrics: Accuracy: 0.5000, TPR: 1.0000, FPR: 1.0000, FID: 489.8522, PSNR: 9.7457\n"
          ]
        },
        {
          "output_type": "stream",
          "name": "stderr",
          "text": [
            "\r  0%|          | 0/2 [00:00<?, ?it/s]<ipython-input-4-6490c8d8cca4>:11: FutureWarning: `torch.cuda.amp.autocast(args...)` is deprecated. Please use `torch.amp.autocast('cuda', args...)` instead.\n",
            "  with torch.cuda.amp.autocast():\n",
            "<ipython-input-4-6490c8d8cca4>:25: FutureWarning: `torch.cuda.amp.autocast(args...)` is deprecated. Please use `torch.amp.autocast('cuda', args...)` instead.\n",
            "  with torch.cuda.amp.autocast():\n",
            "100%|██████████| 2/2 [00:00<00:00,  4.85it/s, D_fake=0.0202, D_real=0.992]\n"
          ]
        },
        {
          "output_type": "stream",
          "name": "stdout",
          "text": [
            "y_true size: (9000,), y_pred size: (9000,)\n",
            "Accuracy: 0.5000, TPR: 1.0000, FPR: 1.0000, TNR: 0.0000, FNR: 0.0000\n",
            "Precision: 0.5000, Recall: 1.0000, F1 Score: 0.6667\n",
            "FID: 601.4189453125\n",
            "PSNR: 9.5845\n",
            "Epoch 303 - Metrics: Accuracy: 0.5000, TPR: 1.0000, FPR: 1.0000, FID: 601.4189, PSNR: 9.5845\n"
          ]
        },
        {
          "output_type": "stream",
          "name": "stderr",
          "text": [
            "\r  0%|          | 0/2 [00:00<?, ?it/s]<ipython-input-4-6490c8d8cca4>:11: FutureWarning: `torch.cuda.amp.autocast(args...)` is deprecated. Please use `torch.amp.autocast('cuda', args...)` instead.\n",
            "  with torch.cuda.amp.autocast():\n",
            "<ipython-input-4-6490c8d8cca4>:25: FutureWarning: `torch.cuda.amp.autocast(args...)` is deprecated. Please use `torch.amp.autocast('cuda', args...)` instead.\n",
            "  with torch.cuda.amp.autocast():\n",
            "100%|██████████| 2/2 [00:00<00:00,  4.74it/s, D_fake=0.0145, D_real=0.987]\n"
          ]
        },
        {
          "output_type": "stream",
          "name": "stdout",
          "text": [
            "y_true size: (9000,), y_pred size: (9000,)\n",
            "Accuracy: 0.5000, TPR: 1.0000, FPR: 1.0000, TNR: 0.0000, FNR: 0.0000\n",
            "Precision: 0.5000, Recall: 1.0000, F1 Score: 0.6667\n",
            "FID: 653.664794921875\n",
            "PSNR: 9.6068\n",
            "Epoch 304 - Metrics: Accuracy: 0.5000, TPR: 1.0000, FPR: 1.0000, FID: 653.6648, PSNR: 9.6068\n"
          ]
        },
        {
          "output_type": "stream",
          "name": "stderr",
          "text": [
            "\r  0%|          | 0/2 [00:00<?, ?it/s]<ipython-input-4-6490c8d8cca4>:11: FutureWarning: `torch.cuda.amp.autocast(args...)` is deprecated. Please use `torch.amp.autocast('cuda', args...)` instead.\n",
            "  with torch.cuda.amp.autocast():\n",
            "<ipython-input-4-6490c8d8cca4>:25: FutureWarning: `torch.cuda.amp.autocast(args...)` is deprecated. Please use `torch.amp.autocast('cuda', args...)` instead.\n",
            "  with torch.cuda.amp.autocast():\n",
            "100%|██████████| 2/2 [00:00<00:00,  4.93it/s, D_fake=0.00563, D_real=0.986]\n"
          ]
        },
        {
          "output_type": "stream",
          "name": "stdout",
          "text": [
            "y_true size: (9000,), y_pred size: (9000,)\n",
            "Accuracy: 0.5006, TPR: 1.0000, FPR: 0.9989, TNR: 0.0011, FNR: 0.0000\n",
            "Precision: 0.5003, Recall: 1.0000, F1 Score: 0.6669\n",
            "FID: 570.1784057617188\n",
            "PSNR: 9.8684\n",
            "Epoch 305 - Metrics: Accuracy: 0.5006, TPR: 1.0000, FPR: 0.9989, FID: 570.1784, PSNR: 9.8684\n"
          ]
        },
        {
          "output_type": "stream",
          "name": "stderr",
          "text": [
            "\r  0%|          | 0/2 [00:00<?, ?it/s]<ipython-input-4-6490c8d8cca4>:11: FutureWarning: `torch.cuda.amp.autocast(args...)` is deprecated. Please use `torch.amp.autocast('cuda', args...)` instead.\n",
            "  with torch.cuda.amp.autocast():\n",
            "<ipython-input-4-6490c8d8cca4>:25: FutureWarning: `torch.cuda.amp.autocast(args...)` is deprecated. Please use `torch.amp.autocast('cuda', args...)` instead.\n",
            "  with torch.cuda.amp.autocast():\n",
            "100%|██████████| 2/2 [00:00<00:00,  5.04it/s, D_fake=0.0216, D_real=0.993]\n"
          ]
        },
        {
          "output_type": "stream",
          "name": "stdout",
          "text": [
            "y_true size: (9000,), y_pred size: (9000,)\n",
            "Accuracy: 0.5000, TPR: 1.0000, FPR: 1.0000, TNR: 0.0000, FNR: 0.0000\n",
            "Precision: 0.5000, Recall: 1.0000, F1 Score: 0.6667\n",
            "FID: 570.5243530273438\n",
            "PSNR: 9.6069\n",
            "Epoch 306 - Metrics: Accuracy: 0.5000, TPR: 1.0000, FPR: 1.0000, FID: 570.5244, PSNR: 9.6069\n"
          ]
        },
        {
          "output_type": "stream",
          "name": "stderr",
          "text": [
            "\r  0%|          | 0/2 [00:00<?, ?it/s]<ipython-input-4-6490c8d8cca4>:11: FutureWarning: `torch.cuda.amp.autocast(args...)` is deprecated. Please use `torch.amp.autocast('cuda', args...)` instead.\n",
            "  with torch.cuda.amp.autocast():\n",
            "<ipython-input-4-6490c8d8cca4>:25: FutureWarning: `torch.cuda.amp.autocast(args...)` is deprecated. Please use `torch.amp.autocast('cuda', args...)` instead.\n",
            "  with torch.cuda.amp.autocast():\n",
            "100%|██████████| 2/2 [00:00<00:00,  4.81it/s, D_fake=0.00598, D_real=0.994]\n"
          ]
        },
        {
          "output_type": "stream",
          "name": "stdout",
          "text": [
            "y_true size: (9000,), y_pred size: (9000,)\n",
            "Accuracy: 0.5000, TPR: 1.0000, FPR: 1.0000, TNR: 0.0000, FNR: 0.0000\n",
            "Precision: 0.5000, Recall: 1.0000, F1 Score: 0.6667\n",
            "FID: 584.1559448242188\n",
            "PSNR: 9.7551\n",
            "Epoch 307 - Metrics: Accuracy: 0.5000, TPR: 1.0000, FPR: 1.0000, FID: 584.1559, PSNR: 9.7551\n"
          ]
        },
        {
          "output_type": "stream",
          "name": "stderr",
          "text": [
            "\r  0%|          | 0/2 [00:00<?, ?it/s]<ipython-input-4-6490c8d8cca4>:11: FutureWarning: `torch.cuda.amp.autocast(args...)` is deprecated. Please use `torch.amp.autocast('cuda', args...)` instead.\n",
            "  with torch.cuda.amp.autocast():\n",
            "<ipython-input-4-6490c8d8cca4>:25: FutureWarning: `torch.cuda.amp.autocast(args...)` is deprecated. Please use `torch.amp.autocast('cuda', args...)` instead.\n",
            "  with torch.cuda.amp.autocast():\n",
            "100%|██████████| 2/2 [00:00<00:00,  5.07it/s, D_fake=0.0106, D_real=0.995]\n"
          ]
        },
        {
          "output_type": "stream",
          "name": "stdout",
          "text": [
            "y_true size: (9000,), y_pred size: (9000,)\n",
            "Accuracy: 0.5024, TPR: 1.0000, FPR: 0.9951, TNR: 0.0049, FNR: 0.0000\n",
            "Precision: 0.5012, Recall: 1.0000, F1 Score: 0.6678\n",
            "FID: 569.0006713867188\n",
            "PSNR: 9.6679\n",
            "Epoch 308 - Metrics: Accuracy: 0.5024, TPR: 1.0000, FPR: 0.9951, FID: 569.0007, PSNR: 9.6679\n"
          ]
        },
        {
          "output_type": "stream",
          "name": "stderr",
          "text": [
            "\r  0%|          | 0/2 [00:00<?, ?it/s]<ipython-input-4-6490c8d8cca4>:11: FutureWarning: `torch.cuda.amp.autocast(args...)` is deprecated. Please use `torch.amp.autocast('cuda', args...)` instead.\n",
            "  with torch.cuda.amp.autocast():\n",
            "<ipython-input-4-6490c8d8cca4>:25: FutureWarning: `torch.cuda.amp.autocast(args...)` is deprecated. Please use `torch.amp.autocast('cuda', args...)` instead.\n",
            "  with torch.cuda.amp.autocast():\n",
            "100%|██████████| 2/2 [00:00<00:00,  4.93it/s, D_fake=0.0173, D_real=0.993]\n"
          ]
        },
        {
          "output_type": "stream",
          "name": "stdout",
          "text": [
            "y_true size: (9000,), y_pred size: (9000,)\n",
            "Accuracy: 0.5000, TPR: 1.0000, FPR: 1.0000, TNR: 0.0000, FNR: 0.0000\n",
            "Precision: 0.5000, Recall: 1.0000, F1 Score: 0.6667\n",
            "FID: 587.6767578125\n",
            "PSNR: 9.6469\n",
            "Epoch 309 - Metrics: Accuracy: 0.5000, TPR: 1.0000, FPR: 1.0000, FID: 587.6768, PSNR: 9.6469\n"
          ]
        },
        {
          "output_type": "stream",
          "name": "stderr",
          "text": [
            "\r  0%|          | 0/2 [00:00<?, ?it/s]<ipython-input-4-6490c8d8cca4>:11: FutureWarning: `torch.cuda.amp.autocast(args...)` is deprecated. Please use `torch.amp.autocast('cuda', args...)` instead.\n",
            "  with torch.cuda.amp.autocast():\n",
            "<ipython-input-4-6490c8d8cca4>:25: FutureWarning: `torch.cuda.amp.autocast(args...)` is deprecated. Please use `torch.amp.autocast('cuda', args...)` instead.\n",
            "  with torch.cuda.amp.autocast():\n",
            "100%|██████████| 2/2 [00:00<00:00,  5.40it/s, D_fake=0.0102, D_real=0.988]\n"
          ]
        },
        {
          "output_type": "stream",
          "name": "stdout",
          "text": [
            "y_true size: (9000,), y_pred size: (9000,)\n",
            "Accuracy: 0.5009, TPR: 1.0000, FPR: 0.9982, TNR: 0.0018, FNR: 0.0000\n",
            "Precision: 0.5004, Recall: 1.0000, F1 Score: 0.6671\n",
            "FID: 573.1971435546875\n",
            "PSNR: 9.7457\n",
            "Epoch 310 - Metrics: Accuracy: 0.5009, TPR: 1.0000, FPR: 0.9982, FID: 573.1971, PSNR: 9.7457\n"
          ]
        },
        {
          "output_type": "stream",
          "name": "stderr",
          "text": [
            "\r  0%|          | 0/2 [00:00<?, ?it/s]<ipython-input-4-6490c8d8cca4>:11: FutureWarning: `torch.cuda.amp.autocast(args...)` is deprecated. Please use `torch.amp.autocast('cuda', args...)` instead.\n",
            "  with torch.cuda.amp.autocast():\n",
            "<ipython-input-4-6490c8d8cca4>:25: FutureWarning: `torch.cuda.amp.autocast(args...)` is deprecated. Please use `torch.amp.autocast('cuda', args...)` instead.\n",
            "  with torch.cuda.amp.autocast():\n",
            "100%|██████████| 2/2 [00:00<00:00,  5.13it/s, D_fake=0.0134, D_real=0.989]\n"
          ]
        },
        {
          "output_type": "stream",
          "name": "stdout",
          "text": [
            "y_true size: (9000,), y_pred size: (9000,)\n",
            "Accuracy: 0.5000, TPR: 1.0000, FPR: 1.0000, TNR: 0.0000, FNR: 0.0000\n",
            "Precision: 0.5000, Recall: 1.0000, F1 Score: 0.6667\n",
            "FID: 617.2857666015625\n",
            "PSNR: 9.4479\n",
            "Epoch 311 - Metrics: Accuracy: 0.5000, TPR: 1.0000, FPR: 1.0000, FID: 617.2858, PSNR: 9.4479\n"
          ]
        },
        {
          "output_type": "stream",
          "name": "stderr",
          "text": [
            "\r  0%|          | 0/2 [00:00<?, ?it/s]<ipython-input-4-6490c8d8cca4>:11: FutureWarning: `torch.cuda.amp.autocast(args...)` is deprecated. Please use `torch.amp.autocast('cuda', args...)` instead.\n",
            "  with torch.cuda.amp.autocast():\n",
            "<ipython-input-4-6490c8d8cca4>:25: FutureWarning: `torch.cuda.amp.autocast(args...)` is deprecated. Please use `torch.amp.autocast('cuda', args...)` instead.\n",
            "  with torch.cuda.amp.autocast():\n",
            "100%|██████████| 2/2 [00:00<00:00,  4.82it/s, D_fake=0.0107, D_real=0.991]\n"
          ]
        },
        {
          "output_type": "stream",
          "name": "stdout",
          "text": [
            "y_true size: (9000,), y_pred size: (9000,)\n",
            "Accuracy: 0.5000, TPR: 1.0000, FPR: 1.0000, TNR: 0.0000, FNR: 0.0000\n",
            "Precision: 0.5000, Recall: 1.0000, F1 Score: 0.6667\n",
            "FID: 552.5572509765625\n",
            "PSNR: 9.6290\n",
            "Epoch 312 - Metrics: Accuracy: 0.5000, TPR: 1.0000, FPR: 1.0000, FID: 552.5573, PSNR: 9.6290\n"
          ]
        },
        {
          "output_type": "stream",
          "name": "stderr",
          "text": [
            "\r  0%|          | 0/2 [00:00<?, ?it/s]<ipython-input-4-6490c8d8cca4>:11: FutureWarning: `torch.cuda.amp.autocast(args...)` is deprecated. Please use `torch.amp.autocast('cuda', args...)` instead.\n",
            "  with torch.cuda.amp.autocast():\n",
            "<ipython-input-4-6490c8d8cca4>:25: FutureWarning: `torch.cuda.amp.autocast(args...)` is deprecated. Please use `torch.amp.autocast('cuda', args...)` instead.\n",
            "  with torch.cuda.amp.autocast():\n",
            "100%|██████████| 2/2 [00:00<00:00,  5.45it/s, D_fake=0.00887, D_real=0.993]\n"
          ]
        },
        {
          "output_type": "stream",
          "name": "stdout",
          "text": [
            "y_true size: (9000,), y_pred size: (9000,)\n",
            "Accuracy: 0.5026, TPR: 1.0000, FPR: 0.9949, TNR: 0.0051, FNR: 0.0000\n",
            "Precision: 0.5013, Recall: 1.0000, F1 Score: 0.6678\n",
            "FID: 546.294189453125\n",
            "PSNR: 9.6614\n",
            "Epoch 313 - Metrics: Accuracy: 0.5026, TPR: 1.0000, FPR: 0.9949, FID: 546.2942, PSNR: 9.6614\n"
          ]
        },
        {
          "output_type": "stream",
          "name": "stderr",
          "text": [
            "\r  0%|          | 0/2 [00:00<?, ?it/s]<ipython-input-4-6490c8d8cca4>:11: FutureWarning: `torch.cuda.amp.autocast(args...)` is deprecated. Please use `torch.amp.autocast('cuda', args...)` instead.\n",
            "  with torch.cuda.amp.autocast():\n",
            "<ipython-input-4-6490c8d8cca4>:25: FutureWarning: `torch.cuda.amp.autocast(args...)` is deprecated. Please use `torch.amp.autocast('cuda', args...)` instead.\n",
            "  with torch.cuda.amp.autocast():\n",
            "100%|██████████| 2/2 [00:00<00:00,  4.91it/s, D_fake=0.0178, D_real=0.995]\n"
          ]
        },
        {
          "output_type": "stream",
          "name": "stdout",
          "text": [
            "y_true size: (9000,), y_pred size: (9000,)\n",
            "Accuracy: 0.5029, TPR: 1.0000, FPR: 0.9942, TNR: 0.0058, FNR: 0.0000\n",
            "Precision: 0.5014, Recall: 1.0000, F1 Score: 0.6680\n",
            "FID: 564.4188232421875\n",
            "PSNR: 9.6665\n",
            "Epoch 314 - Metrics: Accuracy: 0.5029, TPR: 1.0000, FPR: 0.9942, FID: 564.4188, PSNR: 9.6665\n"
          ]
        },
        {
          "output_type": "stream",
          "name": "stderr",
          "text": [
            "\r  0%|          | 0/2 [00:00<?, ?it/s]<ipython-input-4-6490c8d8cca4>:11: FutureWarning: `torch.cuda.amp.autocast(args...)` is deprecated. Please use `torch.amp.autocast('cuda', args...)` instead.\n",
            "  with torch.cuda.amp.autocast():\n",
            "<ipython-input-4-6490c8d8cca4>:25: FutureWarning: `torch.cuda.amp.autocast(args...)` is deprecated. Please use `torch.amp.autocast('cuda', args...)` instead.\n",
            "  with torch.cuda.amp.autocast():\n",
            "100%|██████████| 2/2 [00:00<00:00,  5.02it/s, D_fake=0.0154, D_real=0.99]\n"
          ]
        },
        {
          "output_type": "stream",
          "name": "stdout",
          "text": [
            "y_true size: (9000,), y_pred size: (9000,)\n",
            "Accuracy: 0.5056, TPR: 1.0000, FPR: 0.9889, TNR: 0.0111, FNR: 0.0000\n",
            "Precision: 0.5028, Recall: 1.0000, F1 Score: 0.6691\n",
            "FID: 621.0628051757812\n",
            "PSNR: 9.5942\n",
            "Epoch 315 - Metrics: Accuracy: 0.5056, TPR: 1.0000, FPR: 0.9889, FID: 621.0628, PSNR: 9.5942\n"
          ]
        },
        {
          "output_type": "stream",
          "name": "stderr",
          "text": [
            "\r  0%|          | 0/2 [00:00<?, ?it/s]<ipython-input-4-6490c8d8cca4>:11: FutureWarning: `torch.cuda.amp.autocast(args...)` is deprecated. Please use `torch.amp.autocast('cuda', args...)` instead.\n",
            "  with torch.cuda.amp.autocast():\n",
            "<ipython-input-4-6490c8d8cca4>:25: FutureWarning: `torch.cuda.amp.autocast(args...)` is deprecated. Please use `torch.amp.autocast('cuda', args...)` instead.\n",
            "  with torch.cuda.amp.autocast():\n",
            "100%|██████████| 2/2 [00:00<00:00,  5.08it/s, D_fake=0.0219, D_real=0.985]\n"
          ]
        },
        {
          "output_type": "stream",
          "name": "stdout",
          "text": [
            "y_true size: (9000,), y_pred size: (9000,)\n",
            "Accuracy: 0.5000, TPR: 1.0000, FPR: 1.0000, TNR: 0.0000, FNR: 0.0000\n",
            "Precision: 0.5000, Recall: 1.0000, F1 Score: 0.6667\n",
            "FID: 610.013427734375\n",
            "PSNR: 9.6011\n",
            "Epoch 316 - Metrics: Accuracy: 0.5000, TPR: 1.0000, FPR: 1.0000, FID: 610.0134, PSNR: 9.6011\n"
          ]
        },
        {
          "output_type": "stream",
          "name": "stderr",
          "text": [
            "\r  0%|          | 0/2 [00:00<?, ?it/s]<ipython-input-4-6490c8d8cca4>:11: FutureWarning: `torch.cuda.amp.autocast(args...)` is deprecated. Please use `torch.amp.autocast('cuda', args...)` instead.\n",
            "  with torch.cuda.amp.autocast():\n",
            "<ipython-input-4-6490c8d8cca4>:25: FutureWarning: `torch.cuda.amp.autocast(args...)` is deprecated. Please use `torch.amp.autocast('cuda', args...)` instead.\n",
            "  with torch.cuda.amp.autocast():\n",
            "100%|██████████| 2/2 [00:00<00:00,  4.70it/s, D_fake=0.0115, D_real=0.98]\n"
          ]
        },
        {
          "output_type": "stream",
          "name": "stdout",
          "text": [
            "y_true size: (9000,), y_pred size: (9000,)\n",
            "Accuracy: 0.5217, TPR: 1.0000, FPR: 0.9567, TNR: 0.0433, FNR: 0.0000\n",
            "Precision: 0.5111, Recall: 1.0000, F1 Score: 0.6764\n",
            "FID: 543.0631103515625\n",
            "PSNR: 9.5011\n",
            "Epoch 317 - Metrics: Accuracy: 0.5217, TPR: 1.0000, FPR: 0.9567, FID: 543.0631, PSNR: 9.5011\n"
          ]
        },
        {
          "output_type": "stream",
          "name": "stderr",
          "text": [
            "\r  0%|          | 0/2 [00:00<?, ?it/s]<ipython-input-4-6490c8d8cca4>:11: FutureWarning: `torch.cuda.amp.autocast(args...)` is deprecated. Please use `torch.amp.autocast('cuda', args...)` instead.\n",
            "  with torch.cuda.amp.autocast():\n",
            "<ipython-input-4-6490c8d8cca4>:25: FutureWarning: `torch.cuda.amp.autocast(args...)` is deprecated. Please use `torch.amp.autocast('cuda', args...)` instead.\n",
            "  with torch.cuda.amp.autocast():\n",
            "100%|██████████| 2/2 [00:00<00:00,  4.92it/s, D_fake=0.0258, D_real=0.992]\n"
          ]
        },
        {
          "output_type": "stream",
          "name": "stdout",
          "text": [
            "y_true size: (9000,), y_pred size: (9000,)\n",
            "Accuracy: 0.4979, TPR: 0.9958, FPR: 1.0000, TNR: 0.0000, FNR: 0.0042\n",
            "Precision: 0.4989, Recall: 0.9958, F1 Score: 0.6648\n",
            "FID: 631.797607421875\n",
            "PSNR: 9.6296\n",
            "Epoch 318 - Metrics: Accuracy: 0.4979, TPR: 0.9958, FPR: 1.0000, FID: 631.7976, PSNR: 9.6296\n"
          ]
        },
        {
          "output_type": "stream",
          "name": "stderr",
          "text": [
            "\r  0%|          | 0/2 [00:00<?, ?it/s]<ipython-input-4-6490c8d8cca4>:11: FutureWarning: `torch.cuda.amp.autocast(args...)` is deprecated. Please use `torch.amp.autocast('cuda', args...)` instead.\n",
            "  with torch.cuda.amp.autocast():\n",
            "<ipython-input-4-6490c8d8cca4>:25: FutureWarning: `torch.cuda.amp.autocast(args...)` is deprecated. Please use `torch.amp.autocast('cuda', args...)` instead.\n",
            "  with torch.cuda.amp.autocast():\n",
            "100%|██████████| 2/2 [00:00<00:00,  5.31it/s, D_fake=0.0102, D_real=0.958]\n"
          ]
        },
        {
          "output_type": "stream",
          "name": "stdout",
          "text": [
            "y_true size: (9000,), y_pred size: (9000,)\n",
            "Accuracy: 0.5000, TPR: 1.0000, FPR: 1.0000, TNR: 0.0000, FNR: 0.0000\n",
            "Precision: 0.5000, Recall: 1.0000, F1 Score: 0.6667\n",
            "FID: 661.6432495117188\n",
            "PSNR: 9.2646\n",
            "Epoch 319 - Metrics: Accuracy: 0.5000, TPR: 1.0000, FPR: 1.0000, FID: 661.6432, PSNR: 9.2646\n"
          ]
        },
        {
          "output_type": "stream",
          "name": "stderr",
          "text": [
            "\r  0%|          | 0/2 [00:00<?, ?it/s]<ipython-input-4-6490c8d8cca4>:11: FutureWarning: `torch.cuda.amp.autocast(args...)` is deprecated. Please use `torch.amp.autocast('cuda', args...)` instead.\n",
            "  with torch.cuda.amp.autocast():\n",
            "<ipython-input-4-6490c8d8cca4>:25: FutureWarning: `torch.cuda.amp.autocast(args...)` is deprecated. Please use `torch.amp.autocast('cuda', args...)` instead.\n",
            "  with torch.cuda.amp.autocast():\n",
            "100%|██████████| 2/2 [00:00<00:00,  4.93it/s, D_fake=0.0053, D_real=0.994]\n"
          ]
        },
        {
          "output_type": "stream",
          "name": "stdout",
          "text": [
            "y_true size: (9000,), y_pred size: (9000,)\n",
            "Accuracy: 0.5274, TPR: 1.0000, FPR: 0.9451, TNR: 0.0549, FNR: 0.0000\n",
            "Precision: 0.5141, Recall: 1.0000, F1 Score: 0.6791\n",
            "FID: 529.6381225585938\n",
            "PSNR: 9.4452\n",
            "Epoch 320 - Metrics: Accuracy: 0.5274, TPR: 1.0000, FPR: 0.9451, FID: 529.6381, PSNR: 9.4452\n"
          ]
        },
        {
          "output_type": "stream",
          "name": "stderr",
          "text": [
            "\r  0%|          | 0/2 [00:00<?, ?it/s]<ipython-input-4-6490c8d8cca4>:11: FutureWarning: `torch.cuda.amp.autocast(args...)` is deprecated. Please use `torch.amp.autocast('cuda', args...)` instead.\n",
            "  with torch.cuda.amp.autocast():\n",
            "<ipython-input-4-6490c8d8cca4>:25: FutureWarning: `torch.cuda.amp.autocast(args...)` is deprecated. Please use `torch.amp.autocast('cuda', args...)` instead.\n",
            "  with torch.cuda.amp.autocast():\n",
            "100%|██████████| 2/2 [00:00<00:00,  5.24it/s, D_fake=0.0174, D_real=0.996]\n"
          ]
        },
        {
          "output_type": "stream",
          "name": "stdout",
          "text": [
            "y_true size: (9000,), y_pred size: (9000,)\n",
            "Accuracy: 0.4430, TPR: 0.8860, FPR: 1.0000, TNR: 0.0000, FNR: 0.1140\n",
            "Precision: 0.4698, Recall: 0.8860, F1 Score: 0.6140\n",
            "FID: 603.9573974609375\n",
            "PSNR: 9.4849\n",
            "Epoch 321 - Metrics: Accuracy: 0.4430, TPR: 0.8860, FPR: 1.0000, FID: 603.9574, PSNR: 9.4849\n"
          ]
        },
        {
          "output_type": "stream",
          "name": "stderr",
          "text": [
            "\r  0%|          | 0/2 [00:00<?, ?it/s]<ipython-input-4-6490c8d8cca4>:11: FutureWarning: `torch.cuda.amp.autocast(args...)` is deprecated. Please use `torch.amp.autocast('cuda', args...)` instead.\n",
            "  with torch.cuda.amp.autocast():\n",
            "<ipython-input-4-6490c8d8cca4>:25: FutureWarning: `torch.cuda.amp.autocast(args...)` is deprecated. Please use `torch.amp.autocast('cuda', args...)` instead.\n",
            "  with torch.cuda.amp.autocast():\n",
            "100%|██████████| 2/2 [00:00<00:00,  4.73it/s, D_fake=0.00949, D_real=0.913]\n"
          ]
        },
        {
          "output_type": "stream",
          "name": "stdout",
          "text": [
            "y_true size: (9000,), y_pred size: (9000,)\n",
            "Accuracy: 0.5010, TPR: 1.0000, FPR: 0.9980, TNR: 0.0020, FNR: 0.0000\n",
            "Precision: 0.5005, Recall: 1.0000, F1 Score: 0.6671\n",
            "FID: 610.4994506835938\n",
            "PSNR: 9.4062\n",
            "Epoch 322 - Metrics: Accuracy: 0.5010, TPR: 1.0000, FPR: 0.9980, FID: 610.4995, PSNR: 9.4062\n"
          ]
        },
        {
          "output_type": "stream",
          "name": "stderr",
          "text": [
            "\r  0%|          | 0/2 [00:00<?, ?it/s]<ipython-input-4-6490c8d8cca4>:11: FutureWarning: `torch.cuda.amp.autocast(args...)` is deprecated. Please use `torch.amp.autocast('cuda', args...)` instead.\n",
            "  with torch.cuda.amp.autocast():\n",
            "<ipython-input-4-6490c8d8cca4>:25: FutureWarning: `torch.cuda.amp.autocast(args...)` is deprecated. Please use `torch.amp.autocast('cuda', args...)` instead.\n",
            "  with torch.cuda.amp.autocast():\n",
            "100%|██████████| 2/2 [00:00<00:00,  4.80it/s, D_fake=0.0193, D_real=0.998]\n"
          ]
        },
        {
          "output_type": "stream",
          "name": "stdout",
          "text": [
            "y_true size: (9000,), y_pred size: (9000,)\n",
            "Accuracy: 0.5036, TPR: 1.0000, FPR: 0.9929, TNR: 0.0071, FNR: 0.0000\n",
            "Precision: 0.5018, Recall: 1.0000, F1 Score: 0.6683\n",
            "FID: 555.7628784179688\n",
            "PSNR: 9.7358\n",
            "Epoch 323 - Metrics: Accuracy: 0.5036, TPR: 1.0000, FPR: 0.9929, FID: 555.7629, PSNR: 9.7358\n"
          ]
        },
        {
          "output_type": "stream",
          "name": "stderr",
          "text": [
            "\r  0%|          | 0/2 [00:00<?, ?it/s]<ipython-input-4-6490c8d8cca4>:11: FutureWarning: `torch.cuda.amp.autocast(args...)` is deprecated. Please use `torch.amp.autocast('cuda', args...)` instead.\n",
            "  with torch.cuda.amp.autocast():\n",
            "<ipython-input-4-6490c8d8cca4>:25: FutureWarning: `torch.cuda.amp.autocast(args...)` is deprecated. Please use `torch.amp.autocast('cuda', args...)` instead.\n",
            "  with torch.cuda.amp.autocast():\n",
            "100%|██████████| 2/2 [00:00<00:00,  5.00it/s, D_fake=0.00945, D_real=0.991]\n"
          ]
        },
        {
          "output_type": "stream",
          "name": "stdout",
          "text": [
            "y_true size: (9000,), y_pred size: (9000,)\n",
            "Accuracy: 0.5003, TPR: 1.0000, FPR: 0.9993, TNR: 0.0007, FNR: 0.0000\n",
            "Precision: 0.5002, Recall: 1.0000, F1 Score: 0.6668\n",
            "FID: 629.714599609375\n",
            "PSNR: 9.4827\n",
            "Epoch 324 - Metrics: Accuracy: 0.5003, TPR: 1.0000, FPR: 0.9993, FID: 629.7146, PSNR: 9.4827\n"
          ]
        },
        {
          "output_type": "stream",
          "name": "stderr",
          "text": [
            "\r  0%|          | 0/2 [00:00<?, ?it/s]<ipython-input-4-6490c8d8cca4>:11: FutureWarning: `torch.cuda.amp.autocast(args...)` is deprecated. Please use `torch.amp.autocast('cuda', args...)` instead.\n",
            "  with torch.cuda.amp.autocast():\n",
            "<ipython-input-4-6490c8d8cca4>:25: FutureWarning: `torch.cuda.amp.autocast(args...)` is deprecated. Please use `torch.amp.autocast('cuda', args...)` instead.\n",
            "  with torch.cuda.amp.autocast():\n",
            "100%|██████████| 2/2 [00:00<00:00,  5.21it/s, D_fake=0.00886, D_real=0.989]\n"
          ]
        },
        {
          "output_type": "stream",
          "name": "stdout",
          "text": [
            "y_true size: (9000,), y_pred size: (9000,)\n",
            "Accuracy: 0.5294, TPR: 1.0000, FPR: 0.9411, TNR: 0.0589, FNR: 0.0000\n",
            "Precision: 0.5152, Recall: 1.0000, F1 Score: 0.6800\n",
            "FID: 497.50653076171875\n",
            "PSNR: 9.2892\n",
            "Epoch 325 - Metrics: Accuracy: 0.5294, TPR: 1.0000, FPR: 0.9411, FID: 497.5065, PSNR: 9.2892\n"
          ]
        },
        {
          "output_type": "stream",
          "name": "stderr",
          "text": [
            "\r  0%|          | 0/2 [00:00<?, ?it/s]<ipython-input-4-6490c8d8cca4>:11: FutureWarning: `torch.cuda.amp.autocast(args...)` is deprecated. Please use `torch.amp.autocast('cuda', args...)` instead.\n",
            "  with torch.cuda.amp.autocast():\n",
            "<ipython-input-4-6490c8d8cca4>:25: FutureWarning: `torch.cuda.amp.autocast(args...)` is deprecated. Please use `torch.amp.autocast('cuda', args...)` instead.\n",
            "  with torch.cuda.amp.autocast():\n",
            "100%|██████████| 2/2 [00:00<00:00,  5.04it/s, D_fake=0.0125, D_real=0.997]\n"
          ]
        },
        {
          "output_type": "stream",
          "name": "stdout",
          "text": [
            "y_true size: (9000,), y_pred size: (9000,)\n",
            "Accuracy: 0.4392, TPR: 0.8784, FPR: 1.0000, TNR: 0.0000, FNR: 0.1216\n",
            "Precision: 0.4676, Recall: 0.8784, F1 Score: 0.6104\n",
            "FID: 616.2401733398438\n",
            "PSNR: 9.5272\n",
            "Epoch 326 - Metrics: Accuracy: 0.4392, TPR: 0.8784, FPR: 1.0000, FID: 616.2402, PSNR: 9.5272\n"
          ]
        },
        {
          "output_type": "stream",
          "name": "stderr",
          "text": [
            "\r  0%|          | 0/2 [00:00<?, ?it/s]<ipython-input-4-6490c8d8cca4>:11: FutureWarning: `torch.cuda.amp.autocast(args...)` is deprecated. Please use `torch.amp.autocast('cuda', args...)` instead.\n",
            "  with torch.cuda.amp.autocast():\n",
            "<ipython-input-4-6490c8d8cca4>:25: FutureWarning: `torch.cuda.amp.autocast(args...)` is deprecated. Please use `torch.amp.autocast('cuda', args...)` instead.\n",
            "  with torch.cuda.amp.autocast():\n",
            "100%|██████████| 2/2 [00:00<00:00,  5.35it/s, D_fake=0.0219, D_real=0.921]\n"
          ]
        },
        {
          "output_type": "stream",
          "name": "stdout",
          "text": [
            "y_true size: (9000,), y_pred size: (9000,)\n",
            "Accuracy: 0.5019, TPR: 1.0000, FPR: 0.9962, TNR: 0.0038, FNR: 0.0000\n",
            "Precision: 0.5009, Recall: 1.0000, F1 Score: 0.6675\n",
            "FID: 509.3372497558594\n",
            "PSNR: 9.6528\n",
            "Epoch 327 - Metrics: Accuracy: 0.5019, TPR: 1.0000, FPR: 0.9962, FID: 509.3372, PSNR: 9.6528\n"
          ]
        },
        {
          "output_type": "stream",
          "name": "stderr",
          "text": [
            "\r  0%|          | 0/2 [00:00<?, ?it/s]<ipython-input-4-6490c8d8cca4>:11: FutureWarning: `torch.cuda.amp.autocast(args...)` is deprecated. Please use `torch.amp.autocast('cuda', args...)` instead.\n",
            "  with torch.cuda.amp.autocast():\n",
            "<ipython-input-4-6490c8d8cca4>:25: FutureWarning: `torch.cuda.amp.autocast(args...)` is deprecated. Please use `torch.amp.autocast('cuda', args...)` instead.\n",
            "  with torch.cuda.amp.autocast():\n",
            "100%|██████████| 2/2 [00:00<00:00,  5.20it/s, D_fake=0.0165, D_real=0.999]\n"
          ]
        },
        {
          "output_type": "stream",
          "name": "stdout",
          "text": [
            "y_true size: (9000,), y_pred size: (9000,)\n",
            "Accuracy: 0.5001, TPR: 1.0000, FPR: 0.9998, TNR: 0.0002, FNR: 0.0000\n",
            "Precision: 0.5001, Recall: 1.0000, F1 Score: 0.6667\n",
            "FID: 660.991943359375\n",
            "PSNR: 9.4342\n",
            "Epoch 328 - Metrics: Accuracy: 0.5001, TPR: 1.0000, FPR: 0.9998, FID: 660.9919, PSNR: 9.4342\n"
          ]
        },
        {
          "output_type": "stream",
          "name": "stderr",
          "text": [
            "\r  0%|          | 0/2 [00:00<?, ?it/s]<ipython-input-4-6490c8d8cca4>:11: FutureWarning: `torch.cuda.amp.autocast(args...)` is deprecated. Please use `torch.amp.autocast('cuda', args...)` instead.\n",
            "  with torch.cuda.amp.autocast():\n",
            "<ipython-input-4-6490c8d8cca4>:25: FutureWarning: `torch.cuda.amp.autocast(args...)` is deprecated. Please use `torch.amp.autocast('cuda', args...)` instead.\n",
            "  with torch.cuda.amp.autocast():\n",
            "100%|██████████| 2/2 [00:00<00:00,  5.01it/s, D_fake=0.00717, D_real=0.992]\n"
          ]
        },
        {
          "output_type": "stream",
          "name": "stdout",
          "text": [
            "y_true size: (9000,), y_pred size: (9000,)\n",
            "Accuracy: 0.4983, TPR: 0.9960, FPR: 0.9993, TNR: 0.0007, FNR: 0.0040\n",
            "Precision: 0.4992, Recall: 0.9960, F1 Score: 0.6650\n",
            "FID: 493.7733154296875\n",
            "PSNR: 9.7811\n",
            "Epoch 329 - Metrics: Accuracy: 0.4983, TPR: 0.9960, FPR: 0.9993, FID: 493.7733, PSNR: 9.7811\n"
          ]
        },
        {
          "output_type": "stream",
          "name": "stderr",
          "text": [
            "\r  0%|          | 0/2 [00:00<?, ?it/s]<ipython-input-4-6490c8d8cca4>:11: FutureWarning: `torch.cuda.amp.autocast(args...)` is deprecated. Please use `torch.amp.autocast('cuda', args...)` instead.\n",
            "  with torch.cuda.amp.autocast():\n",
            "<ipython-input-4-6490c8d8cca4>:25: FutureWarning: `torch.cuda.amp.autocast(args...)` is deprecated. Please use `torch.amp.autocast('cuda', args...)` instead.\n",
            "  with torch.cuda.amp.autocast():\n",
            "100%|██████████| 2/2 [00:00<00:00,  5.01it/s, D_fake=0.0109, D_real=0.979]\n"
          ]
        },
        {
          "output_type": "stream",
          "name": "stdout",
          "text": [
            "y_true size: (9000,), y_pred size: (9000,)\n",
            "Accuracy: 0.5006, TPR: 1.0000, FPR: 0.9989, TNR: 0.0011, FNR: 0.0000\n",
            "Precision: 0.5003, Recall: 1.0000, F1 Score: 0.6669\n",
            "FID: 624.8809204101562\n",
            "PSNR: 9.6768\n",
            "Epoch 330 - Metrics: Accuracy: 0.5006, TPR: 1.0000, FPR: 0.9989, FID: 624.8809, PSNR: 9.6768\n"
          ]
        },
        {
          "output_type": "stream",
          "name": "stderr",
          "text": [
            "\r  0%|          | 0/2 [00:00<?, ?it/s]<ipython-input-4-6490c8d8cca4>:11: FutureWarning: `torch.cuda.amp.autocast(args...)` is deprecated. Please use `torch.amp.autocast('cuda', args...)` instead.\n",
            "  with torch.cuda.amp.autocast():\n",
            "<ipython-input-4-6490c8d8cca4>:25: FutureWarning: `torch.cuda.amp.autocast(args...)` is deprecated. Please use `torch.amp.autocast('cuda', args...)` instead.\n",
            "  with torch.cuda.amp.autocast():\n",
            "100%|██████████| 2/2 [00:00<00:00,  4.99it/s, D_fake=0.0229, D_real=0.994]\n"
          ]
        },
        {
          "output_type": "stream",
          "name": "stdout",
          "text": [
            "y_true size: (9000,), y_pred size: (9000,)\n",
            "Accuracy: 0.5000, TPR: 1.0000, FPR: 1.0000, TNR: 0.0000, FNR: 0.0000\n",
            "Precision: 0.5000, Recall: 1.0000, F1 Score: 0.6667\n",
            "FID: 561.6339111328125\n",
            "PSNR: 9.4906\n",
            "Epoch 331 - Metrics: Accuracy: 0.5000, TPR: 1.0000, FPR: 1.0000, FID: 561.6339, PSNR: 9.4906\n"
          ]
        },
        {
          "output_type": "stream",
          "name": "stderr",
          "text": [
            "\r  0%|          | 0/2 [00:00<?, ?it/s]<ipython-input-4-6490c8d8cca4>:11: FutureWarning: `torch.cuda.amp.autocast(args...)` is deprecated. Please use `torch.amp.autocast('cuda', args...)` instead.\n",
            "  with torch.cuda.amp.autocast():\n",
            "<ipython-input-4-6490c8d8cca4>:25: FutureWarning: `torch.cuda.amp.autocast(args...)` is deprecated. Please use `torch.amp.autocast('cuda', args...)` instead.\n",
            "  with torch.cuda.amp.autocast():\n",
            "100%|██████████| 2/2 [00:00<00:00,  5.24it/s, D_fake=0.00597, D_real=0.989]\n"
          ]
        },
        {
          "output_type": "stream",
          "name": "stdout",
          "text": [
            "y_true size: (9000,), y_pred size: (9000,)\n",
            "Accuracy: 0.4998, TPR: 0.9996, FPR: 1.0000, TNR: 0.0000, FNR: 0.0004\n",
            "Precision: 0.4999, Recall: 0.9996, F1 Score: 0.6665\n",
            "FID: 538.6822509765625\n",
            "PSNR: 9.5752\n",
            "Epoch 332 - Metrics: Accuracy: 0.4998, TPR: 0.9996, FPR: 1.0000, FID: 538.6823, PSNR: 9.5752\n"
          ]
        },
        {
          "output_type": "stream",
          "name": "stderr",
          "text": [
            "\r  0%|          | 0/2 [00:00<?, ?it/s]<ipython-input-4-6490c8d8cca4>:11: FutureWarning: `torch.cuda.amp.autocast(args...)` is deprecated. Please use `torch.amp.autocast('cuda', args...)` instead.\n",
            "  with torch.cuda.amp.autocast():\n",
            "<ipython-input-4-6490c8d8cca4>:25: FutureWarning: `torch.cuda.amp.autocast(args...)` is deprecated. Please use `torch.amp.autocast('cuda', args...)` instead.\n",
            "  with torch.cuda.amp.autocast():\n",
            "100%|██████████| 2/2 [00:00<00:00,  5.03it/s, D_fake=0.0113, D_real=0.99]\n"
          ]
        },
        {
          "output_type": "stream",
          "name": "stdout",
          "text": [
            "y_true size: (9000,), y_pred size: (9000,)\n",
            "Accuracy: 0.4981, TPR: 0.9962, FPR: 1.0000, TNR: 0.0000, FNR: 0.0038\n",
            "Precision: 0.4991, Recall: 0.9962, F1 Score: 0.6650\n",
            "FID: 666.5236206054688\n",
            "PSNR: 9.0532\n",
            "Epoch 333 - Metrics: Accuracy: 0.4981, TPR: 0.9962, FPR: 1.0000, FID: 666.5236, PSNR: 9.0532\n"
          ]
        },
        {
          "output_type": "stream",
          "name": "stderr",
          "text": [
            "\r  0%|          | 0/2 [00:00<?, ?it/s]<ipython-input-4-6490c8d8cca4>:11: FutureWarning: `torch.cuda.amp.autocast(args...)` is deprecated. Please use `torch.amp.autocast('cuda', args...)` instead.\n",
            "  with torch.cuda.amp.autocast():\n",
            "<ipython-input-4-6490c8d8cca4>:25: FutureWarning: `torch.cuda.amp.autocast(args...)` is deprecated. Please use `torch.amp.autocast('cuda', args...)` instead.\n",
            "  with torch.cuda.amp.autocast():\n",
            "100%|██████████| 2/2 [00:00<00:00,  4.73it/s, D_fake=0.00846, D_real=0.988]\n"
          ]
        },
        {
          "output_type": "stream",
          "name": "stdout",
          "text": [
            "y_true size: (9000,), y_pred size: (9000,)\n",
            "Accuracy: 0.5007, TPR: 1.0000, FPR: 0.9987, TNR: 0.0013, FNR: 0.0000\n",
            "Precision: 0.5003, Recall: 1.0000, F1 Score: 0.6670\n",
            "FID: 561.353271484375\n",
            "PSNR: 9.9115\n",
            "Epoch 334 - Metrics: Accuracy: 0.5007, TPR: 1.0000, FPR: 0.9987, FID: 561.3533, PSNR: 9.9115\n"
          ]
        },
        {
          "output_type": "stream",
          "name": "stderr",
          "text": [
            "\r  0%|          | 0/2 [00:00<?, ?it/s]<ipython-input-4-6490c8d8cca4>:11: FutureWarning: `torch.cuda.amp.autocast(args...)` is deprecated. Please use `torch.amp.autocast('cuda', args...)` instead.\n",
            "  with torch.cuda.amp.autocast():\n",
            "<ipython-input-4-6490c8d8cca4>:25: FutureWarning: `torch.cuda.amp.autocast(args...)` is deprecated. Please use `torch.amp.autocast('cuda', args...)` instead.\n",
            "  with torch.cuda.amp.autocast():\n",
            "100%|██████████| 2/2 [00:00<00:00,  5.04it/s, D_fake=0.0188, D_real=0.995]\n"
          ]
        },
        {
          "output_type": "stream",
          "name": "stdout",
          "text": [
            "y_true size: (9000,), y_pred size: (9000,)\n",
            "Accuracy: 0.4998, TPR: 0.9996, FPR: 1.0000, TNR: 0.0000, FNR: 0.0004\n",
            "Precision: 0.4999, Recall: 0.9996, F1 Score: 0.6665\n",
            "FID: 533.19384765625\n",
            "PSNR: 9.7191\n",
            "Epoch 335 - Metrics: Accuracy: 0.4998, TPR: 0.9996, FPR: 1.0000, FID: 533.1938, PSNR: 9.7191\n"
          ]
        },
        {
          "output_type": "stream",
          "name": "stderr",
          "text": [
            "\r  0%|          | 0/2 [00:00<?, ?it/s]<ipython-input-4-6490c8d8cca4>:11: FutureWarning: `torch.cuda.amp.autocast(args...)` is deprecated. Please use `torch.amp.autocast('cuda', args...)` instead.\n",
            "  with torch.cuda.amp.autocast():\n",
            "<ipython-input-4-6490c8d8cca4>:25: FutureWarning: `torch.cuda.amp.autocast(args...)` is deprecated. Please use `torch.amp.autocast('cuda', args...)` instead.\n",
            "  with torch.cuda.amp.autocast():\n",
            "100%|██████████| 2/2 [00:00<00:00,  5.31it/s, D_fake=0.0206, D_real=0.992]\n"
          ]
        },
        {
          "output_type": "stream",
          "name": "stdout",
          "text": [
            "y_true size: (9000,), y_pred size: (9000,)\n",
            "Accuracy: 0.4824, TPR: 0.9649, FPR: 1.0000, TNR: 0.0000, FNR: 0.0351\n",
            "Precision: 0.4911, Recall: 0.9649, F1 Score: 0.6509\n",
            "FID: 554.205810546875\n",
            "PSNR: 9.0406\n",
            "Epoch 336 - Metrics: Accuracy: 0.4824, TPR: 0.9649, FPR: 1.0000, FID: 554.2058, PSNR: 9.0406\n"
          ]
        },
        {
          "output_type": "stream",
          "name": "stderr",
          "text": [
            "\r  0%|          | 0/2 [00:00<?, ?it/s]<ipython-input-4-6490c8d8cca4>:11: FutureWarning: `torch.cuda.amp.autocast(args...)` is deprecated. Please use `torch.amp.autocast('cuda', args...)` instead.\n",
            "  with torch.cuda.amp.autocast():\n",
            "<ipython-input-4-6490c8d8cca4>:25: FutureWarning: `torch.cuda.amp.autocast(args...)` is deprecated. Please use `torch.amp.autocast('cuda', args...)` instead.\n",
            "  with torch.cuda.amp.autocast():\n",
            "100%|██████████| 2/2 [00:00<00:00,  5.10it/s, D_fake=0.0138, D_real=0.966]\n"
          ]
        },
        {
          "output_type": "stream",
          "name": "stdout",
          "text": [
            "y_true size: (9000,), y_pred size: (9000,)\n",
            "Accuracy: 0.5006, TPR: 1.0000, FPR: 0.9989, TNR: 0.0011, FNR: 0.0000\n",
            "Precision: 0.5003, Recall: 1.0000, F1 Score: 0.6669\n",
            "FID: 638.2366333007812\n",
            "PSNR: 9.7555\n",
            "Epoch 337 - Metrics: Accuracy: 0.5006, TPR: 1.0000, FPR: 0.9989, FID: 638.2366, PSNR: 9.7555\n"
          ]
        },
        {
          "output_type": "stream",
          "name": "stderr",
          "text": [
            "\r  0%|          | 0/2 [00:00<?, ?it/s]<ipython-input-4-6490c8d8cca4>:11: FutureWarning: `torch.cuda.amp.autocast(args...)` is deprecated. Please use `torch.amp.autocast('cuda', args...)` instead.\n",
            "  with torch.cuda.amp.autocast():\n",
            "<ipython-input-4-6490c8d8cca4>:25: FutureWarning: `torch.cuda.amp.autocast(args...)` is deprecated. Please use `torch.amp.autocast('cuda', args...)` instead.\n",
            "  with torch.cuda.amp.autocast():\n",
            "100%|██████████| 2/2 [00:00<00:00,  5.01it/s, D_fake=0.0117, D_real=0.994]\n"
          ]
        },
        {
          "output_type": "stream",
          "name": "stdout",
          "text": [
            "y_true size: (9000,), y_pred size: (9000,)\n",
            "Accuracy: 0.4459, TPR: 0.8918, FPR: 1.0000, TNR: 0.0000, FNR: 0.1082\n",
            "Precision: 0.4714, Recall: 0.8918, F1 Score: 0.6168\n",
            "FID: 549.7242431640625\n",
            "PSNR: 9.1233\n",
            "Epoch 338 - Metrics: Accuracy: 0.4459, TPR: 0.8918, FPR: 1.0000, FID: 549.7242, PSNR: 9.1233\n"
          ]
        },
        {
          "output_type": "stream",
          "name": "stderr",
          "text": [
            "\r  0%|          | 0/2 [00:00<?, ?it/s]<ipython-input-4-6490c8d8cca4>:11: FutureWarning: `torch.cuda.amp.autocast(args...)` is deprecated. Please use `torch.amp.autocast('cuda', args...)` instead.\n",
            "  with torch.cuda.amp.autocast():\n",
            "<ipython-input-4-6490c8d8cca4>:25: FutureWarning: `torch.cuda.amp.autocast(args...)` is deprecated. Please use `torch.amp.autocast('cuda', args...)` instead.\n",
            "  with torch.cuda.amp.autocast():\n",
            "100%|██████████| 2/2 [00:00<00:00,  4.76it/s, D_fake=0.0153, D_real=0.952]\n"
          ]
        },
        {
          "output_type": "stream",
          "name": "stdout",
          "text": [
            "y_true size: (9000,), y_pred size: (9000,)\n",
            "Accuracy: 0.6449, TPR: 1.0000, FPR: 0.7102, TNR: 0.2898, FNR: 0.0000\n",
            "Precision: 0.5847, Recall: 1.0000, F1 Score: 0.7379\n",
            "FID: 440.4929504394531\n",
            "PSNR: 8.1332\n",
            "Epoch 339 - Metrics: Accuracy: 0.6449, TPR: 1.0000, FPR: 0.7102, FID: 440.4930, PSNR: 8.1332\n"
          ]
        },
        {
          "output_type": "stream",
          "name": "stderr",
          "text": [
            "\r  0%|          | 0/2 [00:00<?, ?it/s]<ipython-input-4-6490c8d8cca4>:11: FutureWarning: `torch.cuda.amp.autocast(args...)` is deprecated. Please use `torch.amp.autocast('cuda', args...)` instead.\n",
            "  with torch.cuda.amp.autocast():\n",
            "<ipython-input-4-6490c8d8cca4>:25: FutureWarning: `torch.cuda.amp.autocast(args...)` is deprecated. Please use `torch.amp.autocast('cuda', args...)` instead.\n",
            "  with torch.cuda.amp.autocast():\n",
            "100%|██████████| 2/2 [00:00<00:00,  5.10it/s, D_fake=4.8e-5, D_real=0.999]\n"
          ]
        },
        {
          "output_type": "stream",
          "name": "stdout",
          "text": [
            "y_true size: (9000,), y_pred size: (9000,)\n",
            "Accuracy: 0.3813, TPR: 0.7602, FPR: 0.9976, TNR: 0.0024, FNR: 0.2398\n",
            "Precision: 0.4325, Recall: 0.7602, F1 Score: 0.5513\n",
            "FID: 530.4185791015625\n",
            "PSNR: 8.9262\n",
            "Epoch 340 - Metrics: Accuracy: 0.3813, TPR: 0.7602, FPR: 0.9976, FID: 530.4186, PSNR: 8.9262\n"
          ]
        },
        {
          "output_type": "stream",
          "name": "stderr",
          "text": [
            "\r  0%|          | 0/2 [00:00<?, ?it/s]<ipython-input-4-6490c8d8cca4>:11: FutureWarning: `torch.cuda.amp.autocast(args...)` is deprecated. Please use `torch.amp.autocast('cuda', args...)` instead.\n",
            "  with torch.cuda.amp.autocast():\n",
            "<ipython-input-4-6490c8d8cca4>:25: FutureWarning: `torch.cuda.amp.autocast(args...)` is deprecated. Please use `torch.amp.autocast('cuda', args...)` instead.\n",
            "  with torch.cuda.amp.autocast():\n",
            "100%|██████████| 2/2 [00:00<00:00,  5.35it/s, D_fake=0.386, D_real=0.799]\n"
          ]
        },
        {
          "output_type": "stream",
          "name": "stdout",
          "text": [
            "y_true size: (9000,), y_pred size: (9000,)\n",
            "Accuracy: 0.4064, TPR: 0.8129, FPR: 1.0000, TNR: 0.0000, FNR: 0.1871\n",
            "Precision: 0.4484, Recall: 0.8129, F1 Score: 0.5780\n",
            "FID: 538.6950073242188\n",
            "PSNR: 10.0277\n",
            "Epoch 341 - Metrics: Accuracy: 0.4064, TPR: 0.8129, FPR: 1.0000, FID: 538.6950, PSNR: 10.0277\n"
          ]
        },
        {
          "output_type": "stream",
          "name": "stderr",
          "text": [
            "\r  0%|          | 0/2 [00:00<?, ?it/s]<ipython-input-4-6490c8d8cca4>:11: FutureWarning: `torch.cuda.amp.autocast(args...)` is deprecated. Please use `torch.amp.autocast('cuda', args...)` instead.\n",
            "  with torch.cuda.amp.autocast():\n",
            "<ipython-input-4-6490c8d8cca4>:25: FutureWarning: `torch.cuda.amp.autocast(args...)` is deprecated. Please use `torch.amp.autocast('cuda', args...)` instead.\n",
            "  with torch.cuda.amp.autocast():\n",
            "100%|██████████| 2/2 [00:00<00:00,  5.48it/s, D_fake=0.00312, D_real=0.833]\n"
          ]
        },
        {
          "output_type": "stream",
          "name": "stdout",
          "text": [
            "y_true size: (9000,), y_pred size: (9000,)\n",
            "Accuracy: 0.4999, TPR: 0.9998, FPR: 1.0000, TNR: 0.0000, FNR: 0.0002\n",
            "Precision: 0.4999, Recall: 0.9998, F1 Score: 0.6666\n",
            "FID: 539.86669921875\n",
            "PSNR: 10.0464\n",
            "Epoch 342 - Metrics: Accuracy: 0.4999, TPR: 0.9998, FPR: 1.0000, FID: 539.8667, PSNR: 10.0464\n"
          ]
        },
        {
          "output_type": "stream",
          "name": "stderr",
          "text": [
            "\r  0%|          | 0/2 [00:00<?, ?it/s]<ipython-input-4-6490c8d8cca4>:11: FutureWarning: `torch.cuda.amp.autocast(args...)` is deprecated. Please use `torch.amp.autocast('cuda', args...)` instead.\n",
            "  with torch.cuda.amp.autocast():\n",
            "<ipython-input-4-6490c8d8cca4>:25: FutureWarning: `torch.cuda.amp.autocast(args...)` is deprecated. Please use `torch.amp.autocast('cuda', args...)` instead.\n",
            "  with torch.cuda.amp.autocast():\n",
            "100%|██████████| 2/2 [00:00<00:00,  5.24it/s, D_fake=0.017, D_real=0.975]\n"
          ]
        },
        {
          "output_type": "stream",
          "name": "stdout",
          "text": [
            "y_true size: (9000,), y_pred size: (9000,)\n",
            "Accuracy: 0.5043, TPR: 1.0000, FPR: 0.9913, TNR: 0.0087, FNR: 0.0000\n",
            "Precision: 0.5022, Recall: 1.0000, F1 Score: 0.6686\n",
            "FID: 514.4646606445312\n",
            "PSNR: 9.8732\n",
            "Epoch 343 - Metrics: Accuracy: 0.5043, TPR: 1.0000, FPR: 0.9913, FID: 514.4647, PSNR: 9.8732\n"
          ]
        },
        {
          "output_type": "stream",
          "name": "stderr",
          "text": [
            "\r  0%|          | 0/2 [00:00<?, ?it/s]<ipython-input-4-6490c8d8cca4>:11: FutureWarning: `torch.cuda.amp.autocast(args...)` is deprecated. Please use `torch.amp.autocast('cuda', args...)` instead.\n",
            "  with torch.cuda.amp.autocast():\n",
            "<ipython-input-4-6490c8d8cca4>:25: FutureWarning: `torch.cuda.amp.autocast(args...)` is deprecated. Please use `torch.amp.autocast('cuda', args...)` instead.\n",
            "  with torch.cuda.amp.autocast():\n",
            "100%|██████████| 2/2 [00:00<00:00,  5.10it/s, D_fake=0.0513, D_real=0.987]\n"
          ]
        },
        {
          "output_type": "stream",
          "name": "stdout",
          "text": [
            "y_true size: (9000,), y_pred size: (9000,)\n",
            "Accuracy: 0.4999, TPR: 0.9998, FPR: 1.0000, TNR: 0.0000, FNR: 0.0002\n",
            "Precision: 0.4999, Recall: 0.9998, F1 Score: 0.6666\n",
            "FID: 609.4400024414062\n",
            "PSNR: 9.8447\n",
            "Epoch 344 - Metrics: Accuracy: 0.4999, TPR: 0.9998, FPR: 1.0000, FID: 609.4400, PSNR: 9.8447\n"
          ]
        },
        {
          "output_type": "stream",
          "name": "stderr",
          "text": [
            "\r  0%|          | 0/2 [00:00<?, ?it/s]<ipython-input-4-6490c8d8cca4>:11: FutureWarning: `torch.cuda.amp.autocast(args...)` is deprecated. Please use `torch.amp.autocast('cuda', args...)` instead.\n",
            "  with torch.cuda.amp.autocast():\n",
            "<ipython-input-4-6490c8d8cca4>:25: FutureWarning: `torch.cuda.amp.autocast(args...)` is deprecated. Please use `torch.amp.autocast('cuda', args...)` instead.\n",
            "  with torch.cuda.amp.autocast():\n",
            "100%|██████████| 2/2 [00:00<00:00,  5.44it/s, D_fake=0.0214, D_real=0.974]\n"
          ]
        },
        {
          "output_type": "stream",
          "name": "stdout",
          "text": [
            "y_true size: (9000,), y_pred size: (9000,)\n",
            "Accuracy: 0.5013, TPR: 1.0000, FPR: 0.9973, TNR: 0.0027, FNR: 0.0000\n",
            "Precision: 0.5007, Recall: 1.0000, F1 Score: 0.6673\n",
            "FID: 610.5382690429688\n",
            "PSNR: 9.9482\n",
            "Epoch 345 - Metrics: Accuracy: 0.5013, TPR: 1.0000, FPR: 0.9973, FID: 610.5383, PSNR: 9.9482\n"
          ]
        },
        {
          "output_type": "stream",
          "name": "stderr",
          "text": [
            "\r  0%|          | 0/2 [00:00<?, ?it/s]<ipython-input-4-6490c8d8cca4>:11: FutureWarning: `torch.cuda.amp.autocast(args...)` is deprecated. Please use `torch.amp.autocast('cuda', args...)` instead.\n",
            "  with torch.cuda.amp.autocast():\n",
            "<ipython-input-4-6490c8d8cca4>:25: FutureWarning: `torch.cuda.amp.autocast(args...)` is deprecated. Please use `torch.amp.autocast('cuda', args...)` instead.\n",
            "  with torch.cuda.amp.autocast():\n",
            "100%|██████████| 2/2 [00:00<00:00,  4.56it/s, D_fake=0.0435, D_real=0.979]\n"
          ]
        },
        {
          "output_type": "stream",
          "name": "stdout",
          "text": [
            "y_true size: (9000,), y_pred size: (9000,)\n",
            "Accuracy: 0.4998, TPR: 0.9996, FPR: 1.0000, TNR: 0.0000, FNR: 0.0004\n",
            "Precision: 0.4999, Recall: 0.9996, F1 Score: 0.6665\n",
            "FID: 596.5936889648438\n",
            "PSNR: 9.9619\n",
            "Epoch 346 - Metrics: Accuracy: 0.4998, TPR: 0.9996, FPR: 1.0000, FID: 596.5937, PSNR: 9.9619\n"
          ]
        },
        {
          "output_type": "stream",
          "name": "stderr",
          "text": [
            "\r  0%|          | 0/2 [00:00<?, ?it/s]<ipython-input-4-6490c8d8cca4>:11: FutureWarning: `torch.cuda.amp.autocast(args...)` is deprecated. Please use `torch.amp.autocast('cuda', args...)` instead.\n",
            "  with torch.cuda.amp.autocast():\n",
            "<ipython-input-4-6490c8d8cca4>:25: FutureWarning: `torch.cuda.amp.autocast(args...)` is deprecated. Please use `torch.amp.autocast('cuda', args...)` instead.\n",
            "  with torch.cuda.amp.autocast():\n",
            "100%|██████████| 2/2 [00:00<00:00,  5.02it/s, D_fake=0.0198, D_real=0.975]\n"
          ]
        },
        {
          "output_type": "stream",
          "name": "stdout",
          "text": [
            "y_true size: (9000,), y_pred size: (9000,)\n",
            "Accuracy: 0.5000, TPR: 1.0000, FPR: 1.0000, TNR: 0.0000, FNR: 0.0000\n",
            "Precision: 0.5000, Recall: 1.0000, F1 Score: 0.6667\n",
            "FID: 618.8246459960938\n",
            "PSNR: 9.9708\n",
            "Epoch 347 - Metrics: Accuracy: 0.5000, TPR: 1.0000, FPR: 1.0000, FID: 618.8246, PSNR: 9.9708\n"
          ]
        },
        {
          "output_type": "stream",
          "name": "stderr",
          "text": [
            "\r  0%|          | 0/2 [00:00<?, ?it/s]<ipython-input-4-6490c8d8cca4>:11: FutureWarning: `torch.cuda.amp.autocast(args...)` is deprecated. Please use `torch.amp.autocast('cuda', args...)` instead.\n",
            "  with torch.cuda.amp.autocast():\n",
            "<ipython-input-4-6490c8d8cca4>:25: FutureWarning: `torch.cuda.amp.autocast(args...)` is deprecated. Please use `torch.amp.autocast('cuda', args...)` instead.\n",
            "  with torch.cuda.amp.autocast():\n",
            "100%|██████████| 2/2 [00:00<00:00,  5.27it/s, D_fake=0.0275, D_real=0.985]\n"
          ]
        },
        {
          "output_type": "stream",
          "name": "stdout",
          "text": [
            "y_true size: (9000,), y_pred size: (9000,)\n",
            "Accuracy: 0.4999, TPR: 0.9991, FPR: 0.9993, TNR: 0.0007, FNR: 0.0009\n",
            "Precision: 0.4999, Recall: 0.9991, F1 Score: 0.6664\n",
            "FID: 568.7933349609375\n",
            "PSNR: 9.7606\n",
            "Epoch 348 - Metrics: Accuracy: 0.4999, TPR: 0.9991, FPR: 0.9993, FID: 568.7933, PSNR: 9.7606\n"
          ]
        },
        {
          "output_type": "stream",
          "name": "stderr",
          "text": [
            "\r  0%|          | 0/2 [00:00<?, ?it/s]<ipython-input-4-6490c8d8cca4>:11: FutureWarning: `torch.cuda.amp.autocast(args...)` is deprecated. Please use `torch.amp.autocast('cuda', args...)` instead.\n",
            "  with torch.cuda.amp.autocast():\n",
            "<ipython-input-4-6490c8d8cca4>:25: FutureWarning: `torch.cuda.amp.autocast(args...)` is deprecated. Please use `torch.amp.autocast('cuda', args...)` instead.\n",
            "  with torch.cuda.amp.autocast():\n",
            "100%|██████████| 2/2 [00:00<00:00,  4.96it/s, D_fake=0.0263, D_real=0.976]\n"
          ]
        },
        {
          "output_type": "stream",
          "name": "stdout",
          "text": [
            "y_true size: (9000,), y_pred size: (9000,)\n",
            "Accuracy: 0.4961, TPR: 0.9922, FPR: 1.0000, TNR: 0.0000, FNR: 0.0078\n",
            "Precision: 0.4980, Recall: 0.9922, F1 Score: 0.6632\n",
            "FID: 596.9837036132812\n",
            "PSNR: 9.2787\n",
            "Epoch 349 - Metrics: Accuracy: 0.4961, TPR: 0.9922, FPR: 1.0000, FID: 596.9837, PSNR: 9.2787\n",
            "Saving model at epoch 349\n"
          ]
        },
        {
          "output_type": "stream",
          "name": "stderr",
          "text": [
            "\r  0%|          | 0/2 [00:00<?, ?it/s]<ipython-input-4-6490c8d8cca4>:11: FutureWarning: `torch.cuda.amp.autocast(args...)` is deprecated. Please use `torch.amp.autocast('cuda', args...)` instead.\n",
            "  with torch.cuda.amp.autocast():\n",
            "<ipython-input-4-6490c8d8cca4>:25: FutureWarning: `torch.cuda.amp.autocast(args...)` is deprecated. Please use `torch.amp.autocast('cuda', args...)` instead.\n",
            "  with torch.cuda.amp.autocast():\n",
            "100%|██████████| 2/2 [00:00<00:00,  5.01it/s, D_fake=0.0112, D_real=0.977]\n"
          ]
        },
        {
          "output_type": "stream",
          "name": "stdout",
          "text": [
            "y_true size: (9000,), y_pred size: (9000,)\n",
            "Accuracy: 0.5000, TPR: 1.0000, FPR: 1.0000, TNR: 0.0000, FNR: 0.0000\n",
            "Precision: 0.5000, Recall: 1.0000, F1 Score: 0.6667\n",
            "FID: 591.4058837890625\n",
            "PSNR: 9.7539\n",
            "Epoch 350 - Metrics: Accuracy: 0.5000, TPR: 1.0000, FPR: 1.0000, FID: 591.4059, PSNR: 9.7539\n"
          ]
        },
        {
          "output_type": "stream",
          "name": "stderr",
          "text": [
            "\r  0%|          | 0/2 [00:00<?, ?it/s]<ipython-input-4-6490c8d8cca4>:11: FutureWarning: `torch.cuda.amp.autocast(args...)` is deprecated. Please use `torch.amp.autocast('cuda', args...)` instead.\n",
            "  with torch.cuda.amp.autocast():\n",
            "<ipython-input-4-6490c8d8cca4>:25: FutureWarning: `torch.cuda.amp.autocast(args...)` is deprecated. Please use `torch.amp.autocast('cuda', args...)` instead.\n",
            "  with torch.cuda.amp.autocast():\n",
            "100%|██████████| 2/2 [00:00<00:00,  5.16it/s, D_fake=0.0126, D_real=0.984]\n"
          ]
        },
        {
          "output_type": "stream",
          "name": "stdout",
          "text": [
            "y_true size: (9000,), y_pred size: (9000,)\n",
            "Accuracy: 0.5000, TPR: 1.0000, FPR: 1.0000, TNR: 0.0000, FNR: 0.0000\n",
            "Precision: 0.5000, Recall: 1.0000, F1 Score: 0.6667\n",
            "FID: 503.6348876953125\n",
            "PSNR: 9.2787\n",
            "Epoch 351 - Metrics: Accuracy: 0.5000, TPR: 1.0000, FPR: 1.0000, FID: 503.6349, PSNR: 9.2787\n"
          ]
        },
        {
          "output_type": "stream",
          "name": "stderr",
          "text": [
            "\r  0%|          | 0/2 [00:00<?, ?it/s]<ipython-input-4-6490c8d8cca4>:11: FutureWarning: `torch.cuda.amp.autocast(args...)` is deprecated. Please use `torch.amp.autocast('cuda', args...)` instead.\n",
            "  with torch.cuda.amp.autocast():\n",
            "<ipython-input-4-6490c8d8cca4>:25: FutureWarning: `torch.cuda.amp.autocast(args...)` is deprecated. Please use `torch.amp.autocast('cuda', args...)` instead.\n",
            "  with torch.cuda.amp.autocast():\n",
            "100%|██████████| 2/2 [00:00<00:00,  4.77it/s, D_fake=0.0257, D_real=0.99]\n"
          ]
        },
        {
          "output_type": "stream",
          "name": "stdout",
          "text": [
            "y_true size: (9000,), y_pred size: (9000,)\n",
            "Accuracy: 0.4976, TPR: 0.9951, FPR: 1.0000, TNR: 0.0000, FNR: 0.0049\n",
            "Precision: 0.4988, Recall: 0.9951, F1 Score: 0.6645\n",
            "FID: 615.5111083984375\n",
            "PSNR: 9.5963\n",
            "Epoch 352 - Metrics: Accuracy: 0.4976, TPR: 0.9951, FPR: 1.0000, FID: 615.5111, PSNR: 9.5963\n"
          ]
        },
        {
          "output_type": "stream",
          "name": "stderr",
          "text": [
            "\r  0%|          | 0/2 [00:00<?, ?it/s]<ipython-input-4-6490c8d8cca4>:11: FutureWarning: `torch.cuda.amp.autocast(args...)` is deprecated. Please use `torch.amp.autocast('cuda', args...)` instead.\n",
            "  with torch.cuda.amp.autocast():\n",
            "<ipython-input-4-6490c8d8cca4>:25: FutureWarning: `torch.cuda.amp.autocast(args...)` is deprecated. Please use `torch.amp.autocast('cuda', args...)` instead.\n",
            "  with torch.cuda.amp.autocast():\n",
            "100%|██████████| 2/2 [00:00<00:00,  5.33it/s, D_fake=0.00601, D_real=0.971]\n"
          ]
        },
        {
          "output_type": "stream",
          "name": "stdout",
          "text": [
            "y_true size: (9000,), y_pred size: (9000,)\n",
            "Accuracy: 0.4992, TPR: 0.9984, FPR: 1.0000, TNR: 0.0000, FNR: 0.0016\n",
            "Precision: 0.4996, Recall: 0.9984, F1 Score: 0.6660\n",
            "FID: 575.7699584960938\n",
            "PSNR: 9.6331\n",
            "Epoch 353 - Metrics: Accuracy: 0.4992, TPR: 0.9984, FPR: 1.0000, FID: 575.7700, PSNR: 9.6331\n"
          ]
        },
        {
          "output_type": "stream",
          "name": "stderr",
          "text": [
            "\r  0%|          | 0/2 [00:00<?, ?it/s]<ipython-input-4-6490c8d8cca4>:11: FutureWarning: `torch.cuda.amp.autocast(args...)` is deprecated. Please use `torch.amp.autocast('cuda', args...)` instead.\n",
            "  with torch.cuda.amp.autocast():\n",
            "<ipython-input-4-6490c8d8cca4>:25: FutureWarning: `torch.cuda.amp.autocast(args...)` is deprecated. Please use `torch.amp.autocast('cuda', args...)` instead.\n",
            "  with torch.cuda.amp.autocast():\n",
            "100%|██████████| 2/2 [00:00<00:00,  4.92it/s, D_fake=0.0233, D_real=0.98]\n"
          ]
        },
        {
          "output_type": "stream",
          "name": "stdout",
          "text": [
            "y_true size: (9000,), y_pred size: (9000,)\n",
            "Accuracy: 0.4999, TPR: 0.9998, FPR: 1.0000, TNR: 0.0000, FNR: 0.0002\n",
            "Precision: 0.4999, Recall: 0.9998, F1 Score: 0.6666\n",
            "FID: 570.2153930664062\n",
            "PSNR: 9.3817\n",
            "Epoch 354 - Metrics: Accuracy: 0.4999, TPR: 0.9998, FPR: 1.0000, FID: 570.2154, PSNR: 9.3817\n"
          ]
        },
        {
          "output_type": "stream",
          "name": "stderr",
          "text": [
            "\r  0%|          | 0/2 [00:00<?, ?it/s]<ipython-input-4-6490c8d8cca4>:11: FutureWarning: `torch.cuda.amp.autocast(args...)` is deprecated. Please use `torch.amp.autocast('cuda', args...)` instead.\n",
            "  with torch.cuda.amp.autocast():\n",
            "<ipython-input-4-6490c8d8cca4>:25: FutureWarning: `torch.cuda.amp.autocast(args...)` is deprecated. Please use `torch.amp.autocast('cuda', args...)` instead.\n",
            "  with torch.cuda.amp.autocast():\n",
            "100%|██████████| 2/2 [00:00<00:00,  5.33it/s, D_fake=0.0225, D_real=0.981]\n"
          ]
        },
        {
          "output_type": "stream",
          "name": "stdout",
          "text": [
            "y_true size: (9000,), y_pred size: (9000,)\n",
            "Accuracy: 0.4994, TPR: 0.9989, FPR: 1.0000, TNR: 0.0000, FNR: 0.0011\n",
            "Precision: 0.4997, Recall: 0.9989, F1 Score: 0.6662\n",
            "FID: 594.1103515625\n",
            "PSNR: 9.8091\n",
            "Epoch 355 - Metrics: Accuracy: 0.4994, TPR: 0.9989, FPR: 1.0000, FID: 594.1104, PSNR: 9.8091\n"
          ]
        },
        {
          "output_type": "stream",
          "name": "stderr",
          "text": [
            "\r  0%|          | 0/2 [00:00<?, ?it/s]<ipython-input-4-6490c8d8cca4>:11: FutureWarning: `torch.cuda.amp.autocast(args...)` is deprecated. Please use `torch.amp.autocast('cuda', args...)` instead.\n",
            "  with torch.cuda.amp.autocast():\n",
            "<ipython-input-4-6490c8d8cca4>:25: FutureWarning: `torch.cuda.amp.autocast(args...)` is deprecated. Please use `torch.amp.autocast('cuda', args...)` instead.\n",
            "  with torch.cuda.amp.autocast():\n",
            "100%|██████████| 2/2 [00:00<00:00,  4.99it/s, D_fake=0.0173, D_real=0.987]\n"
          ]
        },
        {
          "output_type": "stream",
          "name": "stdout",
          "text": [
            "y_true size: (9000,), y_pred size: (9000,)\n",
            "Accuracy: 0.5002, TPR: 1.0000, FPR: 0.9996, TNR: 0.0004, FNR: 0.0000\n",
            "Precision: 0.5001, Recall: 1.0000, F1 Score: 0.6668\n",
            "FID: 597.8340454101562\n",
            "PSNR: 9.7155\n",
            "Epoch 356 - Metrics: Accuracy: 0.5002, TPR: 1.0000, FPR: 0.9996, FID: 597.8340, PSNR: 9.7155\n"
          ]
        },
        {
          "output_type": "stream",
          "name": "stderr",
          "text": [
            "\r  0%|          | 0/2 [00:00<?, ?it/s]<ipython-input-4-6490c8d8cca4>:11: FutureWarning: `torch.cuda.amp.autocast(args...)` is deprecated. Please use `torch.amp.autocast('cuda', args...)` instead.\n",
            "  with torch.cuda.amp.autocast():\n",
            "<ipython-input-4-6490c8d8cca4>:25: FutureWarning: `torch.cuda.amp.autocast(args...)` is deprecated. Please use `torch.amp.autocast('cuda', args...)` instead.\n",
            "  with torch.cuda.amp.autocast():\n",
            "100%|██████████| 2/2 [00:00<00:00,  5.01it/s, D_fake=0.0377, D_real=0.986]\n"
          ]
        },
        {
          "output_type": "stream",
          "name": "stdout",
          "text": [
            "y_true size: (9000,), y_pred size: (9000,)\n",
            "Accuracy: 0.4881, TPR: 0.9762, FPR: 1.0000, TNR: 0.0000, FNR: 0.0238\n",
            "Precision: 0.4940, Recall: 0.9762, F1 Score: 0.6560\n",
            "FID: 526.5516967773438\n",
            "PSNR: 9.8377\n",
            "Epoch 357 - Metrics: Accuracy: 0.4881, TPR: 0.9762, FPR: 1.0000, FID: 526.5517, PSNR: 9.8377\n"
          ]
        },
        {
          "output_type": "stream",
          "name": "stderr",
          "text": [
            "\r  0%|          | 0/2 [00:00<?, ?it/s]<ipython-input-4-6490c8d8cca4>:11: FutureWarning: `torch.cuda.amp.autocast(args...)` is deprecated. Please use `torch.amp.autocast('cuda', args...)` instead.\n",
            "  with torch.cuda.amp.autocast():\n",
            "<ipython-input-4-6490c8d8cca4>:25: FutureWarning: `torch.cuda.amp.autocast(args...)` is deprecated. Please use `torch.amp.autocast('cuda', args...)` instead.\n",
            "  with torch.cuda.amp.autocast():\n",
            "100%|██████████| 2/2 [00:00<00:00,  4.97it/s, D_fake=0.0179, D_real=0.966]\n"
          ]
        },
        {
          "output_type": "stream",
          "name": "stdout",
          "text": [
            "y_true size: (9000,), y_pred size: (9000,)\n",
            "Accuracy: 0.4972, TPR: 0.9944, FPR: 1.0000, TNR: 0.0000, FNR: 0.0056\n",
            "Precision: 0.4986, Recall: 0.9944, F1 Score: 0.6642\n"
          ]
        },
        {
          "output_type": "error",
          "ename": "KeyboardInterrupt",
          "evalue": "",
          "traceback": [
            "\u001b[0;31m---------------------------------------------------------------------------\u001b[0m",
            "\u001b[0;31mKeyboardInterrupt\u001b[0m                         Traceback (most recent call last)",
            "\u001b[0;32m<ipython-input-7-cdde3062e277>\u001b[0m in \u001b[0;36m<cell line: 292>\u001b[0;34m()\u001b[0m\n\u001b[1;32m    291\u001b[0m \u001b[0;34m\u001b[0m\u001b[0m\n\u001b[1;32m    292\u001b[0m \u001b[0;32mif\u001b[0m \u001b[0m__name__\u001b[0m \u001b[0;34m==\u001b[0m \u001b[0;34m\"__main__\"\u001b[0m\u001b[0;34m:\u001b[0m\u001b[0;34m\u001b[0m\u001b[0;34m\u001b[0m\u001b[0m\n\u001b[0;32m--> 293\u001b[0;31m     \u001b[0mmain\u001b[0m\u001b[0;34m(\u001b[0m\u001b[0;34m)\u001b[0m\u001b[0;34m\u001b[0m\u001b[0;34m\u001b[0m\u001b[0m\n\u001b[0m",
            "\u001b[0;32m<ipython-input-7-cdde3062e277>\u001b[0m in \u001b[0;36mmain\u001b[0;34m()\u001b[0m\n\u001b[1;32m    252\u001b[0m         \u001b[0;31m# Calculate metrics every epoch\u001b[0m\u001b[0;34m\u001b[0m\u001b[0;34m\u001b[0m\u001b[0m\n\u001b[1;32m    253\u001b[0m         \u001b[0maccuracy\u001b[0m\u001b[0;34m,\u001b[0m \u001b[0mtpr\u001b[0m\u001b[0;34m,\u001b[0m \u001b[0mfpr\u001b[0m\u001b[0;34m,\u001b[0m \u001b[0mtnr\u001b[0m\u001b[0;34m,\u001b[0m \u001b[0mfnr\u001b[0m\u001b[0;34m,\u001b[0m \u001b[0mprecision\u001b[0m\u001b[0;34m,\u001b[0m \u001b[0mrecall\u001b[0m\u001b[0;34m,\u001b[0m \u001b[0mf1\u001b[0m \u001b[0;34m=\u001b[0m \u001b[0mcalculate_classification_metrics\u001b[0m\u001b[0;34m(\u001b[0m\u001b[0mdisc\u001b[0m\u001b[0;34m,\u001b[0m \u001b[0mgen\u001b[0m\u001b[0;34m,\u001b[0m \u001b[0mval_loader\u001b[0m\u001b[0;34m,\u001b[0m \u001b[0mconfig\u001b[0m\u001b[0;34m.\u001b[0m\u001b[0mDEVICE\u001b[0m\u001b[0;34m)\u001b[0m\u001b[0;34m\u001b[0m\u001b[0;34m\u001b[0m\u001b[0m\n\u001b[0;32m--> 254\u001b[0;31m         \u001b[0mfid_score\u001b[0m \u001b[0;34m=\u001b[0m \u001b[0mcalculate_fid\u001b[0m\u001b[0;34m(\u001b[0m\u001b[0mgen\u001b[0m\u001b[0;34m,\u001b[0m \u001b[0mval_loader\u001b[0m\u001b[0;34m,\u001b[0m \u001b[0mconfig\u001b[0m\u001b[0;34m.\u001b[0m\u001b[0mDEVICE\u001b[0m\u001b[0;34m,\u001b[0m \u001b[0mfid\u001b[0m\u001b[0;34m)\u001b[0m\u001b[0;34m\u001b[0m\u001b[0;34m\u001b[0m\u001b[0m\n\u001b[0m\u001b[1;32m    255\u001b[0m         \u001b[0mpsnr_score\u001b[0m \u001b[0;34m=\u001b[0m \u001b[0mcalculate_psnr\u001b[0m\u001b[0;34m(\u001b[0m\u001b[0mgen\u001b[0m\u001b[0;34m,\u001b[0m \u001b[0mval_loader\u001b[0m\u001b[0;34m,\u001b[0m \u001b[0mconfig\u001b[0m\u001b[0;34m.\u001b[0m\u001b[0mDEVICE\u001b[0m\u001b[0;34m)\u001b[0m\u001b[0;34m\u001b[0m\u001b[0;34m\u001b[0m\u001b[0m\n\u001b[1;32m    256\u001b[0m \u001b[0;34m\u001b[0m\u001b[0m\n",
            "\u001b[0;32m<ipython-input-7-cdde3062e277>\u001b[0m in \u001b[0;36mcalculate_fid\u001b[0;34m(gen, val_loader, device, fid)\u001b[0m\n\u001b[1;32m    105\u001b[0m             \u001b[0mfid\u001b[0m\u001b[0;34m.\u001b[0m\u001b[0mupdate\u001b[0m\u001b[0;34m(\u001b[0m\u001b[0my_real_tensor\u001b[0m\u001b[0;34m,\u001b[0m \u001b[0mreal\u001b[0m\u001b[0;34m=\u001b[0m\u001b[0;32mTrue\u001b[0m\u001b[0;34m)\u001b[0m\u001b[0;34m\u001b[0m\u001b[0;34m\u001b[0m\u001b[0m\n\u001b[1;32m    106\u001b[0m \u001b[0;34m\u001b[0m\u001b[0m\n\u001b[0;32m--> 107\u001b[0;31m     \u001b[0mfid_score\u001b[0m \u001b[0;34m=\u001b[0m \u001b[0mfid\u001b[0m\u001b[0;34m.\u001b[0m\u001b[0mcompute\u001b[0m\u001b[0;34m(\u001b[0m\u001b[0;34m)\u001b[0m\u001b[0;34m.\u001b[0m\u001b[0mitem\u001b[0m\u001b[0;34m(\u001b[0m\u001b[0;34m)\u001b[0m  \u001b[0;31m# Compute FID score\u001b[0m\u001b[0;34m\u001b[0m\u001b[0;34m\u001b[0m\u001b[0m\n\u001b[0m\u001b[1;32m    108\u001b[0m     \u001b[0mprint\u001b[0m\u001b[0;34m(\u001b[0m\u001b[0;34mf\"FID: {fid_score}\"\u001b[0m\u001b[0;34m)\u001b[0m\u001b[0;34m\u001b[0m\u001b[0;34m\u001b[0m\u001b[0m\n\u001b[1;32m    109\u001b[0m     \u001b[0;32mreturn\u001b[0m \u001b[0mfid_score\u001b[0m\u001b[0;34m\u001b[0m\u001b[0;34m\u001b[0m\u001b[0m\n",
            "\u001b[0;32m/usr/local/lib/python3.10/dist-packages/torchmetrics/metric.py\u001b[0m in \u001b[0;36mwrapped_func\u001b[0;34m(*args, **kwargs)\u001b[0m\n\u001b[1;32m    631\u001b[0m                 \u001b[0mshould_unsync\u001b[0m\u001b[0;34m=\u001b[0m\u001b[0mself\u001b[0m\u001b[0;34m.\u001b[0m\u001b[0m_should_unsync\u001b[0m\u001b[0;34m,\u001b[0m\u001b[0;34m\u001b[0m\u001b[0;34m\u001b[0m\u001b[0m\n\u001b[1;32m    632\u001b[0m             ):\n\u001b[0;32m--> 633\u001b[0;31m                 \u001b[0mvalue\u001b[0m \u001b[0;34m=\u001b[0m \u001b[0m_squeeze_if_scalar\u001b[0m\u001b[0;34m(\u001b[0m\u001b[0mcompute\u001b[0m\u001b[0;34m(\u001b[0m\u001b[0;34m*\u001b[0m\u001b[0margs\u001b[0m\u001b[0;34m,\u001b[0m \u001b[0;34m**\u001b[0m\u001b[0mkwargs\u001b[0m\u001b[0;34m)\u001b[0m\u001b[0;34m)\u001b[0m\u001b[0;34m\u001b[0m\u001b[0;34m\u001b[0m\u001b[0m\n\u001b[0m\u001b[1;32m    634\u001b[0m                 \u001b[0;31m# clone tensor to avoid in-place operations after compute, altering already computed results\u001b[0m\u001b[0;34m\u001b[0m\u001b[0;34m\u001b[0m\u001b[0m\n\u001b[1;32m    635\u001b[0m                 \u001b[0mvalue\u001b[0m \u001b[0;34m=\u001b[0m \u001b[0mapply_to_collection\u001b[0m\u001b[0;34m(\u001b[0m\u001b[0mvalue\u001b[0m\u001b[0;34m,\u001b[0m \u001b[0mTensor\u001b[0m\u001b[0;34m,\u001b[0m \u001b[0;32mlambda\u001b[0m \u001b[0mx\u001b[0m\u001b[0;34m:\u001b[0m \u001b[0mx\u001b[0m\u001b[0;34m.\u001b[0m\u001b[0mclone\u001b[0m\u001b[0;34m(\u001b[0m\u001b[0;34m)\u001b[0m\u001b[0;34m)\u001b[0m\u001b[0;34m\u001b[0m\u001b[0;34m\u001b[0m\u001b[0m\n",
            "\u001b[0;32m/usr/local/lib/python3.10/dist-packages/torchmetrics/image/fid.py\u001b[0m in \u001b[0;36mcompute\u001b[0;34m(self)\u001b[0m\n\u001b[1;32m    388\u001b[0m         \u001b[0mcov_fake_num\u001b[0m \u001b[0;34m=\u001b[0m \u001b[0mself\u001b[0m\u001b[0;34m.\u001b[0m\u001b[0mfake_features_cov_sum\u001b[0m \u001b[0;34m-\u001b[0m \u001b[0mself\u001b[0m\u001b[0;34m.\u001b[0m\u001b[0mfake_features_num_samples\u001b[0m \u001b[0;34m*\u001b[0m \u001b[0mmean_fake\u001b[0m\u001b[0;34m.\u001b[0m\u001b[0mt\u001b[0m\u001b[0;34m(\u001b[0m\u001b[0;34m)\u001b[0m\u001b[0;34m.\u001b[0m\u001b[0mmm\u001b[0m\u001b[0;34m(\u001b[0m\u001b[0mmean_fake\u001b[0m\u001b[0;34m)\u001b[0m\u001b[0;34m\u001b[0m\u001b[0;34m\u001b[0m\u001b[0m\n\u001b[1;32m    389\u001b[0m         \u001b[0mcov_fake\u001b[0m \u001b[0;34m=\u001b[0m \u001b[0mcov_fake_num\u001b[0m \u001b[0;34m/\u001b[0m \u001b[0;34m(\u001b[0m\u001b[0mself\u001b[0m\u001b[0;34m.\u001b[0m\u001b[0mfake_features_num_samples\u001b[0m \u001b[0;34m-\u001b[0m \u001b[0;36m1\u001b[0m\u001b[0;34m)\u001b[0m\u001b[0;34m\u001b[0m\u001b[0;34m\u001b[0m\u001b[0m\n\u001b[0;32m--> 390\u001b[0;31m         \u001b[0;32mreturn\u001b[0m \u001b[0m_compute_fid\u001b[0m\u001b[0;34m(\u001b[0m\u001b[0mmean_real\u001b[0m\u001b[0;34m.\u001b[0m\u001b[0msqueeze\u001b[0m\u001b[0;34m(\u001b[0m\u001b[0;36m0\u001b[0m\u001b[0;34m)\u001b[0m\u001b[0;34m,\u001b[0m \u001b[0mcov_real\u001b[0m\u001b[0;34m,\u001b[0m \u001b[0mmean_fake\u001b[0m\u001b[0;34m.\u001b[0m\u001b[0msqueeze\u001b[0m\u001b[0;34m(\u001b[0m\u001b[0;36m0\u001b[0m\u001b[0;34m)\u001b[0m\u001b[0;34m,\u001b[0m \u001b[0mcov_fake\u001b[0m\u001b[0;34m)\u001b[0m\u001b[0;34m.\u001b[0m\u001b[0mto\u001b[0m\u001b[0;34m(\u001b[0m\u001b[0mself\u001b[0m\u001b[0;34m.\u001b[0m\u001b[0morig_dtype\u001b[0m\u001b[0;34m)\u001b[0m\u001b[0;34m\u001b[0m\u001b[0;34m\u001b[0m\u001b[0m\n\u001b[0m\u001b[1;32m    391\u001b[0m \u001b[0;34m\u001b[0m\u001b[0m\n\u001b[1;32m    392\u001b[0m     \u001b[0;32mdef\u001b[0m \u001b[0mreset\u001b[0m\u001b[0;34m(\u001b[0m\u001b[0mself\u001b[0m\u001b[0;34m)\u001b[0m \u001b[0;34m->\u001b[0m \u001b[0;32mNone\u001b[0m\u001b[0;34m:\u001b[0m\u001b[0;34m\u001b[0m\u001b[0;34m\u001b[0m\u001b[0m\n",
            "\u001b[0;32m/usr/local/lib/python3.10/dist-packages/torchmetrics/image/fid.py\u001b[0m in \u001b[0;36m_compute_fid\u001b[0;34m(mu1, sigma1, mu2, sigma2)\u001b[0m\n\u001b[1;32m    175\u001b[0m     \u001b[0ma\u001b[0m \u001b[0;34m=\u001b[0m \u001b[0;34m(\u001b[0m\u001b[0mmu1\u001b[0m \u001b[0;34m-\u001b[0m \u001b[0mmu2\u001b[0m\u001b[0;34m)\u001b[0m\u001b[0;34m.\u001b[0m\u001b[0msquare\u001b[0m\u001b[0;34m(\u001b[0m\u001b[0;34m)\u001b[0m\u001b[0;34m.\u001b[0m\u001b[0msum\u001b[0m\u001b[0;34m(\u001b[0m\u001b[0mdim\u001b[0m\u001b[0;34m=\u001b[0m\u001b[0;34m-\u001b[0m\u001b[0;36m1\u001b[0m\u001b[0;34m)\u001b[0m\u001b[0;34m\u001b[0m\u001b[0;34m\u001b[0m\u001b[0m\n\u001b[1;32m    176\u001b[0m     \u001b[0mb\u001b[0m \u001b[0;34m=\u001b[0m \u001b[0msigma1\u001b[0m\u001b[0;34m.\u001b[0m\u001b[0mtrace\u001b[0m\u001b[0;34m(\u001b[0m\u001b[0;34m)\u001b[0m \u001b[0;34m+\u001b[0m \u001b[0msigma2\u001b[0m\u001b[0;34m.\u001b[0m\u001b[0mtrace\u001b[0m\u001b[0;34m(\u001b[0m\u001b[0;34m)\u001b[0m\u001b[0;34m\u001b[0m\u001b[0;34m\u001b[0m\u001b[0m\n\u001b[0;32m--> 177\u001b[0;31m     \u001b[0mc\u001b[0m \u001b[0;34m=\u001b[0m \u001b[0mtorch\u001b[0m\u001b[0;34m.\u001b[0m\u001b[0mlinalg\u001b[0m\u001b[0;34m.\u001b[0m\u001b[0meigvals\u001b[0m\u001b[0;34m(\u001b[0m\u001b[0msigma1\u001b[0m \u001b[0;34m@\u001b[0m \u001b[0msigma2\u001b[0m\u001b[0;34m)\u001b[0m\u001b[0;34m.\u001b[0m\u001b[0msqrt\u001b[0m\u001b[0;34m(\u001b[0m\u001b[0;34m)\u001b[0m\u001b[0;34m.\u001b[0m\u001b[0mreal\u001b[0m\u001b[0;34m.\u001b[0m\u001b[0msum\u001b[0m\u001b[0;34m(\u001b[0m\u001b[0mdim\u001b[0m\u001b[0;34m=\u001b[0m\u001b[0;34m-\u001b[0m\u001b[0;36m1\u001b[0m\u001b[0;34m)\u001b[0m\u001b[0;34m\u001b[0m\u001b[0;34m\u001b[0m\u001b[0m\n\u001b[0m\u001b[1;32m    178\u001b[0m \u001b[0;34m\u001b[0m\u001b[0m\n\u001b[1;32m    179\u001b[0m     \u001b[0;32mreturn\u001b[0m \u001b[0ma\u001b[0m \u001b[0;34m+\u001b[0m \u001b[0mb\u001b[0m \u001b[0;34m-\u001b[0m \u001b[0;36m2\u001b[0m \u001b[0;34m*\u001b[0m \u001b[0mc\u001b[0m\u001b[0;34m\u001b[0m\u001b[0;34m\u001b[0m\u001b[0m\n",
            "\u001b[0;31mKeyboardInterrupt\u001b[0m: "
          ]
        }
      ]
    },
    {
      "cell_type": "code",
      "source": [],
      "metadata": {
        "id": "LxLvRclm3Fj6"
      },
      "execution_count": null,
      "outputs": []
    }
  ]
}